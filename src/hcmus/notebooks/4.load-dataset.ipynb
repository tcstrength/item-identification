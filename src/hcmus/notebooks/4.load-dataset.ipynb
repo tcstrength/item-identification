{
 "cells": [
  {
   "cell_type": "code",
   "execution_count": 5,
   "metadata": {},
   "outputs": [
    {
     "name": "stdout",
     "output_type": "stream",
     "text": [
      "The autoreload extension is already loaded. To reload it, use:\n",
      "  %reload_ext autoreload\n"
     ]
    }
   ],
   "source": [
    "%load_ext autoreload\n",
    "%autoreload 2"
   ]
  },
  {
   "cell_type": "markdown",
   "metadata": {},
   "source": [
    "# 1. Load Dataset"
   ]
  },
  {
   "cell_type": "code",
   "execution_count": 6,
   "metadata": {},
   "outputs": [],
   "source": [
    "from torchvision import transforms as T\n",
    "from hcmus.core import pconf\n",
    "from hcmus.utils.viz_utils import draw_boxes\n",
    "from hcmus.lbs import LabelStudioConnector\n",
    "from hcmus.data import LbsDataset"
   ]
  },
  {
   "cell_type": "code",
   "execution_count": 7,
   "metadata": {},
   "outputs": [],
   "source": [
    "product_connector = LabelStudioConnector(\n",
    "    url=pconf.LABEL_STUDIO_URL,\n",
    "    api_key=pconf.LABEL_STUDIO_API_KEY,\n",
    "    project_id=pconf.LABEL_STUDIO_PROJECT_ID,\n",
    ")"
   ]
  },
  {
   "cell_type": "code",
   "execution_count": 9,
   "metadata": {},
   "outputs": [
    {
     "name": "stderr",
     "output_type": "stream",
     "text": [
      "Loading tasks:   0%|          | 0/100 [00:00<?, ?it/s]"
     ]
    },
    {
     "name": "stderr",
     "output_type": "stream",
     "text": [
      "Loading tasks:  16%|█▌        | 16/100 [00:06<00:33,  2.53it/s]\u001b[32m2025-03-18 21:19:23.917\u001b[0m | \u001b[33m\u001b[1mWARNING \u001b[0m | \u001b[36mhcmus.lbs._label_studio_connector\u001b[0m:\u001b[36mget_tasks\u001b[0m:\u001b[36m42\u001b[0m - \u001b[33m\u001b[1mError fetching tasks:{\"id\":\"399ff05f-4daa-446c-9ff0-b9504af3910e\",\"status_code\":404,\"version\":\"1.16.0\",\"detail\":\"Not found.\",\"exc_info\":null}\u001b[0m\n",
      "Loading tasks:  16%|█▌        | 16/100 [00:06<00:34,  2.42it/s]\n",
      "Downloading images: 100%|██████████| 1591/1591 [00:33<00:00, 46.83it/s]\n",
      "\u001b[32m2025-03-18 21:19:57.935\u001b[0m | \u001b[1mINFO    \u001b[0m | \u001b[36mhcmus.data._lbs_dataset\u001b[0m:\u001b[36m__init__\u001b[0m:\u001b[36m25\u001b[0m - \u001b[1mNumber of labels: 203\u001b[0m\n",
      "\u001b[32m2025-03-18 21:19:57.937\u001b[0m | \u001b[1mINFO    \u001b[0m | \u001b[36mhcmus.data._lbs_dataset\u001b[0m:\u001b[36m__init__\u001b[0m:\u001b[36m26\u001b[0m - \u001b[1mNumber of data points: 1591\u001b[0m\n"
     ]
    }
   ],
   "source": [
    "from torchvision import transforms as T\n",
    "# transforms = T.Compose([\n",
    "#     T.Resize((800, 800)),  # Resize\n",
    "# ])\n",
    "product_dataset = LbsDataset(product_connector)"
   ]
  },
  {
   "cell_type": "code",
   "execution_count": 5,
   "metadata": {},
   "outputs": [],
   "source": [
    "tensor, target = product_dataset[3]\n",
    "image = product_dataset.tensor_to_image(tensor)"
   ]
  },
  {
   "cell_type": "code",
   "execution_count": 9,
   "metadata": {},
   "outputs": [],
   "source": [
    "product_dataloader = product_dataset.get_dataloader(shuffle=False, batch_size=4)"
   ]
  },
  {
   "cell_type": "markdown",
   "metadata": {},
   "source": [
    "# 2. Finetune Model"
   ]
  },
  {
   "cell_type": "code",
   "execution_count": 10,
   "metadata": {},
   "outputs": [],
   "source": [
    "import torchvision\n",
    "import torch.optim as optim\n",
    "from torchvision.models.detection.faster_rcnn import FastRCNNPredictor\n",
    "device = \"mps\"\n",
    "\n",
    "model = torchvision.models.detection.fasterrcnn_resnet50_fpn(pretrained=True)\n",
    "in_features = model.roi_heads.box_predictor.cls_score.in_features\n",
    "num_classes = len(product_dataset._labels)\n",
    "model.roi_heads.box_predictor = FastRCNNPredictor(in_features, num_classes)\n",
    "\n",
    "params = [p for p in model.parameters() if p.requires_grad]\n",
    "optimizer = optim.SGD(params, lr=0.0005, momentum=0.9, weight_decay=0.0005)"
   ]
  },
  {
   "cell_type": "code",
   "execution_count": null,
   "metadata": {},
   "outputs": [],
   "source": [
    "model.to(device)\n",
    "num_epochs = 1\n",
    "for epoch in range(num_epochs):\n",
    "    model.train()\n",
    "    running_loss = 0.0\n",
    "\n",
    "    for images, targets in product_dataloader:\n",
    "        optimizer.zero_grad()\n",
    "        images = [img.to(device) for img in images]\n",
    "        targets = [{k: v.to(device) for k, v in t.items()} for t in targets]\n",
    "\n",
    "        loss_dict = model(images, targets)\n",
    "        loss = sum(loss for loss in loss_dict.values())\n",
    "\n",
    "        loss.backward()\n",
    "        optimizer.step()\n",
    "        running_loss += loss.item()\n",
    "        print(f\"Loss: {loss:.4f}\")\n",
    "\n",
    "print(\"Training Complete!\")"
   ]
  },
  {
   "cell_type": "code",
   "execution_count": null,
   "metadata": {},
   "outputs": [],
   "source": []
  }
 ],
 "metadata": {
  "kernelspec": {
   "display_name": ".venv",
   "language": "python",
   "name": "python3"
  },
  "language_info": {
   "codemirror_mode": {
    "name": "ipython",
    "version": 3
   },
   "file_extension": ".py",
   "mimetype": "text/x-python",
   "name": "python",
   "nbconvert_exporter": "python",
   "pygments_lexer": "ipython3",
   "version": "3.9.6"
  }
 },
 "nbformat": 4,
 "nbformat_minor": 2
}
