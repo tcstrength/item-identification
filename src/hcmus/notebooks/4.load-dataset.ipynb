{
 "cells": [
  {
   "cell_type": "code",
   "execution_count": 41,
   "metadata": {},
   "outputs": [
    {
     "name": "stdout",
     "output_type": "stream",
     "text": [
      "The autoreload extension is already loaded. To reload it, use:\n",
      "  %reload_ext autoreload\n"
     ]
    }
   ],
   "source": [
    "%load_ext autoreload\n",
    "%autoreload 2"
   ]
  },
  {
   "cell_type": "markdown",
   "metadata": {},
   "source": [
    "# 1. Load Dataset"
   ]
  },
  {
   "cell_type": "code",
   "execution_count": 56,
   "metadata": {},
   "outputs": [],
   "source": [
    "from hcmus.core import pconf\n",
    "from hcmus.lbs import LabelStudioConnector\n",
    "from hcmus.data import LbsDataset\n",
    "from hcmus.utils import viz_utils"
   ]
  },
  {
   "cell_type": "code",
   "execution_count": 43,
   "metadata": {},
   "outputs": [],
   "source": [
    "product_connector = LabelStudioConnector(\n",
    "    url=pconf.LABEL_STUDIO_URL,\n",
    "    api_key=pconf.LABEL_STUDIO_API_KEY,\n",
    "    project_id=pconf.LABEL_STUDIO_PROJECT_ID,\n",
    ")"
   ]
  },
  {
   "cell_type": "code",
   "execution_count": 66,
   "metadata": {},
   "outputs": [
    {
     "name": "stderr",
     "output_type": "stream",
     "text": [
      "Loading tasks:   4%|▍         | 4/100 [00:07<02:25,  1.52s/it]\u001b[32m2025-03-22 20:35:36.727\u001b[0m | \u001b[33m\u001b[1mWARNING \u001b[0m | \u001b[36mhcmus.lbs._label_studio_connector\u001b[0m:\u001b[36mget_tasks\u001b[0m:\u001b[36m42\u001b[0m - \u001b[33m\u001b[1mError fetching tasks:{\"id\":\"23951c9c-24bb-484a-bc65-e12132b5333b\",\"status_code\":404,\"version\":\"1.16.0\",\"detail\":\"Not found.\",\"exc_info\":null}\u001b[0m\n",
      "Loading tasks:   4%|▍         | 4/100 [00:07<02:55,  1.83s/it]\n",
      "Downloading images: 100%|██████████| 1591/1591 [00:00<00:00, 519876.73it/s]\n",
      "\u001b[32m2025-03-22 20:35:36.774\u001b[0m | \u001b[1mINFO    \u001b[0m | \u001b[36mhcmus.data._lbs_dataset\u001b[0m:\u001b[36m__init__\u001b[0m:\u001b[36m31\u001b[0m - \u001b[1mNumber of labels: 203\u001b[0m\n",
      "\u001b[32m2025-03-22 20:35:36.774\u001b[0m | \u001b[1mINFO    \u001b[0m | \u001b[36mhcmus.data._lbs_dataset\u001b[0m:\u001b[36m__init__\u001b[0m:\u001b[36m32\u001b[0m - \u001b[1mNumber of data points: 1591\u001b[0m\n"
     ]
    }
   ],
   "source": [
    "from torchvision import transforms as T\n",
    "product_dataset = LbsDataset(product_connector, augmentation=True)"
   ]
  },
  {
   "cell_type": "code",
   "execution_count": 103,
   "metadata": {},
   "outputs": [
    {
     "name": "stderr",
     "output_type": "stream",
     "text": [
      "/Volumes/Cucumber/Projects/item-identification/src/hcmus/data/_data_augmentation.py:20: UserWarning: To copy construct from a tensor, it is recommended to use sourceTensor.clone().detach() or sourceTensor.clone().detach().requires_grad_(True), rather than torch.tensor(sourceTensor).\n",
      "  if isinstance(t, transforms.RandomHorizontalFlip) and random.random() < t.p:\n"
     ]
    },
    {
     "data": {
      "text/plain": [
       "{'boxes': tensor([[ -51.4776, -111.7351,  678.9031,  651.2979]]),\n",
       " 'labels': tensor([74])}"
      ]
     },
     "execution_count": 103,
     "metadata": {},
     "output_type": "execute_result"
    }
   ],
   "source": [
    "tensor, target = product_dataset[1]\n",
    "target"
   ]
  },
  {
   "cell_type": "code",
   "execution_count": 9,
   "metadata": {},
   "outputs": [],
   "source": [
    "product_dataloader = product_dataset.get_dataloader(shuffle=False, batch_size=4)"
   ]
  },
  {
   "cell_type": "markdown",
   "metadata": {},
   "source": [
    "# 2. Finetune Model"
   ]
  },
  {
   "cell_type": "code",
   "execution_count": 10,
   "metadata": {},
   "outputs": [],
   "source": [
    "import torchvision\n",
    "import torch.optim as optim\n",
    "from torchvision.models.detection.faster_rcnn import FastRCNNPredictor\n",
    "device = \"mps\"\n",
    "\n",
    "model = torchvision.models.detection.fasterrcnn_resnet50_fpn(pretrained=True)\n",
    "in_features = model.roi_heads.box_predictor.cls_score.in_features\n",
    "num_classes = len(product_dataset._labels)\n",
    "model.roi_heads.box_predictor = FastRCNNPredictor(in_features, num_classes)\n",
    "\n",
    "params = [p for p in model.parameters() if p.requires_grad]\n",
    "optimizer = optim.SGD(params, lr=0.0005, momentum=0.9, weight_decay=0.0005)"
   ]
  },
  {
   "cell_type": "code",
   "execution_count": null,
   "metadata": {},
   "outputs": [],
   "source": [
    "model.to(device)\n",
    "num_epochs = 1\n",
    "for epoch in range(num_epochs):\n",
    "    model.train()\n",
    "    running_loss = 0.0\n",
    "\n",
    "    for images, targets in product_dataloader:\n",
    "        optimizer.zero_grad()\n",
    "        images = [img.to(device) for img in images]\n",
    "        targets = [{k: v.to(device) for k, v in t.items()} for t in targets]\n",
    "\n",
    "        loss_dict = model(images, targets)\n",
    "        loss = sum(loss for loss in loss_dict.values())\n",
    "\n",
    "        loss.backward()\n",
    "        optimizer.step()\n",
    "        running_loss += loss.item()\n",
    "        print(f\"Loss: {loss:.4f}\")\n",
    "\n",
    "print(\"Training Complete!\")"
   ]
  },
  {
   "cell_type": "code",
   "execution_count": null,
   "metadata": {},
   "outputs": [],
   "source": []
  }
 ],
 "metadata": {
  "kernelspec": {
   "display_name": ".venv",
   "language": "python",
   "name": "python3"
  },
  "language_info": {
   "codemirror_mode": {
    "name": "ipython",
    "version": 3
   },
   "file_extension": ".py",
   "mimetype": "text/x-python",
   "name": "python",
   "nbconvert_exporter": "python",
   "pygments_lexer": "ipython3",
   "version": "3.9.6"
  }
 },
 "nbformat": 4,
 "nbformat_minor": 2
}
