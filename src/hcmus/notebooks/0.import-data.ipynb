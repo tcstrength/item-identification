{
 "cells": [
  {
   "cell_type": "code",
   "execution_count": 1,
   "metadata": {},
   "outputs": [
    {
     "name": "stderr",
     "output_type": "stream",
     "text": [
      "\u001b[32m2025-03-08 11:32:13.522\u001b[0m | \u001b[1mINFO    \u001b[0m | \u001b[36mhcmus.core.pconf\u001b[0m:\u001b[36m<module>\u001b[0m:\u001b[36m5\u001b[0m - \u001b[1mLoad DotEnv: True\u001b[0m\n"
     ]
    }
   ],
   "source": [
    "import os\n",
    "import glob\n",
    "import requests\n",
    "from loguru import logger\n",
    "from typing import List, Dict\n",
    "from hcmus.core import pconf"
   ]
  },
  {
   "cell_type": "code",
   "execution_count": 2,
   "metadata": {},
   "outputs": [],
   "source": [
    "def chunk_list(lst, chunk_size):\n",
    "    result = []\n",
    "    for i in range(0, len(lst), chunk_size):\n",
    "        result.append(lst[i:i + chunk_size])\n",
    "    return result"
   ]
  },
  {
   "cell_type": "code",
   "execution_count": 12,
   "metadata": {},
   "outputs": [],
   "source": [
    "def list_all_images(folder_path: str) -> List[str]: \n",
    "    image_files = []\n",
    "    extensions = [\"jpg\", \"png\", \"JPG\", \"PNG\"]\n",
    "    for ext in extensions:\n",
    "        image_files.extend(glob.glob(f\"{folder_path}/**/*.{ext}\", recursive=True))\n",
    "\n",
    "    return image_files"
   ]
  },
  {
   "cell_type": "code",
   "execution_count": 13,
   "metadata": {},
   "outputs": [],
   "source": [
    "def get_filename_from_path(path: str) -> str:\n",
    "    return os.path.basename(path)"
   ]
  },
  {
   "cell_type": "code",
   "execution_count": 14,
   "metadata": {},
   "outputs": [],
   "source": [
    "def get_label_studio_headers() -> Dict[str, str]:\n",
    "    headers = {\n",
    "        \"Authorization\": f\"Token {pconf.LABEL_STUDIO_API_KEY}\"\n",
    "    }\n",
    "    return headers"
   ]
  },
  {
   "cell_type": "code",
   "execution_count": 36,
   "metadata": {},
   "outputs": [],
   "source": [
    "# def get_uploaded_tasks():\n",
    "#     headers = get_label_studio_headers()\n",
    "#     endpoint = f\"{pconf.LABEL_STUDIO_URL}/api/projects/{pconf.LABEL_STUDIO_PROJECT_ID}/tasks/\"\n",
    "#     response = requests.get(\n",
    "#         endpoint,\n",
    "#         headers=headers,\n",
    "#     )\n",
    "#     if response.status_code == 200:\n",
    "#         tasks = response.json()\n",
    "#         files = {task[\"data\"].get(\"image\", \"\") for task in tasks}  # Extract uploaded file paths\n",
    "#         files = {get_filename_from_path(x) for x in files}\n",
    "#         return files\n",
    "#     else:\n",
    "#         print(\"Error fetching tasks:\", response.text)\n",
    "#         return set()\n",
    "def get_uploaded_tasks():\n",
    "    \"\"\"Fetch all tasks from Label Studio with pagination\"\"\"\n",
    "    uploaded_files = set()\n",
    "    page = 1\n",
    "    page_size = 100  # You can increase this if needed\n",
    "    headers = get_label_studio_headers()\n",
    "    endpoint = f\"{pconf.LABEL_STUDIO_URL}/api/projects/{pconf.LABEL_STUDIO_PROJECT_ID}/tasks/\"\n",
    "\n",
    "    while True:\n",
    "        response = requests.get(\n",
    "            endpoint,\n",
    "            headers=headers,\n",
    "            params={\"page\": page, \"page_size\": page_size},\n",
    "        )\n",
    "\n",
    "        if response.status_code != 200:\n",
    "            logger.warning(\"Error fetching tasks:\" + response.text)\n",
    "            break\n",
    "\n",
    "        tasks = response.json()\n",
    "        if not tasks:  # Stop when no more tasks are returned\n",
    "            break\n",
    "\n",
    "        uploaded_files.update(task[\"data\"].get(\"image\", \"\") for task in tasks)\n",
    "        page += 1  # Move to the next page\n",
    "\n",
    "    return uploaded_files"
   ]
  },
  {
   "cell_type": "code",
   "execution_count": 37,
   "metadata": {},
   "outputs": [],
   "source": [
    "def upload_file(file_path: str, uploaded_tasks):\n",
    "    filename = get_filename_from_path(file_path)\n",
    "    for task in uploaded_tasks:\n",
    "        if filename not in task: continue\n",
    "        logger.info(f\"File already exists: {filename}\") \n",
    "        return\n",
    "\n",
    "    headers = get_label_studio_headers()\n",
    "    with open(file_path, \"rb\") as f:\n",
    "        files = {\"file\": f}\n",
    "        endpoint = f\"{pconf.LABEL_STUDIO_URL}/api/projects/{pconf.LABEL_STUDIO_PROJECT_ID}/import\"\n",
    "        response = requests.post(\n",
    "            endpoint,\n",
    "            files=files,\n",
    "            headers=headers,\n",
    "        )\n",
    "    \n",
    "    if response.status_code == 201:\n",
    "        print(f\"Uploaded: {file_path}\")\n",
    "        return response.json()\n",
    "    else:\n",
    "        print(f\"Error uploading {file_path}: {response.text}\")\n",
    "        return None\n",
    "\n",
    "def upload_multiple_files(chunk: List[str], uploaded_tasks):\n",
    "    for file_path in chunk:\n",
    "        upload_file(file_path, uploaded_tasks)"
   ]
  },
  {
   "cell_type": "code",
   "execution_count": 38,
   "metadata": {},
   "outputs": [
    {
     "name": "stderr",
     "output_type": "stream",
     "text": [
      "\u001b[32m2025-03-08 11:42:54.482\u001b[0m | \u001b[1mINFO    \u001b[0m | \u001b[36m__main__\u001b[0m:\u001b[36m<module>\u001b[0m:\u001b[36m3\u001b[0m - \u001b[1mNumber of chunks: 32\u001b[0m\n"
     ]
    }
   ],
   "source": [
    "files = list_all_images(pconf.IMPORT_DATA_DIR) \n",
    "chunks = chunk_list(files, 50)\n",
    "logger.info(f\"Number of chunks: {len(chunks)}\")"
   ]
  },
  {
   "cell_type": "code",
   "execution_count": 39,
   "metadata": {},
   "outputs": [
    {
     "name": "stderr",
     "output_type": "stream",
     "text": [
      "\u001b[32m2025-03-08 11:42:56.391\u001b[0m | \u001b[33m\u001b[1mWARNING \u001b[0m | \u001b[36m__main__\u001b[0m:\u001b[36mget_uploaded_tasks\u001b[0m:\u001b[36m32\u001b[0m - \u001b[33m\u001b[1mError fetching tasks:{\"id\":\"5634c4e5-72ab-410c-a328-844105224cdd\",\"status_code\":404,\"version\":\"1.16.0\",\"detail\":\"Not found.\",\"exc_info\":null}\u001b[0m\n",
      "\u001b[32m2025-03-08 11:42:56.393\u001b[0m | \u001b[1mINFO    \u001b[0m | \u001b[36m__main__\u001b[0m:\u001b[36m<module>\u001b[0m:\u001b[36m2\u001b[0m - \u001b[1mNumber of uploaded tasks: 189\u001b[0m\n"
     ]
    }
   ],
   "source": [
    "uploaded_tasks =  get_uploaded_tasks()\n",
    "logger.info(f\"Number of uploaded tasks: {len(uploaded_tasks)}\")"
   ]
  },
  {
   "cell_type": "code",
   "execution_count": null,
   "metadata": {},
   "outputs": [
    {
     "name": "stderr",
     "output_type": "stream",
     "text": [
      "\u001b[32m2025-03-08 11:42:59.342\u001b[0m | \u001b[1mINFO    \u001b[0m | \u001b[36m__main__\u001b[0m:\u001b[36mupload_file\u001b[0m:\u001b[36m5\u001b[0m - \u001b[1mFile already exists: 20250303_122532.jpg\u001b[0m\n",
      "\u001b[32m2025-03-08 11:42:59.344\u001b[0m | \u001b[1mINFO    \u001b[0m | \u001b[36m__main__\u001b[0m:\u001b[36mupload_file\u001b[0m:\u001b[36m5\u001b[0m - \u001b[1mFile already exists: IMG_20250224_131820.jpg\u001b[0m\n",
      "\u001b[32m2025-03-08 11:42:59.344\u001b[0m | \u001b[1mINFO    \u001b[0m | \u001b[36m__main__\u001b[0m:\u001b[36mupload_file\u001b[0m:\u001b[36m5\u001b[0m - \u001b[1mFile already exists: 20250303_122533.jpg\u001b[0m\n",
      "\u001b[32m2025-03-08 11:42:59.346\u001b[0m | \u001b[1mINFO    \u001b[0m | \u001b[36m__main__\u001b[0m:\u001b[36mupload_file\u001b[0m:\u001b[36m5\u001b[0m - \u001b[1mFile already exists: IMG_20250224_131944.jpg\u001b[0m\n",
      "\u001b[32m2025-03-08 11:42:59.346\u001b[0m | \u001b[1mINFO    \u001b[0m | \u001b[36m__main__\u001b[0m:\u001b[36mupload_file\u001b[0m:\u001b[36m5\u001b[0m - \u001b[1mFile already exists: IMG_20250224_131945.jpg\u001b[0m\n",
      "\u001b[32m2025-03-08 11:42:59.347\u001b[0m | \u001b[1mINFO    \u001b[0m | \u001b[36m__main__\u001b[0m:\u001b[36mupload_file\u001b[0m:\u001b[36m5\u001b[0m - \u001b[1mFile already exists: IMG_20250224_131951.jpg\u001b[0m\n",
      "\u001b[32m2025-03-08 11:42:59.347\u001b[0m | \u001b[1mINFO    \u001b[0m | \u001b[36m__main__\u001b[0m:\u001b[36mupload_file\u001b[0m:\u001b[36m5\u001b[0m - \u001b[1mFile already exists: IMG_20250224_131947.jpg\u001b[0m\n",
      "\u001b[32m2025-03-08 11:42:59.347\u001b[0m | \u001b[1mINFO    \u001b[0m | \u001b[36m__main__\u001b[0m:\u001b[36mupload_file\u001b[0m:\u001b[36m5\u001b[0m - \u001b[1mFile already exists: 20250303_122535.jpg\u001b[0m\n",
      "\u001b[32m2025-03-08 11:42:59.347\u001b[0m | \u001b[1mINFO    \u001b[0m | \u001b[36m__main__\u001b[0m:\u001b[36mupload_file\u001b[0m:\u001b[36m5\u001b[0m - \u001b[1mFile already exists: IMG_20250224_131935.jpg\u001b[0m\n",
      "\u001b[32m2025-03-08 11:42:59.348\u001b[0m | \u001b[1mINFO    \u001b[0m | \u001b[36m__main__\u001b[0m:\u001b[36mupload_file\u001b[0m:\u001b[36m5\u001b[0m - \u001b[1mFile already exists: IMG_20250224_131909.jpg\u001b[0m\n",
      "\u001b[32m2025-03-08 11:42:59.348\u001b[0m | \u001b[1mINFO    \u001b[0m | \u001b[36m__main__\u001b[0m:\u001b[36mupload_file\u001b[0m:\u001b[36m5\u001b[0m - \u001b[1mFile already exists: IMG_20250224_131840.jpg\u001b[0m\n",
      "\u001b[32m2025-03-08 11:42:59.348\u001b[0m | \u001b[1mINFO    \u001b[0m | \u001b[36m__main__\u001b[0m:\u001b[36mupload_file\u001b[0m:\u001b[36m5\u001b[0m - \u001b[1mFile already exists: 20250303_122545.jpg\u001b[0m\n",
      "\u001b[32m2025-03-08 11:42:59.349\u001b[0m | \u001b[1mINFO    \u001b[0m | \u001b[36m__main__\u001b[0m:\u001b[36mupload_file\u001b[0m:\u001b[36m5\u001b[0m - \u001b[1mFile already exists: IMG_20250224_131842.jpg\u001b[0m\n",
      "\u001b[32m2025-03-08 11:42:59.349\u001b[0m | \u001b[1mINFO    \u001b[0m | \u001b[36m__main__\u001b[0m:\u001b[36mupload_file\u001b[0m:\u001b[36m5\u001b[0m - \u001b[1mFile already exists: IMG_20250224_131937.jpg\u001b[0m\n",
      "\u001b[32m2025-03-08 11:42:59.349\u001b[0m | \u001b[1mINFO    \u001b[0m | \u001b[36m__main__\u001b[0m:\u001b[36mupload_file\u001b[0m:\u001b[36m5\u001b[0m - \u001b[1mFile already exists: 20250303_122540.jpg\u001b[0m\n",
      "\u001b[32m2025-03-08 11:42:59.349\u001b[0m | \u001b[1mINFO    \u001b[0m | \u001b[36m__main__\u001b[0m:\u001b[36mupload_file\u001b[0m:\u001b[36m5\u001b[0m - \u001b[1mFile already exists: IMG_20250224_131927.jpg\u001b[0m\n",
      "\u001b[32m2025-03-08 11:42:59.350\u001b[0m | \u001b[1mINFO    \u001b[0m | \u001b[36m__main__\u001b[0m:\u001b[36mupload_file\u001b[0m:\u001b[36m5\u001b[0m - \u001b[1mFile already exists: IMG_20250224_131932.jpg\u001b[0m\n",
      "\u001b[32m2025-03-08 11:42:59.350\u001b[0m | \u001b[1mINFO    \u001b[0m | \u001b[36m__main__\u001b[0m:\u001b[36mupload_file\u001b[0m:\u001b[36m5\u001b[0m - \u001b[1mFile already exists: IMG_20250224_131930.jpg\u001b[0m\n",
      "\u001b[32m2025-03-08 11:42:59.350\u001b[0m | \u001b[1mINFO    \u001b[0m | \u001b[36m__main__\u001b[0m:\u001b[36mupload_file\u001b[0m:\u001b[36m5\u001b[0m - \u001b[1mFile already exists: IMG_20250224_131845.jpg\u001b[0m\n",
      "\u001b[32m2025-03-08 11:42:59.350\u001b[0m | \u001b[1mINFO    \u001b[0m | \u001b[36m__main__\u001b[0m:\u001b[36mupload_file\u001b[0m:\u001b[36m5\u001b[0m - \u001b[1mFile already exists: 20250303_122542.jpg\u001b[0m\n",
      "\u001b[32m2025-03-08 11:42:59.351\u001b[0m | \u001b[1mINFO    \u001b[0m | \u001b[36m__main__\u001b[0m:\u001b[36mupload_file\u001b[0m:\u001b[36m5\u001b[0m - \u001b[1mFile already exists: IMG_20250224_131900.jpg\u001b[0m\n",
      "\u001b[32m2025-03-08 11:42:59.351\u001b[0m | \u001b[1mINFO    \u001b[0m | \u001b[36m__main__\u001b[0m:\u001b[36mupload_file\u001b[0m:\u001b[36m5\u001b[0m - \u001b[1mFile already exists: IMG_20250224_131902.jpg\u001b[0m\n",
      "\u001b[32m2025-03-08 11:42:59.351\u001b[0m | \u001b[1mINFO    \u001b[0m | \u001b[36m__main__\u001b[0m:\u001b[36mupload_file\u001b[0m:\u001b[36m5\u001b[0m - \u001b[1mFile already exists: IMG_20250224_131906.jpg\u001b[0m\n",
      "\u001b[32m2025-03-08 11:42:59.351\u001b[0m | \u001b[1mINFO    \u001b[0m | \u001b[36m__main__\u001b[0m:\u001b[36mupload_file\u001b[0m:\u001b[36m5\u001b[0m - \u001b[1mFile already exists: IMG_20250224_131904.jpg\u001b[0m\n",
      "\u001b[32m2025-03-08 11:42:59.352\u001b[0m | \u001b[1mINFO    \u001b[0m | \u001b[36m__main__\u001b[0m:\u001b[36mupload_file\u001b[0m:\u001b[36m5\u001b[0m - \u001b[1mFile already exists: IMG_20250224_131803.jpg\u001b[0m\n",
      "\u001b[32m2025-03-08 11:42:59.354\u001b[0m | \u001b[1mINFO    \u001b[0m | \u001b[36m__main__\u001b[0m:\u001b[36mupload_file\u001b[0m:\u001b[36m5\u001b[0m - \u001b[1mFile already exists: IMG_20250224_131816.jpg\u001b[0m\n",
      "\u001b[32m2025-03-08 11:42:59.355\u001b[0m | \u001b[1mINFO    \u001b[0m | \u001b[36m__main__\u001b[0m:\u001b[36mupload_file\u001b[0m:\u001b[36m5\u001b[0m - \u001b[1mFile already exists: 20250303_122539.jpg\u001b[0m\n",
      "\u001b[32m2025-03-08 11:42:59.356\u001b[0m | \u001b[1mINFO    \u001b[0m | \u001b[36m__main__\u001b[0m:\u001b[36mupload_file\u001b[0m:\u001b[36m5\u001b[0m - \u001b[1mFile already exists: IMG_20250224_131949.jpg\u001b[0m\n",
      "\u001b[32m2025-03-08 11:42:59.358\u001b[0m | \u001b[1mINFO    \u001b[0m | \u001b[36m__main__\u001b[0m:\u001b[36mupload_file\u001b[0m:\u001b[36m5\u001b[0m - \u001b[1mFile already exists: IMG_20250224_131815.jpg\u001b[0m\n",
      "\u001b[32m2025-03-08 11:42:59.361\u001b[0m | \u001b[1mINFO    \u001b[0m | \u001b[36m__main__\u001b[0m:\u001b[36mupload_file\u001b[0m:\u001b[36m5\u001b[0m - \u001b[1mFile already exists: IMG_20250224_131805.jpg\u001b[0m\n",
      "\u001b[32m2025-03-08 11:42:59.361\u001b[0m | \u001b[1mINFO    \u001b[0m | \u001b[36m__main__\u001b[0m:\u001b[36mupload_file\u001b[0m:\u001b[36m5\u001b[0m - \u001b[1mFile already exists: IMG_20250224_131812.jpg\u001b[0m\n",
      "\u001b[32m2025-03-08 11:42:59.361\u001b[0m | \u001b[1mINFO    \u001b[0m | \u001b[36m__main__\u001b[0m:\u001b[36mupload_file\u001b[0m:\u001b[36m5\u001b[0m - \u001b[1mFile already exists: IMG_20250224_131755.jpg\u001b[0m\n",
      "\u001b[32m2025-03-08 11:42:59.361\u001b[0m | \u001b[1mINFO    \u001b[0m | \u001b[36m__main__\u001b[0m:\u001b[36mupload_file\u001b[0m:\u001b[36m5\u001b[0m - \u001b[1mFile already exists: IMG_20250224_131807.jpg\u001b[0m\n",
      "\u001b[32m2025-03-08 11:42:59.362\u001b[0m | \u001b[1mINFO    \u001b[0m | \u001b[36m__main__\u001b[0m:\u001b[36mupload_file\u001b[0m:\u001b[36m5\u001b[0m - \u001b[1mFile already exists: IMG_20250224_131813.jpg\u001b[0m\n"
     ]
    },
    {
     "name": "stdout",
     "output_type": "stream",
     "text": [
      "Uploaded: /Volumes/Cucumber/Projects/item-identification/local/Beverages - Juice/IMG_20250303_123358_428.jpg\n",
      "Uploaded: /Volumes/Cucumber/Projects/item-identification/local/Beverages - Juice/IMG_20250303_123419_655.jpg\n",
      "Uploaded: /Volumes/Cucumber/Projects/item-identification/local/Beverages - Juice/z6354735949699_11161808441deaa12fae74e3da93e146.jpg\n",
      "Uploaded: /Volumes/Cucumber/Projects/item-identification/local/Beverages - Juice/IMG_20250303_123253_613.jpg\n",
      "Uploaded: /Volumes/Cucumber/Projects/item-identification/local/Beverages - Juice/IMG_20250303_123245_319.jpg\n",
      "Uploaded: /Volumes/Cucumber/Projects/item-identification/local/Beverages - Juice/z6354735949715_976e3f26d07b9a68ea778941e1de69cb.jpg\n",
      "Uploaded: /Volumes/Cucumber/Projects/item-identification/local/Beverages - Juice/z6354735978681_325ce3c3fe38b5fcac78c637a453816b.jpg\n",
      "Uploaded: /Volumes/Cucumber/Projects/item-identification/local/Beverages - Juice/z6354735965264_7e9047ce8bfc940ec341f1dd2e61c3a0.jpg\n",
      "Uploaded: /Volumes/Cucumber/Projects/item-identification/local/Beverages - Juice/z6354735965583_b064941fa7d82d7a0bfda6be6f3732c2.jpg\n",
      "Uploaded: /Volumes/Cucumber/Projects/item-identification/local/Beverages - Juice/z6354735998215_fe0a1398ec333055d5f4cc474c7573f3.jpg\n",
      "Uploaded: /Volumes/Cucumber/Projects/item-identification/local/Beverages - Juice/z6354735978913_94b181a60a7264e1f6ca72ea65a04b10.jpg\n",
      "Uploaded: /Volumes/Cucumber/Projects/item-identification/local/Beverages - Juice/IMG_20250303_123249_926.jpg\n",
      "Uploaded: /Volumes/Cucumber/Projects/item-identification/local/Beverages - Juice/IMG_20250303_123302_295.jpg\n",
      "Uploaded: /Volumes/Cucumber/Projects/item-identification/local/Beverages - Juice/z6354735995776_623dab05d2643e62ef21fdca8a182919.jpg\n",
      "Uploaded: /Volumes/Cucumber/Projects/item-identification/local/Beverages - Juice/IMG_20250303_123251_615.jpg\n"
     ]
    }
   ],
   "source": [
    "for chunk in chunks:\n",
    "    upload_multiple_files(chunk, uploaded_tasks)"
   ]
  },
  {
   "cell_type": "code",
   "execution_count": null,
   "metadata": {},
   "outputs": [],
   "source": []
  }
 ],
 "metadata": {
  "kernelspec": {
   "display_name": "item-identification-ZKeybWdI-py3.12",
   "language": "python",
   "name": "python3"
  },
  "language_info": {
   "codemirror_mode": {
    "name": "ipython",
    "version": 3
   },
   "file_extension": ".py",
   "mimetype": "text/x-python",
   "name": "python",
   "nbconvert_exporter": "python",
   "pygments_lexer": "ipython3",
   "version": "3.12.9"
  }
 },
 "nbformat": 4,
 "nbformat_minor": 2
}
