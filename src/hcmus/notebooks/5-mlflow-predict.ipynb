{
 "cells": [
  {
   "cell_type": "code",
   "execution_count": 14,
   "metadata": {},
   "outputs": [],
   "source": [
    "import mlflow\n",
    "import torch\n",
    "from hcmus.core import appconfig\n",
    "from hcmus.core import appconfig\n",
    "from hcmus.lbs import LabelStudioConnector\n",
    "from hcmus.data import LbsDataset"
   ]
  },
  {
   "cell_type": "code",
   "execution_count": 15,
   "metadata": {},
   "outputs": [],
   "source": [
    "logged_model = \"runs:/542c0fa4f6f94bbdbbb7e196390a3f39/model\""
   ]
  },
  {
   "cell_type": "code",
   "execution_count": 10,
   "metadata": {},
   "outputs": [
    {
     "name": "stderr",
     "output_type": "stream",
     "text": [
      "Downloading artifacts: 100%|██████████| 6/6 [00:12<00:00,  2.04s/it]   \n",
      "2025/03/30 16:59:32 WARNING mlflow.pytorch: Stored model version '2.6.0+cu124' does not match installed PyTorch version '2.6.0'\n"
     ]
    }
   ],
   "source": [
    "loaded_model = mlflow.pytorch.load_model(logged_model, map_location=torch.device(\"cpu\"))"
   ]
  },
  {
   "cell_type": "code",
   "execution_count": 37,
   "metadata": {},
   "outputs": [
    {
     "name": "stderr",
     "output_type": "stream",
     "text": [
      "Loading tasks:   4%|▍         | 4/100 [00:05<02:00,  1.26s/it]\u001b[32m2025-03-30 17:17:25.190\u001b[0m | \u001b[33m\u001b[1mWARNING \u001b[0m | \u001b[36mhcmus.lbs._label_studio_connector\u001b[0m:\u001b[36mget_tasks\u001b[0m:\u001b[36m42\u001b[0m - \u001b[33m\u001b[1mError fetching tasks:{\"id\":\"e9fd67c8-8a38-485c-b11e-1db9550feef6\",\"status_code\":404,\"version\":\"1.16.0\",\"detail\":\"Not found.\",\"exc_info\":null}\u001b[0m\n",
      "Loading tasks:   4%|▍         | 4/100 [00:05<02:22,  1.49s/it]\n",
      "Downloading images: 100%|██████████| 1640/1640 [00:14<00:00, 112.37it/s]\n",
      "\u001b[32m2025-03-30 17:17:39.826\u001b[0m | \u001b[1mINFO    \u001b[0m | \u001b[36mhcmus.data._lbs_dataset\u001b[0m:\u001b[36m__init__\u001b[0m:\u001b[36m33\u001b[0m - \u001b[1mNumber of labels: 209\u001b[0m\n",
      "\u001b[32m2025-03-30 17:17:39.828\u001b[0m | \u001b[1mINFO    \u001b[0m | \u001b[36mhcmus.data._lbs_dataset\u001b[0m:\u001b[36m__init__\u001b[0m:\u001b[36m34\u001b[0m - \u001b[1mNumber of data points: 1640\u001b[0m\n"
     ]
    }
   ],
   "source": [
    "val_connector = LabelStudioConnector(\n",
    "    url=appconfig.LABEL_STUDIO_URL,\n",
    "    api_key=appconfig.LABEL_STUDIO_API_KEY,\n",
    "    project_id=appconfig.LABEL_STUDIO_PROJECT_MAPPING[\"train\"],\n",
    ")\n",
    "val_dataset = LbsDataset(val_connector, device=\"cpu\", augmentation=True)"
   ]
  },
  {
   "cell_type": "code",
   "execution_count": 44,
   "metadata": {},
   "outputs": [],
   "source": [
    "image, target = val_dataset[3]"
   ]
  },
  {
   "cell_type": "code",
   "execution_count": 45,
   "metadata": {},
   "outputs": [
    {
     "data": {
      "text/plain": [
       "[{'boxes': tensor([], size=(0, 4), grad_fn=<StackBackward0>),\n",
       "  'labels': tensor([], dtype=torch.int64),\n",
       "  'scores': tensor([], grad_fn=<IndexBackward0>)}]"
      ]
     },
     "execution_count": 45,
     "metadata": {},
     "output_type": "execute_result"
    }
   ],
   "source": [
    "loaded_model.forward(image.unsqueeze(0))"
   ]
  },
  {
   "cell_type": "code",
   "execution_count": null,
   "metadata": {},
   "outputs": [],
   "source": []
  }
 ],
 "metadata": {
  "kernelspec": {
   "display_name": ".venv",
   "language": "python",
   "name": "python3"
  },
  "language_info": {
   "codemirror_mode": {
    "name": "ipython",
    "version": 3
   },
   "file_extension": ".py",
   "mimetype": "text/x-python",
   "name": "python",
   "nbconvert_exporter": "python",
   "pygments_lexer": "ipython3",
   "version": "3.9.6"
  }
 },
 "nbformat": 4,
 "nbformat_minor": 2
}
