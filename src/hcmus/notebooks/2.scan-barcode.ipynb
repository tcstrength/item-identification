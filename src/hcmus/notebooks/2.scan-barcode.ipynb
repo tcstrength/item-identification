{
 "cells": [
  {
   "cell_type": "code",
   "execution_count": 10,
   "metadata": {},
   "outputs": [],
   "source": [
    "import cv2\n",
    "import glob\n",
    "import pandas as pd\n",
    "from typing import List\n",
    "from tqdm import tqdm\n",
    "from pyzbar.pyzbar import decode\n",
    "from hcmus.core import pconf"
   ]
  },
  {
   "cell_type": "code",
   "execution_count": 2,
   "metadata": {},
   "outputs": [],
   "source": [
    "def list_all_images(folder_path: str) -> List[str]: \n",
    "    image_files = []\n",
    "    extensions = [\"jpg\", \"png\", \"JPG\", \"PNG\"]\n",
    "    for ext in extensions:\n",
    "        image_files.extend(glob.glob(f\"{folder_path}/**/*.{ext}\", recursive=True))\n",
    "\n",
    "    return image_files"
   ]
  },
  {
   "cell_type": "code",
   "execution_count": 3,
   "metadata": {},
   "outputs": [],
   "source": [
    "def scan_barcode(image_path: str):\n",
    "    image = cv2.imread(image_path)\n",
    "    barcodes = decode(image)\n",
    "    result = [] \n",
    "    if barcodes:\n",
    "        for barcode in barcodes:\n",
    "            barcode_data = barcode.data.decode(\"utf-8\")\n",
    "            barcode_type = barcode.type\n",
    "            result.append({\n",
    "                \"data\": barcode_data,\n",
    "                \"type\": barcode_type,\n",
    "                \"path\": image_path\n",
    "            })\n",
    "\n",
    "    return result"
   ]
  },
  {
   "cell_type": "code",
   "execution_count": 4,
   "metadata": {},
   "outputs": [],
   "source": [
    "image_paths = list_all_images(pconf.IMPORT_DATA_DIR)"
   ]
  },
  {
   "cell_type": "code",
   "execution_count": 5,
   "metadata": {},
   "outputs": [
    {
     "name": "stderr",
     "output_type": "stream",
     "text": [
      " 11%|█         | 170/1598 [00:48<06:04,  3.92it/s]WARNING: decoder/databar.c:1211: _zbar_decode_databar: Assertion \"seg->finder >= 0\" failed.\n",
      "\ti=29 f=-1(010) part=1\n",
      " 63%|██████▎   | 1000/1598 [04:21<04:27,  2.23it/s]WARNING: decoder/databar.c:1211: _zbar_decode_databar: Assertion \"seg->finder >= 0\" failed.\n",
      "\ti=24 f=-1(000) part=0\n",
      " 83%|████████▎ | 1324/1598 [05:54<01:11,  3.83it/s]WARNING: decoder/databar.c:1211: _zbar_decode_databar: Assertion \"seg->finder >= 0\" failed.\n",
      "\ti=21 f=-1(010) part=0\n",
      " 93%|█████████▎| 1479/1598 [06:39<00:23,  5.11it/s]WARNING: decoder/databar.c:1211: _zbar_decode_databar: Assertion \"seg->finder >= 0\" failed.\n",
      "\ti=31 f=-1(101) part=0\n",
      "100%|██████████| 1598/1598 [06:53<00:00,  3.87it/s]\n"
     ]
    }
   ],
   "source": [
    "all_barcodes = []\n",
    "for image_path in tqdm(image_paths):\n",
    "    all_barcodes.extend(scan_barcode(image_path))"
   ]
  },
  {
   "cell_type": "code",
   "execution_count": 12,
   "metadata": {},
   "outputs": [
    {
     "data": {
      "text/html": [
       "<div>\n",
       "<style scoped>\n",
       "    .dataframe tbody tr th:only-of-type {\n",
       "        vertical-align: middle;\n",
       "    }\n",
       "\n",
       "    .dataframe tbody tr th {\n",
       "        vertical-align: top;\n",
       "    }\n",
       "\n",
       "    .dataframe thead th {\n",
       "        text-align: right;\n",
       "    }\n",
       "</style>\n",
       "<table border=\"1\" class=\"dataframe\">\n",
       "  <thead>\n",
       "    <tr style=\"text-align: right;\">\n",
       "      <th></th>\n",
       "      <th>Barcode</th>\n",
       "      <th>type</th>\n",
       "      <th>Example File</th>\n",
       "    </tr>\n",
       "  </thead>\n",
       "  <tbody>\n",
       "    <tr>\n",
       "      <th>0</th>\n",
       "      <td>8801051128178</td>\n",
       "      <td>EAN13</td>\n",
       "      <td>/Volumes/Cucumber/Projects/item-identification...</td>\n",
       "    </tr>\n",
       "    <tr>\n",
       "      <th>1</th>\n",
       "      <td>8935030221359</td>\n",
       "      <td>EAN13</td>\n",
       "      <td>/Volumes/Cucumber/Projects/item-identification...</td>\n",
       "    </tr>\n",
       "    <tr>\n",
       "      <th>2</th>\n",
       "      <td>8934868186540</td>\n",
       "      <td>EAN13</td>\n",
       "      <td>/Volumes/Cucumber/Projects/item-identification...</td>\n",
       "    </tr>\n",
       "  </tbody>\n",
       "</table>\n",
       "</div>"
      ],
      "text/plain": [
       "         Barcode   type                                       Example File\n",
       "0  8801051128178  EAN13  /Volumes/Cucumber/Projects/item-identification...\n",
       "1  8935030221359  EAN13  /Volumes/Cucumber/Projects/item-identification...\n",
       "2  8934868186540  EAN13  /Volumes/Cucumber/Projects/item-identification..."
      ]
     },
     "execution_count": 12,
     "metadata": {},
     "output_type": "execute_result"
    }
   ],
   "source": [
    "df = pd.read_json(\"2.scanned-barcodes.json\")\n",
    "df = df.rename(columns={\n",
    "    \"data\": \"Barcode\",\n",
    "    \"path\": \"Example File\"\n",
    "})\n",
    "df.head(3)"
   ]
  },
  {
   "cell_type": "code",
   "execution_count": 14,
   "metadata": {},
   "outputs": [],
   "source": [
    "df = df[df[\"type\"] == \"EAN13\"]\n",
    "df = df.drop_duplicates(subset=[\"Barcode\"], keep=\"first\")"
   ]
  },
  {
   "cell_type": "code",
   "execution_count": 15,
   "metadata": {},
   "outputs": [],
   "source": [
    "df.to_csv(\"2.scanned-barcodes.csv\")"
   ]
  },
  {
   "cell_type": "code",
   "execution_count": null,
   "metadata": {},
   "outputs": [],
   "source": []
  }
 ],
 "metadata": {
  "kernelspec": {
   "display_name": "item-identification-ZKeybWdI-py3.12",
   "language": "python",
   "name": "python3"
  },
  "language_info": {
   "codemirror_mode": {
    "name": "ipython",
    "version": 3
   },
   "file_extension": ".py",
   "mimetype": "text/x-python",
   "name": "python",
   "nbconvert_exporter": "python",
   "pygments_lexer": "ipython3",
   "version": "3.12.9"
  }
 },
 "nbformat": 4,
 "nbformat_minor": 2
}
