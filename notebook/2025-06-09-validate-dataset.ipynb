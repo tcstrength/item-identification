{
 "cells": [
  {
   "cell_type": "code",
   "execution_count": 1,
   "metadata": {},
   "outputs": [
    {
     "name": "stdout",
     "output_type": "stream",
     "text": [
      "Requirement already satisfied: pycocotools in /Volumes/Cucumber/Projects/item-identification/.venv/lib/python3.9/site-packages (2.0.8)\n",
      "Requirement already satisfied: matplotlib>=2.1.0 in /Volumes/Cucumber/Projects/item-identification/.venv/lib/python3.9/site-packages (from pycocotools) (3.9.4)\n",
      "Requirement already satisfied: numpy in /Volumes/Cucumber/Projects/item-identification/.venv/lib/python3.9/site-packages (from pycocotools) (2.0.2)\n",
      "Requirement already satisfied: contourpy>=1.0.1 in /Volumes/Cucumber/Projects/item-identification/.venv/lib/python3.9/site-packages (from matplotlib>=2.1.0->pycocotools) (1.3.0)\n",
      "Requirement already satisfied: cycler>=0.10 in /Volumes/Cucumber/Projects/item-identification/.venv/lib/python3.9/site-packages (from matplotlib>=2.1.0->pycocotools) (0.12.1)\n",
      "Requirement already satisfied: fonttools>=4.22.0 in /Volumes/Cucumber/Projects/item-identification/.venv/lib/python3.9/site-packages (from matplotlib>=2.1.0->pycocotools) (4.57.0)\n",
      "Requirement already satisfied: kiwisolver>=1.3.1 in /Volumes/Cucumber/Projects/item-identification/.venv/lib/python3.9/site-packages (from matplotlib>=2.1.0->pycocotools) (1.4.7)\n",
      "Requirement already satisfied: packaging>=20.0 in /Volumes/Cucumber/Projects/item-identification/.venv/lib/python3.9/site-packages (from matplotlib>=2.1.0->pycocotools) (25.0)\n",
      "Requirement already satisfied: pillow>=8 in /Volumes/Cucumber/Projects/item-identification/.venv/lib/python3.9/site-packages (from matplotlib>=2.1.0->pycocotools) (11.2.1)\n",
      "Requirement already satisfied: pyparsing>=2.3.1 in /Volumes/Cucumber/Projects/item-identification/.venv/lib/python3.9/site-packages (from matplotlib>=2.1.0->pycocotools) (3.2.3)\n",
      "Requirement already satisfied: python-dateutil>=2.7 in /Volumes/Cucumber/Projects/item-identification/.venv/lib/python3.9/site-packages (from matplotlib>=2.1.0->pycocotools) (2.9.0.post0)\n",
      "Requirement already satisfied: importlib-resources>=3.2.0 in /Volumes/Cucumber/Projects/item-identification/.venv/lib/python3.9/site-packages (from matplotlib>=2.1.0->pycocotools) (6.5.2)\n",
      "Requirement already satisfied: zipp>=3.1.0 in /Volumes/Cucumber/Projects/item-identification/.venv/lib/python3.9/site-packages (from importlib-resources>=3.2.0->matplotlib>=2.1.0->pycocotools) (3.21.0)\n",
      "Requirement already satisfied: six>=1.5 in /Volumes/Cucumber/Projects/item-identification/.venv/lib/python3.9/site-packages (from python-dateutil>=2.7->matplotlib>=2.1.0->pycocotools) (1.17.0)\n",
      "\n",
      "\u001b[1m[\u001b[0m\u001b[34;49mnotice\u001b[0m\u001b[1;39;49m]\u001b[0m\u001b[39;49m A new release of pip is available: \u001b[0m\u001b[31;49m25.0.1\u001b[0m\u001b[39;49m -> \u001b[0m\u001b[32;49m25.1.1\u001b[0m\n",
      "\u001b[1m[\u001b[0m\u001b[34;49mnotice\u001b[0m\u001b[1;39;49m]\u001b[0m\u001b[39;49m To update, run: \u001b[0m\u001b[32;49mpip install --upgrade pip\u001b[0m\n"
     ]
    }
   ],
   "source": [
    "!pip install pycocotools"
   ]
  },
  {
   "cell_type": "code",
   "execution_count": 2,
   "metadata": {},
   "outputs": [
    {
     "name": "stdout",
     "output_type": "stream",
     "text": [
      "loading annotations into memory...\n",
      "Done (t=2.41s)\n",
      "creating index...\n",
      "index created!\n"
     ]
    },
    {
     "name": "stderr",
     "output_type": "stream",
     "text": [
      "Corrupt JPEG data: premature end of data segment\n",
      "Corrupt JPEG data: bad Huffman code\n",
      "Corrupt JPEG data: bad Huffman code\n",
      "Corrupt JPEG data: bad Huffman code\n",
      "Corrupt JPEG data: bad Huffman code\n",
      "Corrupt JPEG data: premature end of data segment\n",
      "Corrupt JPEG data: 12658 extraneous bytes before marker 0xd2\n",
      "Corrupt JPEG data: 102 extraneous bytes before marker 0xd9\n",
      "Premature end of JPEG file\n",
      "Corrupt JPEG data: premature end of data segment\n",
      "Corrupt JPEG data: 562 extraneous bytes before marker 0xd9\n",
      "Corrupt JPEG data: 41 extraneous bytes before marker 0xd9\n",
      "Corrupt JPEG data: premature end of data segment\n",
      "Corrupt JPEG data: premature end of data segment\n",
      "Corrupt JPEG data: premature end of data segment\n",
      "Corrupt JPEG data: bad Huffman code\n",
      "Corrupt JPEG data: bad Huffman code\n",
      "Corrupt JPEG data: bad Huffman code\n",
      "Corrupt JPEG data: 96 extraneous bytes before marker 0xd9\n",
      "Corrupt JPEG data: premature end of data segment\n",
      "Corrupt JPEG data: bad Huffman code\n",
      "Corrupt JPEG data: bad Huffman code\n",
      "Corrupt JPEG data: premature end of data segment\n",
      "Corrupt JPEG data: 4086 extraneous bytes before marker 0xd9\n",
      "Corrupt JPEG data: 270 extraneous bytes before marker 0xd9\n",
      "Corrupt JPEG data: premature end of data segment\n",
      "Premature end of JPEG file\n",
      "Corrupt JPEG data: premature end of data segment\n",
      "Premature end of JPEG file\n"
     ]
    },
    {
     "name": "stdout",
     "output_type": "stream",
     "text": [
      "\n",
      "✅ Done. Total broken/missing images: 0\n"
     ]
    },
    {
     "data": {
      "text/plain": [
       "[]"
      ]
     },
     "execution_count": 2,
     "metadata": {},
     "output_type": "execute_result"
    }
   ],
   "source": [
    "import os\n",
    "import cv2\n",
    "import json\n",
    "from pycocotools.coco import COCO\n",
    "\n",
    "def validate_images(image_dir, annotation_file):\n",
    "    coco = COCO(annotation_file)\n",
    "    image_ids = coco.getImgIds()\n",
    "    failed = []\n",
    "\n",
    "    for img_id in image_ids:\n",
    "        img_info = coco.loadImgs(img_id)[0]\n",
    "        img_path = os.path.join(image_dir, img_info['file_name'])\n",
    "\n",
    "        if not os.path.exists(img_path):\n",
    "            print(f\"[MISSING] {img_path}\")\n",
    "            failed.append(img_path)\n",
    "            continue\n",
    "\n",
    "        img = cv2.imread(img_path)\n",
    "        if img is None:\n",
    "            print(f\"[CORRUPT] {img_path}\")\n",
    "            failed.append(img_path)\n",
    "\n",
    "    print(f\"\\n✅ Done. Total broken/missing images: {len(failed)}\")\n",
    "    return failed\n",
    "\n",
    "# Example usage:\n",
    "validate_images(\n",
    "    image_dir=\"/Volumes/Cucumber/Projects/datasets/hcmus-iid-sku110k/train/images\",\n",
    "    annotation_file=\"/Volumes/Cucumber/Projects/datasets/hcmus-iid-sku110k/train/annotations_train.json\"\n",
    ")\n"
   ]
  },
  {
   "cell_type": "code",
   "execution_count": 3,
   "metadata": {},
   "outputs": [
    {
     "name": "stdout",
     "output_type": "stream",
     "text": [
      "loading annotations into memory...\n",
      "Done (t=0.10s)\n",
      "creating index...\n",
      "index created!\n"
     ]
    },
    {
     "name": "stderr",
     "output_type": "stream",
     "text": [
      "Corrupt JPEG data: 786 extraneous bytes before marker 0xd9\n",
      "Corrupt JPEG data: 305 extraneous bytes before marker 0xd9\n",
      "Corrupt JPEG data: premature end of data segment\n",
      "Corrupt JPEG data: 366 extraneous bytes before marker 0xd9\n"
     ]
    },
    {
     "name": "stdout",
     "output_type": "stream",
     "text": [
      "\n",
      "✅ Done. Total broken/missing images: 0\n"
     ]
    },
    {
     "data": {
      "text/plain": [
       "[]"
      ]
     },
     "execution_count": 3,
     "metadata": {},
     "output_type": "execute_result"
    }
   ],
   "source": [
    "validate_images(\n",
    "    image_dir=\"/Volumes/Cucumber/Projects/datasets/hcmus-iid-sku110k/val/images\",\n",
    "    annotation_file=\"/Volumes/Cucumber/Projects/datasets/hcmus-iid-sku110k/val/annotations_val.json\"\n",
    ")"
   ]
  },
  {
   "cell_type": "code",
   "execution_count": 4,
   "metadata": {},
   "outputs": [
    {
     "name": "stdout",
     "output_type": "stream",
     "text": [
      "loading annotations into memory...\n",
      "Done (t=0.83s)\n",
      "creating index...\n",
      "index created!\n"
     ]
    },
    {
     "name": "stderr",
     "output_type": "stream",
     "text": [
      "Corrupt JPEG data: bad Huffman code\n",
      "Corrupt JPEG data: 555 extraneous bytes before marker 0xd9\n",
      "Corrupt JPEG data: 845 extraneous bytes before marker 0xd9\n",
      "Corrupt JPEG data: 166 extraneous bytes before marker 0xd9\n",
      "Corrupt JPEG data: 327 extraneous bytes before marker 0xd9\n",
      "Corrupt JPEG data: premature end of data segment\n",
      "Corrupt JPEG data: bad Huffman code\n",
      "Corrupt JPEG data: 358 extraneous bytes before marker 0xd9\n",
      "Corrupt JPEG data: premature end of data segment\n",
      "Corrupt JPEG data: bad Huffman code\n",
      "Premature end of JPEG file\n",
      "Corrupt JPEG data: premature end of data segment\n",
      "Corrupt JPEG data: 35 extraneous bytes before marker 0xd9\n",
      "Premature end of JPEG file\n",
      "Corrupt JPEG data: 935 extraneous bytes before marker 0xd9\n",
      "Corrupt JPEG data: bad Huffman code\n"
     ]
    },
    {
     "name": "stdout",
     "output_type": "stream",
     "text": [
      "\n",
      "✅ Done. Total broken/missing images: 0\n"
     ]
    },
    {
     "data": {
      "text/plain": [
       "[]"
      ]
     },
     "execution_count": 4,
     "metadata": {},
     "output_type": "execute_result"
    }
   ],
   "source": [
    "validate_images(\n",
    "    image_dir=\"/Volumes/Cucumber/Projects/datasets/hcmus-iid-sku110k/test/images\",\n",
    "    annotation_file=\"/Volumes/Cucumber/Projects/datasets/hcmus-iid-sku110k/test/annotations_test.json\"\n",
    ")"
   ]
  }
 ],
 "metadata": {
  "kernelspec": {
   "display_name": ".venv",
   "language": "python",
   "name": "python3"
  },
  "language_info": {
   "codemirror_mode": {
    "name": "ipython",
    "version": 3
   },
   "file_extension": ".py",
   "mimetype": "text/x-python",
   "name": "python",
   "nbconvert_exporter": "python",
   "pygments_lexer": "ipython3",
   "version": "3.9.6"
  }
 },
 "nbformat": 4,
 "nbformat_minor": 2
}
