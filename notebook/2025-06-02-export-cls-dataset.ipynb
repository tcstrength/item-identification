{
 "cells": [
  {
   "cell_type": "code",
   "execution_count": 1,
   "metadata": {},
   "outputs": [
    {
     "name": "stderr",
     "output_type": "stream",
     "text": [
      "\u001b[32m2025-06-06 21:46:49.507\u001b[0m | \u001b[1mINFO    \u001b[0m | \u001b[36mhcmus.core.appconfig\u001b[0m:\u001b[36m<module>\u001b[0m:\u001b[36m7\u001b[0m - \u001b[1mLoad DotEnv: True\u001b[0m\n",
      "/Volumes/Cucumber/Projects/item-identification/.venv/lib/python3.9/site-packages/urllib3/__init__.py:35: NotOpenSSLWarning: urllib3 v2 only supports OpenSSL 1.1.1+, currently the 'ssl' module is compiled with 'LibreSSL 2.8.3'. See: https://github.com/urllib3/urllib3/issues/3020\n",
      "  warnings.warn(\n"
     ]
    }
   ],
   "source": [
    "import os\n",
    "from pathlib import Path\n",
    "from hcmus.core import appconfig\n",
    "from hcmus.lbs import LabelStudioConnector"
   ]
  },
  {
   "cell_type": "code",
   "execution_count": 2,
   "metadata": {},
   "outputs": [],
   "source": [
    "lsb_connector = LabelStudioConnector(\n",
    "    url=appconfig.LABEL_STUDIO_URL,\n",
    "    api_key=appconfig.LABEL_STUDIO_API_KEY,\n",
    "    project_id=appconfig.LABEL_STUDIO_PROJECT_MAPPING[\"train\"],\n",
    "    temp_dir=appconfig.LABEL_STUDIO_TEMP_DIR\n",
    ")"
   ]
  },
  {
   "cell_type": "code",
   "execution_count": 3,
   "metadata": {},
   "outputs": [
    {
     "name": "stderr",
     "output_type": "stream",
     "text": [
      "\u001b[32m2025-06-06 21:46:51.116\u001b[0m | \u001b[33m\u001b[1mWARNING \u001b[0m | \u001b[36mhcmus.lbs._label_studio_connector\u001b[0m:\u001b[36mget_tasks\u001b[0m:\u001b[36m121\u001b[0m - \u001b[33m\u001b[1mPage size is too large, only 2298 tasks available.\u001b[0m\n",
      "\u001b[32m2025-06-06 21:46:51.116\u001b[0m | \u001b[1mINFO    \u001b[0m | \u001b[36mhcmus.lbs._label_studio_connector\u001b[0m:\u001b[36mget_tasks\u001b[0m:\u001b[36m125\u001b[0m - \u001b[1mNew `page_to` applied: 23\u001b[0m\n",
      "Loading tasks: 100%|██████████| 23/23 [00:12<00:00,  1.91it/s]\n",
      "Downloading images: 100%|██████████| 2298/2298 [00:12<00:00, 182.21it/s] \n"
     ]
    }
   ],
   "source": [
    "tasks = lsb_connector.get_tasks()\n",
    "labels = lsb_connector.extract_labels(tasks)\n",
    "dataset = lsb_connector.download_dataset(tasks, labels)\n",
    "dataset = [x for x in dataset if x.get(\"target\").get(\"labels\")]"
   ]
  },
  {
   "cell_type": "code",
   "execution_count": 4,
   "metadata": {},
   "outputs": [],
   "source": [
    "def build_classification_dataset(dataset, labels):\n",
    "    ret_dataset = []\n",
    "    unknown_idx = labels[\"unknown\"]\n",
    "    prioritized_label = \"8935136865648\"\n",
    "    prioritized_idx = [v for k, v in labels.items() if k.startswith(prioritized_label)][0]\n",
    "\n",
    "    for item in dataset:\n",
    "        target_labels = list(set(item.get(\"target\").get(\"labels\")))\n",
    "        if unknown_idx in labels:\n",
    "            labels.remove(unknown_idx)\n",
    "\n",
    "        final_label = -1\n",
    "        if len(target_labels) == 1:\n",
    "            final_label = target_labels[0]\n",
    "\n",
    "        if len(target_labels) > 1:\n",
    "            for label in item.get(\"target\").get(\"labels\"):\n",
    "                final_label = label\n",
    "                if prioritized_idx in target_labels:\n",
    "                    final_label = prioritized_idx\n",
    "                    break\n",
    "\n",
    "        ret_dataset.append({\n",
    "            \"image\": item.get(\"image\"),\n",
    "            \"label\": final_label\n",
    "        })\n",
    "    return ret_dataset"
   ]
  },
  {
   "cell_type": "code",
   "execution_count": 5,
   "metadata": {},
   "outputs": [],
   "source": [
    "def select_labels_m_samples(cls_dataset, m_samples=12):\n",
    "    import pandas as pd\n",
    "    label_stats = [x.get(\"label\") for x in cls_dataset]\n",
    "    df = pd.DataFrame(label_stats, columns=[\"label\"])\n",
    "    df = df.groupby(\"label\")[\"label\"].agg([\"count\"])\n",
    "    df = df.sort_values(\"count\")\n",
    "    df = df[df[\"count\"] >= m_samples]\n",
    "    df = df.reset_index()\n",
    "    selected_label_idx = df[\"label\"].tolist()\n",
    "    return selected_label_idx"
   ]
  },
  {
   "cell_type": "code",
   "execution_count": 6,
   "metadata": {},
   "outputs": [],
   "source": [
    "def filter_cls_dataset(cls_dataset, selected_labels):\n",
    "    ret_dataset = []\n",
    "    for item in cls_dataset:\n",
    "        if item.get(\"label\") in selected_labels:\n",
    "            ret_dataset.append(item)\n",
    "    return ret_dataset"
   ]
  },
  {
   "cell_type": "code",
   "execution_count": 7,
   "metadata": {},
   "outputs": [],
   "source": [
    "cls_dataset = build_classification_dataset(dataset, labels)\n",
    "selected_labels = select_labels_m_samples(cls_dataset, 8)\n",
    "filtered_dataset = filter_cls_dataset(cls_dataset, selected_labels)"
   ]
  },
  {
   "cell_type": "code",
   "execution_count": 8,
   "metadata": {},
   "outputs": [],
   "source": [
    "idx2label = {v: k for k, v in labels.items()}"
   ]
  },
  {
   "cell_type": "code",
   "execution_count": 9,
   "metadata": {},
   "outputs": [],
   "source": [
    "dataset_dir = Path(\"dataset\")\n",
    "dataset_dir.mkdir(exist_ok=True)\n",
    "\n",
    "for item in filtered_dataset:\n",
    "    label = item.get(\"label\")\n",
    "    path = item.get(\"image\")\n",
    "    label_name = idx2label[label]\n",
    "    label_name = label_name.replace(\"/\", \"-\")\n",
    "    label_name = label_name.replace(\"'\", \"-\")\n",
    "    label_dir = dataset_dir.joinpath(label_name)\n",
    "    label_dir.mkdir(exist_ok=True)\n",
    "    return_code = os.system(f\"cp -f '{path}' '{label_dir}'\")\n",
    "    if return_code != 0:\n",
    "        print(label_name)\n",
    "        break"
   ]
  },
  {
   "cell_type": "code",
   "execution_count": null,
   "metadata": {},
   "outputs": [],
   "source": []
  }
 ],
 "metadata": {
  "kernelspec": {
   "display_name": ".venv",
   "language": "python",
   "name": "python3"
  },
  "language_info": {
   "codemirror_mode": {
    "name": "ipython",
    "version": 3
   },
   "file_extension": ".py",
   "mimetype": "text/x-python",
   "name": "python",
   "nbconvert_exporter": "python",
   "pygments_lexer": "ipython3",
   "version": "3.9.6"
  }
 },
 "nbformat": 4,
 "nbformat_minor": 2
}
