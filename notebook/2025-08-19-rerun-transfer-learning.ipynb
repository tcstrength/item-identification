{
 "cells": [
  {
   "cell_type": "code",
   "execution_count": 1,
   "metadata": {},
   "outputs": [
    {
     "name": "stderr",
     "output_type": "stream",
     "text": [
      "\u001b[32m2025-08-21 07:04:38.077\u001b[0m | \u001b[1mINFO    \u001b[0m | \u001b[36mhcmus.core.appconfig\u001b[0m:\u001b[36m<module>\u001b[0m:\u001b[36m7\u001b[0m - \u001b[1mLoad DotEnv: True\u001b[0m\n",
      "/Volumes/Cucumber/Projects/item-identification/.venv/lib/python3.9/site-packages/urllib3/__init__.py:35: NotOpenSSLWarning: urllib3 v2 only supports OpenSSL 1.1.1+, currently the 'ssl' module is compiled with 'LibreSSL 2.8.3'. See: https://github.com/urllib3/urllib3/issues/3020\n",
      "  warnings.warn(\n",
      "/Volumes/Cucumber/Projects/item-identification/.venv/lib/python3.9/site-packages/tqdm/auto.py:21: TqdmWarning: IProgress not found. Please update jupyter and ipywidgets. See https://ipywidgets.readthedocs.io/en/stable/user_install.html\n",
      "  from .autonotebook import tqdm as notebook_tqdm\n"
     ]
    },
    {
     "data": {
      "text/plain": [
       "1"
      ]
     },
     "execution_count": 1,
     "metadata": {},
     "output_type": "execute_result"
    }
   ],
   "source": [
    "import sys\n",
    "import random\n",
    "from pathlib import Path\n",
    "from loguru import logger\n",
    "from torch.utils.data import DataLoader\n",
    "from torchvision import transforms as T\n",
    "from hcmus.core import appconfig\n",
    "from hcmus.data import CroppedCocoDataset\n",
    "from hcmus.models.backbone import ResNetBackbone\n",
    "from hcmus.models.backbone import DenseNetBackbone\n",
    "from hcmus.models.backbone import CLIPBackbone\n",
    "from hcmus.models.backbone import DinoBackbone\n",
    "from hcmus.models.transfer import TransferNetwork\n",
    "from hcmus.models.transfer import TransferTrainer\n",
    "logger.remove()\n",
    "logger.add(sys.stdout, level=\"INFO\")"
   ]
  },
  {
   "cell_type": "code",
   "execution_count": 2,
   "metadata": {},
   "outputs": [
    {
     "data": {
      "text/plain": [
       "'http://jimica.ddns.net:5050'"
      ]
     },
     "execution_count": 2,
     "metadata": {},
     "output_type": "execute_result"
    }
   ],
   "source": [
    "appconfig.MLFLOW_TRACKING_URI"
   ]
  },
  {
   "cell_type": "code",
   "execution_count": 3,
   "metadata": {},
   "outputs": [],
   "source": [
    "BATCH_SIZE = 16\n",
    "N_EPOCH = 64\n",
    "PATH_TO_DATASET = Path(\"/Volumes/Cucumber/Projects/datasets/raw/release-s2m-rp-2025-08-01\")"
   ]
  },
  {
   "cell_type": "code",
   "execution_count": 4,
   "metadata": {},
   "outputs": [],
   "source": [
    "transform_train = T.Compose([\n",
    "    T.Lambda(lambda img: T.Resize(random.randint(32, 224))(img)),\n",
    "    T.RandomHorizontalFlip(p=0.5),\n",
    "    T.ColorJitter(\n",
    "        brightness=0.3,    # ±20% brightness change\n",
    "        contrast=0.1,      # ±20% contrast change\n",
    "        saturation=0.1,    # ±20% saturation change\n",
    "        hue=0.1           # ±10% hue shift\n",
    "    ),\n",
    "    T.RandomAffine(\n",
    "        degrees=180,          # additional rotation control\n",
    "        translate=(0.2, 0.2),  # 5% translation in both directions\n",
    "        shear=10             # shear angle\n",
    "    ),\n",
    "    T.RandomResizedCrop(\n",
    "        size=224,\n",
    "        scale=(0.8, 1.2),\n",
    "        ratio=(0.75, 1.3333)\n",
    "    ),\n",
    "    T.Resize((224, 224)),\n",
    "    T.ToTensor()\n",
    "])\n",
    "\n",
    "transform_test = T.Compose([\n",
    "    T.Resize((224, 224)),\n",
    "    T.ToTensor()\n",
    "])"
   ]
  },
  {
   "cell_type": "code",
   "execution_count": 5,
   "metadata": {},
   "outputs": [
    {
     "name": "stdout",
     "output_type": "stream",
     "text": [
      "\u001b[32m2025-08-21 07:04:43.719\u001b[0m | \u001b[1mINFO    \u001b[0m | \u001b[36mhcmus.data._torch_dataset_v2\u001b[0m:\u001b[36m__init__\u001b[0m:\u001b[36m197\u001b[0m - \u001b[1mSkip category_id=101\u001b[0m\n",
      "\u001b[32m2025-08-21 07:04:43.736\u001b[0m | \u001b[1mINFO    \u001b[0m | \u001b[36mhcmus.data._torch_dataset_v2\u001b[0m:\u001b[36m__init__\u001b[0m:\u001b[36m197\u001b[0m - \u001b[1mSkip category_id=101\u001b[0m\n",
      "\u001b[32m2025-08-21 07:04:43.768\u001b[0m | \u001b[1mINFO    \u001b[0m | \u001b[36mhcmus.data._torch_dataset_v2\u001b[0m:\u001b[36m__init__\u001b[0m:\u001b[36m197\u001b[0m - \u001b[1mSkip category_id=101\u001b[0m\n"
     ]
    }
   ],
   "source": [
    "train_dataset = CroppedCocoDataset(PATH_TO_DATASET.joinpath(\"train\"), transform=transform_train)\n",
    "train_loader = DataLoader(train_dataset, batch_size=BATCH_SIZE, shuffle=True)\n",
    "val_dataset = CroppedCocoDataset(PATH_TO_DATASET.joinpath(\"val\"), transform=transform_test)\n",
    "val_loader = DataLoader(val_dataset, batch_size=BATCH_SIZE, shuffle=True)\n",
    "test_dataset = CroppedCocoDataset(PATH_TO_DATASET.joinpath(\"test\"), transform=transform_test)\n",
    "test_loader = DataLoader(test_dataset, batch_size=BATCH_SIZE, shuffle=True)"
   ]
  },
  {
   "cell_type": "code",
   "execution_count": null,
   "metadata": {},
   "outputs": [
    {
     "name": "stdout",
     "output_type": "stream",
     "text": [
      "\u001b[32m2025-08-21 07:04:45.186\u001b[0m | \u001b[1mINFO    \u001b[0m | \u001b[36mhcmus.models.backbone\u001b[0m:\u001b[36mfreeze\u001b[0m:\u001b[36m20\u001b[0m - \u001b[1mFreeze backbone ViT-B/32.\u001b[0m\n"
     ]
    },
    {
     "name": "stderr",
     "output_type": "stream",
     "text": [
      "Epoch 1/64: 100%|██████████| 166/166 [01:02<00:00,  2.68it/s, Loss=3.8719]\n"
     ]
    },
    {
     "name": "stdout",
     "output_type": "stream",
     "text": [
      "Start evaluating...\n"
     ]
    },
    {
     "name": "stderr",
     "output_type": "stream",
     "text": [
      "/Volumes/Cucumber/Projects/item-identification/.venv/lib/python3.9/site-packages/sklearn/metrics/_classification.py:1565: UndefinedMetricWarning: Precision is ill-defined and being set to 0.0 in labels with no predicted samples. Use `zero_division` parameter to control this behavior.\n",
      "  _warn_prf(average, modifier, f\"{metric.capitalize()} is\", len(result))\n"
     ]
    },
    {
     "name": "stdout",
     "output_type": "stream",
     "text": [
      "Model saved to best_model.pt\n"
     ]
    },
    {
     "name": "stderr",
     "output_type": "stream",
     "text": [
      "2025/08/21 07:07:43 WARNING mlflow.utils.requirements_utils: The following packages were not found in the public PyPI package index as of 2025-04-15; if these packages are not present in the public PyPI index, you must install them manually before loading your model: {'item-identification'}\n",
      "\u001b[31m2025/08/21 07:07:43 WARNING mlflow.models.model: Model logged without a signature and input example. Please set `input_example` parameter when logging the model to auto infer the model signature.\u001b[0m\n"
     ]
    },
    {
     "name": "stdout",
     "output_type": "stream",
     "text": [
      "Epoch 1/64:\n",
      "  Train Loss: 4.3999\n",
      "  Val Loss: 4.0274\n",
      "  Val Accuracy: 0.1352\n",
      "  Time: 190.28s\n",
      "--------------------------------------------------\n"
     ]
    },
    {
     "name": "stderr",
     "output_type": "stream",
     "text": [
      "Epoch 2/64: 100%|██████████| 166/166 [01:02<00:00,  2.67it/s, Loss=2.3893]\n"
     ]
    },
    {
     "name": "stdout",
     "output_type": "stream",
     "text": [
      "Start evaluating...\n"
     ]
    },
    {
     "name": "stderr",
     "output_type": "stream",
     "text": [
      "/Volumes/Cucumber/Projects/item-identification/.venv/lib/python3.9/site-packages/sklearn/metrics/_classification.py:1565: UndefinedMetricWarning: Precision is ill-defined and being set to 0.0 in labels with no predicted samples. Use `zero_division` parameter to control this behavior.\n",
      "  _warn_prf(average, modifier, f\"{metric.capitalize()} is\", len(result))\n"
     ]
    },
    {
     "name": "stdout",
     "output_type": "stream",
     "text": [
      "Model saved to best_model.pt\n"
     ]
    },
    {
     "name": "stderr",
     "output_type": "stream",
     "text": [
      "2025/08/21 07:10:53 WARNING mlflow.utils.requirements_utils: The following packages were not found in the public PyPI package index as of 2025-04-15; if these packages are not present in the public PyPI index, you must install them manually before loading your model: {'item-identification'}\n",
      "\u001b[31m2025/08/21 07:10:53 WARNING mlflow.models.model: Model logged without a signature and input example. Please set `input_example` parameter when logging the model to auto infer the model signature.\u001b[0m\n"
     ]
    },
    {
     "name": "stdout",
     "output_type": "stream",
     "text": [
      "Epoch 2/64:\n",
      "  Train Loss: 3.3253\n",
      "  Val Loss: 2.6547\n",
      "  Val Accuracy: 0.3799\n",
      "  Time: 190.19s\n",
      "--------------------------------------------------\n"
     ]
    },
    {
     "name": "stderr",
     "output_type": "stream",
     "text": [
      "Epoch 3/64: 100%|██████████| 166/166 [01:01<00:00,  2.68it/s, Loss=1.5974]\n"
     ]
    },
    {
     "name": "stdout",
     "output_type": "stream",
     "text": [
      "Start evaluating...\n"
     ]
    },
    {
     "name": "stderr",
     "output_type": "stream",
     "text": [
      "/Volumes/Cucumber/Projects/item-identification/.venv/lib/python3.9/site-packages/sklearn/metrics/_classification.py:1565: UndefinedMetricWarning: Precision is ill-defined and being set to 0.0 in labels with no predicted samples. Use `zero_division` parameter to control this behavior.\n",
      "  _warn_prf(average, modifier, f\"{metric.capitalize()} is\", len(result))\n"
     ]
    },
    {
     "name": "stdout",
     "output_type": "stream",
     "text": [
      "Model saved to best_model.pt\n"
     ]
    },
    {
     "name": "stderr",
     "output_type": "stream",
     "text": [
      "2025/08/21 07:14:03 WARNING mlflow.utils.requirements_utils: The following packages were not found in the public PyPI package index as of 2025-04-15; if these packages are not present in the public PyPI index, you must install them manually before loading your model: {'item-identification'}\n",
      "\u001b[31m2025/08/21 07:14:03 WARNING mlflow.models.model: Model logged without a signature and input example. Please set `input_example` parameter when logging the model to auto infer the model signature.\u001b[0m\n"
     ]
    },
    {
     "name": "stdout",
     "output_type": "stream",
     "text": [
      "Epoch 3/64:\n",
      "  Train Loss: 2.3440\n",
      "  Val Loss: 2.0675\n",
      "  Val Accuracy: 0.4654\n",
      "  Time: 189.92s\n",
      "--------------------------------------------------\n"
     ]
    },
    {
     "name": "stderr",
     "output_type": "stream",
     "text": [
      "Epoch 4/64: 100%|██████████| 166/166 [01:02<00:00,  2.67it/s, Loss=1.9577]\n"
     ]
    },
    {
     "name": "stdout",
     "output_type": "stream",
     "text": [
      "Start evaluating...\n"
     ]
    },
    {
     "name": "stderr",
     "output_type": "stream",
     "text": [
      "/Volumes/Cucumber/Projects/item-identification/.venv/lib/python3.9/site-packages/sklearn/metrics/_classification.py:1565: UndefinedMetricWarning: Precision is ill-defined and being set to 0.0 in labels with no predicted samples. Use `zero_division` parameter to control this behavior.\n",
      "  _warn_prf(average, modifier, f\"{metric.capitalize()} is\", len(result))\n"
     ]
    },
    {
     "name": "stdout",
     "output_type": "stream",
     "text": [
      "Model saved to best_model.pt\n"
     ]
    },
    {
     "name": "stderr",
     "output_type": "stream",
     "text": [
      "2025/08/21 07:17:12 WARNING mlflow.utils.requirements_utils: The following packages were not found in the public PyPI package index as of 2025-04-15; if these packages are not present in the public PyPI index, you must install them manually before loading your model: {'item-identification'}\n",
      "\u001b[31m2025/08/21 07:17:12 WARNING mlflow.models.model: Model logged without a signature and input example. Please set `input_example` parameter when logging the model to auto infer the model signature.\u001b[0m\n"
     ]
    },
    {
     "name": "stdout",
     "output_type": "stream",
     "text": [
      "Epoch 4/64:\n",
      "  Train Loss: 1.7948\n",
      "  Val Loss: 1.8326\n",
      "  Val Accuracy: 0.5099\n",
      "  Time: 189.03s\n",
      "--------------------------------------------------\n"
     ]
    },
    {
     "name": "stderr",
     "output_type": "stream",
     "text": [
      "Epoch 5/64: 100%|██████████| 166/166 [01:01<00:00,  2.69it/s, Loss=1.6809]\n"
     ]
    },
    {
     "name": "stdout",
     "output_type": "stream",
     "text": [
      "Start evaluating...\n"
     ]
    },
    {
     "name": "stderr",
     "output_type": "stream",
     "text": [
      "/Volumes/Cucumber/Projects/item-identification/.venv/lib/python3.9/site-packages/sklearn/metrics/_classification.py:1565: UndefinedMetricWarning: Precision is ill-defined and being set to 0.0 in labels with no predicted samples. Use `zero_division` parameter to control this behavior.\n",
      "  _warn_prf(average, modifier, f\"{metric.capitalize()} is\", len(result))\n"
     ]
    },
    {
     "name": "stdout",
     "output_type": "stream",
     "text": [
      "Model saved to best_model.pt\n"
     ]
    },
    {
     "name": "stderr",
     "output_type": "stream",
     "text": [
      "2025/08/21 07:20:21 WARNING mlflow.utils.requirements_utils: The following packages were not found in the public PyPI package index as of 2025-04-15; if these packages are not present in the public PyPI index, you must install them manually before loading your model: {'item-identification'}\n",
      "\u001b[31m2025/08/21 07:20:21 WARNING mlflow.models.model: Model logged without a signature and input example. Please set `input_example` parameter when logging the model to auto infer the model signature.\u001b[0m\n"
     ]
    },
    {
     "name": "stdout",
     "output_type": "stream",
     "text": [
      "Epoch 5/64:\n",
      "  Train Loss: 1.5553\n",
      "  Val Loss: 1.7663\n",
      "  Val Accuracy: 0.5368\n",
      "  Time: 189.08s\n",
      "--------------------------------------------------\n"
     ]
    },
    {
     "name": "stderr",
     "output_type": "stream",
     "text": [
      "Epoch 6/64: 100%|██████████| 166/166 [01:01<00:00,  2.68it/s, Loss=0.7580]\n"
     ]
    },
    {
     "name": "stdout",
     "output_type": "stream",
     "text": [
      "Start evaluating...\n"
     ]
    },
    {
     "name": "stderr",
     "output_type": "stream",
     "text": [
      "/Volumes/Cucumber/Projects/item-identification/.venv/lib/python3.9/site-packages/sklearn/metrics/_classification.py:1565: UndefinedMetricWarning: Precision is ill-defined and being set to 0.0 in labels with no predicted samples. Use `zero_division` parameter to control this behavior.\n",
      "  _warn_prf(average, modifier, f\"{metric.capitalize()} is\", len(result))\n"
     ]
    },
    {
     "name": "stdout",
     "output_type": "stream",
     "text": [
      "Model saved to best_model.pt\n"
     ]
    },
    {
     "name": "stderr",
     "output_type": "stream",
     "text": [
      "2025/08/21 07:23:30 WARNING mlflow.utils.requirements_utils: The following packages were not found in the public PyPI package index as of 2025-04-15; if these packages are not present in the public PyPI index, you must install them manually before loading your model: {'item-identification'}\n",
      "\u001b[31m2025/08/21 07:23:30 WARNING mlflow.models.model: Model logged without a signature and input example. Please set `input_example` parameter when logging the model to auto infer the model signature.\u001b[0m\n"
     ]
    },
    {
     "name": "stdout",
     "output_type": "stream",
     "text": [
      "Epoch 6/64:\n",
      "  Train Loss: 1.3104\n",
      "  Val Loss: 1.6070\n",
      "  Val Accuracy: 0.5999\n",
      "  Time: 188.58s\n",
      "--------------------------------------------------\n"
     ]
    },
    {
     "name": "stderr",
     "output_type": "stream",
     "text": [
      "Epoch 7/64: 100%|██████████| 166/166 [01:01<00:00,  2.69it/s, Loss=1.4886]\n"
     ]
    },
    {
     "name": "stdout",
     "output_type": "stream",
     "text": [
      "Start evaluating...\n",
      "Model saved to best_model.pt\n"
     ]
    },
    {
     "name": "stderr",
     "output_type": "stream",
     "text": [
      "2025/08/21 07:26:37 WARNING mlflow.utils.requirements_utils: The following packages were not found in the public PyPI package index as of 2025-04-15; if these packages are not present in the public PyPI index, you must install them manually before loading your model: {'item-identification'}\n",
      "\u001b[31m2025/08/21 07:26:37 WARNING mlflow.models.model: Model logged without a signature and input example. Please set `input_example` parameter when logging the model to auto infer the model signature.\u001b[0m\n"
     ]
    },
    {
     "name": "stdout",
     "output_type": "stream",
     "text": [
      "Epoch 7/64:\n",
      "  Train Loss: 1.2157\n",
      "  Val Loss: 1.5561\n",
      "  Val Accuracy: 0.6012\n",
      "  Time: 190.37s\n",
      "--------------------------------------------------\n"
     ]
    },
    {
     "name": "stderr",
     "output_type": "stream",
     "text": [
      "Epoch 8/64: 100%|██████████| 166/166 [01:00<00:00,  2.73it/s, Loss=0.9164]\n"
     ]
    },
    {
     "name": "stdout",
     "output_type": "stream",
     "text": [
      "Start evaluating...\n",
      "Model saved to best_model.pt\n"
     ]
    },
    {
     "name": "stderr",
     "output_type": "stream",
     "text": [
      "2025/08/21 07:29:46 WARNING mlflow.utils.requirements_utils: The following packages were not found in the public PyPI package index as of 2025-04-15; if these packages are not present in the public PyPI index, you must install them manually before loading your model: {'item-identification'}\n",
      "\u001b[31m2025/08/21 07:29:47 WARNING mlflow.models.model: Model logged without a signature and input example. Please set `input_example` parameter when logging the model to auto infer the model signature.\u001b[0m\n"
     ]
    },
    {
     "name": "stdout",
     "output_type": "stream",
     "text": [
      "Epoch 8/64:\n",
      "  Train Loss: 1.1380\n",
      "  Val Loss: 1.5246\n",
      "  Val Accuracy: 0.6161\n",
      "  Time: 187.15s\n",
      "--------------------------------------------------\n"
     ]
    },
    {
     "name": "stderr",
     "output_type": "stream",
     "text": [
      "Epoch 9/64: 100%|██████████| 166/166 [01:00<00:00,  2.73it/s, Loss=1.3965]\n"
     ]
    },
    {
     "name": "stdout",
     "output_type": "stream",
     "text": [
      "Start evaluating...\n",
      "Epoch 9/64:\n",
      "  Train Loss: 1.0290\n",
      "  Val Loss: 1.5367\n",
      "  Val Accuracy: 0.6018\n",
      "  Time: 168.42s\n",
      "--------------------------------------------------\n"
     ]
    },
    {
     "name": "stderr",
     "output_type": "stream",
     "text": [
      "Epoch 10/64: 100%|██████████| 166/166 [01:00<00:00,  2.73it/s, Loss=0.9057]\n"
     ]
    },
    {
     "name": "stdout",
     "output_type": "stream",
     "text": [
      "Start evaluating...\n"
     ]
    },
    {
     "name": "stderr",
     "output_type": "stream",
     "text": [
      "/Volumes/Cucumber/Projects/item-identification/.venv/lib/python3.9/site-packages/sklearn/metrics/_classification.py:1565: UndefinedMetricWarning: Precision is ill-defined and being set to 0.0 in labels with no predicted samples. Use `zero_division` parameter to control this behavior.\n",
      "  _warn_prf(average, modifier, f\"{metric.capitalize()} is\", len(result))\n"
     ]
    },
    {
     "name": "stdout",
     "output_type": "stream",
     "text": [
      "Epoch 10/64:\n",
      "  Train Loss: 0.9457\n",
      "  Val Loss: 1.6310\n",
      "  Val Accuracy: 0.6018\n",
      "  Time: 168.56s\n",
      "--------------------------------------------------\n"
     ]
    },
    {
     "name": "stderr",
     "output_type": "stream",
     "text": [
      "Epoch 11/64: 100%|██████████| 166/166 [01:00<00:00,  2.74it/s, Loss=0.5659]\n"
     ]
    },
    {
     "name": "stdout",
     "output_type": "stream",
     "text": [
      "Start evaluating...\n"
     ]
    },
    {
     "name": "stderr",
     "output_type": "stream",
     "text": [
      "/Volumes/Cucumber/Projects/item-identification/.venv/lib/python3.9/site-packages/sklearn/metrics/_classification.py:1565: UndefinedMetricWarning: Precision is ill-defined and being set to 0.0 in labels with no predicted samples. Use `zero_division` parameter to control this behavior.\n",
      "  _warn_prf(average, modifier, f\"{metric.capitalize()} is\", len(result))\n"
     ]
    },
    {
     "name": "stdout",
     "output_type": "stream",
     "text": [
      "Epoch 11/64:\n",
      "  Train Loss: 0.9383\n",
      "  Val Loss: 1.6119\n",
      "  Val Accuracy: 0.5780\n",
      "  Time: 168.25s\n",
      "--------------------------------------------------\n"
     ]
    },
    {
     "name": "stderr",
     "output_type": "stream",
     "text": [
      "Epoch 12/64: 100%|██████████| 166/166 [01:00<00:00,  2.75it/s, Loss=0.7778]\n"
     ]
    },
    {
     "name": "stdout",
     "output_type": "stream",
     "text": [
      "Start evaluating...\n",
      "Epoch 12/64:\n",
      "  Train Loss: 0.8987\n",
      "  Val Loss: 1.5455\n",
      "  Val Accuracy: 0.6103\n",
      "  Time: 168.16s\n",
      "--------------------------------------------------\n"
     ]
    },
    {
     "name": "stderr",
     "output_type": "stream",
     "text": [
      "Epoch 13/64: 100%|██████████| 166/166 [01:00<00:00,  2.74it/s, Loss=0.9496]\n"
     ]
    },
    {
     "name": "stdout",
     "output_type": "stream",
     "text": [
      "Start evaluating...\n"
     ]
    },
    {
     "name": "stderr",
     "output_type": "stream",
     "text": [
      "/Volumes/Cucumber/Projects/item-identification/.venv/lib/python3.9/site-packages/sklearn/metrics/_classification.py:1565: UndefinedMetricWarning: Precision is ill-defined and being set to 0.0 in labels with no predicted samples. Use `zero_division` parameter to control this behavior.\n",
      "  _warn_prf(average, modifier, f\"{metric.capitalize()} is\", len(result))\n"
     ]
    },
    {
     "name": "stdout",
     "output_type": "stream",
     "text": [
      "Epoch 13/64:\n",
      "  Train Loss: 0.8492\n",
      "  Val Loss: 1.5922\n",
      "  Val Accuracy: 0.6070\n",
      "  Time: 168.33s\n",
      "--------------------------------------------------\n"
     ]
    },
    {
     "name": "stderr",
     "output_type": "stream",
     "text": [
      "Epoch 14/64: 100%|██████████| 166/166 [01:00<00:00,  2.74it/s, Loss=0.7775]\n"
     ]
    },
    {
     "name": "stdout",
     "output_type": "stream",
     "text": [
      "Start evaluating...\n",
      "Epoch 14/64:\n",
      "  Train Loss: 0.8500\n",
      "  Val Loss: 1.5539\n",
      "  Val Accuracy: 0.6076\n",
      "  Time: 168.27s\n",
      "--------------------------------------------------\n"
     ]
    },
    {
     "name": "stderr",
     "output_type": "stream",
     "text": [
      "Epoch 15/64: 100%|██████████| 166/166 [01:00<00:00,  2.74it/s, Loss=0.4955]\n"
     ]
    },
    {
     "name": "stdout",
     "output_type": "stream",
     "text": [
      "Start evaluating...\n"
     ]
    },
    {
     "name": "stderr",
     "output_type": "stream",
     "text": [
      "/Volumes/Cucumber/Projects/item-identification/.venv/lib/python3.9/site-packages/sklearn/metrics/_classification.py:1565: UndefinedMetricWarning: Precision is ill-defined and being set to 0.0 in labels with no predicted samples. Use `zero_division` parameter to control this behavior.\n",
      "  _warn_prf(average, modifier, f\"{metric.capitalize()} is\", len(result))\n"
     ]
    },
    {
     "name": "stdout",
     "output_type": "stream",
     "text": [
      "Epoch 15/64:\n",
      "  Train Loss: 0.7787\n",
      "  Val Loss: 1.5996\n",
      "  Val Accuracy: 0.5999\n",
      "  Time: 168.22s\n",
      "--------------------------------------------------\n"
     ]
    },
    {
     "name": "stderr",
     "output_type": "stream",
     "text": [
      "Epoch 16/64: 100%|██████████| 166/166 [01:00<00:00,  2.74it/s, Loss=0.3733]\n"
     ]
    },
    {
     "name": "stdout",
     "output_type": "stream",
     "text": [
      "Start evaluating...\n"
     ]
    },
    {
     "name": "stderr",
     "output_type": "stream",
     "text": [
      "/Volumes/Cucumber/Projects/item-identification/.venv/lib/python3.9/site-packages/sklearn/metrics/_classification.py:1565: UndefinedMetricWarning: Precision is ill-defined and being set to 0.0 in labels with no predicted samples. Use `zero_division` parameter to control this behavior.\n",
      "  _warn_prf(average, modifier, f\"{metric.capitalize()} is\", len(result))\n"
     ]
    },
    {
     "name": "stdout",
     "output_type": "stream",
     "text": [
      "Epoch 16/64:\n",
      "  Train Loss: 0.7494\n",
      "  Val Loss: 1.7467\n",
      "  Val Accuracy: 0.5694\n",
      "  Time: 168.28s\n",
      "--------------------------------------------------\n"
     ]
    },
    {
     "name": "stderr",
     "output_type": "stream",
     "text": [
      "Epoch 17/64: 100%|██████████| 166/166 [01:00<00:00,  2.74it/s, Loss=0.6784]\n"
     ]
    },
    {
     "name": "stdout",
     "output_type": "stream",
     "text": [
      "Start evaluating...\n"
     ]
    },
    {
     "name": "stderr",
     "output_type": "stream",
     "text": [
      "/Volumes/Cucumber/Projects/item-identification/.venv/lib/python3.9/site-packages/sklearn/metrics/_classification.py:1565: UndefinedMetricWarning: Precision is ill-defined and being set to 0.0 in labels with no predicted samples. Use `zero_division` parameter to control this behavior.\n",
      "  _warn_prf(average, modifier, f\"{metric.capitalize()} is\", len(result))\n"
     ]
    },
    {
     "name": "stdout",
     "output_type": "stream",
     "text": [
      "Model saved to best_model.pt\n"
     ]
    },
    {
     "name": "stderr",
     "output_type": "stream",
     "text": [
      "2025/08/21 07:55:20 WARNING mlflow.utils.requirements_utils: The following packages were not found in the public PyPI package index as of 2025-04-15; if these packages are not present in the public PyPI index, you must install them manually before loading your model: {'item-identification'}\n",
      "\u001b[31m2025/08/21 07:55:20 WARNING mlflow.models.model: Model logged without a signature and input example. Please set `input_example` parameter when logging the model to auto infer the model signature.\u001b[0m\n"
     ]
    },
    {
     "name": "stdout",
     "output_type": "stream",
     "text": [
      "Epoch 17/64:\n",
      "  Train Loss: 0.7671\n",
      "  Val Loss: 1.5617\n",
      "  Val Accuracy: 0.6301\n",
      "  Time: 186.26s\n",
      "--------------------------------------------------\n"
     ]
    },
    {
     "name": "stderr",
     "output_type": "stream",
     "text": [
      "Epoch 18/64: 100%|██████████| 166/166 [01:00<00:00,  2.73it/s, Loss=0.8776]\n"
     ]
    },
    {
     "name": "stdout",
     "output_type": "stream",
     "text": [
      "Start evaluating...\n"
     ]
    },
    {
     "name": "stderr",
     "output_type": "stream",
     "text": [
      "/Volumes/Cucumber/Projects/item-identification/.venv/lib/python3.9/site-packages/sklearn/metrics/_classification.py:1565: UndefinedMetricWarning: Precision is ill-defined and being set to 0.0 in labels with no predicted samples. Use `zero_division` parameter to control this behavior.\n",
      "  _warn_prf(average, modifier, f\"{metric.capitalize()} is\", len(result))\n"
     ]
    },
    {
     "name": "stdout",
     "output_type": "stream",
     "text": [
      "Epoch 18/64:\n",
      "  Train Loss: 0.7639\n",
      "  Val Loss: 1.6061\n",
      "  Val Accuracy: 0.6149\n",
      "  Time: 168.43s\n",
      "--------------------------------------------------\n"
     ]
    },
    {
     "name": "stderr",
     "output_type": "stream",
     "text": [
      "Epoch 19/64: 100%|██████████| 166/166 [01:00<00:00,  2.74it/s, Loss=0.5808]\n"
     ]
    },
    {
     "name": "stdout",
     "output_type": "stream",
     "text": [
      "Start evaluating...\n"
     ]
    },
    {
     "name": "stderr",
     "output_type": "stream",
     "text": [
      "/Volumes/Cucumber/Projects/item-identification/.venv/lib/python3.9/site-packages/sklearn/metrics/_classification.py:1565: UndefinedMetricWarning: Precision is ill-defined and being set to 0.0 in labels with no predicted samples. Use `zero_division` parameter to control this behavior.\n",
      "  _warn_prf(average, modifier, f\"{metric.capitalize()} is\", len(result))\n"
     ]
    },
    {
     "name": "stdout",
     "output_type": "stream",
     "text": [
      "Model saved to best_model.pt\n"
     ]
    },
    {
     "name": "stderr",
     "output_type": "stream",
     "text": [
      "2025/08/21 08:01:15 WARNING mlflow.utils.requirements_utils: The following packages were not found in the public PyPI package index as of 2025-04-15; if these packages are not present in the public PyPI index, you must install them manually before loading your model: {'item-identification'}\n",
      "\u001b[31m2025/08/21 08:01:15 WARNING mlflow.models.model: Model logged without a signature and input example. Please set `input_example` parameter when logging the model to auto infer the model signature.\u001b[0m\n"
     ]
    },
    {
     "name": "stdout",
     "output_type": "stream",
     "text": [
      "Epoch 19/64:\n",
      "  Train Loss: 0.7640\n",
      "  Val Loss: 1.5226\n",
      "  Val Accuracy: 0.6375\n",
      "  Time: 186.34s\n",
      "--------------------------------------------------\n"
     ]
    },
    {
     "name": "stderr",
     "output_type": "stream",
     "text": [
      "Epoch 20/64: 100%|██████████| 166/166 [01:00<00:00,  2.73it/s, Loss=0.4709]\n"
     ]
    },
    {
     "name": "stdout",
     "output_type": "stream",
     "text": [
      "Start evaluating...\n"
     ]
    },
    {
     "name": "stderr",
     "output_type": "stream",
     "text": [
      "/Volumes/Cucumber/Projects/item-identification/.venv/lib/python3.9/site-packages/sklearn/metrics/_classification.py:1565: UndefinedMetricWarning: Precision is ill-defined and being set to 0.0 in labels with no predicted samples. Use `zero_division` parameter to control this behavior.\n",
      "  _warn_prf(average, modifier, f\"{metric.capitalize()} is\", len(result))\n"
     ]
    },
    {
     "name": "stdout",
     "output_type": "stream",
     "text": [
      "Epoch 20/64:\n",
      "  Train Loss: 0.6903\n",
      "  Val Loss: 1.6199\n",
      "  Val Accuracy: 0.6256\n",
      "  Time: 169.31s\n",
      "--------------------------------------------------\n"
     ]
    },
    {
     "name": "stderr",
     "output_type": "stream",
     "text": [
      "Epoch 21/64: 100%|██████████| 166/166 [01:00<00:00,  2.74it/s, Loss=0.3642]\n"
     ]
    },
    {
     "name": "stdout",
     "output_type": "stream",
     "text": [
      "Start evaluating...\n"
     ]
    },
    {
     "name": "stderr",
     "output_type": "stream",
     "text": [
      "/Volumes/Cucumber/Projects/item-identification/.venv/lib/python3.9/site-packages/sklearn/metrics/_classification.py:1565: UndefinedMetricWarning: Precision is ill-defined and being set to 0.0 in labels with no predicted samples. Use `zero_division` parameter to control this behavior.\n",
      "  _warn_prf(average, modifier, f\"{metric.capitalize()} is\", len(result))\n"
     ]
    },
    {
     "name": "stdout",
     "output_type": "stream",
     "text": [
      "Epoch 21/64:\n",
      "  Train Loss: 0.6999\n",
      "  Val Loss: 1.6300\n",
      "  Val Accuracy: 0.6189\n",
      "  Time: 168.37s\n",
      "--------------------------------------------------\n"
     ]
    },
    {
     "name": "stderr",
     "output_type": "stream",
     "text": [
      "Epoch 22/64: 100%|██████████| 166/166 [01:00<00:00,  2.74it/s, Loss=0.3238]\n"
     ]
    },
    {
     "name": "stdout",
     "output_type": "stream",
     "text": [
      "Start evaluating...\n"
     ]
    },
    {
     "name": "stderr",
     "output_type": "stream",
     "text": [
      "/Volumes/Cucumber/Projects/item-identification/.venv/lib/python3.9/site-packages/sklearn/metrics/_classification.py:1565: UndefinedMetricWarning: Precision is ill-defined and being set to 0.0 in labels with no predicted samples. Use `zero_division` parameter to control this behavior.\n",
      "  _warn_prf(average, modifier, f\"{metric.capitalize()} is\", len(result))\n"
     ]
    },
    {
     "name": "stdout",
     "output_type": "stream",
     "text": [
      "Epoch 22/64:\n",
      "  Train Loss: 0.7031\n",
      "  Val Loss: 1.6987\n",
      "  Val Accuracy: 0.6204\n",
      "  Time: 168.08s\n",
      "--------------------------------------------------\n"
     ]
    },
    {
     "name": "stderr",
     "output_type": "stream",
     "text": [
      "Epoch 23/64: 100%|██████████| 166/166 [01:00<00:00,  2.74it/s, Loss=0.9997]\n"
     ]
    },
    {
     "name": "stdout",
     "output_type": "stream",
     "text": [
      "Start evaluating...\n"
     ]
    },
    {
     "name": "stderr",
     "output_type": "stream",
     "text": [
      "/Volumes/Cucumber/Projects/item-identification/.venv/lib/python3.9/site-packages/sklearn/metrics/_classification.py:1565: UndefinedMetricWarning: Precision is ill-defined and being set to 0.0 in labels with no predicted samples. Use `zero_division` parameter to control this behavior.\n",
      "  _warn_prf(average, modifier, f\"{metric.capitalize()} is\", len(result))\n"
     ]
    },
    {
     "name": "stdout",
     "output_type": "stream",
     "text": [
      "Epoch 23/64:\n",
      "  Train Loss: 0.6400\n",
      "  Val Loss: 1.5846\n",
      "  Val Accuracy: 0.6329\n",
      "  Time: 168.42s\n",
      "--------------------------------------------------\n"
     ]
    },
    {
     "name": "stderr",
     "output_type": "stream",
     "text": [
      "Epoch 24/64: 100%|██████████| 166/166 [01:00<00:00,  2.74it/s, Loss=0.4856]\n"
     ]
    },
    {
     "name": "stdout",
     "output_type": "stream",
     "text": [
      "Start evaluating...\n"
     ]
    },
    {
     "name": "stderr",
     "output_type": "stream",
     "text": [
      "/Volumes/Cucumber/Projects/item-identification/.venv/lib/python3.9/site-packages/sklearn/metrics/_classification.py:1565: UndefinedMetricWarning: Precision is ill-defined and being set to 0.0 in labels with no predicted samples. Use `zero_division` parameter to control this behavior.\n",
      "  _warn_prf(average, modifier, f\"{metric.capitalize()} is\", len(result))\n"
     ]
    },
    {
     "name": "stdout",
     "output_type": "stream",
     "text": [
      "Epoch 24/64:\n",
      "  Train Loss: 0.6173\n",
      "  Val Loss: 1.6303\n",
      "  Val Accuracy: 0.6018\n",
      "  Time: 168.21s\n",
      "--------------------------------------------------\n"
     ]
    },
    {
     "name": "stderr",
     "output_type": "stream",
     "text": [
      "Epoch 25/64: 100%|██████████| 166/166 [01:00<00:00,  2.74it/s, Loss=0.4412]\n"
     ]
    },
    {
     "name": "stdout",
     "output_type": "stream",
     "text": [
      "Start evaluating...\n"
     ]
    },
    {
     "name": "stderr",
     "output_type": "stream",
     "text": [
      "/Volumes/Cucumber/Projects/item-identification/.venv/lib/python3.9/site-packages/sklearn/metrics/_classification.py:1565: UndefinedMetricWarning: Precision is ill-defined and being set to 0.0 in labels with no predicted samples. Use `zero_division` parameter to control this behavior.\n",
      "  _warn_prf(average, modifier, f\"{metric.capitalize()} is\", len(result))\n"
     ]
    },
    {
     "name": "stdout",
     "output_type": "stream",
     "text": [
      "Epoch 25/64:\n",
      "  Train Loss: 0.6227\n",
      "  Val Loss: 1.6959\n",
      "  Val Accuracy: 0.6189\n",
      "  Time: 168.23s\n",
      "--------------------------------------------------\n"
     ]
    },
    {
     "name": "stderr",
     "output_type": "stream",
     "text": [
      "Epoch 26/64: 100%|██████████| 166/166 [01:00<00:00,  2.75it/s, Loss=0.3772]\n"
     ]
    },
    {
     "name": "stdout",
     "output_type": "stream",
     "text": [
      "Start evaluating...\n",
      "Epoch 26/64:\n",
      "  Train Loss: 0.6053\n",
      "  Val Loss: 1.6272\n",
      "  Val Accuracy: 0.6311\n",
      "  Time: 168.01s\n",
      "--------------------------------------------------\n"
     ]
    },
    {
     "name": "stderr",
     "output_type": "stream",
     "text": [
      "Epoch 27/64: 100%|██████████| 166/166 [00:58<00:00,  2.83it/s, Loss=0.5371]\n"
     ]
    },
    {
     "name": "stdout",
     "output_type": "stream",
     "text": [
      "Start evaluating...\n"
     ]
    },
    {
     "name": "stderr",
     "output_type": "stream",
     "text": [
      "/Volumes/Cucumber/Projects/item-identification/.venv/lib/python3.9/site-packages/sklearn/metrics/_classification.py:1565: UndefinedMetricWarning: Precision is ill-defined and being set to 0.0 in labels with no predicted samples. Use `zero_division` parameter to control this behavior.\n",
      "  _warn_prf(average, modifier, f\"{metric.capitalize()} is\", len(result))\n"
     ]
    },
    {
     "name": "stdout",
     "output_type": "stream",
     "text": [
      "Model saved to best_model.pt\n"
     ]
    },
    {
     "name": "stderr",
     "output_type": "stream",
     "text": [
      "2025/08/21 08:23:57 WARNING mlflow.utils.requirements_utils: The following packages were not found in the public PyPI package index as of 2025-04-15; if these packages are not present in the public PyPI index, you must install them manually before loading your model: {'item-identification'}\n",
      "\u001b[31m2025/08/21 08:23:58 WARNING mlflow.models.model: Model logged without a signature and input example. Please set `input_example` parameter when logging the model to auto infer the model signature.\u001b[0m\n"
     ]
    },
    {
     "name": "stdout",
     "output_type": "stream",
     "text": [
      "Epoch 27/64:\n",
      "  Train Loss: 0.5993\n",
      "  Val Loss: 1.6399\n",
      "  Val Accuracy: 0.6417\n",
      "  Time: 184.67s\n",
      "--------------------------------------------------\n"
     ]
    },
    {
     "name": "stderr",
     "output_type": "stream",
     "text": [
      "Epoch 28/64: 100%|██████████| 166/166 [01:02<00:00,  2.64it/s, Loss=0.1919]\n"
     ]
    },
    {
     "name": "stdout",
     "output_type": "stream",
     "text": [
      "Start evaluating...\n",
      "Epoch 28/64:\n",
      "  Train Loss: 0.6156\n",
      "  Val Loss: 1.6162\n",
      "  Val Accuracy: 0.6390\n",
      "  Time: 173.96s\n",
      "--------------------------------------------------\n"
     ]
    },
    {
     "name": "stderr",
     "output_type": "stream",
     "text": [
      "Epoch 29/64: 100%|██████████| 166/166 [01:02<00:00,  2.67it/s, Loss=0.2010]\n"
     ]
    },
    {
     "name": "stdout",
     "output_type": "stream",
     "text": [
      "Start evaluating...\n",
      "Epoch 29/64:\n",
      "  Train Loss: 0.5864\n",
      "  Val Loss: 1.6299\n",
      "  Val Accuracy: 0.6375\n",
      "  Time: 173.57s\n",
      "--------------------------------------------------\n"
     ]
    },
    {
     "name": "stderr",
     "output_type": "stream",
     "text": [
      "Epoch 30/64: 100%|██████████| 166/166 [01:03<00:00,  2.61it/s, Loss=0.5483]\n"
     ]
    },
    {
     "name": "stdout",
     "output_type": "stream",
     "text": [
      "Start evaluating...\n"
     ]
    },
    {
     "name": "stderr",
     "output_type": "stream",
     "text": [
      "/Volumes/Cucumber/Projects/item-identification/.venv/lib/python3.9/site-packages/sklearn/metrics/_classification.py:1565: UndefinedMetricWarning: Precision is ill-defined and being set to 0.0 in labels with no predicted samples. Use `zero_division` parameter to control this behavior.\n",
      "  _warn_prf(average, modifier, f\"{metric.capitalize()} is\", len(result))\n"
     ]
    },
    {
     "name": "stdout",
     "output_type": "stream",
     "text": [
      "Model saved to best_model.pt\n"
     ]
    },
    {
     "name": "stderr",
     "output_type": "stream",
     "text": [
      "2025/08/21 08:32:59 WARNING mlflow.utils.requirements_utils: The following packages were not found in the public PyPI package index as of 2025-04-15; if these packages are not present in the public PyPI index, you must install them manually before loading your model: {'item-identification'}\n",
      "\u001b[31m2025/08/21 08:32:59 WARNING mlflow.models.model: Model logged without a signature and input example. Please set `input_example` parameter when logging the model to auto infer the model signature.\u001b[0m\n"
     ]
    },
    {
     "name": "stdout",
     "output_type": "stream",
     "text": [
      "Epoch 30/64:\n",
      "  Train Loss: 0.5976\n",
      "  Val Loss: 1.5982\n",
      "  Val Accuracy: 0.6497\n",
      "  Time: 194.34s\n",
      "--------------------------------------------------\n"
     ]
    },
    {
     "name": "stderr",
     "output_type": "stream",
     "text": [
      "Epoch 31/64: 100%|██████████| 166/166 [01:03<00:00,  2.62it/s, Loss=0.8075]\n"
     ]
    },
    {
     "name": "stdout",
     "output_type": "stream",
     "text": [
      "Start evaluating...\n"
     ]
    },
    {
     "name": "stderr",
     "output_type": "stream",
     "text": [
      "/Volumes/Cucumber/Projects/item-identification/.venv/lib/python3.9/site-packages/sklearn/metrics/_classification.py:1565: UndefinedMetricWarning: Precision is ill-defined and being set to 0.0 in labels with no predicted samples. Use `zero_division` parameter to control this behavior.\n",
      "  _warn_prf(average, modifier, f\"{metric.capitalize()} is\", len(result))\n"
     ]
    },
    {
     "name": "stdout",
     "output_type": "stream",
     "text": [
      "Epoch 31/64:\n",
      "  Train Loss: 0.6122\n",
      "  Val Loss: 1.6700\n",
      "  Val Accuracy: 0.6396\n",
      "  Time: 174.64s\n",
      "--------------------------------------------------\n"
     ]
    },
    {
     "name": "stderr",
     "output_type": "stream",
     "text": [
      "Epoch 32/64: 100%|██████████| 166/166 [01:02<00:00,  2.67it/s, Loss=0.2539]\n"
     ]
    },
    {
     "name": "stdout",
     "output_type": "stream",
     "text": [
      "Start evaluating...\n"
     ]
    }
   ],
   "source": [
    "from mlflow.utils import name_utils\n",
    "random_name = name_utils._generate_random_name()\n",
    "output_dim = len(train_dataset.cat2idx)\n",
    "backbones = [\n",
    "    (CLIPBackbone, \"ViT-B/32\", 0.001),\n",
    "    (CLIPBackbone, \"ViT-B/16\", 0.001),\n",
    "    (DinoBackbone, \"facebook/dinov2-small\", 0.001),\n",
    "    (DinoBackbone, \"facebook/dinov2-base\", 0.001),\n",
    "    (DenseNetBackbone, \"densenet121\", 0.0001),\n",
    "    # (DenseNetBackbone, \"densenet169\", 0.1),\n",
    "    (ResNetBackbone, \"resnet50\", 0.0001),\n",
    "    # (ResNetBackbone, \"resnet101\", 0.01),\n",
    "]\n",
    "\n",
    "for item in backbones:\n",
    "    cls, name, lr = item\n",
    "    backbone = cls(name)\n",
    "    model = TransferNetwork(backbone, output_dim=train_dataset.num_classes)\n",
    "    trainer = TransferTrainer(model, mlflow_experiment_name=\"/TransferLearningV2\", mlflow_run_name=random_name + f\"-{backbone._backbone_name}\", learning_rate=lr)\n",
    "    trainer.train(N_EPOCH, train_loader, val_loader, test_loader)\n"
   ]
  },
  {
   "cell_type": "code",
   "execution_count": null,
   "metadata": {},
   "outputs": [],
   "source": []
  }
 ],
 "metadata": {
  "kernelspec": {
   "display_name": ".venv",
   "language": "python",
   "name": "python3"
  },
  "language_info": {
   "codemirror_mode": {
    "name": "ipython",
    "version": 3
   },
   "file_extension": ".py",
   "mimetype": "text/x-python",
   "name": "python",
   "nbconvert_exporter": "python",
   "pygments_lexer": "ipython3",
   "version": "3.9.6"
  }
 },
 "nbformat": 4,
 "nbformat_minor": 2
}
