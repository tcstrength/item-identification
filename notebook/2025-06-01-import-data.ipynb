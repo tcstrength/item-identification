{
 "cells": [
  {
   "cell_type": "code",
   "execution_count": 1,
   "metadata": {},
   "outputs": [
    {
     "name": "stderr",
     "output_type": "stream",
     "text": [
      "/Volumes/Cucumber/Projects/item-identification/.venv/lib/python3.9/site-packages/urllib3/__init__.py:35: NotOpenSSLWarning: urllib3 v2 only supports OpenSSL 1.1.1+, currently the 'ssl' module is compiled with 'LibreSSL 2.8.3'. See: https://github.com/urllib3/urllib3/issues/3020\n",
      "  warnings.warn(\n",
      "\u001b[32m2025-06-01 20:07:43.237\u001b[0m | \u001b[1mINFO    \u001b[0m | \u001b[36mhcmus.core.appconfig\u001b[0m:\u001b[36m<module>\u001b[0m:\u001b[36m7\u001b[0m - \u001b[1mLoad DotEnv: True\u001b[0m\n"
     ]
    }
   ],
   "source": [
    "import os\n",
    "import glob\n",
    "import requests\n",
    "from loguru import logger\n",
    "from typing import List, Dict\n",
    "from hcmus.core import appconfig"
   ]
  },
  {
   "cell_type": "code",
   "execution_count": 2,
   "metadata": {},
   "outputs": [],
   "source": [
    "INPUT_FOLDER = \"/Users/keith/Downloads/resized\"\n",
    "PROJECT_ID = \"train-shelves\""
   ]
  },
  {
   "cell_type": "code",
   "execution_count": 3,
   "metadata": {},
   "outputs": [],
   "source": [
    "def chunk_list(lst, chunk_size):\n",
    "    result = []\n",
    "    for i in range(0, len(lst), chunk_size):\n",
    "        result.append(lst[i:i + chunk_size])\n",
    "    return result"
   ]
  },
  {
   "cell_type": "code",
   "execution_count": 4,
   "metadata": {},
   "outputs": [],
   "source": [
    "def list_all_images(folder_path: str) -> List[str]:\n",
    "    image_files = []\n",
    "    extensions = [\"jpg\", \"jpeg\", \"png\", \"JPG\", \"JPEG\", \"PNG\"]\n",
    "    for ext in extensions:\n",
    "        pattern = f\"{folder_path}/**/*.{ext}\"\n",
    "        logger.info(pattern)\n",
    "        image_files.extend(glob.glob(pattern, recursive=True))\n",
    "\n",
    "    return image_files"
   ]
  },
  {
   "cell_type": "code",
   "execution_count": 5,
   "metadata": {},
   "outputs": [
    {
     "name": "stderr",
     "output_type": "stream",
     "text": [
      "\u001b[32m2025-06-01 20:07:43.799\u001b[0m | \u001b[1mINFO    \u001b[0m | \u001b[36m__main__\u001b[0m:\u001b[36mlist_all_images\u001b[0m:\u001b[36m6\u001b[0m - \u001b[1m/Users/keith/Downloads/resized/**/*.jpg\u001b[0m\n",
      "\u001b[32m2025-06-01 20:07:43.802\u001b[0m | \u001b[1mINFO    \u001b[0m | \u001b[36m__main__\u001b[0m:\u001b[36mlist_all_images\u001b[0m:\u001b[36m6\u001b[0m - \u001b[1m/Users/keith/Downloads/resized/**/*.jpeg\u001b[0m\n",
      "\u001b[32m2025-06-01 20:07:43.803\u001b[0m | \u001b[1mINFO    \u001b[0m | \u001b[36m__main__\u001b[0m:\u001b[36mlist_all_images\u001b[0m:\u001b[36m6\u001b[0m - \u001b[1m/Users/keith/Downloads/resized/**/*.png\u001b[0m\n",
      "\u001b[32m2025-06-01 20:07:43.804\u001b[0m | \u001b[1mINFO    \u001b[0m | \u001b[36m__main__\u001b[0m:\u001b[36mlist_all_images\u001b[0m:\u001b[36m6\u001b[0m - \u001b[1m/Users/keith/Downloads/resized/**/*.JPG\u001b[0m\n",
      "\u001b[32m2025-06-01 20:07:43.804\u001b[0m | \u001b[1mINFO    \u001b[0m | \u001b[36m__main__\u001b[0m:\u001b[36mlist_all_images\u001b[0m:\u001b[36m6\u001b[0m - \u001b[1m/Users/keith/Downloads/resized/**/*.JPEG\u001b[0m\n",
      "\u001b[32m2025-06-01 20:07:43.805\u001b[0m | \u001b[1mINFO    \u001b[0m | \u001b[36m__main__\u001b[0m:\u001b[36mlist_all_images\u001b[0m:\u001b[36m6\u001b[0m - \u001b[1m/Users/keith/Downloads/resized/**/*.PNG\u001b[0m\n",
      "\u001b[32m2025-06-01 20:07:43.805\u001b[0m | \u001b[1mINFO    \u001b[0m | \u001b[36m__main__\u001b[0m:\u001b[36m<module>\u001b[0m:\u001b[36m2\u001b[0m - \u001b[1mNumber of images: 33\u001b[0m\n",
      "\u001b[32m2025-06-01 20:07:43.806\u001b[0m | \u001b[1mINFO    \u001b[0m | \u001b[36m__main__\u001b[0m:\u001b[36m<module>\u001b[0m:\u001b[36m4\u001b[0m - \u001b[1mNumber of chunks: 1\u001b[0m\n"
     ]
    }
   ],
   "source": [
    "files = list_all_images(INPUT_FOLDER)\n",
    "logger.info(f\"Number of images: {len(files)}\")\n",
    "chunks = chunk_list(files, 50)\n",
    "logger.info(f\"Number of chunks: {len(chunks)}\")"
   ]
  },
  {
   "cell_type": "code",
   "execution_count": 6,
   "metadata": {},
   "outputs": [],
   "source": [
    "def get_filename_from_path(path: str) -> str:\n",
    "    return os.path.basename(path)"
   ]
  },
  {
   "cell_type": "code",
   "execution_count": 7,
   "metadata": {},
   "outputs": [],
   "source": [
    "def get_label_studio_headers() -> Dict[str, str]:\n",
    "    headers = {\n",
    "        \"Authorization\": f\"Token {appconfig.LABEL_STUDIO_API_KEY}\"\n",
    "    }\n",
    "    return headers"
   ]
  },
  {
   "cell_type": "code",
   "execution_count": 8,
   "metadata": {},
   "outputs": [],
   "source": [
    "def get_uploaded_tasks(dataset_name: str):\n",
    "    \"\"\"Fetch all tasks from Label Studio with pagination\"\"\"\n",
    "    uploaded_files = set()\n",
    "    page = 1\n",
    "    page_size = 100  # You can increase this if needed\n",
    "    headers = get_label_studio_headers()\n",
    "    project_id = appconfig.LABEL_STUDIO_PROJECT_MAPPING[dataset_name]\n",
    "    endpoint = f\"{appconfig.LABEL_STUDIO_URL}/api/projects/{project_id}/tasks/\"\n",
    "    logger.info(f\"Endpoint: {endpoint}\")\n",
    "    while True:\n",
    "        response = requests.get(\n",
    "            endpoint,\n",
    "            headers=headers,\n",
    "            params={\"page\": page, \"page_size\": page_size},\n",
    "        )\n",
    "\n",
    "        if response.status_code != 200:\n",
    "            logger.warning(\"Error fetching tasks:\" + response.text)\n",
    "            break\n",
    "\n",
    "        tasks = response.json()\n",
    "        if not tasks:  # Stop when no more tasks are returned\n",
    "            break\n",
    "\n",
    "        uploaded_files.update(task[\"data\"].get(\"image\", \"\") for task in tasks)\n",
    "        page += 1  # Move to the next page\n",
    "\n",
    "    return uploaded_files"
   ]
  },
  {
   "cell_type": "code",
   "execution_count": 9,
   "metadata": {},
   "outputs": [],
   "source": [
    "def upload_file(project_id: int, file_path: str, uploaded_tasks):\n",
    "    filename = get_filename_from_path(file_path)\n",
    "    for task in uploaded_tasks:\n",
    "        if filename not in task: continue\n",
    "        logger.info(f\"File already exists: {filename}\")\n",
    "        return\n",
    "\n",
    "    headers = get_label_studio_headers()\n",
    "    with open(file_path, \"rb\") as f:\n",
    "        files = {\"file\": f}\n",
    "        endpoint = f\"{appconfig.LABEL_STUDIO_URL}/api/projects/{project_id}/import\"\n",
    "        try:\n",
    "            response = requests.post(\n",
    "                endpoint,\n",
    "                files=files,\n",
    "                headers=headers,\n",
    "            )\n",
    "        except Exception as e:\n",
    "            logger.warning(e)\n",
    "            return None\n",
    "\n",
    "\n",
    "    if response.status_code == 201:\n",
    "        print(f\"Uploaded: {file_path}\")\n",
    "        return response.json()\n",
    "    else:\n",
    "        print(f\"Error uploading {file_path}: {response.text}\")\n",
    "        return None\n",
    "\n",
    "def upload_multiple_files(chunk: List[str], uploaded_tasks, dataset_name: str):\n",
    "    project_id = appconfig.LABEL_STUDIO_PROJECT_MAPPING[dataset_name]\n",
    "    for file_path in chunk:\n",
    "        upload_file(project_id, file_path, uploaded_tasks)"
   ]
  },
  {
   "cell_type": "code",
   "execution_count": 10,
   "metadata": {},
   "outputs": [
    {
     "name": "stderr",
     "output_type": "stream",
     "text": [
      "\u001b[32m2025-06-01 20:07:43.825\u001b[0m | \u001b[1mINFO    \u001b[0m | \u001b[36m__main__\u001b[0m:\u001b[36mget_uploaded_tasks\u001b[0m:\u001b[36m9\u001b[0m - \u001b[1mEndpoint: http://jimica.ddns.net:8080/api/projects/10/tasks/\u001b[0m\n",
      "\u001b[32m2025-06-01 20:07:43.869\u001b[0m | \u001b[33m\u001b[1mWARNING \u001b[0m | \u001b[36m__main__\u001b[0m:\u001b[36mget_uploaded_tasks\u001b[0m:\u001b[36m18\u001b[0m - \u001b[33m\u001b[1mError fetching tasks:{\"id\":\"b635fd19-d945-4c7d-983b-66302dce3fb9\",\"status_code\":404,\"version\":\"1.16.0\",\"detail\":\"Not found.\",\"exc_info\":null}\u001b[0m\n",
      "\u001b[32m2025-06-01 20:07:43.869\u001b[0m | \u001b[1mINFO    \u001b[0m | \u001b[36m__main__\u001b[0m:\u001b[36m<module>\u001b[0m:\u001b[36m2\u001b[0m - \u001b[1mNumber of uploaded tasks: 0\u001b[0m\n"
     ]
    }
   ],
   "source": [
    "uploaded_tasks =  get_uploaded_tasks(PROJECT_ID)\n",
    "logger.info(f\"Number of uploaded tasks: {len(uploaded_tasks)}\")"
   ]
  },
  {
   "cell_type": "code",
   "execution_count": 11,
   "metadata": {},
   "outputs": [
    {
     "name": "stdout",
     "output_type": "stream",
     "text": [
      "Uploaded: /Users/keith/Downloads/resized/1748079909426.jpg\n",
      "Uploaded: /Users/keith/Downloads/resized/_storage_emulated_0_Android_data_com.miui.gallery_cache_SecurityShare_1748079907598.jpg\n",
      "Uploaded: /Users/keith/Downloads/resized/IMG_20250521_094726.jpg\n",
      "Uploaded: /Users/keith/Downloads/resized/1748079907740.jpg\n",
      "Uploaded: /Users/keith/Downloads/resized/IMG_20250521_140417.jpg\n",
      "Uploaded: /Users/keith/Downloads/resized/IMG_20250521_140429.jpg\n",
      "Uploaded: /Users/keith/Downloads/resized/IMG_20250521_140438.jpg\n",
      "Uploaded: /Users/keith/Downloads/resized/IMG_20250521_094656.jpg\n",
      "Uploaded: /Users/keith/Downloads/resized/1748079907631.jpg\n",
      "Uploaded: /Users/keith/Downloads/resized/1748079909436.jpg\n",
      "Uploaded: /Users/keith/Downloads/resized/IMG_20250521_094828.jpg\n",
      "Uploaded: /Users/keith/Downloads/resized/1748079508449.jpg\n",
      "Uploaded: /Users/keith/Downloads/resized/1748079508458.jpg\n",
      "Uploaded: /Users/keith/Downloads/resized/1748079908212.jpg\n",
      "Uploaded: /Users/keith/Downloads/resized/1748079908171.jpg\n",
      "Uploaded: /Users/keith/Downloads/resized/IMG_20250521_094813.jpg\n",
      "Uploaded: /Users/keith/Downloads/resized/1748079908551.jpg\n",
      "Uploaded: /Users/keith/Downloads/resized/1748079908009.jpg\n",
      "Uploaded: /Users/keith/Downloads/resized/IMG_20250521_094821.jpg\n",
      "Uploaded: /Users/keith/Downloads/resized/1748079908152.jpg\n",
      "Uploaded: /Users/keith/Downloads/resized/1748079908192.jpg\n",
      "Uploaded: /Users/keith/Downloads/resized/1748079508686.jpg\n",
      "Uploaded: /Users/keith/Downloads/resized/1748079908533.jpg\n",
      "Uploaded: /Users/keith/Downloads/resized/1748079907615.jpg\n",
      "Uploaded: /Users/keith/Downloads/resized/IMG_20250521_140434.jpg\n",
      "Uploaded: /Users/keith/Downloads/resized/1748079907788.jpg\n",
      "Uploaded: /Users/keith/Downloads/resized/1748079508436.jpg\n",
      "Uploaded: /Users/keith/Downloads/resized/1748079908041.jpg\n",
      "Uploaded: /Users/keith/Downloads/resized/1748079508426.jpg\n",
      "Uploaded: /Users/keith/Downloads/resized/1748079908085.jpg\n",
      "Uploaded: /Users/keith/Downloads/resized/1748079908251.jpg\n",
      "Uploaded: /Users/keith/Downloads/resized/1748079908133.jpg\n",
      "Uploaded: /Users/keith/Downloads/resized/1748079907764.jpg\n"
     ]
    }
   ],
   "source": [
    "for chunk in chunks:\n",
    "    upload_multiple_files(chunk, uploaded_tasks, PROJECT_ID)"
   ]
  },
  {
   "cell_type": "code",
   "execution_count": null,
   "metadata": {},
   "outputs": [],
   "source": []
  }
 ],
 "metadata": {
  "kernelspec": {
   "display_name": ".venv",
   "language": "python",
   "name": "python3"
  },
  "language_info": {
   "codemirror_mode": {
    "name": "ipython",
    "version": 3
   },
   "file_extension": ".py",
   "mimetype": "text/x-python",
   "name": "python",
   "nbconvert_exporter": "python",
   "pygments_lexer": "ipython3",
   "version": "3.9.6"
  }
 },
 "nbformat": 4,
 "nbformat_minor": 2
}
