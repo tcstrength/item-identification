{
 "cells": [
  {
   "cell_type": "code",
   "execution_count": 1,
   "metadata": {},
   "outputs": [
    {
     "name": "stderr",
     "output_type": "stream",
     "text": [
      "\u001b[32m2025-07-07 10:40:06.861\u001b[0m | \u001b[1mINFO    \u001b[0m | \u001b[36mhcmus.core.appconfig\u001b[0m:\u001b[36m<module>\u001b[0m:\u001b[36m7\u001b[0m - \u001b[1mLoad DotEnv: True\u001b[0m\n",
      "/Volumes/Cucumber/Projects/item-identification/.venv/lib/python3.9/site-packages/urllib3/__init__.py:35: NotOpenSSLWarning: urllib3 v2 only supports OpenSSL 1.1.1+, currently the 'ssl' module is compiled with 'LibreSSL 2.8.3'. See: https://github.com/urllib3/urllib3/issues/3020\n",
      "  warnings.warn(\n",
      "\u001b[32m2025-07-07 10:40:07.987\u001b[0m | \u001b[33m\u001b[1mWARNING \u001b[0m | \u001b[36mhcmus.lbs._label_studio_connector\u001b[0m:\u001b[36mget_tasks\u001b[0m:\u001b[36m148\u001b[0m - \u001b[33m\u001b[1mPage size is too large, only 3443 tasks available.\u001b[0m\n",
      "\u001b[32m2025-07-07 10:40:07.988\u001b[0m | \u001b[1mINFO    \u001b[0m | \u001b[36mhcmus.lbs._label_studio_connector\u001b[0m:\u001b[36mget_tasks\u001b[0m:\u001b[36m152\u001b[0m - \u001b[1mNew `page_to` applied: 35\u001b[0m\n",
      "Loading tasks: 100%|██████████| 35/35 [00:10<00:00,  3.24it/s]\n",
      "Downloading images: 100%|██████████| 3443/3443 [00:05<00:00, 579.26it/s] \n",
      "\u001b[32m2025-07-07 10:40:24.872\u001b[0m | \u001b[33m\u001b[1mWARNING \u001b[0m | \u001b[36mhcmus.lbs._label_studio_connector\u001b[0m:\u001b[36mget_tasks\u001b[0m:\u001b[36m148\u001b[0m - \u001b[33m\u001b[1mPage size is too large, only 435 tasks available.\u001b[0m\n",
      "\u001b[32m2025-07-07 10:40:24.873\u001b[0m | \u001b[1mINFO    \u001b[0m | \u001b[36mhcmus.lbs._label_studio_connector\u001b[0m:\u001b[36mget_tasks\u001b[0m:\u001b[36m152\u001b[0m - \u001b[1mNew `page_to` applied: 5\u001b[0m\n",
      "Loading tasks: 100%|██████████| 5/5 [00:03<00:00,  1.61it/s]\n",
      "Downloading images: 100%|██████████| 435/435 [00:02<00:00, 204.09it/s]\n",
      "\u001b[32m2025-07-07 10:40:30.240\u001b[0m | \u001b[33m\u001b[1mWARNING \u001b[0m | \u001b[36mhcmus.lbs._label_studio_connector\u001b[0m:\u001b[36mget_tasks\u001b[0m:\u001b[36m148\u001b[0m - \u001b[33m\u001b[1mPage size is too large, only 355 tasks available.\u001b[0m\n",
      "\u001b[32m2025-07-07 10:40:30.241\u001b[0m | \u001b[1mINFO    \u001b[0m | \u001b[36mhcmus.lbs._label_studio_connector\u001b[0m:\u001b[36mget_tasks\u001b[0m:\u001b[36m152\u001b[0m - \u001b[1mNew `page_to` applied: 4\u001b[0m\n",
      "Loading tasks: 100%|██████████| 4/4 [00:01<00:00,  2.43it/s]\n",
      "Downloading images: 100%|██████████| 355/355 [00:01<00:00, 191.68it/s]\n",
      "\u001b[32m2025-07-07 10:40:33.777\u001b[0m | \u001b[1mINFO    \u001b[0m | \u001b[36mhcmus.data._torch_dataset_v2\u001b[0m:\u001b[36m__init__\u001b[0m:\u001b[36m56\u001b[0m - \u001b[1mApply random_margin=0\u001b[0m\n",
      "\u001b[32m2025-07-07 10:40:34.081\u001b[0m | \u001b[1mINFO    \u001b[0m | \u001b[36mhcmus.data._torch_dataset_v2\u001b[0m:\u001b[36m__init__\u001b[0m:\u001b[36m67\u001b[0m - \u001b[1mAuto infer `label2idx` mapping, mapping length: 99.\u001b[0m\n",
      "\u001b[32m2025-07-07 10:40:34.085\u001b[0m | \u001b[1mINFO    \u001b[0m | \u001b[36mhcmus.data._torch_dataset_v2\u001b[0m:\u001b[36m__init__\u001b[0m:\u001b[36m56\u001b[0m - \u001b[1mApply random_margin=0\u001b[0m\n",
      "\u001b[32m2025-07-07 10:40:34.437\u001b[0m | \u001b[1mINFO    \u001b[0m | \u001b[36mhcmus.data._torch_dataset_v2\u001b[0m:\u001b[36m__init__\u001b[0m:\u001b[36m56\u001b[0m - \u001b[1mApply random_margin=0\u001b[0m\n"
     ]
    }
   ],
   "source": [
    "from hcmus.utils import data_utils\n",
    "\n",
    "splits = data_utils.get_data_splits()\n",
    "datasets = data_utils.get_image_datasets_v2(splits, random_margin=0)"
   ]
  },
  {
   "cell_type": "code",
   "execution_count": 6,
   "metadata": {},
   "outputs": [],
   "source": [
    "from loguru import logger\n",
    "from torchvision import transforms as T\n",
    "from hcmus.models.backbone import CLIPBackbone\n",
    "from hcmus.models.backbone import DinoBackbone"
   ]
  },
  {
   "cell_type": "code",
   "execution_count": 3,
   "metadata": {},
   "outputs": [],
   "source": [
    "device = \"mps\"\n",
    "backbone_list = [\n",
    "    (CLIPBackbone, {\"backbone_name\": \"ViT-B/32\"}),\n",
    "    (CLIPBackbone, {\"backbone_name\": \"ViT-B/16\"}),\n",
    "    (DinoBackbone, {\"model_id\": \"facebook/dinov2-small\"}),\n",
    "    (DinoBackbone, {\"model_id\": \"facebook/dinov2-base\"}),\n",
    "    (DinoBackbone, {\"model_id\": \"facebook/dino-vitb8\"}),\n",
    "    (DinoBackbone, {\"model_id\": \"facebook/dino-vits8\"}),\n",
    "    (DinoBackbone, {\"model_id\": \"facebook/dino-vits16\"}),\n",
    "    (DinoBackbone, {\"model_id\": \"facebook/dino-vitb16\"}),\n",
    "]\n",
    "\n",
    "transform = T.Compose([\n",
    "    T.Resize((224, 224)),\n",
    "    T.ToTensor()\n",
    "])"
   ]
  },
  {
   "cell_type": "code",
   "execution_count": 14,
   "metadata": {},
   "outputs": [],
   "source": [
    "import faiss\n",
    "from tqdm import tqdm\n",
    "\n",
    "def build_index(backbone_config):\n",
    "    cls, params = backbone_config\n",
    "    backbone = cls(**params)\n",
    "    output_dim = backbone.output_dim\n",
    "    logger.info(f\"Backbone: {cls.__name__}, params={params}\")\n",
    "    logger.info(f\"Output dim: {backbone.output_dim}\")\n",
    "    index = faiss.IndexHNSWFlat(output_dim, 256)\n",
    "    labels = []\n",
    "    for item in tqdm(datasets[\"train\"], desc=\"Building index...\"):\n",
    "        image, label, metadata = item\n",
    "        tensor = transform(image)\n",
    "        feature = backbone.forward(tensor)\n",
    "        feature = feature.detach().numpy().astype(\"float32\")\n",
    "        labels.append((label, metadata[\"label_str\"]))\n",
    "        index.add(feature)\n",
    "    return backbone, index, labels"
   ]
  },
  {
   "cell_type": "code",
   "execution_count": 33,
   "metadata": {},
   "outputs": [],
   "source": [
    "def evaluate(backbone, index, labels, split_name: str):\n",
    "    precision_1 = 0\n",
    "    precision_3 = 0\n",
    "    precision_5 = 0\n",
    "\n",
    "    total = len(datasets[split_name])\n",
    "    for item in tqdm(datasets[split_name], desc=\"Evaluating dataset=val...\"):\n",
    "        image, label, metadata = item\n",
    "        tensor = transform(image)\n",
    "        feature = backbone.forward(tensor)\n",
    "        feature = feature.detach().numpy().astype(\"float32\")\n",
    "        _, I = index.search(feature, k=5)\n",
    "        preds = [labels[i][0] for i in I[0]]\n",
    "        precision_1 += preds[0] == label\n",
    "        precision_3 += label in preds[:2]\n",
    "        precision_5 += label in preds[:4]\n",
    "\n",
    "    logger.info(f\"Precision@1 dataset={split_name}: {precision_1 / total}\")\n",
    "    logger.info(f\"Precision@3 dataset={split_name}: {precision_3 / total}\")\n",
    "    logger.info(f\"Precision@5 dataset={split_name}: {precision_5 / total}\")\n"
   ]
  },
  {
   "cell_type": "code",
   "execution_count": 34,
   "metadata": {},
   "outputs": [
    {
     "name": "stderr",
     "output_type": "stream",
     "text": [
      "\u001b[32m2025-07-07 11:13:50.336\u001b[0m | \u001b[1mINFO    \u001b[0m | \u001b[36m__main__\u001b[0m:\u001b[36mbuild_index\u001b[0m:\u001b[36m8\u001b[0m - \u001b[1mBackbone: CLIPBackbone, params={'backbone_name': 'ViT-B/32'}\u001b[0m\n",
      "\u001b[32m2025-07-07 11:13:50.337\u001b[0m | \u001b[1mINFO    \u001b[0m | \u001b[36m__main__\u001b[0m:\u001b[36mbuild_index\u001b[0m:\u001b[36m9\u001b[0m - \u001b[1mOutput dim: 512\u001b[0m\n",
      "Building index...: 100%|██████████| 2659/2659 [01:25<00:00, 31.27it/s]\n",
      "Evaluating dataset=val...: 100%|██████████| 2824/2824 [02:03<00:00, 22.82it/s]\n",
      "\u001b[32m2025-07-07 11:17:19.116\u001b[0m | \u001b[1mINFO    \u001b[0m | \u001b[36m__main__\u001b[0m:\u001b[36mevaluate\u001b[0m:\u001b[36m18\u001b[0m - \u001b[1mPrecision@1 dataset=val: 0.5722379603399433\u001b[0m\n",
      "\u001b[32m2025-07-07 11:17:19.116\u001b[0m | \u001b[1mINFO    \u001b[0m | \u001b[36m__main__\u001b[0m:\u001b[36mevaluate\u001b[0m:\u001b[36m19\u001b[0m - \u001b[1mPrecision@3 dataset=val: 0.6388101983002833\u001b[0m\n",
      "\u001b[32m2025-07-07 11:17:19.116\u001b[0m | \u001b[1mINFO    \u001b[0m | \u001b[36m__main__\u001b[0m:\u001b[36mevaluate\u001b[0m:\u001b[36m20\u001b[0m - \u001b[1mPrecision@5 dataset=val: 0.6855524079320113\u001b[0m\n",
      "Evaluating dataset=val...: 100%|██████████| 5836/5836 [04:24<00:00, 22.10it/s]\n",
      "\u001b[32m2025-07-07 11:21:43.168\u001b[0m | \u001b[1mINFO    \u001b[0m | \u001b[36m__main__\u001b[0m:\u001b[36mevaluate\u001b[0m:\u001b[36m18\u001b[0m - \u001b[1mPrecision@1 dataset=test: 0.4885195339273475\u001b[0m\n",
      "\u001b[32m2025-07-07 11:21:43.168\u001b[0m | \u001b[1mINFO    \u001b[0m | \u001b[36m__main__\u001b[0m:\u001b[36mevaluate\u001b[0m:\u001b[36m19\u001b[0m - \u001b[1mPrecision@3 dataset=test: 0.569396847155586\u001b[0m\n",
      "\u001b[32m2025-07-07 11:21:43.169\u001b[0m | \u001b[1mINFO    \u001b[0m | \u001b[36m__main__\u001b[0m:\u001b[36mevaluate\u001b[0m:\u001b[36m20\u001b[0m - \u001b[1mPrecision@5 dataset=test: 0.6271418779986292\u001b[0m\n",
      "/Volumes/Cucumber/Projects/item-identification/.venv/lib/python3.9/site-packages/clip/clip.py:57: UserWarning: /Users/keith/.cache/clip/ViT-B-16.pt exists, but the SHA256 checksum does not match; re-downloading the file\n",
      "  warnings.warn(f\"{download_target} exists, but the SHA256 checksum does not match; re-downloading the file\")\n",
      "100%|███████████████████████████████████████| 335M/335M [00:17<00:00, 19.9MiB/s]\n",
      "\u001b[32m2025-07-07 11:22:02.445\u001b[0m | \u001b[1mINFO    \u001b[0m | \u001b[36m__main__\u001b[0m:\u001b[36mbuild_index\u001b[0m:\u001b[36m8\u001b[0m - \u001b[1mBackbone: CLIPBackbone, params={'backbone_name': 'ViT-B/16'}\u001b[0m\n",
      "\u001b[32m2025-07-07 11:22:02.445\u001b[0m | \u001b[1mINFO    \u001b[0m | \u001b[36m__main__\u001b[0m:\u001b[36mbuild_index\u001b[0m:\u001b[36m9\u001b[0m - \u001b[1mOutput dim: 512\u001b[0m\n",
      "Building index...: 100%|██████████| 2659/2659 [02:34<00:00, 17.17it/s]\n",
      "Evaluating dataset=val...: 100%|██████████| 2824/2824 [03:17<00:00, 14.33it/s]\n",
      "\u001b[32m2025-07-07 11:27:54.472\u001b[0m | \u001b[1mINFO    \u001b[0m | \u001b[36m__main__\u001b[0m:\u001b[36mevaluate\u001b[0m:\u001b[36m18\u001b[0m - \u001b[1mPrecision@1 dataset=val: 0.6228753541076487\u001b[0m\n",
      "\u001b[32m2025-07-07 11:27:54.472\u001b[0m | \u001b[1mINFO    \u001b[0m | \u001b[36m__main__\u001b[0m:\u001b[36mevaluate\u001b[0m:\u001b[36m19\u001b[0m - \u001b[1mPrecision@3 dataset=val: 0.6866147308781869\u001b[0m\n",
      "\u001b[32m2025-07-07 11:27:54.473\u001b[0m | \u001b[1mINFO    \u001b[0m | \u001b[36m__main__\u001b[0m:\u001b[36mevaluate\u001b[0m:\u001b[36m20\u001b[0m - \u001b[1mPrecision@5 dataset=val: 0.7330028328611898\u001b[0m\n",
      "Evaluating dataset=val...: 100%|██████████| 5836/5836 [07:04<00:00, 13.75it/s]\n",
      "\u001b[32m2025-07-07 11:34:58.807\u001b[0m | \u001b[1mINFO    \u001b[0m | \u001b[36m__main__\u001b[0m:\u001b[36mevaluate\u001b[0m:\u001b[36m18\u001b[0m - \u001b[1mPrecision@1 dataset=test: 0.5277587388622345\u001b[0m\n",
      "\u001b[32m2025-07-07 11:34:58.807\u001b[0m | \u001b[1mINFO    \u001b[0m | \u001b[36m__main__\u001b[0m:\u001b[36mevaluate\u001b[0m:\u001b[36m19\u001b[0m - \u001b[1mPrecision@3 dataset=test: 0.5976696367374914\u001b[0m\n",
      "\u001b[32m2025-07-07 11:34:58.807\u001b[0m | \u001b[1mINFO    \u001b[0m | \u001b[36m__main__\u001b[0m:\u001b[36mevaluate\u001b[0m:\u001b[36m20\u001b[0m - \u001b[1mPrecision@5 dataset=test: 0.654557916381083\u001b[0m\n",
      "\u001b[32m2025-07-07 11:34:59.505\u001b[0m | \u001b[1mINFO    \u001b[0m | \u001b[36m__main__\u001b[0m:\u001b[36mbuild_index\u001b[0m:\u001b[36m8\u001b[0m - \u001b[1mBackbone: DinoBackbone, params={'model_id': 'facebook/dinov2-small'}\u001b[0m\n",
      "\u001b[32m2025-07-07 11:34:59.506\u001b[0m | \u001b[1mINFO    \u001b[0m | \u001b[36m__main__\u001b[0m:\u001b[36mbuild_index\u001b[0m:\u001b[36m9\u001b[0m - \u001b[1mOutput dim: 384\u001b[0m\n",
      "Building index...: 100%|██████████| 2659/2659 [01:37<00:00, 27.29it/s]\n",
      "Evaluating dataset=val...: 100%|██████████| 2824/2824 [02:17<00:00, 20.56it/s]\n",
      "\u001b[32m2025-07-07 11:38:54.316\u001b[0m | \u001b[1mINFO    \u001b[0m | \u001b[36m__main__\u001b[0m:\u001b[36mevaluate\u001b[0m:\u001b[36m18\u001b[0m - \u001b[1mPrecision@1 dataset=val: 0.5339943342776204\u001b[0m\n",
      "\u001b[32m2025-07-07 11:38:54.316\u001b[0m | \u001b[1mINFO    \u001b[0m | \u001b[36m__main__\u001b[0m:\u001b[36mevaluate\u001b[0m:\u001b[36m19\u001b[0m - \u001b[1mPrecision@3 dataset=val: 0.6196883852691218\u001b[0m\n",
      "\u001b[32m2025-07-07 11:38:54.316\u001b[0m | \u001b[1mINFO    \u001b[0m | \u001b[36m__main__\u001b[0m:\u001b[36mevaluate\u001b[0m:\u001b[36m20\u001b[0m - \u001b[1mPrecision@5 dataset=val: 0.6901558073654391\u001b[0m\n",
      "Evaluating dataset=val...: 100%|██████████| 5836/5836 [04:48<00:00, 20.20it/s]\n",
      "\u001b[32m2025-07-07 11:43:43.204\u001b[0m | \u001b[1mINFO    \u001b[0m | \u001b[36m__main__\u001b[0m:\u001b[36mevaluate\u001b[0m:\u001b[36m18\u001b[0m - \u001b[1mPrecision@1 dataset=test: 0.4403701165181631\u001b[0m\n",
      "\u001b[32m2025-07-07 11:43:43.204\u001b[0m | \u001b[1mINFO    \u001b[0m | \u001b[36m__main__\u001b[0m:\u001b[36mevaluate\u001b[0m:\u001b[36m19\u001b[0m - \u001b[1mPrecision@3 dataset=test: 0.5215901302261823\u001b[0m\n",
      "\u001b[32m2025-07-07 11:43:43.204\u001b[0m | \u001b[1mINFO    \u001b[0m | \u001b[36m__main__\u001b[0m:\u001b[36mevaluate\u001b[0m:\u001b[36m20\u001b[0m - \u001b[1mPrecision@5 dataset=test: 0.6036668951336532\u001b[0m\n",
      "\u001b[32m2025-07-07 11:43:43.807\u001b[0m | \u001b[1mINFO    \u001b[0m | \u001b[36m__main__\u001b[0m:\u001b[36mbuild_index\u001b[0m:\u001b[36m8\u001b[0m - \u001b[1mBackbone: DinoBackbone, params={'model_id': 'facebook/dinov2-base'}\u001b[0m\n",
      "\u001b[32m2025-07-07 11:43:43.807\u001b[0m | \u001b[1mINFO    \u001b[0m | \u001b[36m__main__\u001b[0m:\u001b[36mbuild_index\u001b[0m:\u001b[36m9\u001b[0m - \u001b[1mOutput dim: 768\u001b[0m\n",
      "Building index...: 100%|██████████| 2659/2659 [03:26<00:00, 12.87it/s]\n",
      "Evaluating dataset=val...: 100%|██████████| 2824/2824 [04:09<00:00, 11.34it/s]\n",
      "\u001b[32m2025-07-07 11:51:19.391\u001b[0m | \u001b[1mINFO    \u001b[0m | \u001b[36m__main__\u001b[0m:\u001b[36mevaluate\u001b[0m:\u001b[36m18\u001b[0m - \u001b[1mPrecision@1 dataset=val: 0.5803824362606232\u001b[0m\n",
      "\u001b[32m2025-07-07 11:51:19.391\u001b[0m | \u001b[1mINFO    \u001b[0m | \u001b[36m__main__\u001b[0m:\u001b[36mevaluate\u001b[0m:\u001b[36m19\u001b[0m - \u001b[1mPrecision@3 dataset=val: 0.6611189801699717\u001b[0m\n",
      "\u001b[32m2025-07-07 11:51:19.391\u001b[0m | \u001b[1mINFO    \u001b[0m | \u001b[36m__main__\u001b[0m:\u001b[36mevaluate\u001b[0m:\u001b[36m20\u001b[0m - \u001b[1mPrecision@5 dataset=val: 0.7492917847025495\u001b[0m\n",
      "Evaluating dataset=val...: 100%|██████████| 5836/5836 [08:53<00:00, 10.94it/s]\n",
      "\u001b[32m2025-07-07 12:00:12.962\u001b[0m | \u001b[1mINFO    \u001b[0m | \u001b[36m__main__\u001b[0m:\u001b[36mevaluate\u001b[0m:\u001b[36m18\u001b[0m - \u001b[1mPrecision@1 dataset=test: 0.4393420150788211\u001b[0m\n",
      "\u001b[32m2025-07-07 12:00:12.962\u001b[0m | \u001b[1mINFO    \u001b[0m | \u001b[36m__main__\u001b[0m:\u001b[36mevaluate\u001b[0m:\u001b[36m19\u001b[0m - \u001b[1mPrecision@3 dataset=test: 0.5332419465387251\u001b[0m\n",
      "\u001b[32m2025-07-07 12:00:12.963\u001b[0m | \u001b[1mINFO    \u001b[0m | \u001b[36m__main__\u001b[0m:\u001b[36mevaluate\u001b[0m:\u001b[36m20\u001b[0m - \u001b[1mPrecision@5 dataset=test: 0.633653187114462\u001b[0m\n",
      "Some weights of ViTModel were not initialized from the model checkpoint at facebook/dino-vitb8 and are newly initialized: ['pooler.dense.bias', 'pooler.dense.weight']\n",
      "You should probably TRAIN this model on a down-stream task to be able to use it for predictions and inference.\n",
      "\u001b[32m2025-07-07 12:00:25.885\u001b[0m | \u001b[1mINFO    \u001b[0m | \u001b[36m__main__\u001b[0m:\u001b[36mbuild_index\u001b[0m:\u001b[36m8\u001b[0m - \u001b[1mBackbone: DinoBackbone, params={'model_id': 'facebook/dino-vitb8'}\u001b[0m\n",
      "\u001b[32m2025-07-07 12:00:25.885\u001b[0m | \u001b[1mINFO    \u001b[0m | \u001b[36m__main__\u001b[0m:\u001b[36mbuild_index\u001b[0m:\u001b[36m9\u001b[0m - \u001b[1mOutput dim: 768\u001b[0m\n",
      "Building index...: 100%|██████████| 2659/2659 [08:51<00:00,  5.00it/s]\n",
      "Evaluating dataset=val...: 100%|██████████| 2824/2824 [09:46<00:00,  4.82it/s]\n",
      "\u001b[32m2025-07-07 12:19:03.412\u001b[0m | \u001b[1mINFO    \u001b[0m | \u001b[36m__main__\u001b[0m:\u001b[36mevaluate\u001b[0m:\u001b[36m18\u001b[0m - \u001b[1mPrecision@1 dataset=val: 0.6572237960339944\u001b[0m\n",
      "\u001b[32m2025-07-07 12:19:03.412\u001b[0m | \u001b[1mINFO    \u001b[0m | \u001b[36m__main__\u001b[0m:\u001b[36mevaluate\u001b[0m:\u001b[36m19\u001b[0m - \u001b[1mPrecision@3 dataset=val: 0.714943342776204\u001b[0m\n",
      "\u001b[32m2025-07-07 12:19:03.413\u001b[0m | \u001b[1mINFO    \u001b[0m | \u001b[36m__main__\u001b[0m:\u001b[36mevaluate\u001b[0m:\u001b[36m20\u001b[0m - \u001b[1mPrecision@5 dataset=val: 0.7772662889518414\u001b[0m\n",
      "Evaluating dataset=val...: 100%|██████████| 5836/5836 [20:16<00:00,  4.80it/s]\n",
      "\u001b[32m2025-07-07 12:39:19.537\u001b[0m | \u001b[1mINFO    \u001b[0m | \u001b[36m__main__\u001b[0m:\u001b[36mevaluate\u001b[0m:\u001b[36m18\u001b[0m - \u001b[1mPrecision@1 dataset=test: 0.6266278272789582\u001b[0m\n",
      "\u001b[32m2025-07-07 12:39:19.538\u001b[0m | \u001b[1mINFO    \u001b[0m | \u001b[36m__main__\u001b[0m:\u001b[36mevaluate\u001b[0m:\u001b[36m19\u001b[0m - \u001b[1mPrecision@3 dataset=test: 0.6907128169979438\u001b[0m\n",
      "\u001b[32m2025-07-07 12:39:19.538\u001b[0m | \u001b[1mINFO    \u001b[0m | \u001b[36m__main__\u001b[0m:\u001b[36mevaluate\u001b[0m:\u001b[36m20\u001b[0m - \u001b[1mPrecision@5 dataset=test: 0.7488005483207677\u001b[0m\n",
      "Some weights of ViTModel were not initialized from the model checkpoint at facebook/dino-vits8 and are newly initialized: ['pooler.dense.bias', 'pooler.dense.weight']\n",
      "You should probably TRAIN this model on a down-stream task to be able to use it for predictions and inference.\n",
      "\u001b[32m2025-07-07 12:39:26.918\u001b[0m | \u001b[1mINFO    \u001b[0m | \u001b[36m__main__\u001b[0m:\u001b[36mbuild_index\u001b[0m:\u001b[36m8\u001b[0m - \u001b[1mBackbone: DinoBackbone, params={'model_id': 'facebook/dino-vits8'}\u001b[0m\n",
      "\u001b[32m2025-07-07 12:39:26.918\u001b[0m | \u001b[1mINFO    \u001b[0m | \u001b[36m__main__\u001b[0m:\u001b[36mbuild_index\u001b[0m:\u001b[36m9\u001b[0m - \u001b[1mOutput dim: 384\u001b[0m\n",
      "Building index...: 100%|██████████| 2659/2659 [03:39<00:00, 12.13it/s]\n",
      "Evaluating dataset=val...: 100%|██████████| 2824/2824 [04:22<00:00, 10.75it/s]\n",
      "\u001b[32m2025-07-07 12:47:28.811\u001b[0m | \u001b[1mINFO    \u001b[0m | \u001b[36m__main__\u001b[0m:\u001b[36mevaluate\u001b[0m:\u001b[36m18\u001b[0m - \u001b[1mPrecision@1 dataset=val: 0.6264164305949008\u001b[0m\n",
      "\u001b[32m2025-07-07 12:47:28.811\u001b[0m | \u001b[1mINFO    \u001b[0m | \u001b[36m__main__\u001b[0m:\u001b[36mevaluate\u001b[0m:\u001b[36m19\u001b[0m - \u001b[1mPrecision@3 dataset=val: 0.6738668555240793\u001b[0m\n",
      "\u001b[32m2025-07-07 12:47:28.812\u001b[0m | \u001b[1mINFO    \u001b[0m | \u001b[36m__main__\u001b[0m:\u001b[36mevaluate\u001b[0m:\u001b[36m20\u001b[0m - \u001b[1mPrecision@5 dataset=val: 0.740084985835694\u001b[0m\n",
      "Evaluating dataset=val...: 100%|██████████| 5836/5836 [09:11<00:00, 10.58it/s]\n",
      "\u001b[32m2025-07-07 12:56:40.161\u001b[0m | \u001b[1mINFO    \u001b[0m | \u001b[36m__main__\u001b[0m:\u001b[36mevaluate\u001b[0m:\u001b[36m18\u001b[0m - \u001b[1mPrecision@1 dataset=test: 0.5788211103495545\u001b[0m\n",
      "\u001b[32m2025-07-07 12:56:40.161\u001b[0m | \u001b[1mINFO    \u001b[0m | \u001b[36m__main__\u001b[0m:\u001b[36mevaluate\u001b[0m:\u001b[36m19\u001b[0m - \u001b[1mPrecision@3 dataset=test: 0.6494174091843729\u001b[0m\n",
      "\u001b[32m2025-07-07 12:56:40.161\u001b[0m | \u001b[1mINFO    \u001b[0m | \u001b[36m__main__\u001b[0m:\u001b[36mevaluate\u001b[0m:\u001b[36m20\u001b[0m - \u001b[1mPrecision@5 dataset=test: 0.7105894448252228\u001b[0m\n",
      "Some weights of ViTModel were not initialized from the model checkpoint at facebook/dino-vits16 and are newly initialized: ['pooler.dense.bias', 'pooler.dense.weight']\n",
      "You should probably TRAIN this model on a down-stream task to be able to use it for predictions and inference.\n",
      "\u001b[32m2025-07-07 12:56:48.016\u001b[0m | \u001b[1mINFO    \u001b[0m | \u001b[36m__main__\u001b[0m:\u001b[36mbuild_index\u001b[0m:\u001b[36m8\u001b[0m - \u001b[1mBackbone: DinoBackbone, params={'model_id': 'facebook/dino-vits16'}\u001b[0m\n",
      "\u001b[32m2025-07-07 12:56:48.016\u001b[0m | \u001b[1mINFO    \u001b[0m | \u001b[36m__main__\u001b[0m:\u001b[36mbuild_index\u001b[0m:\u001b[36m9\u001b[0m - \u001b[1mOutput dim: 384\u001b[0m\n",
      "Building index...: 100%|██████████| 2659/2659 [01:20<00:00, 33.15it/s]\n",
      "Evaluating dataset=val...: 100%|██████████| 2824/2824 [01:56<00:00, 24.26it/s]\n",
      "\u001b[32m2025-07-07 13:00:04.646\u001b[0m | \u001b[1mINFO    \u001b[0m | \u001b[36m__main__\u001b[0m:\u001b[36mevaluate\u001b[0m:\u001b[36m18\u001b[0m - \u001b[1mPrecision@1 dataset=val: 0.6108356940509915\u001b[0m\n",
      "\u001b[32m2025-07-07 13:00:04.646\u001b[0m | \u001b[1mINFO    \u001b[0m | \u001b[36m__main__\u001b[0m:\u001b[36mevaluate\u001b[0m:\u001b[36m19\u001b[0m - \u001b[1mPrecision@3 dataset=val: 0.6841359773371105\u001b[0m\n",
      "\u001b[32m2025-07-07 13:00:04.646\u001b[0m | \u001b[1mINFO    \u001b[0m | \u001b[36m__main__\u001b[0m:\u001b[36mevaluate\u001b[0m:\u001b[36m20\u001b[0m - \u001b[1mPrecision@5 dataset=val: 0.7475212464589235\u001b[0m\n",
      "Evaluating dataset=val...: 100%|██████████| 5836/5836 [04:07<00:00, 23.55it/s]\n",
      "\u001b[32m2025-07-07 13:04:12.433\u001b[0m | \u001b[1mINFO    \u001b[0m | \u001b[36m__main__\u001b[0m:\u001b[36mevaluate\u001b[0m:\u001b[36m18\u001b[0m - \u001b[1mPrecision@1 dataset=test: 0.5550034270047978\u001b[0m\n",
      "\u001b[32m2025-07-07 13:04:12.433\u001b[0m | \u001b[1mINFO    \u001b[0m | \u001b[36m__main__\u001b[0m:\u001b[36mevaluate\u001b[0m:\u001b[36m19\u001b[0m - \u001b[1mPrecision@3 dataset=test: 0.6350239890335847\u001b[0m\n",
      "\u001b[32m2025-07-07 13:04:12.433\u001b[0m | \u001b[1mINFO    \u001b[0m | \u001b[36m__main__\u001b[0m:\u001b[36mevaluate\u001b[0m:\u001b[36m20\u001b[0m - \u001b[1mPrecision@5 dataset=test: 0.7049348869088417\u001b[0m\n",
      "Some weights of ViTModel were not initialized from the model checkpoint at facebook/dino-vitb16 and are newly initialized: ['pooler.dense.bias', 'pooler.dense.weight']\n",
      "You should probably TRAIN this model on a down-stream task to be able to use it for predictions and inference.\n",
      "\u001b[32m2025-07-07 13:04:25.922\u001b[0m | \u001b[1mINFO    \u001b[0m | \u001b[36m__main__\u001b[0m:\u001b[36mbuild_index\u001b[0m:\u001b[36m8\u001b[0m - \u001b[1mBackbone: DinoBackbone, params={'model_id': 'facebook/dino-vitb16'}\u001b[0m\n",
      "\u001b[32m2025-07-07 13:04:25.922\u001b[0m | \u001b[1mINFO    \u001b[0m | \u001b[36m__main__\u001b[0m:\u001b[36mbuild_index\u001b[0m:\u001b[36m9\u001b[0m - \u001b[1mOutput dim: 768\u001b[0m\n",
      "Building index...: 100%|██████████| 2659/2659 [02:37<00:00, 16.88it/s]\n",
      "Evaluating dataset=val...: 100%|██████████| 2824/2824 [03:19<00:00, 14.15it/s]\n",
      "\u001b[32m2025-07-07 13:10:23.001\u001b[0m | \u001b[1mINFO    \u001b[0m | \u001b[36m__main__\u001b[0m:\u001b[36mevaluate\u001b[0m:\u001b[36m18\u001b[0m - \u001b[1mPrecision@1 dataset=val: 0.660056657223796\u001b[0m\n",
      "\u001b[32m2025-07-07 13:10:23.001\u001b[0m | \u001b[1mINFO    \u001b[0m | \u001b[36m__main__\u001b[0m:\u001b[36mevaluate\u001b[0m:\u001b[36m19\u001b[0m - \u001b[1mPrecision@3 dataset=val: 0.7181303116147308\u001b[0m\n",
      "\u001b[32m2025-07-07 13:10:23.001\u001b[0m | \u001b[1mINFO    \u001b[0m | \u001b[36m__main__\u001b[0m:\u001b[36mevaluate\u001b[0m:\u001b[36m20\u001b[0m - \u001b[1mPrecision@5 dataset=val: 0.7730169971671388\u001b[0m\n",
      "Evaluating dataset=val...: 100%|██████████| 5836/5836 [07:00<00:00, 13.89it/s]\n",
      "\u001b[32m2025-07-07 13:17:23.136\u001b[0m | \u001b[1mINFO    \u001b[0m | \u001b[36m__main__\u001b[0m:\u001b[36mevaluate\u001b[0m:\u001b[36m18\u001b[0m - \u001b[1mPrecision@1 dataset=test: 0.6420493488690884\u001b[0m\n",
      "\u001b[32m2025-07-07 13:17:23.136\u001b[0m | \u001b[1mINFO    \u001b[0m | \u001b[36m__main__\u001b[0m:\u001b[36mevaluate\u001b[0m:\u001b[36m19\u001b[0m - \u001b[1mPrecision@3 dataset=test: 0.7206991089787526\u001b[0m\n",
      "\u001b[32m2025-07-07 13:17:23.136\u001b[0m | \u001b[1mINFO    \u001b[0m | \u001b[36m__main__\u001b[0m:\u001b[36mevaluate\u001b[0m:\u001b[36m20\u001b[0m - \u001b[1mPrecision@5 dataset=test: 0.772446881425634\u001b[0m\n"
     ]
    }
   ],
   "source": [
    "for config in backbone_list:\n",
    "    backbone, index, labels = build_index(config)\n",
    "    evaluate(backbone, index, labels, \"val\")\n",
    "    evaluate(backbone, index, labels, \"test\")"
   ]
  },
  {
   "cell_type": "code",
   "execution_count": 35,
   "metadata": {},
   "outputs": [
    {
     "name": "stderr",
     "output_type": "stream",
     "text": [
      "\u001b[32m2025-07-07 18:28:05.669\u001b[0m | \u001b[1mINFO    \u001b[0m | \u001b[36m__main__\u001b[0m:\u001b[36mbuild_index\u001b[0m:\u001b[36m8\u001b[0m - \u001b[1mBackbone: DinoBackbone, params={'model_id': 'facebook/dinov2-large'}\u001b[0m\n",
      "\u001b[32m2025-07-07 18:28:05.670\u001b[0m | \u001b[1mINFO    \u001b[0m | \u001b[36m__main__\u001b[0m:\u001b[36mbuild_index\u001b[0m:\u001b[36m9\u001b[0m - \u001b[1mOutput dim: 1024\u001b[0m\n",
      "Building index...: 100%|██████████| 2659/2659 [09:42<00:00,  4.57it/s]\n",
      "Evaluating dataset=val...: 100%|██████████| 2824/2824 [11:03<00:00,  4.25it/s]\n",
      "\u001b[32m2025-07-07 18:48:51.888\u001b[0m | \u001b[1mINFO    \u001b[0m | \u001b[36m__main__\u001b[0m:\u001b[36mevaluate\u001b[0m:\u001b[36m18\u001b[0m - \u001b[1mPrecision@1 dataset=val: 0.5995042492917847\u001b[0m\n",
      "\u001b[32m2025-07-07 18:48:51.888\u001b[0m | \u001b[1mINFO    \u001b[0m | \u001b[36m__main__\u001b[0m:\u001b[36mevaluate\u001b[0m:\u001b[36m19\u001b[0m - \u001b[1mPrecision@3 dataset=val: 0.6724504249291785\u001b[0m\n",
      "\u001b[32m2025-07-07 18:48:51.888\u001b[0m | \u001b[1mINFO    \u001b[0m | \u001b[36m__main__\u001b[0m:\u001b[36mevaluate\u001b[0m:\u001b[36m20\u001b[0m - \u001b[1mPrecision@5 dataset=val: 0.740084985835694\u001b[0m\n",
      "Evaluating dataset=val...: 100%|██████████| 5836/5836 [21:44<00:00,  4.47it/s]\n",
      "\u001b[32m2025-07-07 19:10:36.796\u001b[0m | \u001b[1mINFO    \u001b[0m | \u001b[36m__main__\u001b[0m:\u001b[36mevaluate\u001b[0m:\u001b[36m18\u001b[0m - \u001b[1mPrecision@1 dataset=test: 0.4859492803289925\u001b[0m\n",
      "\u001b[32m2025-07-07 19:10:36.796\u001b[0m | \u001b[1mINFO    \u001b[0m | \u001b[36m__main__\u001b[0m:\u001b[36mevaluate\u001b[0m:\u001b[36m19\u001b[0m - \u001b[1mPrecision@3 dataset=test: 0.5755654557916381\u001b[0m\n",
      "\u001b[32m2025-07-07 19:10:36.797\u001b[0m | \u001b[1mINFO    \u001b[0m | \u001b[36m__main__\u001b[0m:\u001b[36mevaluate\u001b[0m:\u001b[36m20\u001b[0m - \u001b[1mPrecision@5 dataset=test: 0.6692940370116518\u001b[0m\n"
     ]
    }
   ],
   "source": [
    "backbone, index, labels = build_index((DinoBackbone, {\"model_id\": \"facebook/dinov2-large\"}))\n",
    "evaluate(backbone, index, labels, \"val\")\n",
    "evaluate(backbone, index, labels, \"test\")"
   ]
  },
  {
   "cell_type": "code",
   "execution_count": null,
   "metadata": {},
   "outputs": [],
   "source": []
  }
 ],
 "metadata": {
  "kernelspec": {
   "display_name": ".venv",
   "language": "python",
   "name": "python3"
  },
  "language_info": {
   "codemirror_mode": {
    "name": "ipython",
    "version": 3
   },
   "file_extension": ".py",
   "mimetype": "text/x-python",
   "name": "python",
   "nbconvert_exporter": "python",
   "pygments_lexer": "ipython3",
   "version": "3.9.6"
  }
 },
 "nbformat": 4,
 "nbformat_minor": 2
}
