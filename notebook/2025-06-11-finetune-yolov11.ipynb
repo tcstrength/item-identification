{
 "cells": [
  {
   "cell_type": "code",
   "execution_count": 1,
   "metadata": {},
   "outputs": [
    {
     "name": "stderr",
     "output_type": "stream",
     "text": [
      "\u001b[32m2025-06-11 11:36:25.075\u001b[0m | \u001b[1mINFO    \u001b[0m | \u001b[36mhcmus.core.appconfig\u001b[0m:\u001b[36m<module>\u001b[0m:\u001b[36m7\u001b[0m - \u001b[1mLoad DotEnv: True\u001b[0m\n"
     ]
    }
   ],
   "source": [
    "from hcmus.core import appconfig"
   ]
  },
  {
   "cell_type": "code",
   "execution_count": 2,
   "metadata": {},
   "outputs": [
    {
     "name": "stderr",
     "output_type": "stream",
     "text": [
      "/Volumes/Cucumber/Projects/item-identification/.venv/lib/python3.9/site-packages/urllib3/__init__.py:35: NotOpenSSLWarning: urllib3 v2 only supports OpenSSL 1.1.1+, currently the 'ssl' module is compiled with 'LibreSSL 2.8.3'. See: https://github.com/urllib3/urllib3/issues/3020\n",
      "  warnings.warn(\n"
     ]
    }
   ],
   "source": [
    "from ultralytics import YOLO\n",
    "\n",
    "# Load a pre-trained model (you can use yolov8s.pt, yolov8m.pt, etc.)\n",
    "model = YOLO(\"yolo11n.pt\")"
   ]
  },
  {
   "cell_type": "code",
   "execution_count": 4,
   "metadata": {},
   "outputs": [
    {
     "name": "stdout",
     "output_type": "stream",
     "text": [
      "New https://pypi.org/project/ultralytics/8.3.153 available 😃 Update with 'pip install -U ultralytics'\n",
      "Ultralytics 8.3.111 🚀 Python-3.9.6 torch-2.6.0 CPU (Apple M4)\n",
      "\u001b[34m\u001b[1mengine/trainer: \u001b[0mtask=detect, mode=train, model=yolo11n.pt, data=/Volumes/Cucumber/Projects/datasets/2025-06-11/sku110k-merged-yolo/custom_dataset.yaml, epochs=32, time=None, patience=100, batch=4, imgsz=640, save=True, save_period=-1, cache=False, device=None, workers=8, project=None, name=finetune-v11, exist_ok=False, pretrained=True, optimizer=auto, verbose=True, seed=0, deterministic=True, single_cls=False, rect=False, cos_lr=False, close_mosaic=10, resume=False, amp=True, fraction=1.0, profile=False, freeze=None, multi_scale=False, overlap_mask=True, mask_ratio=4, dropout=0.0, val=True, split=val, save_json=False, conf=None, iou=0.7, max_det=300, half=False, dnn=False, plots=True, source=None, vid_stride=1, stream_buffer=False, visualize=False, augment=True, agnostic_nms=False, classes=None, retina_masks=False, embed=None, show=False, save_frames=False, save_txt=False, save_conf=False, save_crop=False, show_labels=True, show_conf=True, show_boxes=True, line_width=None, format=torchscript, keras=False, optimize=False, int8=False, dynamic=False, simplify=True, opset=None, workspace=None, nms=False, lr0=0.01, lrf=0.01, momentum=0.937, weight_decay=0.0005, warmup_epochs=3.0, warmup_momentum=0.8, warmup_bias_lr=0.1, box=7.5, cls=0.5, dfl=1.5, pose=12.0, kobj=1.0, nbs=64, hsv_h=0.015, hsv_s=0.7, hsv_v=0.4, degrees=0.0, translate=0.1, scale=0.5, shear=0.0, perspective=0.0, flipud=0.0, fliplr=0.5, bgr=0.0, mosaic=1.0, mixup=0.0, copy_paste=0.0, copy_paste_mode=flip, auto_augment=randaugment, erasing=0.4, cfg=None, tracker=botsort.yaml, save_dir=/Volumes/Cucumber/Projects/item-identification/runs/detect/finetune-v11\n",
      "Overriding model.yaml nc=80 with nc=101\n",
      "\n",
      "                   from  n    params  module                                       arguments                     \n",
      "  0                  -1  1       464  ultralytics.nn.modules.conv.Conv             [3, 16, 3, 2]                 \n",
      "  1                  -1  1      4672  ultralytics.nn.modules.conv.Conv             [16, 32, 3, 2]                \n",
      "  2                  -1  1      6640  ultralytics.nn.modules.block.C3k2            [32, 64, 1, False, 0.25]      \n",
      "  3                  -1  1     36992  ultralytics.nn.modules.conv.Conv             [64, 64, 3, 2]                \n",
      "  4                  -1  1     26080  ultralytics.nn.modules.block.C3k2            [64, 128, 1, False, 0.25]     \n",
      "  5                  -1  1    147712  ultralytics.nn.modules.conv.Conv             [128, 128, 3, 2]              \n",
      "  6                  -1  1     87040  ultralytics.nn.modules.block.C3k2            [128, 128, 1, True]           \n",
      "  7                  -1  1    295424  ultralytics.nn.modules.conv.Conv             [128, 256, 3, 2]              \n",
      "  8                  -1  1    346112  ultralytics.nn.modules.block.C3k2            [256, 256, 1, True]           \n",
      "  9                  -1  1    164608  ultralytics.nn.modules.block.SPPF            [256, 256, 5]                 \n",
      " 10                  -1  1    249728  ultralytics.nn.modules.block.C2PSA           [256, 256, 1]                 \n",
      " 11                  -1  1         0  torch.nn.modules.upsampling.Upsample         [None, 2, 'nearest']          \n",
      " 12             [-1, 6]  1         0  ultralytics.nn.modules.conv.Concat           [1]                           \n",
      " 13                  -1  1    111296  ultralytics.nn.modules.block.C3k2            [384, 128, 1, False]          \n",
      " 14                  -1  1         0  torch.nn.modules.upsampling.Upsample         [None, 2, 'nearest']          \n",
      " 15             [-1, 4]  1         0  ultralytics.nn.modules.conv.Concat           [1]                           \n",
      " 16                  -1  1     32096  ultralytics.nn.modules.block.C3k2            [256, 64, 1, False]           \n",
      " 17                  -1  1     36992  ultralytics.nn.modules.conv.Conv             [64, 64, 3, 2]                \n",
      " 18            [-1, 13]  1         0  ultralytics.nn.modules.conv.Concat           [1]                           \n",
      " 19                  -1  1     86720  ultralytics.nn.modules.block.C3k2            [192, 128, 1, False]          \n",
      " 20                  -1  1    147712  ultralytics.nn.modules.conv.Conv             [128, 128, 3, 2]              \n",
      " 21            [-1, 10]  1         0  ultralytics.nn.modules.conv.Concat           [1]                           \n",
      " 22                  -1  1    378880  ultralytics.nn.modules.block.C3k2            [384, 256, 1, True]           \n",
      " 23        [16, 19, 22]  1    496735  ultralytics.nn.modules.head.Detect           [101, [64, 128, 256]]         \n",
      "YOLO11n summary: 181 layers, 2,655,903 parameters, 2,655,887 gradients, 6.8 GFLOPs\n",
      "\n",
      "Transferred 448/499 items from pretrained weights\n",
      "\u001b[34m\u001b[1mTensorBoard: \u001b[0mStart with 'tensorboard --logdir /Volumes/Cucumber/Projects/item-identification/runs/detect/finetune-v11', view at http://localhost:6006/\n",
      "Freezing layer 'model.23.dfl.conv.weight'\n",
      "\u001b[34m\u001b[1mtrain: \u001b[0mFast image access ✅ (ping: 0.0±0.0 ms, read: 358.3±248.2 MB/s, size: 449.3 KB)\n"
     ]
    },
    {
     "name": "stderr",
     "output_type": "stream",
     "text": [
      "\u001b[34m\u001b[1mtrain: \u001b[0mScanning /Volumes/Cucumber/Projects/datasets/2025-06-11/sku110k-merged-yolo/train/labels.cache... 3802 images, 0 backgrounds, 533 corrupt: 100%|██████████| 3802/3802 [00:00<?, ?it/s]"
     ]
    },
    {
     "name": "stdout",
     "output_type": "stream",
     "text": [
      "\u001b[34m\u001b[1mtrain: \u001b[0mWARNING ⚠️ /Volumes/Cucumber/Projects/datasets/2025-06-11/sku110k-merged-yolo/train/images/01d70d367b6db475d05b69a5208fca35.jpg: corrupt JPEG restored and saved\n",
      "\u001b[34m\u001b[1mtrain: \u001b[0mWARNING ⚠️ /Volumes/Cucumber/Projects/datasets/2025-06-11/sku110k-merged-yolo/train/images/03669de7a43837d8438d4b54c15ee5ae.jpg: corrupt JPEG restored and saved\n",
      "\u001b[34m\u001b[1mtrain: \u001b[0mWARNING ⚠️ /Volumes/Cucumber/Projects/datasets/2025-06-11/sku110k-merged-yolo/train/images/0780bf34918974b5aae29117ed6570c6.jpg: corrupt JPEG restored and saved\n",
      "\u001b[34m\u001b[1mtrain: \u001b[0mWARNING ⚠️ /Volumes/Cucumber/Projects/datasets/2025-06-11/sku110k-merged-yolo/train/images/08332eacd32a6b580678d29e9919884c.jpg: corrupt JPEG restored and saved\n",
      "\u001b[34m\u001b[1mtrain: \u001b[0mWARNING ⚠️ /Volumes/Cucumber/Projects/datasets/2025-06-11/sku110k-merged-yolo/train/images/0a0c8522300b70f18d35c9393bd69711.jpg: corrupt JPEG restored and saved\n",
      "\u001b[34m\u001b[1mtrain: \u001b[0mWARNING ⚠️ /Volumes/Cucumber/Projects/datasets/2025-06-11/sku110k-merged-yolo/train/images/0b4f281aa71214132dfdd463f7da9b12.jpg: corrupt JPEG restored and saved\n",
      "\u001b[34m\u001b[1mtrain: \u001b[0mWARNING ⚠️ /Volumes/Cucumber/Projects/datasets/2025-06-11/sku110k-merged-yolo/train/images/0c1a36aeb3545d6b0f23b4494690749b.jpg: corrupt JPEG restored and saved\n",
      "\u001b[34m\u001b[1mtrain: \u001b[0mWARNING ⚠️ /Volumes/Cucumber/Projects/datasets/2025-06-11/sku110k-merged-yolo/train/images/0e11714cf3d9271caf65690c4bbb5931.jpg: corrupt JPEG restored and saved\n",
      "\u001b[34m\u001b[1mtrain: \u001b[0mWARNING ⚠️ /Volumes/Cucumber/Projects/datasets/2025-06-11/sku110k-merged-yolo/train/images/0f6c18d157aa6be47a39a693fdf9fadb.jpg: corrupt JPEG restored and saved\n",
      "\u001b[34m\u001b[1mtrain: \u001b[0mWARNING ⚠️ /Volumes/Cucumber/Projects/datasets/2025-06-11/sku110k-merged-yolo/train/images/129be1c4eb87df040b4127643c27fa1f.jpg: corrupt JPEG restored and saved\n",
      "\u001b[34m\u001b[1mtrain: \u001b[0mWARNING ⚠️ /Volumes/Cucumber/Projects/datasets/2025-06-11/sku110k-merged-yolo/train/images/1376823b66db767ac4f2d41a37f9952b.jpg: corrupt JPEG restored and saved\n",
      "\u001b[34m\u001b[1mtrain: \u001b[0mWARNING ⚠️ /Volumes/Cucumber/Projects/datasets/2025-06-11/sku110k-merged-yolo/train/images/1afc0638677e2a6c0d97894df19475e6.jpg: corrupt JPEG restored and saved\n",
      "\u001b[34m\u001b[1mtrain: \u001b[0mWARNING ⚠️ /Volumes/Cucumber/Projects/datasets/2025-06-11/sku110k-merged-yolo/train/images/1df46e7c3b570a6aad8e8cc773ddfc0a.jpg: corrupt JPEG restored and saved\n",
      "\u001b[34m\u001b[1mtrain: \u001b[0mWARNING ⚠️ /Volumes/Cucumber/Projects/datasets/2025-06-11/sku110k-merged-yolo/train/images/1e98adfc70a40a1dd3eaf17300fa4789.jpg: corrupt JPEG restored and saved\n",
      "\u001b[34m\u001b[1mtrain: \u001b[0mWARNING ⚠️ /Volumes/Cucumber/Projects/datasets/2025-06-11/sku110k-merged-yolo/train/images/1eabff00cbb345c768fd683a3cd4b113.jpg: corrupt JPEG restored and saved\n",
      "\u001b[34m\u001b[1mtrain: \u001b[0mWARNING ⚠️ /Volumes/Cucumber/Projects/datasets/2025-06-11/sku110k-merged-yolo/train/images/212e1d13df7446af764cfd0380d25965.jpg: corrupt JPEG restored and saved\n",
      "\u001b[34m\u001b[1mtrain: \u001b[0mWARNING ⚠️ /Volumes/Cucumber/Projects/datasets/2025-06-11/sku110k-merged-yolo/train/images/225a4e36e10a787768ed615f9c222d5a.jpg: corrupt JPEG restored and saved\n",
      "\u001b[34m\u001b[1mtrain: \u001b[0mWARNING ⚠️ /Volumes/Cucumber/Projects/datasets/2025-06-11/sku110k-merged-yolo/train/images/22635bc9f6a0c71945150d7e125441ef.jpg: corrupt JPEG restored and saved\n",
      "\u001b[34m\u001b[1mtrain: \u001b[0mWARNING ⚠️ /Volumes/Cucumber/Projects/datasets/2025-06-11/sku110k-merged-yolo/train/images/2b4a17133ae6716e6ea253d041e16de7.jpg: corrupt JPEG restored and saved\n",
      "\u001b[34m\u001b[1mtrain: \u001b[0mWARNING ⚠️ /Volumes/Cucumber/Projects/datasets/2025-06-11/sku110k-merged-yolo/train/images/2b4e095032e41b15b8f488b7f648fff0.jpg: corrupt JPEG restored and saved\n",
      "\u001b[34m\u001b[1mtrain: \u001b[0mWARNING ⚠️ /Volumes/Cucumber/Projects/datasets/2025-06-11/sku110k-merged-yolo/train/images/2d6041ce02951095845c7384af94c6bd.jpg: corrupt JPEG restored and saved\n",
      "\u001b[34m\u001b[1mtrain: \u001b[0mWARNING ⚠️ /Volumes/Cucumber/Projects/datasets/2025-06-11/sku110k-merged-yolo/train/images/2f8a4a7329d9255e3690aa0a4eb6a5ac.jpg: corrupt JPEG restored and saved\n",
      "\u001b[34m\u001b[1mtrain: \u001b[0mWARNING ⚠️ /Volumes/Cucumber/Projects/datasets/2025-06-11/sku110k-merged-yolo/train/images/302865cee1479603c5e44fd9b03d0d19.jpg: corrupt JPEG restored and saved\n",
      "\u001b[34m\u001b[1mtrain: \u001b[0mWARNING ⚠️ /Volumes/Cucumber/Projects/datasets/2025-06-11/sku110k-merged-yolo/train/images/3123da4faa3b9dfb9aa9295f13fd7f96.jpg: corrupt JPEG restored and saved\n",
      "\u001b[34m\u001b[1mtrain: \u001b[0mWARNING ⚠️ /Volumes/Cucumber/Projects/datasets/2025-06-11/sku110k-merged-yolo/train/images/31492d6c40306743f7e67a10f87cc9ee.jpg: corrupt JPEG restored and saved\n",
      "\u001b[34m\u001b[1mtrain: \u001b[0mWARNING ⚠️ /Volumes/Cucumber/Projects/datasets/2025-06-11/sku110k-merged-yolo/train/images/32251cc20562accb71d9da7e8eee834b.jpg: corrupt JPEG restored and saved\n",
      "\u001b[34m\u001b[1mtrain: \u001b[0mWARNING ⚠️ /Volumes/Cucumber/Projects/datasets/2025-06-11/sku110k-merged-yolo/train/images/332a42a2fb551daedfa55662b17ade7b.jpg: corrupt JPEG restored and saved\n",
      "\u001b[34m\u001b[1mtrain: \u001b[0mWARNING ⚠️ /Volumes/Cucumber/Projects/datasets/2025-06-11/sku110k-merged-yolo/train/images/3650f8382f81657ed061bbccc95e3d3e.jpg: corrupt JPEG restored and saved\n",
      "\u001b[34m\u001b[1mtrain: \u001b[0mWARNING ⚠️ /Volumes/Cucumber/Projects/datasets/2025-06-11/sku110k-merged-yolo/train/images/381652e66c41dc5e556a1328c7738e87.jpg: corrupt JPEG restored and saved\n",
      "\u001b[34m\u001b[1mtrain: \u001b[0mWARNING ⚠️ /Volumes/Cucumber/Projects/datasets/2025-06-11/sku110k-merged-yolo/train/images/3a12839001e7740a815a0f4bdb1948ba.jpg: corrupt JPEG restored and saved\n",
      "\u001b[34m\u001b[1mtrain: \u001b[0mWARNING ⚠️ /Volumes/Cucumber/Projects/datasets/2025-06-11/sku110k-merged-yolo/train/images/3aa1bd595fd84aadcc9152695e9ae4f6.jpg: corrupt JPEG restored and saved\n",
      "\u001b[34m\u001b[1mtrain: \u001b[0mWARNING ⚠️ /Volumes/Cucumber/Projects/datasets/2025-06-11/sku110k-merged-yolo/train/images/3e191ca29f39f078cbdb65aa47991e89.jpg: corrupt JPEG restored and saved\n",
      "\u001b[34m\u001b[1mtrain: \u001b[0mWARNING ⚠️ /Volumes/Cucumber/Projects/datasets/2025-06-11/sku110k-merged-yolo/train/images/4172089e285f3e73dbf9d4a5395afd36.jpg: corrupt JPEG restored and saved\n",
      "\u001b[34m\u001b[1mtrain: \u001b[0mWARNING ⚠️ /Volumes/Cucumber/Projects/datasets/2025-06-11/sku110k-merged-yolo/train/images/4909a0db8c89f07b3d1cdcd5afdc9656.jpg: corrupt JPEG restored and saved\n",
      "\u001b[34m\u001b[1mtrain: \u001b[0mWARNING ⚠️ /Volumes/Cucumber/Projects/datasets/2025-06-11/sku110k-merged-yolo/train/images/4a024f0f610328ee98c5954e3fafbfea.jpg: corrupt JPEG restored and saved\n",
      "\u001b[34m\u001b[1mtrain: \u001b[0mWARNING ⚠️ /Volumes/Cucumber/Projects/datasets/2025-06-11/sku110k-merged-yolo/train/images/4ae9c04584798798a57b73d6d051b615.jpg: corrupt JPEG restored and saved\n",
      "\u001b[34m\u001b[1mtrain: \u001b[0mWARNING ⚠️ /Volumes/Cucumber/Projects/datasets/2025-06-11/sku110k-merged-yolo/train/images/4cd86ab27edb22bb40b75aa7819e985c.jpg: corrupt JPEG restored and saved\n",
      "\u001b[34m\u001b[1mtrain: \u001b[0mWARNING ⚠️ /Volumes/Cucumber/Projects/datasets/2025-06-11/sku110k-merged-yolo/train/images/4fcf4aeb7b34f022441df7f58293cd96.jpg: corrupt JPEG restored and saved\n",
      "\u001b[34m\u001b[1mtrain: \u001b[0mWARNING ⚠️ /Volumes/Cucumber/Projects/datasets/2025-06-11/sku110k-merged-yolo/train/images/504e1e101ffa819d0865b55b44540dae.jpg: corrupt JPEG restored and saved\n",
      "\u001b[34m\u001b[1mtrain: \u001b[0mWARNING ⚠️ /Volumes/Cucumber/Projects/datasets/2025-06-11/sku110k-merged-yolo/train/images/51721a685b96bd8f96a6585ed1ae146a.jpg: corrupt JPEG restored and saved\n",
      "\u001b[34m\u001b[1mtrain: \u001b[0mWARNING ⚠️ /Volumes/Cucumber/Projects/datasets/2025-06-11/sku110k-merged-yolo/train/images/558157f8b2c66c6366eaadad07572c01.jpg: corrupt JPEG restored and saved\n",
      "\u001b[34m\u001b[1mtrain: \u001b[0mWARNING ⚠️ /Volumes/Cucumber/Projects/datasets/2025-06-11/sku110k-merged-yolo/train/images/579fb548cd75e752db450c12940da05f.jpg: corrupt JPEG restored and saved\n",
      "\u001b[34m\u001b[1mtrain: \u001b[0mWARNING ⚠️ /Volumes/Cucumber/Projects/datasets/2025-06-11/sku110k-merged-yolo/train/images/580fda615facf526cc27cb358fe96863.jpg: corrupt JPEG restored and saved\n",
      "\u001b[34m\u001b[1mtrain: \u001b[0mWARNING ⚠️ /Volumes/Cucumber/Projects/datasets/2025-06-11/sku110k-merged-yolo/train/images/5aebb7587bbf67992ed1cbd6aed2c91e.jpg: corrupt JPEG restored and saved\n",
      "\u001b[34m\u001b[1mtrain: \u001b[0mWARNING ⚠️ /Volumes/Cucumber/Projects/datasets/2025-06-11/sku110k-merged-yolo/train/images/5bbf805e45e7d7074b343ef80d592d1b.jpg: corrupt JPEG restored and saved\n",
      "\u001b[34m\u001b[1mtrain: \u001b[0mWARNING ⚠️ /Volumes/Cucumber/Projects/datasets/2025-06-11/sku110k-merged-yolo/train/images/5ea64295d33079f36f6711d92aecbc33.jpg: corrupt JPEG restored and saved\n",
      "\u001b[34m\u001b[1mtrain: \u001b[0mWARNING ⚠️ /Volumes/Cucumber/Projects/datasets/2025-06-11/sku110k-merged-yolo/train/images/5fcddcb644e155f19a560aacd0979b28.jpg: corrupt JPEG restored and saved\n",
      "\u001b[34m\u001b[1mtrain: \u001b[0mWARNING ⚠️ /Volumes/Cucumber/Projects/datasets/2025-06-11/sku110k-merged-yolo/train/images/6044ed407a0d04167199e6f3f49fde9c.jpg: corrupt JPEG restored and saved\n",
      "\u001b[34m\u001b[1mtrain: \u001b[0mWARNING ⚠️ /Volumes/Cucumber/Projects/datasets/2025-06-11/sku110k-merged-yolo/train/images/61c04d98e527f35b38e94bbbd628cc92.jpg: corrupt JPEG restored and saved\n",
      "\u001b[34m\u001b[1mtrain: \u001b[0mWARNING ⚠️ /Volumes/Cucumber/Projects/datasets/2025-06-11/sku110k-merged-yolo/train/images/64f90648b37d73a12080b00ae644e788.jpg: corrupt JPEG restored and saved\n",
      "\u001b[34m\u001b[1mtrain: \u001b[0mWARNING ⚠️ /Volumes/Cucumber/Projects/datasets/2025-06-11/sku110k-merged-yolo/train/images/6701e84276af72f353d9255d82f15391.jpg: corrupt JPEG restored and saved\n",
      "\u001b[34m\u001b[1mtrain: \u001b[0mWARNING ⚠️ /Volumes/Cucumber/Projects/datasets/2025-06-11/sku110k-merged-yolo/train/images/67b8ad1b3b9147c351446f596fd6a373.jpg: corrupt JPEG restored and saved\n",
      "\u001b[34m\u001b[1mtrain: \u001b[0mWARNING ⚠️ /Volumes/Cucumber/Projects/datasets/2025-06-11/sku110k-merged-yolo/train/images/682230a6a423b021792b290b687fd91c.jpg: corrupt JPEG restored and saved\n",
      "\u001b[34m\u001b[1mtrain: \u001b[0mWARNING ⚠️ /Volumes/Cucumber/Projects/datasets/2025-06-11/sku110k-merged-yolo/train/images/6a0702414afe4869954e02351be59453.jpg: corrupt JPEG restored and saved\n",
      "\u001b[34m\u001b[1mtrain: \u001b[0mWARNING ⚠️ /Volumes/Cucumber/Projects/datasets/2025-06-11/sku110k-merged-yolo/train/images/6badb0b78a4efcdfca4c6f5607d2f305.jpg: corrupt JPEG restored and saved\n",
      "\u001b[34m\u001b[1mtrain: \u001b[0mWARNING ⚠️ /Volumes/Cucumber/Projects/datasets/2025-06-11/sku110k-merged-yolo/train/images/6be566413f49f50f224f40d0e1e0ef97.jpg: corrupt JPEG restored and saved\n",
      "\u001b[34m\u001b[1mtrain: \u001b[0mWARNING ⚠️ /Volumes/Cucumber/Projects/datasets/2025-06-11/sku110k-merged-yolo/train/images/6d492ef64cfdceba5a0c6ce162fefe3c.jpg: corrupt JPEG restored and saved\n",
      "\u001b[34m\u001b[1mtrain: \u001b[0mWARNING ⚠️ /Volumes/Cucumber/Projects/datasets/2025-06-11/sku110k-merged-yolo/train/images/6e66045515f19ad682e09c21c7971ac8.jpg: corrupt JPEG restored and saved\n",
      "\u001b[34m\u001b[1mtrain: \u001b[0mWARNING ⚠️ /Volumes/Cucumber/Projects/datasets/2025-06-11/sku110k-merged-yolo/train/images/715b15009ab619de665580b4cd441bda.jpg: corrupt JPEG restored and saved\n",
      "\u001b[34m\u001b[1mtrain: \u001b[0mWARNING ⚠️ /Volumes/Cucumber/Projects/datasets/2025-06-11/sku110k-merged-yolo/train/images/71d73f657bd1443e300073873325132b.jpg: corrupt JPEG restored and saved\n",
      "\u001b[34m\u001b[1mtrain: \u001b[0mWARNING ⚠️ /Volumes/Cucumber/Projects/datasets/2025-06-11/sku110k-merged-yolo/train/images/729643dcda52fbba94f84d1075a9b38e.jpg: corrupt JPEG restored and saved\n",
      "\u001b[34m\u001b[1mtrain: \u001b[0mWARNING ⚠️ /Volumes/Cucumber/Projects/datasets/2025-06-11/sku110k-merged-yolo/train/images/740ae83c5a920e19dcb7b97c7fc5712b.jpg: corrupt JPEG restored and saved\n",
      "\u001b[34m\u001b[1mtrain: \u001b[0mWARNING ⚠️ /Volumes/Cucumber/Projects/datasets/2025-06-11/sku110k-merged-yolo/train/images/7482b18e490524f0de89a4f2b6c0eb3b.jpg: corrupt JPEG restored and saved\n",
      "\u001b[34m\u001b[1mtrain: \u001b[0mWARNING ⚠️ /Volumes/Cucumber/Projects/datasets/2025-06-11/sku110k-merged-yolo/train/images/765433012a926bfe8eea8408223c315f.jpg: corrupt JPEG restored and saved\n",
      "\u001b[34m\u001b[1mtrain: \u001b[0mWARNING ⚠️ /Volumes/Cucumber/Projects/datasets/2025-06-11/sku110k-merged-yolo/train/images/76b477be31a1ab1f936d0cbac900691a.jpg: corrupt JPEG restored and saved\n",
      "\u001b[34m\u001b[1mtrain: \u001b[0mWARNING ⚠️ /Volumes/Cucumber/Projects/datasets/2025-06-11/sku110k-merged-yolo/train/images/76dd64992056b87c51f65dcd572ec1d0.jpg: corrupt JPEG restored and saved\n",
      "\u001b[34m\u001b[1mtrain: \u001b[0mWARNING ⚠️ /Volumes/Cucumber/Projects/datasets/2025-06-11/sku110k-merged-yolo/train/images/7fb2007aea6f589c40f64f24d21b2da6.jpg: corrupt JPEG restored and saved\n",
      "\u001b[34m\u001b[1mtrain: \u001b[0mWARNING ⚠️ /Volumes/Cucumber/Projects/datasets/2025-06-11/sku110k-merged-yolo/train/images/82845c6b362356f3bad192bc06b8d383.jpg: corrupt JPEG restored and saved\n",
      "\u001b[34m\u001b[1mtrain: \u001b[0mWARNING ⚠️ /Volumes/Cucumber/Projects/datasets/2025-06-11/sku110k-merged-yolo/train/images/82faca3868305bb07b47100afa3265ff.jpg: corrupt JPEG restored and saved\n",
      "\u001b[34m\u001b[1mtrain: \u001b[0mWARNING ⚠️ /Volumes/Cucumber/Projects/datasets/2025-06-11/sku110k-merged-yolo/train/images/831e043564e8392af496fdd1d99a0098.jpg: corrupt JPEG restored and saved\n",
      "\u001b[34m\u001b[1mtrain: \u001b[0mWARNING ⚠️ /Volumes/Cucumber/Projects/datasets/2025-06-11/sku110k-merged-yolo/train/images/83a7533068c9caff58e4230e6bd1d9a6.jpg: corrupt JPEG restored and saved\n",
      "\u001b[34m\u001b[1mtrain: \u001b[0mWARNING ⚠️ /Volumes/Cucumber/Projects/datasets/2025-06-11/sku110k-merged-yolo/train/images/850fb127f75c292e31f6c9c6529f7995.jpg: corrupt JPEG restored and saved\n",
      "\u001b[34m\u001b[1mtrain: \u001b[0mWARNING ⚠️ /Volumes/Cucumber/Projects/datasets/2025-06-11/sku110k-merged-yolo/train/images/85b9dcae7c8407c8c472a39ad05ce824.jpg: corrupt JPEG restored and saved\n",
      "\u001b[34m\u001b[1mtrain: \u001b[0mWARNING ⚠️ /Volumes/Cucumber/Projects/datasets/2025-06-11/sku110k-merged-yolo/train/images/8781310485f2fc326464060fe8c89906.jpg: corrupt JPEG restored and saved\n",
      "\u001b[34m\u001b[1mtrain: \u001b[0mWARNING ⚠️ /Volumes/Cucumber/Projects/datasets/2025-06-11/sku110k-merged-yolo/train/images/878f2bc0fdfc1c820fc45b49a2821dc9.jpg: corrupt JPEG restored and saved\n",
      "\u001b[34m\u001b[1mtrain: \u001b[0mWARNING ⚠️ /Volumes/Cucumber/Projects/datasets/2025-06-11/sku110k-merged-yolo/train/images/898900dd8c4c642f0ad5d24f02616a37.jpg: corrupt JPEG restored and saved\n",
      "\u001b[34m\u001b[1mtrain: \u001b[0mWARNING ⚠️ /Volumes/Cucumber/Projects/datasets/2025-06-11/sku110k-merged-yolo/train/images/89fe84d413b95d20a0c53b147a75285a.jpg: corrupt JPEG restored and saved\n",
      "\u001b[34m\u001b[1mtrain: \u001b[0mWARNING ⚠️ /Volumes/Cucumber/Projects/datasets/2025-06-11/sku110k-merged-yolo/train/images/8b424a197600e59a9b8628c24b3d1dc7.jpg: corrupt JPEG restored and saved\n",
      "\u001b[34m\u001b[1mtrain: \u001b[0mWARNING ⚠️ /Volumes/Cucumber/Projects/datasets/2025-06-11/sku110k-merged-yolo/train/images/8e15a9800e2c53fedf3a772ed3dd55ab.jpg: corrupt JPEG restored and saved\n",
      "\u001b[34m\u001b[1mtrain: \u001b[0mWARNING ⚠️ /Volumes/Cucumber/Projects/datasets/2025-06-11/sku110k-merged-yolo/train/images/8f6a70629a73e4c248e65dc2a3a02005.jpg: corrupt JPEG restored and saved\n",
      "\u001b[34m\u001b[1mtrain: \u001b[0mWARNING ⚠️ /Volumes/Cucumber/Projects/datasets/2025-06-11/sku110k-merged-yolo/train/images/91e3fd5a0b548b45b3ac815cfde06a5b.jpg: corrupt JPEG restored and saved\n",
      "\u001b[34m\u001b[1mtrain: \u001b[0mWARNING ⚠️ /Volumes/Cucumber/Projects/datasets/2025-06-11/sku110k-merged-yolo/train/images/92c3b0cbbc2f2ded6e74c8d008c83ce5.jpg: corrupt JPEG restored and saved\n",
      "\u001b[34m\u001b[1mtrain: \u001b[0mWARNING ⚠️ /Volumes/Cucumber/Projects/datasets/2025-06-11/sku110k-merged-yolo/train/images/9372933168d399b390b555ec9151e474.jpg: corrupt JPEG restored and saved\n",
      "\u001b[34m\u001b[1mtrain: \u001b[0mWARNING ⚠️ /Volumes/Cucumber/Projects/datasets/2025-06-11/sku110k-merged-yolo/train/images/9e7ef3cc8773e15dccf5b060f37045ef.jpg: corrupt JPEG restored and saved\n",
      "\u001b[34m\u001b[1mtrain: \u001b[0mWARNING ⚠️ /Volumes/Cucumber/Projects/datasets/2025-06-11/sku110k-merged-yolo/train/images/9f6993f4469235734865534d2822ece6.jpg: corrupt JPEG restored and saved\n",
      "\u001b[34m\u001b[1mtrain: \u001b[0mWARNING ⚠️ /Volumes/Cucumber/Projects/datasets/2025-06-11/sku110k-merged-yolo/train/images/a03e151631f740e5dda0ba2c79687b89.jpg: corrupt JPEG restored and saved\n",
      "\u001b[34m\u001b[1mtrain: \u001b[0mWARNING ⚠️ /Volumes/Cucumber/Projects/datasets/2025-06-11/sku110k-merged-yolo/train/images/a0e8484589d8b2cc8c9de28eb854231b.jpg: corrupt JPEG restored and saved\n",
      "\u001b[34m\u001b[1mtrain: \u001b[0mWARNING ⚠️ /Volumes/Cucumber/Projects/datasets/2025-06-11/sku110k-merged-yolo/train/images/a149f771b73bd2197bb21abbad2d8d92.jpg: corrupt JPEG restored and saved\n",
      "\u001b[34m\u001b[1mtrain: \u001b[0mWARNING ⚠️ /Volumes/Cucumber/Projects/datasets/2025-06-11/sku110k-merged-yolo/train/images/a220a641bfddbf7bf824986857ea964a.jpg: corrupt JPEG restored and saved\n",
      "\u001b[34m\u001b[1mtrain: \u001b[0mWARNING ⚠️ /Volumes/Cucumber/Projects/datasets/2025-06-11/sku110k-merged-yolo/train/images/a2d6584e273b73feeb4069e2560aaff2.jpg: corrupt JPEG restored and saved\n",
      "\u001b[34m\u001b[1mtrain: \u001b[0mWARNING ⚠️ /Volumes/Cucumber/Projects/datasets/2025-06-11/sku110k-merged-yolo/train/images/a4ef9fc038ada17c08b3c6e651efcfc4.jpg: corrupt JPEG restored and saved\n",
      "\u001b[34m\u001b[1mtrain: \u001b[0mWARNING ⚠️ /Volumes/Cucumber/Projects/datasets/2025-06-11/sku110k-merged-yolo/train/images/a61c5cfa128032adfda953534a6f3514.jpg: corrupt JPEG restored and saved\n",
      "\u001b[34m\u001b[1mtrain: \u001b[0mWARNING ⚠️ /Volumes/Cucumber/Projects/datasets/2025-06-11/sku110k-merged-yolo/train/images/a701b09d04b093776803eee7918736bd.jpg: corrupt JPEG restored and saved\n",
      "\u001b[34m\u001b[1mtrain: \u001b[0mWARNING ⚠️ /Volumes/Cucumber/Projects/datasets/2025-06-11/sku110k-merged-yolo/train/images/a849f1d3765a55dd6b6380a7cc296ae1.jpg: corrupt JPEG restored and saved\n",
      "\u001b[34m\u001b[1mtrain: \u001b[0mWARNING ⚠️ /Volumes/Cucumber/Projects/datasets/2025-06-11/sku110k-merged-yolo/train/images/a95f850f08b691ae60853a704a33dfaa.jpg: corrupt JPEG restored and saved\n",
      "\u001b[34m\u001b[1mtrain: \u001b[0mWARNING ⚠️ /Volumes/Cucumber/Projects/datasets/2025-06-11/sku110k-merged-yolo/train/images/aae378f41634a3b308d7705fc710b1f6.jpg: corrupt JPEG restored and saved\n",
      "\u001b[34m\u001b[1mtrain: \u001b[0mWARNING ⚠️ /Volumes/Cucumber/Projects/datasets/2025-06-11/sku110k-merged-yolo/train/images/ac11d856af0013c89cc9935a029f1ba1.jpg: corrupt JPEG restored and saved\n",
      "\u001b[34m\u001b[1mtrain: \u001b[0mWARNING ⚠️ /Volumes/Cucumber/Projects/datasets/2025-06-11/sku110k-merged-yolo/train/images/aeb2dae89c33301083b9444307a785d6.jpg: corrupt JPEG restored and saved\n",
      "\u001b[34m\u001b[1mtrain: \u001b[0mWARNING ⚠️ /Volumes/Cucumber/Projects/datasets/2025-06-11/sku110k-merged-yolo/train/images/af6b88873f977e07b811322ad1e05878.jpg: corrupt JPEG restored and saved\n",
      "\u001b[34m\u001b[1mtrain: \u001b[0mWARNING ⚠️ /Volumes/Cucumber/Projects/datasets/2025-06-11/sku110k-merged-yolo/train/images/af851822bbdb46ec10b5907555d0b268.jpg: corrupt JPEG restored and saved\n",
      "\u001b[34m\u001b[1mtrain: \u001b[0mWARNING ⚠️ /Volumes/Cucumber/Projects/datasets/2025-06-11/sku110k-merged-yolo/train/images/b1fa430924745804e259fd9e2aeaa491.jpg: corrupt JPEG restored and saved\n",
      "\u001b[34m\u001b[1mtrain: \u001b[0mWARNING ⚠️ /Volumes/Cucumber/Projects/datasets/2025-06-11/sku110k-merged-yolo/train/images/b219171a0760c45098ecdedbc2740722.jpg: corrupt JPEG restored and saved\n",
      "\u001b[34m\u001b[1mtrain: \u001b[0mWARNING ⚠️ /Volumes/Cucumber/Projects/datasets/2025-06-11/sku110k-merged-yolo/train/images/b3c64765fe3f6d179d1019bdfdaaf099.jpg: corrupt JPEG restored and saved\n",
      "\u001b[34m\u001b[1mtrain: \u001b[0mWARNING ⚠️ /Volumes/Cucumber/Projects/datasets/2025-06-11/sku110k-merged-yolo/train/images/b443a9ecb68a6c37e44e577a5f06c195.jpg: corrupt JPEG restored and saved\n",
      "\u001b[34m\u001b[1mtrain: \u001b[0mWARNING ⚠️ /Volumes/Cucumber/Projects/datasets/2025-06-11/sku110k-merged-yolo/train/images/b52717ba88c5d430b4cba5867675044c.jpg: corrupt JPEG restored and saved\n",
      "\u001b[34m\u001b[1mtrain: \u001b[0mWARNING ⚠️ /Volumes/Cucumber/Projects/datasets/2025-06-11/sku110k-merged-yolo/train/images/b607c8a7431bd9c2d75861f4ae74e3f4.jpg: corrupt JPEG restored and saved\n",
      "\u001b[34m\u001b[1mtrain: \u001b[0mWARNING ⚠️ /Volumes/Cucumber/Projects/datasets/2025-06-11/sku110k-merged-yolo/train/images/b73a732f933cc3ec1b29b991c8a5cf9d.jpg: corrupt JPEG restored and saved\n",
      "\u001b[34m\u001b[1mtrain: \u001b[0mWARNING ⚠️ /Volumes/Cucumber/Projects/datasets/2025-06-11/sku110k-merged-yolo/train/images/b97588dbfe23db6db7e82d86e86c0192.jpg: corrupt JPEG restored and saved\n",
      "\u001b[34m\u001b[1mtrain: \u001b[0mWARNING ⚠️ /Volumes/Cucumber/Projects/datasets/2025-06-11/sku110k-merged-yolo/train/images/b9a0b883c25107e6fb042ec7555c093d.jpg: corrupt JPEG restored and saved\n",
      "\u001b[34m\u001b[1mtrain: \u001b[0mWARNING ⚠️ /Volumes/Cucumber/Projects/datasets/2025-06-11/sku110k-merged-yolo/train/images/be25584f604ae8d2cf7c8ad474a48884.jpg: corrupt JPEG restored and saved\n",
      "\u001b[34m\u001b[1mtrain: \u001b[0mWARNING ⚠️ /Volumes/Cucumber/Projects/datasets/2025-06-11/sku110k-merged-yolo/train/images/bf765b6ad50243e99ca0d9b8c6c18a87.jpg: corrupt JPEG restored and saved\n",
      "\u001b[34m\u001b[1mtrain: \u001b[0mWARNING ⚠️ /Volumes/Cucumber/Projects/datasets/2025-06-11/sku110k-merged-yolo/train/images/c082ad69c87c7b6d52790736e3080eaa.jpg: corrupt JPEG restored and saved\n",
      "\u001b[34m\u001b[1mtrain: \u001b[0mWARNING ⚠️ /Volumes/Cucumber/Projects/datasets/2025-06-11/sku110k-merged-yolo/train/images/c105a111718b7f274ff2b5054faae253.jpg: corrupt JPEG restored and saved\n",
      "\u001b[34m\u001b[1mtrain: \u001b[0mWARNING ⚠️ /Volumes/Cucumber/Projects/datasets/2025-06-11/sku110k-merged-yolo/train/images/c1a942514d9078b4528c1d385679bbe7.jpg: corrupt JPEG restored and saved\n",
      "\u001b[34m\u001b[1mtrain: \u001b[0mWARNING ⚠️ /Volumes/Cucumber/Projects/datasets/2025-06-11/sku110k-merged-yolo/train/images/c1d27f951267a0226959a90d0a398113.jpg: corrupt JPEG restored and saved\n",
      "\u001b[34m\u001b[1mtrain: \u001b[0mWARNING ⚠️ /Volumes/Cucumber/Projects/datasets/2025-06-11/sku110k-merged-yolo/train/images/c3261420fe3e992ceafc6aec927ffceb.jpg: corrupt JPEG restored and saved\n",
      "\u001b[34m\u001b[1mtrain: \u001b[0mWARNING ⚠️ /Volumes/Cucumber/Projects/datasets/2025-06-11/sku110k-merged-yolo/train/images/c355cbf9a6ece43f9039282b19f5bb1e.jpg: corrupt JPEG restored and saved\n",
      "\u001b[34m\u001b[1mtrain: \u001b[0mWARNING ⚠️ /Volumes/Cucumber/Projects/datasets/2025-06-11/sku110k-merged-yolo/train/images/c41f90dfe938cb62584d5dfbb2cfda1d.jpg: corrupt JPEG restored and saved\n",
      "\u001b[34m\u001b[1mtrain: \u001b[0mWARNING ⚠️ /Volumes/Cucumber/Projects/datasets/2025-06-11/sku110k-merged-yolo/train/images/c5f19ff4a0403e62a67d11c98af70636.jpg: corrupt JPEG restored and saved\n",
      "\u001b[34m\u001b[1mtrain: \u001b[0mWARNING ⚠️ /Volumes/Cucumber/Projects/datasets/2025-06-11/sku110k-merged-yolo/train/images/c88b5f0737c203c50f12f2dc4d6400e9.jpg: corrupt JPEG restored and saved\n",
      "\u001b[34m\u001b[1mtrain: \u001b[0mWARNING ⚠️ /Volumes/Cucumber/Projects/datasets/2025-06-11/sku110k-merged-yolo/train/images/c93b6579cd4e2a5c4cac1c032a2c8ae7.jpg: corrupt JPEG restored and saved\n",
      "\u001b[34m\u001b[1mtrain: \u001b[0mWARNING ⚠️ /Volumes/Cucumber/Projects/datasets/2025-06-11/sku110k-merged-yolo/train/images/c9999192c6c4b5518dfca9f52a223092.jpg: corrupt JPEG restored and saved\n",
      "\u001b[34m\u001b[1mtrain: \u001b[0mWARNING ⚠️ /Volumes/Cucumber/Projects/datasets/2025-06-11/sku110k-merged-yolo/train/images/cda9710f5e8fcf1b17e8600c07145498.jpg: corrupt JPEG restored and saved\n",
      "\u001b[34m\u001b[1mtrain: \u001b[0mWARNING ⚠️ /Volumes/Cucumber/Projects/datasets/2025-06-11/sku110k-merged-yolo/train/images/cf87565f4dbfe66a9e7ca242425ef5a6.jpg: corrupt JPEG restored and saved\n",
      "\u001b[34m\u001b[1mtrain: \u001b[0mWARNING ⚠️ /Volumes/Cucumber/Projects/datasets/2025-06-11/sku110k-merged-yolo/train/images/cff5702b6562b272f1c6a5233d01ba47.jpg: corrupt JPEG restored and saved\n",
      "\u001b[34m\u001b[1mtrain: \u001b[0mWARNING ⚠️ /Volumes/Cucumber/Projects/datasets/2025-06-11/sku110k-merged-yolo/train/images/d1bc87ae578c58478f66d4d86b6aeb24.jpg: corrupt JPEG restored and saved\n",
      "\u001b[34m\u001b[1mtrain: \u001b[0mWARNING ⚠️ /Volumes/Cucumber/Projects/datasets/2025-06-11/sku110k-merged-yolo/train/images/d391fdb48cfb06e1ad1e8ba5bc49f0b6.jpg: corrupt JPEG restored and saved\n",
      "\u001b[34m\u001b[1mtrain: \u001b[0mWARNING ⚠️ /Volumes/Cucumber/Projects/datasets/2025-06-11/sku110k-merged-yolo/train/images/d47fc6ecff527213048ca13fd0c3077b.jpg: corrupt JPEG restored and saved\n",
      "\u001b[34m\u001b[1mtrain: \u001b[0mWARNING ⚠️ /Volumes/Cucumber/Projects/datasets/2025-06-11/sku110k-merged-yolo/train/images/d4a6a0b62e098d85b7afbcefc43a4cfa.jpg: corrupt JPEG restored and saved\n",
      "\u001b[34m\u001b[1mtrain: \u001b[0mWARNING ⚠️ /Volumes/Cucumber/Projects/datasets/2025-06-11/sku110k-merged-yolo/train/images/d6ce8f9521d2afe9cf12438d3f433939.jpg: corrupt JPEG restored and saved\n",
      "\u001b[34m\u001b[1mtrain: \u001b[0mWARNING ⚠️ /Volumes/Cucumber/Projects/datasets/2025-06-11/sku110k-merged-yolo/train/images/d84ee79154b7c7877e45474da1758589.jpg: corrupt JPEG restored and saved\n",
      "\u001b[34m\u001b[1mtrain: \u001b[0mWARNING ⚠️ /Volumes/Cucumber/Projects/datasets/2025-06-11/sku110k-merged-yolo/train/images/da4b74bfc20630b0e5ce83d804d9c806.jpg: corrupt JPEG restored and saved\n",
      "\u001b[34m\u001b[1mtrain: \u001b[0mWARNING ⚠️ /Volumes/Cucumber/Projects/datasets/2025-06-11/sku110k-merged-yolo/train/images/da53834d19af7c62c9eba108dfa84295.jpg: corrupt JPEG restored and saved\n",
      "\u001b[34m\u001b[1mtrain: \u001b[0mWARNING ⚠️ /Volumes/Cucumber/Projects/datasets/2025-06-11/sku110k-merged-yolo/train/images/dc7a4a5b9c9056935c47bd0f00422dae.jpg: corrupt JPEG restored and saved\n",
      "\u001b[34m\u001b[1mtrain: \u001b[0mWARNING ⚠️ /Volumes/Cucumber/Projects/datasets/2025-06-11/sku110k-merged-yolo/train/images/ddce441898acebeda47fa79de4fac2bf.jpg: corrupt JPEG restored and saved\n",
      "\u001b[34m\u001b[1mtrain: \u001b[0mWARNING ⚠️ /Volumes/Cucumber/Projects/datasets/2025-06-11/sku110k-merged-yolo/train/images/e021f804c7774fc4ba573f62b8981c02.jpg: corrupt JPEG restored and saved\n",
      "\u001b[34m\u001b[1mtrain: \u001b[0mWARNING ⚠️ /Volumes/Cucumber/Projects/datasets/2025-06-11/sku110k-merged-yolo/train/images/e0d9d9d6cda8286efdb8235c0113e683.jpg: corrupt JPEG restored and saved\n",
      "\u001b[34m\u001b[1mtrain: \u001b[0mWARNING ⚠️ /Volumes/Cucumber/Projects/datasets/2025-06-11/sku110k-merged-yolo/train/images/e13af8e8e78aaaece7ac4583a9aeb52d.jpg: corrupt JPEG restored and saved\n",
      "\u001b[34m\u001b[1mtrain: \u001b[0mWARNING ⚠️ /Volumes/Cucumber/Projects/datasets/2025-06-11/sku110k-merged-yolo/train/images/e533c82697a81b206618de1e054b6adc.jpg: corrupt JPEG restored and saved\n",
      "\u001b[34m\u001b[1mtrain: \u001b[0mWARNING ⚠️ /Volumes/Cucumber/Projects/datasets/2025-06-11/sku110k-merged-yolo/train/images/e6c4ae380c16510494801612aaae1335.jpg: corrupt JPEG restored and saved\n",
      "\u001b[34m\u001b[1mtrain: \u001b[0mWARNING ⚠️ /Volumes/Cucumber/Projects/datasets/2025-06-11/sku110k-merged-yolo/train/images/e6cd3d7086fecc1b842961fb924acc75.jpg: corrupt JPEG restored and saved\n",
      "\u001b[34m\u001b[1mtrain: \u001b[0mWARNING ⚠️ /Volumes/Cucumber/Projects/datasets/2025-06-11/sku110k-merged-yolo/train/images/e7eebb34c8b6ddd7558f01300e6e6eb4.jpg: corrupt JPEG restored and saved\n",
      "\u001b[34m\u001b[1mtrain: \u001b[0mWARNING ⚠️ /Volumes/Cucumber/Projects/datasets/2025-06-11/sku110k-merged-yolo/train/images/e9fc61acf7d3e7773ddf7bff34643bf5.jpg: corrupt JPEG restored and saved\n",
      "\u001b[34m\u001b[1mtrain: \u001b[0mWARNING ⚠️ /Volumes/Cucumber/Projects/datasets/2025-06-11/sku110k-merged-yolo/train/images/ea2b97ab08e63e5236d27c48cb1dd592.jpg: corrupt JPEG restored and saved\n",
      "\u001b[34m\u001b[1mtrain: \u001b[0mWARNING ⚠️ /Volumes/Cucumber/Projects/datasets/2025-06-11/sku110k-merged-yolo/train/images/ebed399f56405ba599bd3da4cd0d780b.jpg: corrupt JPEG restored and saved\n",
      "\u001b[34m\u001b[1mtrain: \u001b[0mWARNING ⚠️ /Volumes/Cucumber/Projects/datasets/2025-06-11/sku110k-merged-yolo/train/images/ed0277e9ddb54aa0c58d6d32c4bb4bbe.jpg: corrupt JPEG restored and saved\n",
      "\u001b[34m\u001b[1mtrain: \u001b[0mWARNING ⚠️ /Volumes/Cucumber/Projects/datasets/2025-06-11/sku110k-merged-yolo/train/images/ed0e9911561dc7836da36dfb9a1f5e56.jpg: corrupt JPEG restored and saved\n",
      "\u001b[34m\u001b[1mtrain: \u001b[0mWARNING ⚠️ /Volumes/Cucumber/Projects/datasets/2025-06-11/sku110k-merged-yolo/train/images/ef2b57b745b64e7084eccfe890b956ca.jpg: corrupt JPEG restored and saved\n",
      "\u001b[34m\u001b[1mtrain: \u001b[0mWARNING ⚠️ /Volumes/Cucumber/Projects/datasets/2025-06-11/sku110k-merged-yolo/train/images/f0bcb870473d1cc1cb6fc3a233ae78ef.jpg: corrupt JPEG restored and saved\n",
      "\u001b[34m\u001b[1mtrain: \u001b[0mWARNING ⚠️ /Volumes/Cucumber/Projects/datasets/2025-06-11/sku110k-merged-yolo/train/images/f15d33e49079f5e139afde482d794b86.jpg: corrupt JPEG restored and saved\n",
      "\u001b[34m\u001b[1mtrain: \u001b[0mWARNING ⚠️ /Volumes/Cucumber/Projects/datasets/2025-06-11/sku110k-merged-yolo/train/images/f32f27c04803d643cc44c7448b083621.jpg: corrupt JPEG restored and saved\n",
      "\u001b[34m\u001b[1mtrain: \u001b[0mWARNING ⚠️ /Volumes/Cucumber/Projects/datasets/2025-06-11/sku110k-merged-yolo/train/images/f823af1af35b8d9738aac2287676e6fe.jpg: corrupt JPEG restored and saved\n",
      "\u001b[34m\u001b[1mtrain: \u001b[0mWARNING ⚠️ /Volumes/Cucumber/Projects/datasets/2025-06-11/sku110k-merged-yolo/train/images/f8f90929edda12474515150eda007e99.jpg: corrupt JPEG restored and saved\n",
      "\u001b[34m\u001b[1mtrain: \u001b[0mWARNING ⚠️ /Volumes/Cucumber/Projects/datasets/2025-06-11/sku110k-merged-yolo/train/images/f92c6ea8bebff6d2e967f9f2894c18de.jpg: corrupt JPEG restored and saved\n",
      "\u001b[34m\u001b[1mtrain: \u001b[0mWARNING ⚠️ /Volumes/Cucumber/Projects/datasets/2025-06-11/sku110k-merged-yolo/train/images/fa41dbc9a297bfd304b87be78d806d5c.jpg: corrupt JPEG restored and saved\n",
      "\u001b[34m\u001b[1mtrain: \u001b[0mWARNING ⚠️ /Volumes/Cucumber/Projects/datasets/2025-06-11/sku110k-merged-yolo/train/images/fab5a5aae0cf7568654b9b9c7cb14934.jpg: corrupt JPEG restored and saved\n",
      "\u001b[34m\u001b[1mtrain: \u001b[0mWARNING ⚠️ /Volumes/Cucumber/Projects/datasets/2025-06-11/sku110k-merged-yolo/train/images/fe3c67839b0cf28d78150791b657b2f2.jpg: corrupt JPEG restored and saved\n",
      "\u001b[34m\u001b[1mtrain: \u001b[0mWARNING ⚠️ /Volumes/Cucumber/Projects/datasets/2025-06-11/sku110k-merged-yolo/train/images/zoomed_train_10.jpg: ignoring corrupt image/label: non-normalized or out of bounds coordinates [     1.0027      1.0085]\n",
      "\u001b[34m\u001b[1mtrain: \u001b[0mWARNING ⚠️ /Volumes/Cucumber/Projects/datasets/2025-06-11/sku110k-merged-yolo/train/images/zoomed_train_1009.jpg: ignoring corrupt image/label: non-normalized or out of bounds coordinates [     1.0101      1.0114]\n",
      "\u001b[34m\u001b[1mtrain: \u001b[0mWARNING ⚠️ /Volumes/Cucumber/Projects/datasets/2025-06-11/sku110k-merged-yolo/train/images/zoomed_train_1010.jpg: ignoring corrupt image/label: non-normalized or out of bounds coordinates [      1.005]\n",
      "\u001b[34m\u001b[1mtrain: \u001b[0mWARNING ⚠️ /Volumes/Cucumber/Projects/datasets/2025-06-11/sku110k-merged-yolo/train/images/zoomed_train_1012.jpg: ignoring corrupt image/label: non-normalized or out of bounds coordinates [     1.0068      1.0032]\n",
      "\u001b[34m\u001b[1mtrain: \u001b[0mWARNING ⚠️ /Volumes/Cucumber/Projects/datasets/2025-06-11/sku110k-merged-yolo/train/images/zoomed_train_1021.jpg: ignoring corrupt image/label: non-normalized or out of bounds coordinates [     1.0122      1.0072]\n",
      "\u001b[34m\u001b[1mtrain: \u001b[0mWARNING ⚠️ /Volumes/Cucumber/Projects/datasets/2025-06-11/sku110k-merged-yolo/train/images/zoomed_train_1027.jpg: ignoring corrupt image/label: negative label values [  -0.010713   -0.030354]\n",
      "\u001b[34m\u001b[1mtrain: \u001b[0mWARNING ⚠️ /Volumes/Cucumber/Projects/datasets/2025-06-11/sku110k-merged-yolo/train/images/zoomed_train_105.jpg: ignoring corrupt image/label: non-normalized or out of bounds coordinates [     1.0083]\n",
      "\u001b[34m\u001b[1mtrain: \u001b[0mWARNING ⚠️ /Volumes/Cucumber/Projects/datasets/2025-06-11/sku110k-merged-yolo/train/images/zoomed_train_1061.jpg: ignoring corrupt image/label: non-normalized or out of bounds coordinates [     1.0012]\n",
      "\u001b[34m\u001b[1mtrain: \u001b[0mWARNING ⚠️ /Volumes/Cucumber/Projects/datasets/2025-06-11/sku110k-merged-yolo/train/images/zoomed_train_1078.jpg: ignoring corrupt image/label: negative label values [  -0.012885]\n",
      "\u001b[34m\u001b[1mtrain: \u001b[0mWARNING ⚠️ /Volumes/Cucumber/Projects/datasets/2025-06-11/sku110k-merged-yolo/train/images/zoomed_train_108.jpg: ignoring corrupt image/label: negative label values [  -0.017278   -0.025518   -0.007709   -0.004519]\n",
      "\u001b[34m\u001b[1mtrain: \u001b[0mWARNING ⚠️ /Volumes/Cucumber/Projects/datasets/2025-06-11/sku110k-merged-yolo/train/images/zoomed_train_1082.jpg: ignoring corrupt image/label: non-normalized or out of bounds coordinates [      1.022      1.0031      1.0038      1.0129]\n",
      "\u001b[34m\u001b[1mtrain: \u001b[0mWARNING ⚠️ /Volumes/Cucumber/Projects/datasets/2025-06-11/sku110k-merged-yolo/train/images/zoomed_train_1088.jpg: ignoring corrupt image/label: negative label values [  -0.002519   -0.002519]\n",
      "\u001b[34m\u001b[1mtrain: \u001b[0mWARNING ⚠️ /Volumes/Cucumber/Projects/datasets/2025-06-11/sku110k-merged-yolo/train/images/zoomed_train_1089.jpg: ignoring corrupt image/label: non-normalized or out of bounds coordinates [     1.0286      1.0237        1.03]\n",
      "\u001b[34m\u001b[1mtrain: \u001b[0mWARNING ⚠️ /Volumes/Cucumber/Projects/datasets/2025-06-11/sku110k-merged-yolo/train/images/zoomed_train_1094.jpg: ignoring corrupt image/label: non-normalized or out of bounds coordinates [     1.0213]\n",
      "\u001b[34m\u001b[1mtrain: \u001b[0mWARNING ⚠️ /Volumes/Cucumber/Projects/datasets/2025-06-11/sku110k-merged-yolo/train/images/zoomed_train_1104.jpg: ignoring corrupt image/label: negative label values [  -0.011015]\n",
      "\u001b[34m\u001b[1mtrain: \u001b[0mWARNING ⚠️ /Volumes/Cucumber/Projects/datasets/2025-06-11/sku110k-merged-yolo/train/images/zoomed_train_1125.jpg: ignoring corrupt image/label: negative label values [  -0.013354    -0.00228   -0.016286   -0.019543]\n",
      "\u001b[34m\u001b[1mtrain: \u001b[0mWARNING ⚠️ /Volumes/Cucumber/Projects/datasets/2025-06-11/sku110k-merged-yolo/train/images/zoomed_train_1169.jpg: ignoring corrupt image/label: non-normalized or out of bounds coordinates [     1.0029]\n",
      "\u001b[34m\u001b[1mtrain: \u001b[0mWARNING ⚠️ /Volumes/Cucumber/Projects/datasets/2025-06-11/sku110k-merged-yolo/train/images/zoomed_train_1183.jpg: ignoring corrupt image/label: negative label values [   -0.01097]\n",
      "\u001b[34m\u001b[1mtrain: \u001b[0mWARNING ⚠️ /Volumes/Cucumber/Projects/datasets/2025-06-11/sku110k-merged-yolo/train/images/zoomed_train_1196.jpg: ignoring corrupt image/label: non-normalized or out of bounds coordinates [     1.0656      1.0473       1.055      1.0454]\n",
      "\u001b[34m\u001b[1mtrain: \u001b[0mWARNING ⚠️ /Volumes/Cucumber/Projects/datasets/2025-06-11/sku110k-merged-yolo/train/images/zoomed_train_1228.jpg: ignoring corrupt image/label: non-normalized or out of bounds coordinates [     1.0063]\n",
      "\u001b[34m\u001b[1mtrain: \u001b[0mWARNING ⚠️ /Volumes/Cucumber/Projects/datasets/2025-06-11/sku110k-merged-yolo/train/images/zoomed_train_1241.jpg: ignoring corrupt image/label: non-normalized or out of bounds coordinates [     1.0096]\n",
      "\u001b[34m\u001b[1mtrain: \u001b[0mWARNING ⚠️ /Volumes/Cucumber/Projects/datasets/2025-06-11/sku110k-merged-yolo/train/images/zoomed_train_1246.jpg: ignoring corrupt image/label: non-normalized or out of bounds coordinates [      1.002]\n",
      "\u001b[34m\u001b[1mtrain: \u001b[0mWARNING ⚠️ /Volumes/Cucumber/Projects/datasets/2025-06-11/sku110k-merged-yolo/train/images/zoomed_train_1271.jpg: ignoring corrupt image/label: negative label values [  -0.001109]\n",
      "\u001b[34m\u001b[1mtrain: \u001b[0mWARNING ⚠️ /Volumes/Cucumber/Projects/datasets/2025-06-11/sku110k-merged-yolo/train/images/zoomed_train_1272.jpg: ignoring corrupt image/label: negative label values [  -0.015444]\n",
      "\u001b[34m\u001b[1mtrain: \u001b[0mWARNING ⚠️ /Volumes/Cucumber/Projects/datasets/2025-06-11/sku110k-merged-yolo/train/images/zoomed_train_1276.jpg: ignoring corrupt image/label: non-normalized or out of bounds coordinates [     1.0181]\n",
      "\u001b[34m\u001b[1mtrain: \u001b[0mWARNING ⚠️ /Volumes/Cucumber/Projects/datasets/2025-06-11/sku110k-merged-yolo/train/images/zoomed_train_1299.jpg: ignoring corrupt image/label: non-normalized or out of bounds coordinates [     1.0128]\n",
      "\u001b[34m\u001b[1mtrain: \u001b[0mWARNING ⚠️ /Volumes/Cucumber/Projects/datasets/2025-06-11/sku110k-merged-yolo/train/images/zoomed_train_1301.jpg: ignoring corrupt image/label: non-normalized or out of bounds coordinates [      1.006      1.0046]\n",
      "\u001b[34m\u001b[1mtrain: \u001b[0mWARNING ⚠️ /Volumes/Cucumber/Projects/datasets/2025-06-11/sku110k-merged-yolo/train/images/zoomed_train_1306.jpg: ignoring corrupt image/label: non-normalized or out of bounds coordinates [     1.0034      1.0107      1.0077      1.0181      1.0239      1.0275]\n",
      "\u001b[34m\u001b[1mtrain: \u001b[0mWARNING ⚠️ /Volumes/Cucumber/Projects/datasets/2025-06-11/sku110k-merged-yolo/train/images/zoomed_train_1322.jpg: ignoring corrupt image/label: negative label values [  -0.014618     -0.0134   -0.015836]\n",
      "\u001b[34m\u001b[1mtrain: \u001b[0mWARNING ⚠️ /Volumes/Cucumber/Projects/datasets/2025-06-11/sku110k-merged-yolo/train/images/zoomed_train_1328.jpg: ignoring corrupt image/label: non-normalized or out of bounds coordinates [     1.0064]\n",
      "\u001b[34m\u001b[1mtrain: \u001b[0mWARNING ⚠️ /Volumes/Cucumber/Projects/datasets/2025-06-11/sku110k-merged-yolo/train/images/zoomed_train_1342.jpg: ignoring corrupt image/label: non-normalized or out of bounds coordinates [     1.0097      1.0086]\n",
      "\u001b[34m\u001b[1mtrain: \u001b[0mWARNING ⚠️ /Volumes/Cucumber/Projects/datasets/2025-06-11/sku110k-merged-yolo/train/images/zoomed_train_1349.jpg: ignoring corrupt image/label: negative label values [  -0.000497]\n",
      "\u001b[34m\u001b[1mtrain: \u001b[0mWARNING ⚠️ /Volumes/Cucumber/Projects/datasets/2025-06-11/sku110k-merged-yolo/train/images/zoomed_train_1353.jpg: ignoring corrupt image/label: negative label values [  -0.013931]\n",
      "\u001b[34m\u001b[1mtrain: \u001b[0mWARNING ⚠️ /Volumes/Cucumber/Projects/datasets/2025-06-11/sku110k-merged-yolo/train/images/zoomed_train_1355.jpg: ignoring corrupt image/label: non-normalized or out of bounds coordinates [     1.0023      1.0032      1.0198      1.0265      1.0299]\n",
      "\u001b[34m\u001b[1mtrain: \u001b[0mWARNING ⚠️ /Volumes/Cucumber/Projects/datasets/2025-06-11/sku110k-merged-yolo/train/images/zoomed_train_142.jpg: ignoring corrupt image/label: non-normalized or out of bounds coordinates [     1.0008      1.0031      1.0124      1.0099]\n",
      "\u001b[34m\u001b[1mtrain: \u001b[0mWARNING ⚠️ /Volumes/Cucumber/Projects/datasets/2025-06-11/sku110k-merged-yolo/train/images/zoomed_train_1437.jpg: ignoring corrupt image/label: non-normalized or out of bounds coordinates [     1.0037]\n",
      "\u001b[34m\u001b[1mtrain: \u001b[0mWARNING ⚠️ /Volumes/Cucumber/Projects/datasets/2025-06-11/sku110k-merged-yolo/train/images/zoomed_train_1439.jpg: ignoring corrupt image/label: negative label values [   -0.01124   -0.000775]\n",
      "\u001b[34m\u001b[1mtrain: \u001b[0mWARNING ⚠️ /Volumes/Cucumber/Projects/datasets/2025-06-11/sku110k-merged-yolo/train/images/zoomed_train_1444.jpg: ignoring corrupt image/label: negative label values [  -0.002893]\n",
      "\u001b[34m\u001b[1mtrain: \u001b[0mWARNING ⚠️ /Volumes/Cucumber/Projects/datasets/2025-06-11/sku110k-merged-yolo/train/images/zoomed_train_1459.jpg: ignoring corrupt image/label: non-normalized or out of bounds coordinates [     1.0104      1.0038]\n",
      "\u001b[34m\u001b[1mtrain: \u001b[0mWARNING ⚠️ /Volumes/Cucumber/Projects/datasets/2025-06-11/sku110k-merged-yolo/train/images/zoomed_train_1470.jpg: ignoring corrupt image/label: negative label values [  -0.007399   -0.006289    -0.00296]\n",
      "\u001b[34m\u001b[1mtrain: \u001b[0mWARNING ⚠️ /Volumes/Cucumber/Projects/datasets/2025-06-11/sku110k-merged-yolo/train/images/zoomed_train_1483.jpg: ignoring corrupt image/label: non-normalized or out of bounds coordinates [     1.0096      1.0083      1.0073]\n",
      "\u001b[34m\u001b[1mtrain: \u001b[0mWARNING ⚠️ /Volumes/Cucumber/Projects/datasets/2025-06-11/sku110k-merged-yolo/train/images/zoomed_train_1487.jpg: ignoring corrupt image/label: non-normalized or out of bounds coordinates [     1.0053      1.0228      1.0029      1.0135]\n",
      "\u001b[34m\u001b[1mtrain: \u001b[0mWARNING ⚠️ /Volumes/Cucumber/Projects/datasets/2025-06-11/sku110k-merged-yolo/train/images/zoomed_train_1491.jpg: ignoring corrupt image/label: non-normalized or out of bounds coordinates [     1.0083      1.0029]\n",
      "\u001b[34m\u001b[1mtrain: \u001b[0mWARNING ⚠️ /Volumes/Cucumber/Projects/datasets/2025-06-11/sku110k-merged-yolo/train/images/zoomed_train_1515.jpg: ignoring corrupt image/label: non-normalized or out of bounds coordinates [     1.0091]\n",
      "\u001b[34m\u001b[1mtrain: \u001b[0mWARNING ⚠️ /Volumes/Cucumber/Projects/datasets/2025-06-11/sku110k-merged-yolo/train/images/zoomed_train_1563.jpg: ignoring corrupt image/label: negative label values [  -0.025478   -0.029016   -0.031847   -0.025124   -0.027601   -0.020288]\n",
      "\u001b[34m\u001b[1mtrain: \u001b[0mWARNING ⚠️ /Volumes/Cucumber/Projects/datasets/2025-06-11/sku110k-merged-yolo/train/images/zoomed_train_1580.jpg: ignoring corrupt image/label: non-normalized or out of bounds coordinates [     1.0026      1.0079]\n",
      "\u001b[34m\u001b[1mtrain: \u001b[0mWARNING ⚠️ /Volumes/Cucumber/Projects/datasets/2025-06-11/sku110k-merged-yolo/train/images/zoomed_train_159.jpg: ignoring corrupt image/label: non-normalized or out of bounds coordinates [     1.0127      1.0108]\n",
      "\u001b[34m\u001b[1mtrain: \u001b[0mWARNING ⚠️ /Volumes/Cucumber/Projects/datasets/2025-06-11/sku110k-merged-yolo/train/images/zoomed_train_1606.jpg: ignoring corrupt image/label: non-normalized or out of bounds coordinates [     1.0133]\n",
      "\u001b[34m\u001b[1mtrain: \u001b[0mWARNING ⚠️ /Volumes/Cucumber/Projects/datasets/2025-06-11/sku110k-merged-yolo/train/images/zoomed_train_1636.jpg: ignoring corrupt image/label: non-normalized or out of bounds coordinates [     1.0294      1.0334       1.033      1.0366      1.0302      1.0265      1.0274      1.0302]\n",
      "\u001b[34m\u001b[1mtrain: \u001b[0mWARNING ⚠️ /Volumes/Cucumber/Projects/datasets/2025-06-11/sku110k-merged-yolo/train/images/zoomed_train_1646.jpg: ignoring corrupt image/label: non-normalized or out of bounds coordinates [     1.0028      1.0011]\n",
      "\u001b[34m\u001b[1mtrain: \u001b[0mWARNING ⚠️ /Volumes/Cucumber/Projects/datasets/2025-06-11/sku110k-merged-yolo/train/images/zoomed_train_1679.jpg: ignoring corrupt image/label: negative label values [  -0.014241]\n",
      "\u001b[34m\u001b[1mtrain: \u001b[0mWARNING ⚠️ /Volumes/Cucumber/Projects/datasets/2025-06-11/sku110k-merged-yolo/train/images/zoomed_train_1698.jpg: ignoring corrupt image/label: negative label values [  -0.012509]\n",
      "\u001b[34m\u001b[1mtrain: \u001b[0mWARNING ⚠️ /Volumes/Cucumber/Projects/datasets/2025-06-11/sku110k-merged-yolo/train/images/zoomed_train_172.jpg: ignoring corrupt image/label: negative label values [   -0.00426   -0.000213]\n",
      "\u001b[34m\u001b[1mtrain: \u001b[0mWARNING ⚠️ /Volumes/Cucumber/Projects/datasets/2025-06-11/sku110k-merged-yolo/train/images/zoomed_train_1732.jpg: ignoring corrupt image/label: non-normalized or out of bounds coordinates [     1.0047      1.0141]\n",
      "\u001b[34m\u001b[1mtrain: \u001b[0mWARNING ⚠️ /Volumes/Cucumber/Projects/datasets/2025-06-11/sku110k-merged-yolo/train/images/zoomed_train_1753.jpg: ignoring corrupt image/label: negative label values [  -0.001856]\n",
      "\u001b[34m\u001b[1mtrain: \u001b[0mWARNING ⚠️ /Volumes/Cucumber/Projects/datasets/2025-06-11/sku110k-merged-yolo/train/images/zoomed_train_1795.jpg: ignoring corrupt image/label: non-normalized or out of bounds coordinates [     1.0133]\n",
      "\u001b[34m\u001b[1mtrain: \u001b[0mWARNING ⚠️ /Volumes/Cucumber/Projects/datasets/2025-06-11/sku110k-merged-yolo/train/images/zoomed_train_180.jpg: ignoring corrupt image/label: negative label values [  -0.015325]\n",
      "\u001b[34m\u001b[1mtrain: \u001b[0mWARNING ⚠️ /Volumes/Cucumber/Projects/datasets/2025-06-11/sku110k-merged-yolo/train/images/zoomed_train_1806.jpg: ignoring corrupt image/label: non-normalized or out of bounds coordinates [     1.0137]\n",
      "\u001b[34m\u001b[1mtrain: \u001b[0mWARNING ⚠️ /Volumes/Cucumber/Projects/datasets/2025-06-11/sku110k-merged-yolo/train/images/zoomed_train_1860.jpg: ignoring corrupt image/label: negative label values [  -0.007207]\n",
      "\u001b[34m\u001b[1mtrain: \u001b[0mWARNING ⚠️ /Volumes/Cucumber/Projects/datasets/2025-06-11/sku110k-merged-yolo/train/images/zoomed_train_1874.jpg: ignoring corrupt image/label: negative label values [  -0.005289    -0.00727]\n",
      "\u001b[34m\u001b[1mtrain: \u001b[0mWARNING ⚠️ /Volumes/Cucumber/Projects/datasets/2025-06-11/sku110k-merged-yolo/train/images/zoomed_train_1880.jpg: ignoring corrupt image/label: non-normalized or out of bounds coordinates [     1.0125]\n",
      "\u001b[34m\u001b[1mtrain: \u001b[0mWARNING ⚠️ /Volumes/Cucumber/Projects/datasets/2025-06-11/sku110k-merged-yolo/train/images/zoomed_train_1905.jpg: ignoring corrupt image/label: non-normalized or out of bounds coordinates [     1.0169      1.0211      1.0023      1.0092]\n",
      "\u001b[34m\u001b[1mtrain: \u001b[0mWARNING ⚠️ /Volumes/Cucumber/Projects/datasets/2025-06-11/sku110k-merged-yolo/train/images/zoomed_train_1912.jpg: ignoring corrupt image/label: non-normalized or out of bounds coordinates [      1.003]\n",
      "\u001b[34m\u001b[1mtrain: \u001b[0mWARNING ⚠️ /Volumes/Cucumber/Projects/datasets/2025-06-11/sku110k-merged-yolo/train/images/zoomed_train_1918.jpg: ignoring corrupt image/label: non-normalized or out of bounds coordinates [     1.0275      1.0181       1.005      1.0115]\n",
      "\u001b[34m\u001b[1mtrain: \u001b[0mWARNING ⚠️ /Volumes/Cucumber/Projects/datasets/2025-06-11/sku110k-merged-yolo/train/images/zoomed_train_1927.jpg: ignoring corrupt image/label: non-normalized or out of bounds coordinates [     1.0084      1.0088]\n",
      "\u001b[34m\u001b[1mtrain: \u001b[0mWARNING ⚠️ /Volumes/Cucumber/Projects/datasets/2025-06-11/sku110k-merged-yolo/train/images/zoomed_train_1934.jpg: ignoring corrupt image/label: non-normalized or out of bounds coordinates [     1.0069      1.0044      1.0102]\n",
      "\u001b[34m\u001b[1mtrain: \u001b[0mWARNING ⚠️ /Volumes/Cucumber/Projects/datasets/2025-06-11/sku110k-merged-yolo/train/images/zoomed_train_1948.jpg: ignoring corrupt image/label: non-normalized or out of bounds coordinates [     1.0047      1.0016      1.0022      1.0087      1.0033      1.0049      1.0033]\n",
      "\u001b[34m\u001b[1mtrain: \u001b[0mWARNING ⚠️ /Volumes/Cucumber/Projects/datasets/2025-06-11/sku110k-merged-yolo/train/images/zoomed_train_1956.jpg: ignoring corrupt image/label: non-normalized or out of bounds coordinates [     1.0043]\n",
      "\u001b[34m\u001b[1mtrain: \u001b[0mWARNING ⚠️ /Volumes/Cucumber/Projects/datasets/2025-06-11/sku110k-merged-yolo/train/images/zoomed_train_1985.jpg: ignoring corrupt image/label: negative label values [  -0.000515   -0.003672   -0.013998    -0.01767   -0.021571   -0.011474   -0.004639]\n",
      "\u001b[34m\u001b[1mtrain: \u001b[0mWARNING ⚠️ /Volumes/Cucumber/Projects/datasets/2025-06-11/sku110k-merged-yolo/train/images/zoomed_train_2017.jpg: ignoring corrupt image/label: negative label values [  -0.025534   -0.008384   -0.007622   -0.007622]\n",
      "\u001b[34m\u001b[1mtrain: \u001b[0mWARNING ⚠️ /Volumes/Cucumber/Projects/datasets/2025-06-11/sku110k-merged-yolo/train/images/zoomed_train_2019.jpg: ignoring corrupt image/label: non-normalized or out of bounds coordinates [      1.003]\n",
      "\u001b[34m\u001b[1mtrain: \u001b[0mWARNING ⚠️ /Volumes/Cucumber/Projects/datasets/2025-06-11/sku110k-merged-yolo/train/images/zoomed_train_2045.jpg: ignoring corrupt image/label: negative label values [  -0.015784   -0.019107]\n",
      "\u001b[34m\u001b[1mtrain: \u001b[0mWARNING ⚠️ /Volumes/Cucumber/Projects/datasets/2025-06-11/sku110k-merged-yolo/train/images/zoomed_train_205.jpg: ignoring corrupt image/label: non-normalized or out of bounds coordinates [     1.0052]\n",
      "\u001b[34m\u001b[1mtrain: \u001b[0mWARNING ⚠️ /Volumes/Cucumber/Projects/datasets/2025-06-11/sku110k-merged-yolo/train/images/zoomed_train_2052.jpg: ignoring corrupt image/label: non-normalized or out of bounds coordinates [     1.0193      1.0049]\n",
      "\u001b[34m\u001b[1mtrain: \u001b[0mWARNING ⚠️ /Volumes/Cucumber/Projects/datasets/2025-06-11/sku110k-merged-yolo/train/images/zoomed_train_2061.jpg: ignoring corrupt image/label: negative label values [  -0.011507   -0.016493]\n",
      "\u001b[34m\u001b[1mtrain: \u001b[0mWARNING ⚠️ /Volumes/Cucumber/Projects/datasets/2025-06-11/sku110k-merged-yolo/train/images/zoomed_train_2070.jpg: ignoring corrupt image/label: non-normalized or out of bounds coordinates [     1.0079]\n",
      "\u001b[34m\u001b[1mtrain: \u001b[0mWARNING ⚠️ /Volumes/Cucumber/Projects/datasets/2025-06-11/sku110k-merged-yolo/train/images/zoomed_train_2089.jpg: ignoring corrupt image/label: negative label values [  -0.007629    -0.01441   -0.030515   -0.039415]\n",
      "\u001b[34m\u001b[1mtrain: \u001b[0mWARNING ⚠️ /Volumes/Cucumber/Projects/datasets/2025-06-11/sku110k-merged-yolo/train/images/zoomed_train_2091.jpg: ignoring corrupt image/label: negative label values [  -0.011867   -0.014377   -0.015062   -0.013921   -0.015974   -0.015518   -0.026928   -0.026928   -0.018257   -0.012551   -0.015062   -0.015746   -0.015062]\n",
      "\u001b[34m\u001b[1mtrain: \u001b[0mWARNING ⚠️ /Volumes/Cucumber/Projects/datasets/2025-06-11/sku110k-merged-yolo/train/images/zoomed_train_2100.jpg: ignoring corrupt image/label: non-normalized or out of bounds coordinates [     1.0057]\n",
      "\u001b[34m\u001b[1mtrain: \u001b[0mWARNING ⚠️ /Volumes/Cucumber/Projects/datasets/2025-06-11/sku110k-merged-yolo/train/images/zoomed_train_2110.jpg: ignoring corrupt image/label: negative label values [  -0.020102]\n",
      "\u001b[34m\u001b[1mtrain: \u001b[0mWARNING ⚠️ /Volumes/Cucumber/Projects/datasets/2025-06-11/sku110k-merged-yolo/train/images/zoomed_train_212.jpg: ignoring corrupt image/label: negative label values [  -0.008358   -0.009851   -0.004776]\n",
      "\u001b[34m\u001b[1mtrain: \u001b[0mWARNING ⚠️ /Volumes/Cucumber/Projects/datasets/2025-06-11/sku110k-merged-yolo/train/images/zoomed_train_2134.jpg: ignoring corrupt image/label: negative label values [  -0.002115   -0.004834   -0.003323   -0.002719   -0.007553   -0.004532   -0.008761   -0.010491   -0.007553   -0.005649   -0.011178]\n",
      "\u001b[34m\u001b[1mtrain: \u001b[0mWARNING ⚠️ /Volumes/Cucumber/Projects/datasets/2025-06-11/sku110k-merged-yolo/train/images/zoomed_train_2136.jpg: ignoring corrupt image/label: negative label values [  -0.013367   -0.007797]\n",
      "\u001b[34m\u001b[1mtrain: \u001b[0mWARNING ⚠️ /Volumes/Cucumber/Projects/datasets/2025-06-11/sku110k-merged-yolo/train/images/zoomed_train_2146.jpg: ignoring corrupt image/label: negative label values [  -0.034375   -0.010136   -0.046714]\n",
      "\u001b[34m\u001b[1mtrain: \u001b[0mWARNING ⚠️ /Volumes/Cucumber/Projects/datasets/2025-06-11/sku110k-merged-yolo/train/images/zoomed_train_2156.jpg: ignoring corrupt image/label: non-normalized or out of bounds coordinates [     1.0056      1.0014]\n",
      "\u001b[34m\u001b[1mtrain: \u001b[0mWARNING ⚠️ /Volumes/Cucumber/Projects/datasets/2025-06-11/sku110k-merged-yolo/train/images/zoomed_train_2181.jpg: ignoring corrupt image/label: negative label values [   -0.00619]\n",
      "\u001b[34m\u001b[1mtrain: \u001b[0mWARNING ⚠️ /Volumes/Cucumber/Projects/datasets/2025-06-11/sku110k-merged-yolo/train/images/zoomed_train_2182.jpg: ignoring corrupt image/label: non-normalized or out of bounds coordinates [     1.0071      1.0102      1.0082      1.0192      1.0294      1.0155      1.0068]\n",
      "\u001b[34m\u001b[1mtrain: \u001b[0mWARNING ⚠️ /Volumes/Cucumber/Projects/datasets/2025-06-11/sku110k-merged-yolo/train/images/zoomed_train_2189.jpg: ignoring corrupt image/label: non-normalized or out of bounds coordinates [     1.0079]\n",
      "\u001b[34m\u001b[1mtrain: \u001b[0mWARNING ⚠️ /Volumes/Cucumber/Projects/datasets/2025-06-11/sku110k-merged-yolo/train/images/zoomed_train_2197.jpg: ignoring corrupt image/label: negative label values [  -0.044453]\n",
      "\u001b[34m\u001b[1mtrain: \u001b[0mWARNING ⚠️ /Volumes/Cucumber/Projects/datasets/2025-06-11/sku110k-merged-yolo/train/images/zoomed_train_2224.jpg: ignoring corrupt image/label: non-normalized or out of bounds coordinates [     1.0027      1.0015]\n",
      "\u001b[34m\u001b[1mtrain: \u001b[0mWARNING ⚠️ /Volumes/Cucumber/Projects/datasets/2025-06-11/sku110k-merged-yolo/train/images/zoomed_train_2239.jpg: ignoring corrupt image/label: negative label values [  -0.021951]\n",
      "\u001b[34m\u001b[1mtrain: \u001b[0mWARNING ⚠️ /Volumes/Cucumber/Projects/datasets/2025-06-11/sku110k-merged-yolo/train/images/zoomed_train_2243.jpg: ignoring corrupt image/label: negative label values [  -0.003896   -0.005135]\n",
      "\u001b[34m\u001b[1mtrain: \u001b[0mWARNING ⚠️ /Volumes/Cucumber/Projects/datasets/2025-06-11/sku110k-merged-yolo/train/images/zoomed_train_2244.jpg: ignoring corrupt image/label: non-normalized or out of bounds coordinates [     1.0183]\n",
      "\u001b[34m\u001b[1mtrain: \u001b[0mWARNING ⚠️ /Volumes/Cucumber/Projects/datasets/2025-06-11/sku110k-merged-yolo/train/images/zoomed_train_2249.jpg: ignoring corrupt image/label: negative label values [  -0.007526]\n",
      "\u001b[34m\u001b[1mtrain: \u001b[0mWARNING ⚠️ /Volumes/Cucumber/Projects/datasets/2025-06-11/sku110k-merged-yolo/train/images/zoomed_train_2286.jpg: ignoring corrupt image/label: negative label values [  -0.046235   -0.015253   -0.015729]\n",
      "\u001b[34m\u001b[1mtrain: \u001b[0mWARNING ⚠️ /Volumes/Cucumber/Projects/datasets/2025-06-11/sku110k-merged-yolo/train/images/zoomed_train_2294.jpg: ignoring corrupt image/label: negative label values [  -0.010073]\n",
      "\u001b[34m\u001b[1mtrain: \u001b[0mWARNING ⚠️ /Volumes/Cucumber/Projects/datasets/2025-06-11/sku110k-merged-yolo/train/images/zoomed_train_2305.jpg: ignoring corrupt image/label: negative label values [  -0.020704]\n",
      "\u001b[34m\u001b[1mtrain: \u001b[0mWARNING ⚠️ /Volumes/Cucumber/Projects/datasets/2025-06-11/sku110k-merged-yolo/train/images/zoomed_train_235.jpg: ignoring corrupt image/label: negative label values [  -0.021231]\n",
      "\u001b[34m\u001b[1mtrain: \u001b[0mWARNING ⚠️ /Volumes/Cucumber/Projects/datasets/2025-06-11/sku110k-merged-yolo/train/images/zoomed_train_237.jpg: ignoring corrupt image/label: non-normalized or out of bounds coordinates [     1.0173      1.0039]\n",
      "\u001b[34m\u001b[1mtrain: \u001b[0mWARNING ⚠️ /Volumes/Cucumber/Projects/datasets/2025-06-11/sku110k-merged-yolo/train/images/zoomed_train_2393.jpg: ignoring corrupt image/label: non-normalized or out of bounds coordinates [     1.0095]\n",
      "\u001b[34m\u001b[1mtrain: \u001b[0mWARNING ⚠️ /Volumes/Cucumber/Projects/datasets/2025-06-11/sku110k-merged-yolo/train/images/zoomed_train_2418.jpg: ignoring corrupt image/label: non-normalized or out of bounds coordinates [     1.0038]\n",
      "\u001b[34m\u001b[1mtrain: \u001b[0mWARNING ⚠️ /Volumes/Cucumber/Projects/datasets/2025-06-11/sku110k-merged-yolo/train/images/zoomed_train_243.jpg: ignoring corrupt image/label: negative label values [  -0.017736   -0.012985   -0.005067]\n",
      "\u001b[34m\u001b[1mtrain: \u001b[0mWARNING ⚠️ /Volumes/Cucumber/Projects/datasets/2025-06-11/sku110k-merged-yolo/train/images/zoomed_train_2438.jpg: ignoring corrupt image/label: non-normalized or out of bounds coordinates [      1.007      1.0098      1.0094       1.002      1.0027      1.0004]\n",
      "\u001b[34m\u001b[1mtrain: \u001b[0mWARNING ⚠️ /Volumes/Cucumber/Projects/datasets/2025-06-11/sku110k-merged-yolo/train/images/zoomed_train_2443.jpg: ignoring corrupt image/label: non-normalized or out of bounds coordinates [     1.0146      1.0177      1.0173      1.0158]\n",
      "\u001b[34m\u001b[1mtrain: \u001b[0mWARNING ⚠️ /Volumes/Cucumber/Projects/datasets/2025-06-11/sku110k-merged-yolo/train/images/zoomed_train_2472.jpg: ignoring corrupt image/label: negative label values [  -0.029851   -0.002902   -0.010779]\n",
      "\u001b[34m\u001b[1mtrain: \u001b[0mWARNING ⚠️ /Volumes/Cucumber/Projects/datasets/2025-06-11/sku110k-merged-yolo/train/images/zoomed_train_248.jpg: ignoring corrupt image/label: non-normalized or out of bounds coordinates [     1.0011]\n",
      "\u001b[34m\u001b[1mtrain: \u001b[0mWARNING ⚠️ /Volumes/Cucumber/Projects/datasets/2025-06-11/sku110k-merged-yolo/train/images/zoomed_train_2482.jpg: ignoring corrupt image/label: non-normalized or out of bounds coordinates [      1.022      1.0203]\n",
      "\u001b[34m\u001b[1mtrain: \u001b[0mWARNING ⚠️ /Volumes/Cucumber/Projects/datasets/2025-06-11/sku110k-merged-yolo/train/images/zoomed_train_2513.jpg: ignoring corrupt image/label: negative label values [  -0.009783   -0.007174   -0.007174    -0.00413   -0.003261   -0.006957    -0.01087   -0.005435]\n",
      "\u001b[34m\u001b[1mtrain: \u001b[0mWARNING ⚠️ /Volumes/Cucumber/Projects/datasets/2025-06-11/sku110k-merged-yolo/train/images/zoomed_train_2514.jpg: ignoring corrupt image/label: non-normalized or out of bounds coordinates [     1.0304      1.0339      1.0269      1.0339      1.0304      1.0354]\n",
      "\u001b[34m\u001b[1mtrain: \u001b[0mWARNING ⚠️ /Volumes/Cucumber/Projects/datasets/2025-06-11/sku110k-merged-yolo/train/images/zoomed_train_2567.jpg: ignoring corrupt image/label: non-normalized or out of bounds coordinates [     1.0078]\n",
      "\u001b[34m\u001b[1mtrain: \u001b[0mWARNING ⚠️ /Volumes/Cucumber/Projects/datasets/2025-06-11/sku110k-merged-yolo/train/images/zoomed_train_2584.jpg: ignoring corrupt image/label: non-normalized or out of bounds coordinates [     1.0212       1.019]\n",
      "\u001b[34m\u001b[1mtrain: \u001b[0mWARNING ⚠️ /Volumes/Cucumber/Projects/datasets/2025-06-11/sku110k-merged-yolo/train/images/zoomed_train_2586.jpg: ignoring corrupt image/label: negative label values [  -0.055402   -0.001039]\n",
      "\u001b[34m\u001b[1mtrain: \u001b[0mWARNING ⚠️ /Volumes/Cucumber/Projects/datasets/2025-06-11/sku110k-merged-yolo/train/images/zoomed_train_2587.jpg: ignoring corrupt image/label: non-normalized or out of bounds coordinates [     1.0004]\n",
      "\u001b[34m\u001b[1mtrain: \u001b[0mWARNING ⚠️ /Volumes/Cucumber/Projects/datasets/2025-06-11/sku110k-merged-yolo/train/images/zoomed_train_2604.jpg: ignoring corrupt image/label: non-normalized or out of bounds coordinates [     1.0358]\n",
      "\u001b[34m\u001b[1mtrain: \u001b[0mWARNING ⚠️ /Volumes/Cucumber/Projects/datasets/2025-06-11/sku110k-merged-yolo/train/images/zoomed_train_2615.jpg: ignoring corrupt image/label: negative label values [  -0.017697   -0.021281   -0.021281   -0.021953   -0.021953   -0.022177   -0.018593   -0.000336]\n",
      "\u001b[34m\u001b[1mtrain: \u001b[0mWARNING ⚠️ /Volumes/Cucumber/Projects/datasets/2025-06-11/sku110k-merged-yolo/train/images/zoomed_train_2641.jpg: ignoring corrupt image/label: negative label values [  -0.020548   -0.003653]\n",
      "\u001b[34m\u001b[1mtrain: \u001b[0mWARNING ⚠️ /Volumes/Cucumber/Projects/datasets/2025-06-11/sku110k-merged-yolo/train/images/zoomed_train_2651.jpg: ignoring corrupt image/label: non-normalized or out of bounds coordinates [     1.0089      1.0025      1.0046      1.0096      1.0079      1.0132      1.0041      1.0035]\n",
      "\u001b[34m\u001b[1mtrain: \u001b[0mWARNING ⚠️ /Volumes/Cucumber/Projects/datasets/2025-06-11/sku110k-merged-yolo/train/images/zoomed_train_2667.jpg: ignoring corrupt image/label: non-normalized or out of bounds coordinates [     1.0053]\n",
      "\u001b[34m\u001b[1mtrain: \u001b[0mWARNING ⚠️ /Volumes/Cucumber/Projects/datasets/2025-06-11/sku110k-merged-yolo/train/images/zoomed_train_2668.jpg: ignoring corrupt image/label: non-normalized or out of bounds coordinates [      1.004]\n",
      "\u001b[34m\u001b[1mtrain: \u001b[0mWARNING ⚠️ /Volumes/Cucumber/Projects/datasets/2025-06-11/sku110k-merged-yolo/train/images/zoomed_train_2679.jpg: ignoring corrupt image/label: negative label values [  -0.002556   -0.000319   -0.002236]\n",
      "\u001b[34m\u001b[1mtrain: \u001b[0mWARNING ⚠️ /Volumes/Cucumber/Projects/datasets/2025-06-11/sku110k-merged-yolo/train/images/zoomed_train_2691.jpg: ignoring corrupt image/label: negative label values [  -0.016402   -0.004056]\n",
      "\u001b[34m\u001b[1mtrain: \u001b[0mWARNING ⚠️ /Volumes/Cucumber/Projects/datasets/2025-06-11/sku110k-merged-yolo/train/images/zoomed_train_2704.jpg: ignoring corrupt image/label: non-normalized or out of bounds coordinates [     1.0127]\n",
      "\u001b[34m\u001b[1mtrain: \u001b[0mWARNING ⚠️ /Volumes/Cucumber/Projects/datasets/2025-06-11/sku110k-merged-yolo/train/images/zoomed_train_2752.jpg: ignoring corrupt image/label: non-normalized or out of bounds coordinates [     1.0102]\n",
      "\u001b[34m\u001b[1mtrain: \u001b[0mWARNING ⚠️ /Volumes/Cucumber/Projects/datasets/2025-06-11/sku110k-merged-yolo/train/images/zoomed_train_277.jpg: ignoring corrupt image/label: non-normalized or out of bounds coordinates [     1.0056       1.008        1.01      1.0075]\n",
      "\u001b[34m\u001b[1mtrain: \u001b[0mWARNING ⚠️ /Volumes/Cucumber/Projects/datasets/2025-06-11/sku110k-merged-yolo/train/images/zoomed_train_2810.jpg: ignoring corrupt image/label: non-normalized or out of bounds coordinates [     1.0095      1.0024]\n",
      "\u001b[34m\u001b[1mtrain: \u001b[0mWARNING ⚠️ /Volumes/Cucumber/Projects/datasets/2025-06-11/sku110k-merged-yolo/train/images/zoomed_train_2815.jpg: ignoring corrupt image/label: negative label values [  -0.025817   -0.021602   -0.027397   -0.021602   -0.022129   -0.018967   -0.004215]\n",
      "\u001b[34m\u001b[1mtrain: \u001b[0mWARNING ⚠️ /Volumes/Cucumber/Projects/datasets/2025-06-11/sku110k-merged-yolo/train/images/zoomed_train_2821.jpg: ignoring corrupt image/label: negative label values [  -0.011328]\n",
      "\u001b[34m\u001b[1mtrain: \u001b[0mWARNING ⚠️ /Volumes/Cucumber/Projects/datasets/2025-06-11/sku110k-merged-yolo/train/images/zoomed_train_2826.jpg: ignoring corrupt image/label: non-normalized or out of bounds coordinates [     1.0109]\n",
      "\u001b[34m\u001b[1mtrain: \u001b[0mWARNING ⚠️ /Volumes/Cucumber/Projects/datasets/2025-06-11/sku110k-merged-yolo/train/images/zoomed_train_2829.jpg: ignoring corrupt image/label: non-normalized or out of bounds coordinates [     1.0087      1.0216]\n",
      "\u001b[34m\u001b[1mtrain: \u001b[0mWARNING ⚠️ /Volumes/Cucumber/Projects/datasets/2025-06-11/sku110k-merged-yolo/train/images/zoomed_train_2845.jpg: ignoring corrupt image/label: negative label values [  -0.006869]\n",
      "\u001b[34m\u001b[1mtrain: \u001b[0mWARNING ⚠️ /Volumes/Cucumber/Projects/datasets/2025-06-11/sku110k-merged-yolo/train/images/zoomed_train_2862.jpg: ignoring corrupt image/label: negative label values [  -0.000833]\n",
      "\u001b[34m\u001b[1mtrain: \u001b[0mWARNING ⚠️ /Volumes/Cucumber/Projects/datasets/2025-06-11/sku110k-merged-yolo/train/images/zoomed_train_2876.jpg: ignoring corrupt image/label: negative label values [  -0.000435   -0.000435]\n",
      "\u001b[34m\u001b[1mtrain: \u001b[0mWARNING ⚠️ /Volumes/Cucumber/Projects/datasets/2025-06-11/sku110k-merged-yolo/train/images/zoomed_train_2881.jpg: ignoring corrupt image/label: negative label values [  -0.007603   -0.008986]\n",
      "\u001b[34m\u001b[1mtrain: \u001b[0mWARNING ⚠️ /Volumes/Cucumber/Projects/datasets/2025-06-11/sku110k-merged-yolo/train/images/zoomed_train_289.jpg: ignoring corrupt image/label: negative label values [  -0.005901   -0.010326]\n",
      "\u001b[34m\u001b[1mtrain: \u001b[0mWARNING ⚠️ /Volumes/Cucumber/Projects/datasets/2025-06-11/sku110k-merged-yolo/train/images/zoomed_train_2936.jpg: ignoring corrupt image/label: negative label values [  -0.011155   -0.014626   -0.008924   -0.008924   -0.007933   -0.004214   -0.005702   -0.011651]\n",
      "\u001b[34m\u001b[1mtrain: \u001b[0mWARNING ⚠️ /Volumes/Cucumber/Projects/datasets/2025-06-11/sku110k-merged-yolo/train/images/zoomed_train_2939.jpg: ignoring corrupt image/label: non-normalized or out of bounds coordinates [     1.0113      1.0141      1.0085      1.0051      1.0045]\n",
      "\u001b[34m\u001b[1mtrain: \u001b[0mWARNING ⚠️ /Volumes/Cucumber/Projects/datasets/2025-06-11/sku110k-merged-yolo/train/images/zoomed_train_296.jpg: ignoring corrupt image/label: non-normalized or out of bounds coordinates [     1.0049      1.0026      1.0037]\n",
      "\u001b[34m\u001b[1mtrain: \u001b[0mWARNING ⚠️ /Volumes/Cucumber/Projects/datasets/2025-06-11/sku110k-merged-yolo/train/images/zoomed_train_2984.jpg: ignoring corrupt image/label: non-normalized or out of bounds coordinates [     1.0032      1.0048]\n",
      "\u001b[34m\u001b[1mtrain: \u001b[0mWARNING ⚠️ /Volumes/Cucumber/Projects/datasets/2025-06-11/sku110k-merged-yolo/train/images/zoomed_train_2995.jpg: ignoring corrupt image/label: non-normalized or out of bounds coordinates [     1.0015]\n",
      "\u001b[34m\u001b[1mtrain: \u001b[0mWARNING ⚠️ /Volumes/Cucumber/Projects/datasets/2025-06-11/sku110k-merged-yolo/train/images/zoomed_train_2997.jpg: ignoring corrupt image/label: non-normalized or out of bounds coordinates [     1.0143      1.0015      1.0042      1.0207]\n",
      "\u001b[34m\u001b[1mtrain: \u001b[0mWARNING ⚠️ /Volumes/Cucumber/Projects/datasets/2025-06-11/sku110k-merged-yolo/train/images/zoomed_train_300.jpg: ignoring corrupt image/label: negative label values [  -0.027658   -0.027226   -0.020743   -0.016854]\n",
      "\u001b[34m\u001b[1mtrain: \u001b[0mWARNING ⚠️ /Volumes/Cucumber/Projects/datasets/2025-06-11/sku110k-merged-yolo/train/images/zoomed_train_301.jpg: ignoring corrupt image/label: non-normalized or out of bounds coordinates [     1.0004      1.0007      1.0046]\n",
      "\u001b[34m\u001b[1mtrain: \u001b[0mWARNING ⚠️ /Volumes/Cucumber/Projects/datasets/2025-06-11/sku110k-merged-yolo/train/images/zoomed_train_3016.jpg: ignoring corrupt image/label: negative label values [  -0.015232]\n",
      "\u001b[34m\u001b[1mtrain: \u001b[0mWARNING ⚠️ /Volumes/Cucumber/Projects/datasets/2025-06-11/sku110k-merged-yolo/train/images/zoomed_train_3017.jpg: ignoring corrupt image/label: negative label values [  -0.004123   -0.015367   -0.025487]\n",
      "\u001b[34m\u001b[1mtrain: \u001b[0mWARNING ⚠️ /Volumes/Cucumber/Projects/datasets/2025-06-11/sku110k-merged-yolo/train/images/zoomed_train_3027.jpg: ignoring corrupt image/label: non-normalized or out of bounds coordinates [     1.0097      1.0026      1.0014]\n",
      "\u001b[34m\u001b[1mtrain: \u001b[0mWARNING ⚠️ /Volumes/Cucumber/Projects/datasets/2025-06-11/sku110k-merged-yolo/train/images/zoomed_train_306.jpg: ignoring corrupt image/label: non-normalized or out of bounds coordinates [     1.0175      1.0148]\n",
      "\u001b[34m\u001b[1mtrain: \u001b[0mWARNING ⚠️ /Volumes/Cucumber/Projects/datasets/2025-06-11/sku110k-merged-yolo/train/images/zoomed_train_3092.jpg: ignoring corrupt image/label: non-normalized or out of bounds coordinates [      1.001       1.001]\n",
      "\u001b[34m\u001b[1mtrain: \u001b[0mWARNING ⚠️ /Volumes/Cucumber/Projects/datasets/2025-06-11/sku110k-merged-yolo/train/images/zoomed_train_3102.jpg: ignoring corrupt image/label: negative label values [  -0.000433]\n",
      "\u001b[34m\u001b[1mtrain: \u001b[0mWARNING ⚠️ /Volumes/Cucumber/Projects/datasets/2025-06-11/sku110k-merged-yolo/train/images/zoomed_train_3150.jpg: ignoring corrupt image/label: negative label values [  -0.003541]\n",
      "\u001b[34m\u001b[1mtrain: \u001b[0mWARNING ⚠️ /Volumes/Cucumber/Projects/datasets/2025-06-11/sku110k-merged-yolo/train/images/zoomed_train_3158.jpg: ignoring corrupt image/label: non-normalized or out of bounds coordinates [     1.0087      1.0266]\n",
      "\u001b[34m\u001b[1mtrain: \u001b[0mWARNING ⚠️ /Volumes/Cucumber/Projects/datasets/2025-06-11/sku110k-merged-yolo/train/images/zoomed_train_3172.jpg: ignoring corrupt image/label: non-normalized or out of bounds coordinates [     1.0222      1.0008       1.011]\n",
      "\u001b[34m\u001b[1mtrain: \u001b[0mWARNING ⚠️ /Volumes/Cucumber/Projects/datasets/2025-06-11/sku110k-merged-yolo/train/images/zoomed_train_319.jpg: ignoring corrupt image/label: negative label values [  -0.005835   -0.007357]\n",
      "\u001b[34m\u001b[1mtrain: \u001b[0mWARNING ⚠️ /Volumes/Cucumber/Projects/datasets/2025-06-11/sku110k-merged-yolo/train/images/zoomed_train_3207.jpg: ignoring corrupt image/label: non-normalized or out of bounds coordinates [     1.0004]\n",
      "\u001b[34m\u001b[1mtrain: \u001b[0mWARNING ⚠️ /Volumes/Cucumber/Projects/datasets/2025-06-11/sku110k-merged-yolo/train/images/zoomed_train_3229.jpg: ignoring corrupt image/label: non-normalized or out of bounds coordinates [     1.0126]\n",
      "\u001b[34m\u001b[1mtrain: \u001b[0mWARNING ⚠️ /Volumes/Cucumber/Projects/datasets/2025-06-11/sku110k-merged-yolo/train/images/zoomed_train_3246.jpg: ignoring corrupt image/label: negative label values [  -0.000575   -0.000575]\n",
      "\u001b[34m\u001b[1mtrain: \u001b[0mWARNING ⚠️ /Volumes/Cucumber/Projects/datasets/2025-06-11/sku110k-merged-yolo/train/images/zoomed_train_3255.jpg: ignoring corrupt image/label: negative label values [  -0.018257   -0.012367   -0.004122]\n",
      "\u001b[34m\u001b[1mtrain: \u001b[0mWARNING ⚠️ /Volumes/Cucumber/Projects/datasets/2025-06-11/sku110k-merged-yolo/train/images/zoomed_train_3266.jpg: ignoring corrupt image/label: non-normalized or out of bounds coordinates [     1.0015      1.0176      1.0165      1.0183      1.0139      1.0128       1.015      1.0147      1.0136]\n",
      "\u001b[34m\u001b[1mtrain: \u001b[0mWARNING ⚠️ /Volumes/Cucumber/Projects/datasets/2025-06-11/sku110k-merged-yolo/train/images/zoomed_train_3275.jpg: ignoring corrupt image/label: non-normalized or out of bounds coordinates [     1.0266      1.0238      1.0353]\n",
      "\u001b[34m\u001b[1mtrain: \u001b[0mWARNING ⚠️ /Volumes/Cucumber/Projects/datasets/2025-06-11/sku110k-merged-yolo/train/images/zoomed_train_3281.jpg: ignoring corrupt image/label: negative label values [  -0.011148]\n",
      "\u001b[34m\u001b[1mtrain: \u001b[0mWARNING ⚠️ /Volumes/Cucumber/Projects/datasets/2025-06-11/sku110k-merged-yolo/train/images/zoomed_train_3298.jpg: ignoring corrupt image/label: negative label values [  -0.022718   -0.022718   -0.024095   -0.027537    -0.02616]\n",
      "\u001b[34m\u001b[1mtrain: \u001b[0mWARNING ⚠️ /Volumes/Cucumber/Projects/datasets/2025-06-11/sku110k-merged-yolo/train/images/zoomed_train_3300.jpg: ignoring corrupt image/label: non-normalized or out of bounds coordinates [     1.0076]\n",
      "\u001b[34m\u001b[1mtrain: \u001b[0mWARNING ⚠️ /Volumes/Cucumber/Projects/datasets/2025-06-11/sku110k-merged-yolo/train/images/zoomed_train_3305.jpg: ignoring corrupt image/label: negative label values [  -0.002066]\n",
      "\u001b[34m\u001b[1mtrain: \u001b[0mWARNING ⚠️ /Volumes/Cucumber/Projects/datasets/2025-06-11/sku110k-merged-yolo/train/images/zoomed_train_3310.jpg: ignoring corrupt image/label: negative label values [  -0.024356]\n",
      "\u001b[34m\u001b[1mtrain: \u001b[0mWARNING ⚠️ /Volumes/Cucumber/Projects/datasets/2025-06-11/sku110k-merged-yolo/train/images/zoomed_train_3313.jpg: ignoring corrupt image/label: non-normalized or out of bounds coordinates [     1.0063       1.004]\n",
      "\u001b[34m\u001b[1mtrain: \u001b[0mWARNING ⚠️ /Volumes/Cucumber/Projects/datasets/2025-06-11/sku110k-merged-yolo/train/images/zoomed_train_3318.jpg: ignoring corrupt image/label: non-normalized or out of bounds coordinates [     1.0038]\n",
      "\u001b[34m\u001b[1mtrain: \u001b[0mWARNING ⚠️ /Volumes/Cucumber/Projects/datasets/2025-06-11/sku110k-merged-yolo/train/images/zoomed_train_3340.jpg: ignoring corrupt image/label: non-normalized or out of bounds coordinates [       1.01      1.0109      1.0137]\n",
      "\u001b[34m\u001b[1mtrain: \u001b[0mWARNING ⚠️ /Volumes/Cucumber/Projects/datasets/2025-06-11/sku110k-merged-yolo/train/images/zoomed_train_3404.jpg: ignoring corrupt image/label: negative label values [    -0.0158]\n",
      "\u001b[34m\u001b[1mtrain: \u001b[0mWARNING ⚠️ /Volumes/Cucumber/Projects/datasets/2025-06-11/sku110k-merged-yolo/train/images/zoomed_train_341.jpg: ignoring corrupt image/label: non-normalized or out of bounds coordinates [     1.0044]\n",
      "\u001b[34m\u001b[1mtrain: \u001b[0mWARNING ⚠️ /Volumes/Cucumber/Projects/datasets/2025-06-11/sku110k-merged-yolo/train/images/zoomed_train_3411.jpg: ignoring corrupt image/label: negative label values [  -0.037702   -0.035458   -0.044434   -0.045332   -0.039497   -0.045332   -0.034111   -0.000599]\n",
      "\u001b[34m\u001b[1mtrain: \u001b[0mWARNING ⚠️ /Volumes/Cucumber/Projects/datasets/2025-06-11/sku110k-merged-yolo/train/images/zoomed_train_3417.jpg: ignoring corrupt image/label: non-normalized or out of bounds coordinates [     1.0074      1.0123      1.0218        1.02]\n",
      "\u001b[34m\u001b[1mtrain: \u001b[0mWARNING ⚠️ /Volumes/Cucumber/Projects/datasets/2025-06-11/sku110k-merged-yolo/train/images/zoomed_train_3418.jpg: ignoring corrupt image/label: non-normalized or out of bounds coordinates [      1.002      1.0118      1.0057]\n",
      "\u001b[34m\u001b[1mtrain: \u001b[0mWARNING ⚠️ /Volumes/Cucumber/Projects/datasets/2025-06-11/sku110k-merged-yolo/train/images/zoomed_train_3438.jpg: ignoring corrupt image/label: negative label values [  -0.005551]\n",
      "\u001b[34m\u001b[1mtrain: \u001b[0mWARNING ⚠️ /Volumes/Cucumber/Projects/datasets/2025-06-11/sku110k-merged-yolo/train/images/zoomed_train_3440.jpg: ignoring corrupt image/label: negative label values [  -0.021585]\n",
      "\u001b[34m\u001b[1mtrain: \u001b[0mWARNING ⚠️ /Volumes/Cucumber/Projects/datasets/2025-06-11/sku110k-merged-yolo/train/images/zoomed_train_3473.jpg: ignoring corrupt image/label: non-normalized or out of bounds coordinates [      1.006      1.0047]\n",
      "\u001b[34m\u001b[1mtrain: \u001b[0mWARNING ⚠️ /Volumes/Cucumber/Projects/datasets/2025-06-11/sku110k-merged-yolo/train/images/zoomed_train_3491.jpg: ignoring corrupt image/label: non-normalized or out of bounds coordinates [     1.0127      1.0056]\n",
      "\u001b[34m\u001b[1mtrain: \u001b[0mWARNING ⚠️ /Volumes/Cucumber/Projects/datasets/2025-06-11/sku110k-merged-yolo/train/images/zoomed_train_3518.jpg: ignoring corrupt image/label: negative label values [  -0.009503    -0.00268    -0.01462]\n",
      "\u001b[34m\u001b[1mtrain: \u001b[0mWARNING ⚠️ /Volumes/Cucumber/Projects/datasets/2025-06-11/sku110k-merged-yolo/train/images/zoomed_train_3539.jpg: ignoring corrupt image/label: non-normalized or out of bounds coordinates [     1.0073      1.0044]\n",
      "\u001b[34m\u001b[1mtrain: \u001b[0mWARNING ⚠️ /Volumes/Cucumber/Projects/datasets/2025-06-11/sku110k-merged-yolo/train/images/zoomed_train_3543.jpg: ignoring corrupt image/label: non-normalized or out of bounds coordinates [     1.0189]\n",
      "\u001b[34m\u001b[1mtrain: \u001b[0mWARNING ⚠️ /Volumes/Cucumber/Projects/datasets/2025-06-11/sku110k-merged-yolo/train/images/zoomed_train_3561.jpg: ignoring corrupt image/label: negative label values [  -0.008229   -0.005486   -0.005486   -0.005486]\n",
      "\u001b[34m\u001b[1mtrain: \u001b[0mWARNING ⚠️ /Volumes/Cucumber/Projects/datasets/2025-06-11/sku110k-merged-yolo/train/images/zoomed_train_3569.jpg: ignoring corrupt image/label: negative label values [   -0.00476   -0.011133]\n",
      "\u001b[34m\u001b[1mtrain: \u001b[0mWARNING ⚠️ /Volumes/Cucumber/Projects/datasets/2025-06-11/sku110k-merged-yolo/train/images/zoomed_train_357.jpg: ignoring corrupt image/label: negative label values [  -0.038203]\n",
      "\u001b[34m\u001b[1mtrain: \u001b[0mWARNING ⚠️ /Volumes/Cucumber/Projects/datasets/2025-06-11/sku110k-merged-yolo/train/images/zoomed_train_3579.jpg: ignoring corrupt image/label: non-normalized or out of bounds coordinates [     1.0082      1.0119]\n",
      "\u001b[34m\u001b[1mtrain: \u001b[0mWARNING ⚠️ /Volumes/Cucumber/Projects/datasets/2025-06-11/sku110k-merged-yolo/train/images/zoomed_train_3591.jpg: ignoring corrupt image/label: non-normalized or out of bounds coordinates [     1.0026]\n",
      "\u001b[34m\u001b[1mtrain: \u001b[0mWARNING ⚠️ /Volumes/Cucumber/Projects/datasets/2025-06-11/sku110k-merged-yolo/train/images/zoomed_train_3599.jpg: ignoring corrupt image/label: non-normalized or out of bounds coordinates [     1.0049]\n",
      "\u001b[34m\u001b[1mtrain: \u001b[0mWARNING ⚠️ /Volumes/Cucumber/Projects/datasets/2025-06-11/sku110k-merged-yolo/train/images/zoomed_train_360.jpg: ignoring corrupt image/label: non-normalized or out of bounds coordinates [     1.0045      1.0025]\n",
      "\u001b[34m\u001b[1mtrain: \u001b[0mWARNING ⚠️ /Volumes/Cucumber/Projects/datasets/2025-06-11/sku110k-merged-yolo/train/images/zoomed_train_3611.jpg: ignoring corrupt image/label: negative label values [  -0.010305   -0.002672   -0.008397   -0.006489]\n",
      "\u001b[34m\u001b[1mtrain: \u001b[0mWARNING ⚠️ /Volumes/Cucumber/Projects/datasets/2025-06-11/sku110k-merged-yolo/train/images/zoomed_train_3626.jpg: ignoring corrupt image/label: negative label values [  -0.008351   -0.002088   -0.007307   -0.005219   -0.006263   -0.008351   -0.001044]\n",
      "\u001b[34m\u001b[1mtrain: \u001b[0mWARNING ⚠️ /Volumes/Cucumber/Projects/datasets/2025-06-11/sku110k-merged-yolo/train/images/zoomed_train_3643.jpg: ignoring corrupt image/label: non-normalized or out of bounds coordinates [     1.0082]\n",
      "\u001b[34m\u001b[1mtrain: \u001b[0mWARNING ⚠️ /Volumes/Cucumber/Projects/datasets/2025-06-11/sku110k-merged-yolo/train/images/zoomed_train_3645.jpg: ignoring corrupt image/label: negative label values [  -0.009973]\n",
      "\u001b[34m\u001b[1mtrain: \u001b[0mWARNING ⚠️ /Volumes/Cucumber/Projects/datasets/2025-06-11/sku110k-merged-yolo/train/images/zoomed_train_3650.jpg: ignoring corrupt image/label: non-normalized or out of bounds coordinates [     1.0282      1.0172]\n",
      "\u001b[34m\u001b[1mtrain: \u001b[0mWARNING ⚠️ /Volumes/Cucumber/Projects/datasets/2025-06-11/sku110k-merged-yolo/train/images/zoomed_train_3659.jpg: ignoring corrupt image/label: non-normalized or out of bounds coordinates [     1.0008      1.0047]\n",
      "\u001b[34m\u001b[1mtrain: \u001b[0mWARNING ⚠️ /Volumes/Cucumber/Projects/datasets/2025-06-11/sku110k-merged-yolo/train/images/zoomed_train_3661.jpg: ignoring corrupt image/label: negative label values [  -0.003194   -0.005019   -0.015971]\n",
      "\u001b[34m\u001b[1mtrain: \u001b[0mWARNING ⚠️ /Volumes/Cucumber/Projects/datasets/2025-06-11/sku110k-merged-yolo/train/images/zoomed_train_3668.jpg: ignoring corrupt image/label: negative label values [  -0.034192   -0.038652]\n",
      "\u001b[34m\u001b[1mtrain: \u001b[0mWARNING ⚠️ /Volumes/Cucumber/Projects/datasets/2025-06-11/sku110k-merged-yolo/train/images/zoomed_train_3675.jpg: ignoring corrupt image/label: non-normalized or out of bounds coordinates [     1.0134]\n",
      "\u001b[34m\u001b[1mtrain: \u001b[0mWARNING ⚠️ /Volumes/Cucumber/Projects/datasets/2025-06-11/sku110k-merged-yolo/train/images/zoomed_train_3677.jpg: ignoring corrupt image/label: negative label values [  -0.001366   -0.001708]\n",
      "\u001b[34m\u001b[1mtrain: \u001b[0mWARNING ⚠️ /Volumes/Cucumber/Projects/datasets/2025-06-11/sku110k-merged-yolo/train/images/zoomed_train_3689.jpg: ignoring corrupt image/label: non-normalized or out of bounds coordinates [     1.0075      1.0023]\n",
      "\u001b[34m\u001b[1mtrain: \u001b[0mWARNING ⚠️ /Volumes/Cucumber/Projects/datasets/2025-06-11/sku110k-merged-yolo/train/images/zoomed_train_3697.jpg: ignoring corrupt image/label: non-normalized or out of bounds coordinates [     1.0022]\n",
      "\u001b[34m\u001b[1mtrain: \u001b[0mWARNING ⚠️ /Volumes/Cucumber/Projects/datasets/2025-06-11/sku110k-merged-yolo/train/images/zoomed_train_3715.jpg: ignoring corrupt image/label: negative label values [  -0.038562]\n",
      "\u001b[34m\u001b[1mtrain: \u001b[0mWARNING ⚠️ /Volumes/Cucumber/Projects/datasets/2025-06-11/sku110k-merged-yolo/train/images/zoomed_train_3773.jpg: ignoring corrupt image/label: non-normalized or out of bounds coordinates [     1.0011      1.0116]\n",
      "\u001b[34m\u001b[1mtrain: \u001b[0mWARNING ⚠️ /Volumes/Cucumber/Projects/datasets/2025-06-11/sku110k-merged-yolo/train/images/zoomed_train_3786.jpg: ignoring corrupt image/label: non-normalized or out of bounds coordinates [     1.0031      1.0007]\n",
      "\u001b[34m\u001b[1mtrain: \u001b[0mWARNING ⚠️ /Volumes/Cucumber/Projects/datasets/2025-06-11/sku110k-merged-yolo/train/images/zoomed_train_3795.jpg: ignoring corrupt image/label: non-normalized or out of bounds coordinates [     1.0069      1.0121      1.0262      1.0033]\n",
      "\u001b[34m\u001b[1mtrain: \u001b[0mWARNING ⚠️ /Volumes/Cucumber/Projects/datasets/2025-06-11/sku110k-merged-yolo/train/images/zoomed_train_3826.jpg: ignoring corrupt image/label: negative label values [   -0.00165]\n",
      "\u001b[34m\u001b[1mtrain: \u001b[0mWARNING ⚠️ /Volumes/Cucumber/Projects/datasets/2025-06-11/sku110k-merged-yolo/train/images/zoomed_train_3847.jpg: ignoring corrupt image/label: negative label values [  -0.008101]\n",
      "\u001b[34m\u001b[1mtrain: \u001b[0mWARNING ⚠️ /Volumes/Cucumber/Projects/datasets/2025-06-11/sku110k-merged-yolo/train/images/zoomed_train_3891.jpg: ignoring corrupt image/label: negative label values [  -0.003891   -0.006658   -0.006669   -0.009779   -0.000416]\n",
      "\u001b[34m\u001b[1mtrain: \u001b[0mWARNING ⚠️ /Volumes/Cucumber/Projects/datasets/2025-06-11/sku110k-merged-yolo/train/images/zoomed_train_3899.jpg: ignoring corrupt image/label: negative label values [  -0.039164]\n",
      "\u001b[34m\u001b[1mtrain: \u001b[0mWARNING ⚠️ /Volumes/Cucumber/Projects/datasets/2025-06-11/sku110k-merged-yolo/train/images/zoomed_train_3922.jpg: ignoring corrupt image/label: non-normalized or out of bounds coordinates [     1.0018]\n",
      "\u001b[34m\u001b[1mtrain: \u001b[0mWARNING ⚠️ /Volumes/Cucumber/Projects/datasets/2025-06-11/sku110k-merged-yolo/train/images/zoomed_train_3923.jpg: ignoring corrupt image/label: negative label values [  -0.024753]\n",
      "\u001b[34m\u001b[1mtrain: \u001b[0mWARNING ⚠️ /Volumes/Cucumber/Projects/datasets/2025-06-11/sku110k-merged-yolo/train/images/zoomed_train_3926.jpg: ignoring corrupt image/label: negative label values [  -0.004224]\n",
      "\u001b[34m\u001b[1mtrain: \u001b[0mWARNING ⚠️ /Volumes/Cucumber/Projects/datasets/2025-06-11/sku110k-merged-yolo/train/images/zoomed_train_3945.jpg: ignoring corrupt image/label: non-normalized or out of bounds coordinates [     1.0034]\n",
      "\u001b[34m\u001b[1mtrain: \u001b[0mWARNING ⚠️ /Volumes/Cucumber/Projects/datasets/2025-06-11/sku110k-merged-yolo/train/images/zoomed_train_3956.jpg: ignoring corrupt image/label: negative label values [  -0.002754   -0.007081    -0.00118   -0.026357]\n",
      "\u001b[34m\u001b[1mtrain: \u001b[0mWARNING ⚠️ /Volumes/Cucumber/Projects/datasets/2025-06-11/sku110k-merged-yolo/train/images/zoomed_train_396.jpg: ignoring corrupt image/label: negative label values [  -0.004858]\n",
      "\u001b[34m\u001b[1mtrain: \u001b[0mWARNING ⚠️ /Volumes/Cucumber/Projects/datasets/2025-06-11/sku110k-merged-yolo/train/images/zoomed_train_3963.jpg: ignoring corrupt image/label: non-normalized or out of bounds coordinates [     1.0088      1.0001      1.0037]\n",
      "\u001b[34m\u001b[1mtrain: \u001b[0mWARNING ⚠️ /Volumes/Cucumber/Projects/datasets/2025-06-11/sku110k-merged-yolo/train/images/zoomed_train_3974.jpg: ignoring corrupt image/label: non-normalized or out of bounds coordinates [     1.0031      1.0073      1.0197]\n",
      "\u001b[34m\u001b[1mtrain: \u001b[0mWARNING ⚠️ /Volumes/Cucumber/Projects/datasets/2025-06-11/sku110k-merged-yolo/train/images/zoomed_train_3990.jpg: ignoring corrupt image/label: non-normalized or out of bounds coordinates [     1.0086      1.0089      1.0098      1.0104       1.003      1.0012      1.0383      1.0329      1.0362      1.0261]\n",
      "\u001b[34m\u001b[1mtrain: \u001b[0mWARNING ⚠️ /Volumes/Cucumber/Projects/datasets/2025-06-11/sku110k-merged-yolo/train/images/zoomed_train_3991.jpg: ignoring corrupt image/label: negative label values [  -0.003589    -0.00911]\n",
      "\u001b[34m\u001b[1mtrain: \u001b[0mWARNING ⚠️ /Volumes/Cucumber/Projects/datasets/2025-06-11/sku110k-merged-yolo/train/images/zoomed_train_4001.jpg: ignoring corrupt image/label: negative label values [  -0.000245   -0.003675   -0.002205   -0.001715   -0.017393   -0.010289]\n",
      "\u001b[34m\u001b[1mtrain: \u001b[0mWARNING ⚠️ /Volumes/Cucumber/Projects/datasets/2025-06-11/sku110k-merged-yolo/train/images/zoomed_train_4004.jpg: ignoring corrupt image/label: non-normalized or out of bounds coordinates [     1.0047      1.0124      1.0017      1.0025      1.0047      1.0099]\n",
      "\u001b[34m\u001b[1mtrain: \u001b[0mWARNING ⚠️ /Volumes/Cucumber/Projects/datasets/2025-06-11/sku110k-merged-yolo/train/images/zoomed_train_403.jpg: ignoring corrupt image/label: non-normalized or out of bounds coordinates [     1.0072]\n",
      "\u001b[34m\u001b[1mtrain: \u001b[0mWARNING ⚠️ /Volumes/Cucumber/Projects/datasets/2025-06-11/sku110k-merged-yolo/train/images/zoomed_train_4046.jpg: ignoring corrupt image/label: non-normalized or out of bounds coordinates [     1.0019]\n",
      "\u001b[34m\u001b[1mtrain: \u001b[0mWARNING ⚠️ /Volumes/Cucumber/Projects/datasets/2025-06-11/sku110k-merged-yolo/train/images/zoomed_train_4106.jpg: ignoring corrupt image/label: non-normalized or out of bounds coordinates [     1.0063]\n",
      "\u001b[34m\u001b[1mtrain: \u001b[0mWARNING ⚠️ /Volumes/Cucumber/Projects/datasets/2025-06-11/sku110k-merged-yolo/train/images/zoomed_train_4111.jpg: ignoring corrupt image/label: non-normalized or out of bounds coordinates [     1.0076      1.0067]\n",
      "\u001b[34m\u001b[1mtrain: \u001b[0mWARNING ⚠️ /Volumes/Cucumber/Projects/datasets/2025-06-11/sku110k-merged-yolo/train/images/zoomed_train_4138.jpg: ignoring corrupt image/label: negative label values [  -0.001845]\n",
      "\u001b[34m\u001b[1mtrain: \u001b[0mWARNING ⚠️ /Volumes/Cucumber/Projects/datasets/2025-06-11/sku110k-merged-yolo/train/images/zoomed_train_4140.jpg: ignoring corrupt image/label: non-normalized or out of bounds coordinates [     1.0083]\n",
      "\u001b[34m\u001b[1mtrain: \u001b[0mWARNING ⚠️ /Volumes/Cucumber/Projects/datasets/2025-06-11/sku110k-merged-yolo/train/images/zoomed_train_4143.jpg: ignoring corrupt image/label: non-normalized or out of bounds coordinates [     1.0064]\n",
      "\u001b[34m\u001b[1mtrain: \u001b[0mWARNING ⚠️ /Volumes/Cucumber/Projects/datasets/2025-06-11/sku110k-merged-yolo/train/images/zoomed_train_4151.jpg: ignoring corrupt image/label: non-normalized or out of bounds coordinates [     1.0166      1.0275      1.0142      1.0142      1.0247       1.019]\n",
      "\u001b[34m\u001b[1mtrain: \u001b[0mWARNING ⚠️ /Volumes/Cucumber/Projects/datasets/2025-06-11/sku110k-merged-yolo/train/images/zoomed_train_4153.jpg: ignoring corrupt image/label: non-normalized or out of bounds coordinates [      1.017      1.0001       1.008]\n",
      "\u001b[34m\u001b[1mtrain: \u001b[0mWARNING ⚠️ /Volumes/Cucumber/Projects/datasets/2025-06-11/sku110k-merged-yolo/train/images/zoomed_train_4230.jpg: ignoring corrupt image/label: negative label values [  -0.043666]\n",
      "\u001b[34m\u001b[1mtrain: \u001b[0mWARNING ⚠️ /Volumes/Cucumber/Projects/datasets/2025-06-11/sku110k-merged-yolo/train/images/zoomed_train_4253.jpg: ignoring corrupt image/label: negative label values [  -0.005271]\n",
      "\u001b[34m\u001b[1mtrain: \u001b[0mWARNING ⚠️ /Volumes/Cucumber/Projects/datasets/2025-06-11/sku110k-merged-yolo/train/images/zoomed_train_4261.jpg: ignoring corrupt image/label: non-normalized or out of bounds coordinates [     1.0347      1.0281      1.0281      1.0264      1.0006      1.0325       1.033      1.0033]\n",
      "\u001b[34m\u001b[1mtrain: \u001b[0mWARNING ⚠️ /Volumes/Cucumber/Projects/datasets/2025-06-11/sku110k-merged-yolo/train/images/zoomed_train_4288.jpg: ignoring corrupt image/label: non-normalized or out of bounds coordinates [     1.0165      1.0179]\n",
      "\u001b[34m\u001b[1mtrain: \u001b[0mWARNING ⚠️ /Volumes/Cucumber/Projects/datasets/2025-06-11/sku110k-merged-yolo/train/images/zoomed_train_4301.jpg: ignoring corrupt image/label: non-normalized or out of bounds coordinates [     1.0073      1.0135]\n",
      "\u001b[34m\u001b[1mtrain: \u001b[0mWARNING ⚠️ /Volumes/Cucumber/Projects/datasets/2025-06-11/sku110k-merged-yolo/train/images/zoomed_train_4311.jpg: ignoring corrupt image/label: negative label values [  -0.006109   -0.002922]\n",
      "\u001b[34m\u001b[1mtrain: \u001b[0mWARNING ⚠️ /Volumes/Cucumber/Projects/datasets/2025-06-11/sku110k-merged-yolo/train/images/zoomed_train_4332.jpg: ignoring corrupt image/label: negative label values [   -0.01285   -0.009346]\n",
      "\u001b[34m\u001b[1mtrain: \u001b[0mWARNING ⚠️ /Volumes/Cucumber/Projects/datasets/2025-06-11/sku110k-merged-yolo/train/images/zoomed_train_4347.jpg: ignoring corrupt image/label: negative label values [  -0.017491   -0.027827   -0.020274   -0.023852   -0.015504   -0.018286   -0.005132]\n",
      "\u001b[34m\u001b[1mtrain: \u001b[0mWARNING ⚠️ /Volumes/Cucumber/Projects/datasets/2025-06-11/sku110k-merged-yolo/train/images/zoomed_train_4381.jpg: ignoring corrupt image/label: non-normalized or out of bounds coordinates [     1.0552      1.0449]\n",
      "\u001b[34m\u001b[1mtrain: \u001b[0mWARNING ⚠️ /Volumes/Cucumber/Projects/datasets/2025-06-11/sku110k-merged-yolo/train/images/zoomed_train_4391.jpg: ignoring corrupt image/label: non-normalized or out of bounds coordinates [     1.0114      1.0103      1.0066]\n",
      "\u001b[34m\u001b[1mtrain: \u001b[0mWARNING ⚠️ /Volumes/Cucumber/Projects/datasets/2025-06-11/sku110k-merged-yolo/train/images/zoomed_train_44.jpg: ignoring corrupt image/label: non-normalized or out of bounds coordinates [      1.011      1.0093]\n",
      "\u001b[34m\u001b[1mtrain: \u001b[0mWARNING ⚠️ /Volumes/Cucumber/Projects/datasets/2025-06-11/sku110k-merged-yolo/train/images/zoomed_train_4403.jpg: ignoring corrupt image/label: non-normalized or out of bounds coordinates [      1.006]\n",
      "\u001b[34m\u001b[1mtrain: \u001b[0mWARNING ⚠️ /Volumes/Cucumber/Projects/datasets/2025-06-11/sku110k-merged-yolo/train/images/zoomed_train_4432.jpg: ignoring corrupt image/label: non-normalized or out of bounds coordinates [     1.0181       1.015      1.0173]\n",
      "\u001b[34m\u001b[1mtrain: \u001b[0mWARNING ⚠️ /Volumes/Cucumber/Projects/datasets/2025-06-11/sku110k-merged-yolo/train/images/zoomed_train_4439.jpg: ignoring corrupt image/label: negative label values [  -0.019746   -0.023831   -0.015887    -0.01044   -0.004993   -0.000454   -0.020427   -0.016795]\n",
      "\u001b[34m\u001b[1mtrain: \u001b[0mWARNING ⚠️ /Volumes/Cucumber/Projects/datasets/2025-06-11/sku110k-merged-yolo/train/images/zoomed_train_4443.jpg: ignoring corrupt image/label: negative label values [  -0.026238]\n",
      "\u001b[34m\u001b[1mtrain: \u001b[0mWARNING ⚠️ /Volumes/Cucumber/Projects/datasets/2025-06-11/sku110k-merged-yolo/train/images/zoomed_train_4473.jpg: ignoring corrupt image/label: non-normalized or out of bounds coordinates [     1.0061]\n",
      "\u001b[34m\u001b[1mtrain: \u001b[0mWARNING ⚠️ /Volumes/Cucumber/Projects/datasets/2025-06-11/sku110k-merged-yolo/train/images/zoomed_train_4478.jpg: ignoring corrupt image/label: non-normalized or out of bounds coordinates [     1.0087]\n",
      "\u001b[34m\u001b[1mtrain: \u001b[0mWARNING ⚠️ /Volumes/Cucumber/Projects/datasets/2025-06-11/sku110k-merged-yolo/train/images/zoomed_train_4502.jpg: ignoring corrupt image/label: non-normalized or out of bounds coordinates [     1.0027]\n",
      "\u001b[34m\u001b[1mtrain: \u001b[0mWARNING ⚠️ /Volumes/Cucumber/Projects/datasets/2025-06-11/sku110k-merged-yolo/train/images/zoomed_train_4515.jpg: ignoring corrupt image/label: negative label values [  -0.014774   -0.013389   -0.013389   -0.018467   -0.020776]\n",
      "\u001b[34m\u001b[1mtrain: \u001b[0mWARNING ⚠️ /Volumes/Cucumber/Projects/datasets/2025-06-11/sku110k-merged-yolo/train/images/zoomed_train_452.jpg: ignoring corrupt image/label: negative label values [  -0.013362   -0.009961]\n",
      "\u001b[34m\u001b[1mtrain: \u001b[0mWARNING ⚠️ /Volumes/Cucumber/Projects/datasets/2025-06-11/sku110k-merged-yolo/train/images/zoomed_train_4554.jpg: ignoring corrupt image/label: negative label values [  -0.016969    -0.01618   -0.014996    -0.00513   -0.013023   -0.017758   -0.015785   -0.020126   -0.000592]\n",
      "\u001b[34m\u001b[1mtrain: \u001b[0mWARNING ⚠️ /Volumes/Cucumber/Projects/datasets/2025-06-11/sku110k-merged-yolo/train/images/zoomed_train_4590.jpg: ignoring corrupt image/label: non-normalized or out of bounds coordinates [     1.0007       1.024      1.0019      1.0009]\n",
      "\u001b[34m\u001b[1mtrain: \u001b[0mWARNING ⚠️ /Volumes/Cucumber/Projects/datasets/2025-06-11/sku110k-merged-yolo/train/images/zoomed_train_4596.jpg: ignoring corrupt image/label: negative label values [  -0.016098   -0.020506   -0.018015   -0.021464   -0.016865    -0.01744    -0.01514   -0.013798    -0.01169]\n",
      "\u001b[34m\u001b[1mtrain: \u001b[0mWARNING ⚠️ /Volumes/Cucumber/Projects/datasets/2025-06-11/sku110k-merged-yolo/train/images/zoomed_train_46.jpg: ignoring corrupt image/label: non-normalized or out of bounds coordinates [     1.0004]\n",
      "\u001b[34m\u001b[1mtrain: \u001b[0mWARNING ⚠️ /Volumes/Cucumber/Projects/datasets/2025-06-11/sku110k-merged-yolo/train/images/zoomed_train_4601.jpg: ignoring corrupt image/label: negative label values [  -0.012434   -0.015448   -0.024491   -0.009797    -0.00942   -0.022607]\n",
      "\u001b[34m\u001b[1mtrain: \u001b[0mWARNING ⚠️ /Volumes/Cucumber/Projects/datasets/2025-06-11/sku110k-merged-yolo/train/images/zoomed_train_4604.jpg: ignoring corrupt image/label: non-normalized or out of bounds coordinates [     1.0118      1.0176]\n",
      "\u001b[34m\u001b[1mtrain: \u001b[0mWARNING ⚠️ /Volumes/Cucumber/Projects/datasets/2025-06-11/sku110k-merged-yolo/train/images/zoomed_train_4605.jpg: ignoring corrupt image/label: negative label values [  -0.006811   -0.002804   -0.016026   -0.013221]\n",
      "\u001b[34m\u001b[1mtrain: \u001b[0mWARNING ⚠️ /Volumes/Cucumber/Projects/datasets/2025-06-11/sku110k-merged-yolo/train/images/zoomed_train_4627.jpg: ignoring corrupt image/label: negative label values [  -0.007765   -0.031877]\n",
      "\u001b[34m\u001b[1mtrain: \u001b[0mWARNING ⚠️ /Volumes/Cucumber/Projects/datasets/2025-06-11/sku110k-merged-yolo/train/images/zoomed_train_4676.jpg: ignoring corrupt image/label: negative label values [    -0.0092]\n",
      "\u001b[34m\u001b[1mtrain: \u001b[0mWARNING ⚠️ /Volumes/Cucumber/Projects/datasets/2025-06-11/sku110k-merged-yolo/train/images/zoomed_train_4681.jpg: ignoring corrupt image/label: non-normalized or out of bounds coordinates [     1.0113]\n",
      "\u001b[34m\u001b[1mtrain: \u001b[0mWARNING ⚠️ /Volumes/Cucumber/Projects/datasets/2025-06-11/sku110k-merged-yolo/train/images/zoomed_train_4701.jpg: ignoring corrupt image/label: non-normalized or out of bounds coordinates [     1.0077]\n",
      "\u001b[34m\u001b[1mtrain: \u001b[0mWARNING ⚠️ /Volumes/Cucumber/Projects/datasets/2025-06-11/sku110k-merged-yolo/train/images/zoomed_train_4718.jpg: ignoring corrupt image/label: non-normalized or out of bounds coordinates [     1.0123       1.012      1.0138]\n",
      "\u001b[34m\u001b[1mtrain: \u001b[0mWARNING ⚠️ /Volumes/Cucumber/Projects/datasets/2025-06-11/sku110k-merged-yolo/train/images/zoomed_train_4771.jpg: ignoring corrupt image/label: non-normalized or out of bounds coordinates [     1.0006]\n",
      "\u001b[34m\u001b[1mtrain: \u001b[0mWARNING ⚠️ /Volumes/Cucumber/Projects/datasets/2025-06-11/sku110k-merged-yolo/train/images/zoomed_train_4777.jpg: ignoring corrupt image/label: negative label values [  -0.018443   -0.018676   -0.018443   -0.015875   -0.015642    -0.01354   -0.011206]\n",
      "\u001b[34m\u001b[1mtrain: \u001b[0mWARNING ⚠️ /Volumes/Cucumber/Projects/datasets/2025-06-11/sku110k-merged-yolo/train/images/zoomed_train_4799.jpg: ignoring corrupt image/label: non-normalized or out of bounds coordinates [     1.0009]\n",
      "\u001b[34m\u001b[1mtrain: \u001b[0mWARNING ⚠️ /Volumes/Cucumber/Projects/datasets/2025-06-11/sku110k-merged-yolo/train/images/zoomed_train_4851.jpg: ignoring corrupt image/label: negative label values [    -0.0014   -0.008749]\n",
      "\u001b[34m\u001b[1mtrain: \u001b[0mWARNING ⚠️ /Volumes/Cucumber/Projects/datasets/2025-06-11/sku110k-merged-yolo/train/images/zoomed_train_4857.jpg: ignoring corrupt image/label: negative label values [  -0.015655   -0.011337   -0.009177]\n",
      "\u001b[34m\u001b[1mtrain: \u001b[0mWARNING ⚠️ /Volumes/Cucumber/Projects/datasets/2025-06-11/sku110k-merged-yolo/train/images/zoomed_train_4859.jpg: ignoring corrupt image/label: negative label values [  -0.007846   -0.018407]\n",
      "\u001b[34m\u001b[1mtrain: \u001b[0mWARNING ⚠️ /Volumes/Cucumber/Projects/datasets/2025-06-11/sku110k-merged-yolo/train/images/zoomed_train_4868.jpg: ignoring corrupt image/label: negative label values [  -0.002627]\n",
      "\u001b[34m\u001b[1mtrain: \u001b[0mWARNING ⚠️ /Volumes/Cucumber/Projects/datasets/2025-06-11/sku110k-merged-yolo/train/images/zoomed_train_4875.jpg: ignoring corrupt image/label: negative label values [  -0.013328   -0.006084   -0.014559   -0.020643   -0.003477]\n",
      "\u001b[34m\u001b[1mtrain: \u001b[0mWARNING ⚠️ /Volumes/Cucumber/Projects/datasets/2025-06-11/sku110k-merged-yolo/train/images/zoomed_train_4897.jpg: ignoring corrupt image/label: non-normalized or out of bounds coordinates [     1.0021]\n",
      "\u001b[34m\u001b[1mtrain: \u001b[0mWARNING ⚠️ /Volumes/Cucumber/Projects/datasets/2025-06-11/sku110k-merged-yolo/train/images/zoomed_train_4910.jpg: ignoring corrupt image/label: non-normalized or out of bounds coordinates [     1.0073       1.015      1.0018]\n",
      "\u001b[34m\u001b[1mtrain: \u001b[0mWARNING ⚠️ /Volumes/Cucumber/Projects/datasets/2025-06-11/sku110k-merged-yolo/train/images/zoomed_train_4916.jpg: ignoring corrupt image/label: negative label values [  -0.001764]\n",
      "\u001b[34m\u001b[1mtrain: \u001b[0mWARNING ⚠️ /Volumes/Cucumber/Projects/datasets/2025-06-11/sku110k-merged-yolo/train/images/zoomed_train_4992.jpg: ignoring corrupt image/label: non-normalized or out of bounds coordinates [     1.0056      1.0171]\n",
      "\u001b[34m\u001b[1mtrain: \u001b[0mWARNING ⚠️ /Volumes/Cucumber/Projects/datasets/2025-06-11/sku110k-merged-yolo/train/images/zoomed_train_4999.jpg: ignoring corrupt image/label: negative label values [  -0.005374   -0.014332   -0.006718   -0.000896]\n",
      "\u001b[34m\u001b[1mtrain: \u001b[0mWARNING ⚠️ /Volumes/Cucumber/Projects/datasets/2025-06-11/sku110k-merged-yolo/train/images/zoomed_train_5039.jpg: ignoring corrupt image/label: non-normalized or out of bounds coordinates [     1.0015      1.0167]\n",
      "\u001b[34m\u001b[1mtrain: \u001b[0mWARNING ⚠️ /Volumes/Cucumber/Projects/datasets/2025-06-11/sku110k-merged-yolo/train/images/zoomed_train_5048.jpg: ignoring corrupt image/label: non-normalized or out of bounds coordinates [     1.0199       1.009]\n",
      "\u001b[34m\u001b[1mtrain: \u001b[0mWARNING ⚠️ /Volumes/Cucumber/Projects/datasets/2025-06-11/sku110k-merged-yolo/train/images/zoomed_train_5062.jpg: ignoring corrupt image/label: non-normalized or out of bounds coordinates [     1.0088      1.0096]\n",
      "\u001b[34m\u001b[1mtrain: \u001b[0mWARNING ⚠️ /Volumes/Cucumber/Projects/datasets/2025-06-11/sku110k-merged-yolo/train/images/zoomed_train_5064.jpg: ignoring corrupt image/label: negative label values [   -0.05286]\n",
      "\u001b[34m\u001b[1mtrain: \u001b[0mWARNING ⚠️ /Volumes/Cucumber/Projects/datasets/2025-06-11/sku110k-merged-yolo/train/images/zoomed_train_5084.jpg: ignoring corrupt image/label: negative label values [  -0.022654    -0.01726   -0.020496   -0.020496   -0.012136   -0.011057   -0.018339   -0.015462]\n",
      "\u001b[34m\u001b[1mtrain: \u001b[0mWARNING ⚠️ /Volumes/Cucumber/Projects/datasets/2025-06-11/sku110k-merged-yolo/train/images/zoomed_train_5088.jpg: ignoring corrupt image/label: negative label values [  -0.004436]\n",
      "\u001b[34m\u001b[1mtrain: \u001b[0mWARNING ⚠️ /Volumes/Cucumber/Projects/datasets/2025-06-11/sku110k-merged-yolo/train/images/zoomed_train_5100.jpg: ignoring corrupt image/label: negative label values [  -0.022717   -0.021534   -0.025793   -0.022953   -0.016328]\n",
      "\u001b[34m\u001b[1mtrain: \u001b[0mWARNING ⚠️ /Volumes/Cucumber/Projects/datasets/2025-06-11/sku110k-merged-yolo/train/images/zoomed_train_511.jpg: ignoring corrupt image/label: non-normalized or out of bounds coordinates [     1.0038      1.0145       1.018]\n",
      "\u001b[34m\u001b[1mtrain: \u001b[0mWARNING ⚠️ /Volumes/Cucumber/Projects/datasets/2025-06-11/sku110k-merged-yolo/train/images/zoomed_train_5123.jpg: ignoring corrupt image/label: non-normalized or out of bounds coordinates [      1.001]\n",
      "\u001b[34m\u001b[1mtrain: \u001b[0mWARNING ⚠️ /Volumes/Cucumber/Projects/datasets/2025-06-11/sku110k-merged-yolo/train/images/zoomed_train_513.jpg: ignoring corrupt image/label: non-normalized or out of bounds coordinates [     1.0301      1.0324      1.0295      1.0329      1.0283]\n",
      "\u001b[34m\u001b[1mtrain: \u001b[0mWARNING ⚠️ /Volumes/Cucumber/Projects/datasets/2025-06-11/sku110k-merged-yolo/train/images/zoomed_train_5146.jpg: ignoring corrupt image/label: negative label values [  -0.002161]\n",
      "\u001b[34m\u001b[1mtrain: \u001b[0mWARNING ⚠️ /Volumes/Cucumber/Projects/datasets/2025-06-11/sku110k-merged-yolo/train/images/zoomed_train_5181.jpg: ignoring corrupt image/label: negative label values [  -0.000714   -0.000572]\n",
      "\u001b[34m\u001b[1mtrain: \u001b[0mWARNING ⚠️ /Volumes/Cucumber/Projects/datasets/2025-06-11/sku110k-merged-yolo/train/images/zoomed_train_520.jpg: ignoring corrupt image/label: negative label values [  -0.005669   -0.034014   -0.013039]\n",
      "\u001b[34m\u001b[1mtrain: \u001b[0mWARNING ⚠️ /Volumes/Cucumber/Projects/datasets/2025-06-11/sku110k-merged-yolo/train/images/zoomed_train_5256.jpg: ignoring corrupt image/label: negative label values [  -0.020237   -0.015655]\n",
      "\u001b[34m\u001b[1mtrain: \u001b[0mWARNING ⚠️ /Volumes/Cucumber/Projects/datasets/2025-06-11/sku110k-merged-yolo/train/images/zoomed_train_5261.jpg: ignoring corrupt image/label: negative label values [  -0.030075]\n",
      "\u001b[34m\u001b[1mtrain: \u001b[0mWARNING ⚠️ /Volumes/Cucumber/Projects/datasets/2025-06-11/sku110k-merged-yolo/train/images/zoomed_train_5264.jpg: ignoring corrupt image/label: non-normalized or out of bounds coordinates [     1.0149]\n",
      "\u001b[34m\u001b[1mtrain: \u001b[0mWARNING ⚠️ /Volumes/Cucumber/Projects/datasets/2025-06-11/sku110k-merged-yolo/train/images/zoomed_train_527.jpg: ignoring corrupt image/label: negative label values [  -0.006072]\n",
      "\u001b[34m\u001b[1mtrain: \u001b[0mWARNING ⚠️ /Volumes/Cucumber/Projects/datasets/2025-06-11/sku110k-merged-yolo/train/images/zoomed_train_5271.jpg: ignoring corrupt image/label: non-normalized or out of bounds coordinates [     1.0004]\n",
      "\u001b[34m\u001b[1mtrain: \u001b[0mWARNING ⚠️ /Volumes/Cucumber/Projects/datasets/2025-06-11/sku110k-merged-yolo/train/images/zoomed_train_5278.jpg: ignoring corrupt image/label: non-normalized or out of bounds coordinates [     1.0005]\n",
      "\u001b[34m\u001b[1mtrain: \u001b[0mWARNING ⚠️ /Volumes/Cucumber/Projects/datasets/2025-06-11/sku110k-merged-yolo/train/images/zoomed_train_5291.jpg: ignoring corrupt image/label: non-normalized or out of bounds coordinates [     1.0136      1.0874      1.0314      1.0028]\n",
      "\u001b[34m\u001b[1mtrain: \u001b[0mWARNING ⚠️ /Volumes/Cucumber/Projects/datasets/2025-06-11/sku110k-merged-yolo/train/images/zoomed_train_5297.jpg: ignoring corrupt image/label: non-normalized or out of bounds coordinates [     1.0077      1.0048      1.0082      1.0174      1.0124      1.0121       1.011      1.0139      1.0033]\n",
      "\u001b[34m\u001b[1mtrain: \u001b[0mWARNING ⚠️ /Volumes/Cucumber/Projects/datasets/2025-06-11/sku110k-merged-yolo/train/images/zoomed_train_5323.jpg: ignoring corrupt image/label: non-normalized or out of bounds coordinates [     1.0148]\n",
      "\u001b[34m\u001b[1mtrain: \u001b[0mWARNING ⚠️ /Volumes/Cucumber/Projects/datasets/2025-06-11/sku110k-merged-yolo/train/images/zoomed_train_5344.jpg: ignoring corrupt image/label: negative label values [   -0.00062   -0.009512   -0.028226   -0.022333   -0.009615   -0.004032   -0.013234]\n",
      "\u001b[34m\u001b[1mtrain: \u001b[0mWARNING ⚠️ /Volumes/Cucumber/Projects/datasets/2025-06-11/sku110k-merged-yolo/train/images/zoomed_train_5365.jpg: ignoring corrupt image/label: negative label values [  -0.019744   -0.029957]\n",
      "\u001b[34m\u001b[1mtrain: \u001b[0mWARNING ⚠️ /Volumes/Cucumber/Projects/datasets/2025-06-11/sku110k-merged-yolo/train/images/zoomed_train_5372.jpg: ignoring corrupt image/label: negative label values [  -0.002454]\n",
      "\u001b[34m\u001b[1mtrain: \u001b[0mWARNING ⚠️ /Volumes/Cucumber/Projects/datasets/2025-06-11/sku110k-merged-yolo/train/images/zoomed_train_5383.jpg: ignoring corrupt image/label: negative label values [  -0.003143   -0.007112]\n",
      "\u001b[34m\u001b[1mtrain: \u001b[0mWARNING ⚠️ /Volumes/Cucumber/Projects/datasets/2025-06-11/sku110k-merged-yolo/train/images/zoomed_train_5394.jpg: ignoring corrupt image/label: non-normalized or out of bounds coordinates [     1.0113]\n",
      "\u001b[34m\u001b[1mtrain: \u001b[0mWARNING ⚠️ /Volumes/Cucumber/Projects/datasets/2025-06-11/sku110k-merged-yolo/train/images/zoomed_train_5425.jpg: ignoring corrupt image/label: negative label values [   -0.00053]\n",
      "\u001b[34m\u001b[1mtrain: \u001b[0mWARNING ⚠️ /Volumes/Cucumber/Projects/datasets/2025-06-11/sku110k-merged-yolo/train/images/zoomed_train_5463.jpg: ignoring corrupt image/label: negative label values [  -0.002415]\n",
      "\u001b[34m\u001b[1mtrain: \u001b[0mWARNING ⚠️ /Volumes/Cucumber/Projects/datasets/2025-06-11/sku110k-merged-yolo/train/images/zoomed_train_5498.jpg: ignoring corrupt image/label: negative label values [  -0.008033]\n",
      "\u001b[34m\u001b[1mtrain: \u001b[0mWARNING ⚠️ /Volumes/Cucumber/Projects/datasets/2025-06-11/sku110k-merged-yolo/train/images/zoomed_train_5507.jpg: ignoring corrupt image/label: negative label values [  -0.005666]\n",
      "\u001b[34m\u001b[1mtrain: \u001b[0mWARNING ⚠️ /Volumes/Cucumber/Projects/datasets/2025-06-11/sku110k-merged-yolo/train/images/zoomed_train_5550.jpg: ignoring corrupt image/label: negative label values [  -0.012557]\n",
      "\u001b[34m\u001b[1mtrain: \u001b[0mWARNING ⚠️ /Volumes/Cucumber/Projects/datasets/2025-06-11/sku110k-merged-yolo/train/images/zoomed_train_5557.jpg: ignoring corrupt image/label: negative label values [  -0.012717   -0.013604     -0.0139   -0.012125   -0.005028   -0.008281]\n",
      "\u001b[34m\u001b[1mtrain: \u001b[0mWARNING ⚠️ /Volumes/Cucumber/Projects/datasets/2025-06-11/sku110k-merged-yolo/train/images/zoomed_train_5559.jpg: ignoring corrupt image/label: non-normalized or out of bounds coordinates [     1.0051]\n",
      "\u001b[34m\u001b[1mtrain: \u001b[0mWARNING ⚠️ /Volumes/Cucumber/Projects/datasets/2025-06-11/sku110k-merged-yolo/train/images/zoomed_train_556.jpg: ignoring corrupt image/label: negative label values [  -0.009176   -0.008323   -0.005335   -0.005335   -0.011737   -0.016859]\n",
      "\u001b[34m\u001b[1mtrain: \u001b[0mWARNING ⚠️ /Volumes/Cucumber/Projects/datasets/2025-06-11/sku110k-merged-yolo/train/images/zoomed_train_5576.jpg: ignoring corrupt image/label: non-normalized or out of bounds coordinates [     1.0039      1.0006]\n",
      "\u001b[34m\u001b[1mtrain: \u001b[0mWARNING ⚠️ /Volumes/Cucumber/Projects/datasets/2025-06-11/sku110k-merged-yolo/train/images/zoomed_train_5593.jpg: ignoring corrupt image/label: negative label values [  -0.021286]\n",
      "\u001b[34m\u001b[1mtrain: \u001b[0mWARNING ⚠️ /Volumes/Cucumber/Projects/datasets/2025-06-11/sku110k-merged-yolo/train/images/zoomed_train_560.jpg: ignoring corrupt image/label: non-normalized or out of bounds coordinates [     1.0002      1.0047      1.0098]\n",
      "\u001b[34m\u001b[1mtrain: \u001b[0mWARNING ⚠️ /Volumes/Cucumber/Projects/datasets/2025-06-11/sku110k-merged-yolo/train/images/zoomed_train_5602.jpg: ignoring corrupt image/label: non-normalized or out of bounds coordinates [     1.0054      1.0027]\n",
      "\u001b[34m\u001b[1mtrain: \u001b[0mWARNING ⚠️ /Volumes/Cucumber/Projects/datasets/2025-06-11/sku110k-merged-yolo/train/images/zoomed_train_5611.jpg: ignoring corrupt image/label: non-normalized or out of bounds coordinates [     1.0208]\n",
      "\u001b[34m\u001b[1mtrain: \u001b[0mWARNING ⚠️ /Volumes/Cucumber/Projects/datasets/2025-06-11/sku110k-merged-yolo/train/images/zoomed_train_5613.jpg: ignoring corrupt image/label: non-normalized or out of bounds coordinates [     1.0047      1.0008]\n",
      "\u001b[34m\u001b[1mtrain: \u001b[0mWARNING ⚠️ /Volumes/Cucumber/Projects/datasets/2025-06-11/sku110k-merged-yolo/train/images/zoomed_train_562.jpg: ignoring corrupt image/label: non-normalized or out of bounds coordinates [     1.0257]\n",
      "\u001b[34m\u001b[1mtrain: \u001b[0mWARNING ⚠️ /Volumes/Cucumber/Projects/datasets/2025-06-11/sku110k-merged-yolo/train/images/zoomed_train_5633.jpg: ignoring corrupt image/label: non-normalized or out of bounds coordinates [     1.0125]\n",
      "\u001b[34m\u001b[1mtrain: \u001b[0mWARNING ⚠️ /Volumes/Cucumber/Projects/datasets/2025-06-11/sku110k-merged-yolo/train/images/zoomed_train_5643.jpg: ignoring corrupt image/label: non-normalized or out of bounds coordinates [     1.0145      1.0099      1.0052]\n",
      "\u001b[34m\u001b[1mtrain: \u001b[0mWARNING ⚠️ /Volumes/Cucumber/Projects/datasets/2025-06-11/sku110k-merged-yolo/train/images/zoomed_train_5669.jpg: ignoring corrupt image/label: non-normalized or out of bounds coordinates [     1.0034]\n",
      "\u001b[34m\u001b[1mtrain: \u001b[0mWARNING ⚠️ /Volumes/Cucumber/Projects/datasets/2025-06-11/sku110k-merged-yolo/train/images/zoomed_train_567.jpg: ignoring corrupt image/label: non-normalized or out of bounds coordinates [      1.013      1.0081      1.0095      1.0091      1.0112      1.0126       1.013]\n",
      "\u001b[34m\u001b[1mtrain: \u001b[0mWARNING ⚠️ /Volumes/Cucumber/Projects/datasets/2025-06-11/sku110k-merged-yolo/train/images/zoomed_train_5672.jpg: ignoring corrupt image/label: negative label values [   -0.00507]\n",
      "\u001b[34m\u001b[1mtrain: \u001b[0mWARNING ⚠️ /Volumes/Cucumber/Projects/datasets/2025-06-11/sku110k-merged-yolo/train/images/zoomed_train_5684.jpg: ignoring corrupt image/label: negative label values [    -0.0049   -0.001153]\n",
      "\u001b[34m\u001b[1mtrain: \u001b[0mWARNING ⚠️ /Volumes/Cucumber/Projects/datasets/2025-06-11/sku110k-merged-yolo/train/images/zoomed_train_5689.jpg: ignoring corrupt image/label: non-normalized or out of bounds coordinates [     1.0098      1.0011      1.0057]\n",
      "\u001b[34m\u001b[1mtrain: \u001b[0mWARNING ⚠️ /Volumes/Cucumber/Projects/datasets/2025-06-11/sku110k-merged-yolo/train/images/zoomed_train_569.jpg: ignoring corrupt image/label: negative label values [   -0.00111]\n",
      "\u001b[34m\u001b[1mtrain: \u001b[0mWARNING ⚠️ /Volumes/Cucumber/Projects/datasets/2025-06-11/sku110k-merged-yolo/train/images/zoomed_train_5693.jpg: ignoring corrupt image/label: negative label values [  -0.002452]\n",
      "\u001b[34m\u001b[1mtrain: \u001b[0mWARNING ⚠️ /Volumes/Cucumber/Projects/datasets/2025-06-11/sku110k-merged-yolo/train/images/zoomed_train_5726.jpg: ignoring corrupt image/label: non-normalized or out of bounds coordinates [     1.0654]\n",
      "\u001b[34m\u001b[1mtrain: \u001b[0mWARNING ⚠️ /Volumes/Cucumber/Projects/datasets/2025-06-11/sku110k-merged-yolo/train/images/zoomed_train_5727.jpg: ignoring corrupt image/label: non-normalized or out of bounds coordinates [     1.0188]\n",
      "\u001b[34m\u001b[1mtrain: \u001b[0mWARNING ⚠️ /Volumes/Cucumber/Projects/datasets/2025-06-11/sku110k-merged-yolo/train/images/zoomed_train_5733.jpg: ignoring corrupt image/label: negative label values [  -0.037238    -0.04728   -0.006706]\n",
      "\u001b[34m\u001b[1mtrain: \u001b[0mWARNING ⚠️ /Volumes/Cucumber/Projects/datasets/2025-06-11/sku110k-merged-yolo/train/images/zoomed_train_5756.jpg: ignoring corrupt image/label: non-normalized or out of bounds coordinates [     1.0148      1.0121      1.0161]\n",
      "\u001b[34m\u001b[1mtrain: \u001b[0mWARNING ⚠️ /Volumes/Cucumber/Projects/datasets/2025-06-11/sku110k-merged-yolo/train/images/zoomed_train_578.jpg: ignoring corrupt image/label: non-normalized or out of bounds coordinates [     1.0098      1.0139      1.0061]\n",
      "\u001b[34m\u001b[1mtrain: \u001b[0mWARNING ⚠️ /Volumes/Cucumber/Projects/datasets/2025-06-11/sku110k-merged-yolo/train/images/zoomed_train_5783.jpg: ignoring corrupt image/label: non-normalized or out of bounds coordinates [     1.0057      1.0123      1.0078      1.0089      1.0124      1.0105      1.0124      1.0093]\n",
      "\u001b[34m\u001b[1mtrain: \u001b[0mWARNING ⚠️ /Volumes/Cucumber/Projects/datasets/2025-06-11/sku110k-merged-yolo/train/images/zoomed_train_579.jpg: ignoring corrupt image/label: negative label values [  -0.013245]\n",
      "\u001b[34m\u001b[1mtrain: \u001b[0mWARNING ⚠️ /Volumes/Cucumber/Projects/datasets/2025-06-11/sku110k-merged-yolo/train/images/zoomed_train_581.jpg: ignoring corrupt image/label: non-normalized or out of bounds coordinates [     1.0021]\n",
      "\u001b[34m\u001b[1mtrain: \u001b[0mWARNING ⚠️ /Volumes/Cucumber/Projects/datasets/2025-06-11/sku110k-merged-yolo/train/images/zoomed_train_5814.jpg: ignoring corrupt image/label: non-normalized or out of bounds coordinates [     1.0119      1.0142      1.0074]\n",
      "\u001b[34m\u001b[1mtrain: \u001b[0mWARNING ⚠️ /Volumes/Cucumber/Projects/datasets/2025-06-11/sku110k-merged-yolo/train/images/zoomed_train_582.jpg: ignoring corrupt image/label: non-normalized or out of bounds coordinates [     1.0052]\n",
      "\u001b[34m\u001b[1mtrain: \u001b[0mWARNING ⚠️ /Volumes/Cucumber/Projects/datasets/2025-06-11/sku110k-merged-yolo/train/images/zoomed_train_5821.jpg: ignoring corrupt image/label: negative label values [  -0.002501   -0.012505]\n",
      "\u001b[34m\u001b[1mtrain: \u001b[0mWARNING ⚠️ /Volumes/Cucumber/Projects/datasets/2025-06-11/sku110k-merged-yolo/train/images/zoomed_train_5823.jpg: ignoring corrupt image/label: non-normalized or out of bounds coordinates [     1.0133]\n",
      "\u001b[34m\u001b[1mtrain: \u001b[0mWARNING ⚠️ /Volumes/Cucumber/Projects/datasets/2025-06-11/sku110k-merged-yolo/train/images/zoomed_train_5835.jpg: ignoring corrupt image/label: negative label values [  -0.012704    -0.01558   -0.017258   -0.021093   -0.008869   -0.009348   -0.005273   -0.006392]\n",
      "\u001b[34m\u001b[1mtrain: \u001b[0mWARNING ⚠️ /Volumes/Cucumber/Projects/datasets/2025-06-11/sku110k-merged-yolo/train/images/zoomed_train_5837.jpg: ignoring corrupt image/label: non-normalized or out of bounds coordinates [     1.0012      1.0329]\n",
      "\u001b[34m\u001b[1mtrain: \u001b[0mWARNING ⚠️ /Volumes/Cucumber/Projects/datasets/2025-06-11/sku110k-merged-yolo/train/images/zoomed_train_5893.jpg: ignoring corrupt image/label: negative label values [  -0.013962]\n",
      "\u001b[34m\u001b[1mtrain: \u001b[0mWARNING ⚠️ /Volumes/Cucumber/Projects/datasets/2025-06-11/sku110k-merged-yolo/train/images/zoomed_train_5919.jpg: ignoring corrupt image/label: negative label values [  -0.049185    -0.04778   -0.048717   -0.050122   -0.059022   -0.060427]\n",
      "\u001b[34m\u001b[1mtrain: \u001b[0mWARNING ⚠️ /Volumes/Cucumber/Projects/datasets/2025-06-11/sku110k-merged-yolo/train/images/zoomed_train_5951.jpg: ignoring corrupt image/label: non-normalized or out of bounds coordinates [     1.0065      1.0088      1.0079]\n",
      "\u001b[34m\u001b[1mtrain: \u001b[0mWARNING ⚠️ /Volumes/Cucumber/Projects/datasets/2025-06-11/sku110k-merged-yolo/train/images/zoomed_train_5955.jpg: ignoring corrupt image/label: non-normalized or out of bounds coordinates [     1.0004       1.005]\n",
      "\u001b[34m\u001b[1mtrain: \u001b[0mWARNING ⚠️ /Volumes/Cucumber/Projects/datasets/2025-06-11/sku110k-merged-yolo/train/images/zoomed_train_5958.jpg: ignoring corrupt image/label: negative label values [   -0.00333   -0.011893   -0.009515   -0.013321   -0.009515    -0.00999   -0.008563   -0.006185]\n",
      "\u001b[34m\u001b[1mtrain: \u001b[0mWARNING ⚠️ /Volumes/Cucumber/Projects/datasets/2025-06-11/sku110k-merged-yolo/train/images/zoomed_train_5962.jpg: ignoring corrupt image/label: non-normalized or out of bounds coordinates [     1.0042      1.0116      1.0058      1.0039      1.0132       1.016      1.0005]\n",
      "\u001b[34m\u001b[1mtrain: \u001b[0mWARNING ⚠️ /Volumes/Cucumber/Projects/datasets/2025-06-11/sku110k-merged-yolo/train/images/zoomed_train_5965.jpg: ignoring corrupt image/label: non-normalized or out of bounds coordinates [      1.003]\n",
      "\u001b[34m\u001b[1mtrain: \u001b[0mWARNING ⚠️ /Volumes/Cucumber/Projects/datasets/2025-06-11/sku110k-merged-yolo/train/images/zoomed_train_5973.jpg: ignoring corrupt image/label: negative label values [  -0.005472   -0.007959]\n",
      "\u001b[34m\u001b[1mtrain: \u001b[0mWARNING ⚠️ /Volumes/Cucumber/Projects/datasets/2025-06-11/sku110k-merged-yolo/train/images/zoomed_train_5984.jpg: ignoring corrupt image/label: negative label values [  -0.003899    -0.00039   -0.003119    -0.00078   -0.022807   -0.006238   -0.003314   -0.006238   -0.004094   -0.003509    -0.00117]\n",
      "\u001b[34m\u001b[1mtrain: \u001b[0mWARNING ⚠️ /Volumes/Cucumber/Projects/datasets/2025-06-11/sku110k-merged-yolo/train/images/zoomed_train_5996.jpg: ignoring corrupt image/label: negative label values [  -0.001009]\n",
      "\u001b[34m\u001b[1mtrain: \u001b[0mWARNING ⚠️ /Volumes/Cucumber/Projects/datasets/2025-06-11/sku110k-merged-yolo/train/images/zoomed_train_6011.jpg: ignoring corrupt image/label: non-normalized or out of bounds coordinates [     1.0108]\n",
      "\u001b[34m\u001b[1mtrain: \u001b[0mWARNING ⚠️ /Volumes/Cucumber/Projects/datasets/2025-06-11/sku110k-merged-yolo/train/images/zoomed_train_6025.jpg: ignoring corrupt image/label: negative label values [  -0.026611]\n",
      "\u001b[34m\u001b[1mtrain: \u001b[0mWARNING ⚠️ /Volumes/Cucumber/Projects/datasets/2025-06-11/sku110k-merged-yolo/train/images/zoomed_train_6031.jpg: ignoring corrupt image/label: non-normalized or out of bounds coordinates [     1.0036      1.0079      1.0079      1.0077]\n",
      "\u001b[34m\u001b[1mtrain: \u001b[0mWARNING ⚠️ /Volumes/Cucumber/Projects/datasets/2025-06-11/sku110k-merged-yolo/train/images/zoomed_train_605.jpg: ignoring corrupt image/label: non-normalized or out of bounds coordinates [     1.0193      1.0183      1.0174]\n",
      "\u001b[34m\u001b[1mtrain: \u001b[0mWARNING ⚠️ /Volumes/Cucumber/Projects/datasets/2025-06-11/sku110k-merged-yolo/train/images/zoomed_train_6093.jpg: ignoring corrupt image/label: non-normalized or out of bounds coordinates [     1.0122      1.0133      1.0146      1.0161      1.0112]\n",
      "\u001b[34m\u001b[1mtrain: \u001b[0mWARNING ⚠️ /Volumes/Cucumber/Projects/datasets/2025-06-11/sku110k-merged-yolo/train/images/zoomed_train_6116.jpg: ignoring corrupt image/label: non-normalized or out of bounds coordinates [     1.0122      1.0011]\n",
      "\u001b[34m\u001b[1mtrain: \u001b[0mWARNING ⚠️ /Volumes/Cucumber/Projects/datasets/2025-06-11/sku110k-merged-yolo/train/images/zoomed_train_6117.jpg: ignoring corrupt image/label: non-normalized or out of bounds coordinates [     1.0145]\n",
      "\u001b[34m\u001b[1mtrain: \u001b[0mWARNING ⚠️ /Volumes/Cucumber/Projects/datasets/2025-06-11/sku110k-merged-yolo/train/images/zoomed_train_6119.jpg: ignoring corrupt image/label: non-normalized or out of bounds coordinates [     1.0158      1.0044      1.0036]\n",
      "\u001b[34m\u001b[1mtrain: \u001b[0mWARNING ⚠️ /Volumes/Cucumber/Projects/datasets/2025-06-11/sku110k-merged-yolo/train/images/zoomed_train_6126.jpg: ignoring corrupt image/label: negative label values [   -0.00025]\n",
      "\u001b[34m\u001b[1mtrain: \u001b[0mWARNING ⚠️ /Volumes/Cucumber/Projects/datasets/2025-06-11/sku110k-merged-yolo/train/images/zoomed_train_6136.jpg: ignoring corrupt image/label: non-normalized or out of bounds coordinates [     1.0293]\n",
      "\u001b[34m\u001b[1mtrain: \u001b[0mWARNING ⚠️ /Volumes/Cucumber/Projects/datasets/2025-06-11/sku110k-merged-yolo/train/images/zoomed_train_6143.jpg: ignoring corrupt image/label: negative label values [  -0.001585   -0.003567   -0.013872   -0.006243   -0.009215   -0.014269   -0.007729   -0.007729]\n",
      "\u001b[34m\u001b[1mtrain: \u001b[0mWARNING ⚠️ /Volumes/Cucumber/Projects/datasets/2025-06-11/sku110k-merged-yolo/train/images/zoomed_train_6144.jpg: ignoring corrupt image/label: non-normalized or out of bounds coordinates [     1.0027      1.0159]\n",
      "\u001b[34m\u001b[1mtrain: \u001b[0mWARNING ⚠️ /Volumes/Cucumber/Projects/datasets/2025-06-11/sku110k-merged-yolo/train/images/zoomed_train_6147.jpg: ignoring corrupt image/label: negative label values [  -0.010022   -0.010022   -0.006125   -0.013363   -0.023942   -0.018931]\n",
      "\u001b[34m\u001b[1mtrain: \u001b[0mWARNING ⚠️ /Volumes/Cucumber/Projects/datasets/2025-06-11/sku110k-merged-yolo/train/images/zoomed_train_6155.jpg: ignoring corrupt image/label: negative label values [  -0.021661   -0.031137   -0.036552]\n",
      "\u001b[34m\u001b[1mtrain: \u001b[0mWARNING ⚠️ /Volumes/Cucumber/Projects/datasets/2025-06-11/sku110k-merged-yolo/train/images/zoomed_train_6156.jpg: ignoring corrupt image/label: negative label values [  -0.017841]\n",
      "\u001b[34m\u001b[1mtrain: \u001b[0mWARNING ⚠️ /Volumes/Cucumber/Projects/datasets/2025-06-11/sku110k-merged-yolo/train/images/zoomed_train_6160.jpg: ignoring corrupt image/label: negative label values [  -0.027122   -0.008311   -0.010936   -0.038495    -0.01881]\n",
      "\u001b[34m\u001b[1mtrain: \u001b[0mWARNING ⚠️ /Volumes/Cucumber/Projects/datasets/2025-06-11/sku110k-merged-yolo/train/images/zoomed_train_6235.jpg: ignoring corrupt image/label: non-normalized or out of bounds coordinates [     1.0103]\n",
      "\u001b[34m\u001b[1mtrain: \u001b[0mWARNING ⚠️ /Volumes/Cucumber/Projects/datasets/2025-06-11/sku110k-merged-yolo/train/images/zoomed_train_6243.jpg: ignoring corrupt image/label: negative label values [  -0.000484   -0.008236]\n",
      "\u001b[34m\u001b[1mtrain: \u001b[0mWARNING ⚠️ /Volumes/Cucumber/Projects/datasets/2025-06-11/sku110k-merged-yolo/train/images/zoomed_train_6245.jpg: ignoring corrupt image/label: non-normalized or out of bounds coordinates [     1.0022      1.0026      1.0007]\n",
      "\u001b[34m\u001b[1mtrain: \u001b[0mWARNING ⚠️ /Volumes/Cucumber/Projects/datasets/2025-06-11/sku110k-merged-yolo/train/images/zoomed_train_625.jpg: ignoring corrupt image/label: non-normalized or out of bounds coordinates [      1.017]\n",
      "\u001b[34m\u001b[1mtrain: \u001b[0mWARNING ⚠️ /Volumes/Cucumber/Projects/datasets/2025-06-11/sku110k-merged-yolo/train/images/zoomed_train_6263.jpg: ignoring corrupt image/label: non-normalized or out of bounds coordinates [     1.0046]\n",
      "\u001b[34m\u001b[1mtrain: \u001b[0mWARNING ⚠️ /Volumes/Cucumber/Projects/datasets/2025-06-11/sku110k-merged-yolo/train/images/zoomed_train_6264.jpg: ignoring corrupt image/label: negative label values [  -0.008223   -0.011685   -0.012551]\n",
      "\u001b[34m\u001b[1mtrain: \u001b[0mWARNING ⚠️ /Volumes/Cucumber/Projects/datasets/2025-06-11/sku110k-merged-yolo/train/images/zoomed_train_6266.jpg: ignoring corrupt image/label: negative label values [  -0.002121]\n",
      "\u001b[34m\u001b[1mtrain: \u001b[0mWARNING ⚠️ /Volumes/Cucumber/Projects/datasets/2025-06-11/sku110k-merged-yolo/train/images/zoomed_train_6278.jpg: ignoring corrupt image/label: negative label values [  -0.028417   -0.011466]\n",
      "\u001b[34m\u001b[1mtrain: \u001b[0mWARNING ⚠️ /Volumes/Cucumber/Projects/datasets/2025-06-11/sku110k-merged-yolo/train/images/zoomed_train_6323.jpg: ignoring corrupt image/label: non-normalized or out of bounds coordinates [     1.0398]\n",
      "\u001b[34m\u001b[1mtrain: \u001b[0mWARNING ⚠️ /Volumes/Cucumber/Projects/datasets/2025-06-11/sku110k-merged-yolo/train/images/zoomed_train_6328.jpg: ignoring corrupt image/label: non-normalized or out of bounds coordinates [     1.0077      1.0121]\n",
      "\u001b[34m\u001b[1mtrain: \u001b[0mWARNING ⚠️ /Volumes/Cucumber/Projects/datasets/2025-06-11/sku110k-merged-yolo/train/images/zoomed_train_6342.jpg: ignoring corrupt image/label: negative label values [  -0.003242]\n",
      "\u001b[34m\u001b[1mtrain: \u001b[0mWARNING ⚠️ /Volumes/Cucumber/Projects/datasets/2025-06-11/sku110k-merged-yolo/train/images/zoomed_train_6363.jpg: ignoring corrupt image/label: non-normalized or out of bounds coordinates [      1.019]\n",
      "\u001b[34m\u001b[1mtrain: \u001b[0mWARNING ⚠️ /Volumes/Cucumber/Projects/datasets/2025-06-11/sku110k-merged-yolo/train/images/zoomed_train_6374.jpg: ignoring corrupt image/label: negative label values [  -0.000711]\n",
      "\u001b[34m\u001b[1mtrain: \u001b[0mWARNING ⚠️ /Volumes/Cucumber/Projects/datasets/2025-06-11/sku110k-merged-yolo/train/images/zoomed_train_6391.jpg: ignoring corrupt image/label: negative label values [   -0.00135]\n",
      "\u001b[34m\u001b[1mtrain: \u001b[0mWARNING ⚠️ /Volumes/Cucumber/Projects/datasets/2025-06-11/sku110k-merged-yolo/train/images/zoomed_train_6409.jpg: ignoring corrupt image/label: non-normalized or out of bounds coordinates [     1.0146      1.0127      1.0083]\n",
      "\u001b[34m\u001b[1mtrain: \u001b[0mWARNING ⚠️ /Volumes/Cucumber/Projects/datasets/2025-06-11/sku110k-merged-yolo/train/images/zoomed_train_6437.jpg: ignoring corrupt image/label: negative label values [  -0.003959]\n",
      "\u001b[34m\u001b[1mtrain: \u001b[0mWARNING ⚠️ /Volumes/Cucumber/Projects/datasets/2025-06-11/sku110k-merged-yolo/train/images/zoomed_train_6445.jpg: ignoring corrupt image/label: non-normalized or out of bounds coordinates [     1.0035]\n",
      "\u001b[34m\u001b[1mtrain: \u001b[0mWARNING ⚠️ /Volumes/Cucumber/Projects/datasets/2025-06-11/sku110k-merged-yolo/train/images/zoomed_train_6459.jpg: ignoring corrupt image/label: negative label values [  -0.004887   -0.010901]\n",
      "\u001b[34m\u001b[1mtrain: \u001b[0mWARNING ⚠️ /Volumes/Cucumber/Projects/datasets/2025-06-11/sku110k-merged-yolo/train/images/zoomed_train_6474.jpg: ignoring corrupt image/label: non-normalized or out of bounds coordinates [     1.0083]\n",
      "\u001b[34m\u001b[1mtrain: \u001b[0mWARNING ⚠️ /Volumes/Cucumber/Projects/datasets/2025-06-11/sku110k-merged-yolo/train/images/zoomed_train_6479.jpg: ignoring corrupt image/label: negative label values [  -0.040189   -0.041371]\n",
      "\u001b[34m\u001b[1mtrain: \u001b[0mWARNING ⚠️ /Volumes/Cucumber/Projects/datasets/2025-06-11/sku110k-merged-yolo/train/images/zoomed_train_6486.jpg: ignoring corrupt image/label: negative label values [  -0.058032   -0.032285]\n",
      "\u001b[34m\u001b[1mtrain: \u001b[0mWARNING ⚠️ /Volumes/Cucumber/Projects/datasets/2025-06-11/sku110k-merged-yolo/train/images/zoomed_train_650.jpg: ignoring corrupt image/label: non-normalized or out of bounds coordinates [     1.0505      1.0004       1.046]\n",
      "\u001b[34m\u001b[1mtrain: \u001b[0mWARNING ⚠️ /Volumes/Cucumber/Projects/datasets/2025-06-11/sku110k-merged-yolo/train/images/zoomed_train_6540.jpg: ignoring corrupt image/label: negative label values [  -0.030218]\n",
      "\u001b[34m\u001b[1mtrain: \u001b[0mWARNING ⚠️ /Volumes/Cucumber/Projects/datasets/2025-06-11/sku110k-merged-yolo/train/images/zoomed_train_6550.jpg: ignoring corrupt image/label: negative label values [  -0.025162   -0.011143]\n",
      "\u001b[34m\u001b[1mtrain: \u001b[0mWARNING ⚠️ /Volumes/Cucumber/Projects/datasets/2025-06-11/sku110k-merged-yolo/train/images/zoomed_train_6554.jpg: ignoring corrupt image/label: non-normalized or out of bounds coordinates [      1.001      1.0143]\n",
      "\u001b[34m\u001b[1mtrain: \u001b[0mWARNING ⚠️ /Volumes/Cucumber/Projects/datasets/2025-06-11/sku110k-merged-yolo/train/images/zoomed_train_6579.jpg: ignoring corrupt image/label: negative label values [  -0.000566   -0.012165]\n",
      "\u001b[34m\u001b[1mtrain: \u001b[0mWARNING ⚠️ /Volumes/Cucumber/Projects/datasets/2025-06-11/sku110k-merged-yolo/train/images/zoomed_train_6599.jpg: ignoring corrupt image/label: negative label values [  -0.002558]\n",
      "\u001b[34m\u001b[1mtrain: \u001b[0mWARNING ⚠️ /Volumes/Cucumber/Projects/datasets/2025-06-11/sku110k-merged-yolo/train/images/zoomed_train_6603.jpg: ignoring corrupt image/label: non-normalized or out of bounds coordinates [     1.0045      1.0108]\n",
      "\u001b[34m\u001b[1mtrain: \u001b[0mWARNING ⚠️ /Volumes/Cucumber/Projects/datasets/2025-06-11/sku110k-merged-yolo/train/images/zoomed_train_6629.jpg: ignoring corrupt image/label: non-normalized or out of bounds coordinates [     1.0077       1.016]\n",
      "\u001b[34m\u001b[1mtrain: \u001b[0mWARNING ⚠️ /Volumes/Cucumber/Projects/datasets/2025-06-11/sku110k-merged-yolo/train/images/zoomed_train_664.jpg: ignoring corrupt image/label: negative label values [  -0.005376   -0.008855   -0.001265    -0.00253   -0.014864    -0.01265   -0.006958]\n",
      "\u001b[34m\u001b[1mtrain: \u001b[0mWARNING ⚠️ /Volumes/Cucumber/Projects/datasets/2025-06-11/sku110k-merged-yolo/train/images/zoomed_train_6671.jpg: ignoring corrupt image/label: negative label values [  -0.009023   -0.015924]\n",
      "\u001b[34m\u001b[1mtrain: \u001b[0mWARNING ⚠️ /Volumes/Cucumber/Projects/datasets/2025-06-11/sku110k-merged-yolo/train/images/zoomed_train_6672.jpg: ignoring corrupt image/label: non-normalized or out of bounds coordinates [     1.0153]\n",
      "\u001b[34m\u001b[1mtrain: \u001b[0mWARNING ⚠️ /Volumes/Cucumber/Projects/datasets/2025-06-11/sku110k-merged-yolo/train/images/zoomed_train_6682.jpg: ignoring corrupt image/label: negative label values [  -0.010965   -0.006579   -0.002056]\n",
      "\u001b[34m\u001b[1mtrain: \u001b[0mWARNING ⚠️ /Volumes/Cucumber/Projects/datasets/2025-06-11/sku110k-merged-yolo/train/images/zoomed_train_6685.jpg: ignoring corrupt image/label: non-normalized or out of bounds coordinates [     1.0072]\n",
      "\u001b[34m\u001b[1mtrain: \u001b[0mWARNING ⚠️ /Volumes/Cucumber/Projects/datasets/2025-06-11/sku110k-merged-yolo/train/images/zoomed_train_6687.jpg: ignoring corrupt image/label: negative label values [  -0.033944]\n",
      "\u001b[34m\u001b[1mtrain: \u001b[0mWARNING ⚠️ /Volumes/Cucumber/Projects/datasets/2025-06-11/sku110k-merged-yolo/train/images/zoomed_train_673.jpg: ignoring corrupt image/label: non-normalized or out of bounds coordinates [     1.0074]\n",
      "\u001b[34m\u001b[1mtrain: \u001b[0mWARNING ⚠️ /Volumes/Cucumber/Projects/datasets/2025-06-11/sku110k-merged-yolo/train/images/zoomed_train_6735.jpg: ignoring corrupt image/label: non-normalized or out of bounds coordinates [     1.0235      1.0243      1.0492]\n",
      "\u001b[34m\u001b[1mtrain: \u001b[0mWARNING ⚠️ /Volumes/Cucumber/Projects/datasets/2025-06-11/sku110k-merged-yolo/train/images/zoomed_train_6744.jpg: ignoring corrupt image/label: non-normalized or out of bounds coordinates [     1.0274      1.0096]\n",
      "\u001b[34m\u001b[1mtrain: \u001b[0mWARNING ⚠️ /Volumes/Cucumber/Projects/datasets/2025-06-11/sku110k-merged-yolo/train/images/zoomed_train_6745.jpg: ignoring corrupt image/label: non-normalized or out of bounds coordinates [     1.0246]\n",
      "\u001b[34m\u001b[1mtrain: \u001b[0mWARNING ⚠️ /Volumes/Cucumber/Projects/datasets/2025-06-11/sku110k-merged-yolo/train/images/zoomed_train_6762.jpg: ignoring corrupt image/label: non-normalized or out of bounds coordinates [     1.0095      1.0168]\n",
      "\u001b[34m\u001b[1mtrain: \u001b[0mWARNING ⚠️ /Volumes/Cucumber/Projects/datasets/2025-06-11/sku110k-merged-yolo/train/images/zoomed_train_6780.jpg: ignoring corrupt image/label: non-normalized or out of bounds coordinates [     1.0107]\n",
      "\u001b[34m\u001b[1mtrain: \u001b[0mWARNING ⚠️ /Volumes/Cucumber/Projects/datasets/2025-06-11/sku110k-merged-yolo/train/images/zoomed_train_6786.jpg: ignoring corrupt image/label: non-normalized or out of bounds coordinates [     1.0013      1.0096      1.0049]\n",
      "\u001b[34m\u001b[1mtrain: \u001b[0mWARNING ⚠️ /Volumes/Cucumber/Projects/datasets/2025-06-11/sku110k-merged-yolo/train/images/zoomed_train_6790.jpg: ignoring corrupt image/label: negative label values [  -0.001527   -0.019475   -0.012219]\n",
      "\u001b[34m\u001b[1mtrain: \u001b[0mWARNING ⚠️ /Volumes/Cucumber/Projects/datasets/2025-06-11/sku110k-merged-yolo/train/images/zoomed_train_68.jpg: ignoring corrupt image/label: non-normalized or out of bounds coordinates [     1.0041]\n",
      "\u001b[34m\u001b[1mtrain: \u001b[0mWARNING ⚠️ /Volumes/Cucumber/Projects/datasets/2025-06-11/sku110k-merged-yolo/train/images/zoomed_train_6817.jpg: ignoring corrupt image/label: negative label values [  -0.006707    -0.01006   -0.019282   -0.018723   -0.015928   -0.010508   -0.010508   -0.016311   -0.002509]\n",
      "\u001b[34m\u001b[1mtrain: \u001b[0mWARNING ⚠️ /Volumes/Cucumber/Projects/datasets/2025-06-11/sku110k-merged-yolo/train/images/zoomed_train_6824.jpg: ignoring corrupt image/label: negative label values [  -0.016551]\n",
      "\u001b[34m\u001b[1mtrain: \u001b[0mWARNING ⚠️ /Volumes/Cucumber/Projects/datasets/2025-06-11/sku110k-merged-yolo/train/images/zoomed_train_6845.jpg: ignoring corrupt image/label: non-normalized or out of bounds coordinates [     1.0415      1.0468]\n",
      "\u001b[34m\u001b[1mtrain: \u001b[0mWARNING ⚠️ /Volumes/Cucumber/Projects/datasets/2025-06-11/sku110k-merged-yolo/train/images/zoomed_train_6857.jpg: ignoring corrupt image/label: non-normalized or out of bounds coordinates [     1.0007]\n",
      "\u001b[34m\u001b[1mtrain: \u001b[0mWARNING ⚠️ /Volumes/Cucumber/Projects/datasets/2025-06-11/sku110k-merged-yolo/train/images/zoomed_train_6864.jpg: ignoring corrupt image/label: non-normalized or out of bounds coordinates [     1.0318      1.0129]\n",
      "\u001b[34m\u001b[1mtrain: \u001b[0mWARNING ⚠️ /Volumes/Cucumber/Projects/datasets/2025-06-11/sku110k-merged-yolo/train/images/zoomed_train_6872.jpg: ignoring corrupt image/label: negative label values [  -0.002674]\n",
      "\u001b[34m\u001b[1mtrain: \u001b[0mWARNING ⚠️ /Volumes/Cucumber/Projects/datasets/2025-06-11/sku110k-merged-yolo/train/images/zoomed_train_6877.jpg: ignoring corrupt image/label: negative label values [  -0.007295   -0.015713   -0.011223    -0.04321   -0.039282   -0.020763   -0.015713]\n",
      "\u001b[34m\u001b[1mtrain: \u001b[0mWARNING ⚠️ /Volumes/Cucumber/Projects/datasets/2025-06-11/sku110k-merged-yolo/train/images/zoomed_train_6892.jpg: ignoring corrupt image/label: negative label values [  -0.003062    -0.01327]\n",
      "\u001b[34m\u001b[1mtrain: \u001b[0mWARNING ⚠️ /Volumes/Cucumber/Projects/datasets/2025-06-11/sku110k-merged-yolo/train/images/zoomed_train_6920.jpg: ignoring corrupt image/label: negative label values [  -0.011213   -0.018487   -0.016669   -0.010001   -0.005455]\n",
      "\u001b[34m\u001b[1mtrain: \u001b[0mWARNING ⚠️ /Volumes/Cucumber/Projects/datasets/2025-06-11/sku110k-merged-yolo/train/images/zoomed_train_6938.jpg: ignoring corrupt image/label: negative label values [  -0.004028   -0.003453   -0.006042]\n",
      "\u001b[34m\u001b[1mtrain: \u001b[0mWARNING ⚠️ /Volumes/Cucumber/Projects/datasets/2025-06-11/sku110k-merged-yolo/train/images/zoomed_train_6964.jpg: ignoring corrupt image/label: non-normalized or out of bounds coordinates [     1.0058]\n",
      "\u001b[34m\u001b[1mtrain: \u001b[0mWARNING ⚠️ /Volumes/Cucumber/Projects/datasets/2025-06-11/sku110k-merged-yolo/train/images/zoomed_train_6973.jpg: ignoring corrupt image/label: non-normalized or out of bounds coordinates [     1.0406]\n",
      "\u001b[34m\u001b[1mtrain: \u001b[0mWARNING ⚠️ /Volumes/Cucumber/Projects/datasets/2025-06-11/sku110k-merged-yolo/train/images/zoomed_train_6990.jpg: ignoring corrupt image/label: non-normalized or out of bounds coordinates [     1.0097      1.0119      1.0092      1.0117       1.011      1.0048      1.0031      1.0114]\n",
      "\u001b[34m\u001b[1mtrain: \u001b[0mWARNING ⚠️ /Volumes/Cucumber/Projects/datasets/2025-06-11/sku110k-merged-yolo/train/images/zoomed_train_6993.jpg: ignoring corrupt image/label: non-normalized or out of bounds coordinates [      1.012      1.0143      1.0187]\n",
      "\u001b[34m\u001b[1mtrain: \u001b[0mWARNING ⚠️ /Volumes/Cucumber/Projects/datasets/2025-06-11/sku110k-merged-yolo/train/images/zoomed_train_7018.jpg: ignoring corrupt image/label: non-normalized or out of bounds coordinates [     1.0055      1.0095      1.0036]\n",
      "\u001b[34m\u001b[1mtrain: \u001b[0mWARNING ⚠️ /Volumes/Cucumber/Projects/datasets/2025-06-11/sku110k-merged-yolo/train/images/zoomed_train_7024.jpg: ignoring corrupt image/label: non-normalized or out of bounds coordinates [     1.0101]\n",
      "\u001b[34m\u001b[1mtrain: \u001b[0mWARNING ⚠️ /Volumes/Cucumber/Projects/datasets/2025-06-11/sku110k-merged-yolo/train/images/zoomed_train_7037.jpg: ignoring corrupt image/label: negative label values [  -0.003463   -0.002078   -0.003463   -0.006233   -0.025277   -0.006233   -0.003116   -0.027355   -0.023892   -0.032895   -0.027355   -0.014197   -0.032548]\n",
      "\u001b[34m\u001b[1mtrain: \u001b[0mWARNING ⚠️ /Volumes/Cucumber/Projects/datasets/2025-06-11/sku110k-merged-yolo/train/images/zoomed_train_7064.jpg: ignoring corrupt image/label: negative label values [  -0.026047   -0.039837   -0.039326   -0.019918]\n",
      "\u001b[34m\u001b[1mtrain: \u001b[0mWARNING ⚠️ /Volumes/Cucumber/Projects/datasets/2025-06-11/sku110k-merged-yolo/train/images/zoomed_train_7097.jpg: ignoring corrupt image/label: non-normalized or out of bounds coordinates [     1.0091]\n",
      "\u001b[34m\u001b[1mtrain: \u001b[0mWARNING ⚠️ /Volumes/Cucumber/Projects/datasets/2025-06-11/sku110k-merged-yolo/train/images/zoomed_train_712.jpg: ignoring corrupt image/label: negative label values [  -0.000747   -0.012329    -0.00411   -0.008966]\n",
      "\u001b[34m\u001b[1mtrain: \u001b[0mWARNING ⚠️ /Volumes/Cucumber/Projects/datasets/2025-06-11/sku110k-merged-yolo/train/images/zoomed_train_7126.jpg: ignoring corrupt image/label: negative label values [   -0.00669   -0.013671   -0.015125]\n",
      "\u001b[34m\u001b[1mtrain: \u001b[0mWARNING ⚠️ /Volumes/Cucumber/Projects/datasets/2025-06-11/sku110k-merged-yolo/train/images/zoomed_train_7131.jpg: ignoring corrupt image/label: non-normalized or out of bounds coordinates [     1.0012       1.009]\n",
      "\u001b[34m\u001b[1mtrain: \u001b[0mWARNING ⚠️ /Volumes/Cucumber/Projects/datasets/2025-06-11/sku110k-merged-yolo/train/images/zoomed_train_7153.jpg: ignoring corrupt image/label: negative label values [  -0.018741   -0.028673   -0.029985   -0.028298   -0.028673   -0.028486   -0.026799   -0.029048   -0.013993]\n",
      "\u001b[34m\u001b[1mtrain: \u001b[0mWARNING ⚠️ /Volumes/Cucumber/Projects/datasets/2025-06-11/sku110k-merged-yolo/train/images/zoomed_train_7158.jpg: ignoring corrupt image/label: negative label values [  -0.031461]\n",
      "\u001b[34m\u001b[1mtrain: \u001b[0mWARNING ⚠️ /Volumes/Cucumber/Projects/datasets/2025-06-11/sku110k-merged-yolo/train/images/zoomed_train_7164.jpg: ignoring corrupt image/label: negative label values [  -0.007232   -0.003616   -0.020381   -0.019395]\n",
      "\u001b[34m\u001b[1mtrain: \u001b[0mWARNING ⚠️ /Volumes/Cucumber/Projects/datasets/2025-06-11/sku110k-merged-yolo/train/images/zoomed_train_7165.jpg: ignoring corrupt image/label: non-normalized or out of bounds coordinates [     1.0032      1.0021      1.0033      1.0063]\n",
      "\u001b[34m\u001b[1mtrain: \u001b[0mWARNING ⚠️ /Volumes/Cucumber/Projects/datasets/2025-06-11/sku110k-merged-yolo/train/images/zoomed_train_7178.jpg: ignoring corrupt image/label: negative label values [  -0.033729   -0.010339   -0.009661   -0.002881   -0.002881   -0.002712   -0.006112   -0.011864   -0.015424]\n",
      "\u001b[34m\u001b[1mtrain: \u001b[0mWARNING ⚠️ /Volumes/Cucumber/Projects/datasets/2025-06-11/sku110k-merged-yolo/train/images/zoomed_train_7211.jpg: ignoring corrupt image/label: non-normalized or out of bounds coordinates [     1.0028      1.0071]\n",
      "\u001b[34m\u001b[1mtrain: \u001b[0mWARNING ⚠️ /Volumes/Cucumber/Projects/datasets/2025-06-11/sku110k-merged-yolo/train/images/zoomed_train_7221.jpg: ignoring corrupt image/label: non-normalized or out of bounds coordinates [       1.01      1.0074      1.0104      1.0122      1.0019      1.0019]\n",
      "\u001b[34m\u001b[1mtrain: \u001b[0mWARNING ⚠️ /Volumes/Cucumber/Projects/datasets/2025-06-11/sku110k-merged-yolo/train/images/zoomed_train_7240.jpg: ignoring corrupt image/label: non-normalized or out of bounds coordinates [     1.0172        1.01      1.0186       1.022       1.022]\n",
      "\u001b[34m\u001b[1mtrain: \u001b[0mWARNING ⚠️ /Volumes/Cucumber/Projects/datasets/2025-06-11/sku110k-merged-yolo/train/images/zoomed_train_7242.jpg: ignoring corrupt image/label: non-normalized or out of bounds coordinates [     1.0165      1.0179      1.0152      1.0139      1.0161       1.013      1.0117      1.0117]\n",
      "\u001b[34m\u001b[1mtrain: \u001b[0mWARNING ⚠️ /Volumes/Cucumber/Projects/datasets/2025-06-11/sku110k-merged-yolo/train/images/zoomed_train_7253.jpg: ignoring corrupt image/label: non-normalized or out of bounds coordinates [     1.0103      1.0013      1.0046        1.03      1.0005]\n",
      "\u001b[34m\u001b[1mtrain: \u001b[0mWARNING ⚠️ /Volumes/Cucumber/Projects/datasets/2025-06-11/sku110k-merged-yolo/train/images/zoomed_train_7256.jpg: ignoring corrupt image/label: negative label values [  -0.015352]\n",
      "\u001b[34m\u001b[1mtrain: \u001b[0mWARNING ⚠️ /Volumes/Cucumber/Projects/datasets/2025-06-11/sku110k-merged-yolo/train/images/zoomed_train_7286.jpg: ignoring corrupt image/label: negative label values [  -0.004446]\n",
      "\u001b[34m\u001b[1mtrain: \u001b[0mWARNING ⚠️ /Volumes/Cucumber/Projects/datasets/2025-06-11/sku110k-merged-yolo/train/images/zoomed_train_7290.jpg: ignoring corrupt image/label: non-normalized or out of bounds coordinates [     1.0118      1.0139      1.0118      1.0002      1.0164]\n",
      "\u001b[34m\u001b[1mtrain: \u001b[0mWARNING ⚠️ /Volumes/Cucumber/Projects/datasets/2025-06-11/sku110k-merged-yolo/train/images/zoomed_train_731.jpg: ignoring corrupt image/label: non-normalized or out of bounds coordinates [      1.015]\n",
      "\u001b[34m\u001b[1mtrain: \u001b[0mWARNING ⚠️ /Volumes/Cucumber/Projects/datasets/2025-06-11/sku110k-merged-yolo/train/images/zoomed_train_7329.jpg: ignoring corrupt image/label: non-normalized or out of bounds coordinates [     1.0064      1.0059      1.0042      1.0055       1.002      1.0026      1.0033      1.0024       1.002      1.0031      1.0033      1.0046      1.0029]\n",
      "\u001b[34m\u001b[1mtrain: \u001b[0mWARNING ⚠️ /Volumes/Cucumber/Projects/datasets/2025-06-11/sku110k-merged-yolo/train/images/zoomed_train_7336.jpg: ignoring corrupt image/label: negative label values [    -0.0235   -0.022661   -0.019933   -0.004764   -0.001681]\n",
      "\u001b[34m\u001b[1mtrain: \u001b[0mWARNING ⚠️ /Volumes/Cucumber/Projects/datasets/2025-06-11/sku110k-merged-yolo/train/images/zoomed_train_7354.jpg: ignoring corrupt image/label: negative label values [  -0.012747]\n",
      "\u001b[34m\u001b[1mtrain: \u001b[0mWARNING ⚠️ /Volumes/Cucumber/Projects/datasets/2025-06-11/sku110k-merged-yolo/train/images/zoomed_train_736.jpg: ignoring corrupt image/label: non-normalized or out of bounds coordinates [     1.0091       1.004]\n",
      "\u001b[34m\u001b[1mtrain: \u001b[0mWARNING ⚠️ /Volumes/Cucumber/Projects/datasets/2025-06-11/sku110k-merged-yolo/train/images/zoomed_train_7365.jpg: ignoring corrupt image/label: non-normalized or out of bounds coordinates [     1.0087      1.0051      1.0019      1.0051]\n",
      "\u001b[34m\u001b[1mtrain: \u001b[0mWARNING ⚠️ /Volumes/Cucumber/Projects/datasets/2025-06-11/sku110k-merged-yolo/train/images/zoomed_train_7372.jpg: ignoring corrupt image/label: negative label values [  -0.019061]\n",
      "\u001b[34m\u001b[1mtrain: \u001b[0mWARNING ⚠️ /Volumes/Cucumber/Projects/datasets/2025-06-11/sku110k-merged-yolo/train/images/zoomed_train_7378.jpg: ignoring corrupt image/label: non-normalized or out of bounds coordinates [     1.0186]\n",
      "\u001b[34m\u001b[1mtrain: \u001b[0mWARNING ⚠️ /Volumes/Cucumber/Projects/datasets/2025-06-11/sku110k-merged-yolo/train/images/zoomed_train_7380.jpg: ignoring corrupt image/label: negative label values [  -0.009444]\n",
      "\u001b[34m\u001b[1mtrain: \u001b[0mWARNING ⚠️ /Volumes/Cucumber/Projects/datasets/2025-06-11/sku110k-merged-yolo/train/images/zoomed_train_7386.jpg: ignoring corrupt image/label: negative label values [  -0.007594]\n",
      "\u001b[34m\u001b[1mtrain: \u001b[0mWARNING ⚠️ /Volumes/Cucumber/Projects/datasets/2025-06-11/sku110k-merged-yolo/train/images/zoomed_train_739.jpg: ignoring corrupt image/label: non-normalized or out of bounds coordinates [     1.0002       1.002]\n",
      "\u001b[34m\u001b[1mtrain: \u001b[0mWARNING ⚠️ /Volumes/Cucumber/Projects/datasets/2025-06-11/sku110k-merged-yolo/train/images/zoomed_train_7401.jpg: ignoring corrupt image/label: non-normalized or out of bounds coordinates [     1.0105      1.0116      1.0109      1.0098      1.0061      1.0119]\n",
      "\u001b[34m\u001b[1mtrain: \u001b[0mWARNING ⚠️ /Volumes/Cucumber/Projects/datasets/2025-06-11/sku110k-merged-yolo/train/images/zoomed_train_7403.jpg: ignoring corrupt image/label: non-normalized or out of bounds coordinates [     1.0269      1.0359]\n",
      "\u001b[34m\u001b[1mtrain: \u001b[0mWARNING ⚠️ /Volumes/Cucumber/Projects/datasets/2025-06-11/sku110k-merged-yolo/train/images/zoomed_train_7413.jpg: ignoring corrupt image/label: negative label values [  -0.025346]\n",
      "\u001b[34m\u001b[1mtrain: \u001b[0mWARNING ⚠️ /Volumes/Cucumber/Projects/datasets/2025-06-11/sku110k-merged-yolo/train/images/zoomed_train_7419.jpg: ignoring corrupt image/label: non-normalized or out of bounds coordinates [     1.0057]\n",
      "\u001b[34m\u001b[1mtrain: \u001b[0mWARNING ⚠️ /Volumes/Cucumber/Projects/datasets/2025-06-11/sku110k-merged-yolo/train/images/zoomed_train_7425.jpg: ignoring corrupt image/label: non-normalized or out of bounds coordinates [     1.0141      1.0172      1.0287]\n",
      "\u001b[34m\u001b[1mtrain: \u001b[0mWARNING ⚠️ /Volumes/Cucumber/Projects/datasets/2025-06-11/sku110k-merged-yolo/train/images/zoomed_train_7463.jpg: ignoring corrupt image/label: non-normalized or out of bounds coordinates [     1.0074]\n",
      "\u001b[34m\u001b[1mtrain: \u001b[0mWARNING ⚠️ /Volumes/Cucumber/Projects/datasets/2025-06-11/sku110k-merged-yolo/train/images/zoomed_train_7471.jpg: ignoring corrupt image/label: non-normalized or out of bounds coordinates [     1.0004]\n",
      "\u001b[34m\u001b[1mtrain: \u001b[0mWARNING ⚠️ /Volumes/Cucumber/Projects/datasets/2025-06-11/sku110k-merged-yolo/train/images/zoomed_train_7480.jpg: ignoring corrupt image/label: non-normalized or out of bounds coordinates [     1.0097      1.0114      1.0134      1.0161      1.0201      1.0154]\n",
      "\u001b[34m\u001b[1mtrain: \u001b[0mWARNING ⚠️ /Volumes/Cucumber/Projects/datasets/2025-06-11/sku110k-merged-yolo/train/images/zoomed_train_7481.jpg: ignoring corrupt image/label: negative label values [  -0.034874   -0.034333]\n",
      "\u001b[34m\u001b[1mtrain: \u001b[0mWARNING ⚠️ /Volumes/Cucumber/Projects/datasets/2025-06-11/sku110k-merged-yolo/train/images/zoomed_train_7483.jpg: ignoring corrupt image/label: non-normalized or out of bounds coordinates [     1.0065]\n",
      "\u001b[34m\u001b[1mtrain: \u001b[0mWARNING ⚠️ /Volumes/Cucumber/Projects/datasets/2025-06-11/sku110k-merged-yolo/train/images/zoomed_train_7507.jpg: ignoring corrupt image/label: negative label values [  -0.015657   -0.018939   -0.019949   -0.021465    -0.02197   -0.014478   -0.006397   -0.006061]\n",
      "\u001b[34m\u001b[1mtrain: \u001b[0mWARNING ⚠️ /Volumes/Cucumber/Projects/datasets/2025-06-11/sku110k-merged-yolo/train/images/zoomed_train_7508.jpg: ignoring corrupt image/label: negative label values [  -0.017105]\n",
      "\u001b[34m\u001b[1mtrain: \u001b[0mWARNING ⚠️ /Volumes/Cucumber/Projects/datasets/2025-06-11/sku110k-merged-yolo/train/images/zoomed_train_7509.jpg: ignoring corrupt image/label: negative label values [  -0.008667   -0.007855]\n",
      "\u001b[34m\u001b[1mtrain: \u001b[0mWARNING ⚠️ /Volumes/Cucumber/Projects/datasets/2025-06-11/sku110k-merged-yolo/train/images/zoomed_train_7553.jpg: ignoring corrupt image/label: negative label values [   -0.01185   -0.004175   -0.025052]\n",
      "\u001b[34m\u001b[1mtrain: \u001b[0mWARNING ⚠️ /Volumes/Cucumber/Projects/datasets/2025-06-11/sku110k-merged-yolo/train/images/zoomed_train_7559.jpg: ignoring corrupt image/label: negative label values [  -0.003865   -0.015462]\n",
      "\u001b[34m\u001b[1mtrain: \u001b[0mWARNING ⚠️ /Volumes/Cucumber/Projects/datasets/2025-06-11/sku110k-merged-yolo/train/images/zoomed_train_7565.jpg: ignoring corrupt image/label: non-normalized or out of bounds coordinates [     1.0034]\n",
      "\u001b[34m\u001b[1mtrain: \u001b[0mWARNING ⚠️ /Volumes/Cucumber/Projects/datasets/2025-06-11/sku110k-merged-yolo/train/images/zoomed_train_7572.jpg: ignoring corrupt image/label: non-normalized or out of bounds coordinates [     1.0215      1.0039       1.006]\n",
      "\u001b[34m\u001b[1mtrain: \u001b[0mWARNING ⚠️ /Volumes/Cucumber/Projects/datasets/2025-06-11/sku110k-merged-yolo/train/images/zoomed_train_7583.jpg: ignoring corrupt image/label: non-normalized or out of bounds coordinates [     1.0105      1.0119      1.0051      1.0113      1.0133      1.0057       1.002]\n",
      "\u001b[34m\u001b[1mtrain: \u001b[0mWARNING ⚠️ /Volumes/Cucumber/Projects/datasets/2025-06-11/sku110k-merged-yolo/train/images/zoomed_train_76.jpg: ignoring corrupt image/label: non-normalized or out of bounds coordinates [     1.0227]\n",
      "\u001b[34m\u001b[1mtrain: \u001b[0mWARNING ⚠️ /Volumes/Cucumber/Projects/datasets/2025-06-11/sku110k-merged-yolo/train/images/zoomed_train_7613.jpg: ignoring corrupt image/label: non-normalized or out of bounds coordinates [     1.0216      1.0045      1.0053      1.0004      1.0094      1.0072]\n",
      "\u001b[34m\u001b[1mtrain: \u001b[0mWARNING ⚠️ /Volumes/Cucumber/Projects/datasets/2025-06-11/sku110k-merged-yolo/train/images/zoomed_train_7626.jpg: ignoring corrupt image/label: negative label values [  -0.015023]\n",
      "\u001b[34m\u001b[1mtrain: \u001b[0mWARNING ⚠️ /Volumes/Cucumber/Projects/datasets/2025-06-11/sku110k-merged-yolo/train/images/zoomed_train_763.jpg: ignoring corrupt image/label: non-normalized or out of bounds coordinates [     1.0288      1.0347      1.0341      1.0034]\n",
      "\u001b[34m\u001b[1mtrain: \u001b[0mWARNING ⚠️ /Volumes/Cucumber/Projects/datasets/2025-06-11/sku110k-merged-yolo/train/images/zoomed_train_7652.jpg: ignoring corrupt image/label: negative label values [  -0.027977   -0.028659]\n",
      "\u001b[34m\u001b[1mtrain: \u001b[0mWARNING ⚠️ /Volumes/Cucumber/Projects/datasets/2025-06-11/sku110k-merged-yolo/train/images/zoomed_train_768.jpg: ignoring corrupt image/label: non-normalized or out of bounds coordinates [     1.0039      1.0093      1.0166]\n",
      "\u001b[34m\u001b[1mtrain: \u001b[0mWARNING ⚠️ /Volumes/Cucumber/Projects/datasets/2025-06-11/sku110k-merged-yolo/train/images/zoomed_train_7705.jpg: ignoring corrupt image/label: negative label values [  -0.002548   -0.007876]\n",
      "\u001b[34m\u001b[1mtrain: \u001b[0mWARNING ⚠️ /Volumes/Cucumber/Projects/datasets/2025-06-11/sku110k-merged-yolo/train/images/zoomed_train_7727.jpg: ignoring corrupt image/label: non-normalized or out of bounds coordinates [     1.0008]\n",
      "\u001b[34m\u001b[1mtrain: \u001b[0mWARNING ⚠️ /Volumes/Cucumber/Projects/datasets/2025-06-11/sku110k-merged-yolo/train/images/zoomed_train_7749.jpg: ignoring corrupt image/label: non-normalized or out of bounds coordinates [     1.0087      1.0063]\n",
      "\u001b[34m\u001b[1mtrain: \u001b[0mWARNING ⚠️ /Volumes/Cucumber/Projects/datasets/2025-06-11/sku110k-merged-yolo/train/images/zoomed_train_7754.jpg: ignoring corrupt image/label: non-normalized or out of bounds coordinates [     1.0043      1.0278]\n",
      "\u001b[34m\u001b[1mtrain: \u001b[0mWARNING ⚠️ /Volumes/Cucumber/Projects/datasets/2025-06-11/sku110k-merged-yolo/train/images/zoomed_train_7762.jpg: ignoring corrupt image/label: non-normalized or out of bounds coordinates [     1.0071      1.0088      1.0138      1.0142]\n",
      "\u001b[34m\u001b[1mtrain: \u001b[0mWARNING ⚠️ /Volumes/Cucumber/Projects/datasets/2025-06-11/sku110k-merged-yolo/train/images/zoomed_train_7777.jpg: ignoring corrupt image/label: non-normalized or out of bounds coordinates [     1.0021      1.0214      1.0304      1.0158]\n",
      "\u001b[34m\u001b[1mtrain: \u001b[0mWARNING ⚠️ /Volumes/Cucumber/Projects/datasets/2025-06-11/sku110k-merged-yolo/train/images/zoomed_train_7788.jpg: ignoring corrupt image/label: non-normalized or out of bounds coordinates [     1.0015]\n",
      "\u001b[34m\u001b[1mtrain: \u001b[0mWARNING ⚠️ /Volumes/Cucumber/Projects/datasets/2025-06-11/sku110k-merged-yolo/train/images/zoomed_train_7806.jpg: ignoring corrupt image/label: non-normalized or out of bounds coordinates [     1.0142      1.0145]\n",
      "\u001b[34m\u001b[1mtrain: \u001b[0mWARNING ⚠️ /Volumes/Cucumber/Projects/datasets/2025-06-11/sku110k-merged-yolo/train/images/zoomed_train_7830.jpg: ignoring corrupt image/label: negative label values [  -0.009234   -0.005456]\n",
      "\u001b[34m\u001b[1mtrain: \u001b[0mWARNING ⚠️ /Volumes/Cucumber/Projects/datasets/2025-06-11/sku110k-merged-yolo/train/images/zoomed_train_7866.jpg: ignoring corrupt image/label: negative label values [  -0.009825   -0.003486   -0.003486   -0.004754   -0.009191]\n",
      "\u001b[34m\u001b[1mtrain: \u001b[0mWARNING ⚠️ /Volumes/Cucumber/Projects/datasets/2025-06-11/sku110k-merged-yolo/train/images/zoomed_train_7882.jpg: ignoring corrupt image/label: non-normalized or out of bounds coordinates [     1.0021      1.0208      1.0089      1.0116]\n",
      "\u001b[34m\u001b[1mtrain: \u001b[0mWARNING ⚠️ /Volumes/Cucumber/Projects/datasets/2025-06-11/sku110k-merged-yolo/train/images/zoomed_train_7895.jpg: ignoring corrupt image/label: non-normalized or out of bounds coordinates [     1.0038      1.0024]\n",
      "\u001b[34m\u001b[1mtrain: \u001b[0mWARNING ⚠️ /Volumes/Cucumber/Projects/datasets/2025-06-11/sku110k-merged-yolo/train/images/zoomed_train_79.jpg: ignoring corrupt image/label: negative label values [  -0.007136   -0.008563]\n",
      "\u001b[34m\u001b[1mtrain: \u001b[0mWARNING ⚠️ /Volumes/Cucumber/Projects/datasets/2025-06-11/sku110k-merged-yolo/train/images/zoomed_train_790.jpg: ignoring corrupt image/label: non-normalized or out of bounds coordinates [     1.0016]\n",
      "\u001b[34m\u001b[1mtrain: \u001b[0mWARNING ⚠️ /Volumes/Cucumber/Projects/datasets/2025-06-11/sku110k-merged-yolo/train/images/zoomed_train_7905.jpg: ignoring corrupt image/label: negative label values [  -0.003084]\n",
      "\u001b[34m\u001b[1mtrain: \u001b[0mWARNING ⚠️ /Volumes/Cucumber/Projects/datasets/2025-06-11/sku110k-merged-yolo/train/images/zoomed_train_7912.jpg: ignoring corrupt image/label: negative label values [  -0.016148   -0.021356]\n",
      "\u001b[34m\u001b[1mtrain: \u001b[0mWARNING ⚠️ /Volumes/Cucumber/Projects/datasets/2025-06-11/sku110k-merged-yolo/train/images/zoomed_train_7960.jpg: ignoring corrupt image/label: negative label values [  -0.031579]\n",
      "\u001b[34m\u001b[1mtrain: \u001b[0mWARNING ⚠️ /Volumes/Cucumber/Projects/datasets/2025-06-11/sku110k-merged-yolo/train/images/zoomed_train_7983.jpg: ignoring corrupt image/label: non-normalized or out of bounds coordinates [     1.0486]\n",
      "\u001b[34m\u001b[1mtrain: \u001b[0mWARNING ⚠️ /Volumes/Cucumber/Projects/datasets/2025-06-11/sku110k-merged-yolo/train/images/zoomed_train_7986.jpg: ignoring corrupt image/label: non-normalized or out of bounds coordinates [     1.0002]\n",
      "\u001b[34m\u001b[1mtrain: \u001b[0mWARNING ⚠️ /Volumes/Cucumber/Projects/datasets/2025-06-11/sku110k-merged-yolo/train/images/zoomed_train_80.jpg: ignoring corrupt image/label: negative label values [   -0.00299]\n",
      "\u001b[34m\u001b[1mtrain: \u001b[0mWARNING ⚠️ /Volumes/Cucumber/Projects/datasets/2025-06-11/sku110k-merged-yolo/train/images/zoomed_train_8017.jpg: ignoring corrupt image/label: non-normalized or out of bounds coordinates [     1.0211      1.0101]\n",
      "\u001b[34m\u001b[1mtrain: \u001b[0mWARNING ⚠️ /Volumes/Cucumber/Projects/datasets/2025-06-11/sku110k-merged-yolo/train/images/zoomed_train_8024.jpg: ignoring corrupt image/label: non-normalized or out of bounds coordinates [     1.0097      1.0049      1.0009]\n",
      "\u001b[34m\u001b[1mtrain: \u001b[0mWARNING ⚠️ /Volumes/Cucumber/Projects/datasets/2025-06-11/sku110k-merged-yolo/train/images/zoomed_train_803.jpg: ignoring corrupt image/label: negative label values [  -0.004213   -0.000702]\n",
      "\u001b[34m\u001b[1mtrain: \u001b[0mWARNING ⚠️ /Volumes/Cucumber/Projects/datasets/2025-06-11/sku110k-merged-yolo/train/images/zoomed_train_8082.jpg: ignoring corrupt image/label: non-normalized or out of bounds coordinates [     1.0058]\n",
      "\u001b[34m\u001b[1mtrain: \u001b[0mWARNING ⚠️ /Volumes/Cucumber/Projects/datasets/2025-06-11/sku110k-merged-yolo/train/images/zoomed_train_8089.jpg: ignoring corrupt image/label: non-normalized or out of bounds coordinates [     1.0042      1.0029       1.004      1.0033      1.0013       1.002]\n",
      "\u001b[34m\u001b[1mtrain: \u001b[0mWARNING ⚠️ /Volumes/Cucumber/Projects/datasets/2025-06-11/sku110k-merged-yolo/train/images/zoomed_train_8103.jpg: ignoring corrupt image/label: non-normalized or out of bounds coordinates [     1.0054      1.0079]\n",
      "\u001b[34m\u001b[1mtrain: \u001b[0mWARNING ⚠️ /Volumes/Cucumber/Projects/datasets/2025-06-11/sku110k-merged-yolo/train/images/zoomed_train_8105.jpg: ignoring corrupt image/label: non-normalized or out of bounds coordinates [     1.0521       1.046      1.0469       1.046      1.0044]\n",
      "\u001b[34m\u001b[1mtrain: \u001b[0mWARNING ⚠️ /Volumes/Cucumber/Projects/datasets/2025-06-11/sku110k-merged-yolo/train/images/zoomed_train_8107.jpg: ignoring corrupt image/label: non-normalized or out of bounds coordinates [     1.0096      1.0078      1.0036]\n",
      "\u001b[34m\u001b[1mtrain: \u001b[0mWARNING ⚠️ /Volumes/Cucumber/Projects/datasets/2025-06-11/sku110k-merged-yolo/train/images/zoomed_train_8115.jpg: ignoring corrupt image/label: negative label values [  -0.010963]\n",
      "\u001b[34m\u001b[1mtrain: \u001b[0mWARNING ⚠️ /Volumes/Cucumber/Projects/datasets/2025-06-11/sku110k-merged-yolo/train/images/zoomed_train_8120.jpg: ignoring corrupt image/label: non-normalized or out of bounds coordinates [      1.009      1.0011]\n",
      "\u001b[34m\u001b[1mtrain: \u001b[0mWARNING ⚠️ /Volumes/Cucumber/Projects/datasets/2025-06-11/sku110k-merged-yolo/train/images/zoomed_train_8125.jpg: ignoring corrupt image/label: non-normalized or out of bounds coordinates [     1.0127]\n",
      "\u001b[34m\u001b[1mtrain: \u001b[0mWARNING ⚠️ /Volumes/Cucumber/Projects/datasets/2025-06-11/sku110k-merged-yolo/train/images/zoomed_train_8155.jpg: ignoring corrupt image/label: non-normalized or out of bounds coordinates [     1.0161      1.0059]\n",
      "\u001b[34m\u001b[1mtrain: \u001b[0mWARNING ⚠️ /Volumes/Cucumber/Projects/datasets/2025-06-11/sku110k-merged-yolo/train/images/zoomed_train_8165.jpg: ignoring corrupt image/label: negative label values [  -0.017241]\n",
      "\u001b[34m\u001b[1mtrain: \u001b[0mWARNING ⚠️ /Volumes/Cucumber/Projects/datasets/2025-06-11/sku110k-merged-yolo/train/images/zoomed_train_817.jpg: ignoring corrupt image/label: negative label values [  -0.013733   -0.036622   -0.037766   -0.014878]\n",
      "\u001b[34m\u001b[1mtrain: \u001b[0mWARNING ⚠️ /Volumes/Cucumber/Projects/datasets/2025-06-11/sku110k-merged-yolo/train/images/zoomed_train_8179.jpg: ignoring corrupt image/label: negative label values [   -0.03706]\n",
      "\u001b[34m\u001b[1mtrain: \u001b[0mWARNING ⚠️ /Volumes/Cucumber/Projects/datasets/2025-06-11/sku110k-merged-yolo/train/images/zoomed_train_82.jpg: ignoring corrupt image/label: non-normalized or out of bounds coordinates [     1.0011]\n",
      "\u001b[34m\u001b[1mtrain: \u001b[0mWARNING ⚠️ /Volumes/Cucumber/Projects/datasets/2025-06-11/sku110k-merged-yolo/train/images/zoomed_train_822.jpg: ignoring corrupt image/label: non-normalized or out of bounds coordinates [     1.0058      1.0279      1.0336      1.0308]\n",
      "\u001b[34m\u001b[1mtrain: \u001b[0mWARNING ⚠️ /Volumes/Cucumber/Projects/datasets/2025-06-11/sku110k-merged-yolo/train/images/zoomed_train_833.jpg: ignoring corrupt image/label: non-normalized or out of bounds coordinates [     1.0116]\n",
      "\u001b[34m\u001b[1mtrain: \u001b[0mWARNING ⚠️ /Volumes/Cucumber/Projects/datasets/2025-06-11/sku110k-merged-yolo/train/images/zoomed_train_838.jpg: ignoring corrupt image/label: non-normalized or out of bounds coordinates [     1.0712      1.0628      1.0529      1.0394      1.0332      1.0503]\n",
      "\u001b[34m\u001b[1mtrain: \u001b[0mWARNING ⚠️ /Volumes/Cucumber/Projects/datasets/2025-06-11/sku110k-merged-yolo/train/images/zoomed_train_841.jpg: ignoring corrupt image/label: non-normalized or out of bounds coordinates [     1.0098]\n",
      "\u001b[34m\u001b[1mtrain: \u001b[0mWARNING ⚠️ /Volumes/Cucumber/Projects/datasets/2025-06-11/sku110k-merged-yolo/train/images/zoomed_train_842.jpg: ignoring corrupt image/label: non-normalized or out of bounds coordinates [     1.0237      1.0159      1.0089      1.0137      1.0136      1.0054]\n",
      "\u001b[34m\u001b[1mtrain: \u001b[0mWARNING ⚠️ /Volumes/Cucumber/Projects/datasets/2025-06-11/sku110k-merged-yolo/train/images/zoomed_train_855.jpg: ignoring corrupt image/label: negative label values [  -0.006667   -0.019216]\n",
      "\u001b[34m\u001b[1mtrain: \u001b[0mWARNING ⚠️ /Volumes/Cucumber/Projects/datasets/2025-06-11/sku110k-merged-yolo/train/images/zoomed_train_882.jpg: ignoring corrupt image/label: negative label values [  -0.018088   -0.024733]\n",
      "\u001b[34m\u001b[1mtrain: \u001b[0mWARNING ⚠️ /Volumes/Cucumber/Projects/datasets/2025-06-11/sku110k-merged-yolo/train/images/zoomed_train_883.jpg: ignoring corrupt image/label: negative label values [  -0.029896   -0.021965]\n",
      "\u001b[34m\u001b[1mtrain: \u001b[0mWARNING ⚠️ /Volumes/Cucumber/Projects/datasets/2025-06-11/sku110k-merged-yolo/train/images/zoomed_train_886.jpg: ignoring corrupt image/label: non-normalized or out of bounds coordinates [      1.284]\n",
      "\u001b[34m\u001b[1mtrain: \u001b[0mWARNING ⚠️ /Volumes/Cucumber/Projects/datasets/2025-06-11/sku110k-merged-yolo/train/images/zoomed_train_887.jpg: ignoring corrupt image/label: non-normalized or out of bounds coordinates [     1.0034      1.0063      1.0007]\n",
      "\u001b[34m\u001b[1mtrain: \u001b[0mWARNING ⚠️ /Volumes/Cucumber/Projects/datasets/2025-06-11/sku110k-merged-yolo/train/images/zoomed_train_890.jpg: ignoring corrupt image/label: non-normalized or out of bounds coordinates [     1.0042]\n",
      "\u001b[34m\u001b[1mtrain: \u001b[0mWARNING ⚠️ /Volumes/Cucumber/Projects/datasets/2025-06-11/sku110k-merged-yolo/train/images/zoomed_train_891.jpg: ignoring corrupt image/label: non-normalized or out of bounds coordinates [     1.0476]\n",
      "\u001b[34m\u001b[1mtrain: \u001b[0mWARNING ⚠️ /Volumes/Cucumber/Projects/datasets/2025-06-11/sku110k-merged-yolo/train/images/zoomed_train_908.jpg: ignoring corrupt image/label: non-normalized or out of bounds coordinates [     1.0172      1.0139]\n",
      "\u001b[34m\u001b[1mtrain: \u001b[0mWARNING ⚠️ /Volumes/Cucumber/Projects/datasets/2025-06-11/sku110k-merged-yolo/train/images/zoomed_train_910.jpg: ignoring corrupt image/label: negative label values [  -0.005439   -0.007857   -0.019038]\n",
      "\u001b[34m\u001b[1mtrain: \u001b[0mWARNING ⚠️ /Volumes/Cucumber/Projects/datasets/2025-06-11/sku110k-merged-yolo/train/images/zoomed_train_94.jpg: ignoring corrupt image/label: non-normalized or out of bounds coordinates [     1.0191       1.018]\n",
      "\u001b[34m\u001b[1mtrain: \u001b[0mWARNING ⚠️ /Volumes/Cucumber/Projects/datasets/2025-06-11/sku110k-merged-yolo/train/images/zoomed_train_951.jpg: ignoring corrupt image/label: non-normalized or out of bounds coordinates [      1.017      1.0189      1.0189      1.0117      1.0176      1.0117       1.013      1.0111      1.0085      1.0117      1.0111      1.0098      1.0085      1.0052      1.0059      1.0039]\n",
      "\u001b[34m\u001b[1mtrain: \u001b[0mWARNING ⚠️ /Volumes/Cucumber/Projects/datasets/2025-06-11/sku110k-merged-yolo/train/images/zoomed_train_952.jpg: ignoring corrupt image/label: non-normalized or out of bounds coordinates [     1.0021      1.0084       1.003]\n",
      "\u001b[34m\u001b[1mtrain: \u001b[0mWARNING ⚠️ /Volumes/Cucumber/Projects/datasets/2025-06-11/sku110k-merged-yolo/train/images/zoomed_train_954.jpg: ignoring corrupt image/label: non-normalized or out of bounds coordinates [     1.0152      1.0184        1.02]\n",
      "\u001b[34m\u001b[1mtrain: \u001b[0mWARNING ⚠️ /Volumes/Cucumber/Projects/datasets/2025-06-11/sku110k-merged-yolo/train/images/zoomed_train_959.jpg: ignoring corrupt image/label: negative label values [  -0.014493]\n",
      "\u001b[34m\u001b[1mtrain: \u001b[0mWARNING ⚠️ /Volumes/Cucumber/Projects/datasets/2025-06-11/sku110k-merged-yolo/train/images/zoomed_train_989.jpg: ignoring corrupt image/label: non-normalized or out of bounds coordinates [     1.0051      1.0065      1.0112      1.0075]\n",
      "\u001b[34m\u001b[1mtrain: \u001b[0mWARNING ⚠️ /Volumes/Cucumber/Projects/datasets/2025-06-11/sku110k-merged-yolo/train/images/zoomed_train_997.jpg: ignoring corrupt image/label: non-normalized or out of bounds coordinates [     1.0141      1.0152      1.0224      1.0036      1.0285      1.0323      1.0379]\n"
     ]
    },
    {
     "name": "stderr",
     "output_type": "stream",
     "text": [
      "\n",
      "/Volumes/Cucumber/Projects/item-identification/.venv/lib/python3.9/site-packages/tqdm/auto.py:21: TqdmWarning: IProgress not found. Please update jupyter and ipywidgets. See https://ipywidgets.readthedocs.io/en/stable/user_install.html\n",
      "  from .autonotebook import tqdm as notebook_tqdm\n"
     ]
    },
    {
     "name": "stdout",
     "output_type": "stream",
     "text": [
      "\u001b[34m\u001b[1malbumentations: \u001b[0mBlur(p=0.01, blur_limit=(3, 7)), MedianBlur(p=0.01, blur_limit=(3, 7)), ToGray(p=0.01, method='weighted_average', num_output_channels=3), CLAHE(p=0.01, clip_limit=(1.0, 4.0), tile_grid_size=(8, 8))\n",
      "\u001b[34m\u001b[1mval: \u001b[0mFast image access ✅ (ping: 0.0±0.0 ms, read: 232.5±14.4 MB/s, size: 88.6 KB)\n"
     ]
    },
    {
     "name": "stderr",
     "output_type": "stream",
     "text": [
      "\u001b[34m\u001b[1mval: \u001b[0mScanning /Volumes/Cucumber/Projects/datasets/2025-06-11/sku110k-merged-yolo/val/labels.cache... 30 images, 0 backgrounds, 1 corrupt: 100%|██████████| 30/30 [00:00<?, ?it/s]"
     ]
    },
    {
     "name": "stdout",
     "output_type": "stream",
     "text": [
      "\u001b[34m\u001b[1mval: \u001b[0mWARNING ⚠️ /Volumes/Cucumber/Projects/datasets/2025-06-11/sku110k-merged-yolo/val/images/4c5ad252fd2313b52753659c8b59159d.jpeg: ignoring corrupt image/label: non-normalized or out of bounds coordinates [     1.2882]\n",
      "Plotting labels to /Volumes/Cucumber/Projects/item-identification/runs/detect/finetune-v11/labels.jpg... \n"
     ]
    },
    {
     "name": "stderr",
     "output_type": "stream",
     "text": [
      "\n"
     ]
    },
    {
     "name": "stdout",
     "output_type": "stream",
     "text": [
      "\u001b[34m\u001b[1moptimizer:\u001b[0m 'optimizer=auto' found, ignoring 'lr0=0.01' and 'momentum=0.937' and determining best 'optimizer', 'lr0' and 'momentum' automatically... \n",
      "\u001b[34m\u001b[1moptimizer:\u001b[0m AdamW(lr=9.5e-05, momentum=0.9) with parameter groups 81 weight(decay=0.0), 88 weight(decay=0.0005), 87 bias(decay=0.0)\n"
     ]
    },
    {
     "name": "stderr",
     "output_type": "stream",
     "text": [
      "2025/06/11 11:44:09 WARNING mlflow.utils.autologging_utils: MLflow keras autologging is known to be compatible with 3.0.2 <= keras <= 3.8.0, but the installed version is 3.9.2. If you encounter errors during autologging, try upgrading / downgrading keras to a compatible version, or try upgrading MLflow.\n",
      "2025/06/11 11:44:09 INFO mlflow.tracking.fluent: Autologging successfully enabled for keras.\n",
      "2025/06/11 11:44:10 INFO mlflow.tracking.fluent: Autologging successfully enabled for sklearn.\n",
      "2025/06/11 11:44:10 WARNING mlflow.utils.autologging_utils: MLflow tensorflow autologging is known to be compatible with 2.7.4 <= tensorflow <= 2.18.0, but the installed version is 2.18.1. If you encounter errors during autologging, try upgrading / downgrading tensorflow to a compatible version, or try upgrading MLflow.\n",
      "2025/06/11 11:44:10 INFO mlflow.tracking.fluent: Autologging successfully enabled for tensorflow.\n"
     ]
    },
    {
     "name": "stdout",
     "output_type": "stream",
     "text": [
      "\u001b[34m\u001b[1mMLflow: \u001b[0mlogging run_id(f621a88ddfad45b9b0d5a7aafc095dae) to http://jimica.ddns.net:5050\n",
      "\u001b[34m\u001b[1mMLflow: \u001b[0mdisable with 'yolo settings mlflow=False'\n",
      "\u001b[34m\u001b[1mTensorBoard: \u001b[0mmodel graph visualization added ✅\n",
      "Image sizes 640 train, 640 val\n",
      "Using 0 dataloader workers\n",
      "Logging results to \u001b[1m/Volumes/Cucumber/Projects/item-identification/runs/detect/finetune-v11\u001b[0m\n",
      "Starting training for 32 epochs...\n",
      "\n",
      "      Epoch    GPU_mem   box_loss   cls_loss   dfl_loss  Instances       Size\n"
     ]
    },
    {
     "name": "stderr",
     "output_type": "stream",
     "text": [
      "       1/32         0G      1.226      4.794      1.317          7        640: 100%|██████████| 818/818 [08:33<00:00,  1.59it/s]\n",
      "                 Class     Images  Instances      Box(P          R      mAP50  mAP50-95): 100%|██████████| 4/4 [00:01<00:00,  2.56it/s]\n"
     ]
    },
    {
     "name": "stdout",
     "output_type": "stream",
     "text": [
      "                   all         29        599      0.641     0.0139     0.0113    0.00482\n",
      "\n",
      "      Epoch    GPU_mem   box_loss   cls_loss   dfl_loss  Instances       Size\n"
     ]
    },
    {
     "name": "stderr",
     "output_type": "stream",
     "text": [
      "       2/32         0G      1.144      3.728       1.27         33        640: 100%|██████████| 818/818 [08:31<00:00,  1.60it/s]\n",
      "                 Class     Images  Instances      Box(P          R      mAP50  mAP50-95): 100%|██████████| 4/4 [00:01<00:00,  3.03it/s]"
     ]
    },
    {
     "name": "stdout",
     "output_type": "stream",
     "text": [
      "                   all         29        599      0.723     0.0157    0.00969    0.00425\n",
      "\n",
      "      Epoch    GPU_mem   box_loss   cls_loss   dfl_loss  Instances       Size\n"
     ]
    },
    {
     "name": "stderr",
     "output_type": "stream",
     "text": [
      "\n",
      "       3/32         0G      1.111       3.19      1.256          2        640: 100%|██████████| 818/818 [08:38<00:00,  1.58it/s]\n",
      "                 Class     Images  Instances      Box(P          R      mAP50  mAP50-95): 100%|██████████| 4/4 [00:01<00:00,  3.01it/s]"
     ]
    },
    {
     "name": "stdout",
     "output_type": "stream",
     "text": [
      "                   all         29        599      0.729     0.0159     0.0155    0.00825\n",
      "\n",
      "      Epoch    GPU_mem   box_loss   cls_loss   dfl_loss  Instances       Size\n"
     ]
    },
    {
     "name": "stderr",
     "output_type": "stream",
     "text": [
      "\n",
      "       4/32         0G      1.091        2.9      1.236          2        640: 100%|██████████| 818/818 [08:38<00:00,  1.58it/s]\n",
      "                 Class     Images  Instances      Box(P          R      mAP50  mAP50-95): 100%|██████████| 4/4 [00:01<00:00,  2.99it/s]"
     ]
    },
    {
     "name": "stdout",
     "output_type": "stream",
     "text": [
      "                   all         29        599      0.787     0.0195     0.0222     0.0126\n",
      "\n",
      "      Epoch    GPU_mem   box_loss   cls_loss   dfl_loss  Instances       Size\n"
     ]
    },
    {
     "name": "stderr",
     "output_type": "stream",
     "text": [
      "\n",
      "       5/32         0G      1.061       2.66      1.216          2        640: 100%|██████████| 818/818 [08:26<00:00,  1.61it/s]\n",
      "                 Class     Images  Instances      Box(P          R      mAP50  mAP50-95): 100%|██████████| 4/4 [00:01<00:00,  3.02it/s]"
     ]
    },
    {
     "name": "stdout",
     "output_type": "stream",
     "text": [
      "                   all         29        599      0.785     0.0174     0.0304     0.0188\n",
      "\n",
      "      Epoch    GPU_mem   box_loss   cls_loss   dfl_loss  Instances       Size\n"
     ]
    },
    {
     "name": "stderr",
     "output_type": "stream",
     "text": [
      "\n",
      "       6/32         0G      1.046      2.472      1.197          4        640: 100%|██████████| 818/818 [08:25<00:00,  1.62it/s]\n",
      "                 Class     Images  Instances      Box(P          R      mAP50  mAP50-95): 100%|██████████| 4/4 [00:01<00:00,  3.10it/s]"
     ]
    },
    {
     "name": "stdout",
     "output_type": "stream",
     "text": [
      "                   all         29        599      0.816     0.0199     0.0319     0.0207\n",
      "\n",
      "      Epoch    GPU_mem   box_loss   cls_loss   dfl_loss  Instances       Size\n"
     ]
    },
    {
     "name": "stderr",
     "output_type": "stream",
     "text": [
      "\n",
      "       7/32         0G      1.023      2.395      1.182          4        640: 100%|██████████| 818/818 [08:24<00:00,  1.62it/s]\n",
      "                 Class     Images  Instances      Box(P          R      mAP50  mAP50-95): 100%|██████████| 4/4 [00:01<00:00,  3.07it/s]"
     ]
    },
    {
     "name": "stdout",
     "output_type": "stream",
     "text": [
      "                   all         29        599     0.0463      0.121     0.0546     0.0408\n",
      "\n",
      "      Epoch    GPU_mem   box_loss   cls_loss   dfl_loss  Instances       Size\n"
     ]
    },
    {
     "name": "stderr",
     "output_type": "stream",
     "text": [
      "\n",
      "       8/32         0G          1      2.264      1.164          1        640: 100%|██████████| 818/818 [08:25<00:00,  1.62it/s]\n",
      "                 Class     Images  Instances      Box(P          R      mAP50  mAP50-95): 100%|██████████| 4/4 [00:01<00:00,  3.07it/s]"
     ]
    },
    {
     "name": "stdout",
     "output_type": "stream",
     "text": [
      "                   all         29        599      0.731     0.0174     0.0231     0.0135\n",
      "\n",
      "      Epoch    GPU_mem   box_loss   cls_loss   dfl_loss  Instances       Size\n"
     ]
    },
    {
     "name": "stderr",
     "output_type": "stream",
     "text": [
      "\n",
      "       9/32         0G      1.012      2.168      1.171          1        640: 100%|██████████| 818/818 [08:24<00:00,  1.62it/s]\n",
      "                 Class     Images  Instances      Box(P          R      mAP50  mAP50-95): 100%|██████████| 4/4 [00:01<00:00,  3.09it/s]"
     ]
    },
    {
     "name": "stdout",
     "output_type": "stream",
     "text": [
      "                   all         29        599     0.0398     0.0938     0.0426     0.0323\n",
      "\n",
      "      Epoch    GPU_mem   box_loss   cls_loss   dfl_loss  Instances       Size\n"
     ]
    },
    {
     "name": "stderr",
     "output_type": "stream",
     "text": [
      "\n",
      "      10/32         0G      1.013      2.078      1.163          4        640: 100%|██████████| 818/818 [08:26<00:00,  1.61it/s]\n",
      "                 Class     Images  Instances      Box(P          R      mAP50  mAP50-95): 100%|██████████| 4/4 [00:01<00:00,  3.05it/s]"
     ]
    },
    {
     "name": "stdout",
     "output_type": "stream",
     "text": [
      "                   all         29        599     0.0709      0.124     0.0636     0.0501\n",
      "\n",
      "      Epoch    GPU_mem   box_loss   cls_loss   dfl_loss  Instances       Size\n"
     ]
    },
    {
     "name": "stderr",
     "output_type": "stream",
     "text": [
      "\n",
      "      11/32         0G     0.9676      2.038      1.149          1        640: 100%|██████████| 818/818 [08:25<00:00,  1.62it/s]\n",
      "                 Class     Images  Instances      Box(P          R      mAP50  mAP50-95): 100%|██████████| 4/4 [00:01<00:00,  3.11it/s]"
     ]
    },
    {
     "name": "stdout",
     "output_type": "stream",
     "text": [
      "                   all         29        599     0.0461     0.0913     0.0455     0.0343\n",
      "\n",
      "      Epoch    GPU_mem   box_loss   cls_loss   dfl_loss  Instances       Size\n"
     ]
    },
    {
     "name": "stderr",
     "output_type": "stream",
     "text": [
      "\n",
      "      12/32         0G     0.9897      1.951      1.149          3        640: 100%|██████████| 818/818 [08:32<00:00,  1.60it/s]\n",
      "                 Class     Images  Instances      Box(P          R      mAP50  mAP50-95): 100%|██████████| 4/4 [00:01<00:00,  3.05it/s]"
     ]
    },
    {
     "name": "stdout",
     "output_type": "stream",
     "text": [
      "                   all         29        599     0.0508       0.11      0.072      0.056\n",
      "\n",
      "      Epoch    GPU_mem   box_loss   cls_loss   dfl_loss  Instances       Size\n"
     ]
    },
    {
     "name": "stderr",
     "output_type": "stream",
     "text": [
      "\n",
      "      13/32         0G      1.006      1.886      1.149         25        640: 100%|██████████| 818/818 [08:45<00:00,  1.56it/s]\n",
      "                 Class     Images  Instances      Box(P          R      mAP50  mAP50-95): 100%|██████████| 4/4 [00:01<00:00,  3.10it/s]"
     ]
    },
    {
     "name": "stdout",
     "output_type": "stream",
     "text": [
      "                   all         29        599     0.0659       0.15     0.0773     0.0519\n",
      "\n",
      "      Epoch    GPU_mem   box_loss   cls_loss   dfl_loss  Instances       Size\n"
     ]
    },
    {
     "name": "stderr",
     "output_type": "stream",
     "text": [
      "\n",
      "      14/32         0G     0.9835      1.825      1.135         31        640: 100%|██████████| 818/818 [08:39<00:00,  1.57it/s]\n",
      "                 Class     Images  Instances      Box(P          R      mAP50  mAP50-95): 100%|██████████| 4/4 [00:01<00:00,  2.91it/s]"
     ]
    },
    {
     "name": "stdout",
     "output_type": "stream",
     "text": [
      "                   all         29        599     0.0721      0.154     0.0922     0.0647\n",
      "\n",
      "      Epoch    GPU_mem   box_loss   cls_loss   dfl_loss  Instances       Size\n"
     ]
    },
    {
     "name": "stderr",
     "output_type": "stream",
     "text": [
      "\n",
      "      15/32         0G     0.9784      1.827      1.131          4        640: 100%|██████████| 818/818 [08:53<00:00,  1.53it/s]\n",
      "                 Class     Images  Instances      Box(P          R      mAP50  mAP50-95): 100%|██████████| 4/4 [00:01<00:00,  2.45it/s]"
     ]
    },
    {
     "name": "stdout",
     "output_type": "stream",
     "text": [
      "                   all         29        599     0.0602      0.227      0.131     0.0945\n",
      "\n",
      "      Epoch    GPU_mem   box_loss   cls_loss   dfl_loss  Instances       Size\n"
     ]
    },
    {
     "name": "stderr",
     "output_type": "stream",
     "text": [
      "\n",
      "      16/32         0G     0.9661      1.773      1.129         16        640:  33%|███▎      | 273/818 [03:22<06:43,  1.35it/s][ WARN:0@8385.316] global loadsave.cpp:268 findDecoder imread_('/Volumes/Cucumber/Projects/datasets/2025-06-11/sku110k-merged-yolo/train/images/3a526160bb41583dcad9ed4dbbef4434.jpeg'): can't open/read file: check file path/integrity\n",
      "\n"
     ]
    },
    {
     "ename": "FileNotFoundError",
     "evalue": "Image Not Found /Volumes/Cucumber/Projects/datasets/2025-06-11/sku110k-merged-yolo/train/images/3a526160bb41583dcad9ed4dbbef4434.jpeg",
     "output_type": "error",
     "traceback": [
      "\u001b[0;31m---------------------------------------------------------------------------\u001b[0m",
      "\u001b[0;31mFileNotFoundError\u001b[0m                         Traceback (most recent call last)",
      "Cell \u001b[0;32mIn[4], line 2\u001b[0m\n\u001b[1;32m      1\u001b[0m \u001b[38;5;66;03m# Train the model on your COCO-format dataset\u001b[39;00m\n\u001b[0;32m----> 2\u001b[0m \u001b[43mmodel\u001b[49m\u001b[38;5;241;43m.\u001b[39;49m\u001b[43mtrain\u001b[49m\u001b[43m(\u001b[49m\n\u001b[1;32m      3\u001b[0m \u001b[43m    \u001b[49m\u001b[43mdata\u001b[49m\u001b[38;5;241;43m=\u001b[39;49m\u001b[38;5;124;43m\"\u001b[39;49m\u001b[38;5;124;43m/Volumes/Cucumber/Projects/datasets/2025-06-11/sku110k-merged-yolo/custom_dataset.yaml\u001b[39;49m\u001b[38;5;124;43m\"\u001b[39;49m\u001b[43m,\u001b[49m\u001b[43m  \u001b[49m\u001b[38;5;66;43;03m# path to the dataset config file\u001b[39;49;00m\n\u001b[1;32m      4\u001b[0m \u001b[43m    \u001b[49m\u001b[43mepochs\u001b[49m\u001b[38;5;241;43m=\u001b[39;49m\u001b[38;5;241;43m32\u001b[39;49m\u001b[43m,\u001b[49m\n\u001b[1;32m      5\u001b[0m \u001b[43m    \u001b[49m\u001b[43mimgsz\u001b[49m\u001b[38;5;241;43m=\u001b[39;49m\u001b[38;5;241;43m640\u001b[39;49m\u001b[43m,\u001b[49m\n\u001b[1;32m      6\u001b[0m \u001b[43m    \u001b[49m\u001b[43mbatch\u001b[49m\u001b[38;5;241;43m=\u001b[39;49m\u001b[38;5;241;43m4\u001b[39;49m\u001b[43m,\u001b[49m\n\u001b[1;32m      7\u001b[0m \u001b[43m    \u001b[49m\u001b[43mname\u001b[49m\u001b[38;5;241;43m=\u001b[39;49m\u001b[38;5;124;43m\"\u001b[39;49m\u001b[38;5;124;43mfinetune-v11\u001b[39;49m\u001b[38;5;124;43m\"\u001b[39;49m\u001b[43m,\u001b[49m\n\u001b[1;32m      8\u001b[0m \u001b[43m    \u001b[49m\u001b[43maugment\u001b[49m\u001b[38;5;241;43m=\u001b[39;49m\u001b[38;5;28;43;01mTrue\u001b[39;49;00m\n\u001b[1;32m      9\u001b[0m \u001b[43m)\u001b[49m\n",
      "File \u001b[0;32m/Volumes/Cucumber/Projects/item-identification/.venv/lib/python3.9/site-packages/ultralytics/engine/model.py:791\u001b[0m, in \u001b[0;36mModel.train\u001b[0;34m(self, trainer, **kwargs)\u001b[0m\n\u001b[1;32m    788\u001b[0m     \u001b[38;5;28mself\u001b[39m\u001b[38;5;241m.\u001b[39mmodel \u001b[38;5;241m=\u001b[39m \u001b[38;5;28mself\u001b[39m\u001b[38;5;241m.\u001b[39mtrainer\u001b[38;5;241m.\u001b[39mmodel\n\u001b[1;32m    790\u001b[0m \u001b[38;5;28mself\u001b[39m\u001b[38;5;241m.\u001b[39mtrainer\u001b[38;5;241m.\u001b[39mhub_session \u001b[38;5;241m=\u001b[39m \u001b[38;5;28mself\u001b[39m\u001b[38;5;241m.\u001b[39msession  \u001b[38;5;66;03m# attach optional HUB session\u001b[39;00m\n\u001b[0;32m--> 791\u001b[0m \u001b[38;5;28;43mself\u001b[39;49m\u001b[38;5;241;43m.\u001b[39;49m\u001b[43mtrainer\u001b[49m\u001b[38;5;241;43m.\u001b[39;49m\u001b[43mtrain\u001b[49m\u001b[43m(\u001b[49m\u001b[43m)\u001b[49m\n\u001b[1;32m    792\u001b[0m \u001b[38;5;66;03m# Update model and cfg after training\u001b[39;00m\n\u001b[1;32m    793\u001b[0m \u001b[38;5;28;01mif\u001b[39;00m RANK \u001b[38;5;129;01min\u001b[39;00m {\u001b[38;5;241m-\u001b[39m\u001b[38;5;241m1\u001b[39m, \u001b[38;5;241m0\u001b[39m}:\n",
      "File \u001b[0;32m/Volumes/Cucumber/Projects/item-identification/.venv/lib/python3.9/site-packages/ultralytics/engine/trainer.py:211\u001b[0m, in \u001b[0;36mBaseTrainer.train\u001b[0;34m(self)\u001b[0m\n\u001b[1;32m    208\u001b[0m         ddp_cleanup(\u001b[38;5;28mself\u001b[39m, \u001b[38;5;28mstr\u001b[39m(file))\n\u001b[1;32m    210\u001b[0m \u001b[38;5;28;01melse\u001b[39;00m:\n\u001b[0;32m--> 211\u001b[0m     \u001b[38;5;28;43mself\u001b[39;49m\u001b[38;5;241;43m.\u001b[39;49m\u001b[43m_do_train\u001b[49m\u001b[43m(\u001b[49m\u001b[43mworld_size\u001b[49m\u001b[43m)\u001b[49m\n",
      "File \u001b[0;32m/Volumes/Cucumber/Projects/item-identification/.venv/lib/python3.9/site-packages/ultralytics/engine/trainer.py:367\u001b[0m, in \u001b[0;36mBaseTrainer._do_train\u001b[0;34m(self, world_size)\u001b[0m\n\u001b[1;32m    365\u001b[0m     pbar \u001b[38;5;241m=\u001b[39m TQDM(\u001b[38;5;28menumerate\u001b[39m(\u001b[38;5;28mself\u001b[39m\u001b[38;5;241m.\u001b[39mtrain_loader), total\u001b[38;5;241m=\u001b[39mnb)\n\u001b[1;32m    366\u001b[0m \u001b[38;5;28mself\u001b[39m\u001b[38;5;241m.\u001b[39mtloss \u001b[38;5;241m=\u001b[39m \u001b[38;5;28;01mNone\u001b[39;00m\n\u001b[0;32m--> 367\u001b[0m \u001b[38;5;28;01mfor\u001b[39;00m i, batch \u001b[38;5;129;01min\u001b[39;00m pbar:\n\u001b[1;32m    368\u001b[0m     \u001b[38;5;28mself\u001b[39m\u001b[38;5;241m.\u001b[39mrun_callbacks(\u001b[38;5;124m\"\u001b[39m\u001b[38;5;124mon_train_batch_start\u001b[39m\u001b[38;5;124m\"\u001b[39m)\n\u001b[1;32m    369\u001b[0m     \u001b[38;5;66;03m# Warmup\u001b[39;00m\n",
      "File \u001b[0;32m/Volumes/Cucumber/Projects/item-identification/.venv/lib/python3.9/site-packages/tqdm/std.py:1181\u001b[0m, in \u001b[0;36mtqdm.__iter__\u001b[0;34m(self)\u001b[0m\n\u001b[1;32m   1178\u001b[0m time \u001b[38;5;241m=\u001b[39m \u001b[38;5;28mself\u001b[39m\u001b[38;5;241m.\u001b[39m_time\n\u001b[1;32m   1180\u001b[0m \u001b[38;5;28;01mtry\u001b[39;00m:\n\u001b[0;32m-> 1181\u001b[0m     \u001b[38;5;28;01mfor\u001b[39;00m obj \u001b[38;5;129;01min\u001b[39;00m iterable:\n\u001b[1;32m   1182\u001b[0m         \u001b[38;5;28;01myield\u001b[39;00m obj\n\u001b[1;32m   1183\u001b[0m         \u001b[38;5;66;03m# Update and possibly print the progressbar.\u001b[39;00m\n\u001b[1;32m   1184\u001b[0m         \u001b[38;5;66;03m# Note: does not call self.update(1) for speed optimisation.\u001b[39;00m\n",
      "File \u001b[0;32m/Volumes/Cucumber/Projects/item-identification/.venv/lib/python3.9/site-packages/ultralytics/data/build.py:59\u001b[0m, in \u001b[0;36mInfiniteDataLoader.__iter__\u001b[0;34m(self)\u001b[0m\n\u001b[1;32m     57\u001b[0m \u001b[38;5;250m\u001b[39m\u001b[38;5;124;03m\"\"\"Create an iterator that yields indefinitely from the underlying iterator.\"\"\"\u001b[39;00m\n\u001b[1;32m     58\u001b[0m \u001b[38;5;28;01mfor\u001b[39;00m _ \u001b[38;5;129;01min\u001b[39;00m \u001b[38;5;28mrange\u001b[39m(\u001b[38;5;28mlen\u001b[39m(\u001b[38;5;28mself\u001b[39m)):\n\u001b[0;32m---> 59\u001b[0m     \u001b[38;5;28;01myield\u001b[39;00m \u001b[38;5;28;43mnext\u001b[39;49m\u001b[43m(\u001b[49m\u001b[38;5;28;43mself\u001b[39;49m\u001b[38;5;241;43m.\u001b[39;49m\u001b[43miterator\u001b[49m\u001b[43m)\u001b[49m\n",
      "File \u001b[0;32m/Volumes/Cucumber/Projects/item-identification/.venv/lib/python3.9/site-packages/torch/utils/data/dataloader.py:708\u001b[0m, in \u001b[0;36m_BaseDataLoaderIter.__next__\u001b[0;34m(self)\u001b[0m\n\u001b[1;32m    705\u001b[0m \u001b[38;5;28;01mif\u001b[39;00m \u001b[38;5;28mself\u001b[39m\u001b[38;5;241m.\u001b[39m_sampler_iter \u001b[38;5;129;01mis\u001b[39;00m \u001b[38;5;28;01mNone\u001b[39;00m:\n\u001b[1;32m    706\u001b[0m     \u001b[38;5;66;03m# TODO(https://github.com/pytorch/pytorch/issues/76750)\u001b[39;00m\n\u001b[1;32m    707\u001b[0m     \u001b[38;5;28mself\u001b[39m\u001b[38;5;241m.\u001b[39m_reset()  \u001b[38;5;66;03m# type: ignore[call-arg]\u001b[39;00m\n\u001b[0;32m--> 708\u001b[0m data \u001b[38;5;241m=\u001b[39m \u001b[38;5;28;43mself\u001b[39;49m\u001b[38;5;241;43m.\u001b[39;49m\u001b[43m_next_data\u001b[49m\u001b[43m(\u001b[49m\u001b[43m)\u001b[49m\n\u001b[1;32m    709\u001b[0m \u001b[38;5;28mself\u001b[39m\u001b[38;5;241m.\u001b[39m_num_yielded \u001b[38;5;241m+\u001b[39m\u001b[38;5;241m=\u001b[39m \u001b[38;5;241m1\u001b[39m\n\u001b[1;32m    710\u001b[0m \u001b[38;5;28;01mif\u001b[39;00m (\n\u001b[1;32m    711\u001b[0m     \u001b[38;5;28mself\u001b[39m\u001b[38;5;241m.\u001b[39m_dataset_kind \u001b[38;5;241m==\u001b[39m _DatasetKind\u001b[38;5;241m.\u001b[39mIterable\n\u001b[1;32m    712\u001b[0m     \u001b[38;5;129;01mand\u001b[39;00m \u001b[38;5;28mself\u001b[39m\u001b[38;5;241m.\u001b[39m_IterableDataset_len_called \u001b[38;5;129;01mis\u001b[39;00m \u001b[38;5;129;01mnot\u001b[39;00m \u001b[38;5;28;01mNone\u001b[39;00m\n\u001b[1;32m    713\u001b[0m     \u001b[38;5;129;01mand\u001b[39;00m \u001b[38;5;28mself\u001b[39m\u001b[38;5;241m.\u001b[39m_num_yielded \u001b[38;5;241m>\u001b[39m \u001b[38;5;28mself\u001b[39m\u001b[38;5;241m.\u001b[39m_IterableDataset_len_called\n\u001b[1;32m    714\u001b[0m ):\n",
      "File \u001b[0;32m/Volumes/Cucumber/Projects/item-identification/.venv/lib/python3.9/site-packages/torch/utils/data/dataloader.py:764\u001b[0m, in \u001b[0;36m_SingleProcessDataLoaderIter._next_data\u001b[0;34m(self)\u001b[0m\n\u001b[1;32m    762\u001b[0m \u001b[38;5;28;01mdef\u001b[39;00m\u001b[38;5;250m \u001b[39m\u001b[38;5;21m_next_data\u001b[39m(\u001b[38;5;28mself\u001b[39m):\n\u001b[1;32m    763\u001b[0m     index \u001b[38;5;241m=\u001b[39m \u001b[38;5;28mself\u001b[39m\u001b[38;5;241m.\u001b[39m_next_index()  \u001b[38;5;66;03m# may raise StopIteration\u001b[39;00m\n\u001b[0;32m--> 764\u001b[0m     data \u001b[38;5;241m=\u001b[39m \u001b[38;5;28;43mself\u001b[39;49m\u001b[38;5;241;43m.\u001b[39;49m\u001b[43m_dataset_fetcher\u001b[49m\u001b[38;5;241;43m.\u001b[39;49m\u001b[43mfetch\u001b[49m\u001b[43m(\u001b[49m\u001b[43mindex\u001b[49m\u001b[43m)\u001b[49m  \u001b[38;5;66;03m# may raise StopIteration\u001b[39;00m\n\u001b[1;32m    765\u001b[0m     \u001b[38;5;28;01mif\u001b[39;00m \u001b[38;5;28mself\u001b[39m\u001b[38;5;241m.\u001b[39m_pin_memory:\n\u001b[1;32m    766\u001b[0m         data \u001b[38;5;241m=\u001b[39m _utils\u001b[38;5;241m.\u001b[39mpin_memory\u001b[38;5;241m.\u001b[39mpin_memory(data, \u001b[38;5;28mself\u001b[39m\u001b[38;5;241m.\u001b[39m_pin_memory_device)\n",
      "File \u001b[0;32m/Volumes/Cucumber/Projects/item-identification/.venv/lib/python3.9/site-packages/torch/utils/data/_utils/fetch.py:52\u001b[0m, in \u001b[0;36m_MapDatasetFetcher.fetch\u001b[0;34m(self, possibly_batched_index)\u001b[0m\n\u001b[1;32m     50\u001b[0m         data \u001b[38;5;241m=\u001b[39m \u001b[38;5;28mself\u001b[39m\u001b[38;5;241m.\u001b[39mdataset\u001b[38;5;241m.\u001b[39m__getitems__(possibly_batched_index)\n\u001b[1;32m     51\u001b[0m     \u001b[38;5;28;01melse\u001b[39;00m:\n\u001b[0;32m---> 52\u001b[0m         data \u001b[38;5;241m=\u001b[39m [\u001b[38;5;28mself\u001b[39m\u001b[38;5;241m.\u001b[39mdataset[idx] \u001b[38;5;28;01mfor\u001b[39;00m idx \u001b[38;5;129;01min\u001b[39;00m possibly_batched_index]\n\u001b[1;32m     53\u001b[0m \u001b[38;5;28;01melse\u001b[39;00m:\n\u001b[1;32m     54\u001b[0m     data \u001b[38;5;241m=\u001b[39m \u001b[38;5;28mself\u001b[39m\u001b[38;5;241m.\u001b[39mdataset[possibly_batched_index]\n",
      "File \u001b[0;32m/Volumes/Cucumber/Projects/item-identification/.venv/lib/python3.9/site-packages/torch/utils/data/_utils/fetch.py:52\u001b[0m, in \u001b[0;36m<listcomp>\u001b[0;34m(.0)\u001b[0m\n\u001b[1;32m     50\u001b[0m         data \u001b[38;5;241m=\u001b[39m \u001b[38;5;28mself\u001b[39m\u001b[38;5;241m.\u001b[39mdataset\u001b[38;5;241m.\u001b[39m__getitems__(possibly_batched_index)\n\u001b[1;32m     51\u001b[0m     \u001b[38;5;28;01melse\u001b[39;00m:\n\u001b[0;32m---> 52\u001b[0m         data \u001b[38;5;241m=\u001b[39m [\u001b[38;5;28;43mself\u001b[39;49m\u001b[38;5;241;43m.\u001b[39;49m\u001b[43mdataset\u001b[49m\u001b[43m[\u001b[49m\u001b[43midx\u001b[49m\u001b[43m]\u001b[49m \u001b[38;5;28;01mfor\u001b[39;00m idx \u001b[38;5;129;01min\u001b[39;00m possibly_batched_index]\n\u001b[1;32m     53\u001b[0m \u001b[38;5;28;01melse\u001b[39;00m:\n\u001b[1;32m     54\u001b[0m     data \u001b[38;5;241m=\u001b[39m \u001b[38;5;28mself\u001b[39m\u001b[38;5;241m.\u001b[39mdataset[possibly_batched_index]\n",
      "File \u001b[0;32m/Volumes/Cucumber/Projects/item-identification/.venv/lib/python3.9/site-packages/ultralytics/data/base.py:369\u001b[0m, in \u001b[0;36mBaseDataset.__getitem__\u001b[0;34m(self, index)\u001b[0m\n\u001b[1;32m    367\u001b[0m \u001b[38;5;28;01mdef\u001b[39;00m\u001b[38;5;250m \u001b[39m\u001b[38;5;21m__getitem__\u001b[39m(\u001b[38;5;28mself\u001b[39m, index):\n\u001b[1;32m    368\u001b[0m \u001b[38;5;250m    \u001b[39m\u001b[38;5;124;03m\"\"\"Return transformed label information for given index.\"\"\"\u001b[39;00m\n\u001b[0;32m--> 369\u001b[0m     \u001b[38;5;28;01mreturn\u001b[39;00m \u001b[38;5;28mself\u001b[39m\u001b[38;5;241m.\u001b[39mtransforms(\u001b[38;5;28;43mself\u001b[39;49m\u001b[38;5;241;43m.\u001b[39;49m\u001b[43mget_image_and_label\u001b[49m\u001b[43m(\u001b[49m\u001b[43mindex\u001b[49m\u001b[43m)\u001b[49m)\n",
      "File \u001b[0;32m/Volumes/Cucumber/Projects/item-identification/.venv/lib/python3.9/site-packages/ultralytics/data/base.py:383\u001b[0m, in \u001b[0;36mBaseDataset.get_image_and_label\u001b[0;34m(self, index)\u001b[0m\n\u001b[1;32m    381\u001b[0m label \u001b[38;5;241m=\u001b[39m deepcopy(\u001b[38;5;28mself\u001b[39m\u001b[38;5;241m.\u001b[39mlabels[index])  \u001b[38;5;66;03m# requires deepcopy() https://github.com/ultralytics/ultralytics/pull/1948\u001b[39;00m\n\u001b[1;32m    382\u001b[0m label\u001b[38;5;241m.\u001b[39mpop(\u001b[38;5;124m\"\u001b[39m\u001b[38;5;124mshape\u001b[39m\u001b[38;5;124m\"\u001b[39m, \u001b[38;5;28;01mNone\u001b[39;00m)  \u001b[38;5;66;03m# shape is for rect, remove it\u001b[39;00m\n\u001b[0;32m--> 383\u001b[0m label[\u001b[38;5;124m\"\u001b[39m\u001b[38;5;124mimg\u001b[39m\u001b[38;5;124m\"\u001b[39m], label[\u001b[38;5;124m\"\u001b[39m\u001b[38;5;124mori_shape\u001b[39m\u001b[38;5;124m\"\u001b[39m], label[\u001b[38;5;124m\"\u001b[39m\u001b[38;5;124mresized_shape\u001b[39m\u001b[38;5;124m\"\u001b[39m] \u001b[38;5;241m=\u001b[39m \u001b[38;5;28;43mself\u001b[39;49m\u001b[38;5;241;43m.\u001b[39;49m\u001b[43mload_image\u001b[49m\u001b[43m(\u001b[49m\u001b[43mindex\u001b[49m\u001b[43m)\u001b[49m\n\u001b[1;32m    384\u001b[0m label[\u001b[38;5;124m\"\u001b[39m\u001b[38;5;124mratio_pad\u001b[39m\u001b[38;5;124m\"\u001b[39m] \u001b[38;5;241m=\u001b[39m (\n\u001b[1;32m    385\u001b[0m     label[\u001b[38;5;124m\"\u001b[39m\u001b[38;5;124mresized_shape\u001b[39m\u001b[38;5;124m\"\u001b[39m][\u001b[38;5;241m0\u001b[39m] \u001b[38;5;241m/\u001b[39m label[\u001b[38;5;124m\"\u001b[39m\u001b[38;5;124mori_shape\u001b[39m\u001b[38;5;124m\"\u001b[39m][\u001b[38;5;241m0\u001b[39m],\n\u001b[1;32m    386\u001b[0m     label[\u001b[38;5;124m\"\u001b[39m\u001b[38;5;124mresized_shape\u001b[39m\u001b[38;5;124m\"\u001b[39m][\u001b[38;5;241m1\u001b[39m] \u001b[38;5;241m/\u001b[39m label[\u001b[38;5;124m\"\u001b[39m\u001b[38;5;124mori_shape\u001b[39m\u001b[38;5;124m\"\u001b[39m][\u001b[38;5;241m1\u001b[39m],\n\u001b[1;32m    387\u001b[0m )  \u001b[38;5;66;03m# for evaluation\u001b[39;00m\n\u001b[1;32m    388\u001b[0m \u001b[38;5;28;01mif\u001b[39;00m \u001b[38;5;28mself\u001b[39m\u001b[38;5;241m.\u001b[39mrect:\n",
      "File \u001b[0;32m/Volumes/Cucumber/Projects/item-identification/.venv/lib/python3.9/site-packages/ultralytics/data/base.py:230\u001b[0m, in \u001b[0;36mBaseDataset.load_image\u001b[0;34m(self, i, rect_mode)\u001b[0m\n\u001b[1;32m    228\u001b[0m     im \u001b[38;5;241m=\u001b[39m cv2\u001b[38;5;241m.\u001b[39mimread(f)  \u001b[38;5;66;03m# BGR\u001b[39;00m\n\u001b[1;32m    229\u001b[0m \u001b[38;5;28;01mif\u001b[39;00m im \u001b[38;5;129;01mis\u001b[39;00m \u001b[38;5;28;01mNone\u001b[39;00m:\n\u001b[0;32m--> 230\u001b[0m     \u001b[38;5;28;01mraise\u001b[39;00m \u001b[38;5;167;01mFileNotFoundError\u001b[39;00m(\u001b[38;5;124mf\u001b[39m\u001b[38;5;124m\"\u001b[39m\u001b[38;5;124mImage Not Found \u001b[39m\u001b[38;5;132;01m{\u001b[39;00mf\u001b[38;5;132;01m}\u001b[39;00m\u001b[38;5;124m\"\u001b[39m)\n\u001b[1;32m    232\u001b[0m h0, w0 \u001b[38;5;241m=\u001b[39m im\u001b[38;5;241m.\u001b[39mshape[:\u001b[38;5;241m2\u001b[39m]  \u001b[38;5;66;03m# orig hw\u001b[39;00m\n\u001b[1;32m    233\u001b[0m \u001b[38;5;28;01mif\u001b[39;00m rect_mode:  \u001b[38;5;66;03m# resize long side to imgsz while maintaining aspect ratio\u001b[39;00m\n",
      "\u001b[0;31mFileNotFoundError\u001b[0m: Image Not Found /Volumes/Cucumber/Projects/datasets/2025-06-11/sku110k-merged-yolo/train/images/3a526160bb41583dcad9ed4dbbef4434.jpeg"
     ]
    }
   ],
   "source": [
    "# Train the model on your COCO-format dataset\n",
    "model.train(\n",
    "    data=\"/Volumes/Cucumber/Projects/datasets/2025-06-11/sku110k-merged-yolo/custom_dataset.yaml\",  # path to the dataset config file\n",
    "    epochs=32,\n",
    "    imgsz=640,\n",
    "    batch=4,\n",
    "    name=\"finetune-v11\",\n",
    "    augment=True\n",
    ")"
   ]
  },
  {
   "cell_type": "code",
   "execution_count": null,
   "metadata": {},
   "outputs": [
    {
     "name": "stdout",
     "output_type": "stream",
     "text": [
      "Ultralytics 8.3.111 🚀 Python-3.9.6 torch-2.6.0 CPU (Apple M4)\n",
      "\u001b[34m\u001b[1mval: \u001b[0mFast image access ✅ (ping: 0.0±0.0 ms, read: 503.4±652.1 MB/s, size: 91.1 KB)\n"
     ]
    },
    {
     "name": "stderr",
     "output_type": "stream",
     "text": [
      "\u001b[34m\u001b[1mval: \u001b[0mScanning /Volumes/Cucumber/Projects/datasets/2025-06-10/sku110k-merged-yolo/val/labels.cache... 30 images, 0 backgrounds, 1 corrupt: 100%|██████████| 30/30 [00:00<?, ?it/s]"
     ]
    },
    {
     "name": "stdout",
     "output_type": "stream",
     "text": [
      "\u001b[34m\u001b[1mval: \u001b[0mWARNING ⚠️ /Volumes/Cucumber/Projects/datasets/2025-06-10/sku110k-merged-yolo/val/images/4c5ad252fd2313b52753659c8b59159d.jpeg: ignoring corrupt image/label: non-normalized or out of bounds coordinates [     1.2882]\n"
     ]
    },
    {
     "name": "stderr",
     "output_type": "stream",
     "text": [
      "\n",
      "                 Class     Images  Instances      Box(P          R      mAP50  mAP50-95): 100%|██████████| 8/8 [00:07<00:00,  1.10it/s]\n"
     ]
    },
    {
     "name": "stdout",
     "output_type": "stream",
     "text": [
      "                   all         29        599     0.0594     0.0692     0.0609     0.0243\n",
      "4897036693162-nuoc-tang-luc-monster-mango-loco-355ml          1          4          0          0          0          0\n",
      "4902430805322-nuoc-rua-tay-diet-khuan-safeguard-trang-tinh-khiet-450ml          1          2          0          0          0          0\n",
      "8850228007617-nuoc-tang-luc-redbull-250ml          1          6          0          0          0          0\n",
      "8934563122201-mi-hao-hao-vi-tom-chua-cay-goi-100g          1          1          0          0          0          0\n",
      "8934563198152-mi-hao-hao-chay-vi-rau-nam-74gr          1          5          0          0          0          0\n",
      "8934588012112-nuoc-ngot-pepsi-cola-320ml          1          3          0          0          0          0\n",
      "8934683008614-ca-phe-sua-vinacafe-3-in-1-gold-tui-480g-24-goi-tui          1          4          0          0          0          0\n",
      "8934707029182-hat-nem-knorr-thit-than-xuong-ong-va-tuy-900g          1          7          0          0          0          0\n",
      "8934822212339-bia-heineken-lon-cao-330ml          2          5          0          0          0          0\n",
      "8934822361211-bia-heineken-khong-con-lon-330ml          2          7          0          0          0          0\n",
      "8934822431211-bia-tiger-soju-infused-lager-wonder-melon-vi-dua-luoi-lon-330ml          1          3        0.2      0.667        0.3     0.0899\n",
      "8934822801335-bia-tiger-crystal-4-6-phan-tram-lon-330ml          1          1          0          0          0          0\n",
      "8934840000093-nuoc-khoang-chanh-lemona-chai-500ml          1          3      0.333      0.333      0.446     0.0891\n",
      "8934868156871-dau-xa-sunsilk-mem-muot-dieu-ky-320g          3          7          0          0          0          0\n",
      "8934868166344-nuoc-rua-tay-lifebouy-450ml          1          5          0          0          0          0\n",
      "8934868166825-dau-goi-sunsilk-natural-duong-ngan-gay-rung-650g          2          2          0          0          0          0\n",
      "8934868166870-dau-goi-sunsilk-ong-muot-rang-ngoi-chai-650g          1          3          0          0          0          0\n",
      "8934868166924-dau-goi-sunsilk-mem-muot-dieu-ky-chai-650g          1          3          0          0          0          0\n",
      "8934868170990-nuoc-rua-tay-lifebuoy-vitamin-sua-duong-am-tui-1kg          2          4          0          0          0          0\n",
      "8934868180470-dau-goi-dove-biotin-ngan-gay-rung-toc-880g          1          4          1        0.5       0.75      0.419\n",
      "8935006532755-kem-rua-mat-acnes-vitamin-lam-sang-da,-mo-seo-tham-50g          1          8          0          0          0          0\n",
      "8935006538634-dau-tay-trang-hada-labo-sach-sau-duong-am-toi-uu-200ml          1          3          0          0          0          0\n",
      "8935024123287-ca-phe-sua-hoa-tan-g7-3in1-hop-336g-(16g-x-21-goi)          3         32          0          0          0          0\n",
      "8935024170519-ca-phe-trung-nguyen-legend-classic-hop-357g-17g-x-21-goi          2          7          0          0          0          0\n",
      "8935039570700-ca-phe-sua-robusta-birdy-lon-170ml          1          4          0          0          0          0\n",
      "8935049501572-nuoc-ngot-fanta-vi-cam-lon-320ml          1          3          0          0          0          0\n",
      "8935049501718-nuoc-ngot-sprite-lon-320ml          1          1          0          0          0          0\n",
      "8935136865709-sua-tam-purite-duong-da-mem-min-huong-hoa-hong-rose-chai-850ml          1          1          0          0          0          0\n",
      "8936048470036-mi-3-mien-mi-chay-la-da-65g-(goi)          1          3          0          0          0          0\n",
      "8936094291005-bia-budweiser-5-lon-330ml          1         11        0.5     0.0909       0.32      0.128\n",
      "8936122200276-ca-phe-mr.brown-blue-mountain-240ml          1          2          0          0          0          0\n",
      "8936136163314-nuoc-mam-nam-ngu-3-trong-1-750ml          1          3          0          0          0          0\n",
      "8936191270057-ca-phe-cappuccino-dua-just-viet-hop-hop-10-goi-x-17g          1          1          0          0          0          0\n",
      "8936193070075-nuoc-tang-luc-number-1-chai-330ml          2          5          0          0          0          0\n",
      "                object         26        436     0.0471      0.833      0.316      0.125\n",
      "Speed: 0.8ms preprocess, 231.9ms inference, 0.0ms loss, 2.6ms postprocess per image\n",
      "Results saved to \u001b[1m/Volumes/Cucumber/Projects/item-identification/runs/detect/train35\u001b[0m\n"
     ]
    }
   ],
   "source": [
    "import json\n",
    "metrics = model.val(\n",
    "    data=\"/Volumes/Cucumber/Projects/datasets/2025-06-10/sku110k-merged-yolo/custom_dataset.yaml\",\n",
    "    split=\"val\"  # or \"val\" for validation\n",
    ")"
   ]
  },
  {
   "cell_type": "code",
   "execution_count": null,
   "metadata": {},
   "outputs": [
    {
     "data": {
      "text/plain": [
       "{'metrics/precision(B)': np.float64(0.059441477525589675),\n",
       " 'metrics/recall(B)': np.float64(0.06924222566424401),\n",
       " 'metrics/mAP50(B)': np.float64(0.060905462700792855),\n",
       " 'metrics/mAP50-95(B)': np.float64(0.024310627929021226),\n",
       " 'fitness': np.float64(0.027970111406198386)}"
      ]
     },
     "execution_count": 20,
     "metadata": {},
     "output_type": "execute_result"
    }
   ],
   "source": [
    "metrics.results_dict"
   ]
  },
  {
   "cell_type": "markdown",
   "metadata": {},
   "source": [
    "### Load model"
   ]
  },
  {
   "cell_type": "code",
   "execution_count": null,
   "metadata": {},
   "outputs": [
    {
     "name": "stderr",
     "output_type": "stream",
     "text": [
      "/Volumes/Cucumber/Projects/item-identification/.venv/lib/python3.9/site-packages/urllib3/__init__.py:35: NotOpenSSLWarning: urllib3 v2 only supports OpenSSL 1.1.1+, currently the 'ssl' module is compiled with 'LibreSSL 2.8.3'. See: https://github.com/urllib3/urllib3/issues/3020\n",
      "  warnings.warn(\n"
     ]
    }
   ],
   "source": [
    "import mlflow\n",
    "from ultralytics import YOLO\n"
   ]
  },
  {
   "cell_type": "code",
   "execution_count": null,
   "metadata": {},
   "outputs": [
    {
     "name": "stderr",
     "output_type": "stream",
     "text": [
      "/Volumes/Cucumber/Projects/item-identification/.venv/lib/python3.9/site-packages/tqdm/auto.py:21: TqdmWarning: IProgress not found. Please update jupyter and ipywidgets. See https://ipywidgets.readthedocs.io/en/stable/user_install.html\n",
      "  from .autonotebook import tqdm as notebook_tqdm\n",
      "Downloading artifacts: 100%|██████████| 1/1 [00:00<00:00,  1.19it/s]\n"
     ]
    }
   ],
   "source": [
    "# run_id = \"7ae84e1e706942c999eb73dff6cb3888\"\n",
    "# weights = mlflow.artifacts.download_artifacts(f\"runs:/{run_id}/weights/best.pt\")\n",
    "# model = YOLO(weights)"
   ]
  },
  {
   "cell_type": "code",
   "execution_count": null,
   "metadata": {},
   "outputs": [
    {
     "name": "stdout",
     "output_type": "stream",
     "text": [
      "\n",
      "image 1/1 /Volumes/Cucumber/Projects/datasets/2025-06-10/sku110k-merged/val/images/2a9688d8b22c7059c95af959425670d8.jpeg: 480x640 18 objects, 212.8ms\n",
      "Speed: 1.6ms preprocess, 212.8ms inference, 0.6ms postprocess per image at shape (1, 3, 480, 640)\n"
     ]
    }
   ],
   "source": [
    "result = model(\"/Volumes/Cucumber/Projects/datasets/2025-06-10/sku110k-merged/val/images/2a9688d8b22c7059c95af959425670d8.jpeg\")\n",
    "result[0].show()"
   ]
  },
  {
   "cell_type": "code",
   "execution_count": null,
   "metadata": {},
   "outputs": [
    {
     "name": "stdout",
     "output_type": "stream",
     "text": [
      "\n",
      "image 1/1 /Volumes/Cucumber/Projects/datasets/2025-06-10/sku110k-merged/val/images/1d2e2fede821ea19db415c3628a49dad.jpeg: 480x640 80 objects, 170.1ms\n",
      "Speed: 2.2ms preprocess, 170.1ms inference, 1.2ms postprocess per image at shape (1, 3, 480, 640)\n"
     ]
    }
   ],
   "source": [
    "result = model(\"/Volumes/Cucumber/Projects/datasets/2025-06-10/sku110k-merged/val/images/1d2e2fede821ea19db415c3628a49dad.jpeg\")\n",
    "result[0].show()"
   ]
  },
  {
   "cell_type": "code",
   "execution_count": null,
   "metadata": {},
   "outputs": [
    {
     "name": "stdout",
     "output_type": "stream",
     "text": [
      "\n",
      "image 1/1 /Volumes/Cucumber/Projects/datasets/2025-06-10/sku110k-merged/val/images/4b382f66297e8fa37e7b0f7cbde77c43.jpeg: 640x480 21 objects, 184.1ms\n",
      "Speed: 2.1ms preprocess, 184.1ms inference, 0.8ms postprocess per image at shape (1, 3, 640, 480)\n"
     ]
    }
   ],
   "source": [
    "result = model(\"/Volumes/Cucumber/Projects/datasets/2025-06-10/sku110k-merged/val/images/4b382f66297e8fa37e7b0f7cbde77c43.jpeg\")\n",
    "result[0].show()"
   ]
  },
  {
   "cell_type": "code",
   "execution_count": null,
   "metadata": {},
   "outputs": [
    {
     "name": "stdout",
     "output_type": "stream",
     "text": [
      "\n",
      "image 1/1 /Volumes/Cucumber/Projects/datasets/sku110k/val/images/val_1.jpg: 640x480 213 objects, 182.3ms\n",
      "Speed: 2.7ms preprocess, 182.3ms inference, 1.4ms postprocess per image at shape (1, 3, 640, 480)\n"
     ]
    }
   ],
   "source": [
    "result = model(\"/Volumes/Cucumber/Projects/datasets/sku110k/val/images/val_1.jpg\")\n",
    "result[0].show()"
   ]
  },
  {
   "cell_type": "code",
   "execution_count": null,
   "metadata": {},
   "outputs": [],
   "source": []
  }
 ],
 "metadata": {
  "kernelspec": {
   "display_name": ".venv",
   "language": "python",
   "name": "python3"
  },
  "language_info": {
   "codemirror_mode": {
    "name": "ipython",
    "version": 3
   },
   "file_extension": ".py",
   "mimetype": "text/x-python",
   "name": "python",
   "nbconvert_exporter": "python",
   "pygments_lexer": "ipython3",
   "version": "3.9.6"
  }
 },
 "nbformat": 4,
 "nbformat_minor": 2
}
