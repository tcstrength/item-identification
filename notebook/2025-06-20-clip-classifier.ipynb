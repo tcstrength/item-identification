{
 "cells": [
  {
   "cell_type": "code",
   "execution_count": 1,
   "metadata": {},
   "outputs": [
    {
     "name": "stderr",
     "output_type": "stream",
     "text": [
      "\u001b[32m2025-06-20 20:05:08.112\u001b[0m | \u001b[1mINFO    \u001b[0m | \u001b[36mhcmus.core.appconfig\u001b[0m:\u001b[36m<module>\u001b[0m:\u001b[36m7\u001b[0m - \u001b[1mLoad DotEnv: True\u001b[0m\n",
      "/Volumes/Cucumber/Projects/item-identification/.venv/lib/python3.9/site-packages/urllib3/__init__.py:35: NotOpenSSLWarning: urllib3 v2 only supports OpenSSL 1.1.1+, currently the 'ssl' module is compiled with 'LibreSSL 2.8.3'. See: https://github.com/urllib3/urllib3/issues/3020\n",
      "  warnings.warn(\n"
     ]
    }
   ],
   "source": [
    "from torch.utils.data import DataLoader\n",
    "from hcmus.core import appconfig\n",
    "from hcmus.utils import viz_utils\n",
    "from hcmus.lbs import LabelStudioConnector\n",
    "from hcmus.data import CroppedObjectClassificationDataset"
   ]
  },
  {
   "cell_type": "code",
   "execution_count": 2,
   "metadata": {},
   "outputs": [],
   "source": [
    "accepted_labels = \"\"\"\n",
    "8934804026817-nuoc-tuong-maggi-dau-nanh-thanh-diu-chai-700ml\n",
    "8934804020402-nuoc-tuong-maggi-dau-nanh-dam-dac-700ml\n",
    "8936048470524-mi-tom-3-mien-gold-vi-bo-ham-rau-thom-75g\n",
    "8934822201272-bia-heineken-silver-lon-250ml\n",
    "5054563022592-kem-danh-rang-sensodyne-giam-e-buotlam-sang-rang-100g\n",
    "8934868166344-nuoc-rua-tay-lifebouy-450ml\n",
    "8934707029182-hat-nem-knorr-thit-than-xuong-ong-va-tuy-900g\n",
    "8934822361211-bia-heineken-khong-con-lon-330ml\n",
    "8850006932346-kem-danh-rang-colgate-maxfresh-huong-tra-xanh-225g-+-ban-chai-long-to\n",
    "8850006932322-kem-danh-rang-colgate-maxfresh-huong-bac-ha-225g-+-ban-chai-long-to\n",
    "6920354827792-kem-danh-rang-colgate-maxfresh-tinh-chat-than-tre-225g-+-ban-chai-long-to\n",
    "8936136163314-nuoc-mam-nam-ngu-3-trong-1-750ml\n",
    "8934563198152-mi-hao-hao-chay-vi-rau-nam-74gr\n",
    "8935049501503-nuoc-ngot-coca-cola-vi-nguyen-ban-lon-320ml\n",
    "8936048470036-mi-3-mien-mi-chay-la-da-65g-(goi)\n",
    "8935001215028-tra-tea-break-milk-350ml\n",
    "8935006532755-kem-rua-mat-acnes-vitamin-lam-sang-da,-mo-seo-tham-50g\n",
    "8935018801641-khan-bep-da-nang-pulppy-classic-2-lop-loc-2-cuon\n",
    "8935024123287-ca-phe-sua-hoa-tan-g7-3in1-hop-336g-(16g-x-21-goi)\n",
    "8935006538634-dau-tay-trang-hada-labo-sach-sau-duong-am-toi-uu-200ml\n",
    "8934840000093-nuoc-khoang-chanh-lemona-chai-500ml\n",
    "8997035601321-nuoc-uong-bu-dien-giai-bo-sung-ion-pocari-sweat-chai-900ml\n",
    "4897036693162-nuoc-tang-luc-monster-mango-loco-355ml\n",
    "809939073648-soda-sua-huong-vi-chuoi-milkis-banana\n",
    "8934804038131-tra-hoa-qua-nestea-hoa-tan-hop-144g-12-goi-x-12g\n",
    "8936048471248-mi-tom-chua-cay-dac-biet-3-mien-gold-goi-75g\n",
    "8934804027333-tra-chanh-nestea-hoa-tan-hop-195g-15-goi-x-13g\n",
    "8936010530881-tra-chanh-cozy-hoa-tan-hop-240g-16-goi-x-15g\n",
    "8935049510604-nuoc-ngot-sprite-chai-320ml\n",
    "8934588672118-nuoc-ngot-pepsi-khong-calo-vi-chanh-320ml\n",
    "8935049501572-nuoc-ngot-fanta-vi-cam-lon-320ml\n",
    "8935049500445-nuoc-ngot-fanta-chai-1.5l\n",
    "8936721790017-nuoc-loc-th-true-water-chai-500ml\n",
    "8935049501718-nuoc-ngot-sprite-lon-320ml\n",
    "8936193070013-tra-xanh-khong-do-500ml\n",
    "8935137601122-tra-xanh-thai-nguyen-100g\n",
    "8934564600883-tra-den-c2-vi-dua-luoi-chai-455ml\n",
    "8935001214274-tra-bi-dao-wonderfarm-lon-310ml\n",
    "8934588870552-tra-olong-teaplus-450ml\n",
    "6920354836930-kem-danh-rang-colgate-optic-white-cong-nghe-sac-tim-100g\n",
    "8935049501374-nuoc-ngot-cocacola-vi-nguyen-ban-chai-600ml\n",
    "8935039570700-ca-phe-sua-robusta-birdy-lon-170ml\n",
    "8934673701402-nuoc-dao-necta-vinamilk-hop-1l\n",
    "8935005801012-nuoc-loc-lavie-chai-1-5l\n",
    "8936079140021-ca-phe-sua-highland-coffee-lon-185ml\n",
    "8934588640445-ca-phe-sua-boss-lon-180ml\n",
    "8934683008614-ca-phe-sua-vinacafe-3-in-1-gold-tui-480g-24-goi-tui\n",
    "8934683008867-nuoc-tang-luc-wake-up-247-vi-ca-phe-330ml\n",
    "8935328600156-tra-xanh-tui-loc-phuc-long-2g-x-hop-25-goi\n",
    "4902430805322-nuoc-rua-tay-diet-khuan-safeguard-trang-tinh-khiet-450ml\n",
    "8936156730718-nuoc-xa-vai-blue-dam-dac-huong-thanh-xuan-tui-3.2l\n",
    "8934868166825-dau-goi-sunsilk-natural-duong-ngan-gay-rung-650g\n",
    "8934804040523-tra-vai-va-huong-hoa-lai-nestea-hoa-tan-hop-144g-12-goi-x-12g\n",
    "8934822801335-bia-tiger-crystal-4-6-phan-tram-lon-330ml\n",
    "8934868156871-dau-xa-sunsilk-mem-muot-dieu-ky-320g\n",
    "8936010530713-tra-dao-cozy-hoa-tan-hop-16-goi-x-15g\n",
    "8934868171850-nuoc-lau-kinh-sunlight-sieu-nhanh-sach-trong-suot-chai-520ml\n",
    "8850228003541-nuoc-tang-luc-warrior-huong-dau-chai-330ml\n",
    "8936193070075-nuoc-tang-luc-number-1-chai-330ml\n",
    "8934588012112-nuoc-ngot-pepsi-cola-320ml\n",
    "8936013254951-nuoc-rua-kinh-gift-540ml\n",
    "8934868190394-nuoc-giat-comfort-huong-hoa-anh-dao-va-dao-tuoi-tui-3kg\n",
    "3068320055008-nuoc-loc-evivan-chai-500ml\n",
    "8936127794206-nuoc-uong-sua-trai-cay-th-true-juice-milk-huong-viet-quat-300ml\n",
    "8935049511038-sua-trai-cay-nutriboost-cam-chai-1l\n",
    "8934673573399-sua-tuoi-tiet-trung-co-duong,-100%-sua-tuoivinamilk-(1lit).\n",
    "3760128640607-sua-tuoi-tiet-trung-promess-nguyen-kem-hop-1l\n",
    "8934822212339-bia-heineken-lon-cao-330ml\n",
    "8801382123446-nuoc-gao-han-quoc-loai-500ml\n",
    "8936036201604-bia-hoegaarden-rosee-chai-248ml\n",
    "8934692090013-bia-1664-blanc-5%-abv-chai-330ml\n",
    "8934868166870-dau-goi-sunsilk-ong-muot-rang-ngoi-chai-650g\n",
    "8934588233074-nuoc-tang-luc-sting-vi-dau-tay-do-330ml\n",
    "8934822431211-bia-tiger-soju-infused-lager-wonder-melon-vi-dua-luoi-lon-330ml\n",
    "8934822112332-bia-tiger-lon-cao-330ml-lon\n",
    "8934868180470-dau-goi-dove-biotin-ngan-gay-rung-toc-880g\n",
    "8935024170519-ca-phe-trung-nguyen-legend-classic-hop-357g-17g-x-21-goi\n",
    "8934868166351-nuoc-rua-tay-lifebuoy-matcha-va-lo-hoichai-450g\n",
    "8936191270057-ca-phe-cappuccino-dua-just-viet-hop-hop-10-goi-x-17g\n",
    "8934868166924-dau-goi-sunsilk-mem-muot-dieu-ky-chai-650g\n",
    "8934804028064-ca-phe-hoa-tan-nescafe-3in1-vi-nguyen-ban-tui-782g-(17g-x-46-goi)\n",
    "8936122200276-ca-phe-mr.brown-blue-mountain-240ml\n",
    "8934563122201-mi-hao-hao-vi-tom-chua-cay-goi-100g\n",
    "8935136865709-sua-tam-purite-duong-da-mem-min-huong-hoa-hong-rose-chai-850ml\n",
    "8934822451295-nuoc-trai-cay-len-men-strongbow-vi-thom-luu-3.5%-lon-330ml\n",
    "8934868170990-nuoc-rua-tay-lifebuoy-vitamin-sua-duong-am-tui-1kg\n",
    "8936094291005-bia-budweiser-5-lon-330ml\n",
    "8934822121297-nuoc-trai-cay-len-men-strongbow-red-beries-4.5%-abv-lon-320ml\n",
    "8934822111298-nuoc-trai-cay-len-men-strongbow-gold-apple-4-5-abv-lon-320ml\n",
    "8935049501190-nuoc-tra-fuze-tea-vi-chanh-sa-450ml\n",
    "8936199810026-cafe-the-coffee-house-sua-da-22gx10-goi-(hop)\n",
    "8888589308920-tra-bi-dao-winter-melon-jj-lon-300ml\n",
    "8934673101097-sua-tuoi-tiet-trung-tiet-trung-vinamilk-khong-duong-bich-220ml\n",
    "8934563183158-mi-hao-hao-sa-te-hanh-tim-75g\n",
    "8936048470012-mi-3-mien-tom-chua-cay-65g\n",
    "8934683009925-ca-phe-sua-da-vinacafe-chat-hop-10-goi-24g\n",
    "8850228007617-nuoc-tang-luc-redbull-250ml\n",
    "8934563651138-mi-hao-hao,-vi-tom-chua-cayacecook,-coc-(67g)\n",
    "8934588063060-nuoc-loc-aquafina-chai-1-5l\n",
    "8935049510857-nuoc-loc-dasani-chai-1.5l\"\"\"\n",
    "accepted_labels = accepted_labels.splitlines()\n",
    "accepted_labels = [x for x in accepted_labels if len(x) > 0]"
   ]
  },
  {
   "cell_type": "code",
   "execution_count": 3,
   "metadata": {},
   "outputs": [
    {
     "name": "stderr",
     "output_type": "stream",
     "text": [
      "\u001b[32m2025-06-20 20:05:09.553\u001b[0m | \u001b[33m\u001b[1mWARNING \u001b[0m | \u001b[36mhcmus.lbs._label_studio_connector\u001b[0m:\u001b[36mget_tasks\u001b[0m:\u001b[36m148\u001b[0m - \u001b[33m\u001b[1mPage size is too large, only 3436 tasks available.\u001b[0m\n",
      "\u001b[32m2025-06-20 20:05:09.554\u001b[0m | \u001b[1mINFO    \u001b[0m | \u001b[36mhcmus.lbs._label_studio_connector\u001b[0m:\u001b[36mget_tasks\u001b[0m:\u001b[36m152\u001b[0m - \u001b[1mNew `page_to` applied: 35\u001b[0m\n",
      "Loading tasks: 100%|██████████| 35/35 [00:09<00:00,  3.65it/s]\n",
      "Downloading images: 100%|██████████| 3436/3436 [00:06<00:00, 571.64it/s] \n",
      "\u001b[32m2025-06-20 20:05:25.389\u001b[0m | \u001b[33m\u001b[1mWARNING \u001b[0m | \u001b[36mhcmus.lbs._label_studio_connector\u001b[0m:\u001b[36mget_tasks\u001b[0m:\u001b[36m148\u001b[0m - \u001b[33m\u001b[1mPage size is too large, only 355 tasks available.\u001b[0m\n",
      "\u001b[32m2025-06-20 20:05:25.390\u001b[0m | \u001b[1mINFO    \u001b[0m | \u001b[36mhcmus.lbs._label_studio_connector\u001b[0m:\u001b[36mget_tasks\u001b[0m:\u001b[36m152\u001b[0m - \u001b[1mNew `page_to` applied: 4\u001b[0m\n",
      "Loading tasks: 100%|██████████| 4/4 [00:02<00:00,  1.62it/s]\n",
      "Downloading images: 100%|██████████| 355/355 [00:00<00:00, 1660.76it/s]\n",
      "\u001b[32m2025-06-20 20:05:28.157\u001b[0m | \u001b[33m\u001b[1mWARNING \u001b[0m | \u001b[36mhcmus.lbs._label_studio_connector\u001b[0m:\u001b[36mget_tasks\u001b[0m:\u001b[36m148\u001b[0m - \u001b[33m\u001b[1mPage size is too large, only 78 tasks available.\u001b[0m\n",
      "\u001b[32m2025-06-20 20:05:28.157\u001b[0m | \u001b[1mINFO    \u001b[0m | \u001b[36mhcmus.lbs._label_studio_connector\u001b[0m:\u001b[36mget_tasks\u001b[0m:\u001b[36m152\u001b[0m - \u001b[1mNew `page_to` applied: 1\u001b[0m\n",
      "Loading tasks: 100%|██████████| 1/1 [00:00<00:00,  2.00it/s]\n",
      "Downloading images: 100%|██████████| 76/76 [00:00<00:00, 1078.80it/s]\n"
     ]
    }
   ],
   "source": [
    "splits = {}\n",
    "task_exclusion = {\n",
    "    \"val\": [4372, 4371]\n",
    "}\n",
    "for split_name in [\"train\", \"test\", \"val\"]:\n",
    "    lsb_connector = LabelStudioConnector(\n",
    "        url=appconfig.LABEL_STUDIO_URL,\n",
    "        api_key=appconfig.LABEL_STUDIO_API_KEY,\n",
    "        project_id=appconfig.LABEL_STUDIO_PROJECT_MAPPING[split_name],\n",
    "        temp_dir=appconfig.LABEL_STUDIO_TEMP_DIR\n",
    "    )\n",
    "\n",
    "    exclusions = task_exclusion.get(split_name, [])\n",
    "\n",
    "    tasks = lsb_connector.get_tasks()\n",
    "    tasks = [x for x in tasks if x.id not in exclusions]\n",
    "    labels = lsb_connector.extract_labels(tasks)\n",
    "    dataset = lsb_connector.download_dataset(tasks, labels)\n",
    "    dataset = lsb_connector.transform_labels(dataset, labels, accepted_labels)\n",
    "    splits[split_name] = dataset"
   ]
  },
  {
   "cell_type": "code",
   "execution_count": 4,
   "metadata": {},
   "outputs": [
    {
     "name": "stderr",
     "output_type": "stream",
     "text": [
      "\u001b[32m2025-06-20 20:05:28.765\u001b[0m | \u001b[1mINFO    \u001b[0m | \u001b[36mhcmus.data._torch_dataset\u001b[0m:\u001b[36m__init__\u001b[0m:\u001b[36m90\u001b[0m - \u001b[1mAuto infer `label2idx` mapping, mapping length: 99.\u001b[0m\n"
     ]
    }
   ],
   "source": [
    "train_dataset = CroppedObjectClassificationDataset(splits[\"train\"], skip_labels=[\"object\"])\n",
    "val_dataset = CroppedObjectClassificationDataset(splits[\"val\"], label2idx=train_dataset.label2idx, is_test=True)\n",
    "# train_loader = DataLoader(train_dataset, batch_size=BATCH_SIZE, shuffle=True, num_workers=2)\n",
    "# val_loader = DataLoader(val_dataset, batch_size=BATCH_SIZE, shuffle=False, num_workers=2)"
   ]
  },
  {
   "cell_type": "code",
   "execution_count": 5,
   "metadata": {},
   "outputs": [
    {
     "data": {
      "text/plain": [
       "4302"
      ]
     },
     "execution_count": 5,
     "metadata": {},
     "output_type": "execute_result"
    }
   ],
   "source": [
    "len(val_dataset)"
   ]
  },
  {
   "cell_type": "code",
   "execution_count": 6,
   "metadata": {},
   "outputs": [
    {
     "name": "stderr",
     "output_type": "stream",
     "text": [
      "/Volumes/Cucumber/Projects/item-identification/.venv/lib/python3.9/site-packages/tqdm/auto.py:21: TqdmWarning: IProgress not found. Please update jupyter and ipywidgets. See https://ipywidgets.readthedocs.io/en/stable/user_install.html\n",
      "  from .autonotebook import tqdm as notebook_tqdm\n",
      "Using a slow image processor as `use_fast` is unset and a slow processor was saved with this model. `use_fast=True` will be the default behavior in v4.52, even if the model was saved with a slow processor. This will result in minor differences in outputs. You'll still be able to use a slow processor with `use_fast=False`.\n"
     ]
    }
   ],
   "source": [
    "# Load model directly\n",
    "from transformers import AutoProcessor, AutoModelForZeroShotImageClassification\n",
    "from PIL import Image\n",
    "import torch\n",
    "\n",
    "processor = AutoProcessor.from_pretrained(\"openai/clip-vit-base-patch32\")\n",
    "model = AutoModelForZeroShotImageClassification.from_pretrained(\"openai/clip-vit-base-patch32\")\n",
    "device = \"cuda\" if torch.cuda.is_available() else \"cpu\"\n",
    "model = model.to(device)"
   ]
  },
  {
   "cell_type": "code",
   "execution_count": 7,
   "metadata": {},
   "outputs": [],
   "source": [
    "def classify_image(image: Image.Image, class_names, template=\"a photo of a {}\"):\n",
    "    # Create text descriptions\n",
    "    text_descriptions = [template.format(cls) for cls in class_names]\n",
    "\n",
    "    # Process inputs\n",
    "    inputs = processor(\n",
    "        text=text_descriptions,\n",
    "        images=image,\n",
    "        return_tensors=\"pt\",\n",
    "        padding=True\n",
    "    ).to(device)\n",
    "\n",
    "    # Get predictions\n",
    "    with torch.no_grad():\n",
    "        outputs = model(**inputs)\n",
    "        logits_per_image = outputs.logits_per_image\n",
    "        probs = logits_per_image.softmax(dim=1)\n",
    "\n",
    "    # Return results\n",
    "    results = {}\n",
    "    for i, class_name in enumerate(class_names):\n",
    "        results[class_name] = float(probs[0][i])\n",
    "\n",
    "    return results\n",
    "\n",
    "def print_result(predictions, metadata: dict):\n",
    "    re_map = {v: k for k, v in metadata.items()}\n",
    "    sorted_predictions = sorted(predictions.items(), key=lambda x: x[1], reverse=True)\n",
    "    for class_name, prob in sorted_predictions:\n",
    "        print(f\"{re_map[class_name]} - {class_name}: {prob:.3f}\")"
   ]
  },
  {
   "cell_type": "code",
   "execution_count": 8,
   "metadata": {},
   "outputs": [],
   "source": [
    "import json\n",
    "metadata = json.load(open(\"/Volumes/Cucumber/Projects/item-identification/res/metadata.json\"))\n",
    "class2bar = {v: k for k, v in metadata.items()}\n",
    "batch_size = 32\n",
    "classes = list(metadata.values())"
   ]
  },
  {
   "cell_type": "code",
   "execution_count": 9,
   "metadata": {},
   "outputs": [
    {
     "name": "stdout",
     "output_type": "stream",
     "text": [
      "Ground truth: 8935005801012-nuoc-loc-lavie-chai-1-5l\n"
     ]
    }
   ],
   "source": [
    "image, target = val_dataset[3]\n",
    "print(\"Ground truth:\", train_dataset.idx2label[target])\n",
    "predictions = classify_image(image, classes)"
   ]
  },
  {
   "cell_type": "code",
   "execution_count": 10,
   "metadata": {},
   "outputs": [],
   "source": [
    "import math\n",
    "def entropy(probabilities, base=2):\n",
    "    return -sum(p * math.log(p, base) for p in probabilities if p > 0)"
   ]
  },
  {
   "cell_type": "code",
   "execution_count": 11,
   "metadata": {},
   "outputs": [
    {
     "name": "stderr",
     "output_type": "stream",
     "text": [
      "The channel dimension is ambiguous. Got image shape (1, 2, 3). Assuming channels are the first dimension.\n"
     ]
    },
    {
     "name": "stdout",
     "output_type": "stream",
     "text": [
      "Error at 2212\n"
     ]
    }
   ],
   "source": [
    "result = []\n",
    "for i, item in enumerate(val_dataset):\n",
    "    try:\n",
    "        image, target = item\n",
    "        ground_truth = train_dataset.idx2label.get(target, \"unknown\").split(\"-\")[0]\n",
    "        tmp_predictions = classify_image(image, classes)\n",
    "        sorted_predictions = sorted(tmp_predictions.items(), key=lambda x: x[1], reverse=True)\n",
    "        class_name, prob = sorted_predictions[0]\n",
    "\n",
    "        result.append({\n",
    "            \"gt\": ground_truth,\n",
    "            \"prob\": prob,\n",
    "            \"pred\": class_name,\n",
    "            \"entropy\": entropy([x[1] for x in sorted_predictions])\n",
    "        })\n",
    "\n",
    "        # if train_dataset.idx2label[target].split(\"-\")[0] != class2bar[class_name]:\n",
    "        #     print(f\"======== Index {i} =======\")\n",
    "        #     print(f\"Ground truth: {train_dataset.idx2label[target]}\")\n",
    "        #     print(f\"Prediction:   {class2bar[class_name]} {class_name}\")\n",
    "    except:\n",
    "        print(f\"Error at {i}\")\n"
   ]
  },
  {
   "cell_type": "code",
   "execution_count": 12,
   "metadata": {},
   "outputs": [],
   "source": [
    "known_result = []\n",
    "unknown_result = []\n",
    "for item in result:\n",
    "    if item.get(\"gt\") == \"unknown\":\n",
    "        unknown_result.append({\n",
    "            \"prob\": item.get(\"prob\"),\n",
    "            \"entropy\": item.get(\"entropy\")\n",
    "        })\n",
    "    else:\n",
    "        known_result.append({\n",
    "            \"prob\": item.get(\"prob\"),\n",
    "            \"entropy\": item.get(\"entropy\")\n",
    "        })"
   ]
  },
  {
   "cell_type": "code",
   "execution_count": 26,
   "metadata": {},
   "outputs": [],
   "source": [
    "import seaborn as sns\n",
    "import pandas as pd\n",
    "known_df = pd.DataFrame(known_result)\n",
    "known_df[\"flag\"] = \"known\"\n",
    "unknown_df = pd.DataFrame(unknown_result)\n",
    "unknown_df[\"flag\"] = \"unknown\""
   ]
  },
  {
   "cell_type": "code",
   "execution_count": 28,
   "metadata": {},
   "outputs": [
    {
     "data": {
      "text/plain": [
       "<Axes: xlabel='flag', ylabel='prob'>"
      ]
     },
     "execution_count": 28,
     "metadata": {},
     "output_type": "execute_result"
    },
    {
     "data": {
      "image/png": "[encoded data removed]",
      "text/plain": [
       "<Figure size 640x480 with 1 Axes>"
      ]
     },
     "metadata": {},
     "output_type": "display_data"
    }
   ],
   "source": [
    "sns.boxplot(pd.concat([known_df, unknown_df]), x=\"flag\", y=\"prob\")"
   ]
  },
  {
   "cell_type": "code",
   "execution_count": 29,
   "metadata": {},
   "outputs": [
    {
     "data": {
      "text/plain": [
       "<Axes: xlabel='flag', ylabel='entropy'>"
      ]
     },
     "execution_count": 29,
     "metadata": {},
     "output_type": "execute_result"
    },
    {
     "data": {
      "image/png": "[encoded data removed]",
      "text/plain": [
       "<Figure size 640x480 with 1 Axes>"
      ]
     },
     "metadata": {},
     "output_type": "display_data"
    }
   ],
   "source": [
    "sns.boxplot(pd.concat([known_df, unknown_df]), x=\"flag\", y=\"entropy\")"
   ]
  }
 ],
 "metadata": {
  "kernelspec": {
   "display_name": ".venv",
   "language": "python",
   "name": "python3"
  },
  "language_info": {
   "codemirror_mode": {
    "name": "ipython",
    "version": 3
   },
   "file_extension": ".py",
   "mimetype": "text/x-python",
   "name": "python",
   "nbconvert_exporter": "python",
   "pygments_lexer": "ipython3",
   "version": "3.9.6"
  }
 },
 "nbformat": 4,
 "nbformat_minor": 2
}
