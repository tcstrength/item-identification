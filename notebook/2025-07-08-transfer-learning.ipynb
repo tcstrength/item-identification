{
 "cells": [
  {
   "cell_type": "code",
   "execution_count": null,
   "metadata": {},
   "outputs": [
    {
     "name": "stderr",
     "output_type": "stream",
     "text": [
      "\u001b[32m2025-07-10 10:05:52.574\u001b[0m | \u001b[33m\u001b[1mWARNING \u001b[0m | \u001b[36mhcmus.lbs._label_studio_connector\u001b[0m:\u001b[36mget_tasks\u001b[0m:\u001b[36m148\u001b[0m - \u001b[33m\u001b[1mPage size is too large, only 3443 tasks available.\u001b[0m\n",
      "\u001b[32m2025-07-10 10:05:52.575\u001b[0m | \u001b[1mINFO    \u001b[0m | \u001b[36mhcmus.lbs._label_studio_connector\u001b[0m:\u001b[36mget_tasks\u001b[0m:\u001b[36m152\u001b[0m - \u001b[1mNew `page_to` applied: 35\u001b[0m\n",
      "Loading tasks: 100%|██████████| 35/35 [00:09<00:00,  3.55it/s]\n",
      "Downloading images: 100%|██████████| 3443/3443 [00:06<00:00, 514.35it/s] \n",
      "\u001b[32m2025-07-10 10:06:09.224\u001b[0m | \u001b[33m\u001b[1mWARNING \u001b[0m | \u001b[36mhcmus.lbs._label_studio_connector\u001b[0m:\u001b[36mget_tasks\u001b[0m:\u001b[36m148\u001b[0m - \u001b[33m\u001b[1mPage size is too large, only 418 tasks available.\u001b[0m\n",
      "\u001b[32m2025-07-10 10:06:09.224\u001b[0m | \u001b[1mINFO    \u001b[0m | \u001b[36mhcmus.lbs._label_studio_connector\u001b[0m:\u001b[36mget_tasks\u001b[0m:\u001b[36m152\u001b[0m - \u001b[1mNew `page_to` applied: 5\u001b[0m\n",
      "Loading tasks: 100%|██████████| 5/5 [00:03<00:00,  1.49it/s]\n",
      "Downloading images: 100%|██████████| 418/418 [00:03<00:00, 132.41it/s]\n",
      "\u001b[32m2025-07-10 10:06:15.820\u001b[0m | \u001b[33m\u001b[1mWARNING \u001b[0m | \u001b[36mhcmus.lbs._label_studio_connector\u001b[0m:\u001b[36mget_tasks\u001b[0m:\u001b[36m148\u001b[0m - \u001b[33m\u001b[1mPage size is too large, only 286 tasks available.\u001b[0m\n",
      "\u001b[32m2025-07-10 10:06:15.821\u001b[0m | \u001b[1mINFO    \u001b[0m | \u001b[36mhcmus.lbs._label_studio_connector\u001b[0m:\u001b[36mget_tasks\u001b[0m:\u001b[36m152\u001b[0m - \u001b[1mNew `page_to` applied: 3\u001b[0m\n",
      "Loading tasks:  67%|██████▋   | 2/3 [00:01<00:00,  1.38it/s]"
     ]
    }
   ],
   "source": [
    "from hcmus.utils import data_utils, transform_utils\n",
    "\n",
    "splits = data_utils.get_data_splits()\n",
    "transform_train, transform_test = transform_utils.get_transforms_downscale_transfer_learning()\n",
    "datasets = data_utils.get_image_datasets_v2(splits, transform_train, transform_test, random_margin=0.2)\n",
    "dataloaders = data_utils.get_data_loaders_v2(datasets, {\n",
    "    \"train\": True\n",
    "})"
   ]
  },
  {
   "cell_type": "code",
   "execution_count": null,
   "metadata": {},
   "outputs": [],
   "source": [
    "from hcmus.models.backbone import CLIPBackbone\n",
    "from hcmus.models.backbone import DinoBackbone\n",
    "from hcmus.models.transfer import TransferNetwork\n",
    "from hcmus.models.transfer import TransferTrainer"
   ]
  },
  {
   "cell_type": "code",
   "execution_count": null,
   "metadata": {},
   "outputs": [],
   "source": [
    "backbone_list = [\n",
    "    # (DinoBackbone, {\"model_id\": \"facebook/dinov2-small\"}),\n",
    "    # (DinoBackbone, {\"model_id\": \"facebook/dinov2-base\"}),\n",
    "    (DinoBackbone, {\"model_id\": \"facebook/dino-vitb8\"}),\n",
    "    (DinoBackbone, {\"model_id\": \"facebook/dino-vits8\"}),\n",
    "    (DinoBackbone, {\"model_id\": \"facebook/dino-vits16\"}),\n",
    "    (DinoBackbone, {\"model_id\": \"facebook/dino-vitb16\"}),\n",
    "    (CLIPBackbone, {\"backbone_name\": \"ViT-B/32\"}),\n",
    "    (CLIPBackbone, {\"backbone_name\": \"ViT-B/16\"}),\n",
    "]"
   ]
  },
  {
   "cell_type": "code",
   "execution_count": null,
   "metadata": {},
   "outputs": [],
   "source": [
    "import mlflow\n",
    "def get_or_create_experiment():\n",
    "    name = \"/TransferLearning\"\n",
    "    try:\n",
    "        mlflow.create_experiment(name)\n",
    "    except:\n",
    "        pass\n",
    "\n",
    "    return mlflow.get_experiment_by_name(name).experiment_id"
   ]
  },
  {
   "cell_type": "code",
   "execution_count": null,
   "metadata": {},
   "outputs": [],
   "source": [
    "from hcmus.utils import mlflow_utils\n",
    "get_or_create_experiment()\n",
    "for cls, params in backbone_list:\n",
    "    mlflow.end_run()\n",
    "    backbone = cls(**params)\n",
    "    model = TransferNetwork(backbone, output_dim=99)\n",
    "    trainer = TransferTrainer(\n",
    "        model=model,\n",
    "        mlflow_experiment_name=\"/TransferLearning\",\n",
    "        mlflow_run_name=cls.__name__ + f\"/{params}\"\n",
    "    )\n",
    "    trainer.train(32, dataloaders[\"train\"], dataloaders[\"val\"])\n",
    "    trainer.load_model(\"best_model.pt\")\n",
    "    trainer.evaluate(dataloaders[\"test\"], log_mlflow=True)\n",
    "    mlflow_utils.log_json_artifact(datasets[\"train\"].label2idx, \"label2idx.json\")\n",
    "    trainer.end_run()"
   ]
  }
 ],
 "metadata": {
  "kernelspec": {
   "display_name": ".venv",
   "language": "python",
   "name": "python3"
  },
  "language_info": {
   "codemirror_mode": {
    "name": "ipython",
    "version": 3
   },
   "file_extension": ".py",
   "mimetype": "text/x-python",
   "name": "python",
   "nbconvert_exporter": "python",
   "pygments_lexer": "ipython3",
   "version": "3.9.6"
  }
 },
 "nbformat": 4,
 "nbformat_minor": 2
}
