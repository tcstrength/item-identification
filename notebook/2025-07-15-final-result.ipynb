{
 "cells": [
  {
   "cell_type": "code",
   "execution_count": 1,
   "metadata": {},
   "outputs": [],
   "source": [
    "%load_ext autoreload\n",
    "%autoreload 2"
   ]
  },
  {
   "cell_type": "code",
   "execution_count": 34,
   "metadata": {},
   "outputs": [],
   "source": [
    "from hcmus.utils import viz_utils\n",
    "from hcmus.integrate.rpn import YoloRegionProposal\n",
    "from hcmus.integrate.classifier import Classifier\n",
    "from hcmus.integrate.pipeline import ModelPipeline\n",
    "from torchvision import transforms as T\n",
    "\n",
    "transforms = T.Compose([\n",
    "    T.Resize((224, 224)),\n",
    "    T.ToTensor()\n",
    "])"
   ]
  },
  {
   "cell_type": "code",
   "execution_count": 35,
   "metadata": {},
   "outputs": [
    {
     "name": "stderr",
     "output_type": "stream",
     "text": [
      "Downloading artifacts: 100%|██████████| 1/1 [00:00<00:00,  2.04it/s]\n",
      "Downloading artifacts: 100%|██████████| 1/1 [00:00<00:00, 24.70it/s]\n",
      "Downloading artifacts: 100%|██████████| 6/6 [00:28<00:00,  4.70s/it]   \n"
     ]
    }
   ],
   "source": [
    "rpn = YoloRegionProposal(run_id=\"3ae25b8dcd324fbdbe8d5893f391e045\")\n",
    "classifier = Classifier(run_id='415b1f0c9b8640d9848e0fc470528ecc')\n",
    "pipeline = ModelPipeline(rpn, classifier, transforms)"
   ]
  },
  {
   "cell_type": "code",
   "execution_count": 37,
   "metadata": {},
   "outputs": [
    {
     "name": "stdout",
     "output_type": "stream",
     "text": [
      "\n",
      "0: 480x640 40 objects, 27.2ms\n",
      "Speed: 1.0ms preprocess, 27.2ms inference, 0.3ms postprocess per image at shape (1, 3, 480, 640)\n"
     ]
    },
    {
     "name": "stderr",
     "output_type": "stream",
     "text": [
      "\u001b[32m2025-07-15 21:01:02.158\u001b[0m | \u001b[1mINFO    \u001b[0m | \u001b[36mhcmus.integrate.pipeline\u001b[0m:\u001b[36mforward\u001b[0m:\u001b[36m29\u001b[0m - \u001b[1mRemoving duplicated boxes, before: 29\u001b[0m\n",
      "\u001b[32m2025-07-15 21:01:02.158\u001b[0m | \u001b[1mINFO    \u001b[0m | \u001b[36mhcmus.integrate.pipeline\u001b[0m:\u001b[36mforward\u001b[0m:\u001b[36m31\u001b[0m - \u001b[1mDeduplicated boxes: 28\u001b[0m\n"
     ]
    }
   ],
   "source": [
    "image_path = \"/Volumes/Cucumber/Projects/datasets/raw/hcmus-iid/val/images/378020a40e167940a0f900621c230236.jpeg\"\n",
    "result = pipeline.forward(image_path)"
   ]
  },
  {
   "cell_type": "code",
   "execution_count": null,
   "metadata": {},
   "outputs": [],
   "source": []
  }
 ],
 "metadata": {
  "kernelspec": {
   "display_name": ".venv",
   "language": "python",
   "name": "python3"
  },
  "language_info": {
   "codemirror_mode": {
    "name": "ipython",
    "version": 3
   },
   "file_extension": ".py",
   "mimetype": "text/x-python",
   "name": "python",
   "nbconvert_exporter": "python",
   "pygments_lexer": "ipython3",
   "version": "3.9.6"
  }
 },
 "nbformat": 4,
 "nbformat_minor": 2
}
