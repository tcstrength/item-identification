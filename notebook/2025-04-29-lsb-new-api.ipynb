{
 "cells": [
  {
   "cell_type": "code",
   "execution_count": 1,
   "metadata": {},
   "outputs": [],
   "source": [
    "%load_ext autoreload\n",
    "%autoreload 2"
   ]
  },
  {
   "cell_type": "code",
   "execution_count": 2,
   "metadata": {},
   "outputs": [
    {
     "name": "stderr",
     "output_type": "stream",
     "text": [
      "\u001b[32m2025-05-18 09:32:06.322\u001b[0m | \u001b[1mINFO    \u001b[0m | \u001b[36mhcmus.core.appconfig\u001b[0m:\u001b[36m<module>\u001b[0m:\u001b[36m7\u001b[0m - \u001b[1mLoad DotEnv: True\u001b[0m\n",
      "/Volumes/Cucumber/Projects/item-identification/.venv/lib/python3.9/site-packages/urllib3/__init__.py:35: NotOpenSSLWarning: urllib3 v2 only supports OpenSSL 1.1.1+, currently the 'ssl' module is compiled with 'LibreSSL 2.8.3'. See: https://github.com/urllib3/urllib3/issues/3020\n",
      "  warnings.warn(\n"
     ]
    }
   ],
   "source": [
    "from hcmus.core import appconfig\n",
    "from hcmus.lbs import LabelStudioConnector"
   ]
  },
  {
   "cell_type": "code",
   "execution_count": 3,
   "metadata": {},
   "outputs": [],
   "source": [
    "lsb_connector = LabelStudioConnector(\n",
    "    url=appconfig.LABEL_STUDIO_URL,\n",
    "    api_key=appconfig.LABEL_STUDIO_API_KEY,\n",
    "    project_id=appconfig.LABEL_STUDIO_PROJECT_MAPPING[\"validation\"],\n",
    "    temp_dir=appconfig.LABEL_STUDIO_TEMP_DIR\n",
    ")"
   ]
  },
  {
   "cell_type": "code",
   "execution_count": 4,
   "metadata": {},
   "outputs": [
    {
     "data": {
      "text/plain": [
       "383"
      ]
     },
     "execution_count": 4,
     "metadata": {},
     "output_type": "execute_result"
    }
   ],
   "source": [
    "lsb_connector.get_total_tasks()"
   ]
  },
  {
   "cell_type": "code",
   "execution_count": 5,
   "metadata": {},
   "outputs": [],
   "source": [
    "from hcmus.data import TorchDataset"
   ]
  },
  {
   "cell_type": "code",
   "execution_count": 6,
   "metadata": {},
   "outputs": [
    {
     "name": "stderr",
     "output_type": "stream",
     "text": [
      "\u001b[32m2025-05-18 09:32:07.614\u001b[0m | \u001b[33m\u001b[1mWARNING \u001b[0m | \u001b[36mhcmus.lbs._label_studio_connector\u001b[0m:\u001b[36mget_tasks\u001b[0m:\u001b[36m121\u001b[0m - \u001b[33m\u001b[1mPage size is too large, only 383 tasks available.\u001b[0m\n",
      "Loading tasks:  75%|███████▌  | 3/4 [00:01<00:00,  1.63it/s]\n",
      "Downloading images: 100%|██████████| 214/214 [00:07<00:00, 30.04it/s]\n",
      "\u001b[32m2025-05-18 09:32:16.625\u001b[0m | \u001b[1mINFO    \u001b[0m | \u001b[36mhcmus.data._torch_dataset\u001b[0m:\u001b[36m__init__\u001b[0m:\u001b[36m30\u001b[0m - \u001b[1mNumber of labels: 172\u001b[0m\n",
      "\u001b[32m2025-05-18 09:32:16.626\u001b[0m | \u001b[1mINFO    \u001b[0m | \u001b[36mhcmus.data._torch_dataset\u001b[0m:\u001b[36m__init__\u001b[0m:\u001b[36m31\u001b[0m - \u001b[1mNumber of data points: 214\u001b[0m\n"
     ]
    }
   ],
   "source": [
    "dataset = TorchDataset(lsb_connector, device=\"cpu\")"
   ]
  }
 ],
 "metadata": {
  "kernelspec": {
   "display_name": ".venv",
   "language": "python",
   "name": "python3"
  },
  "language_info": {
   "codemirror_mode": {
    "name": "ipython",
    "version": 3
   },
   "file_extension": ".py",
   "mimetype": "text/x-python",
   "name": "python",
   "nbconvert_exporter": "python",
   "pygments_lexer": "ipython3",
   "version": "3.9.6"
  }
 },
 "nbformat": 4,
 "nbformat_minor": 2
}
