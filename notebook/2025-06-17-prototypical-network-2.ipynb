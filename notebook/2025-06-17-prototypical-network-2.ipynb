{
  "cells": [
    {
      "cell_type": "code",
      "execution_count": 1,
      "metadata": {},
      "outputs": [],
      "source": [
        "%load_ext autoreload\n",
        "%autoreload 2"
      ]
    },
    {
      "cell_type": "code",
      "execution_count": 2,
      "metadata": {
        "id": "2TtFJBLOvq09"
      },
      "outputs": [
        {
          "name": "stderr",
          "output_type": "stream",
          "text": [
            "\u001b[32m2025-06-17 22:11:34.775\u001b[0m | \u001b[1mINFO    \u001b[0m | \u001b[36mhcmus.core.appconfig\u001b[0m:\u001b[36m<module>\u001b[0m:\u001b[36m7\u001b[0m - \u001b[1mLoad DotEnv: True\u001b[0m\n",
            "/Volumes/Cucumber/Projects/item-identification/.venv/lib/python3.9/site-packages/urllib3/__init__.py:35: NotOpenSSLWarning: urllib3 v2 only supports OpenSSL 1.1.1+, currently the 'ssl' module is compiled with 'LibreSSL 2.8.3'. See: https://github.com/urllib3/urllib3/issues/3020\n",
            "  warnings.warn(\n"
          ]
        }
      ],
      "source": [
        "from torch.utils.data import DataLoader\n",
        "from hcmus.core import appconfig\n",
        "from hcmus.utils import viz_utils\n",
        "from hcmus.lbs import LabelStudioConnector\n",
        "from hcmus.data import CroppedObjectClassificationDataset"
      ]
    },
    {
      "cell_type": "code",
      "execution_count": 3,
      "metadata": {},
      "outputs": [],
      "source": [
        "import mlflow\n",
        "experiment_name = \"/PrototypicalNetworkOVR\"\n",
        "experiment = mlflow.get_experiment_by_name(experiment_name)\n",
        "experiment_id = None\n",
        "if not experiment:\n",
        "    experiment_id = mlflow.create_experiment(experiment_name)\n",
        "else:\n",
        "    experiment_id = experiment.experiment_id"
      ]
    },
    {
      "cell_type": "code",
      "execution_count": 4,
      "metadata": {},
      "outputs": [],
      "source": [
        "accepted_labels = \"\"\"\n",
        "8934804026817-nuoc-tuong-maggi-dau-nanh-thanh-diu-chai-700ml\n",
        "8934804020402-nuoc-tuong-maggi-dau-nanh-dam-dac-700ml\n",
        "8936048470524-mi-tom-3-mien-gold-vi-bo-ham-rau-thom-75g\n",
        "8934822201272-bia-heineken-silver-lon-250ml\n",
        "5054563022592-kem-danh-rang-sensodyne-giam-e-buotlam-sang-rang-100g\n",
        "8934868166344-nuoc-rua-tay-lifebouy-450ml\n",
        "8934707029182-hat-nem-knorr-thit-than-xuong-ong-va-tuy-900g\n",
        "8934822361211-bia-heineken-khong-con-lon-330ml\n",
        "8850006932346-kem-danh-rang-colgate-maxfresh-huong-tra-xanh-225g-+-ban-chai-long-to\n",
        "8850006932322-kem-danh-rang-colgate-maxfresh-huong-bac-ha-225g-+-ban-chai-long-to\n",
        "6920354827792-kem-danh-rang-colgate-maxfresh-tinh-chat-than-tre-225g-+-ban-chai-long-to\n",
        "8936136163314-nuoc-mam-nam-ngu-3-trong-1-750ml\n",
        "8934563198152-mi-hao-hao-chay-vi-rau-nam-74gr\n",
        "8935049501503-nuoc-ngot-coca-cola-vi-nguyen-ban-lon-320ml\n",
        "8936048470036-mi-3-mien-mi-chay-la-da-65g-(goi)\n",
        "8935001215028-tra-tea-break-milk-350ml\n",
        "8935006532755-kem-rua-mat-acnes-vitamin-lam-sang-da,-mo-seo-tham-50g\n",
        "8935018801641-khan-bep-da-nang-pulppy-classic-2-lop-loc-2-cuon\n",
        "8935024123287-ca-phe-sua-hoa-tan-g7-3in1-hop-336g-(16g-x-21-goi)\n",
        "8935006538634-dau-tay-trang-hada-labo-sach-sau-duong-am-toi-uu-200ml\n",
        "8934840000093-nuoc-khoang-chanh-lemona-chai-500ml\n",
        "8997035601321-nuoc-uong-bu-dien-giai-bo-sung-ion-pocari-sweat-chai-900ml\n",
        "4897036693162-nuoc-tang-luc-monster-mango-loco-355ml\n",
        "809939073648-soda-sua-huong-vi-chuoi-milkis-banana\n",
        "8934804038131-tra-hoa-qua-nestea-hoa-tan-hop-144g-12-goi-x-12g\n",
        "8936048471248-mi-tom-chua-cay-dac-biet-3-mien-gold-goi-75g\n",
        "8934804027333-tra-chanh-nestea-hoa-tan-hop-195g-15-goi-x-13g\n",
        "8936010530881-tra-chanh-cozy-hoa-tan-hop-240g-16-goi-x-15g\n",
        "8935049510604-nuoc-ngot-sprite-chai-320ml\n",
        "8934588672118-nuoc-ngot-pepsi-khong-calo-vi-chanh-320ml\n",
        "8935049501572-nuoc-ngot-fanta-vi-cam-lon-320ml\n",
        "8935049500445-nuoc-ngot-fanta-chai-1.5l\n",
        "8936721790017-nuoc-loc-th-true-water-chai-500ml\n",
        "8935049501718-nuoc-ngot-sprite-lon-320ml\n",
        "8936193070013-tra-xanh-khong-do-500ml\n",
        "8935137601122-tra-xanh-thai-nguyen-100g\n",
        "8934564600883-tra-den-c2-vi-dua-luoi-chai-455ml\n",
        "8935001214274-tra-bi-dao-wonderfarm-lon-310ml\n",
        "8934588870552-tra-olong-teaplus-450ml\n",
        "6920354836930-kem-danh-rang-colgate-optic-white-cong-nghe-sac-tim-100g\n",
        "8935049501374-nuoc-ngot-cocacola-vi-nguyen-ban-chai-600ml\n",
        "8935039570700-ca-phe-sua-robusta-birdy-lon-170ml\n",
        "8934673701402-nuoc-dao-necta-vinamilk-hop-1l\n",
        "8935005801012-nuoc-loc-lavie-chai-1-5l\n",
        "8936079140021-ca-phe-sua-highland-coffee-lon-185ml\n",
        "8934588640445-ca-phe-sua-boss-lon-180ml\n",
        "8934683008614-ca-phe-sua-vinacafe-3-in-1-gold-tui-480g-24-goi-tui\n",
        "8934683008867-nuoc-tang-luc-wake-up-247-vi-ca-phe-330ml\n",
        "8935328600156-tra-xanh-tui-loc-phuc-long-2g-x-hop-25-goi\n",
        "4902430805322-nuoc-rua-tay-diet-khuan-safeguard-trang-tinh-khiet-450ml\n",
        "8936156730718-nuoc-xa-vai-blue-dam-dac-huong-thanh-xuan-tui-3.2l\n",
        "8934868166825-dau-goi-sunsilk-natural-duong-ngan-gay-rung-650g\n",
        "8934804040523-tra-vai-va-huong-hoa-lai-nestea-hoa-tan-hop-144g-12-goi-x-12g\n",
        "8934822801335-bia-tiger-crystal-4-6-phan-tram-lon-330ml\n",
        "8934868156871-dau-xa-sunsilk-mem-muot-dieu-ky-320g\n",
        "8936010530713-tra-dao-cozy-hoa-tan-hop-16-goi-x-15g\n",
        "8934868171850-nuoc-lau-kinh-sunlight-sieu-nhanh-sach-trong-suot-chai-520ml\n",
        "8850228003541-nuoc-tang-luc-warrior-huong-dau-chai-330ml\n",
        "8936193070075-nuoc-tang-luc-number-1-chai-330ml\n",
        "8934588012112-nuoc-ngot-pepsi-cola-320ml\n",
        "8936013254951-nuoc-rua-kinh-gift-540ml\n",
        "8934868190394-nuoc-giat-comfort-huong-hoa-anh-dao-va-dao-tuoi-tui-3kg\n",
        "3068320055008-nuoc-loc-evivan-chai-500ml\n",
        "8936127794206-nuoc-uong-sua-trai-cay-th-true-juice-milk-huong-viet-quat-300ml\n",
        "8935049511038-sua-trai-cay-nutriboost-cam-chai-1l\n",
        "8934673573399-sua-tuoi-tiet-trung-co-duong,-100%-sua-tuoivinamilk-(1lit).\n",
        "3760128640607-sua-tuoi-tiet-trung-promess-nguyen-kem-hop-1l\n",
        "8934822212339-bia-heineken-lon-cao-330ml\n",
        "8801382123446-nuoc-gao-han-quoc-loai-500ml\n",
        "8936036201604-bia-hoegaarden-rosee-chai-248ml\n",
        "8934692090013-bia-1664-blanc-5%-abv-chai-330ml\n",
        "8934868166870-dau-goi-sunsilk-ong-muot-rang-ngoi-chai-650g\n",
        "8934588233074-nuoc-tang-luc-sting-vi-dau-tay-do-330ml\n",
        "8934822431211-bia-tiger-soju-infused-lager-wonder-melon-vi-dua-luoi-lon-330ml\n",
        "8934822112332-bia-tiger-lon-cao-330ml-lon\n",
        "8934868180470-dau-goi-dove-biotin-ngan-gay-rung-toc-880g\n",
        "8935024170519-ca-phe-trung-nguyen-legend-classic-hop-357g-17g-x-21-goi\n",
        "8934868166351-nuoc-rua-tay-lifebuoy-matcha-va-lo-hoichai-450g\n",
        "8936191270057-ca-phe-cappuccino-dua-just-viet-hop-hop-10-goi-x-17g\n",
        "8934868166924-dau-goi-sunsilk-mem-muot-dieu-ky-chai-650g\n",
        "8934804028064-ca-phe-hoa-tan-nescafe-3in1-vi-nguyen-ban-tui-782g-(17g-x-46-goi)\n",
        "8936122200276-ca-phe-mr.brown-blue-mountain-240ml\n",
        "8934563122201-mi-hao-hao-vi-tom-chua-cay-goi-100g\n",
        "8935136865709-sua-tam-purite-duong-da-mem-min-huong-hoa-hong-rose-chai-850ml\n",
        "8934822451295-nuoc-trai-cay-len-men-strongbow-vi-thom-luu-3.5%-lon-330ml\n",
        "8934868170990-nuoc-rua-tay-lifebuoy-vitamin-sua-duong-am-tui-1kg\n",
        "8936094291005-bia-budweiser-5-lon-330ml\n",
        "8934822121297-nuoc-trai-cay-len-men-strongbow-red-beries-4.5%-abv-lon-320ml\n",
        "8934822111298-nuoc-trai-cay-len-men-strongbow-gold-apple-4-5-abv-lon-320ml\n",
        "8935049501190-nuoc-tra-fuze-tea-vi-chanh-sa-450ml\n",
        "8936199810026-cafe-the-coffee-house-sua-da-22gx10-goi-(hop)\n",
        "8888589308920-tra-bi-dao-winter-melon-jj-lon-300ml\n",
        "8934673101097-sua-tuoi-tiet-trung-tiet-trung-vinamilk-khong-duong-bich-220ml\n",
        "8934563183158-mi-hao-hao-sa-te-hanh-tim-75g\n",
        "8936048470012-mi-3-mien-tom-chua-cay-65g\n",
        "8934683009925-ca-phe-sua-da-vinacafe-chat-hop-10-goi-24g\n",
        "8850228007617-nuoc-tang-luc-redbull-250ml\n",
        "8934563651138-mi-hao-hao,-vi-tom-chua-cayacecook,-coc-(67g)\n",
        "8934588063060-nuoc-loc-aquafina-chai-1-5l\n",
        "8935049510857-nuoc-loc-dasani-chai-1.5l\"\"\"\n",
        "accepted_labels = accepted_labels.splitlines()\n",
        "accepted_labels = [x for x in accepted_labels if len(x) > 0]"
      ]
    },
    {
      "cell_type": "code",
      "execution_count": 5,
      "metadata": {
        "id": "HJ-srbQqvtn8"
      },
      "outputs": [
        {
          "name": "stderr",
          "output_type": "stream",
          "text": [
            "\u001b[32m2025-06-17 22:11:36.786\u001b[0m | \u001b[33m\u001b[1mWARNING \u001b[0m | \u001b[36mhcmus.lbs._label_studio_connector\u001b[0m:\u001b[36mget_tasks\u001b[0m:\u001b[36m148\u001b[0m - \u001b[33m\u001b[1mPage size is too large, only 3308 tasks available.\u001b[0m\n",
            "\u001b[32m2025-06-17 22:11:36.786\u001b[0m | \u001b[1mINFO    \u001b[0m | \u001b[36mhcmus.lbs._label_studio_connector\u001b[0m:\u001b[36mget_tasks\u001b[0m:\u001b[36m152\u001b[0m - \u001b[1mNew `page_to` applied: 34\u001b[0m\n",
            "Loading tasks: 100%|██████████| 34/34 [00:09<00:00,  3.72it/s]\n",
            "Downloading images: 100%|██████████| 3308/3308 [00:04<00:00, 708.35it/s] \n",
            "\u001b[32m2025-06-17 22:11:50.700\u001b[0m | \u001b[33m\u001b[1mWARNING \u001b[0m | \u001b[36mhcmus.lbs._label_studio_connector\u001b[0m:\u001b[36mget_tasks\u001b[0m:\u001b[36m148\u001b[0m - \u001b[33m\u001b[1mPage size is too large, only 355 tasks available.\u001b[0m\n",
            "\u001b[32m2025-06-17 22:11:50.701\u001b[0m | \u001b[1mINFO    \u001b[0m | \u001b[36mhcmus.lbs._label_studio_connector\u001b[0m:\u001b[36mget_tasks\u001b[0m:\u001b[36m152\u001b[0m - \u001b[1mNew `page_to` applied: 4\u001b[0m\n",
            "Loading tasks: 100%|██████████| 4/4 [00:02<00:00,  1.44it/s]\n",
            "Downloading images: 100%|██████████| 355/355 [00:00<00:00, 1914.17it/s]\n",
            "\u001b[32m2025-06-17 22:11:53.733\u001b[0m | \u001b[33m\u001b[1mWARNING \u001b[0m | \u001b[36mhcmus.lbs._label_studio_connector\u001b[0m:\u001b[36mget_tasks\u001b[0m:\u001b[36m148\u001b[0m - \u001b[33m\u001b[1mPage size is too large, only 79 tasks available.\u001b[0m\n",
            "\u001b[32m2025-06-17 22:11:53.733\u001b[0m | \u001b[1mINFO    \u001b[0m | \u001b[36mhcmus.lbs._label_studio_connector\u001b[0m:\u001b[36mget_tasks\u001b[0m:\u001b[36m152\u001b[0m - \u001b[1mNew `page_to` applied: 1\u001b[0m\n",
            "Loading tasks: 100%|██████████| 1/1 [00:00<00:00,  1.02it/s]\n",
            "Downloading images: 100%|██████████| 79/79 [00:00<00:00, 795.29it/s]\n"
          ]
        }
      ],
      "source": [
        "splits = {}\n",
        "labels = {}\n",
        "for split_name in [\"train\", \"test\", \"val\"]:\n",
        "    lsb_connector = LabelStudioConnector(\n",
        "        url=appconfig.LABEL_STUDIO_URL,\n",
        "        api_key=appconfig.LABEL_STUDIO_API_KEY,\n",
        "        project_id=appconfig.LABEL_STUDIO_PROJECT_MAPPING[split_name],\n",
        "        temp_dir=appconfig.LABEL_STUDIO_TEMP_DIR\n",
        "    )\n",
        "\n",
        "    tasks = lsb_connector.get_tasks()\n",
        "    if split_name == \"train\":\n",
        "        labels = lsb_connector.extract_labels(tasks)\n",
        "    dataset = lsb_connector.download_dataset(tasks, labels)\n",
        "    dataset = lsb_connector.transform_labels(dataset, labels, accepted_labels)\n",
        "    splits[split_name] = dataset"
      ]
    },
    {
      "cell_type": "code",
      "execution_count": 6,
      "metadata": {},
      "outputs": [
        {
          "name": "stdout",
          "output_type": "stream",
          "text": [
            "Validate labels and boxes\n",
            "PASSED!\n"
          ]
        }
      ],
      "source": [
        "print(\"Validate labels and boxes\")\n",
        "for split_name in splits.keys():\n",
        "    for item in splits[split_name]:\n",
        "        a = item.get(\"target\").get(\"labels\")\n",
        "        b = item.get(\"target\").get(\"boxes\")\n",
        "        assert len(a) == len(b)\n",
        "print(\"PASSED!\")"
      ]
    },
    {
      "cell_type": "code",
      "execution_count": 7,
      "metadata": {},
      "outputs": [],
      "source": [
        "import torchvision.transforms as transforms\n",
        "transform_train = transforms.Compose([\n",
        "    transforms.Resize((224, 224)),\n",
        "    transforms.RandomRotation(90),\n",
        "    transforms.ToTensor(),\n",
        "])\n",
        "\n",
        "transform_basic = transforms.Compose([\n",
        "    transforms.Resize((224, 224)),\n",
        "    transforms.ToTensor(),\n",
        "])"
      ]
    },
    {
      "cell_type": "code",
      "execution_count": 8,
      "metadata": {},
      "outputs": [
        {
          "name": "stderr",
          "output_type": "stream",
          "text": [
            "\u001b[32m2025-06-17 22:11:54.879\u001b[0m | \u001b[1mINFO    \u001b[0m | \u001b[36mhcmus.data._torch_dataset\u001b[0m:\u001b[36m__init__\u001b[0m:\u001b[36m156\u001b[0m - \u001b[1mAuto infer `label2idx` mapping, mapping length: 90.\u001b[0m\n"
          ]
        }
      ],
      "source": [
        "from torch.utils.data import DataLoader\n",
        "from easyfsl.samplers import TaskSampler\n",
        "from hcmus.data import CroppedFewShotDataset\n",
        "device = \"cpu\"\n",
        "skip_labels = [\n",
        "    \"object\",\n",
        "    \"8936136163314-nuoc-mam-nam-ngu-3-trong-1-750ml\",\n",
        "    \"8936079140021-ca-phe-sua-highland-coffee-lon-185ml\",\n",
        "    \"8936048470012-mi-3-mien-tom-chua-cay-65g\",\n",
        "    \"8934822111298-nuoc-trai-cay-len-men-strongbow-gold-apple-4-5-abv-lon-320ml\",\n",
        "    \"8936036201604-bia-hoegaarden-rosee-chai-248ml\",\n",
        "    \"8934673101097-sua-tuoi-tiet-trung-tiet-trung-vinamilk-khong-duong-bich-220ml\",\n",
        "    \"8801382123446-nuoc-gao-han-quoc-loai-500ml\",\n",
        "    \"5054563022592-kem-danh-rang-sensodyne-giam-e-buotlam-sang-rang-100g\",\n",
        "    \"8850006932322-kem-danh-rang-colgate-maxfresh-huong-bac-ha-225g-+-ban-chai-long-to\",\n",
        "]\n",
        "train_dataset = CroppedFewShotDataset(splits[\"train\"], skip_labels=skip_labels, transforms=transform_train)\n",
        "val_dataset = CroppedFewShotDataset(splits[\"val\"], skip_labels=skip_labels, label2idx=train_dataset.label2idx, transforms=transform_basic, keep_unknown=False)\n",
        "\n",
        "n_way = 5\n",
        "n_shot = 5\n",
        "n_query = 10\n",
        "n_tasks = 32\n",
        "train_sampler = TaskSampler(\n",
        "    dataset=train_dataset,\n",
        "    n_way=n_way,\n",
        "    n_shot=n_shot,\n",
        "    n_query=n_query,\n",
        "    n_tasks=n_tasks\n",
        ")\n",
        "train_dataloader = DataLoader(\n",
        "    train_dataset,\n",
        "    batch_sampler=train_sampler,\n",
        "    collate_fn=train_sampler.episodic_collate_fn\n",
        ")\n",
        "\n",
        "support_sampler = TaskSampler(\n",
        "    dataset=train_dataset,\n",
        "    n_way=len(train_dataset.label2idx),\n",
        "    n_shot=n_shot,\n",
        "    n_query=0,\n",
        "    n_tasks=32\n",
        ")\n",
        "support_dataloader = DataLoader(\n",
        "    train_dataset,\n",
        "    batch_sampler=support_sampler,\n",
        "    collate_fn=support_sampler.episodic_collate_fn\n",
        ")\n",
        "\n",
        "val_dataloader = DataLoader(\n",
        "    val_dataset,\n",
        "    shuffle=False,\n",
        "    batch_size=32\n",
        ")"
      ]
    },
    {
      "cell_type": "code",
      "execution_count": 9,
      "metadata": {},
      "outputs": [],
      "source": [
        "support_images, support_labels, _, _, _ = next(iter(support_dataloader))"
      ]
    },
    {
      "cell_type": "code",
      "execution_count": 15,
      "metadata": {},
      "outputs": [],
      "source": [
        "import torch\n",
        "from statistics import mean\n",
        "from tqdm import tqdm\n",
        "from torch import nn\n",
        "from torch.optim import SGD, Optimizer\n",
        "from torch.optim.lr_scheduler import MultiStepLR\n",
        "from easyfsl.methods import FewShotClassifier\n",
        "from easyfsl.methods import PrototypicalNetworks\n",
        "from hcmus.models.prototype import CLIPBackbone\n",
        "backbone = CLIPBackbone()\n",
        "model = PrototypicalNetworks(backbone)\n",
        "\n",
        "n_epochs = 100\n",
        "scheduler_milestones = [120, 160]\n",
        "scheduler_gamma = 0.1\n",
        "learning_rate = 1e-3\n",
        "\n",
        "\n",
        "# model[-1] if freeze_backbone, otherwise no specified\n",
        "optimizer = SGD(\n",
        "    model.parameters(), lr=learning_rate, momentum=0.9, weight_decay=5e-4\n",
        ")\n",
        "\n",
        "scheduler = MultiStepLR(\n",
        "    optimizer,\n",
        "    milestones=scheduler_milestones,\n",
        "    gamma=scheduler_gamma,\n",
        ")\n",
        "criterion = nn.CrossEntropyLoss()"
      ]
    },
    {
      "cell_type": "code",
      "execution_count": 16,
      "metadata": {},
      "outputs": [
        {
          "data": {
            "text/plain": [
              "(450, 450)"
            ]
          },
          "execution_count": 16,
          "metadata": {},
          "output_type": "execute_result"
        }
      ],
      "source": [
        "len(support_images), len(support_labels)"
      ]
    },
    {
      "cell_type": "code",
      "execution_count": 17,
      "metadata": {},
      "outputs": [],
      "source": [
        "def evaluate(\n",
        "    model: FewShotClassifier,\n",
        "    support_images,\n",
        "    support_labels,\n",
        "    data_loader: DataLoader\n",
        "):\n",
        "    model.eval()\n",
        "    known_count = 0\n",
        "    known_accuracy = 0\n",
        "    with torch.no_grad():\n",
        "        model.process_support_set(support_images, support_labels)\n",
        "        for query_images, query_labels in tqdm(data_loader, desc=\"Evaluating\"):\n",
        "            scores = model(query_images)\n",
        "            predictions = scores.argmax(dim=1)\n",
        "            accuracy = predictions == query_labels\n",
        "            known_mask = query_labels >= 0\n",
        "            if known_mask.sum() > 0:\n",
        "                known_accuracy += accuracy[known_mask].sum()\n",
        "                known_count += known_mask.sum()\n",
        "    return known_accuracy / known_count\n"
      ]
    },
    {
      "cell_type": "code",
      "execution_count": 18,
      "metadata": {},
      "outputs": [],
      "source": [
        "def train_epoch(\n",
        "    model: FewShotClassifier,\n",
        "    data_loader: DataLoader,\n",
        "    optimizer: Optimizer\n",
        "):\n",
        "    all_loss = []\n",
        "    model.train()\n",
        "    with tqdm(\n",
        "        enumerate(data_loader), total=len(data_loader), desc=\"Training\"\n",
        "    ) as tqdm_train:\n",
        "        for _, (\n",
        "            train_images,\n",
        "            train_labels,\n",
        "            query_images,\n",
        "            query_labels,\n",
        "            _,\n",
        "        ) in tqdm_train:\n",
        "            optimizer.zero_grad()\n",
        "            model.process_support_set(\n",
        "                train_images, train_labels\n",
        "            )\n",
        "            classification_scores = model(query_images)\n",
        "\n",
        "            loss = criterion(classification_scores, query_labels)\n",
        "            loss.backward()\n",
        "            optimizer.step()\n",
        "\n",
        "            all_loss.append(loss.item())\n",
        "\n",
        "            tqdm_train.set_postfix(loss=mean(all_loss))\n",
        "\n",
        "    return mean(all_loss)"
      ]
    },
    {
      "cell_type": "code",
      "execution_count": 19,
      "metadata": {},
      "outputs": [
        {
          "name": "stderr",
          "output_type": "stream",
          "text": [
            "Evaluating: 100%|██████████| 23/23 [00:32<00:00,  1.42s/it]\n"
          ]
        },
        {
          "name": "stdout",
          "output_type": "stream",
          "text": [
            "Base Accuracy:  tensor(0.5524)\n",
            "Epoch 0\n"
          ]
        },
        {
          "name": "stderr",
          "output_type": "stream",
          "text": [
            "Training: 100%|██████████| 32/32 [05:16<00:00,  9.89s/it, loss=0.765]\n",
            "Evaluating: 100%|██████████| 23/23 [00:33<00:00,  1.45s/it]\n"
          ]
        },
        {
          "name": "stdout",
          "output_type": "stream",
          "text": [
            "Accuracy:  tensor(0.1293)\n",
            "Epoch 1\n"
          ]
        },
        {
          "name": "stderr",
          "output_type": "stream",
          "text": [
            "Training: 100%|██████████| 32/32 [04:51<00:00,  9.12s/it, loss=0.362]\n",
            "Evaluating: 100%|██████████| 23/23 [00:33<00:00,  1.45s/it]\n"
          ]
        },
        {
          "name": "stdout",
          "output_type": "stream",
          "text": [
            "Accuracy:  tensor(0.2503)\n",
            "Epoch 2\n"
          ]
        },
        {
          "name": "stderr",
          "output_type": "stream",
          "text": [
            "Training: 100%|██████████| 32/32 [04:56<00:00,  9.27s/it, loss=0.271]\n",
            "Evaluating: 100%|██████████| 23/23 [00:32<00:00,  1.41s/it]\n"
          ]
        },
        {
          "name": "stdout",
          "output_type": "stream",
          "text": [
            "Accuracy:  tensor(0.2408)\n",
            "Epoch 3\n"
          ]
        },
        {
          "name": "stderr",
          "output_type": "stream",
          "text": [
            "Training: 100%|██████████| 32/32 [04:45<00:00,  8.93s/it, loss=0.233]\n",
            "Evaluating: 100%|██████████| 23/23 [00:33<00:00,  1.47s/it]\n"
          ]
        },
        {
          "name": "stdout",
          "output_type": "stream",
          "text": [
            "Accuracy:  tensor(0.3224)\n",
            "Epoch 4\n"
          ]
        },
        {
          "name": "stderr",
          "output_type": "stream",
          "text": [
            "Training: 100%|██████████| 32/32 [04:52<00:00,  9.15s/it, loss=0.227]\n",
            "Evaluating: 100%|██████████| 23/23 [00:33<00:00,  1.45s/it]\n"
          ]
        },
        {
          "name": "stdout",
          "output_type": "stream",
          "text": [
            "Accuracy:  tensor(0.2571)\n",
            "Epoch 5\n"
          ]
        },
        {
          "name": "stderr",
          "output_type": "stream",
          "text": [
            "Training: 100%|██████████| 32/32 [04:53<00:00,  9.17s/it, loss=0.178]\n",
            "Evaluating: 100%|██████████| 23/23 [00:32<00:00,  1.41s/it]\n"
          ]
        },
        {
          "name": "stdout",
          "output_type": "stream",
          "text": [
            "Accuracy:  tensor(0.2667)\n",
            "Epoch 6\n"
          ]
        },
        {
          "name": "stderr",
          "output_type": "stream",
          "text": [
            "Training: 100%|██████████| 32/32 [04:41<00:00,  8.81s/it, loss=0.199]\n",
            "Evaluating: 100%|██████████| 23/23 [00:32<00:00,  1.41s/it]\n"
          ]
        },
        {
          "name": "stdout",
          "output_type": "stream",
          "text": [
            "Accuracy:  tensor(0.2340)\n",
            "Epoch 7\n"
          ]
        },
        {
          "name": "stderr",
          "output_type": "stream",
          "text": [
            "Training: 100%|██████████| 32/32 [04:43<00:00,  8.86s/it, loss=0.162]\n",
            "Evaluating: 100%|██████████| 23/23 [00:32<00:00,  1.41s/it]\n"
          ]
        },
        {
          "name": "stdout",
          "output_type": "stream",
          "text": [
            "Accuracy:  tensor(0.3551)\n",
            "Epoch 8\n"
          ]
        },
        {
          "name": "stderr",
          "output_type": "stream",
          "text": [
            "Training: 100%|██████████| 32/32 [04:45<00:00,  8.92s/it, loss=0.162]\n",
            "Evaluating: 100%|██████████| 23/23 [00:32<00:00,  1.42s/it]\n"
          ]
        },
        {
          "name": "stdout",
          "output_type": "stream",
          "text": [
            "Accuracy:  tensor(0.3565)\n",
            "Epoch 9\n"
          ]
        },
        {
          "name": "stderr",
          "output_type": "stream",
          "text": [
            "Training: 100%|██████████| 32/32 [04:43<00:00,  8.87s/it, loss=0.137]\n",
            "Evaluating: 100%|██████████| 23/23 [00:32<00:00,  1.41s/it]\n"
          ]
        },
        {
          "name": "stdout",
          "output_type": "stream",
          "text": [
            "Accuracy:  tensor(0.4054)\n",
            "Epoch 10\n"
          ]
        },
        {
          "name": "stderr",
          "output_type": "stream",
          "text": [
            "Training: 100%|██████████| 32/32 [04:45<00:00,  8.92s/it, loss=0.114] \n",
            "Evaluating: 100%|██████████| 23/23 [00:32<00:00,  1.41s/it]\n"
          ]
        },
        {
          "name": "stdout",
          "output_type": "stream",
          "text": [
            "Accuracy:  tensor(0.4109)\n",
            "Epoch 11\n"
          ]
        },
        {
          "name": "stderr",
          "output_type": "stream",
          "text": [
            "Training: 100%|██████████| 32/32 [04:45<00:00,  8.92s/it, loss=0.113]\n",
            "Evaluating: 100%|██████████| 23/23 [00:32<00:00,  1.41s/it]\n"
          ]
        },
        {
          "name": "stdout",
          "output_type": "stream",
          "text": [
            "Accuracy:  tensor(0.3823)\n",
            "Epoch 12\n"
          ]
        },
        {
          "name": "stderr",
          "output_type": "stream",
          "text": [
            "Training: 100%|██████████| 32/32 [04:43<00:00,  8.87s/it, loss=0.0868]\n",
            "Evaluating: 100%|██████████| 23/23 [00:32<00:00,  1.41s/it]\n"
          ]
        },
        {
          "name": "stdout",
          "output_type": "stream",
          "text": [
            "Accuracy:  tensor(0.4136)\n",
            "Epoch 13\n"
          ]
        },
        {
          "name": "stderr",
          "output_type": "stream",
          "text": [
            "Training: 100%|██████████| 32/32 [04:43<00:00,  8.87s/it, loss=0.126]\n",
            "Evaluating: 100%|██████████| 23/23 [00:32<00:00,  1.41s/it]\n"
          ]
        },
        {
          "name": "stdout",
          "output_type": "stream",
          "text": [
            "Accuracy:  tensor(0.3864)\n",
            "Epoch 14\n"
          ]
        },
        {
          "name": "stderr",
          "output_type": "stream",
          "text": [
            "Training: 100%|██████████| 32/32 [04:44<00:00,  8.89s/it, loss=0.0669]\n",
            "Evaluating: 100%|██████████| 23/23 [00:32<00:00,  1.41s/it]\n"
          ]
        },
        {
          "name": "stdout",
          "output_type": "stream",
          "text": [
            "Accuracy:  tensor(0.3415)\n",
            "Epoch 15\n"
          ]
        },
        {
          "name": "stderr",
          "output_type": "stream",
          "text": [
            "Training: 100%|██████████| 32/32 [04:42<00:00,  8.83s/it, loss=0.124]\n",
            "Evaluating: 100%|██████████| 23/23 [00:32<00:00,  1.41s/it]\n"
          ]
        },
        {
          "name": "stdout",
          "output_type": "stream",
          "text": [
            "Accuracy:  tensor(0.3646)\n",
            "Epoch 16\n"
          ]
        },
        {
          "name": "stderr",
          "output_type": "stream",
          "text": [
            "Training: 100%|██████████| 32/32 [04:45<00:00,  8.91s/it, loss=0.109]\n",
            "Evaluating: 100%|██████████| 23/23 [00:32<00:00,  1.41s/it]\n"
          ]
        },
        {
          "name": "stdout",
          "output_type": "stream",
          "text": [
            "Accuracy:  tensor(0.3796)\n",
            "Epoch 17\n"
          ]
        },
        {
          "name": "stderr",
          "output_type": "stream",
          "text": [
            "Training: 100%|██████████| 32/32 [04:41<00:00,  8.81s/it, loss=0.0701]\n",
            "Evaluating: 100%|██████████| 23/23 [00:32<00:00,  1.41s/it]\n"
          ]
        },
        {
          "name": "stdout",
          "output_type": "stream",
          "text": [
            "Accuracy:  tensor(0.3973)\n",
            "Epoch 18\n"
          ]
        },
        {
          "name": "stderr",
          "output_type": "stream",
          "text": [
            "Training: 100%|██████████| 32/32 [04:45<00:00,  8.92s/it, loss=0.0944]\n",
            "Evaluating: 100%|██████████| 23/23 [00:32<00:00,  1.41s/it]\n"
          ]
        },
        {
          "name": "stdout",
          "output_type": "stream",
          "text": [
            "Accuracy:  tensor(0.4204)\n",
            "Epoch 19\n"
          ]
        },
        {
          "name": "stderr",
          "output_type": "stream",
          "text": [
            "Training: 100%|██████████| 32/32 [04:44<00:00,  8.88s/it, loss=0.055] \n",
            "Evaluating: 100%|██████████| 23/23 [00:32<00:00,  1.42s/it]\n"
          ]
        },
        {
          "name": "stdout",
          "output_type": "stream",
          "text": [
            "Accuracy:  tensor(0.4136)\n",
            "Epoch 20\n"
          ]
        },
        {
          "name": "stderr",
          "output_type": "stream",
          "text": [
            "Training: 100%|██████████| 32/32 [04:45<00:00,  8.93s/it, loss=0.0429]\n",
            "Evaluating: 100%|██████████| 23/23 [00:32<00:00,  1.42s/it]\n"
          ]
        },
        {
          "name": "stdout",
          "output_type": "stream",
          "text": [
            "Accuracy:  tensor(0.4463)\n",
            "Epoch 21\n"
          ]
        },
        {
          "name": "stderr",
          "output_type": "stream",
          "text": [
            "Training: 100%|██████████| 32/32 [04:43<00:00,  8.85s/it, loss=0.0872]\n",
            "Evaluating: 100%|██████████| 23/23 [00:32<00:00,  1.41s/it]\n"
          ]
        },
        {
          "name": "stdout",
          "output_type": "stream",
          "text": [
            "Accuracy:  tensor(0.4558)\n",
            "Epoch 22\n"
          ]
        },
        {
          "name": "stderr",
          "output_type": "stream",
          "text": [
            "Training: 100%|██████████| 32/32 [04:45<00:00,  8.93s/it, loss=0.055] \n",
            "Evaluating: 100%|██████████| 23/23 [00:32<00:00,  1.42s/it]\n"
          ]
        },
        {
          "name": "stdout",
          "output_type": "stream",
          "text": [
            "Accuracy:  tensor(0.4190)\n",
            "Epoch 23\n"
          ]
        },
        {
          "name": "stderr",
          "output_type": "stream",
          "text": [
            "Training: 100%|██████████| 32/32 [04:45<00:00,  8.92s/it, loss=0.102]\n",
            "Evaluating: 100%|██████████| 23/23 [00:32<00:00,  1.41s/it]\n"
          ]
        },
        {
          "name": "stdout",
          "output_type": "stream",
          "text": [
            "Accuracy:  tensor(0.4626)\n",
            "Epoch 24\n"
          ]
        },
        {
          "name": "stderr",
          "output_type": "stream",
          "text": [
            "Training: 100%|██████████| 32/32 [04:46<00:00,  8.97s/it, loss=0.0651]\n",
            "Evaluating: 100%|██████████| 23/23 [00:32<00:00,  1.42s/it]\n"
          ]
        },
        {
          "name": "stdout",
          "output_type": "stream",
          "text": [
            "Accuracy:  tensor(0.4571)\n",
            "Epoch 25\n"
          ]
        },
        {
          "name": "stderr",
          "output_type": "stream",
          "text": [
            "Training: 100%|██████████| 32/32 [04:42<00:00,  8.83s/it, loss=0.0732]\n",
            "Evaluating: 100%|██████████| 23/23 [00:32<00:00,  1.41s/it]\n"
          ]
        },
        {
          "name": "stdout",
          "output_type": "stream",
          "text": [
            "Accuracy:  tensor(0.4571)\n",
            "Epoch 26\n"
          ]
        },
        {
          "name": "stderr",
          "output_type": "stream",
          "text": [
            "Training: 100%|██████████| 32/32 [04:44<00:00,  8.88s/it, loss=0.0433]\n",
            "Evaluating: 100%|██████████| 23/23 [00:32<00:00,  1.41s/it]\n"
          ]
        },
        {
          "name": "stdout",
          "output_type": "stream",
          "text": [
            "Accuracy:  tensor(0.4286)\n",
            "Epoch 27\n"
          ]
        },
        {
          "name": "stderr",
          "output_type": "stream",
          "text": [
            "Training: 100%|██████████| 32/32 [04:44<00:00,  8.90s/it, loss=0.0294]\n",
            "Evaluating: 100%|██████████| 23/23 [00:32<00:00,  1.41s/it]\n"
          ]
        },
        {
          "name": "stdout",
          "output_type": "stream",
          "text": [
            "Accuracy:  tensor(0.4816)\n",
            "Epoch 28\n"
          ]
        },
        {
          "name": "stderr",
          "output_type": "stream",
          "text": [
            "Training: 100%|██████████| 32/32 [04:43<00:00,  8.86s/it, loss=0.0314]\n",
            "Evaluating: 100%|██████████| 23/23 [00:32<00:00,  1.42s/it]\n"
          ]
        },
        {
          "name": "stdout",
          "output_type": "stream",
          "text": [
            "Accuracy:  tensor(0.4531)\n",
            "Epoch 29\n"
          ]
        },
        {
          "name": "stderr",
          "output_type": "stream",
          "text": [
            "Training: 100%|██████████| 32/32 [04:46<00:00,  8.96s/it, loss=0.0453]\n",
            "Evaluating: 100%|██████████| 23/23 [00:32<00:00,  1.41s/it]\n"
          ]
        },
        {
          "name": "stdout",
          "output_type": "stream",
          "text": [
            "Accuracy:  tensor(0.4748)\n",
            "Epoch 30\n"
          ]
        },
        {
          "name": "stderr",
          "output_type": "stream",
          "text": [
            "Training: 100%|██████████| 32/32 [04:42<00:00,  8.83s/it, loss=0.0277]\n",
            "Evaluating: 100%|██████████| 23/23 [00:32<00:00,  1.42s/it]\n"
          ]
        },
        {
          "name": "stdout",
          "output_type": "stream",
          "text": [
            "Accuracy:  tensor(0.4612)\n",
            "Epoch 31\n"
          ]
        },
        {
          "name": "stderr",
          "output_type": "stream",
          "text": [
            "Training: 100%|██████████| 32/32 [04:45<00:00,  8.94s/it, loss=0.0365]\n",
            "Evaluating: 100%|██████████| 23/23 [00:33<00:00,  1.44s/it]\n"
          ]
        },
        {
          "name": "stdout",
          "output_type": "stream",
          "text": [
            "Accuracy:  tensor(0.4599)\n",
            "Epoch 32\n"
          ]
        },
        {
          "name": "stderr",
          "output_type": "stream",
          "text": [
            "Training: 100%|██████████| 32/32 [04:44<00:00,  8.88s/it, loss=0.0356]\n",
            "Evaluating: 100%|██████████| 23/23 [00:32<00:00,  1.41s/it]\n"
          ]
        },
        {
          "name": "stdout",
          "output_type": "stream",
          "text": [
            "Accuracy:  tensor(0.4585)\n",
            "Epoch 33\n"
          ]
        },
        {
          "name": "stderr",
          "output_type": "stream",
          "text": [
            "Training: 100%|██████████| 32/32 [04:45<00:00,  8.93s/it, loss=0.0636]\n",
            "Evaluating: 100%|██████████| 23/23 [00:32<00:00,  1.41s/it]\n"
          ]
        },
        {
          "name": "stdout",
          "output_type": "stream",
          "text": [
            "Accuracy:  tensor(0.4626)\n",
            "Epoch 34\n"
          ]
        },
        {
          "name": "stderr",
          "output_type": "stream",
          "text": [
            "Training: 100%|██████████| 32/32 [04:44<00:00,  8.90s/it, loss=0.04]  \n",
            "Evaluating: 100%|██████████| 23/23 [00:32<00:00,  1.41s/it]\n"
          ]
        },
        {
          "name": "stdout",
          "output_type": "stream",
          "text": [
            "Accuracy:  tensor(0.4571)\n",
            "Epoch 35\n"
          ]
        },
        {
          "name": "stderr",
          "output_type": "stream",
          "text": [
            "Training: 100%|██████████| 32/32 [04:40<00:00,  8.78s/it, loss=0.022] \n",
            "Evaluating: 100%|██████████| 23/23 [00:32<00:00,  1.41s/it]\n"
          ]
        },
        {
          "name": "stdout",
          "output_type": "stream",
          "text": [
            "Accuracy:  tensor(0.4571)\n",
            "Epoch 36\n"
          ]
        },
        {
          "name": "stderr",
          "output_type": "stream",
          "text": [
            "Training: 100%|██████████| 32/32 [04:41<00:00,  8.80s/it, loss=0.0326]\n",
            "Evaluating: 100%|██████████| 23/23 [00:32<00:00,  1.41s/it]\n"
          ]
        },
        {
          "name": "stdout",
          "output_type": "stream",
          "text": [
            "Accuracy:  tensor(0.4653)\n",
            "Epoch 37\n"
          ]
        },
        {
          "name": "stderr",
          "output_type": "stream",
          "text": [
            "Training: 100%|██████████| 32/32 [04:49<00:00,  9.04s/it, loss=0.0401]\n",
            "Evaluating: 100%|██████████| 23/23 [00:32<00:00,  1.41s/it]\n"
          ]
        },
        {
          "name": "stdout",
          "output_type": "stream",
          "text": [
            "Accuracy:  tensor(0.4095)\n",
            "Epoch 38\n"
          ]
        },
        {
          "name": "stderr",
          "output_type": "stream",
          "text": [
            "Training: 100%|██████████| 32/32 [04:46<00:00,  8.96s/it, loss=0.0482]\n",
            "Evaluating: 100%|██████████| 23/23 [00:32<00:00,  1.41s/it]\n"
          ]
        },
        {
          "name": "stdout",
          "output_type": "stream",
          "text": [
            "Accuracy:  tensor(0.4150)\n",
            "Epoch 39\n"
          ]
        },
        {
          "name": "stderr",
          "output_type": "stream",
          "text": [
            "Training: 100%|██████████| 32/32 [04:44<00:00,  8.90s/it, loss=0.0289]\n",
            "Evaluating: 100%|██████████| 23/23 [00:32<00:00,  1.43s/it]\n"
          ]
        },
        {
          "name": "stdout",
          "output_type": "stream",
          "text": [
            "Accuracy:  tensor(0.4639)\n",
            "Epoch 40\n"
          ]
        },
        {
          "name": "stderr",
          "output_type": "stream",
          "text": [
            "Training: 100%|██████████| 32/32 [04:42<00:00,  8.82s/it, loss=0.0394]\n",
            "Evaluating: 100%|██████████| 23/23 [00:32<00:00,  1.41s/it]\n"
          ]
        },
        {
          "name": "stdout",
          "output_type": "stream",
          "text": [
            "Accuracy:  tensor(0.4558)\n",
            "Epoch 41\n"
          ]
        },
        {
          "name": "stderr",
          "output_type": "stream",
          "text": [
            "Training: 100%|██████████| 32/32 [04:44<00:00,  8.89s/it, loss=0.0579]\n",
            "Evaluating: 100%|██████████| 23/23 [00:32<00:00,  1.41s/it]\n"
          ]
        },
        {
          "name": "stdout",
          "output_type": "stream",
          "text": [
            "Accuracy:  tensor(0.4544)\n",
            "Epoch 42\n"
          ]
        },
        {
          "name": "stderr",
          "output_type": "stream",
          "text": [
            "Training: 100%|██████████| 32/32 [04:40<00:00,  8.75s/it, loss=0.0234]\n",
            "Evaluating: 100%|██████████| 23/23 [00:32<00:00,  1.41s/it]\n"
          ]
        },
        {
          "name": "stdout",
          "output_type": "stream",
          "text": [
            "Accuracy:  tensor(0.4735)\n",
            "Epoch 43\n"
          ]
        },
        {
          "name": "stderr",
          "output_type": "stream",
          "text": [
            "Training: 100%|██████████| 32/32 [04:41<00:00,  8.80s/it, loss=0.0238]\n",
            "Evaluating: 100%|██████████| 23/23 [00:32<00:00,  1.41s/it]\n"
          ]
        },
        {
          "name": "stdout",
          "output_type": "stream",
          "text": [
            "Accuracy:  tensor(0.4748)\n",
            "Epoch 44\n"
          ]
        },
        {
          "name": "stderr",
          "output_type": "stream",
          "text": [
            "Training: 100%|██████████| 32/32 [04:43<00:00,  8.86s/it, loss=0.0278]\n",
            "Evaluating: 100%|██████████| 23/23 [00:32<00:00,  1.41s/it]\n"
          ]
        },
        {
          "name": "stdout",
          "output_type": "stream",
          "text": [
            "Accuracy:  tensor(0.4639)\n",
            "Epoch 45\n"
          ]
        },
        {
          "name": "stderr",
          "output_type": "stream",
          "text": [
            "Training: 100%|██████████| 32/32 [04:45<00:00,  8.92s/it, loss=0.0313]\n",
            "Evaluating: 100%|██████████| 23/23 [00:32<00:00,  1.41s/it]\n"
          ]
        },
        {
          "name": "stdout",
          "output_type": "stream",
          "text": [
            "Accuracy:  tensor(0.4925)\n",
            "Epoch 46\n"
          ]
        },
        {
          "name": "stderr",
          "output_type": "stream",
          "text": [
            "Training: 100%|██████████| 32/32 [04:44<00:00,  8.89s/it, loss=0.032] \n",
            "Evaluating: 100%|██████████| 23/23 [00:32<00:00,  1.42s/it]\n"
          ]
        },
        {
          "name": "stdout",
          "output_type": "stream",
          "text": [
            "Accuracy:  tensor(0.4789)\n",
            "Epoch 47\n"
          ]
        },
        {
          "name": "stderr",
          "output_type": "stream",
          "text": [
            "Training: 100%|██████████| 32/32 [04:42<00:00,  8.83s/it, loss=0.0312]\n",
            "Evaluating: 100%|██████████| 23/23 [00:32<00:00,  1.42s/it]\n"
          ]
        },
        {
          "name": "stdout",
          "output_type": "stream",
          "text": [
            "Accuracy:  tensor(0.4558)\n",
            "Epoch 48\n"
          ]
        },
        {
          "name": "stderr",
          "output_type": "stream",
          "text": [
            "Training: 100%|██████████| 32/32 [04:46<00:00,  8.94s/it, loss=0.0195]\n",
            "Evaluating: 100%|██████████| 23/23 [00:32<00:00,  1.41s/it]\n"
          ]
        },
        {
          "name": "stdout",
          "output_type": "stream",
          "text": [
            "Accuracy:  tensor(0.4776)\n",
            "Epoch 49\n"
          ]
        },
        {
          "name": "stderr",
          "output_type": "stream",
          "text": [
            "Training: 100%|██████████| 32/32 [04:43<00:00,  8.87s/it, loss=0.0113]\n",
            "Evaluating: 100%|██████████| 23/23 [00:32<00:00,  1.41s/it]\n"
          ]
        },
        {
          "name": "stdout",
          "output_type": "stream",
          "text": [
            "Accuracy:  tensor(0.4735)\n",
            "Epoch 50\n"
          ]
        },
        {
          "name": "stderr",
          "output_type": "stream",
          "text": [
            "Training: 100%|██████████| 32/32 [04:44<00:00,  8.88s/it, loss=0.0261]\n",
            "Evaluating: 100%|██████████| 23/23 [00:32<00:00,  1.41s/it]\n"
          ]
        },
        {
          "name": "stdout",
          "output_type": "stream",
          "text": [
            "Accuracy:  tensor(0.3973)\n",
            "Epoch 51\n"
          ]
        },
        {
          "name": "stderr",
          "output_type": "stream",
          "text": [
            "Training: 100%|██████████| 32/32 [04:47<00:00,  8.98s/it, loss=0.0276]\n",
            "Evaluating: 100%|██████████| 23/23 [00:32<00:00,  1.42s/it]\n"
          ]
        },
        {
          "name": "stdout",
          "output_type": "stream",
          "text": [
            "Accuracy:  tensor(0.4381)\n",
            "Epoch 52\n"
          ]
        },
        {
          "name": "stderr",
          "output_type": "stream",
          "text": [
            "Training: 100%|██████████| 32/32 [04:46<00:00,  8.96s/it, loss=0.0208]\n",
            "Evaluating: 100%|██████████| 23/23 [00:32<00:00,  1.41s/it]\n"
          ]
        },
        {
          "name": "stdout",
          "output_type": "stream",
          "text": [
            "Accuracy:  tensor(0.4762)\n",
            "Epoch 53\n"
          ]
        },
        {
          "name": "stderr",
          "output_type": "stream",
          "text": [
            "Training: 100%|██████████| 32/32 [04:46<00:00,  8.96s/it, loss=0.0187] \n",
            "Evaluating: 100%|██████████| 23/23 [00:32<00:00,  1.41s/it]\n"
          ]
        },
        {
          "name": "stdout",
          "output_type": "stream",
          "text": [
            "Accuracy:  tensor(0.4789)\n",
            "Epoch 54\n"
          ]
        },
        {
          "name": "stderr",
          "output_type": "stream",
          "text": [
            "Training: 100%|██████████| 32/32 [04:48<00:00,  9.02s/it, loss=0.0265]\n",
            "Evaluating: 100%|██████████| 23/23 [00:32<00:00,  1.41s/it]\n"
          ]
        },
        {
          "name": "stdout",
          "output_type": "stream",
          "text": [
            "Accuracy:  tensor(0.4599)\n",
            "Epoch 55\n"
          ]
        },
        {
          "name": "stderr",
          "output_type": "stream",
          "text": [
            "Training: 100%|██████████| 32/32 [04:41<00:00,  8.80s/it, loss=0.0296]\n",
            "Evaluating: 100%|██████████| 23/23 [00:32<00:00,  1.41s/it]\n"
          ]
        },
        {
          "name": "stdout",
          "output_type": "stream",
          "text": [
            "Accuracy:  tensor(0.4395)\n",
            "Epoch 56\n"
          ]
        },
        {
          "name": "stderr",
          "output_type": "stream",
          "text": [
            "Training: 100%|██████████| 32/32 [04:41<00:00,  8.80s/it, loss=0.0216] \n",
            "Evaluating: 100%|██████████| 23/23 [00:32<00:00,  1.41s/it]\n"
          ]
        },
        {
          "name": "stdout",
          "output_type": "stream",
          "text": [
            "Accuracy:  tensor(0.4884)\n",
            "Epoch 57\n"
          ]
        },
        {
          "name": "stderr",
          "output_type": "stream",
          "text": [
            "Training: 100%|██████████| 32/32 [04:45<00:00,  8.92s/it, loss=0.0138]\n",
            "Evaluating: 100%|██████████| 23/23 [00:32<00:00,  1.41s/it]\n"
          ]
        },
        {
          "name": "stdout",
          "output_type": "stream",
          "text": [
            "Accuracy:  tensor(0.5116)\n",
            "Epoch 58\n"
          ]
        },
        {
          "name": "stderr",
          "output_type": "stream",
          "text": [
            "Training: 100%|██████████| 32/32 [04:44<00:00,  8.88s/it, loss=0.00821]\n",
            "Evaluating: 100%|██████████| 23/23 [00:32<00:00,  1.41s/it]\n"
          ]
        },
        {
          "name": "stdout",
          "output_type": "stream",
          "text": [
            "Accuracy:  tensor(0.4707)\n",
            "Epoch 59\n"
          ]
        },
        {
          "name": "stderr",
          "output_type": "stream",
          "text": [
            "Training: 100%|██████████| 32/32 [04:43<00:00,  8.87s/it, loss=0.0116]\n",
            "Evaluating: 100%|██████████| 23/23 [00:32<00:00,  1.41s/it]\n"
          ]
        },
        {
          "name": "stdout",
          "output_type": "stream",
          "text": [
            "Accuracy:  tensor(0.4707)\n",
            "Epoch 60\n"
          ]
        },
        {
          "name": "stderr",
          "output_type": "stream",
          "text": [
            "Training: 100%|██████████| 32/32 [04:44<00:00,  8.88s/it, loss=0.00767]\n",
            "Evaluating: 100%|██████████| 23/23 [00:32<00:00,  1.42s/it]\n"
          ]
        },
        {
          "name": "stdout",
          "output_type": "stream",
          "text": [
            "Accuracy:  tensor(0.5034)\n",
            "Epoch 61\n"
          ]
        },
        {
          "name": "stderr",
          "output_type": "stream",
          "text": [
            "Training: 100%|██████████| 32/32 [04:42<00:00,  8.83s/it, loss=0.0281]\n",
            "Evaluating: 100%|██████████| 23/23 [00:32<00:00,  1.41s/it]\n"
          ]
        },
        {
          "name": "stdout",
          "output_type": "stream",
          "text": [
            "Accuracy:  tensor(0.4653)\n",
            "Epoch 62\n"
          ]
        },
        {
          "name": "stderr",
          "output_type": "stream",
          "text": [
            "Training: 100%|██████████| 32/32 [04:41<00:00,  8.79s/it, loss=0.0298]\n",
            "Evaluating: 100%|██████████| 23/23 [00:32<00:00,  1.41s/it]\n"
          ]
        },
        {
          "name": "stdout",
          "output_type": "stream",
          "text": [
            "Accuracy:  tensor(0.4449)\n",
            "Epoch 63\n"
          ]
        },
        {
          "name": "stderr",
          "output_type": "stream",
          "text": [
            "Training: 100%|██████████| 32/32 [04:45<00:00,  8.92s/it, loss=0.0143] \n",
            "Evaluating: 100%|██████████| 23/23 [00:32<00:00,  1.41s/it]\n"
          ]
        },
        {
          "name": "stdout",
          "output_type": "stream",
          "text": [
            "Accuracy:  tensor(0.4476)\n",
            "Epoch 64\n"
          ]
        },
        {
          "name": "stderr",
          "output_type": "stream",
          "text": [
            "Training: 100%|██████████| 32/32 [04:59<00:00,  9.36s/it, loss=0.0169] \n",
            "Evaluating: 100%|██████████| 23/23 [00:32<00:00,  1.42s/it]\n"
          ]
        },
        {
          "name": "stdout",
          "output_type": "stream",
          "text": [
            "Accuracy:  tensor(0.4408)\n",
            "Epoch 65\n"
          ]
        },
        {
          "name": "stderr",
          "output_type": "stream",
          "text": [
            "Training: 100%|██████████| 32/32 [04:56<00:00,  9.26s/it, loss=0.00961]\n",
            "Evaluating: 100%|██████████| 23/23 [00:32<00:00,  1.42s/it]\n"
          ]
        },
        {
          "name": "stdout",
          "output_type": "stream",
          "text": [
            "Accuracy:  tensor(0.4871)\n",
            "Epoch 66\n"
          ]
        },
        {
          "name": "stderr",
          "output_type": "stream",
          "text": [
            "Training: 100%|██████████| 32/32 [04:48<00:00,  9.01s/it, loss=0.00823]\n",
            "Evaluating: 100%|██████████| 23/23 [00:32<00:00,  1.41s/it]\n"
          ]
        },
        {
          "name": "stdout",
          "output_type": "stream",
          "text": [
            "Accuracy:  tensor(0.4667)\n",
            "Epoch 67\n"
          ]
        },
        {
          "name": "stderr",
          "output_type": "stream",
          "text": [
            "Training: 100%|██████████| 32/32 [04:43<00:00,  8.87s/it, loss=0.0188]\n",
            "Evaluating: 100%|██████████| 23/23 [00:32<00:00,  1.41s/it]\n"
          ]
        },
        {
          "name": "stdout",
          "output_type": "stream",
          "text": [
            "Accuracy:  tensor(0.5102)\n",
            "Epoch 68\n"
          ]
        },
        {
          "name": "stderr",
          "output_type": "stream",
          "text": [
            "Training: 100%|██████████| 32/32 [04:53<00:00,  9.17s/it, loss=0.00737]\n",
            "Evaluating: 100%|██████████| 23/23 [00:32<00:00,  1.41s/it]\n"
          ]
        },
        {
          "name": "stdout",
          "output_type": "stream",
          "text": [
            "Accuracy:  tensor(0.5156)\n",
            "Epoch 69\n"
          ]
        },
        {
          "name": "stderr",
          "output_type": "stream",
          "text": [
            "Training: 100%|██████████| 32/32 [04:44<00:00,  8.89s/it, loss=0.00487]\n",
            "Evaluating: 100%|██████████| 23/23 [00:32<00:00,  1.41s/it]\n"
          ]
        },
        {
          "name": "stdout",
          "output_type": "stream",
          "text": [
            "Accuracy:  tensor(0.5265)\n",
            "Epoch 70\n"
          ]
        },
        {
          "name": "stderr",
          "output_type": "stream",
          "text": [
            "Training: 100%|██████████| 32/32 [04:45<00:00,  8.93s/it, loss=0.00465]\n",
            "Evaluating: 100%|██████████| 23/23 [00:32<00:00,  1.41s/it]\n"
          ]
        },
        {
          "name": "stdout",
          "output_type": "stream",
          "text": [
            "Accuracy:  tensor(0.5075)\n",
            "Epoch 71\n"
          ]
        },
        {
          "name": "stderr",
          "output_type": "stream",
          "text": [
            "Training: 100%|██████████| 32/32 [04:52<00:00,  9.15s/it, loss=0.0153] \n",
            "Evaluating: 100%|██████████| 23/23 [00:32<00:00,  1.41s/it]\n"
          ]
        },
        {
          "name": "stdout",
          "output_type": "stream",
          "text": [
            "Accuracy:  tensor(0.4816)\n",
            "Epoch 72\n"
          ]
        },
        {
          "name": "stderr",
          "output_type": "stream",
          "text": [
            "Training: 100%|██████████| 32/32 [04:41<00:00,  8.81s/it, loss=0.0177]\n",
            "Evaluating: 100%|██████████| 23/23 [00:32<00:00,  1.41s/it]\n"
          ]
        },
        {
          "name": "stdout",
          "output_type": "stream",
          "text": [
            "Accuracy:  tensor(0.5170)\n",
            "Epoch 73\n"
          ]
        },
        {
          "name": "stderr",
          "output_type": "stream",
          "text": [
            "Training: 100%|██████████| 32/32 [04:46<00:00,  8.95s/it, loss=0.00725]\n",
            "Evaluating: 100%|██████████| 23/23 [00:32<00:00,  1.41s/it]\n"
          ]
        },
        {
          "name": "stdout",
          "output_type": "stream",
          "text": [
            "Accuracy:  tensor(0.5197)\n",
            "Epoch 74\n"
          ]
        },
        {
          "name": "stderr",
          "output_type": "stream",
          "text": [
            "Training: 100%|██████████| 32/32 [04:51<00:00,  9.10s/it, loss=0.00514]\n",
            "Evaluating: 100%|██████████| 23/23 [00:32<00:00,  1.41s/it]\n"
          ]
        },
        {
          "name": "stdout",
          "output_type": "stream",
          "text": [
            "Accuracy:  tensor(0.5184)\n",
            "Epoch 75\n"
          ]
        },
        {
          "name": "stderr",
          "output_type": "stream",
          "text": [
            "Training: 100%|██████████| 32/32 [04:46<00:00,  8.96s/it, loss=0.0109] \n",
            "Evaluating: 100%|██████████| 23/23 [00:32<00:00,  1.41s/it]\n"
          ]
        },
        {
          "name": "stdout",
          "output_type": "stream",
          "text": [
            "Accuracy:  tensor(0.4721)\n",
            "Epoch 76\n"
          ]
        },
        {
          "name": "stderr",
          "output_type": "stream",
          "text": [
            "Training: 100%|██████████| 32/32 [04:41<00:00,  8.80s/it, loss=0.00593]\n",
            "Evaluating: 100%|██████████| 23/23 [00:32<00:00,  1.41s/it]\n"
          ]
        },
        {
          "name": "stdout",
          "output_type": "stream",
          "text": [
            "Accuracy:  tensor(0.5143)\n",
            "Epoch 77\n"
          ]
        },
        {
          "name": "stderr",
          "output_type": "stream",
          "text": [
            "Training: 100%|██████████| 32/32 [04:38<00:00,  8.71s/it, loss=0.0122] \n",
            "Evaluating: 100%|██████████| 23/23 [00:32<00:00,  1.41s/it]\n"
          ]
        },
        {
          "name": "stdout",
          "output_type": "stream",
          "text": [
            "Accuracy:  tensor(0.4912)\n",
            "Epoch 78\n"
          ]
        },
        {
          "name": "stderr",
          "output_type": "stream",
          "text": [
            "Training: 100%|██████████| 32/32 [04:47<00:00,  8.97s/it, loss=0.0128] \n",
            "Evaluating: 100%|██████████| 23/23 [00:32<00:00,  1.41s/it]\n"
          ]
        },
        {
          "name": "stdout",
          "output_type": "stream",
          "text": [
            "Accuracy:  tensor(0.4707)\n",
            "Epoch 79\n"
          ]
        },
        {
          "name": "stderr",
          "output_type": "stream",
          "text": [
            "Training: 100%|██████████| 32/32 [04:43<00:00,  8.87s/it, loss=0.0197]\n",
            "Evaluating: 100%|██████████| 23/23 [00:32<00:00,  1.41s/it]\n"
          ]
        },
        {
          "name": "stdout",
          "output_type": "stream",
          "text": [
            "Accuracy:  tensor(0.5252)\n",
            "Epoch 80\n"
          ]
        },
        {
          "name": "stderr",
          "output_type": "stream",
          "text": [
            "Training: 100%|██████████| 32/32 [04:48<00:00,  9.02s/it, loss=0.00361] \n",
            "Evaluating: 100%|██████████| 23/23 [00:32<00:00,  1.42s/it]\n"
          ]
        },
        {
          "name": "stdout",
          "output_type": "stream",
          "text": [
            "Accuracy:  tensor(0.5265)\n",
            "Epoch 81\n"
          ]
        },
        {
          "name": "stderr",
          "output_type": "stream",
          "text": [
            "Training: 100%|██████████| 32/32 [04:49<00:00,  9.04s/it, loss=0.0144] \n",
            "Evaluating: 100%|██████████| 23/23 [00:32<00:00,  1.41s/it]\n"
          ]
        },
        {
          "name": "stdout",
          "output_type": "stream",
          "text": [
            "Accuracy:  tensor(0.5510)\n",
            "Epoch 82\n"
          ]
        },
        {
          "name": "stderr",
          "output_type": "stream",
          "text": [
            "Training: 100%|██████████| 32/32 [04:46<00:00,  8.95s/it, loss=0.0129] \n",
            "Evaluating: 100%|██████████| 23/23 [00:32<00:00,  1.41s/it]\n"
          ]
        },
        {
          "name": "stdout",
          "output_type": "stream",
          "text": [
            "Accuracy:  tensor(0.5497)\n",
            "Epoch 83\n"
          ]
        },
        {
          "name": "stderr",
          "output_type": "stream",
          "text": [
            "Training: 100%|██████████| 32/32 [04:47<00:00,  8.99s/it, loss=0.00935]\n",
            "Evaluating: 100%|██████████| 23/23 [00:32<00:00,  1.42s/it]\n"
          ]
        },
        {
          "name": "stdout",
          "output_type": "stream",
          "text": [
            "Accuracy:  tensor(0.5469)\n",
            "Epoch 84\n"
          ]
        },
        {
          "name": "stderr",
          "output_type": "stream",
          "text": [
            "Training: 100%|██████████| 32/32 [04:41<00:00,  8.80s/it, loss=0.00884]\n",
            "Evaluating: 100%|██████████| 23/23 [00:32<00:00,  1.41s/it]\n"
          ]
        },
        {
          "name": "stdout",
          "output_type": "stream",
          "text": [
            "Accuracy:  tensor(0.5347)\n",
            "Epoch 85\n"
          ]
        },
        {
          "name": "stderr",
          "output_type": "stream",
          "text": [
            "Training: 100%|██████████| 32/32 [04:44<00:00,  8.89s/it, loss=0.0108] \n",
            "Evaluating: 100%|██████████| 23/23 [00:32<00:00,  1.42s/it]\n"
          ]
        },
        {
          "name": "stdout",
          "output_type": "stream",
          "text": [
            "Accuracy:  tensor(0.5347)\n",
            "Epoch 86\n"
          ]
        },
        {
          "name": "stderr",
          "output_type": "stream",
          "text": [
            "Training: 100%|██████████| 32/32 [04:42<00:00,  8.84s/it, loss=0.00464]\n",
            "Evaluating: 100%|██████████| 23/23 [00:32<00:00,  1.41s/it]\n"
          ]
        },
        {
          "name": "stdout",
          "output_type": "stream",
          "text": [
            "Accuracy:  tensor(0.5279)\n",
            "Epoch 87\n"
          ]
        },
        {
          "name": "stderr",
          "output_type": "stream",
          "text": [
            "Training: 100%|██████████| 32/32 [04:46<00:00,  8.95s/it, loss=0.0143]\n",
            "Evaluating: 100%|██████████| 23/23 [00:32<00:00,  1.41s/it]\n"
          ]
        },
        {
          "name": "stdout",
          "output_type": "stream",
          "text": [
            "Accuracy:  tensor(0.5048)\n",
            "Epoch 88\n"
          ]
        },
        {
          "name": "stderr",
          "output_type": "stream",
          "text": [
            "Training: 100%|██████████| 32/32 [04:47<00:00,  8.99s/it, loss=0.00866]\n",
            "Evaluating: 100%|██████████| 23/23 [00:32<00:00,  1.41s/it]\n"
          ]
        },
        {
          "name": "stdout",
          "output_type": "stream",
          "text": [
            "Accuracy:  tensor(0.5320)\n",
            "Epoch 89\n"
          ]
        },
        {
          "name": "stderr",
          "output_type": "stream",
          "text": [
            "Training: 100%|██████████| 32/32 [04:44<00:00,  8.90s/it, loss=0.0145] \n",
            "Evaluating: 100%|██████████| 23/23 [00:32<00:00,  1.41s/it]\n"
          ]
        },
        {
          "name": "stdout",
          "output_type": "stream",
          "text": [
            "Accuracy:  tensor(0.4762)\n",
            "Epoch 90\n"
          ]
        },
        {
          "name": "stderr",
          "output_type": "stream",
          "text": [
            "Training: 100%|██████████| 32/32 [04:46<00:00,  8.95s/it, loss=0.00658]\n",
            "Evaluating: 100%|██████████| 23/23 [00:32<00:00,  1.41s/it]\n"
          ]
        },
        {
          "name": "stdout",
          "output_type": "stream",
          "text": [
            "Accuracy:  tensor(0.4844)\n",
            "Epoch 91\n"
          ]
        },
        {
          "name": "stderr",
          "output_type": "stream",
          "text": [
            "Training: 100%|██████████| 32/32 [04:49<00:00,  9.06s/it, loss=0.00805]\n",
            "Evaluating: 100%|██████████| 23/23 [00:32<00:00,  1.41s/it]\n"
          ]
        },
        {
          "name": "stdout",
          "output_type": "stream",
          "text": [
            "Accuracy:  tensor(0.5020)\n",
            "Epoch 92\n"
          ]
        },
        {
          "name": "stderr",
          "output_type": "stream",
          "text": [
            "Training: 100%|██████████| 32/32 [04:47<00:00,  8.97s/it, loss=0.0164] \n",
            "Evaluating: 100%|██████████| 23/23 [00:32<00:00,  1.41s/it]\n"
          ]
        },
        {
          "name": "stdout",
          "output_type": "stream",
          "text": [
            "Accuracy:  tensor(0.4463)\n",
            "Epoch 93\n"
          ]
        },
        {
          "name": "stderr",
          "output_type": "stream",
          "text": [
            "Training: 100%|██████████| 32/32 [04:47<00:00,  9.00s/it, loss=0.0118]\n",
            "Evaluating: 100%|██████████| 23/23 [00:32<00:00,  1.41s/it]\n"
          ]
        },
        {
          "name": "stdout",
          "output_type": "stream",
          "text": [
            "Accuracy:  tensor(0.5184)\n",
            "Epoch 94\n"
          ]
        },
        {
          "name": "stderr",
          "output_type": "stream",
          "text": [
            "Training: 100%|██████████| 32/32 [04:48<00:00,  9.02s/it, loss=0.00384]\n",
            "Evaluating: 100%|██████████| 23/23 [00:32<00:00,  1.41s/it]\n"
          ]
        },
        {
          "name": "stdout",
          "output_type": "stream",
          "text": [
            "Accuracy:  tensor(0.4884)\n",
            "Epoch 95\n"
          ]
        },
        {
          "name": "stderr",
          "output_type": "stream",
          "text": [
            "Training: 100%|██████████| 32/32 [04:43<00:00,  8.87s/it, loss=0.0055] \n",
            "Evaluating: 100%|██████████| 23/23 [00:32<00:00,  1.41s/it]\n"
          ]
        },
        {
          "name": "stdout",
          "output_type": "stream",
          "text": [
            "Accuracy:  tensor(0.4857)\n",
            "Epoch 96\n"
          ]
        },
        {
          "name": "stderr",
          "output_type": "stream",
          "text": [
            "Training: 100%|██████████| 32/32 [04:44<00:00,  8.88s/it, loss=0.00385]\n",
            "Evaluating: 100%|██████████| 23/23 [00:32<00:00,  1.41s/it]\n"
          ]
        },
        {
          "name": "stdout",
          "output_type": "stream",
          "text": [
            "Accuracy:  tensor(0.5116)\n",
            "Epoch 97\n"
          ]
        },
        {
          "name": "stderr",
          "output_type": "stream",
          "text": [
            "Training: 100%|██████████| 32/32 [04:43<00:00,  8.85s/it, loss=0.00271]\n",
            "Evaluating: 100%|██████████| 23/23 [00:32<00:00,  1.41s/it]\n"
          ]
        },
        {
          "name": "stdout",
          "output_type": "stream",
          "text": [
            "Accuracy:  tensor(0.5048)\n",
            "Epoch 98\n"
          ]
        },
        {
          "name": "stderr",
          "output_type": "stream",
          "text": [
            "Training: 100%|██████████| 32/32 [04:46<00:00,  8.94s/it, loss=0.00276] \n",
            "Evaluating: 100%|██████████| 23/23 [00:32<00:00,  1.41s/it]\n"
          ]
        },
        {
          "name": "stdout",
          "output_type": "stream",
          "text": [
            "Accuracy:  tensor(0.4884)\n",
            "Epoch 99\n"
          ]
        },
        {
          "name": "stderr",
          "output_type": "stream",
          "text": [
            "Training: 100%|██████████| 32/32 [04:43<00:00,  8.86s/it, loss=0.00284]\n",
            "Evaluating: 100%|██████████| 23/23 [00:32<00:00,  1.42s/it]"
          ]
        },
        {
          "name": "stdout",
          "output_type": "stream",
          "text": [
            "Accuracy:  tensor(0.5007)\n"
          ]
        },
        {
          "name": "stderr",
          "output_type": "stream",
          "text": [
            "\n"
          ]
        }
      ],
      "source": [
        "print(f\"Base Accuracy: \", evaluate(model, support_images, support_labels, val_dataloader))\n",
        "for epoch in range(n_epochs):\n",
        "    print(f\"Epoch {epoch}\")\n",
        "    average_loss = train_epoch(model, train_dataloader, optimizer)\n",
        "    scheduler.step()\n",
        "    print(f\"Accuracy: \", evaluate(model, support_images, support_labels, val_dataloader))"
      ]
    },
    {
      "cell_type": "code",
      "execution_count": null,
      "metadata": {},
      "outputs": [],
      "source": []
    }
  ],
  "metadata": {
    "accelerator": "GPU",
    "colab": {
      "gpuType": "T4",
      "provenance": []
    },
    "kernelspec": {
      "display_name": ".venv",
      "language": "python",
      "name": "python3"
    },
    "language_info": {
      "codemirror_mode": {
        "name": "ipython",
        "version": 3
      },
      "file_extension": ".py",
      "mimetype": "text/x-python",
      "name": "python",
      "nbconvert_exporter": "python",
      "pygments_lexer": "ipython3",
      "version": "3.9.6"
    }
  },
  "nbformat": 4,
  "nbformat_minor": 0
}
