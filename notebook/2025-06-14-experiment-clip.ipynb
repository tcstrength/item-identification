{
 "cells": [
  {
   "cell_type": "code",
   "execution_count": 6,
   "metadata": {},
   "outputs": [],
   "source": [
    "# Load model directly\n",
    "from transformers import AutoProcessor, AutoModelForZeroShotImageClassification\n",
    "from PIL import Image\n",
    "import torch\n",
    "\n",
    "processor = AutoProcessor.from_pretrained(\"openai/clip-vit-base-patch32\")\n",
    "model = AutoModelForZeroShotImageClassification.from_pretrained(\"openai/clip-vit-base-patch32\")\n",
    "device = \"cuda\" if torch.cuda.is_available() else \"cpu\"\n",
    "model = model.to(device)"
   ]
  },
  {
   "cell_type": "code",
   "execution_count": 23,
   "metadata": {},
   "outputs": [],
   "source": [
    "# image_path = \"/Volumes/Cucumber/Projects/datasets/raw/hcmus-iid/train/images/0d123d7a5c3c0247218f44118e287c23.jpg\"\n",
    "# image_path = \"/Volumes/Cucumber/Projects/datasets/raw/hcmus-iid/train/images/0dda1efa3984aa384ff3620f6bc77912.jpg\"\n",
    "# image_path = \"/Volumes/Cucumber/Projects/datasets/raw/hcmus-iid/train/images/1b39c7c32abb00be6de96480a829650b.jpeg\"\n",
    "image_path = \"/Volumes/Cucumber/Projects/datasets/raw/hcmus-iid/train/images/2e40286508d7a274fa0aeb9cc587a24b.jpg\""
   ]
  },
  {
   "cell_type": "code",
   "execution_count": 19,
   "metadata": {},
   "outputs": [
    {
     "name": "stdout",
     "output_type": "stream",
     "text": [
      "Image embedding shape: torch.Size([1, 512])\n"
     ]
    }
   ],
   "source": [
    "def encode_image(image_path):\n",
    "    \"\"\"Extract image features using CLIP\"\"\"\n",
    "    # Load image\n",
    "    if isinstance(image_path, str):\n",
    "        image = Image.open(image_path)\n",
    "    else:\n",
    "        image = image_path  # PIL Image\n",
    "\n",
    "    # Process image\n",
    "    inputs = processor(images=image, return_tensors=\"pt\").to(device)\n",
    "\n",
    "    # Get image features\n",
    "    with torch.no_grad():\n",
    "        image_features = model.get_image_features(**inputs)\n",
    "        # Normalize for cosine similarity\n",
    "        image_features = image_features / image_features.norm(dim=-1, keepdim=True)\n",
    "\n",
    "    return image_features\n",
    "\n",
    "# Usage\n",
    "image_embedding = encode_image(image_path)\n",
    "print(f\"Image embedding shape: {image_embedding.shape}\")  # [1, 512]"
   ]
  },
  {
   "cell_type": "code",
   "execution_count": 24,
   "metadata": {},
   "outputs": [
    {
     "name": "stdout",
     "output_type": "stream",
     "text": [
      "bottle: 0.832\n",
      "can: 0.124\n",
      "pack: 0.034\n",
      "number1: 0.009\n",
      "box: 0.001\n"
     ]
    }
   ],
   "source": [
    "def classify_image(image_path, class_names, template=\"a photo of a {}\"):\n",
    "    \"\"\"Classify image using text descriptions\"\"\"\n",
    "    # Load image\n",
    "    image = Image.open(image_path)\n",
    "\n",
    "    # Create text descriptions\n",
    "    text_descriptions = [template.format(cls) for cls in class_names]\n",
    "\n",
    "    # Process inputs\n",
    "    inputs = processor(\n",
    "        text=text_descriptions,\n",
    "        images=image,\n",
    "        return_tensors=\"pt\",\n",
    "        padding=True\n",
    "    ).to(device)\n",
    "\n",
    "    # Get predictions\n",
    "    with torch.no_grad():\n",
    "        outputs = model(**inputs)\n",
    "        logits_per_image = outputs.logits_per_image\n",
    "        probs = logits_per_image.softmax(dim=1)\n",
    "\n",
    "    # Return results\n",
    "    results = {}\n",
    "    for i, class_name in enumerate(class_names):\n",
    "        results[class_name] = float(probs[0][i])\n",
    "\n",
    "    return results\n",
    "\n",
    "# Usage\n",
    "classes = [\"can\",\"bottle\", \"pack\", \"box\", \"number1\"]\n",
    "predictions = classify_image(image_path, classes)\n",
    "\n",
    "# Sort by probability\n",
    "sorted_predictions = sorted(predictions.items(), key=lambda x: x[1], reverse=True)\n",
    "for class_name, prob in sorted_predictions:\n",
    "    print(f\"{class_name}: {prob:.3f}\")"
   ]
  }
 ],
 "metadata": {
  "kernelspec": {
   "display_name": ".venv",
   "language": "python",
   "name": "python3"
  },
  "language_info": {
   "codemirror_mode": {
    "name": "ipython",
    "version": 3
   },
   "file_extension": ".py",
   "mimetype": "text/x-python",
   "name": "python",
   "nbconvert_exporter": "python",
   "pygments_lexer": "ipython3",
   "version": "3.9.6"
  }
 },
 "nbformat": 4,
 "nbformat_minor": 2
}
