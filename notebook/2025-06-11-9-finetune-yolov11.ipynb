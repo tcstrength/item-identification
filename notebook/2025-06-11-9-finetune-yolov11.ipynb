{
 "cells": [
  {
   "cell_type": "code",
   "execution_count": 1,
   "metadata": {},
   "outputs": [
    {
     "name": "stderr",
     "output_type": "stream",
     "text": [
      "\u001b[32m2025-06-11 14:07:14.662\u001b[0m | \u001b[1mINFO    \u001b[0m | \u001b[36mhcmus.core.appconfig\u001b[0m:\u001b[36m<module>\u001b[0m:\u001b[36m7\u001b[0m - \u001b[1mLoad DotEnv: True\u001b[0m\n"
     ]
    }
   ],
   "source": [
    "from hcmus.core import appconfig"
   ]
  },
  {
   "cell_type": "code",
   "execution_count": 2,
   "metadata": {},
   "outputs": [
    {
     "name": "stderr",
     "output_type": "stream",
     "text": [
      "/Volumes/Cucumber/Projects/item-identification/.venv/lib/python3.9/site-packages/urllib3/__init__.py:35: NotOpenSSLWarning: urllib3 v2 only supports OpenSSL 1.1.1+, currently the 'ssl' module is compiled with 'LibreSSL 2.8.3'. See: https://github.com/urllib3/urllib3/issues/3020\n",
      "  warnings.warn(\n"
     ]
    }
   ],
   "source": [
    "from ultralytics import YOLO\n",
    "\n",
    "# Load a pre-trained model (you can use yolov8s.pt, yolov8m.pt, etc.)\n",
    "model = YOLO(\"yolo11n.pt\")"
   ]
  },
  {
   "cell_type": "code",
   "execution_count": 4,
   "metadata": {},
   "outputs": [],
   "source": [
    "conf_yaml = \"/Volumes/Cucumber/Projects/datasets/process/2025-06-11/sku110k-only-yolo/custom_dataset.yaml\""
   ]
  },
  {
   "cell_type": "code",
   "execution_count": 3,
   "metadata": {},
   "outputs": [
    {
     "name": "stdout",
     "output_type": "stream",
     "text": [
      "New https://pypi.org/project/ultralytics/8.3.153 available 😃 Update with 'pip install -U ultralytics'\n",
      "Ultralytics 8.3.111 🚀 Python-3.9.6 torch-2.6.0 CPU (Apple M4)\n",
      "\u001b[34m\u001b[1mengine/trainer: \u001b[0mtask=detect, mode=train, model=yolo11n.pt, data=/Volumes/Cucumber/Projects/datasets/process/2025-06-11/sku110k-only-yolo/custom_dataset.yaml, epochs=32, time=None, patience=100, batch=4, imgsz=640, save=True, save_period=-1, cache=False, device=None, workers=8, project=None, name=finetune-v113, exist_ok=False, pretrained=True, optimizer=auto, verbose=True, seed=0, deterministic=True, single_cls=False, rect=False, cos_lr=False, close_mosaic=10, resume=False, amp=True, fraction=1.0, profile=False, freeze=None, multi_scale=False, overlap_mask=True, mask_ratio=4, dropout=0.0, val=True, split=val, save_json=False, conf=None, iou=0.7, max_det=300, half=False, dnn=False, plots=True, source=None, vid_stride=1, stream_buffer=False, visualize=False, augment=True, agnostic_nms=False, classes=None, retina_masks=False, embed=None, show=False, save_frames=False, save_txt=False, save_conf=False, save_crop=False, show_labels=True, show_conf=True, show_boxes=True, line_width=None, format=torchscript, keras=False, optimize=False, int8=False, dynamic=False, simplify=True, opset=None, workspace=None, nms=False, lr0=0.01, lrf=0.01, momentum=0.937, weight_decay=0.0005, warmup_epochs=3.0, warmup_momentum=0.8, warmup_bias_lr=0.1, box=7.5, cls=0.5, dfl=1.5, pose=12.0, kobj=1.0, nbs=64, hsv_h=0.015, hsv_s=0.7, hsv_v=0.4, degrees=0.0, translate=0.1, scale=0.5, shear=0.0, perspective=0.0, flipud=0.0, fliplr=0.5, bgr=0.0, mosaic=1.0, mixup=0.0, copy_paste=0.0, copy_paste_mode=flip, auto_augment=randaugment, erasing=0.4, cfg=None, tracker=botsort.yaml, save_dir=/Volumes/Cucumber/Projects/item-identification/runs/detect/finetune-v113\n",
      "Overriding model.yaml nc=80 with nc=1\n",
      "\n",
      "                   from  n    params  module                                       arguments                     \n",
      "  0                  -1  1       464  ultralytics.nn.modules.conv.Conv             [3, 16, 3, 2]                 \n",
      "  1                  -1  1      4672  ultralytics.nn.modules.conv.Conv             [16, 32, 3, 2]                \n",
      "  2                  -1  1      6640  ultralytics.nn.modules.block.C3k2            [32, 64, 1, False, 0.25]      \n",
      "  3                  -1  1     36992  ultralytics.nn.modules.conv.Conv             [64, 64, 3, 2]                \n",
      "  4                  -1  1     26080  ultralytics.nn.modules.block.C3k2            [64, 128, 1, False, 0.25]     \n",
      "  5                  -1  1    147712  ultralytics.nn.modules.conv.Conv             [128, 128, 3, 2]              \n",
      "  6                  -1  1     87040  ultralytics.nn.modules.block.C3k2            [128, 128, 1, True]           \n",
      "  7                  -1  1    295424  ultralytics.nn.modules.conv.Conv             [128, 256, 3, 2]              \n",
      "  8                  -1  1    346112  ultralytics.nn.modules.block.C3k2            [256, 256, 1, True]           \n",
      "  9                  -1  1    164608  ultralytics.nn.modules.block.SPPF            [256, 256, 5]                 \n",
      " 10                  -1  1    249728  ultralytics.nn.modules.block.C2PSA           [256, 256, 1]                 \n",
      " 11                  -1  1         0  torch.nn.modules.upsampling.Upsample         [None, 2, 'nearest']          \n",
      " 12             [-1, 6]  1         0  ultralytics.nn.modules.conv.Concat           [1]                           \n",
      " 13                  -1  1    111296  ultralytics.nn.modules.block.C3k2            [384, 128, 1, False]          \n",
      " 14                  -1  1         0  torch.nn.modules.upsampling.Upsample         [None, 2, 'nearest']          \n",
      " 15             [-1, 4]  1         0  ultralytics.nn.modules.conv.Concat           [1]                           \n",
      " 16                  -1  1     32096  ultralytics.nn.modules.block.C3k2            [256, 64, 1, False]           \n",
      " 17                  -1  1     36992  ultralytics.nn.modules.conv.Conv             [64, 64, 3, 2]                \n",
      " 18            [-1, 13]  1         0  ultralytics.nn.modules.conv.Concat           [1]                           \n",
      " 19                  -1  1     86720  ultralytics.nn.modules.block.C3k2            [192, 128, 1, False]          \n",
      " 20                  -1  1    147712  ultralytics.nn.modules.conv.Conv             [128, 128, 3, 2]              \n",
      " 21            [-1, 10]  1         0  ultralytics.nn.modules.conv.Concat           [1]                           \n",
      " 22                  -1  1    378880  ultralytics.nn.modules.block.C3k2            [384, 256, 1, True]           \n",
      " 23        [16, 19, 22]  1    430867  ultralytics.nn.modules.head.Detect           [1, [64, 128, 256]]           \n",
      "YOLO11n summary: 181 layers, 2,590,035 parameters, 2,590,019 gradients, 6.4 GFLOPs\n",
      "\n",
      "Transferred 448/499 items from pretrained weights\n",
      "\u001b[34m\u001b[1mTensorBoard: \u001b[0mStart with 'tensorboard --logdir /Volumes/Cucumber/Projects/item-identification/runs/detect/finetune-v113', view at http://localhost:6006/\n",
      "Freezing layer 'model.23.dfl.conv.weight'\n",
      "\u001b[34m\u001b[1mtrain: \u001b[0mFast image access ✅ (ping: 0.0±0.0 ms, read: 358.7±78.4 MB/s, size: 172.2 KB)\n"
     ]
    },
    {
     "name": "stderr",
     "output_type": "stream",
     "text": [
      "\u001b[34m\u001b[1mtrain: \u001b[0mScanning /Volumes/Cucumber/Projects/datasets/process/2025-06-11/sku110k-only-yolo/train/labels.cache... 815 images, 0 backgrounds, 561 corrupt: 100%|██████████| 815/815 [00:00<?, ?it/s]"
     ]
    },
    {
     "name": "stdout",
     "output_type": "stream",
     "text": [
      "\u001b[34m\u001b[1mtrain: \u001b[0mWARNING ⚠️ /Volumes/Cucumber/Projects/datasets/process/2025-06-11/sku110k-only-yolo/train/images/zoomed_train_1028.jpg: ignoring corrupt image/label: non-normalized or out of bounds coordinates [     1.0245]\n",
      "\u001b[34m\u001b[1mtrain: \u001b[0mWARNING ⚠️ /Volumes/Cucumber/Projects/datasets/process/2025-06-11/sku110k-only-yolo/train/images/zoomed_train_1030.jpg: ignoring corrupt image/label: non-normalized or out of bounds coordinates [     1.0235      1.0262      1.0323       1.035      1.0163]\n",
      "\u001b[34m\u001b[1mtrain: \u001b[0mWARNING ⚠️ /Volumes/Cucumber/Projects/datasets/process/2025-06-11/sku110k-only-yolo/train/images/zoomed_train_105.jpg: ignoring corrupt image/label: non-normalized or out of bounds coordinates [     1.0083]\n",
      "\u001b[34m\u001b[1mtrain: \u001b[0mWARNING ⚠️ /Volumes/Cucumber/Projects/datasets/process/2025-06-11/sku110k-only-yolo/train/images/zoomed_train_1057.jpg: ignoring corrupt image/label: non-normalized or out of bounds coordinates [       1.04      1.0322      1.0176      1.0159]\n",
      "\u001b[34m\u001b[1mtrain: \u001b[0mWARNING ⚠️ /Volumes/Cucumber/Projects/datasets/process/2025-06-11/sku110k-only-yolo/train/images/zoomed_train_1079.jpg: ignoring corrupt image/label: non-normalized or out of bounds coordinates [     1.0118      1.0268      1.0056]\n",
      "\u001b[34m\u001b[1mtrain: \u001b[0mWARNING ⚠️ /Volumes/Cucumber/Projects/datasets/process/2025-06-11/sku110k-only-yolo/train/images/zoomed_train_1097.jpg: ignoring corrupt image/label: non-normalized or out of bounds coordinates [     1.0126      1.0076]\n",
      "\u001b[34m\u001b[1mtrain: \u001b[0mWARNING ⚠️ /Volumes/Cucumber/Projects/datasets/process/2025-06-11/sku110k-only-yolo/train/images/zoomed_train_1158.jpg: ignoring corrupt image/label: negative label values [  -0.009786]\n",
      "\u001b[34m\u001b[1mtrain: \u001b[0mWARNING ⚠️ /Volumes/Cucumber/Projects/datasets/process/2025-06-11/sku110k-only-yolo/train/images/zoomed_train_1162.jpg: ignoring corrupt image/label: non-normalized or out of bounds coordinates [     1.0027      1.0065       1.005]\n",
      "\u001b[34m\u001b[1mtrain: \u001b[0mWARNING ⚠️ /Volumes/Cucumber/Projects/datasets/process/2025-06-11/sku110k-only-yolo/train/images/zoomed_train_1167.jpg: ignoring corrupt image/label: non-normalized or out of bounds coordinates [     1.0142      1.0162]\n",
      "\u001b[34m\u001b[1mtrain: \u001b[0mWARNING ⚠️ /Volumes/Cucumber/Projects/datasets/process/2025-06-11/sku110k-only-yolo/train/images/zoomed_train_1169.jpg: ignoring corrupt image/label: non-normalized or out of bounds coordinates [     1.0029]\n",
      "\u001b[34m\u001b[1mtrain: \u001b[0mWARNING ⚠️ /Volumes/Cucumber/Projects/datasets/process/2025-06-11/sku110k-only-yolo/train/images/zoomed_train_1212.jpg: ignoring corrupt image/label: negative label values [  -0.000287]\n",
      "\u001b[34m\u001b[1mtrain: \u001b[0mWARNING ⚠️ /Volumes/Cucumber/Projects/datasets/process/2025-06-11/sku110k-only-yolo/train/images/zoomed_train_1226.jpg: ignoring corrupt image/label: non-normalized or out of bounds coordinates [     1.0048      1.0028      1.0215]\n",
      "\u001b[34m\u001b[1mtrain: \u001b[0mWARNING ⚠️ /Volumes/Cucumber/Projects/datasets/process/2025-06-11/sku110k-only-yolo/train/images/zoomed_train_1230.jpg: ignoring corrupt image/label: negative label values [  -0.014873]\n",
      "\u001b[34m\u001b[1mtrain: \u001b[0mWARNING ⚠️ /Volumes/Cucumber/Projects/datasets/process/2025-06-11/sku110k-only-yolo/train/images/zoomed_train_1240.jpg: ignoring corrupt image/label: non-normalized or out of bounds coordinates [     1.0065]\n",
      "\u001b[34m\u001b[1mtrain: \u001b[0mWARNING ⚠️ /Volumes/Cucumber/Projects/datasets/process/2025-06-11/sku110k-only-yolo/train/images/zoomed_train_1267.jpg: ignoring corrupt image/label: non-normalized or out of bounds coordinates [     1.0151      1.0176]\n",
      "\u001b[34m\u001b[1mtrain: \u001b[0mWARNING ⚠️ /Volumes/Cucumber/Projects/datasets/process/2025-06-11/sku110k-only-yolo/train/images/zoomed_train_1268.jpg: ignoring corrupt image/label: negative label values [  -0.008071   -0.001009]\n",
      "\u001b[34m\u001b[1mtrain: \u001b[0mWARNING ⚠️ /Volumes/Cucumber/Projects/datasets/process/2025-06-11/sku110k-only-yolo/train/images/zoomed_train_1285.jpg: ignoring corrupt image/label: negative label values [  -0.012066]\n",
      "\u001b[34m\u001b[1mtrain: \u001b[0mWARNING ⚠️ /Volumes/Cucumber/Projects/datasets/process/2025-06-11/sku110k-only-yolo/train/images/zoomed_train_1301.jpg: ignoring corrupt image/label: non-normalized or out of bounds coordinates [      1.006      1.0046]\n",
      "\u001b[34m\u001b[1mtrain: \u001b[0mWARNING ⚠️ /Volumes/Cucumber/Projects/datasets/process/2025-06-11/sku110k-only-yolo/train/images/zoomed_train_1309.jpg: ignoring corrupt image/label: non-normalized or out of bounds coordinates [     1.0685]\n",
      "\u001b[34m\u001b[1mtrain: \u001b[0mWARNING ⚠️ /Volumes/Cucumber/Projects/datasets/process/2025-06-11/sku110k-only-yolo/train/images/zoomed_train_1310.jpg: ignoring corrupt image/label: non-normalized or out of bounds coordinates [     1.0399      1.0067      1.0085      1.0323]\n",
      "\u001b[34m\u001b[1mtrain: \u001b[0mWARNING ⚠️ /Volumes/Cucumber/Projects/datasets/process/2025-06-11/sku110k-only-yolo/train/images/zoomed_train_1315.jpg: ignoring corrupt image/label: negative label values [  -0.009472   -0.012696   -0.013301   -0.013301   -0.004232   -0.003628     -0.0131   -0.015518   -0.015316   -0.008464   -0.013906   -0.009472]\n",
      "\u001b[34m\u001b[1mtrain: \u001b[0mWARNING ⚠️ /Volumes/Cucumber/Projects/datasets/process/2025-06-11/sku110k-only-yolo/train/images/zoomed_train_1316.jpg: ignoring corrupt image/label: negative label values [  -0.002155]\n",
      "\u001b[34m\u001b[1mtrain: \u001b[0mWARNING ⚠️ /Volumes/Cucumber/Projects/datasets/process/2025-06-11/sku110k-only-yolo/train/images/zoomed_train_134.jpg: ignoring corrupt image/label: negative label values [  -0.004215]\n",
      "\u001b[34m\u001b[1mtrain: \u001b[0mWARNING ⚠️ /Volumes/Cucumber/Projects/datasets/process/2025-06-11/sku110k-only-yolo/train/images/zoomed_train_1341.jpg: ignoring corrupt image/label: non-normalized or out of bounds coordinates [     1.0025      1.0014      1.0028]\n",
      "\u001b[34m\u001b[1mtrain: \u001b[0mWARNING ⚠️ /Volumes/Cucumber/Projects/datasets/process/2025-06-11/sku110k-only-yolo/train/images/zoomed_train_1359.jpg: ignoring corrupt image/label: non-normalized or out of bounds coordinates [     1.0017      1.0044]\n",
      "\u001b[34m\u001b[1mtrain: \u001b[0mWARNING ⚠️ /Volumes/Cucumber/Projects/datasets/process/2025-06-11/sku110k-only-yolo/train/images/zoomed_train_1373.jpg: ignoring corrupt image/label: negative label values [   -0.01423]\n",
      "\u001b[34m\u001b[1mtrain: \u001b[0mWARNING ⚠️ /Volumes/Cucumber/Projects/datasets/process/2025-06-11/sku110k-only-yolo/train/images/zoomed_train_138.jpg: ignoring corrupt image/label: negative label values [  -0.006952    -0.01622]\n",
      "\u001b[34m\u001b[1mtrain: \u001b[0mWARNING ⚠️ /Volumes/Cucumber/Projects/datasets/process/2025-06-11/sku110k-only-yolo/train/images/zoomed_train_1407.jpg: ignoring corrupt image/label: non-normalized or out of bounds coordinates [     1.0089]\n",
      "\u001b[34m\u001b[1mtrain: \u001b[0mWARNING ⚠️ /Volumes/Cucumber/Projects/datasets/process/2025-06-11/sku110k-only-yolo/train/images/zoomed_train_1448.jpg: ignoring corrupt image/label: non-normalized or out of bounds coordinates [     1.0224]\n",
      "\u001b[34m\u001b[1mtrain: \u001b[0mWARNING ⚠️ /Volumes/Cucumber/Projects/datasets/process/2025-06-11/sku110k-only-yolo/train/images/zoomed_train_1453.jpg: ignoring corrupt image/label: negative label values [  -0.003634]\n",
      "\u001b[34m\u001b[1mtrain: \u001b[0mWARNING ⚠️ /Volumes/Cucumber/Projects/datasets/process/2025-06-11/sku110k-only-yolo/train/images/zoomed_train_1454.jpg: ignoring corrupt image/label: non-normalized or out of bounds coordinates [     1.0262]\n",
      "\u001b[34m\u001b[1mtrain: \u001b[0mWARNING ⚠️ /Volumes/Cucumber/Projects/datasets/process/2025-06-11/sku110k-only-yolo/train/images/zoomed_train_1462.jpg: ignoring corrupt image/label: non-normalized or out of bounds coordinates [     1.0015      1.0029      1.0031]\n",
      "\u001b[34m\u001b[1mtrain: \u001b[0mWARNING ⚠️ /Volumes/Cucumber/Projects/datasets/process/2025-06-11/sku110k-only-yolo/train/images/zoomed_train_1473.jpg: ignoring corrupt image/label: negative label values [  -0.000231]\n",
      "\u001b[34m\u001b[1mtrain: \u001b[0mWARNING ⚠️ /Volumes/Cucumber/Projects/datasets/process/2025-06-11/sku110k-only-yolo/train/images/zoomed_train_1478.jpg: ignoring corrupt image/label: non-normalized or out of bounds coordinates [      1.033]\n",
      "\u001b[34m\u001b[1mtrain: \u001b[0mWARNING ⚠️ /Volumes/Cucumber/Projects/datasets/process/2025-06-11/sku110k-only-yolo/train/images/zoomed_train_148.jpg: ignoring corrupt image/label: non-normalized or out of bounds coordinates [     1.0026]\n",
      "\u001b[34m\u001b[1mtrain: \u001b[0mWARNING ⚠️ /Volumes/Cucumber/Projects/datasets/process/2025-06-11/sku110k-only-yolo/train/images/zoomed_train_1505.jpg: ignoring corrupt image/label: negative label values [  -0.004652   -0.009031   -0.019978   -0.030378   -0.013957   -0.003901]\n",
      "\u001b[34m\u001b[1mtrain: \u001b[0mWARNING ⚠️ /Volumes/Cucumber/Projects/datasets/process/2025-06-11/sku110k-only-yolo/train/images/zoomed_train_1509.jpg: ignoring corrupt image/label: negative label values [  -0.001913   -0.001366]\n",
      "\u001b[34m\u001b[1mtrain: \u001b[0mWARNING ⚠️ /Volumes/Cucumber/Projects/datasets/process/2025-06-11/sku110k-only-yolo/train/images/zoomed_train_1521.jpg: ignoring corrupt image/label: negative label values [  -0.010751]\n",
      "\u001b[34m\u001b[1mtrain: \u001b[0mWARNING ⚠️ /Volumes/Cucumber/Projects/datasets/process/2025-06-11/sku110k-only-yolo/train/images/zoomed_train_1522.jpg: ignoring corrupt image/label: non-normalized or out of bounds coordinates [     1.0109      1.0109]\n",
      "\u001b[34m\u001b[1mtrain: \u001b[0mWARNING ⚠️ /Volumes/Cucumber/Projects/datasets/process/2025-06-11/sku110k-only-yolo/train/images/zoomed_train_1523.jpg: ignoring corrupt image/label: non-normalized or out of bounds coordinates [     1.0068]\n",
      "\u001b[34m\u001b[1mtrain: \u001b[0mWARNING ⚠️ /Volumes/Cucumber/Projects/datasets/process/2025-06-11/sku110k-only-yolo/train/images/zoomed_train_1527.jpg: ignoring corrupt image/label: negative label values [  -0.008991   -0.004143   -0.015277   -0.003884    -0.01217   -0.014241   -0.011911   -0.005533]\n",
      "\u001b[34m\u001b[1mtrain: \u001b[0mWARNING ⚠️ /Volumes/Cucumber/Projects/datasets/process/2025-06-11/sku110k-only-yolo/train/images/zoomed_train_1625.jpg: ignoring corrupt image/label: negative label values [  -0.005952    -0.00124   -0.004216   -0.010913]\n",
      "\u001b[34m\u001b[1mtrain: \u001b[0mWARNING ⚠️ /Volumes/Cucumber/Projects/datasets/process/2025-06-11/sku110k-only-yolo/train/images/zoomed_train_163.jpg: ignoring corrupt image/label: non-normalized or out of bounds coordinates [     1.0014]\n",
      "\u001b[34m\u001b[1mtrain: \u001b[0mWARNING ⚠️ /Volumes/Cucumber/Projects/datasets/process/2025-06-11/sku110k-only-yolo/train/images/zoomed_train_1635.jpg: ignoring corrupt image/label: negative label values [  -0.017997   -0.016823   -0.017214   -0.019171   -0.029734   -0.026995   -0.027387   -0.030516   -0.031299   -0.027778]\n",
      "\u001b[34m\u001b[1mtrain: \u001b[0mWARNING ⚠️ /Volumes/Cucumber/Projects/datasets/process/2025-06-11/sku110k-only-yolo/train/images/zoomed_train_1640.jpg: ignoring corrupt image/label: negative label values [  -0.021164   -0.013889]\n",
      "\u001b[34m\u001b[1mtrain: \u001b[0mWARNING ⚠️ /Volumes/Cucumber/Projects/datasets/process/2025-06-11/sku110k-only-yolo/train/images/zoomed_train_1644.jpg: ignoring corrupt image/label: negative label values [  -0.004504   -0.004504]\n",
      "\u001b[34m\u001b[1mtrain: \u001b[0mWARNING ⚠️ /Volumes/Cucumber/Projects/datasets/process/2025-06-11/sku110k-only-yolo/train/images/zoomed_train_1653.jpg: ignoring corrupt image/label: negative label values [   -0.02368]\n",
      "\u001b[34m\u001b[1mtrain: \u001b[0mWARNING ⚠️ /Volumes/Cucumber/Projects/datasets/process/2025-06-11/sku110k-only-yolo/train/images/zoomed_train_1657.jpg: ignoring corrupt image/label: non-normalized or out of bounds coordinates [     1.0063      1.0012      1.0086      1.0092      1.0109      1.0188      1.0035]\n",
      "\u001b[34m\u001b[1mtrain: \u001b[0mWARNING ⚠️ /Volumes/Cucumber/Projects/datasets/process/2025-06-11/sku110k-only-yolo/train/images/zoomed_train_1665.jpg: ignoring corrupt image/label: non-normalized or out of bounds coordinates [     1.0111]\n",
      "\u001b[34m\u001b[1mtrain: \u001b[0mWARNING ⚠️ /Volumes/Cucumber/Projects/datasets/process/2025-06-11/sku110k-only-yolo/train/images/zoomed_train_1668.jpg: ignoring corrupt image/label: negative label values [  -0.003868   -0.006286   -0.017891   -0.021276]\n",
      "\u001b[34m\u001b[1mtrain: \u001b[0mWARNING ⚠️ /Volumes/Cucumber/Projects/datasets/process/2025-06-11/sku110k-only-yolo/train/images/zoomed_train_167.jpg: ignoring corrupt image/label: non-normalized or out of bounds coordinates [     1.0164]\n",
      "\u001b[34m\u001b[1mtrain: \u001b[0mWARNING ⚠️ /Volumes/Cucumber/Projects/datasets/process/2025-06-11/sku110k-only-yolo/train/images/zoomed_train_1674.jpg: ignoring corrupt image/label: negative label values [  -0.000677]\n",
      "\u001b[34m\u001b[1mtrain: \u001b[0mWARNING ⚠️ /Volumes/Cucumber/Projects/datasets/process/2025-06-11/sku110k-only-yolo/train/images/zoomed_train_1676.jpg: ignoring corrupt image/label: non-normalized or out of bounds coordinates [     1.0286      1.0355      1.0412      1.0313]\n",
      "\u001b[34m\u001b[1mtrain: \u001b[0mWARNING ⚠️ /Volumes/Cucumber/Projects/datasets/process/2025-06-11/sku110k-only-yolo/train/images/zoomed_train_168.jpg: ignoring corrupt image/label: negative label values [  -0.005761]\n",
      "\u001b[34m\u001b[1mtrain: \u001b[0mWARNING ⚠️ /Volumes/Cucumber/Projects/datasets/process/2025-06-11/sku110k-only-yolo/train/images/zoomed_train_1697.jpg: ignoring corrupt image/label: non-normalized or out of bounds coordinates [     1.0126]\n",
      "\u001b[34m\u001b[1mtrain: \u001b[0mWARNING ⚠️ /Volumes/Cucumber/Projects/datasets/process/2025-06-11/sku110k-only-yolo/train/images/zoomed_train_17.jpg: ignoring corrupt image/label: non-normalized or out of bounds coordinates [     1.0048      1.0109]\n",
      "\u001b[34m\u001b[1mtrain: \u001b[0mWARNING ⚠️ /Volumes/Cucumber/Projects/datasets/process/2025-06-11/sku110k-only-yolo/train/images/zoomed_train_171.jpg: ignoring corrupt image/label: negative label values [  -0.014581   -0.008263]\n",
      "\u001b[34m\u001b[1mtrain: \u001b[0mWARNING ⚠️ /Volumes/Cucumber/Projects/datasets/process/2025-06-11/sku110k-only-yolo/train/images/zoomed_train_172.jpg: ignoring corrupt image/label: negative label values [   -0.00426   -0.000213]\n",
      "\u001b[34m\u001b[1mtrain: \u001b[0mWARNING ⚠️ /Volumes/Cucumber/Projects/datasets/process/2025-06-11/sku110k-only-yolo/train/images/zoomed_train_1729.jpg: ignoring corrupt image/label: negative label values [  -0.025282   -0.012518   -0.013255   -0.014237   -0.024546   -0.027737]\n",
      "\u001b[34m\u001b[1mtrain: \u001b[0mWARNING ⚠️ /Volumes/Cucumber/Projects/datasets/process/2025-06-11/sku110k-only-yolo/train/images/zoomed_train_1737.jpg: ignoring corrupt image/label: non-normalized or out of bounds coordinates [     1.0015]\n",
      "\u001b[34m\u001b[1mtrain: \u001b[0mWARNING ⚠️ /Volumes/Cucumber/Projects/datasets/process/2025-06-11/sku110k-only-yolo/train/images/zoomed_train_1738.jpg: ignoring corrupt image/label: negative label values [  -0.019413   -0.035511]\n",
      "\u001b[34m\u001b[1mtrain: \u001b[0mWARNING ⚠️ /Volumes/Cucumber/Projects/datasets/process/2025-06-11/sku110k-only-yolo/train/images/zoomed_train_1739.jpg: ignoring corrupt image/label: negative label values [  -0.035151   -0.030757]\n",
      "\u001b[34m\u001b[1mtrain: \u001b[0mWARNING ⚠️ /Volumes/Cucumber/Projects/datasets/process/2025-06-11/sku110k-only-yolo/train/images/zoomed_train_1741.jpg: ignoring corrupt image/label: negative label values [  -0.019378   -0.001055]\n",
      "\u001b[34m\u001b[1mtrain: \u001b[0mWARNING ⚠️ /Volumes/Cucumber/Projects/datasets/process/2025-06-11/sku110k-only-yolo/train/images/zoomed_train_1749.jpg: ignoring corrupt image/label: negative label values [  -0.001031   -0.006704]\n",
      "\u001b[34m\u001b[1mtrain: \u001b[0mWARNING ⚠️ /Volumes/Cucumber/Projects/datasets/process/2025-06-11/sku110k-only-yolo/train/images/zoomed_train_1751.jpg: ignoring corrupt image/label: non-normalized or out of bounds coordinates [      1.005]\n",
      "\u001b[34m\u001b[1mtrain: \u001b[0mWARNING ⚠️ /Volumes/Cucumber/Projects/datasets/process/2025-06-11/sku110k-only-yolo/train/images/zoomed_train_1763.jpg: ignoring corrupt image/label: negative label values [  -0.011236]\n",
      "\u001b[34m\u001b[1mtrain: \u001b[0mWARNING ⚠️ /Volumes/Cucumber/Projects/datasets/process/2025-06-11/sku110k-only-yolo/train/images/zoomed_train_1776.jpg: ignoring corrupt image/label: non-normalized or out of bounds coordinates [     1.0039      1.0089      1.0148      1.0135      1.0148]\n",
      "\u001b[34m\u001b[1mtrain: \u001b[0mWARNING ⚠️ /Volumes/Cucumber/Projects/datasets/process/2025-06-11/sku110k-only-yolo/train/images/zoomed_train_1794.jpg: ignoring corrupt image/label: negative label values [  -0.039842]\n",
      "\u001b[34m\u001b[1mtrain: \u001b[0mWARNING ⚠️ /Volumes/Cucumber/Projects/datasets/process/2025-06-11/sku110k-only-yolo/train/images/zoomed_train_1803.jpg: ignoring corrupt image/label: non-normalized or out of bounds coordinates [     1.0091]\n",
      "\u001b[34m\u001b[1mtrain: \u001b[0mWARNING ⚠️ /Volumes/Cucumber/Projects/datasets/process/2025-06-11/sku110k-only-yolo/train/images/zoomed_train_1806.jpg: ignoring corrupt image/label: non-normalized or out of bounds coordinates [     1.0137]\n",
      "\u001b[34m\u001b[1mtrain: \u001b[0mWARNING ⚠️ /Volumes/Cucumber/Projects/datasets/process/2025-06-11/sku110k-only-yolo/train/images/zoomed_train_1825.jpg: ignoring corrupt image/label: negative label values [  -0.020219    -0.02623]\n",
      "\u001b[34m\u001b[1mtrain: \u001b[0mWARNING ⚠️ /Volumes/Cucumber/Projects/datasets/process/2025-06-11/sku110k-only-yolo/train/images/zoomed_train_1831.jpg: ignoring corrupt image/label: non-normalized or out of bounds coordinates [     1.0077]\n",
      "\u001b[34m\u001b[1mtrain: \u001b[0mWARNING ⚠️ /Volumes/Cucumber/Projects/datasets/process/2025-06-11/sku110k-only-yolo/train/images/zoomed_train_1847.jpg: ignoring corrupt image/label: negative label values [  -0.031588   -0.037004   -0.027978   -0.041516   -0.035199   -0.033394]\n",
      "\u001b[34m\u001b[1mtrain: \u001b[0mWARNING ⚠️ /Volumes/Cucumber/Projects/datasets/process/2025-06-11/sku110k-only-yolo/train/images/zoomed_train_186.jpg: ignoring corrupt image/label: non-normalized or out of bounds coordinates [     1.0135      1.0139      1.0142]\n",
      "\u001b[34m\u001b[1mtrain: \u001b[0mWARNING ⚠️ /Volumes/Cucumber/Projects/datasets/process/2025-06-11/sku110k-only-yolo/train/images/zoomed_train_1861.jpg: ignoring corrupt image/label: non-normalized or out of bounds coordinates [     1.0244       1.016      1.0128      1.0066]\n",
      "\u001b[34m\u001b[1mtrain: \u001b[0mWARNING ⚠️ /Volumes/Cucumber/Projects/datasets/process/2025-06-11/sku110k-only-yolo/train/images/zoomed_train_1896.jpg: ignoring corrupt image/label: negative label values [  -0.001753   -0.020536]\n",
      "\u001b[34m\u001b[1mtrain: \u001b[0mWARNING ⚠️ /Volumes/Cucumber/Projects/datasets/process/2025-06-11/sku110k-only-yolo/train/images/zoomed_train_1901.jpg: ignoring corrupt image/label: non-normalized or out of bounds coordinates [     1.0125      1.0056      1.0134       1.011]\n",
      "\u001b[34m\u001b[1mtrain: \u001b[0mWARNING ⚠️ /Volumes/Cucumber/Projects/datasets/process/2025-06-11/sku110k-only-yolo/train/images/zoomed_train_1912.jpg: ignoring corrupt image/label: non-normalized or out of bounds coordinates [      1.003]\n",
      "\u001b[34m\u001b[1mtrain: \u001b[0mWARNING ⚠️ /Volumes/Cucumber/Projects/datasets/process/2025-06-11/sku110k-only-yolo/train/images/zoomed_train_1914.jpg: ignoring corrupt image/label: negative label values [  -0.009384]\n",
      "\u001b[34m\u001b[1mtrain: \u001b[0mWARNING ⚠️ /Volumes/Cucumber/Projects/datasets/process/2025-06-11/sku110k-only-yolo/train/images/zoomed_train_1916.jpg: ignoring corrupt image/label: non-normalized or out of bounds coordinates [     1.0003]\n",
      "\u001b[34m\u001b[1mtrain: \u001b[0mWARNING ⚠️ /Volumes/Cucumber/Projects/datasets/process/2025-06-11/sku110k-only-yolo/train/images/zoomed_train_1921.jpg: ignoring corrupt image/label: negative label values [  -0.002221]\n",
      "\u001b[34m\u001b[1mtrain: \u001b[0mWARNING ⚠️ /Volumes/Cucumber/Projects/datasets/process/2025-06-11/sku110k-only-yolo/train/images/zoomed_train_1923.jpg: ignoring corrupt image/label: non-normalized or out of bounds coordinates [     1.0002]\n",
      "\u001b[34m\u001b[1mtrain: \u001b[0mWARNING ⚠️ /Volumes/Cucumber/Projects/datasets/process/2025-06-11/sku110k-only-yolo/train/images/zoomed_train_2008.jpg: ignoring corrupt image/label: non-normalized or out of bounds coordinates [      1.016      1.0022      1.0057]\n",
      "\u001b[34m\u001b[1mtrain: \u001b[0mWARNING ⚠️ /Volumes/Cucumber/Projects/datasets/process/2025-06-11/sku110k-only-yolo/train/images/zoomed_train_2032.jpg: ignoring corrupt image/label: non-normalized or out of bounds coordinates [     1.0164      1.0066]\n",
      "\u001b[34m\u001b[1mtrain: \u001b[0mWARNING ⚠️ /Volumes/Cucumber/Projects/datasets/process/2025-06-11/sku110k-only-yolo/train/images/zoomed_train_2062.jpg: ignoring corrupt image/label: negative label values [  -0.010886   -0.011242   -0.016863   -0.000281]\n",
      "\u001b[34m\u001b[1mtrain: \u001b[0mWARNING ⚠️ /Volumes/Cucumber/Projects/datasets/process/2025-06-11/sku110k-only-yolo/train/images/zoomed_train_2064.jpg: ignoring corrupt image/label: non-normalized or out of bounds coordinates [     1.0089]\n",
      "\u001b[34m\u001b[1mtrain: \u001b[0mWARNING ⚠️ /Volumes/Cucumber/Projects/datasets/process/2025-06-11/sku110k-only-yolo/train/images/zoomed_train_2071.jpg: ignoring corrupt image/label: negative label values [   -0.02844   -0.017125   -0.031498]\n",
      "\u001b[34m\u001b[1mtrain: \u001b[0mWARNING ⚠️ /Volumes/Cucumber/Projects/datasets/process/2025-06-11/sku110k-only-yolo/train/images/zoomed_train_2081.jpg: ignoring corrupt image/label: negative label values [  -0.007194]\n",
      "\u001b[34m\u001b[1mtrain: \u001b[0mWARNING ⚠️ /Volumes/Cucumber/Projects/datasets/process/2025-06-11/sku110k-only-yolo/train/images/zoomed_train_2109.jpg: ignoring corrupt image/label: non-normalized or out of bounds coordinates [      1.011      1.0126]\n",
      "\u001b[34m\u001b[1mtrain: \u001b[0mWARNING ⚠️ /Volumes/Cucumber/Projects/datasets/process/2025-06-11/sku110k-only-yolo/train/images/zoomed_train_2118.jpg: ignoring corrupt image/label: non-normalized or out of bounds coordinates [     1.0661]\n",
      "\u001b[34m\u001b[1mtrain: \u001b[0mWARNING ⚠️ /Volumes/Cucumber/Projects/datasets/process/2025-06-11/sku110k-only-yolo/train/images/zoomed_train_2120.jpg: ignoring corrupt image/label: negative label values [  -0.005555   -0.009374   -0.021629   -0.018122   -0.016758   -0.015394   -0.014224]\n",
      "\u001b[34m\u001b[1mtrain: \u001b[0mWARNING ⚠️ /Volumes/Cucumber/Projects/datasets/process/2025-06-11/sku110k-only-yolo/train/images/zoomed_train_2133.jpg: ignoring corrupt image/label: non-normalized or out of bounds coordinates [     1.0058]\n",
      "\u001b[34m\u001b[1mtrain: \u001b[0mWARNING ⚠️ /Volumes/Cucumber/Projects/datasets/process/2025-06-11/sku110k-only-yolo/train/images/zoomed_train_2138.jpg: ignoring corrupt image/label: non-normalized or out of bounds coordinates [     1.0186      1.0148      1.0022      1.0172]\n",
      "\u001b[34m\u001b[1mtrain: \u001b[0mWARNING ⚠️ /Volumes/Cucumber/Projects/datasets/process/2025-06-11/sku110k-only-yolo/train/images/zoomed_train_2147.jpg: ignoring corrupt image/label: non-normalized or out of bounds coordinates [     1.0101]\n",
      "\u001b[34m\u001b[1mtrain: \u001b[0mWARNING ⚠️ /Volumes/Cucumber/Projects/datasets/process/2025-06-11/sku110k-only-yolo/train/images/zoomed_train_2153.jpg: ignoring corrupt image/label: negative label values [  -0.005938]\n",
      "\u001b[34m\u001b[1mtrain: \u001b[0mWARNING ⚠️ /Volumes/Cucumber/Projects/datasets/process/2025-06-11/sku110k-only-yolo/train/images/zoomed_train_2188.jpg: ignoring corrupt image/label: negative label values [    -0.0156   -0.025073   -0.026485   -0.013419   -0.005297]\n",
      "\u001b[34m\u001b[1mtrain: \u001b[0mWARNING ⚠️ /Volumes/Cucumber/Projects/datasets/process/2025-06-11/sku110k-only-yolo/train/images/zoomed_train_2228.jpg: ignoring corrupt image/label: non-normalized or out of bounds coordinates [     1.0012]\n",
      "\u001b[34m\u001b[1mtrain: \u001b[0mWARNING ⚠️ /Volumes/Cucumber/Projects/datasets/process/2025-06-11/sku110k-only-yolo/train/images/zoomed_train_2241.jpg: ignoring corrupt image/label: negative label values [  -0.017613    -0.01183   -0.037855]\n",
      "\u001b[34m\u001b[1mtrain: \u001b[0mWARNING ⚠️ /Volumes/Cucumber/Projects/datasets/process/2025-06-11/sku110k-only-yolo/train/images/zoomed_train_2271.jpg: ignoring corrupt image/label: negative label values [  -0.016129    -0.03053   -0.059908]\n",
      "\u001b[34m\u001b[1mtrain: \u001b[0mWARNING ⚠️ /Volumes/Cucumber/Projects/datasets/process/2025-06-11/sku110k-only-yolo/train/images/zoomed_train_2277.jpg: ignoring corrupt image/label: negative label values [  -0.001083]\n",
      "\u001b[34m\u001b[1mtrain: \u001b[0mWARNING ⚠️ /Volumes/Cucumber/Projects/datasets/process/2025-06-11/sku110k-only-yolo/train/images/zoomed_train_2282.jpg: ignoring corrupt image/label: negative label values [  -0.047811   -0.039321   -0.035299]\n",
      "\u001b[34m\u001b[1mtrain: \u001b[0mWARNING ⚠️ /Volumes/Cucumber/Projects/datasets/process/2025-06-11/sku110k-only-yolo/train/images/zoomed_train_2288.jpg: ignoring corrupt image/label: non-normalized or out of bounds coordinates [     1.0191]\n",
      "\u001b[34m\u001b[1mtrain: \u001b[0mWARNING ⚠️ /Volumes/Cucumber/Projects/datasets/process/2025-06-11/sku110k-only-yolo/train/images/zoomed_train_232.jpg: ignoring corrupt image/label: non-normalized or out of bounds coordinates [     1.0162      1.0116]\n",
      "\u001b[34m\u001b[1mtrain: \u001b[0mWARNING ⚠️ /Volumes/Cucumber/Projects/datasets/process/2025-06-11/sku110k-only-yolo/train/images/zoomed_train_2341.jpg: ignoring corrupt image/label: non-normalized or out of bounds coordinates [     1.0003      1.0249      1.0195      1.0124      1.0141]\n",
      "\u001b[34m\u001b[1mtrain: \u001b[0mWARNING ⚠️ /Volumes/Cucumber/Projects/datasets/process/2025-06-11/sku110k-only-yolo/train/images/zoomed_train_238.jpg: ignoring corrupt image/label: negative label values [  -0.029505]\n",
      "\u001b[34m\u001b[1mtrain: \u001b[0mWARNING ⚠️ /Volumes/Cucumber/Projects/datasets/process/2025-06-11/sku110k-only-yolo/train/images/zoomed_train_2382.jpg: ignoring corrupt image/label: non-normalized or out of bounds coordinates [      1.006]\n",
      "\u001b[34m\u001b[1mtrain: \u001b[0mWARNING ⚠️ /Volumes/Cucumber/Projects/datasets/process/2025-06-11/sku110k-only-yolo/train/images/zoomed_train_2386.jpg: ignoring corrupt image/label: non-normalized or out of bounds coordinates [     1.0198      1.0106      1.0031]\n",
      "\u001b[34m\u001b[1mtrain: \u001b[0mWARNING ⚠️ /Volumes/Cucumber/Projects/datasets/process/2025-06-11/sku110k-only-yolo/train/images/zoomed_train_2396.jpg: ignoring corrupt image/label: non-normalized or out of bounds coordinates [     1.0034      1.0123       1.004      1.0079      1.0004       1.008]\n",
      "\u001b[34m\u001b[1mtrain: \u001b[0mWARNING ⚠️ /Volumes/Cucumber/Projects/datasets/process/2025-06-11/sku110k-only-yolo/train/images/zoomed_train_2417.jpg: ignoring corrupt image/label: negative label values [  -0.011646   -0.028057   -0.022763   -0.006088   -0.000794]\n",
      "\u001b[34m\u001b[1mtrain: \u001b[0mWARNING ⚠️ /Volumes/Cucumber/Projects/datasets/process/2025-06-11/sku110k-only-yolo/train/images/zoomed_train_2450.jpg: ignoring corrupt image/label: non-normalized or out of bounds coordinates [     1.0173      1.0116       1.011]\n",
      "\u001b[34m\u001b[1mtrain: \u001b[0mWARNING ⚠️ /Volumes/Cucumber/Projects/datasets/process/2025-06-11/sku110k-only-yolo/train/images/zoomed_train_2480.jpg: ignoring corrupt image/label: non-normalized or out of bounds coordinates [     1.0059      1.0007      1.0018      1.0061      1.0072      1.0075      1.0053      1.0099]\n",
      "\u001b[34m\u001b[1mtrain: \u001b[0mWARNING ⚠️ /Volumes/Cucumber/Projects/datasets/process/2025-06-11/sku110k-only-yolo/train/images/zoomed_train_2484.jpg: ignoring corrupt image/label: non-normalized or out of bounds coordinates [      1.008]\n",
      "\u001b[34m\u001b[1mtrain: \u001b[0mWARNING ⚠️ /Volumes/Cucumber/Projects/datasets/process/2025-06-11/sku110k-only-yolo/train/images/zoomed_train_2493.jpg: ignoring corrupt image/label: non-normalized or out of bounds coordinates [     1.0145]\n",
      "\u001b[34m\u001b[1mtrain: \u001b[0mWARNING ⚠️ /Volumes/Cucumber/Projects/datasets/process/2025-06-11/sku110k-only-yolo/train/images/zoomed_train_2499.jpg: ignoring corrupt image/label: non-normalized or out of bounds coordinates [     1.0076]\n",
      "\u001b[34m\u001b[1mtrain: \u001b[0mWARNING ⚠️ /Volumes/Cucumber/Projects/datasets/process/2025-06-11/sku110k-only-yolo/train/images/zoomed_train_2504.jpg: ignoring corrupt image/label: negative label values [  -0.039971    -0.04473]\n",
      "\u001b[34m\u001b[1mtrain: \u001b[0mWARNING ⚠️ /Volumes/Cucumber/Projects/datasets/process/2025-06-11/sku110k-only-yolo/train/images/zoomed_train_2519.jpg: ignoring corrupt image/label: non-normalized or out of bounds coordinates [     1.0114]\n",
      "\u001b[34m\u001b[1mtrain: \u001b[0mWARNING ⚠️ /Volumes/Cucumber/Projects/datasets/process/2025-06-11/sku110k-only-yolo/train/images/zoomed_train_252.jpg: ignoring corrupt image/label: non-normalized or out of bounds coordinates [     1.0076]\n",
      "\u001b[34m\u001b[1mtrain: \u001b[0mWARNING ⚠️ /Volumes/Cucumber/Projects/datasets/process/2025-06-11/sku110k-only-yolo/train/images/zoomed_train_2536.jpg: ignoring corrupt image/label: negative label values [  -0.031781   -0.035662   -0.002916     -0.0162]\n",
      "\u001b[34m\u001b[1mtrain: \u001b[0mWARNING ⚠️ /Volumes/Cucumber/Projects/datasets/process/2025-06-11/sku110k-only-yolo/train/images/zoomed_train_2551.jpg: ignoring corrupt image/label: non-normalized or out of bounds coordinates [     1.0015      1.0044      1.0065      1.0036      1.0048      1.0196      1.0023      1.0061]\n",
      "\u001b[34m\u001b[1mtrain: \u001b[0mWARNING ⚠️ /Volumes/Cucumber/Projects/datasets/process/2025-06-11/sku110k-only-yolo/train/images/zoomed_train_2561.jpg: ignoring corrupt image/label: non-normalized or out of bounds coordinates [     1.0086      1.0084      1.0057      1.0009      1.0124]\n",
      "\u001b[34m\u001b[1mtrain: \u001b[0mWARNING ⚠️ /Volumes/Cucumber/Projects/datasets/process/2025-06-11/sku110k-only-yolo/train/images/zoomed_train_2563.jpg: ignoring corrupt image/label: negative label values [   -0.00453   -0.005088]\n",
      "\u001b[34m\u001b[1mtrain: \u001b[0mWARNING ⚠️ /Volumes/Cucumber/Projects/datasets/process/2025-06-11/sku110k-only-yolo/train/images/zoomed_train_2583.jpg: ignoring corrupt image/label: non-normalized or out of bounds coordinates [     1.0174      1.0107      1.0114]\n",
      "\u001b[34m\u001b[1mtrain: \u001b[0mWARNING ⚠️ /Volumes/Cucumber/Projects/datasets/process/2025-06-11/sku110k-only-yolo/train/images/zoomed_train_2589.jpg: ignoring corrupt image/label: negative label values [  -0.001743   -0.009586]\n",
      "\u001b[34m\u001b[1mtrain: \u001b[0mWARNING ⚠️ /Volumes/Cucumber/Projects/datasets/process/2025-06-11/sku110k-only-yolo/train/images/zoomed_train_2612.jpg: ignoring corrupt image/label: negative label values [  -0.018522   -0.026987   -0.022489   -0.034483    -0.03036   -0.022489]\n",
      "\u001b[34m\u001b[1mtrain: \u001b[0mWARNING ⚠️ /Volumes/Cucumber/Projects/datasets/process/2025-06-11/sku110k-only-yolo/train/images/zoomed_train_2616.jpg: ignoring corrupt image/label: negative label values [  -0.018519   -0.002525]\n",
      "\u001b[34m\u001b[1mtrain: \u001b[0mWARNING ⚠️ /Volumes/Cucumber/Projects/datasets/process/2025-06-11/sku110k-only-yolo/train/images/zoomed_train_2621.jpg: ignoring corrupt image/label: non-normalized or out of bounds coordinates [     1.0018      1.0021      1.0038]\n",
      "\u001b[34m\u001b[1mtrain: \u001b[0mWARNING ⚠️ /Volumes/Cucumber/Projects/datasets/process/2025-06-11/sku110k-only-yolo/train/images/zoomed_train_2657.jpg: ignoring corrupt image/label: negative label values [  -0.007542]\n",
      "\u001b[34m\u001b[1mtrain: \u001b[0mWARNING ⚠️ /Volumes/Cucumber/Projects/datasets/process/2025-06-11/sku110k-only-yolo/train/images/zoomed_train_2661.jpg: ignoring corrupt image/label: non-normalized or out of bounds coordinates [     1.0004      1.0054]\n",
      "\u001b[34m\u001b[1mtrain: \u001b[0mWARNING ⚠️ /Volumes/Cucumber/Projects/datasets/process/2025-06-11/sku110k-only-yolo/train/images/zoomed_train_2705.jpg: ignoring corrupt image/label: non-normalized or out of bounds coordinates [     1.0093      1.0025      1.0092      1.0074]\n",
      "\u001b[34m\u001b[1mtrain: \u001b[0mWARNING ⚠️ /Volumes/Cucumber/Projects/datasets/process/2025-06-11/sku110k-only-yolo/train/images/zoomed_train_2710.jpg: ignoring corrupt image/label: non-normalized or out of bounds coordinates [     1.0094]\n",
      "\u001b[34m\u001b[1mtrain: \u001b[0mWARNING ⚠️ /Volumes/Cucumber/Projects/datasets/process/2025-06-11/sku110k-only-yolo/train/images/zoomed_train_2724.jpg: ignoring corrupt image/label: negative label values [   -0.01037   -0.002593   -0.028519   -0.026667    -0.02963]\n",
      "\u001b[34m\u001b[1mtrain: \u001b[0mWARNING ⚠️ /Volumes/Cucumber/Projects/datasets/process/2025-06-11/sku110k-only-yolo/train/images/zoomed_train_2728.jpg: ignoring corrupt image/label: non-normalized or out of bounds coordinates [     1.0569      1.0502      1.0389      1.0524      1.0411       1.049      1.0558]\n",
      "\u001b[34m\u001b[1mtrain: \u001b[0mWARNING ⚠️ /Volumes/Cucumber/Projects/datasets/process/2025-06-11/sku110k-only-yolo/train/images/zoomed_train_2756.jpg: ignoring corrupt image/label: negative label values [  -0.001767]\n",
      "\u001b[34m\u001b[1mtrain: \u001b[0mWARNING ⚠️ /Volumes/Cucumber/Projects/datasets/process/2025-06-11/sku110k-only-yolo/train/images/zoomed_train_2758.jpg: ignoring corrupt image/label: non-normalized or out of bounds coordinates [     1.0033]\n",
      "\u001b[34m\u001b[1mtrain: \u001b[0mWARNING ⚠️ /Volumes/Cucumber/Projects/datasets/process/2025-06-11/sku110k-only-yolo/train/images/zoomed_train_2798.jpg: ignoring corrupt image/label: non-normalized or out of bounds coordinates [     1.0055      1.0052]\n",
      "\u001b[34m\u001b[1mtrain: \u001b[0mWARNING ⚠️ /Volumes/Cucumber/Projects/datasets/process/2025-06-11/sku110k-only-yolo/train/images/zoomed_train_2806.jpg: ignoring corrupt image/label: non-normalized or out of bounds coordinates [     1.0317      1.0327]\n",
      "\u001b[34m\u001b[1mtrain: \u001b[0mWARNING ⚠️ /Volumes/Cucumber/Projects/datasets/process/2025-06-11/sku110k-only-yolo/train/images/zoomed_train_2836.jpg: ignoring corrupt image/label: negative label values [   -0.02541   -0.032765   -0.006687]\n",
      "\u001b[34m\u001b[1mtrain: \u001b[0mWARNING ⚠️ /Volumes/Cucumber/Projects/datasets/process/2025-06-11/sku110k-only-yolo/train/images/zoomed_train_2847.jpg: ignoring corrupt image/label: non-normalized or out of bounds coordinates [     1.0138]\n",
      "\u001b[34m\u001b[1mtrain: \u001b[0mWARNING ⚠️ /Volumes/Cucumber/Projects/datasets/process/2025-06-11/sku110k-only-yolo/train/images/zoomed_train_2855.jpg: ignoring corrupt image/label: negative label values [  -0.015549]\n",
      "\u001b[34m\u001b[1mtrain: \u001b[0mWARNING ⚠️ /Volumes/Cucumber/Projects/datasets/process/2025-06-11/sku110k-only-yolo/train/images/zoomed_train_2862.jpg: ignoring corrupt image/label: negative label values [  -0.000833]\n",
      "\u001b[34m\u001b[1mtrain: \u001b[0mWARNING ⚠️ /Volumes/Cucumber/Projects/datasets/process/2025-06-11/sku110k-only-yolo/train/images/zoomed_train_2867.jpg: ignoring corrupt image/label: non-normalized or out of bounds coordinates [      1.005]\n",
      "\u001b[34m\u001b[1mtrain: \u001b[0mWARNING ⚠️ /Volumes/Cucumber/Projects/datasets/process/2025-06-11/sku110k-only-yolo/train/images/zoomed_train_2886.jpg: ignoring corrupt image/label: non-normalized or out of bounds coordinates [     1.0036]\n",
      "\u001b[34m\u001b[1mtrain: \u001b[0mWARNING ⚠️ /Volumes/Cucumber/Projects/datasets/process/2025-06-11/sku110k-only-yolo/train/images/zoomed_train_2891.jpg: ignoring corrupt image/label: negative label values [  -0.011192]\n",
      "\u001b[34m\u001b[1mtrain: \u001b[0mWARNING ⚠️ /Volumes/Cucumber/Projects/datasets/process/2025-06-11/sku110k-only-yolo/train/images/zoomed_train_2907.jpg: ignoring corrupt image/label: non-normalized or out of bounds coordinates [     1.0004      1.0128]\n",
      "\u001b[34m\u001b[1mtrain: \u001b[0mWARNING ⚠️ /Volumes/Cucumber/Projects/datasets/process/2025-06-11/sku110k-only-yolo/train/images/zoomed_train_2924.jpg: ignoring corrupt image/label: non-normalized or out of bounds coordinates [     1.0049]\n",
      "\u001b[34m\u001b[1mtrain: \u001b[0mWARNING ⚠️ /Volumes/Cucumber/Projects/datasets/process/2025-06-11/sku110k-only-yolo/train/images/zoomed_train_2945.jpg: ignoring corrupt image/label: non-normalized or out of bounds coordinates [     1.0005      1.0021      1.0067       1.014      1.0036]\n",
      "\u001b[34m\u001b[1mtrain: \u001b[0mWARNING ⚠️ /Volumes/Cucumber/Projects/datasets/process/2025-06-11/sku110k-only-yolo/train/images/zoomed_train_2949.jpg: ignoring corrupt image/label: non-normalized or out of bounds coordinates [     1.0068      1.0088]\n",
      "\u001b[34m\u001b[1mtrain: \u001b[0mWARNING ⚠️ /Volumes/Cucumber/Projects/datasets/process/2025-06-11/sku110k-only-yolo/train/images/zoomed_train_2986.jpg: ignoring corrupt image/label: non-normalized or out of bounds coordinates [     1.0159      1.0189      1.0199      1.0132      1.0062]\n",
      "\u001b[34m\u001b[1mtrain: \u001b[0mWARNING ⚠️ /Volumes/Cucumber/Projects/datasets/process/2025-06-11/sku110k-only-yolo/train/images/zoomed_train_2997.jpg: ignoring corrupt image/label: non-normalized or out of bounds coordinates [     1.0143      1.0015      1.0042      1.0207]\n",
      "\u001b[34m\u001b[1mtrain: \u001b[0mWARNING ⚠️ /Volumes/Cucumber/Projects/datasets/process/2025-06-11/sku110k-only-yolo/train/images/zoomed_train_3036.jpg: ignoring corrupt image/label: negative label values [  -0.035566]\n",
      "\u001b[34m\u001b[1mtrain: \u001b[0mWARNING ⚠️ /Volumes/Cucumber/Projects/datasets/process/2025-06-11/sku110k-only-yolo/train/images/zoomed_train_305.jpg: ignoring corrupt image/label: negative label values [  -0.043499   -0.044276    -0.02641   -0.034954   -0.015924]\n",
      "\u001b[34m\u001b[1mtrain: \u001b[0mWARNING ⚠️ /Volumes/Cucumber/Projects/datasets/process/2025-06-11/sku110k-only-yolo/train/images/zoomed_train_306.jpg: ignoring corrupt image/label: non-normalized or out of bounds coordinates [     1.0175      1.0148]\n",
      "\u001b[34m\u001b[1mtrain: \u001b[0mWARNING ⚠️ /Volumes/Cucumber/Projects/datasets/process/2025-06-11/sku110k-only-yolo/train/images/zoomed_train_3067.jpg: ignoring corrupt image/label: negative label values [  -0.031849]\n",
      "\u001b[34m\u001b[1mtrain: \u001b[0mWARNING ⚠️ /Volumes/Cucumber/Projects/datasets/process/2025-06-11/sku110k-only-yolo/train/images/zoomed_train_307.jpg: ignoring corrupt image/label: non-normalized or out of bounds coordinates [     1.0078]\n",
      "\u001b[34m\u001b[1mtrain: \u001b[0mWARNING ⚠️ /Volumes/Cucumber/Projects/datasets/process/2025-06-11/sku110k-only-yolo/train/images/zoomed_train_3078.jpg: ignoring corrupt image/label: non-normalized or out of bounds coordinates [     1.0031      1.0093      1.0136]\n",
      "\u001b[34m\u001b[1mtrain: \u001b[0mWARNING ⚠️ /Volumes/Cucumber/Projects/datasets/process/2025-06-11/sku110k-only-yolo/train/images/zoomed_train_3091.jpg: ignoring corrupt image/label: non-normalized or out of bounds coordinates [     1.0186]\n",
      "\u001b[34m\u001b[1mtrain: \u001b[0mWARNING ⚠️ /Volumes/Cucumber/Projects/datasets/process/2025-06-11/sku110k-only-yolo/train/images/zoomed_train_3107.jpg: ignoring corrupt image/label: negative label values [  -0.019099   -0.002984   -0.017308]\n",
      "\u001b[34m\u001b[1mtrain: \u001b[0mWARNING ⚠️ /Volumes/Cucumber/Projects/datasets/process/2025-06-11/sku110k-only-yolo/train/images/zoomed_train_3114.jpg: ignoring corrupt image/label: non-normalized or out of bounds coordinates [     1.0006      1.0142]\n",
      "\u001b[34m\u001b[1mtrain: \u001b[0mWARNING ⚠️ /Volumes/Cucumber/Projects/datasets/process/2025-06-11/sku110k-only-yolo/train/images/zoomed_train_3133.jpg: ignoring corrupt image/label: negative label values [  -0.004915]\n",
      "\u001b[34m\u001b[1mtrain: \u001b[0mWARNING ⚠️ /Volumes/Cucumber/Projects/datasets/process/2025-06-11/sku110k-only-yolo/train/images/zoomed_train_3135.jpg: ignoring corrupt image/label: negative label values [  -0.003641   -0.005462   -0.013427    -0.00569    -0.00751   -0.003641   -0.004096   -0.007599]\n",
      "\u001b[34m\u001b[1mtrain: \u001b[0mWARNING ⚠️ /Volumes/Cucumber/Projects/datasets/process/2025-06-11/sku110k-only-yolo/train/images/zoomed_train_3148.jpg: ignoring corrupt image/label: non-normalized or out of bounds coordinates [     1.0187      1.0184       1.023]\n",
      "\u001b[34m\u001b[1mtrain: \u001b[0mWARNING ⚠️ /Volumes/Cucumber/Projects/datasets/process/2025-06-11/sku110k-only-yolo/train/images/zoomed_train_3176.jpg: ignoring corrupt image/label: negative label values [  -0.006066]\n",
      "\u001b[34m\u001b[1mtrain: \u001b[0mWARNING ⚠️ /Volumes/Cucumber/Projects/datasets/process/2025-06-11/sku110k-only-yolo/train/images/zoomed_train_3186.jpg: ignoring corrupt image/label: negative label values [  -0.006472]\n",
      "\u001b[34m\u001b[1mtrain: \u001b[0mWARNING ⚠️ /Volumes/Cucumber/Projects/datasets/process/2025-06-11/sku110k-only-yolo/train/images/zoomed_train_3206.jpg: ignoring corrupt image/label: non-normalized or out of bounds coordinates [     1.0023      1.0039]\n",
      "\u001b[34m\u001b[1mtrain: \u001b[0mWARNING ⚠️ /Volumes/Cucumber/Projects/datasets/process/2025-06-11/sku110k-only-yolo/train/images/zoomed_train_3224.jpg: ignoring corrupt image/label: non-normalized or out of bounds coordinates [     1.0122      1.0144      1.0159]\n",
      "\u001b[34m\u001b[1mtrain: \u001b[0mWARNING ⚠️ /Volumes/Cucumber/Projects/datasets/process/2025-06-11/sku110k-only-yolo/train/images/zoomed_train_3235.jpg: ignoring corrupt image/label: negative label values [  -0.004168   -0.012505   -0.004168   -0.006658   -0.005826]\n",
      "\u001b[34m\u001b[1mtrain: \u001b[0mWARNING ⚠️ /Volumes/Cucumber/Projects/datasets/process/2025-06-11/sku110k-only-yolo/train/images/zoomed_train_3237.jpg: ignoring corrupt image/label: negative label values [  -0.018848]\n",
      "\u001b[34m\u001b[1mtrain: \u001b[0mWARNING ⚠️ /Volumes/Cucumber/Projects/datasets/process/2025-06-11/sku110k-only-yolo/train/images/zoomed_train_324.jpg: ignoring corrupt image/label: negative label values [  -0.005373   -0.003224]\n",
      "\u001b[34m\u001b[1mtrain: \u001b[0mWARNING ⚠️ /Volumes/Cucumber/Projects/datasets/process/2025-06-11/sku110k-only-yolo/train/images/zoomed_train_3254.jpg: ignoring corrupt image/label: negative label values [  -0.015888]\n",
      "\u001b[34m\u001b[1mtrain: \u001b[0mWARNING ⚠️ /Volumes/Cucumber/Projects/datasets/process/2025-06-11/sku110k-only-yolo/train/images/zoomed_train_3273.jpg: ignoring corrupt image/label: negative label values [  -0.001764   -0.009259]\n",
      "\u001b[34m\u001b[1mtrain: \u001b[0mWARNING ⚠️ /Volumes/Cucumber/Projects/datasets/process/2025-06-11/sku110k-only-yolo/train/images/zoomed_train_3279.jpg: ignoring corrupt image/label: negative label values [   -0.00916]\n",
      "\u001b[34m\u001b[1mtrain: \u001b[0mWARNING ⚠️ /Volumes/Cucumber/Projects/datasets/process/2025-06-11/sku110k-only-yolo/train/images/zoomed_train_3281.jpg: ignoring corrupt image/label: negative label values [  -0.011148]\n",
      "\u001b[34m\u001b[1mtrain: \u001b[0mWARNING ⚠️ /Volumes/Cucumber/Projects/datasets/process/2025-06-11/sku110k-only-yolo/train/images/zoomed_train_329.jpg: ignoring corrupt image/label: non-normalized or out of bounds coordinates [     1.0107]\n",
      "\u001b[34m\u001b[1mtrain: \u001b[0mWARNING ⚠️ /Volumes/Cucumber/Projects/datasets/process/2025-06-11/sku110k-only-yolo/train/images/zoomed_train_3299.jpg: ignoring corrupt image/label: non-normalized or out of bounds coordinates [     1.0151      1.0123]\n",
      "\u001b[34m\u001b[1mtrain: \u001b[0mWARNING ⚠️ /Volumes/Cucumber/Projects/datasets/process/2025-06-11/sku110k-only-yolo/train/images/zoomed_train_3300.jpg: ignoring corrupt image/label: non-normalized or out of bounds coordinates [     1.0076]\n",
      "\u001b[34m\u001b[1mtrain: \u001b[0mWARNING ⚠️ /Volumes/Cucumber/Projects/datasets/process/2025-06-11/sku110k-only-yolo/train/images/zoomed_train_3316.jpg: ignoring corrupt image/label: negative label values [  -0.004365]\n",
      "\u001b[34m\u001b[1mtrain: \u001b[0mWARNING ⚠️ /Volumes/Cucumber/Projects/datasets/process/2025-06-11/sku110k-only-yolo/train/images/zoomed_train_3322.jpg: ignoring corrupt image/label: non-normalized or out of bounds coordinates [     1.0129      1.0028      1.0055      1.0093      1.0063      1.0004]\n",
      "\u001b[34m\u001b[1mtrain: \u001b[0mWARNING ⚠️ /Volumes/Cucumber/Projects/datasets/process/2025-06-11/sku110k-only-yolo/train/images/zoomed_train_3366.jpg: ignoring corrupt image/label: non-normalized or out of bounds coordinates [     1.0002      1.0322      1.0207]\n",
      "\u001b[34m\u001b[1mtrain: \u001b[0mWARNING ⚠️ /Volumes/Cucumber/Projects/datasets/process/2025-06-11/sku110k-only-yolo/train/images/zoomed_train_337.jpg: ignoring corrupt image/label: non-normalized or out of bounds coordinates [     1.0087       1.002       1.009]\n",
      "\u001b[34m\u001b[1mtrain: \u001b[0mWARNING ⚠️ /Volumes/Cucumber/Projects/datasets/process/2025-06-11/sku110k-only-yolo/train/images/zoomed_train_3374.jpg: ignoring corrupt image/label: negative label values [  -0.002784]\n",
      "\u001b[34m\u001b[1mtrain: \u001b[0mWARNING ⚠️ /Volumes/Cucumber/Projects/datasets/process/2025-06-11/sku110k-only-yolo/train/images/zoomed_train_3390.jpg: ignoring corrupt image/label: non-normalized or out of bounds coordinates [     1.0124]\n",
      "\u001b[34m\u001b[1mtrain: \u001b[0mWARNING ⚠️ /Volumes/Cucumber/Projects/datasets/process/2025-06-11/sku110k-only-yolo/train/images/zoomed_train_3411.jpg: ignoring corrupt image/label: negative label values [  -0.037702   -0.035458   -0.044434   -0.045332   -0.039497   -0.045332   -0.034111   -0.000599]\n",
      "\u001b[34m\u001b[1mtrain: \u001b[0mWARNING ⚠️ /Volumes/Cucumber/Projects/datasets/process/2025-06-11/sku110k-only-yolo/train/images/zoomed_train_3412.jpg: ignoring corrupt image/label: negative label values [  -0.012245   -0.003499]\n",
      "\u001b[34m\u001b[1mtrain: \u001b[0mWARNING ⚠️ /Volumes/Cucumber/Projects/datasets/process/2025-06-11/sku110k-only-yolo/train/images/zoomed_train_3429.jpg: ignoring corrupt image/label: non-normalized or out of bounds coordinates [     1.0395]\n",
      "\u001b[34m\u001b[1mtrain: \u001b[0mWARNING ⚠️ /Volumes/Cucumber/Projects/datasets/process/2025-06-11/sku110k-only-yolo/train/images/zoomed_train_3431.jpg: ignoring corrupt image/label: negative label values [  -0.010429   -0.013111]\n",
      "\u001b[34m\u001b[1mtrain: \u001b[0mWARNING ⚠️ /Volumes/Cucumber/Projects/datasets/process/2025-06-11/sku110k-only-yolo/train/images/zoomed_train_3447.jpg: ignoring corrupt image/label: non-normalized or out of bounds coordinates [     1.0209      1.0187      1.0168      1.0155      1.0146      1.0168      1.0187      1.0209      1.0209      1.0206      1.0212      1.0228      1.0214]\n",
      "\u001b[34m\u001b[1mtrain: \u001b[0mWARNING ⚠️ /Volumes/Cucumber/Projects/datasets/process/2025-06-11/sku110k-only-yolo/train/images/zoomed_train_3450.jpg: ignoring corrupt image/label: non-normalized or out of bounds coordinates [     1.0133      1.0039      1.0125]\n",
      "\u001b[34m\u001b[1mtrain: \u001b[0mWARNING ⚠️ /Volumes/Cucumber/Projects/datasets/process/2025-06-11/sku110k-only-yolo/train/images/zoomed_train_3465.jpg: ignoring corrupt image/label: non-normalized or out of bounds coordinates [     1.0072]\n",
      "\u001b[34m\u001b[1mtrain: \u001b[0mWARNING ⚠️ /Volumes/Cucumber/Projects/datasets/process/2025-06-11/sku110k-only-yolo/train/images/zoomed_train_3475.jpg: ignoring corrupt image/label: negative label values [  -0.014237   -0.014237]\n",
      "\u001b[34m\u001b[1mtrain: \u001b[0mWARNING ⚠️ /Volumes/Cucumber/Projects/datasets/process/2025-06-11/sku110k-only-yolo/train/images/zoomed_train_3476.jpg: ignoring corrupt image/label: non-normalized or out of bounds coordinates [     1.0267]\n",
      "\u001b[34m\u001b[1mtrain: \u001b[0mWARNING ⚠️ /Volumes/Cucumber/Projects/datasets/process/2025-06-11/sku110k-only-yolo/train/images/zoomed_train_3486.jpg: ignoring corrupt image/label: negative label values [  -0.013868   -0.013616    -0.01412   -0.010338   -0.011094   -0.006556   -0.006051   -0.003782   -0.001765   -0.020424]\n",
      "\u001b[34m\u001b[1mtrain: \u001b[0mWARNING ⚠️ /Volumes/Cucumber/Projects/datasets/process/2025-06-11/sku110k-only-yolo/train/images/zoomed_train_3497.jpg: ignoring corrupt image/label: non-normalized or out of bounds coordinates [     1.0544      1.0544      1.0517       1.053]\n",
      "\u001b[34m\u001b[1mtrain: \u001b[0mWARNING ⚠️ /Volumes/Cucumber/Projects/datasets/process/2025-06-11/sku110k-only-yolo/train/images/zoomed_train_3500.jpg: ignoring corrupt image/label: non-normalized or out of bounds coordinates [     1.0071]\n",
      "\u001b[34m\u001b[1mtrain: \u001b[0mWARNING ⚠️ /Volumes/Cucumber/Projects/datasets/process/2025-06-11/sku110k-only-yolo/train/images/zoomed_train_3525.jpg: ignoring corrupt image/label: non-normalized or out of bounds coordinates [     1.0107]\n",
      "\u001b[34m\u001b[1mtrain: \u001b[0mWARNING ⚠️ /Volumes/Cucumber/Projects/datasets/process/2025-06-11/sku110k-only-yolo/train/images/zoomed_train_3575.jpg: ignoring corrupt image/label: non-normalized or out of bounds coordinates [     1.0051      1.0049      1.0073      1.0057      1.0073      1.0154       1.019      1.0141      1.0154      1.0133       1.013]\n",
      "\u001b[34m\u001b[1mtrain: \u001b[0mWARNING ⚠️ /Volumes/Cucumber/Projects/datasets/process/2025-06-11/sku110k-only-yolo/train/images/zoomed_train_3579.jpg: ignoring corrupt image/label: non-normalized or out of bounds coordinates [     1.0082      1.0119]\n",
      "\u001b[34m\u001b[1mtrain: \u001b[0mWARNING ⚠️ /Volumes/Cucumber/Projects/datasets/process/2025-06-11/sku110k-only-yolo/train/images/zoomed_train_3586.jpg: ignoring corrupt image/label: negative label values [  -0.017361   -0.021149   -0.001263]\n",
      "\u001b[34m\u001b[1mtrain: \u001b[0mWARNING ⚠️ /Volumes/Cucumber/Projects/datasets/process/2025-06-11/sku110k-only-yolo/train/images/zoomed_train_3598.jpg: ignoring corrupt image/label: non-normalized or out of bounds coordinates [     1.0016      1.0112]\n",
      "\u001b[34m\u001b[1mtrain: \u001b[0mWARNING ⚠️ /Volumes/Cucumber/Projects/datasets/process/2025-06-11/sku110k-only-yolo/train/images/zoomed_train_3612.jpg: ignoring corrupt image/label: negative label values [  -0.008917   -0.021045   -0.000357]\n",
      "\u001b[34m\u001b[1mtrain: \u001b[0mWARNING ⚠️ /Volumes/Cucumber/Projects/datasets/process/2025-06-11/sku110k-only-yolo/train/images/zoomed_train_3620.jpg: ignoring corrupt image/label: non-normalized or out of bounds coordinates [     1.0039      1.0142        1.02]\n",
      "\u001b[34m\u001b[1mtrain: \u001b[0mWARNING ⚠️ /Volumes/Cucumber/Projects/datasets/process/2025-06-11/sku110k-only-yolo/train/images/zoomed_train_3623.jpg: ignoring corrupt image/label: negative label values [  -0.001727   -0.016839]\n",
      "\u001b[34m\u001b[1mtrain: \u001b[0mWARNING ⚠️ /Volumes/Cucumber/Projects/datasets/process/2025-06-11/sku110k-only-yolo/train/images/zoomed_train_3632.jpg: ignoring corrupt image/label: negative label values [  -0.029144]\n",
      "\u001b[34m\u001b[1mtrain: \u001b[0mWARNING ⚠️ /Volumes/Cucumber/Projects/datasets/process/2025-06-11/sku110k-only-yolo/train/images/zoomed_train_364.jpg: ignoring corrupt image/label: non-normalized or out of bounds coordinates [     1.0221]\n",
      "\u001b[34m\u001b[1mtrain: \u001b[0mWARNING ⚠️ /Volumes/Cucumber/Projects/datasets/process/2025-06-11/sku110k-only-yolo/train/images/zoomed_train_3671.jpg: ignoring corrupt image/label: non-normalized or out of bounds coordinates [     1.0008      1.0038]\n",
      "\u001b[34m\u001b[1mtrain: \u001b[0mWARNING ⚠️ /Volumes/Cucumber/Projects/datasets/process/2025-06-11/sku110k-only-yolo/train/images/zoomed_train_3681.jpg: ignoring corrupt image/label: negative label values [   -0.00025   -0.020732]\n",
      "\u001b[34m\u001b[1mtrain: \u001b[0mWARNING ⚠️ /Volumes/Cucumber/Projects/datasets/process/2025-06-11/sku110k-only-yolo/train/images/zoomed_train_3688.jpg: ignoring corrupt image/label: non-normalized or out of bounds coordinates [     1.0065      1.0107]\n",
      "\u001b[34m\u001b[1mtrain: \u001b[0mWARNING ⚠️ /Volumes/Cucumber/Projects/datasets/process/2025-06-11/sku110k-only-yolo/train/images/zoomed_train_3689.jpg: ignoring corrupt image/label: non-normalized or out of bounds coordinates [     1.0075      1.0023]\n",
      "\u001b[34m\u001b[1mtrain: \u001b[0mWARNING ⚠️ /Volumes/Cucumber/Projects/datasets/process/2025-06-11/sku110k-only-yolo/train/images/zoomed_train_3711.jpg: ignoring corrupt image/label: non-normalized or out of bounds coordinates [      1.013      1.0024      1.0042]\n",
      "\u001b[34m\u001b[1mtrain: \u001b[0mWARNING ⚠️ /Volumes/Cucumber/Projects/datasets/process/2025-06-11/sku110k-only-yolo/train/images/zoomed_train_3713.jpg: ignoring corrupt image/label: non-normalized or out of bounds coordinates [     1.0562      1.0411      1.0519      1.0529      1.0562]\n",
      "\u001b[34m\u001b[1mtrain: \u001b[0mWARNING ⚠️ /Volumes/Cucumber/Projects/datasets/process/2025-06-11/sku110k-only-yolo/train/images/zoomed_train_3716.jpg: ignoring corrupt image/label: negative label values [  -0.006801]\n",
      "\u001b[34m\u001b[1mtrain: \u001b[0mWARNING ⚠️ /Volumes/Cucumber/Projects/datasets/process/2025-06-11/sku110k-only-yolo/train/images/zoomed_train_3727.jpg: ignoring corrupt image/label: negative label values [  -0.010814   -0.002338   -0.009061]\n",
      "\u001b[34m\u001b[1mtrain: \u001b[0mWARNING ⚠️ /Volumes/Cucumber/Projects/datasets/process/2025-06-11/sku110k-only-yolo/train/images/zoomed_train_3742.jpg: ignoring corrupt image/label: non-normalized or out of bounds coordinates [     1.0013]\n",
      "\u001b[34m\u001b[1mtrain: \u001b[0mWARNING ⚠️ /Volumes/Cucumber/Projects/datasets/process/2025-06-11/sku110k-only-yolo/train/images/zoomed_train_3758.jpg: ignoring corrupt image/label: negative label values [   -0.02438]\n",
      "\u001b[34m\u001b[1mtrain: \u001b[0mWARNING ⚠️ /Volumes/Cucumber/Projects/datasets/process/2025-06-11/sku110k-only-yolo/train/images/zoomed_train_3763.jpg: ignoring corrupt image/label: non-normalized or out of bounds coordinates [     1.0028      1.0207      1.0265      1.0249      1.0156      1.0148]\n",
      "\u001b[34m\u001b[1mtrain: \u001b[0mWARNING ⚠️ /Volumes/Cucumber/Projects/datasets/process/2025-06-11/sku110k-only-yolo/train/images/zoomed_train_3770.jpg: ignoring corrupt image/label: non-normalized or out of bounds coordinates [     1.0062]\n",
      "\u001b[34m\u001b[1mtrain: \u001b[0mWARNING ⚠️ /Volumes/Cucumber/Projects/datasets/process/2025-06-11/sku110k-only-yolo/train/images/zoomed_train_3788.jpg: ignoring corrupt image/label: negative label values [  -0.000653]\n",
      "\u001b[34m\u001b[1mtrain: \u001b[0mWARNING ⚠️ /Volumes/Cucumber/Projects/datasets/process/2025-06-11/sku110k-only-yolo/train/images/zoomed_train_3797.jpg: ignoring corrupt image/label: non-normalized or out of bounds coordinates [     1.0061]\n",
      "\u001b[34m\u001b[1mtrain: \u001b[0mWARNING ⚠️ /Volumes/Cucumber/Projects/datasets/process/2025-06-11/sku110k-only-yolo/train/images/zoomed_train_38.jpg: ignoring corrupt image/label: negative label values [  -0.003723]\n",
      "\u001b[34m\u001b[1mtrain: \u001b[0mWARNING ⚠️ /Volumes/Cucumber/Projects/datasets/process/2025-06-11/sku110k-only-yolo/train/images/zoomed_train_3803.jpg: ignoring corrupt image/label: non-normalized or out of bounds coordinates [     1.0157]\n",
      "\u001b[34m\u001b[1mtrain: \u001b[0mWARNING ⚠️ /Volumes/Cucumber/Projects/datasets/process/2025-06-11/sku110k-only-yolo/train/images/zoomed_train_382.jpg: ignoring corrupt image/label: non-normalized or out of bounds coordinates [     1.0109       1.008      1.0186]\n",
      "\u001b[34m\u001b[1mtrain: \u001b[0mWARNING ⚠️ /Volumes/Cucumber/Projects/datasets/process/2025-06-11/sku110k-only-yolo/train/images/zoomed_train_3831.jpg: ignoring corrupt image/label: negative label values [  -0.054279]\n",
      "\u001b[34m\u001b[1mtrain: \u001b[0mWARNING ⚠️ /Volumes/Cucumber/Projects/datasets/process/2025-06-11/sku110k-only-yolo/train/images/zoomed_train_3871.jpg: ignoring corrupt image/label: negative label values [  -0.040437   -0.042077]\n",
      "\u001b[34m\u001b[1mtrain: \u001b[0mWARNING ⚠️ /Volumes/Cucumber/Projects/datasets/process/2025-06-11/sku110k-only-yolo/train/images/zoomed_train_3883.jpg: ignoring corrupt image/label: negative label values [  -0.013579]\n",
      "\u001b[34m\u001b[1mtrain: \u001b[0mWARNING ⚠️ /Volumes/Cucumber/Projects/datasets/process/2025-06-11/sku110k-only-yolo/train/images/zoomed_train_3889.jpg: ignoring corrupt image/label: non-normalized or out of bounds coordinates [     1.0084      1.0085      1.0127      1.0206]\n",
      "\u001b[34m\u001b[1mtrain: \u001b[0mWARNING ⚠️ /Volumes/Cucumber/Projects/datasets/process/2025-06-11/sku110k-only-yolo/train/images/zoomed_train_3894.jpg: ignoring corrupt image/label: negative label values [  -0.003535   -0.000505]\n",
      "\u001b[34m\u001b[1mtrain: \u001b[0mWARNING ⚠️ /Volumes/Cucumber/Projects/datasets/process/2025-06-11/sku110k-only-yolo/train/images/zoomed_train_3901.jpg: ignoring corrupt image/label: negative label values [  -0.020149   -0.000664   -0.028856   -0.027612   -0.028358   -0.027114   -0.023632]\n",
      "\u001b[34m\u001b[1mtrain: \u001b[0mWARNING ⚠️ /Volumes/Cucumber/Projects/datasets/process/2025-06-11/sku110k-only-yolo/train/images/zoomed_train_3907.jpg: ignoring corrupt image/label: non-normalized or out of bounds coordinates [     1.0056]\n",
      "\u001b[34m\u001b[1mtrain: \u001b[0mWARNING ⚠️ /Volumes/Cucumber/Projects/datasets/process/2025-06-11/sku110k-only-yolo/train/images/zoomed_train_3921.jpg: ignoring corrupt image/label: non-normalized or out of bounds coordinates [      1.003       1.004      1.0074]\n",
      "\u001b[34m\u001b[1mtrain: \u001b[0mWARNING ⚠️ /Volumes/Cucumber/Projects/datasets/process/2025-06-11/sku110k-only-yolo/train/images/zoomed_train_3922.jpg: ignoring corrupt image/label: non-normalized or out of bounds coordinates [     1.0018]\n",
      "\u001b[34m\u001b[1mtrain: \u001b[0mWARNING ⚠️ /Volumes/Cucumber/Projects/datasets/process/2025-06-11/sku110k-only-yolo/train/images/zoomed_train_3928.jpg: ignoring corrupt image/label: negative label values [  -0.009029    -0.01306   -0.004192   -0.003708]\n",
      "\u001b[34m\u001b[1mtrain: \u001b[0mWARNING ⚠️ /Volumes/Cucumber/Projects/datasets/process/2025-06-11/sku110k-only-yolo/train/images/zoomed_train_3960.jpg: ignoring corrupt image/label: non-normalized or out of bounds coordinates [     1.0042      1.0063]\n",
      "\u001b[34m\u001b[1mtrain: \u001b[0mWARNING ⚠️ /Volumes/Cucumber/Projects/datasets/process/2025-06-11/sku110k-only-yolo/train/images/zoomed_train_3996.jpg: ignoring corrupt image/label: non-normalized or out of bounds coordinates [     1.0117      1.0105       1.004]\n",
      "\u001b[34m\u001b[1mtrain: \u001b[0mWARNING ⚠️ /Volumes/Cucumber/Projects/datasets/process/2025-06-11/sku110k-only-yolo/train/images/zoomed_train_4003.jpg: ignoring corrupt image/label: non-normalized or out of bounds coordinates [     1.0012       1.004      1.0101      1.0021      1.0026      1.0003]\n",
      "\u001b[34m\u001b[1mtrain: \u001b[0mWARNING ⚠️ /Volumes/Cucumber/Projects/datasets/process/2025-06-11/sku110k-only-yolo/train/images/zoomed_train_4017.jpg: ignoring corrupt image/label: non-normalized or out of bounds coordinates [     1.0065]\n",
      "\u001b[34m\u001b[1mtrain: \u001b[0mWARNING ⚠️ /Volumes/Cucumber/Projects/datasets/process/2025-06-11/sku110k-only-yolo/train/images/zoomed_train_4022.jpg: ignoring corrupt image/label: negative label values [  -0.003603]\n",
      "\u001b[34m\u001b[1mtrain: \u001b[0mWARNING ⚠️ /Volumes/Cucumber/Projects/datasets/process/2025-06-11/sku110k-only-yolo/train/images/zoomed_train_4051.jpg: ignoring corrupt image/label: non-normalized or out of bounds coordinates [     1.0068      1.0018]\n",
      "\u001b[34m\u001b[1mtrain: \u001b[0mWARNING ⚠️ /Volumes/Cucumber/Projects/datasets/process/2025-06-11/sku110k-only-yolo/train/images/zoomed_train_406.jpg: ignoring corrupt image/label: negative label values [  -0.012986]\n",
      "\u001b[34m\u001b[1mtrain: \u001b[0mWARNING ⚠️ /Volumes/Cucumber/Projects/datasets/process/2025-06-11/sku110k-only-yolo/train/images/zoomed_train_4068.jpg: ignoring corrupt image/label: non-normalized or out of bounds coordinates [     1.0056      1.0009]\n",
      "\u001b[34m\u001b[1mtrain: \u001b[0mWARNING ⚠️ /Volumes/Cucumber/Projects/datasets/process/2025-06-11/sku110k-only-yolo/train/images/zoomed_train_4069.jpg: ignoring corrupt image/label: non-normalized or out of bounds coordinates [     1.0012      1.0081      1.0188]\n",
      "\u001b[34m\u001b[1mtrain: \u001b[0mWARNING ⚠️ /Volumes/Cucumber/Projects/datasets/process/2025-06-11/sku110k-only-yolo/train/images/zoomed_train_4074.jpg: ignoring corrupt image/label: non-normalized or out of bounds coordinates [     1.0093      1.0078]\n",
      "\u001b[34m\u001b[1mtrain: \u001b[0mWARNING ⚠️ /Volumes/Cucumber/Projects/datasets/process/2025-06-11/sku110k-only-yolo/train/images/zoomed_train_4092.jpg: ignoring corrupt image/label: non-normalized or out of bounds coordinates [     1.0054]\n",
      "\u001b[34m\u001b[1mtrain: \u001b[0mWARNING ⚠️ /Volumes/Cucumber/Projects/datasets/process/2025-06-11/sku110k-only-yolo/train/images/zoomed_train_4123.jpg: ignoring corrupt image/label: non-normalized or out of bounds coordinates [     1.0079      1.0059      1.0152      1.0045]\n",
      "\u001b[34m\u001b[1mtrain: \u001b[0mWARNING ⚠️ /Volumes/Cucumber/Projects/datasets/process/2025-06-11/sku110k-only-yolo/train/images/zoomed_train_4144.jpg: ignoring corrupt image/label: negative label values [  -0.011342    -0.02938]\n",
      "\u001b[34m\u001b[1mtrain: \u001b[0mWARNING ⚠️ /Volumes/Cucumber/Projects/datasets/process/2025-06-11/sku110k-only-yolo/train/images/zoomed_train_4181.jpg: ignoring corrupt image/label: negative label values [  -0.003733]\n",
      "\u001b[34m\u001b[1mtrain: \u001b[0mWARNING ⚠️ /Volumes/Cucumber/Projects/datasets/process/2025-06-11/sku110k-only-yolo/train/images/zoomed_train_4194.jpg: ignoring corrupt image/label: non-normalized or out of bounds coordinates [     1.0047]\n",
      "\u001b[34m\u001b[1mtrain: \u001b[0mWARNING ⚠️ /Volumes/Cucumber/Projects/datasets/process/2025-06-11/sku110k-only-yolo/train/images/zoomed_train_4198.jpg: ignoring corrupt image/label: non-normalized or out of bounds coordinates [     1.0026      1.0139]\n",
      "\u001b[34m\u001b[1mtrain: \u001b[0mWARNING ⚠️ /Volumes/Cucumber/Projects/datasets/process/2025-06-11/sku110k-only-yolo/train/images/zoomed_train_4203.jpg: ignoring corrupt image/label: negative label values [  -0.006858]\n",
      "\u001b[34m\u001b[1mtrain: \u001b[0mWARNING ⚠️ /Volumes/Cucumber/Projects/datasets/process/2025-06-11/sku110k-only-yolo/train/images/zoomed_train_4205.jpg: ignoring corrupt image/label: negative label values [  -0.035838   -0.036435   -0.034046   -0.036435   -0.028073   -0.025684   -0.032851   -0.013141]\n",
      "\u001b[34m\u001b[1mtrain: \u001b[0mWARNING ⚠️ /Volumes/Cucumber/Projects/datasets/process/2025-06-11/sku110k-only-yolo/train/images/zoomed_train_4223.jpg: ignoring corrupt image/label: non-normalized or out of bounds coordinates [      1.012      1.0091      1.0011      1.0165]\n",
      "\u001b[34m\u001b[1mtrain: \u001b[0mWARNING ⚠️ /Volumes/Cucumber/Projects/datasets/process/2025-06-11/sku110k-only-yolo/train/images/zoomed_train_423.jpg: ignoring corrupt image/label: negative label values [  -0.031118   -0.034019   -0.029008   -0.031909   -0.008505   -0.028481   -0.029272   -0.036129   -0.000198   -0.015427   -0.031646   -0.034019   -0.031382   -0.013647   -0.014241]\n",
      "\u001b[34m\u001b[1mtrain: \u001b[0mWARNING ⚠️ /Volumes/Cucumber/Projects/datasets/process/2025-06-11/sku110k-only-yolo/train/images/zoomed_train_4233.jpg: ignoring corrupt image/label: negative label values [  -0.005384   -0.012816   -0.009656   -0.009656   -0.005794    -0.00474   -0.000351    -0.00158]\n",
      "\u001b[34m\u001b[1mtrain: \u001b[0mWARNING ⚠️ /Volumes/Cucumber/Projects/datasets/process/2025-06-11/sku110k-only-yolo/train/images/zoomed_train_4251.jpg: ignoring corrupt image/label: negative label values [  -0.019283   -0.012855]\n",
      "\u001b[34m\u001b[1mtrain: \u001b[0mWARNING ⚠️ /Volumes/Cucumber/Projects/datasets/process/2025-06-11/sku110k-only-yolo/train/images/zoomed_train_4254.jpg: ignoring corrupt image/label: non-normalized or out of bounds coordinates [     1.0209]\n",
      "\u001b[34m\u001b[1mtrain: \u001b[0mWARNING ⚠️ /Volumes/Cucumber/Projects/datasets/process/2025-06-11/sku110k-only-yolo/train/images/zoomed_train_4275.jpg: ignoring corrupt image/label: negative label values [  -0.001697   -0.003055   -0.008656]\n",
      "\u001b[34m\u001b[1mtrain: \u001b[0mWARNING ⚠️ /Volumes/Cucumber/Projects/datasets/process/2025-06-11/sku110k-only-yolo/train/images/zoomed_train_4289.jpg: ignoring corrupt image/label: negative label values [  -0.006539   -0.006947]\n",
      "\u001b[34m\u001b[1mtrain: \u001b[0mWARNING ⚠️ /Volumes/Cucumber/Projects/datasets/process/2025-06-11/sku110k-only-yolo/train/images/zoomed_train_4303.jpg: ignoring corrupt image/label: negative label values [  -0.015976   -0.019171   -0.002663   -0.004793]\n",
      "\u001b[34m\u001b[1mtrain: \u001b[0mWARNING ⚠️ /Volumes/Cucumber/Projects/datasets/process/2025-06-11/sku110k-only-yolo/train/images/zoomed_train_4309.jpg: ignoring corrupt image/label: negative label values [  -0.007982   -0.000998   -0.004276   -0.004276   -0.009265   -0.006556   -0.004704   -0.005416   -0.002138]\n",
      "\u001b[34m\u001b[1mtrain: \u001b[0mWARNING ⚠️ /Volumes/Cucumber/Projects/datasets/process/2025-06-11/sku110k-only-yolo/train/images/zoomed_train_4341.jpg: ignoring corrupt image/label: negative label values [  -0.006005   -0.005604]\n",
      "\u001b[34m\u001b[1mtrain: \u001b[0mWARNING ⚠️ /Volumes/Cucumber/Projects/datasets/process/2025-06-11/sku110k-only-yolo/train/images/zoomed_train_4342.jpg: ignoring corrupt image/label: negative label values [  -0.007253    -0.00272   -0.015866   -0.030825   -0.001813]\n",
      "\u001b[34m\u001b[1mtrain: \u001b[0mWARNING ⚠️ /Volumes/Cucumber/Projects/datasets/process/2025-06-11/sku110k-only-yolo/train/images/zoomed_train_4345.jpg: ignoring corrupt image/label: negative label values [  -0.000271   -0.000541]\n",
      "\u001b[34m\u001b[1mtrain: \u001b[0mWARNING ⚠️ /Volumes/Cucumber/Projects/datasets/process/2025-06-11/sku110k-only-yolo/train/images/zoomed_train_4348.jpg: ignoring corrupt image/label: non-normalized or out of bounds coordinates [     1.0069]\n",
      "\u001b[34m\u001b[1mtrain: \u001b[0mWARNING ⚠️ /Volumes/Cucumber/Projects/datasets/process/2025-06-11/sku110k-only-yolo/train/images/zoomed_train_4364.jpg: ignoring corrupt image/label: negative label values [  -0.035558]\n",
      "\u001b[34m\u001b[1mtrain: \u001b[0mWARNING ⚠️ /Volumes/Cucumber/Projects/datasets/process/2025-06-11/sku110k-only-yolo/train/images/zoomed_train_4373.jpg: ignoring corrupt image/label: non-normalized or out of bounds coordinates [     1.0084      1.0128]\n",
      "\u001b[34m\u001b[1mtrain: \u001b[0mWARNING ⚠️ /Volumes/Cucumber/Projects/datasets/process/2025-06-11/sku110k-only-yolo/train/images/zoomed_train_4423.jpg: ignoring corrupt image/label: negative label values [  -0.014274]\n",
      "\u001b[34m\u001b[1mtrain: \u001b[0mWARNING ⚠️ /Volumes/Cucumber/Projects/datasets/process/2025-06-11/sku110k-only-yolo/train/images/zoomed_train_4441.jpg: ignoring corrupt image/label: negative label values [  -0.009073]\n",
      "\u001b[34m\u001b[1mtrain: \u001b[0mWARNING ⚠️ /Volumes/Cucumber/Projects/datasets/process/2025-06-11/sku110k-only-yolo/train/images/zoomed_train_4445.jpg: ignoring corrupt image/label: non-normalized or out of bounds coordinates [     1.0224      1.0067      1.0114      1.0077]\n",
      "\u001b[34m\u001b[1mtrain: \u001b[0mWARNING ⚠️ /Volumes/Cucumber/Projects/datasets/process/2025-06-11/sku110k-only-yolo/train/images/zoomed_train_4463.jpg: ignoring corrupt image/label: non-normalized or out of bounds coordinates [     1.0242      1.0207      1.0216]\n",
      "\u001b[34m\u001b[1mtrain: \u001b[0mWARNING ⚠️ /Volumes/Cucumber/Projects/datasets/process/2025-06-11/sku110k-only-yolo/train/images/zoomed_train_4471.jpg: ignoring corrupt image/label: non-normalized or out of bounds coordinates [     1.0069]\n",
      "\u001b[34m\u001b[1mtrain: \u001b[0mWARNING ⚠️ /Volumes/Cucumber/Projects/datasets/process/2025-06-11/sku110k-only-yolo/train/images/zoomed_train_4478.jpg: ignoring corrupt image/label: non-normalized or out of bounds coordinates [     1.0087]\n",
      "\u001b[34m\u001b[1mtrain: \u001b[0mWARNING ⚠️ /Volumes/Cucumber/Projects/datasets/process/2025-06-11/sku110k-only-yolo/train/images/zoomed_train_4485.jpg: ignoring corrupt image/label: negative label values [  -0.017637]\n",
      "\u001b[34m\u001b[1mtrain: \u001b[0mWARNING ⚠️ /Volumes/Cucumber/Projects/datasets/process/2025-06-11/sku110k-only-yolo/train/images/zoomed_train_4522.jpg: ignoring corrupt image/label: non-normalized or out of bounds coordinates [      1.005]\n",
      "\u001b[34m\u001b[1mtrain: \u001b[0mWARNING ⚠️ /Volumes/Cucumber/Projects/datasets/process/2025-06-11/sku110k-only-yolo/train/images/zoomed_train_4526.jpg: ignoring corrupt image/label: non-normalized or out of bounds coordinates [     1.0155]\n",
      "\u001b[34m\u001b[1mtrain: \u001b[0mWARNING ⚠️ /Volumes/Cucumber/Projects/datasets/process/2025-06-11/sku110k-only-yolo/train/images/zoomed_train_4531.jpg: ignoring corrupt image/label: non-normalized or out of bounds coordinates [      1.011]\n",
      "\u001b[34m\u001b[1mtrain: \u001b[0mWARNING ⚠️ /Volumes/Cucumber/Projects/datasets/process/2025-06-11/sku110k-only-yolo/train/images/zoomed_train_4542.jpg: ignoring corrupt image/label: non-normalized or out of bounds coordinates [     1.0143       1.009      1.0203]\n",
      "\u001b[34m\u001b[1mtrain: \u001b[0mWARNING ⚠️ /Volumes/Cucumber/Projects/datasets/process/2025-06-11/sku110k-only-yolo/train/images/zoomed_train_4553.jpg: ignoring corrupt image/label: non-normalized or out of bounds coordinates [     1.0015]\n",
      "\u001b[34m\u001b[1mtrain: \u001b[0mWARNING ⚠️ /Volumes/Cucumber/Projects/datasets/process/2025-06-11/sku110k-only-yolo/train/images/zoomed_train_4556.jpg: ignoring corrupt image/label: non-normalized or out of bounds coordinates [     1.0318]\n",
      "\u001b[34m\u001b[1mtrain: \u001b[0mWARNING ⚠️ /Volumes/Cucumber/Projects/datasets/process/2025-06-11/sku110k-only-yolo/train/images/zoomed_train_4574.jpg: ignoring corrupt image/label: negative label values [  -0.015764   -0.008197]\n",
      "\u001b[34m\u001b[1mtrain: \u001b[0mWARNING ⚠️ /Volumes/Cucumber/Projects/datasets/process/2025-06-11/sku110k-only-yolo/train/images/zoomed_train_4582.jpg: ignoring corrupt image/label: non-normalized or out of bounds coordinates [     1.0109      1.0102      1.0072      1.0049      1.0092      1.0109      1.0102      1.0086      1.0119      1.0159       1.008]\n",
      "\u001b[34m\u001b[1mtrain: \u001b[0mWARNING ⚠️ /Volumes/Cucumber/Projects/datasets/process/2025-06-11/sku110k-only-yolo/train/images/zoomed_train_4585.jpg: ignoring corrupt image/label: non-normalized or out of bounds coordinates [     1.0143]\n",
      "\u001b[34m\u001b[1mtrain: \u001b[0mWARNING ⚠️ /Volumes/Cucumber/Projects/datasets/process/2025-06-11/sku110k-only-yolo/train/images/zoomed_train_4587.jpg: ignoring corrupt image/label: negative label values [  -0.007272]\n",
      "\u001b[34m\u001b[1mtrain: \u001b[0mWARNING ⚠️ /Volumes/Cucumber/Projects/datasets/process/2025-06-11/sku110k-only-yolo/train/images/zoomed_train_4588.jpg: ignoring corrupt image/label: non-normalized or out of bounds coordinates [      1.002      1.0063]\n",
      "\u001b[34m\u001b[1mtrain: \u001b[0mWARNING ⚠️ /Volumes/Cucumber/Projects/datasets/process/2025-06-11/sku110k-only-yolo/train/images/zoomed_train_4593.jpg: ignoring corrupt image/label: non-normalized or out of bounds coordinates [     1.0457      1.0469       1.049      1.0482      1.0482      1.0503]\n",
      "\u001b[34m\u001b[1mtrain: \u001b[0mWARNING ⚠️ /Volumes/Cucumber/Projects/datasets/process/2025-06-11/sku110k-only-yolo/train/images/zoomed_train_4609.jpg: ignoring corrupt image/label: non-normalized or out of bounds coordinates [     1.0006]\n",
      "\u001b[34m\u001b[1mtrain: \u001b[0mWARNING ⚠️ /Volumes/Cucumber/Projects/datasets/process/2025-06-11/sku110k-only-yolo/train/images/zoomed_train_4661.jpg: ignoring corrupt image/label: non-normalized or out of bounds coordinates [     1.0128]\n",
      "\u001b[34m\u001b[1mtrain: \u001b[0mWARNING ⚠️ /Volumes/Cucumber/Projects/datasets/process/2025-06-11/sku110k-only-yolo/train/images/zoomed_train_4706.jpg: ignoring corrupt image/label: negative label values [  -0.006079]\n",
      "\u001b[34m\u001b[1mtrain: \u001b[0mWARNING ⚠️ /Volumes/Cucumber/Projects/datasets/process/2025-06-11/sku110k-only-yolo/train/images/zoomed_train_4713.jpg: ignoring corrupt image/label: non-normalized or out of bounds coordinates [     1.0093      1.0189       1.018      1.0183      1.0183      1.0173      1.0177      1.0148      1.0099]\n",
      "\u001b[34m\u001b[1mtrain: \u001b[0mWARNING ⚠️ /Volumes/Cucumber/Projects/datasets/process/2025-06-11/sku110k-only-yolo/train/images/zoomed_train_4718.jpg: ignoring corrupt image/label: non-normalized or out of bounds coordinates [     1.0123       1.012      1.0138]\n",
      "\u001b[34m\u001b[1mtrain: \u001b[0mWARNING ⚠️ /Volumes/Cucumber/Projects/datasets/process/2025-06-11/sku110k-only-yolo/train/images/zoomed_train_4729.jpg: ignoring corrupt image/label: non-normalized or out of bounds coordinates [      1.059       1.002]\n",
      "\u001b[34m\u001b[1mtrain: \u001b[0mWARNING ⚠️ /Volumes/Cucumber/Projects/datasets/process/2025-06-11/sku110k-only-yolo/train/images/zoomed_train_4739.jpg: ignoring corrupt image/label: non-normalized or out of bounds coordinates [     1.0032       1.008      1.0138]\n",
      "\u001b[34m\u001b[1mtrain: \u001b[0mWARNING ⚠️ /Volumes/Cucumber/Projects/datasets/process/2025-06-11/sku110k-only-yolo/train/images/zoomed_train_4755.jpg: ignoring corrupt image/label: negative label values [  -0.048822   -0.049663   -0.049663]\n",
      "\u001b[34m\u001b[1mtrain: \u001b[0mWARNING ⚠️ /Volumes/Cucumber/Projects/datasets/process/2025-06-11/sku110k-only-yolo/train/images/zoomed_train_4799.jpg: ignoring corrupt image/label: non-normalized or out of bounds coordinates [     1.0009]\n",
      "\u001b[34m\u001b[1mtrain: \u001b[0mWARNING ⚠️ /Volumes/Cucumber/Projects/datasets/process/2025-06-11/sku110k-only-yolo/train/images/zoomed_train_4814.jpg: ignoring corrupt image/label: non-normalized or out of bounds coordinates [     1.0051      1.0003]\n",
      "\u001b[34m\u001b[1mtrain: \u001b[0mWARNING ⚠️ /Volumes/Cucumber/Projects/datasets/process/2025-06-11/sku110k-only-yolo/train/images/zoomed_train_483.jpg: ignoring corrupt image/label: non-normalized or out of bounds coordinates [     1.0157      1.0082]\n",
      "\u001b[34m\u001b[1mtrain: \u001b[0mWARNING ⚠️ /Volumes/Cucumber/Projects/datasets/process/2025-06-11/sku110k-only-yolo/train/images/zoomed_train_4846.jpg: ignoring corrupt image/label: negative label values [  -0.008669   -0.008669    -0.00104]\n",
      "\u001b[34m\u001b[1mtrain: \u001b[0mWARNING ⚠️ /Volumes/Cucumber/Projects/datasets/process/2025-06-11/sku110k-only-yolo/train/images/zoomed_train_4847.jpg: ignoring corrupt image/label: non-normalized or out of bounds coordinates [      1.008       1.004]\n",
      "\u001b[34m\u001b[1mtrain: \u001b[0mWARNING ⚠️ /Volumes/Cucumber/Projects/datasets/process/2025-06-11/sku110k-only-yolo/train/images/zoomed_train_4897.jpg: ignoring corrupt image/label: non-normalized or out of bounds coordinates [     1.0021]\n",
      "\u001b[34m\u001b[1mtrain: \u001b[0mWARNING ⚠️ /Volumes/Cucumber/Projects/datasets/process/2025-06-11/sku110k-only-yolo/train/images/zoomed_train_4898.jpg: ignoring corrupt image/label: non-normalized or out of bounds coordinates [     1.0034      1.0087]\n",
      "\u001b[34m\u001b[1mtrain: \u001b[0mWARNING ⚠️ /Volumes/Cucumber/Projects/datasets/process/2025-06-11/sku110k-only-yolo/train/images/zoomed_train_4900.jpg: ignoring corrupt image/label: non-normalized or out of bounds coordinates [     1.0149      1.0169      1.0171      1.0115      1.0149      1.0132      1.0093      1.0076      1.0086]\n",
      "\u001b[34m\u001b[1mtrain: \u001b[0mWARNING ⚠️ /Volumes/Cucumber/Projects/datasets/process/2025-06-11/sku110k-only-yolo/train/images/zoomed_train_4902.jpg: ignoring corrupt image/label: negative label values [  -0.001533   -0.007663]\n",
      "\u001b[34m\u001b[1mtrain: \u001b[0mWARNING ⚠️ /Volumes/Cucumber/Projects/datasets/process/2025-06-11/sku110k-only-yolo/train/images/zoomed_train_4906.jpg: ignoring corrupt image/label: negative label values [  -0.002041]\n",
      "\u001b[34m\u001b[1mtrain: \u001b[0mWARNING ⚠️ /Volumes/Cucumber/Projects/datasets/process/2025-06-11/sku110k-only-yolo/train/images/zoomed_train_4934.jpg: ignoring corrupt image/label: non-normalized or out of bounds coordinates [      1.003]\n",
      "\u001b[34m\u001b[1mtrain: \u001b[0mWARNING ⚠️ /Volumes/Cucumber/Projects/datasets/process/2025-06-11/sku110k-only-yolo/train/images/zoomed_train_4944.jpg: ignoring corrupt image/label: non-normalized or out of bounds coordinates [     1.0093      1.0073      1.0145      1.0031      1.0005]\n",
      "\u001b[34m\u001b[1mtrain: \u001b[0mWARNING ⚠️ /Volumes/Cucumber/Projects/datasets/process/2025-06-11/sku110k-only-yolo/train/images/zoomed_train_4977.jpg: ignoring corrupt image/label: non-normalized or out of bounds coordinates [     1.0079      1.0097]\n",
      "\u001b[34m\u001b[1mtrain: \u001b[0mWARNING ⚠️ /Volumes/Cucumber/Projects/datasets/process/2025-06-11/sku110k-only-yolo/train/images/zoomed_train_4993.jpg: ignoring corrupt image/label: negative label values [  -0.000611]\n",
      "\u001b[34m\u001b[1mtrain: \u001b[0mWARNING ⚠️ /Volumes/Cucumber/Projects/datasets/process/2025-06-11/sku110k-only-yolo/train/images/zoomed_train_4994.jpg: ignoring corrupt image/label: negative label values [  -0.011545   -0.000888   -0.024423    -0.01421]\n",
      "\u001b[34m\u001b[1mtrain: \u001b[0mWARNING ⚠️ /Volumes/Cucumber/Projects/datasets/process/2025-06-11/sku110k-only-yolo/train/images/zoomed_train_5016.jpg: ignoring corrupt image/label: non-normalized or out of bounds coordinates [     1.0042      1.0059       1.015      1.0065]\n",
      "\u001b[34m\u001b[1mtrain: \u001b[0mWARNING ⚠️ /Volumes/Cucumber/Projects/datasets/process/2025-06-11/sku110k-only-yolo/train/images/zoomed_train_5024.jpg: ignoring corrupt image/label: non-normalized or out of bounds coordinates [     1.0015]\n",
      "\u001b[34m\u001b[1mtrain: \u001b[0mWARNING ⚠️ /Volumes/Cucumber/Projects/datasets/process/2025-06-11/sku110k-only-yolo/train/images/zoomed_train_5039.jpg: ignoring corrupt image/label: non-normalized or out of bounds coordinates [     1.0015      1.0167]\n",
      "\u001b[34m\u001b[1mtrain: \u001b[0mWARNING ⚠️ /Volumes/Cucumber/Projects/datasets/process/2025-06-11/sku110k-only-yolo/train/images/zoomed_train_5047.jpg: ignoring corrupt image/label: non-normalized or out of bounds coordinates [     1.0264      1.0029]\n",
      "\u001b[34m\u001b[1mtrain: \u001b[0mWARNING ⚠️ /Volumes/Cucumber/Projects/datasets/process/2025-06-11/sku110k-only-yolo/train/images/zoomed_train_506.jpg: ignoring corrupt image/label: negative label values [  -0.006595]\n",
      "\u001b[34m\u001b[1mtrain: \u001b[0mWARNING ⚠️ /Volumes/Cucumber/Projects/datasets/process/2025-06-11/sku110k-only-yolo/train/images/zoomed_train_5085.jpg: ignoring corrupt image/label: negative label values [  -0.005658   -0.012805   -0.008636   -0.012507   -0.009529   -0.004467]\n",
      "\u001b[34m\u001b[1mtrain: \u001b[0mWARNING ⚠️ /Volumes/Cucumber/Projects/datasets/process/2025-06-11/sku110k-only-yolo/train/images/zoomed_train_5086.jpg: ignoring corrupt image/label: negative label values [  -0.001702   -0.008512]\n",
      "\u001b[34m\u001b[1mtrain: \u001b[0mWARNING ⚠️ /Volumes/Cucumber/Projects/datasets/process/2025-06-11/sku110k-only-yolo/train/images/zoomed_train_5105.jpg: ignoring corrupt image/label: negative label values [  -0.002118]\n",
      "\u001b[34m\u001b[1mtrain: \u001b[0mWARNING ⚠️ /Volumes/Cucumber/Projects/datasets/process/2025-06-11/sku110k-only-yolo/train/images/zoomed_train_5126.jpg: ignoring corrupt image/label: negative label values [  -0.011926   -0.013119   -0.011926]\n",
      "\u001b[34m\u001b[1mtrain: \u001b[0mWARNING ⚠️ /Volumes/Cucumber/Projects/datasets/process/2025-06-11/sku110k-only-yolo/train/images/zoomed_train_5136.jpg: ignoring corrupt image/label: negative label values [  -0.001314   -0.009198   -0.006242   -0.010841]\n",
      "\u001b[34m\u001b[1mtrain: \u001b[0mWARNING ⚠️ /Volumes/Cucumber/Projects/datasets/process/2025-06-11/sku110k-only-yolo/train/images/zoomed_train_5145.jpg: ignoring corrupt image/label: negative label values [  -0.008175]\n",
      "\u001b[34m\u001b[1mtrain: \u001b[0mWARNING ⚠️ /Volumes/Cucumber/Projects/datasets/process/2025-06-11/sku110k-only-yolo/train/images/zoomed_train_5148.jpg: ignoring corrupt image/label: negative label values [   -0.00502   -0.004955]\n",
      "\u001b[34m\u001b[1mtrain: \u001b[0mWARNING ⚠️ /Volumes/Cucumber/Projects/datasets/process/2025-06-11/sku110k-only-yolo/train/images/zoomed_train_5181.jpg: ignoring corrupt image/label: negative label values [  -0.000714   -0.000572]\n",
      "\u001b[34m\u001b[1mtrain: \u001b[0mWARNING ⚠️ /Volumes/Cucumber/Projects/datasets/process/2025-06-11/sku110k-only-yolo/train/images/zoomed_train_5221.jpg: ignoring corrupt image/label: non-normalized or out of bounds coordinates [     1.0074      1.0279]\n",
      "\u001b[34m\u001b[1mtrain: \u001b[0mWARNING ⚠️ /Volumes/Cucumber/Projects/datasets/process/2025-06-11/sku110k-only-yolo/train/images/zoomed_train_5246.jpg: ignoring corrupt image/label: negative label values [  -0.009583]\n",
      "\u001b[34m\u001b[1mtrain: \u001b[0mWARNING ⚠️ /Volumes/Cucumber/Projects/datasets/process/2025-06-11/sku110k-only-yolo/train/images/zoomed_train_5260.jpg: ignoring corrupt image/label: non-normalized or out of bounds coordinates [     1.0011      1.0058]\n",
      "\u001b[34m\u001b[1mtrain: \u001b[0mWARNING ⚠️ /Volumes/Cucumber/Projects/datasets/process/2025-06-11/sku110k-only-yolo/train/images/zoomed_train_5262.jpg: ignoring corrupt image/label: non-normalized or out of bounds coordinates [     1.0078      1.0006      1.0069      1.0247      1.0202]\n",
      "\u001b[34m\u001b[1mtrain: \u001b[0mWARNING ⚠️ /Volumes/Cucumber/Projects/datasets/process/2025-06-11/sku110k-only-yolo/train/images/zoomed_train_5268.jpg: ignoring corrupt image/label: non-normalized or out of bounds coordinates [     1.0069]\n",
      "\u001b[34m\u001b[1mtrain: \u001b[0mWARNING ⚠️ /Volumes/Cucumber/Projects/datasets/process/2025-06-11/sku110k-only-yolo/train/images/zoomed_train_5271.jpg: ignoring corrupt image/label: non-normalized or out of bounds coordinates [     1.0004]\n",
      "\u001b[34m\u001b[1mtrain: \u001b[0mWARNING ⚠️ /Volumes/Cucumber/Projects/datasets/process/2025-06-11/sku110k-only-yolo/train/images/zoomed_train_5275.jpg: ignoring corrupt image/label: non-normalized or out of bounds coordinates [      1.018      1.0166      1.0399      1.0552      1.0226      1.0459      1.0393      1.0399       1.012]\n",
      "\u001b[34m\u001b[1mtrain: \u001b[0mWARNING ⚠️ /Volumes/Cucumber/Projects/datasets/process/2025-06-11/sku110k-only-yolo/train/images/zoomed_train_5279.jpg: ignoring corrupt image/label: non-normalized or out of bounds coordinates [     1.0012]\n",
      "\u001b[34m\u001b[1mtrain: \u001b[0mWARNING ⚠️ /Volumes/Cucumber/Projects/datasets/process/2025-06-11/sku110k-only-yolo/train/images/zoomed_train_5318.jpg: ignoring corrupt image/label: negative label values [   -0.00316]\n",
      "\u001b[34m\u001b[1mtrain: \u001b[0mWARNING ⚠️ /Volumes/Cucumber/Projects/datasets/process/2025-06-11/sku110k-only-yolo/train/images/zoomed_train_532.jpg: ignoring corrupt image/label: non-normalized or out of bounds coordinates [      1.014]\n",
      "\u001b[34m\u001b[1mtrain: \u001b[0mWARNING ⚠️ /Volumes/Cucumber/Projects/datasets/process/2025-06-11/sku110k-only-yolo/train/images/zoomed_train_5342.jpg: ignoring corrupt image/label: negative label values [  -0.024264   -0.018695]\n",
      "\u001b[34m\u001b[1mtrain: \u001b[0mWARNING ⚠️ /Volumes/Cucumber/Projects/datasets/process/2025-06-11/sku110k-only-yolo/train/images/zoomed_train_5343.jpg: ignoring corrupt image/label: negative label values [     -0.004]\n",
      "\u001b[34m\u001b[1mtrain: \u001b[0mWARNING ⚠️ /Volumes/Cucumber/Projects/datasets/process/2025-06-11/sku110k-only-yolo/train/images/zoomed_train_5361.jpg: ignoring corrupt image/label: negative label values [  -0.007017   -0.001754]\n",
      "\u001b[34m\u001b[1mtrain: \u001b[0mWARNING ⚠️ /Volumes/Cucumber/Projects/datasets/process/2025-06-11/sku110k-only-yolo/train/images/zoomed_train_5362.jpg: ignoring corrupt image/label: non-normalized or out of bounds coordinates [     1.0006      1.0017      1.0017       1.001      1.0036      1.0038      1.0002      1.0004      1.0025      1.0038      1.0029]\n",
      "\u001b[34m\u001b[1mtrain: \u001b[0mWARNING ⚠️ /Volumes/Cucumber/Projects/datasets/process/2025-06-11/sku110k-only-yolo/train/images/zoomed_train_538.jpg: ignoring corrupt image/label: non-normalized or out of bounds coordinates [     1.0007]\n",
      "\u001b[34m\u001b[1mtrain: \u001b[0mWARNING ⚠️ /Volumes/Cucumber/Projects/datasets/process/2025-06-11/sku110k-only-yolo/train/images/zoomed_train_5385.jpg: ignoring corrupt image/label: non-normalized or out of bounds coordinates [     1.0449      1.0007]\n",
      "\u001b[34m\u001b[1mtrain: \u001b[0mWARNING ⚠️ /Volumes/Cucumber/Projects/datasets/process/2025-06-11/sku110k-only-yolo/train/images/zoomed_train_5387.jpg: ignoring corrupt image/label: negative label values [  -0.023381]\n",
      "\u001b[34m\u001b[1mtrain: \u001b[0mWARNING ⚠️ /Volumes/Cucumber/Projects/datasets/process/2025-06-11/sku110k-only-yolo/train/images/zoomed_train_5392.jpg: ignoring corrupt image/label: negative label values [   -0.00486   -0.005468     -0.0161    -0.01853   -0.026731   -0.025516]\n",
      "\u001b[34m\u001b[1mtrain: \u001b[0mWARNING ⚠️ /Volumes/Cucumber/Projects/datasets/process/2025-06-11/sku110k-only-yolo/train/images/zoomed_train_5408.jpg: ignoring corrupt image/label: non-normalized or out of bounds coordinates [      1.002]\n",
      "\u001b[34m\u001b[1mtrain: \u001b[0mWARNING ⚠️ /Volumes/Cucumber/Projects/datasets/process/2025-06-11/sku110k-only-yolo/train/images/zoomed_train_5414.jpg: ignoring corrupt image/label: negative label values [  -0.022773   -0.023415   -0.019886]\n",
      "\u001b[34m\u001b[1mtrain: \u001b[0mWARNING ⚠️ /Volumes/Cucumber/Projects/datasets/process/2025-06-11/sku110k-only-yolo/train/images/zoomed_train_543.jpg: ignoring corrupt image/label: non-normalized or out of bounds coordinates [     1.0015]\n",
      "\u001b[34m\u001b[1mtrain: \u001b[0mWARNING ⚠️ /Volumes/Cucumber/Projects/datasets/process/2025-06-11/sku110k-only-yolo/train/images/zoomed_train_5433.jpg: ignoring corrupt image/label: non-normalized or out of bounds coordinates [      1.014]\n",
      "\u001b[34m\u001b[1mtrain: \u001b[0mWARNING ⚠️ /Volumes/Cucumber/Projects/datasets/process/2025-06-11/sku110k-only-yolo/train/images/zoomed_train_5442.jpg: ignoring corrupt image/label: negative label values [  -0.006424   -0.001285]\n",
      "\u001b[34m\u001b[1mtrain: \u001b[0mWARNING ⚠️ /Volumes/Cucumber/Projects/datasets/process/2025-06-11/sku110k-only-yolo/train/images/zoomed_train_5490.jpg: ignoring corrupt image/label: negative label values [  -0.006309]\n",
      "\u001b[34m\u001b[1mtrain: \u001b[0mWARNING ⚠️ /Volumes/Cucumber/Projects/datasets/process/2025-06-11/sku110k-only-yolo/train/images/zoomed_train_5491.jpg: ignoring corrupt image/label: non-normalized or out of bounds coordinates [     1.0176      1.0026      1.0059]\n",
      "\u001b[34m\u001b[1mtrain: \u001b[0mWARNING ⚠️ /Volumes/Cucumber/Projects/datasets/process/2025-06-11/sku110k-only-yolo/train/images/zoomed_train_5494.jpg: ignoring corrupt image/label: non-normalized or out of bounds coordinates [     1.0415]\n",
      "\u001b[34m\u001b[1mtrain: \u001b[0mWARNING ⚠️ /Volumes/Cucumber/Projects/datasets/process/2025-06-11/sku110k-only-yolo/train/images/zoomed_train_5497.jpg: ignoring corrupt image/label: non-normalized or out of bounds coordinates [     1.0096]\n",
      "\u001b[34m\u001b[1mtrain: \u001b[0mWARNING ⚠️ /Volumes/Cucumber/Projects/datasets/process/2025-06-11/sku110k-only-yolo/train/images/zoomed_train_5508.jpg: ignoring corrupt image/label: non-normalized or out of bounds coordinates [     1.0011      1.0227      1.0203]\n",
      "\u001b[34m\u001b[1mtrain: \u001b[0mWARNING ⚠️ /Volumes/Cucumber/Projects/datasets/process/2025-06-11/sku110k-only-yolo/train/images/zoomed_train_5525.jpg: ignoring corrupt image/label: negative label values [  -0.007874]\n",
      "\u001b[34m\u001b[1mtrain: \u001b[0mWARNING ⚠️ /Volumes/Cucumber/Projects/datasets/process/2025-06-11/sku110k-only-yolo/train/images/zoomed_train_5550.jpg: ignoring corrupt image/label: negative label values [  -0.012557]\n",
      "\u001b[34m\u001b[1mtrain: \u001b[0mWARNING ⚠️ /Volumes/Cucumber/Projects/datasets/process/2025-06-11/sku110k-only-yolo/train/images/zoomed_train_5556.jpg: ignoring corrupt image/label: non-normalized or out of bounds coordinates [     1.0116]\n",
      "\u001b[34m\u001b[1mtrain: \u001b[0mWARNING ⚠️ /Volumes/Cucumber/Projects/datasets/process/2025-06-11/sku110k-only-yolo/train/images/zoomed_train_5567.jpg: ignoring corrupt image/label: non-normalized or out of bounds coordinates [     1.0203      1.0258      1.0167]\n",
      "\u001b[34m\u001b[1mtrain: \u001b[0mWARNING ⚠️ /Volumes/Cucumber/Projects/datasets/process/2025-06-11/sku110k-only-yolo/train/images/zoomed_train_5601.jpg: ignoring corrupt image/label: non-normalized or out of bounds coordinates [     1.0058]\n",
      "\u001b[34m\u001b[1mtrain: \u001b[0mWARNING ⚠️ /Volumes/Cucumber/Projects/datasets/process/2025-06-11/sku110k-only-yolo/train/images/zoomed_train_5602.jpg: ignoring corrupt image/label: non-normalized or out of bounds coordinates [     1.0054      1.0027]\n",
      "\u001b[34m\u001b[1mtrain: \u001b[0mWARNING ⚠️ /Volumes/Cucumber/Projects/datasets/process/2025-06-11/sku110k-only-yolo/train/images/zoomed_train_5610.jpg: ignoring corrupt image/label: negative label values [  -0.018342   -0.014096   -0.013927]\n",
      "\u001b[34m\u001b[1mtrain: \u001b[0mWARNING ⚠️ /Volumes/Cucumber/Projects/datasets/process/2025-06-11/sku110k-only-yolo/train/images/zoomed_train_5620.jpg: ignoring corrupt image/label: non-normalized or out of bounds coordinates [     1.0058      1.0036      1.0182      1.0118]\n",
      "\u001b[34m\u001b[1mtrain: \u001b[0mWARNING ⚠️ /Volumes/Cucumber/Projects/datasets/process/2025-06-11/sku110k-only-yolo/train/images/zoomed_train_563.jpg: ignoring corrupt image/label: negative label values [  -0.016673   -0.011909]\n",
      "\u001b[34m\u001b[1mtrain: \u001b[0mWARNING ⚠️ /Volumes/Cucumber/Projects/datasets/process/2025-06-11/sku110k-only-yolo/train/images/zoomed_train_5633.jpg: ignoring corrupt image/label: non-normalized or out of bounds coordinates [     1.0125]\n",
      "\u001b[34m\u001b[1mtrain: \u001b[0mWARNING ⚠️ /Volumes/Cucumber/Projects/datasets/process/2025-06-11/sku110k-only-yolo/train/images/zoomed_train_5635.jpg: ignoring corrupt image/label: non-normalized or out of bounds coordinates [     1.0381      1.0341]\n",
      "\u001b[34m\u001b[1mtrain: \u001b[0mWARNING ⚠️ /Volumes/Cucumber/Projects/datasets/process/2025-06-11/sku110k-only-yolo/train/images/zoomed_train_5644.jpg: ignoring corrupt image/label: non-normalized or out of bounds coordinates [     1.0068      1.0011      1.0098       1.005      1.0137      1.0105      1.0102]\n",
      "\u001b[34m\u001b[1mtrain: \u001b[0mWARNING ⚠️ /Volumes/Cucumber/Projects/datasets/process/2025-06-11/sku110k-only-yolo/train/images/zoomed_train_566.jpg: ignoring corrupt image/label: non-normalized or out of bounds coordinates [     1.0063]\n",
      "\u001b[34m\u001b[1mtrain: \u001b[0mWARNING ⚠️ /Volumes/Cucumber/Projects/datasets/process/2025-06-11/sku110k-only-yolo/train/images/zoomed_train_5666.jpg: ignoring corrupt image/label: non-normalized or out of bounds coordinates [     1.0073      1.0085]\n",
      "\u001b[34m\u001b[1mtrain: \u001b[0mWARNING ⚠️ /Volumes/Cucumber/Projects/datasets/process/2025-06-11/sku110k-only-yolo/train/images/zoomed_train_5675.jpg: ignoring corrupt image/label: negative label values [  -0.002091]\n",
      "\u001b[34m\u001b[1mtrain: \u001b[0mWARNING ⚠️ /Volumes/Cucumber/Projects/datasets/process/2025-06-11/sku110k-only-yolo/train/images/zoomed_train_5678.jpg: ignoring corrupt image/label: negative label values [  -0.002816]\n",
      "\u001b[34m\u001b[1mtrain: \u001b[0mWARNING ⚠️ /Volumes/Cucumber/Projects/datasets/process/2025-06-11/sku110k-only-yolo/train/images/zoomed_train_5686.jpg: ignoring corrupt image/label: negative label values [  -0.002202   -0.016634]\n",
      "\u001b[34m\u001b[1mtrain: \u001b[0mWARNING ⚠️ /Volumes/Cucumber/Projects/datasets/process/2025-06-11/sku110k-only-yolo/train/images/zoomed_train_5704.jpg: ignoring corrupt image/label: non-normalized or out of bounds coordinates [     1.0005       1.057]\n",
      "\u001b[34m\u001b[1mtrain: \u001b[0mWARNING ⚠️ /Volumes/Cucumber/Projects/datasets/process/2025-06-11/sku110k-only-yolo/train/images/zoomed_train_573.jpg: ignoring corrupt image/label: non-normalized or out of bounds coordinates [     1.0127]\n",
      "\u001b[34m\u001b[1mtrain: \u001b[0mWARNING ⚠️ /Volumes/Cucumber/Projects/datasets/process/2025-06-11/sku110k-only-yolo/train/images/zoomed_train_5742.jpg: ignoring corrupt image/label: negative label values [  -0.011225]\n",
      "\u001b[34m\u001b[1mtrain: \u001b[0mWARNING ⚠️ /Volumes/Cucumber/Projects/datasets/process/2025-06-11/sku110k-only-yolo/train/images/zoomed_train_5745.jpg: ignoring corrupt image/label: non-normalized or out of bounds coordinates [     1.0051]\n",
      "\u001b[34m\u001b[1mtrain: \u001b[0mWARNING ⚠️ /Volumes/Cucumber/Projects/datasets/process/2025-06-11/sku110k-only-yolo/train/images/zoomed_train_5756.jpg: ignoring corrupt image/label: non-normalized or out of bounds coordinates [     1.0148      1.0121      1.0161]\n",
      "\u001b[34m\u001b[1mtrain: \u001b[0mWARNING ⚠️ /Volumes/Cucumber/Projects/datasets/process/2025-06-11/sku110k-only-yolo/train/images/zoomed_train_5759.jpg: ignoring corrupt image/label: negative label values [  -0.002729   -0.000273]\n",
      "\u001b[34m\u001b[1mtrain: \u001b[0mWARNING ⚠️ /Volumes/Cucumber/Projects/datasets/process/2025-06-11/sku110k-only-yolo/train/images/zoomed_train_5783.jpg: ignoring corrupt image/label: non-normalized or out of bounds coordinates [     1.0057      1.0123      1.0078      1.0089      1.0124      1.0105      1.0124      1.0093]\n",
      "\u001b[34m\u001b[1mtrain: \u001b[0mWARNING ⚠️ /Volumes/Cucumber/Projects/datasets/process/2025-06-11/sku110k-only-yolo/train/images/zoomed_train_5808.jpg: ignoring corrupt image/label: non-normalized or out of bounds coordinates [     1.0158      1.0071      1.0167      1.0125      1.0222      1.0254]\n",
      "\u001b[34m\u001b[1mtrain: \u001b[0mWARNING ⚠️ /Volumes/Cucumber/Projects/datasets/process/2025-06-11/sku110k-only-yolo/train/images/zoomed_train_5817.jpg: ignoring corrupt image/label: negative label values [   -0.00559   -0.006289     -0.0076   -0.007338   -0.000262   -0.006027   -0.002621]\n",
      "\u001b[34m\u001b[1mtrain: \u001b[0mWARNING ⚠️ /Volumes/Cucumber/Projects/datasets/process/2025-06-11/sku110k-only-yolo/train/images/zoomed_train_5825.jpg: ignoring corrupt image/label: negative label values [  -0.010741   -0.002278   -0.003906]\n",
      "\u001b[34m\u001b[1mtrain: \u001b[0mWARNING ⚠️ /Volumes/Cucumber/Projects/datasets/process/2025-06-11/sku110k-only-yolo/train/images/zoomed_train_5832.jpg: ignoring corrupt image/label: non-normalized or out of bounds coordinates [      1.002      1.0008      1.0012]\n",
      "\u001b[34m\u001b[1mtrain: \u001b[0mWARNING ⚠️ /Volumes/Cucumber/Projects/datasets/process/2025-06-11/sku110k-only-yolo/train/images/zoomed_train_5869.jpg: ignoring corrupt image/label: non-normalized or out of bounds coordinates [     1.0439]\n",
      "\u001b[34m\u001b[1mtrain: \u001b[0mWARNING ⚠️ /Volumes/Cucumber/Projects/datasets/process/2025-06-11/sku110k-only-yolo/train/images/zoomed_train_5870.jpg: ignoring corrupt image/label: negative label values [  -0.006125]\n",
      "\u001b[34m\u001b[1mtrain: \u001b[0mWARNING ⚠️ /Volumes/Cucumber/Projects/datasets/process/2025-06-11/sku110k-only-yolo/train/images/zoomed_train_5883.jpg: ignoring corrupt image/label: negative label values [  -0.009133]\n",
      "\u001b[34m\u001b[1mtrain: \u001b[0mWARNING ⚠️ /Volumes/Cucumber/Projects/datasets/process/2025-06-11/sku110k-only-yolo/train/images/zoomed_train_5890.jpg: ignoring corrupt image/label: non-normalized or out of bounds coordinates [     1.0259      1.0198]\n",
      "\u001b[34m\u001b[1mtrain: \u001b[0mWARNING ⚠️ /Volumes/Cucumber/Projects/datasets/process/2025-06-11/sku110k-only-yolo/train/images/zoomed_train_5895.jpg: ignoring corrupt image/label: non-normalized or out of bounds coordinates [     1.0017      1.0023]\n",
      "\u001b[34m\u001b[1mtrain: \u001b[0mWARNING ⚠️ /Volumes/Cucumber/Projects/datasets/process/2025-06-11/sku110k-only-yolo/train/images/zoomed_train_5910.jpg: ignoring corrupt image/label: non-normalized or out of bounds coordinates [     1.0136      1.0066]\n",
      "\u001b[34m\u001b[1mtrain: \u001b[0mWARNING ⚠️ /Volumes/Cucumber/Projects/datasets/process/2025-06-11/sku110k-only-yolo/train/images/zoomed_train_5913.jpg: ignoring corrupt image/label: negative label values [  -0.000509   -0.004584]\n",
      "\u001b[34m\u001b[1mtrain: \u001b[0mWARNING ⚠️ /Volumes/Cucumber/Projects/datasets/process/2025-06-11/sku110k-only-yolo/train/images/zoomed_train_5918.jpg: ignoring corrupt image/label: negative label values [  -0.051665   -0.049369   -0.044776   -0.051091     -0.0161]\n",
      "\u001b[34m\u001b[1mtrain: \u001b[0mWARNING ⚠️ /Volumes/Cucumber/Projects/datasets/process/2025-06-11/sku110k-only-yolo/train/images/zoomed_train_5934.jpg: ignoring corrupt image/label: negative label values [  -0.010745   -0.009312]\n",
      "\u001b[34m\u001b[1mtrain: \u001b[0mWARNING ⚠️ /Volumes/Cucumber/Projects/datasets/process/2025-06-11/sku110k-only-yolo/train/images/zoomed_train_5958.jpg: ignoring corrupt image/label: negative label values [   -0.00333   -0.011893   -0.009515   -0.013321   -0.009515    -0.00999   -0.008563   -0.006185]\n",
      "\u001b[34m\u001b[1mtrain: \u001b[0mWARNING ⚠️ /Volumes/Cucumber/Projects/datasets/process/2025-06-11/sku110k-only-yolo/train/images/zoomed_train_5964.jpg: ignoring corrupt image/label: non-normalized or out of bounds coordinates [     1.0077      1.0031]\n",
      "\u001b[34m\u001b[1mtrain: \u001b[0mWARNING ⚠️ /Volumes/Cucumber/Projects/datasets/process/2025-06-11/sku110k-only-yolo/train/images/zoomed_train_5970.jpg: ignoring corrupt image/label: non-normalized or out of bounds coordinates [     1.0297]\n",
      "\u001b[34m\u001b[1mtrain: \u001b[0mWARNING ⚠️ /Volumes/Cucumber/Projects/datasets/process/2025-06-11/sku110k-only-yolo/train/images/zoomed_train_5973.jpg: ignoring corrupt image/label: negative label values [  -0.005472   -0.007959]\n",
      "\u001b[34m\u001b[1mtrain: \u001b[0mWARNING ⚠️ /Volumes/Cucumber/Projects/datasets/process/2025-06-11/sku110k-only-yolo/train/images/zoomed_train_5976.jpg: ignoring corrupt image/label: non-normalized or out of bounds coordinates [     1.0167]\n",
      "\u001b[34m\u001b[1mtrain: \u001b[0mWARNING ⚠️ /Volumes/Cucumber/Projects/datasets/process/2025-06-11/sku110k-only-yolo/train/images/zoomed_train_6013.jpg: ignoring corrupt image/label: non-normalized or out of bounds coordinates [     1.0079]\n",
      "\u001b[34m\u001b[1mtrain: \u001b[0mWARNING ⚠️ /Volumes/Cucumber/Projects/datasets/process/2025-06-11/sku110k-only-yolo/train/images/zoomed_train_6024.jpg: ignoring corrupt image/label: negative label values [  -0.003014   -0.007442]\n",
      "\u001b[34m\u001b[1mtrain: \u001b[0mWARNING ⚠️ /Volumes/Cucumber/Projects/datasets/process/2025-06-11/sku110k-only-yolo/train/images/zoomed_train_6044.jpg: ignoring corrupt image/label: non-normalized or out of bounds coordinates [     1.0161      1.0323]\n",
      "\u001b[34m\u001b[1mtrain: \u001b[0mWARNING ⚠️ /Volumes/Cucumber/Projects/datasets/process/2025-06-11/sku110k-only-yolo/train/images/zoomed_train_6045.jpg: ignoring corrupt image/label: non-normalized or out of bounds coordinates [     1.0048      1.0052      1.0052      1.0056]\n",
      "\u001b[34m\u001b[1mtrain: \u001b[0mWARNING ⚠️ /Volumes/Cucumber/Projects/datasets/process/2025-06-11/sku110k-only-yolo/train/images/zoomed_train_606.jpg: ignoring corrupt image/label: negative label values [  -0.009597]\n",
      "\u001b[34m\u001b[1mtrain: \u001b[0mWARNING ⚠️ /Volumes/Cucumber/Projects/datasets/process/2025-06-11/sku110k-only-yolo/train/images/zoomed_train_6073.jpg: ignoring corrupt image/label: non-normalized or out of bounds coordinates [     1.0019]\n",
      "\u001b[34m\u001b[1mtrain: \u001b[0mWARNING ⚠️ /Volumes/Cucumber/Projects/datasets/process/2025-06-11/sku110k-only-yolo/train/images/zoomed_train_6087.jpg: ignoring corrupt image/label: non-normalized or out of bounds coordinates [     1.0107]\n",
      "\u001b[34m\u001b[1mtrain: \u001b[0mWARNING ⚠️ /Volumes/Cucumber/Projects/datasets/process/2025-06-11/sku110k-only-yolo/train/images/zoomed_train_612.jpg: ignoring corrupt image/label: non-normalized or out of bounds coordinates [     1.0007]\n",
      "\u001b[34m\u001b[1mtrain: \u001b[0mWARNING ⚠️ /Volumes/Cucumber/Projects/datasets/process/2025-06-11/sku110k-only-yolo/train/images/zoomed_train_6122.jpg: ignoring corrupt image/label: negative label values [  -0.017316]\n",
      "\u001b[34m\u001b[1mtrain: \u001b[0mWARNING ⚠️ /Volumes/Cucumber/Projects/datasets/process/2025-06-11/sku110k-only-yolo/train/images/zoomed_train_6126.jpg: ignoring corrupt image/label: negative label values [   -0.00025]\n",
      "\u001b[34m\u001b[1mtrain: \u001b[0mWARNING ⚠️ /Volumes/Cucumber/Projects/datasets/process/2025-06-11/sku110k-only-yolo/train/images/zoomed_train_6136.jpg: ignoring corrupt image/label: non-normalized or out of bounds coordinates [     1.0293]\n",
      "\u001b[34m\u001b[1mtrain: \u001b[0mWARNING ⚠️ /Volumes/Cucumber/Projects/datasets/process/2025-06-11/sku110k-only-yolo/train/images/zoomed_train_6153.jpg: ignoring corrupt image/label: non-normalized or out of bounds coordinates [     1.0061]\n",
      "\u001b[34m\u001b[1mtrain: \u001b[0mWARNING ⚠️ /Volumes/Cucumber/Projects/datasets/process/2025-06-11/sku110k-only-yolo/train/images/zoomed_train_6155.jpg: ignoring corrupt image/label: negative label values [  -0.021661   -0.031137   -0.036552]\n",
      "\u001b[34m\u001b[1mtrain: \u001b[0mWARNING ⚠️ /Volumes/Cucumber/Projects/datasets/process/2025-06-11/sku110k-only-yolo/train/images/zoomed_train_6190.jpg: ignoring corrupt image/label: non-normalized or out of bounds coordinates [     1.0083       1.007]\n",
      "\u001b[34m\u001b[1mtrain: \u001b[0mWARNING ⚠️ /Volumes/Cucumber/Projects/datasets/process/2025-06-11/sku110k-only-yolo/train/images/zoomed_train_62.jpg: ignoring corrupt image/label: negative label values [  -0.007493   -0.004995    -0.00545   -0.009083]\n",
      "\u001b[34m\u001b[1mtrain: \u001b[0mWARNING ⚠️ /Volumes/Cucumber/Projects/datasets/process/2025-06-11/sku110k-only-yolo/train/images/zoomed_train_6237.jpg: ignoring corrupt image/label: non-normalized or out of bounds coordinates [     1.0279      1.0225      1.0298      1.0302]\n",
      "\u001b[34m\u001b[1mtrain: \u001b[0mWARNING ⚠️ /Volumes/Cucumber/Projects/datasets/process/2025-06-11/sku110k-only-yolo/train/images/zoomed_train_624.jpg: ignoring corrupt image/label: negative label values [  -0.001846   -0.006857   -0.007911]\n",
      "\u001b[34m\u001b[1mtrain: \u001b[0mWARNING ⚠️ /Volumes/Cucumber/Projects/datasets/process/2025-06-11/sku110k-only-yolo/train/images/zoomed_train_6251.jpg: ignoring corrupt image/label: negative label values [  -0.004772]\n",
      "\u001b[34m\u001b[1mtrain: \u001b[0mWARNING ⚠️ /Volumes/Cucumber/Projects/datasets/process/2025-06-11/sku110k-only-yolo/train/images/zoomed_train_6317.jpg: ignoring corrupt image/label: non-normalized or out of bounds coordinates [     1.0115      1.0253]\n",
      "\u001b[34m\u001b[1mtrain: \u001b[0mWARNING ⚠️ /Volumes/Cucumber/Projects/datasets/process/2025-06-11/sku110k-only-yolo/train/images/zoomed_train_635.jpg: ignoring corrupt image/label: non-normalized or out of bounds coordinates [     1.0041      1.0068]\n",
      "\u001b[34m\u001b[1mtrain: \u001b[0mWARNING ⚠️ /Volumes/Cucumber/Projects/datasets/process/2025-06-11/sku110k-only-yolo/train/images/zoomed_train_6351.jpg: ignoring corrupt image/label: negative label values [  -0.010568]\n",
      "\u001b[34m\u001b[1mtrain: \u001b[0mWARNING ⚠️ /Volumes/Cucumber/Projects/datasets/process/2025-06-11/sku110k-only-yolo/train/images/zoomed_train_6356.jpg: ignoring corrupt image/label: non-normalized or out of bounds coordinates [     1.0222]\n",
      "\u001b[34m\u001b[1mtrain: \u001b[0mWARNING ⚠️ /Volumes/Cucumber/Projects/datasets/process/2025-06-11/sku110k-only-yolo/train/images/zoomed_train_6382.jpg: ignoring corrupt image/label: negative label values [  -0.010247]\n",
      "\u001b[34m\u001b[1mtrain: \u001b[0mWARNING ⚠️ /Volumes/Cucumber/Projects/datasets/process/2025-06-11/sku110k-only-yolo/train/images/zoomed_train_6394.jpg: ignoring corrupt image/label: non-normalized or out of bounds coordinates [      1.016      1.0028      1.0034]\n",
      "\u001b[34m\u001b[1mtrain: \u001b[0mWARNING ⚠️ /Volumes/Cucumber/Projects/datasets/process/2025-06-11/sku110k-only-yolo/train/images/zoomed_train_64.jpg: ignoring corrupt image/label: non-normalized or out of bounds coordinates [     1.0041      1.0107      1.0036]\n",
      "\u001b[34m\u001b[1mtrain: \u001b[0mWARNING ⚠️ /Volumes/Cucumber/Projects/datasets/process/2025-06-11/sku110k-only-yolo/train/images/zoomed_train_6405.jpg: ignoring corrupt image/label: non-normalized or out of bounds coordinates [     1.0171      1.0154]\n",
      "\u001b[34m\u001b[1mtrain: \u001b[0mWARNING ⚠️ /Volumes/Cucumber/Projects/datasets/process/2025-06-11/sku110k-only-yolo/train/images/zoomed_train_6408.jpg: ignoring corrupt image/label: negative label values [  -0.035172]\n",
      "\u001b[34m\u001b[1mtrain: \u001b[0mWARNING ⚠️ /Volumes/Cucumber/Projects/datasets/process/2025-06-11/sku110k-only-yolo/train/images/zoomed_train_6420.jpg: ignoring corrupt image/label: non-normalized or out of bounds coordinates [     1.0012      1.0106]\n",
      "\u001b[34m\u001b[1mtrain: \u001b[0mWARNING ⚠️ /Volumes/Cucumber/Projects/datasets/process/2025-06-11/sku110k-only-yolo/train/images/zoomed_train_6422.jpg: ignoring corrupt image/label: non-normalized or out of bounds coordinates [     1.0015]\n",
      "\u001b[34m\u001b[1mtrain: \u001b[0mWARNING ⚠️ /Volumes/Cucumber/Projects/datasets/process/2025-06-11/sku110k-only-yolo/train/images/zoomed_train_6435.jpg: ignoring corrupt image/label: negative label values [   -0.02141]\n",
      "\u001b[34m\u001b[1mtrain: \u001b[0mWARNING ⚠️ /Volumes/Cucumber/Projects/datasets/process/2025-06-11/sku110k-only-yolo/train/images/zoomed_train_6442.jpg: ignoring corrupt image/label: non-normalized or out of bounds coordinates [     1.0064      1.0042      1.0159      1.0344      1.0294      1.0311]\n",
      "\u001b[34m\u001b[1mtrain: \u001b[0mWARNING ⚠️ /Volumes/Cucumber/Projects/datasets/process/2025-06-11/sku110k-only-yolo/train/images/zoomed_train_6468.jpg: ignoring corrupt image/label: non-normalized or out of bounds coordinates [     1.0104      1.0155      1.0128]\n",
      "\u001b[34m\u001b[1mtrain: \u001b[0mWARNING ⚠️ /Volumes/Cucumber/Projects/datasets/process/2025-06-11/sku110k-only-yolo/train/images/zoomed_train_6478.jpg: ignoring corrupt image/label: non-normalized or out of bounds coordinates [     1.0055      1.0023      1.0119      1.0097]\n",
      "\u001b[34m\u001b[1mtrain: \u001b[0mWARNING ⚠️ /Volumes/Cucumber/Projects/datasets/process/2025-06-11/sku110k-only-yolo/train/images/zoomed_train_6479.jpg: ignoring corrupt image/label: negative label values [  -0.040189   -0.041371]\n",
      "\u001b[34m\u001b[1mtrain: \u001b[0mWARNING ⚠️ /Volumes/Cucumber/Projects/datasets/process/2025-06-11/sku110k-only-yolo/train/images/zoomed_train_6508.jpg: ignoring corrupt image/label: non-normalized or out of bounds coordinates [     1.0003       1.001]\n",
      "\u001b[34m\u001b[1mtrain: \u001b[0mWARNING ⚠️ /Volumes/Cucumber/Projects/datasets/process/2025-06-11/sku110k-only-yolo/train/images/zoomed_train_6531.jpg: ignoring corrupt image/label: negative label values [  -0.001956   -0.004564]\n",
      "\u001b[34m\u001b[1mtrain: \u001b[0mWARNING ⚠️ /Volumes/Cucumber/Projects/datasets/process/2025-06-11/sku110k-only-yolo/train/images/zoomed_train_6580.jpg: ignoring corrupt image/label: non-normalized or out of bounds coordinates [     1.0336]\n",
      "\u001b[34m\u001b[1mtrain: \u001b[0mWARNING ⚠️ /Volumes/Cucumber/Projects/datasets/process/2025-06-11/sku110k-only-yolo/train/images/zoomed_train_6589.jpg: ignoring corrupt image/label: non-normalized or out of bounds coordinates [     1.0007]\n",
      "\u001b[34m\u001b[1mtrain: \u001b[0mWARNING ⚠️ /Volumes/Cucumber/Projects/datasets/process/2025-06-11/sku110k-only-yolo/train/images/zoomed_train_6600.jpg: ignoring corrupt image/label: non-normalized or out of bounds coordinates [     1.0043       1.012       1.002]\n",
      "\u001b[34m\u001b[1mtrain: \u001b[0mWARNING ⚠️ /Volumes/Cucumber/Projects/datasets/process/2025-06-11/sku110k-only-yolo/train/images/zoomed_train_6606.jpg: ignoring corrupt image/label: negative label values [  -0.021775   -0.013065]\n",
      "\u001b[34m\u001b[1mtrain: \u001b[0mWARNING ⚠️ /Volumes/Cucumber/Projects/datasets/process/2025-06-11/sku110k-only-yolo/train/images/zoomed_train_6608.jpg: ignoring corrupt image/label: non-normalized or out of bounds coordinates [     1.0248]\n",
      "\u001b[34m\u001b[1mtrain: \u001b[0mWARNING ⚠️ /Volumes/Cucumber/Projects/datasets/process/2025-06-11/sku110k-only-yolo/train/images/zoomed_train_6619.jpg: ignoring corrupt image/label: non-normalized or out of bounds coordinates [     1.0072]\n",
      "\u001b[34m\u001b[1mtrain: \u001b[0mWARNING ⚠️ /Volumes/Cucumber/Projects/datasets/process/2025-06-11/sku110k-only-yolo/train/images/zoomed_train_6650.jpg: ignoring corrupt image/label: negative label values [  -0.019617   -0.007199   -0.005399]\n",
      "\u001b[34m\u001b[1mtrain: \u001b[0mWARNING ⚠️ /Volumes/Cucumber/Projects/datasets/process/2025-06-11/sku110k-only-yolo/train/images/zoomed_train_6658.jpg: ignoring corrupt image/label: negative label values [  -0.040737]\n",
      "\u001b[34m\u001b[1mtrain: \u001b[0mWARNING ⚠️ /Volumes/Cucumber/Projects/datasets/process/2025-06-11/sku110k-only-yolo/train/images/zoomed_train_6683.jpg: ignoring corrupt image/label: non-normalized or out of bounds coordinates [     1.0078      1.0069]\n",
      "\u001b[34m\u001b[1mtrain: \u001b[0mWARNING ⚠️ /Volumes/Cucumber/Projects/datasets/process/2025-06-11/sku110k-only-yolo/train/images/zoomed_train_6688.jpg: ignoring corrupt image/label: non-normalized or out of bounds coordinates [     1.0066]\n",
      "\u001b[34m\u001b[1mtrain: \u001b[0mWARNING ⚠️ /Volumes/Cucumber/Projects/datasets/process/2025-06-11/sku110k-only-yolo/train/images/zoomed_train_6696.jpg: ignoring corrupt image/label: non-normalized or out of bounds coordinates [     1.0056]\n",
      "\u001b[34m\u001b[1mtrain: \u001b[0mWARNING ⚠️ /Volumes/Cucumber/Projects/datasets/process/2025-06-11/sku110k-only-yolo/train/images/zoomed_train_6712.jpg: ignoring corrupt image/label: negative label values [  -0.005992]\n",
      "\u001b[34m\u001b[1mtrain: \u001b[0mWARNING ⚠️ /Volumes/Cucumber/Projects/datasets/process/2025-06-11/sku110k-only-yolo/train/images/zoomed_train_6731.jpg: ignoring corrupt image/label: non-normalized or out of bounds coordinates [          1]\n",
      "\u001b[34m\u001b[1mtrain: \u001b[0mWARNING ⚠️ /Volumes/Cucumber/Projects/datasets/process/2025-06-11/sku110k-only-yolo/train/images/zoomed_train_6746.jpg: ignoring corrupt image/label: non-normalized or out of bounds coordinates [     1.0014      1.0178      1.0147      1.0147]\n",
      "\u001b[34m\u001b[1mtrain: \u001b[0mWARNING ⚠️ /Volumes/Cucumber/Projects/datasets/process/2025-06-11/sku110k-only-yolo/train/images/zoomed_train_675.jpg: ignoring corrupt image/label: non-normalized or out of bounds coordinates [     1.0127       1.001      1.0081      1.0005]\n",
      "\u001b[34m\u001b[1mtrain: \u001b[0mWARNING ⚠️ /Volumes/Cucumber/Projects/datasets/process/2025-06-11/sku110k-only-yolo/train/images/zoomed_train_676.jpg: ignoring corrupt image/label: non-normalized or out of bounds coordinates [     1.0218      1.0218       1.024      1.0261      1.0251      1.0305      1.0289      1.0174      1.0234]\n",
      "\u001b[34m\u001b[1mtrain: \u001b[0mWARNING ⚠️ /Volumes/Cucumber/Projects/datasets/process/2025-06-11/sku110k-only-yolo/train/images/zoomed_train_6762.jpg: ignoring corrupt image/label: non-normalized or out of bounds coordinates [     1.0095      1.0168]\n",
      "\u001b[34m\u001b[1mtrain: \u001b[0mWARNING ⚠️ /Volumes/Cucumber/Projects/datasets/process/2025-06-11/sku110k-only-yolo/train/images/zoomed_train_6780.jpg: ignoring corrupt image/label: non-normalized or out of bounds coordinates [     1.0107]\n",
      "\u001b[34m\u001b[1mtrain: \u001b[0mWARNING ⚠️ /Volumes/Cucumber/Projects/datasets/process/2025-06-11/sku110k-only-yolo/train/images/zoomed_train_6794.jpg: ignoring corrupt image/label: non-normalized or out of bounds coordinates [     1.0146      1.0022]\n",
      "\u001b[34m\u001b[1mtrain: \u001b[0mWARNING ⚠️ /Volumes/Cucumber/Projects/datasets/process/2025-06-11/sku110k-only-yolo/train/images/zoomed_train_6809.jpg: ignoring corrupt image/label: non-normalized or out of bounds coordinates [     1.0028      1.0016      1.0006      1.0044      1.0047      1.0018      1.0015      1.0083]\n",
      "\u001b[34m\u001b[1mtrain: \u001b[0mWARNING ⚠️ /Volumes/Cucumber/Projects/datasets/process/2025-06-11/sku110k-only-yolo/train/images/zoomed_train_6826.jpg: ignoring corrupt image/label: non-normalized or out of bounds coordinates [     1.0111      1.0021]\n",
      "\u001b[34m\u001b[1mtrain: \u001b[0mWARNING ⚠️ /Volumes/Cucumber/Projects/datasets/process/2025-06-11/sku110k-only-yolo/train/images/zoomed_train_6829.jpg: ignoring corrupt image/label: non-normalized or out of bounds coordinates [     1.0484]\n",
      "\u001b[34m\u001b[1mtrain: \u001b[0mWARNING ⚠️ /Volumes/Cucumber/Projects/datasets/process/2025-06-11/sku110k-only-yolo/train/images/zoomed_train_6846.jpg: ignoring corrupt image/label: negative label values [  -0.055556   -0.028542]\n",
      "\u001b[34m\u001b[1mtrain: \u001b[0mWARNING ⚠️ /Volumes/Cucumber/Projects/datasets/process/2025-06-11/sku110k-only-yolo/train/images/zoomed_train_6879.jpg: ignoring corrupt image/label: non-normalized or out of bounds coordinates [      1.188      1.1634]\n",
      "\u001b[34m\u001b[1mtrain: \u001b[0mWARNING ⚠️ /Volumes/Cucumber/Projects/datasets/process/2025-06-11/sku110k-only-yolo/train/images/zoomed_train_6889.jpg: ignoring corrupt image/label: non-normalized or out of bounds coordinates [     1.0114      1.0139]\n",
      "\u001b[34m\u001b[1mtrain: \u001b[0mWARNING ⚠️ /Volumes/Cucumber/Projects/datasets/process/2025-06-11/sku110k-only-yolo/train/images/zoomed_train_6925.jpg: ignoring corrupt image/label: non-normalized or out of bounds coordinates [     1.0025      1.0039]\n",
      "\u001b[34m\u001b[1mtrain: \u001b[0mWARNING ⚠️ /Volumes/Cucumber/Projects/datasets/process/2025-06-11/sku110k-only-yolo/train/images/zoomed_train_6935.jpg: ignoring corrupt image/label: non-normalized or out of bounds coordinates [     1.0367      1.0348      1.0225      1.0178      1.0178      1.0159      1.0074      1.0111      1.0556      1.0518      1.0547]\n",
      "\u001b[34m\u001b[1mtrain: \u001b[0mWARNING ⚠️ /Volumes/Cucumber/Projects/datasets/process/2025-06-11/sku110k-only-yolo/train/images/zoomed_train_6938.jpg: ignoring corrupt image/label: negative label values [  -0.004028   -0.003453   -0.006042]\n",
      "\u001b[34m\u001b[1mtrain: \u001b[0mWARNING ⚠️ /Volumes/Cucumber/Projects/datasets/process/2025-06-11/sku110k-only-yolo/train/images/zoomed_train_6950.jpg: ignoring corrupt image/label: negative label values [  -0.004507   -0.007405   -0.005795   -0.009981   -0.012878   -0.002898   -0.006868    -0.01159]\n",
      "\u001b[34m\u001b[1mtrain: \u001b[0mWARNING ⚠️ /Volumes/Cucumber/Projects/datasets/process/2025-06-11/sku110k-only-yolo/train/images/zoomed_train_6951.jpg: ignoring corrupt image/label: negative label values [  -0.010333]\n",
      "\u001b[34m\u001b[1mtrain: \u001b[0mWARNING ⚠️ /Volumes/Cucumber/Projects/datasets/process/2025-06-11/sku110k-only-yolo/train/images/zoomed_train_6955.jpg: ignoring corrupt image/label: non-normalized or out of bounds coordinates [     1.0013       1.024      1.0072]\n",
      "\u001b[34m\u001b[1mtrain: \u001b[0mWARNING ⚠️ /Volumes/Cucumber/Projects/datasets/process/2025-06-11/sku110k-only-yolo/train/images/zoomed_train_6972.jpg: ignoring corrupt image/label: non-normalized or out of bounds coordinates [     1.0303]\n",
      "\u001b[34m\u001b[1mtrain: \u001b[0mWARNING ⚠️ /Volumes/Cucumber/Projects/datasets/process/2025-06-11/sku110k-only-yolo/train/images/zoomed_train_6995.jpg: ignoring corrupt image/label: non-normalized or out of bounds coordinates [      1.003]\n",
      "\u001b[34m\u001b[1mtrain: \u001b[0mWARNING ⚠️ /Volumes/Cucumber/Projects/datasets/process/2025-06-11/sku110k-only-yolo/train/images/zoomed_train_7000.jpg: ignoring corrupt image/label: non-normalized or out of bounds coordinates [     1.0099]\n",
      "\u001b[34m\u001b[1mtrain: \u001b[0mWARNING ⚠️ /Volumes/Cucumber/Projects/datasets/process/2025-06-11/sku110k-only-yolo/train/images/zoomed_train_7032.jpg: ignoring corrupt image/label: non-normalized or out of bounds coordinates [     1.0177      1.0107      1.0199      1.0199      1.0229      1.0064      1.0082]\n",
      "\u001b[34m\u001b[1mtrain: \u001b[0mWARNING ⚠️ /Volumes/Cucumber/Projects/datasets/process/2025-06-11/sku110k-only-yolo/train/images/zoomed_train_7036.jpg: ignoring corrupt image/label: negative label values [  -0.022145   -0.021368   -0.007382   -0.012821   -0.016706   -0.017094   -0.019425   -0.020202   -0.019037   -0.011267]\n",
      "\u001b[34m\u001b[1mtrain: \u001b[0mWARNING ⚠️ /Volumes/Cucumber/Projects/datasets/process/2025-06-11/sku110k-only-yolo/train/images/zoomed_train_7058.jpg: ignoring corrupt image/label: negative label values [  -0.026192   -0.001766   -0.013537   -0.022955]\n",
      "\u001b[34m\u001b[1mtrain: \u001b[0mWARNING ⚠️ /Volumes/Cucumber/Projects/datasets/process/2025-06-11/sku110k-only-yolo/train/images/zoomed_train_7084.jpg: ignoring corrupt image/label: non-normalized or out of bounds coordinates [      1.082      1.0784]\n",
      "\u001b[34m\u001b[1mtrain: \u001b[0mWARNING ⚠️ /Volumes/Cucumber/Projects/datasets/process/2025-06-11/sku110k-only-yolo/train/images/zoomed_train_7121.jpg: ignoring corrupt image/label: non-normalized or out of bounds coordinates [     1.0031]\n",
      "\u001b[34m\u001b[1mtrain: \u001b[0mWARNING ⚠️ /Volumes/Cucumber/Projects/datasets/process/2025-06-11/sku110k-only-yolo/train/images/zoomed_train_7131.jpg: ignoring corrupt image/label: non-normalized or out of bounds coordinates [     1.0012       1.009]\n",
      "\u001b[34m\u001b[1mtrain: \u001b[0mWARNING ⚠️ /Volumes/Cucumber/Projects/datasets/process/2025-06-11/sku110k-only-yolo/train/images/zoomed_train_7134.jpg: ignoring corrupt image/label: negative label values [  -0.035301   -0.019581   -0.021511   -0.006895   -0.011583   -0.013789    -0.03144   -0.005525]\n",
      "\u001b[34m\u001b[1mtrain: \u001b[0mWARNING ⚠️ /Volumes/Cucumber/Projects/datasets/process/2025-06-11/sku110k-only-yolo/train/images/zoomed_train_7136.jpg: ignoring corrupt image/label: negative label values [  -0.000575]\n",
      "\u001b[34m\u001b[1mtrain: \u001b[0mWARNING ⚠️ /Volumes/Cucumber/Projects/datasets/process/2025-06-11/sku110k-only-yolo/train/images/zoomed_train_7138.jpg: ignoring corrupt image/label: negative label values [  -0.004369   -0.001248]\n",
      "\u001b[34m\u001b[1mtrain: \u001b[0mWARNING ⚠️ /Volumes/Cucumber/Projects/datasets/process/2025-06-11/sku110k-only-yolo/train/images/zoomed_train_714.jpg: ignoring corrupt image/label: non-normalized or out of bounds coordinates [     1.0169      1.0058]\n",
      "\u001b[34m\u001b[1mtrain: \u001b[0mWARNING ⚠️ /Volumes/Cucumber/Projects/datasets/process/2025-06-11/sku110k-only-yolo/train/images/zoomed_train_7155.jpg: ignoring corrupt image/label: negative label values [  -0.005794   -0.000483     -0.0188   -0.014461     -0.0094   -0.002892   -0.026753]\n",
      "\u001b[34m\u001b[1mtrain: \u001b[0mWARNING ⚠️ /Volumes/Cucumber/Projects/datasets/process/2025-06-11/sku110k-only-yolo/train/images/zoomed_train_7188.jpg: ignoring corrupt image/label: non-normalized or out of bounds coordinates [     1.0087]\n",
      "\u001b[34m\u001b[1mtrain: \u001b[0mWARNING ⚠️ /Volumes/Cucumber/Projects/datasets/process/2025-06-11/sku110k-only-yolo/train/images/zoomed_train_72.jpg: ignoring corrupt image/label: negative label values [  -0.019383   -0.010285   -0.009889   -0.015427   -0.026108]\n",
      "\u001b[34m\u001b[1mtrain: \u001b[0mWARNING ⚠️ /Volumes/Cucumber/Projects/datasets/process/2025-06-11/sku110k-only-yolo/train/images/zoomed_train_7206.jpg: ignoring corrupt image/label: non-normalized or out of bounds coordinates [     1.0027      1.0027]\n",
      "\u001b[34m\u001b[1mtrain: \u001b[0mWARNING ⚠️ /Volumes/Cucumber/Projects/datasets/process/2025-06-11/sku110k-only-yolo/train/images/zoomed_train_7221.jpg: ignoring corrupt image/label: non-normalized or out of bounds coordinates [       1.01      1.0074      1.0104      1.0122      1.0019      1.0019]\n",
      "\u001b[34m\u001b[1mtrain: \u001b[0mWARNING ⚠️ /Volumes/Cucumber/Projects/datasets/process/2025-06-11/sku110k-only-yolo/train/images/zoomed_train_7237.jpg: ignoring corrupt image/label: negative label values [  -0.046615   -0.077691]\n",
      "\u001b[34m\u001b[1mtrain: \u001b[0mWARNING ⚠️ /Volumes/Cucumber/Projects/datasets/process/2025-06-11/sku110k-only-yolo/train/images/zoomed_train_7261.jpg: ignoring corrupt image/label: negative label values [  -0.005893   -0.006759    -0.00312   -0.002946]\n",
      "\u001b[34m\u001b[1mtrain: \u001b[0mWARNING ⚠️ /Volumes/Cucumber/Projects/datasets/process/2025-06-11/sku110k-only-yolo/train/images/zoomed_train_7275.jpg: ignoring corrupt image/label: negative label values [  -0.006132]\n",
      "\u001b[34m\u001b[1mtrain: \u001b[0mWARNING ⚠️ /Volumes/Cucumber/Projects/datasets/process/2025-06-11/sku110k-only-yolo/train/images/zoomed_train_7281.jpg: ignoring corrupt image/label: negative label values [  -0.009029   -0.008169]\n",
      "\u001b[34m\u001b[1mtrain: \u001b[0mWARNING ⚠️ /Volumes/Cucumber/Projects/datasets/process/2025-06-11/sku110k-only-yolo/train/images/zoomed_train_7287.jpg: ignoring corrupt image/label: negative label values [  -0.018706   -0.022245]\n",
      "\u001b[34m\u001b[1mtrain: \u001b[0mWARNING ⚠️ /Volumes/Cucumber/Projects/datasets/process/2025-06-11/sku110k-only-yolo/train/images/zoomed_train_7295.jpg: ignoring corrupt image/label: non-normalized or out of bounds coordinates [     1.0356      1.0127      1.0195]\n",
      "\u001b[34m\u001b[1mtrain: \u001b[0mWARNING ⚠️ /Volumes/Cucumber/Projects/datasets/process/2025-06-11/sku110k-only-yolo/train/images/zoomed_train_7298.jpg: ignoring corrupt image/label: negative label values [  -0.018098]\n",
      "\u001b[34m\u001b[1mtrain: \u001b[0mWARNING ⚠️ /Volumes/Cucumber/Projects/datasets/process/2025-06-11/sku110k-only-yolo/train/images/zoomed_train_7310.jpg: ignoring corrupt image/label: non-normalized or out of bounds coordinates [     1.0024      1.0058]\n",
      "\u001b[34m\u001b[1mtrain: \u001b[0mWARNING ⚠️ /Volumes/Cucumber/Projects/datasets/process/2025-06-11/sku110k-only-yolo/train/images/zoomed_train_7320.jpg: ignoring corrupt image/label: negative label values [  -0.011709]\n",
      "\u001b[34m\u001b[1mtrain: \u001b[0mWARNING ⚠️ /Volumes/Cucumber/Projects/datasets/process/2025-06-11/sku110k-only-yolo/train/images/zoomed_train_7369.jpg: ignoring corrupt image/label: negative label values [  -0.000905   -0.009053   -0.021726]\n",
      "\u001b[34m\u001b[1mtrain: \u001b[0mWARNING ⚠️ /Volumes/Cucumber/Projects/datasets/process/2025-06-11/sku110k-only-yolo/train/images/zoomed_train_7384.jpg: ignoring corrupt image/label: negative label values [  -0.018668   -0.021368   -0.018668   -0.021592   -0.020468   -0.020018   -0.018893   -0.016644    -0.01372   -0.012821   -0.010571   -0.008322   -0.001125   -0.000225     -0.0009   -0.018668]\n",
      "\u001b[34m\u001b[1mtrain: \u001b[0mWARNING ⚠️ /Volumes/Cucumber/Projects/datasets/process/2025-06-11/sku110k-only-yolo/train/images/zoomed_train_7386.jpg: ignoring corrupt image/label: negative label values [  -0.007594]\n",
      "\u001b[34m\u001b[1mtrain: \u001b[0mWARNING ⚠️ /Volumes/Cucumber/Projects/datasets/process/2025-06-11/sku110k-only-yolo/train/images/zoomed_train_7393.jpg: ignoring corrupt image/label: negative label values [  -0.011165    -0.00093   -0.002094   -0.001396   -0.011165     -0.0107]\n",
      "\u001b[34m\u001b[1mtrain: \u001b[0mWARNING ⚠️ /Volumes/Cucumber/Projects/datasets/process/2025-06-11/sku110k-only-yolo/train/images/zoomed_train_7402.jpg: ignoring corrupt image/label: non-normalized or out of bounds coordinates [     1.0262      1.0194       1.016      1.0139      1.0049      1.0148      1.0049]\n",
      "\u001b[34m\u001b[1mtrain: \u001b[0mWARNING ⚠️ /Volumes/Cucumber/Projects/datasets/process/2025-06-11/sku110k-only-yolo/train/images/zoomed_train_7407.jpg: ignoring corrupt image/label: non-normalized or out of bounds coordinates [     1.0164      1.0085      1.0177       1.003      1.0049      1.0222      1.0146      1.0016      1.0204      1.0186      1.0158       1.011      1.0149      1.0161      1.0046]\n",
      "\u001b[34m\u001b[1mtrain: \u001b[0mWARNING ⚠️ /Volumes/Cucumber/Projects/datasets/process/2025-06-11/sku110k-only-yolo/train/images/zoomed_train_7413.jpg: ignoring corrupt image/label: negative label values [  -0.025346]\n",
      "\u001b[34m\u001b[1mtrain: \u001b[0mWARNING ⚠️ /Volumes/Cucumber/Projects/datasets/process/2025-06-11/sku110k-only-yolo/train/images/zoomed_train_7421.jpg: ignoring corrupt image/label: non-normalized or out of bounds coordinates [     1.0027]\n",
      "\u001b[34m\u001b[1mtrain: \u001b[0mWARNING ⚠️ /Volumes/Cucumber/Projects/datasets/process/2025-06-11/sku110k-only-yolo/train/images/zoomed_train_7424.jpg: ignoring corrupt image/label: non-normalized or out of bounds coordinates [     1.0062      1.0107      1.0131]\n",
      "\u001b[34m\u001b[1mtrain: \u001b[0mWARNING ⚠️ /Volumes/Cucumber/Projects/datasets/process/2025-06-11/sku110k-only-yolo/train/images/zoomed_train_7460.jpg: ignoring corrupt image/label: non-normalized or out of bounds coordinates [     1.0145      1.0112      1.0131      1.0079      1.0037]\n",
      "\u001b[34m\u001b[1mtrain: \u001b[0mWARNING ⚠️ /Volumes/Cucumber/Projects/datasets/process/2025-06-11/sku110k-only-yolo/train/images/zoomed_train_7482.jpg: ignoring corrupt image/label: non-normalized or out of bounds coordinates [     1.0039]\n",
      "\u001b[34m\u001b[1mtrain: \u001b[0mWARNING ⚠️ /Volumes/Cucumber/Projects/datasets/process/2025-06-11/sku110k-only-yolo/train/images/zoomed_train_7484.jpg: ignoring corrupt image/label: non-normalized or out of bounds coordinates [     1.0018]\n",
      "\u001b[34m\u001b[1mtrain: \u001b[0mWARNING ⚠️ /Volumes/Cucumber/Projects/datasets/process/2025-06-11/sku110k-only-yolo/train/images/zoomed_train_7501.jpg: ignoring corrupt image/label: non-normalized or out of bounds coordinates [     1.0124]\n",
      "\u001b[34m\u001b[1mtrain: \u001b[0mWARNING ⚠️ /Volumes/Cucumber/Projects/datasets/process/2025-06-11/sku110k-only-yolo/train/images/zoomed_train_7508.jpg: ignoring corrupt image/label: negative label values [  -0.017105]\n",
      "\u001b[34m\u001b[1mtrain: \u001b[0mWARNING ⚠️ /Volumes/Cucumber/Projects/datasets/process/2025-06-11/sku110k-only-yolo/train/images/zoomed_train_7517.jpg: ignoring corrupt image/label: negative label values [  -0.029757   -0.041479]\n",
      "\u001b[34m\u001b[1mtrain: \u001b[0mWARNING ⚠️ /Volumes/Cucumber/Projects/datasets/process/2025-06-11/sku110k-only-yolo/train/images/zoomed_train_7523.jpg: ignoring corrupt image/label: negative label values [  -0.021468]\n",
      "\u001b[34m\u001b[1mtrain: \u001b[0mWARNING ⚠️ /Volumes/Cucumber/Projects/datasets/process/2025-06-11/sku110k-only-yolo/train/images/zoomed_train_7525.jpg: ignoring corrupt image/label: non-normalized or out of bounds coordinates [     1.0004      1.0034      1.0029      1.0042      1.0122      1.0038]\n",
      "\u001b[34m\u001b[1mtrain: \u001b[0mWARNING ⚠️ /Volumes/Cucumber/Projects/datasets/process/2025-06-11/sku110k-only-yolo/train/images/zoomed_train_7545.jpg: ignoring corrupt image/label: negative label values [  -0.004243   -0.005875]\n",
      "\u001b[34m\u001b[1mtrain: \u001b[0mWARNING ⚠️ /Volumes/Cucumber/Projects/datasets/process/2025-06-11/sku110k-only-yolo/train/images/zoomed_train_7547.jpg: ignoring corrupt image/label: negative label values [  -0.019364   -0.001539   -0.019364   -0.024205    -0.01775   -0.018442   -0.016598   -0.015906    -0.01337   -0.017059]\n",
      "\u001b[34m\u001b[1mtrain: \u001b[0mWARNING ⚠️ /Volumes/Cucumber/Projects/datasets/process/2025-06-11/sku110k-only-yolo/train/images/zoomed_train_7553.jpg: ignoring corrupt image/label: negative label values [   -0.01185   -0.004175   -0.025052]\n",
      "\u001b[34m\u001b[1mtrain: \u001b[0mWARNING ⚠️ /Volumes/Cucumber/Projects/datasets/process/2025-06-11/sku110k-only-yolo/train/images/zoomed_train_7556.jpg: ignoring corrupt image/label: non-normalized or out of bounds coordinates [     1.0112]\n",
      "\u001b[34m\u001b[1mtrain: \u001b[0mWARNING ⚠️ /Volumes/Cucumber/Projects/datasets/process/2025-06-11/sku110k-only-yolo/train/images/zoomed_train_757.jpg: ignoring corrupt image/label: non-normalized or out of bounds coordinates [     1.0165      1.0299]\n",
      "\u001b[34m\u001b[1mtrain: \u001b[0mWARNING ⚠️ /Volumes/Cucumber/Projects/datasets/process/2025-06-11/sku110k-only-yolo/train/images/zoomed_train_7579.jpg: ignoring corrupt image/label: negative label values [  -0.023682]\n",
      "\u001b[34m\u001b[1mtrain: \u001b[0mWARNING ⚠️ /Volumes/Cucumber/Projects/datasets/process/2025-06-11/sku110k-only-yolo/train/images/zoomed_train_759.jpg: ignoring corrupt image/label: non-normalized or out of bounds coordinates [     1.0001]\n",
      "\u001b[34m\u001b[1mtrain: \u001b[0mWARNING ⚠️ /Volumes/Cucumber/Projects/datasets/process/2025-06-11/sku110k-only-yolo/train/images/zoomed_train_7596.jpg: ignoring corrupt image/label: negative label values [  -0.034563   -0.001272]\n",
      "\u001b[34m\u001b[1mtrain: \u001b[0mWARNING ⚠️ /Volumes/Cucumber/Projects/datasets/process/2025-06-11/sku110k-only-yolo/train/images/zoomed_train_7602.jpg: ignoring corrupt image/label: non-normalized or out of bounds coordinates [     1.0028      1.0008      1.0045      1.0008]\n",
      "\u001b[34m\u001b[1mtrain: \u001b[0mWARNING ⚠️ /Volumes/Cucumber/Projects/datasets/process/2025-06-11/sku110k-only-yolo/train/images/zoomed_train_7608.jpg: ignoring corrupt image/label: non-normalized or out of bounds coordinates [     1.0236      1.0205      1.0218]\n",
      "\u001b[34m\u001b[1mtrain: \u001b[0mWARNING ⚠️ /Volumes/Cucumber/Projects/datasets/process/2025-06-11/sku110k-only-yolo/train/images/zoomed_train_7619.jpg: ignoring corrupt image/label: non-normalized or out of bounds coordinates [     1.0632      1.0861      1.0861]\n",
      "\u001b[34m\u001b[1mtrain: \u001b[0mWARNING ⚠️ /Volumes/Cucumber/Projects/datasets/process/2025-06-11/sku110k-only-yolo/train/images/zoomed_train_7627.jpg: ignoring corrupt image/label: negative label values [  -0.003371   -0.016105]\n",
      "\u001b[34m\u001b[1mtrain: \u001b[0mWARNING ⚠️ /Volumes/Cucumber/Projects/datasets/process/2025-06-11/sku110k-only-yolo/train/images/zoomed_train_7628.jpg: ignoring corrupt image/label: non-normalized or out of bounds coordinates [     1.0036]\n",
      "\u001b[34m\u001b[1mtrain: \u001b[0mWARNING ⚠️ /Volumes/Cucumber/Projects/datasets/process/2025-06-11/sku110k-only-yolo/train/images/zoomed_train_7633.jpg: ignoring corrupt image/label: non-normalized or out of bounds coordinates [     1.0022]\n",
      "\u001b[34m\u001b[1mtrain: \u001b[0mWARNING ⚠️ /Volumes/Cucumber/Projects/datasets/process/2025-06-11/sku110k-only-yolo/train/images/zoomed_train_7643.jpg: ignoring corrupt image/label: negative label values [  -0.003047   -0.001693    -0.01309]\n",
      "\u001b[34m\u001b[1mtrain: \u001b[0mWARNING ⚠️ /Volumes/Cucumber/Projects/datasets/process/2025-06-11/sku110k-only-yolo/train/images/zoomed_train_7653.jpg: ignoring corrupt image/label: non-normalized or out of bounds coordinates [     1.0132]\n",
      "\u001b[34m\u001b[1mtrain: \u001b[0mWARNING ⚠️ /Volumes/Cucumber/Projects/datasets/process/2025-06-11/sku110k-only-yolo/train/images/zoomed_train_7698.jpg: ignoring corrupt image/label: non-normalized or out of bounds coordinates [     1.0133      1.0403      1.0367]\n",
      "\u001b[34m\u001b[1mtrain: \u001b[0mWARNING ⚠️ /Volumes/Cucumber/Projects/datasets/process/2025-06-11/sku110k-only-yolo/train/images/zoomed_train_7708.jpg: ignoring corrupt image/label: non-normalized or out of bounds coordinates [     1.0124      1.0124      1.0145      1.0103      1.0051      1.0094      1.0119        1.01      1.0138      1.0089      1.0082]\n",
      "\u001b[34m\u001b[1mtrain: \u001b[0mWARNING ⚠️ /Volumes/Cucumber/Projects/datasets/process/2025-06-11/sku110k-only-yolo/train/images/zoomed_train_7715.jpg: ignoring corrupt image/label: negative label values [  -0.016406]\n",
      "\u001b[34m\u001b[1mtrain: \u001b[0mWARNING ⚠️ /Volumes/Cucumber/Projects/datasets/process/2025-06-11/sku110k-only-yolo/train/images/zoomed_train_7748.jpg: ignoring corrupt image/label: negative label values [  -0.067511   -0.023015   -0.027618]\n",
      "\u001b[34m\u001b[1mtrain: \u001b[0mWARNING ⚠️ /Volumes/Cucumber/Projects/datasets/process/2025-06-11/sku110k-only-yolo/train/images/zoomed_train_7749.jpg: ignoring corrupt image/label: non-normalized or out of bounds coordinates [     1.0087      1.0063]\n",
      "\u001b[34m\u001b[1mtrain: \u001b[0mWARNING ⚠️ /Volumes/Cucumber/Projects/datasets/process/2025-06-11/sku110k-only-yolo/train/images/zoomed_train_7754.jpg: ignoring corrupt image/label: non-normalized or out of bounds coordinates [     1.0043      1.0278]\n",
      "\u001b[34m\u001b[1mtrain: \u001b[0mWARNING ⚠️ /Volumes/Cucumber/Projects/datasets/process/2025-06-11/sku110k-only-yolo/train/images/zoomed_train_7774.jpg: ignoring corrupt image/label: non-normalized or out of bounds coordinates [      1.006]\n",
      "\u001b[34m\u001b[1mtrain: \u001b[0mWARNING ⚠️ /Volumes/Cucumber/Projects/datasets/process/2025-06-11/sku110k-only-yolo/train/images/zoomed_train_7775.jpg: ignoring corrupt image/label: negative label values [  -0.017108   -0.021627   -0.015817   -0.034861   -0.000646   -0.012912   -0.007101   -0.022595]\n",
      "\u001b[34m\u001b[1mtrain: \u001b[0mWARNING ⚠️ /Volumes/Cucumber/Projects/datasets/process/2025-06-11/sku110k-only-yolo/train/images/zoomed_train_7829.jpg: ignoring corrupt image/label: non-normalized or out of bounds coordinates [     1.0074      1.0039      1.0076]\n",
      "\u001b[34m\u001b[1mtrain: \u001b[0mWARNING ⚠️ /Volumes/Cucumber/Projects/datasets/process/2025-06-11/sku110k-only-yolo/train/images/zoomed_train_7830.jpg: ignoring corrupt image/label: negative label values [  -0.009234   -0.005456]\n",
      "\u001b[34m\u001b[1mtrain: \u001b[0mWARNING ⚠️ /Volumes/Cucumber/Projects/datasets/process/2025-06-11/sku110k-only-yolo/train/images/zoomed_train_7840.jpg: ignoring corrupt image/label: negative label values [  -0.012247   -0.008786   -0.010783]\n",
      "\u001b[34m\u001b[1mtrain: \u001b[0mWARNING ⚠️ /Volumes/Cucumber/Projects/datasets/process/2025-06-11/sku110k-only-yolo/train/images/zoomed_train_790.jpg: ignoring corrupt image/label: non-normalized or out of bounds coordinates [     1.0016]\n",
      "\u001b[34m\u001b[1mtrain: \u001b[0mWARNING ⚠️ /Volumes/Cucumber/Projects/datasets/process/2025-06-11/sku110k-only-yolo/train/images/zoomed_train_791.jpg: ignoring corrupt image/label: negative label values [  -0.004461   -0.017472]\n",
      "\u001b[34m\u001b[1mtrain: \u001b[0mWARNING ⚠️ /Volumes/Cucumber/Projects/datasets/process/2025-06-11/sku110k-only-yolo/train/images/zoomed_train_7924.jpg: ignoring corrupt image/label: non-normalized or out of bounds coordinates [     1.0088      1.0042      1.0021      1.0071       1.003]\n",
      "\u001b[34m\u001b[1mtrain: \u001b[0mWARNING ⚠️ /Volumes/Cucumber/Projects/datasets/process/2025-06-11/sku110k-only-yolo/train/images/zoomed_train_7958.jpg: ignoring corrupt image/label: non-normalized or out of bounds coordinates [      1.006       1.012      1.0193      1.0266      1.0176      1.0051]\n",
      "\u001b[34m\u001b[1mtrain: \u001b[0mWARNING ⚠️ /Volumes/Cucumber/Projects/datasets/process/2025-06-11/sku110k-only-yolo/train/images/zoomed_train_7964.jpg: ignoring corrupt image/label: non-normalized or out of bounds coordinates [     1.0146]\n",
      "\u001b[34m\u001b[1mtrain: \u001b[0mWARNING ⚠️ /Volumes/Cucumber/Projects/datasets/process/2025-06-11/sku110k-only-yolo/train/images/zoomed_train_7974.jpg: ignoring corrupt image/label: non-normalized or out of bounds coordinates [     1.0014]\n",
      "\u001b[34m\u001b[1mtrain: \u001b[0mWARNING ⚠️ /Volumes/Cucumber/Projects/datasets/process/2025-06-11/sku110k-only-yolo/train/images/zoomed_train_7976.jpg: ignoring corrupt image/label: non-normalized or out of bounds coordinates [     1.0022]\n",
      "\u001b[34m\u001b[1mtrain: \u001b[0mWARNING ⚠️ /Volumes/Cucumber/Projects/datasets/process/2025-06-11/sku110k-only-yolo/train/images/zoomed_train_8000.jpg: ignoring corrupt image/label: non-normalized or out of bounds coordinates [     1.0076]\n",
      "\u001b[34m\u001b[1mtrain: \u001b[0mWARNING ⚠️ /Volumes/Cucumber/Projects/datasets/process/2025-06-11/sku110k-only-yolo/train/images/zoomed_train_8001.jpg: ignoring corrupt image/label: non-normalized or out of bounds coordinates [     1.0011]\n",
      "\u001b[34m\u001b[1mtrain: \u001b[0mWARNING ⚠️ /Volumes/Cucumber/Projects/datasets/process/2025-06-11/sku110k-only-yolo/train/images/zoomed_train_8017.jpg: ignoring corrupt image/label: non-normalized or out of bounds coordinates [     1.0211      1.0101]\n",
      "\u001b[34m\u001b[1mtrain: \u001b[0mWARNING ⚠️ /Volumes/Cucumber/Projects/datasets/process/2025-06-11/sku110k-only-yolo/train/images/zoomed_train_8051.jpg: ignoring corrupt image/label: negative label values [  -0.010532]\n",
      "\u001b[34m\u001b[1mtrain: \u001b[0mWARNING ⚠️ /Volumes/Cucumber/Projects/datasets/process/2025-06-11/sku110k-only-yolo/train/images/zoomed_train_8061.jpg: ignoring corrupt image/label: non-normalized or out of bounds coordinates [      1.007      1.0037      1.0037]\n",
      "\u001b[34m\u001b[1mtrain: \u001b[0mWARNING ⚠️ /Volumes/Cucumber/Projects/datasets/process/2025-06-11/sku110k-only-yolo/train/images/zoomed_train_8080.jpg: ignoring corrupt image/label: non-normalized or out of bounds coordinates [     1.0122]\n",
      "\u001b[34m\u001b[1mtrain: \u001b[0mWARNING ⚠️ /Volumes/Cucumber/Projects/datasets/process/2025-06-11/sku110k-only-yolo/train/images/zoomed_train_8104.jpg: ignoring corrupt image/label: non-normalized or out of bounds coordinates [     1.0042      1.0011]\n",
      "\u001b[34m\u001b[1mtrain: \u001b[0mWARNING ⚠️ /Volumes/Cucumber/Projects/datasets/process/2025-06-11/sku110k-only-yolo/train/images/zoomed_train_8112.jpg: ignoring corrupt image/label: non-normalized or out of bounds coordinates [     1.0415]\n",
      "\u001b[34m\u001b[1mtrain: \u001b[0mWARNING ⚠️ /Volumes/Cucumber/Projects/datasets/process/2025-06-11/sku110k-only-yolo/train/images/zoomed_train_8115.jpg: ignoring corrupt image/label: negative label values [  -0.010963]\n",
      "\u001b[34m\u001b[1mtrain: \u001b[0mWARNING ⚠️ /Volumes/Cucumber/Projects/datasets/process/2025-06-11/sku110k-only-yolo/train/images/zoomed_train_8129.jpg: ignoring corrupt image/label: negative label values [  -0.005569   -0.004455]\n",
      "\u001b[34m\u001b[1mtrain: \u001b[0mWARNING ⚠️ /Volumes/Cucumber/Projects/datasets/process/2025-06-11/sku110k-only-yolo/train/images/zoomed_train_8138.jpg: ignoring corrupt image/label: negative label values [  -0.008254   -0.007911]\n",
      "\u001b[34m\u001b[1mtrain: \u001b[0mWARNING ⚠️ /Volumes/Cucumber/Projects/datasets/process/2025-06-11/sku110k-only-yolo/train/images/zoomed_train_8152.jpg: ignoring corrupt image/label: negative label values [  -0.000264]\n",
      "\u001b[34m\u001b[1mtrain: \u001b[0mWARNING ⚠️ /Volumes/Cucumber/Projects/datasets/process/2025-06-11/sku110k-only-yolo/train/images/zoomed_train_8170.jpg: ignoring corrupt image/label: negative label values [  -0.028063   -0.035305]\n",
      "\u001b[34m\u001b[1mtrain: \u001b[0mWARNING ⚠️ /Volumes/Cucumber/Projects/datasets/process/2025-06-11/sku110k-only-yolo/train/images/zoomed_train_8178.jpg: ignoring corrupt image/label: non-normalized or out of bounds coordinates [     1.0117      1.0209      1.0277]\n",
      "\u001b[34m\u001b[1mtrain: \u001b[0mWARNING ⚠️ /Volumes/Cucumber/Projects/datasets/process/2025-06-11/sku110k-only-yolo/train/images/zoomed_train_8185.jpg: ignoring corrupt image/label: negative label values [  -0.007461]\n",
      "\u001b[34m\u001b[1mtrain: \u001b[0mWARNING ⚠️ /Volumes/Cucumber/Projects/datasets/process/2025-06-11/sku110k-only-yolo/train/images/zoomed_train_8189.jpg: ignoring corrupt image/label: negative label values [  -0.008143]\n",
      "\u001b[34m\u001b[1mtrain: \u001b[0mWARNING ⚠️ /Volumes/Cucumber/Projects/datasets/process/2025-06-11/sku110k-only-yolo/train/images/zoomed_train_8219.jpg: ignoring corrupt image/label: negative label values [  -0.013707]\n",
      "\u001b[34m\u001b[1mtrain: \u001b[0mWARNING ⚠️ /Volumes/Cucumber/Projects/datasets/process/2025-06-11/sku110k-only-yolo/train/images/zoomed_train_837.jpg: ignoring corrupt image/label: non-normalized or out of bounds coordinates [     1.0111      1.0011]\n",
      "\u001b[34m\u001b[1mtrain: \u001b[0mWARNING ⚠️ /Volumes/Cucumber/Projects/datasets/process/2025-06-11/sku110k-only-yolo/train/images/zoomed_train_849.jpg: ignoring corrupt image/label: non-normalized or out of bounds coordinates [     1.0013]\n",
      "\u001b[34m\u001b[1mtrain: \u001b[0mWARNING ⚠️ /Volumes/Cucumber/Projects/datasets/process/2025-06-11/sku110k-only-yolo/train/images/zoomed_train_864.jpg: ignoring corrupt image/label: non-normalized or out of bounds coordinates [     1.0304      1.0327      1.0235      1.0204      1.0307       1.023]\n",
      "\u001b[34m\u001b[1mtrain: \u001b[0mWARNING ⚠️ /Volumes/Cucumber/Projects/datasets/process/2025-06-11/sku110k-only-yolo/train/images/zoomed_train_865.jpg: ignoring corrupt image/label: negative label values [  -0.025488   -0.030585   -0.027448   -0.025488]\n",
      "\u001b[34m\u001b[1mtrain: \u001b[0mWARNING ⚠️ /Volumes/Cucumber/Projects/datasets/process/2025-06-11/sku110k-only-yolo/train/images/zoomed_train_866.jpg: ignoring corrupt image/label: negative label values [  -0.018167    -0.01796]\n",
      "\u001b[34m\u001b[1mtrain: \u001b[0mWARNING ⚠️ /Volumes/Cucumber/Projects/datasets/process/2025-06-11/sku110k-only-yolo/train/images/zoomed_train_877.jpg: ignoring corrupt image/label: negative label values [  -0.015439]\n",
      "\u001b[34m\u001b[1mtrain: \u001b[0mWARNING ⚠️ /Volumes/Cucumber/Projects/datasets/process/2025-06-11/sku110k-only-yolo/train/images/zoomed_train_88.jpg: ignoring corrupt image/label: non-normalized or out of bounds coordinates [     1.0179]\n",
      "\u001b[34m\u001b[1mtrain: \u001b[0mWARNING ⚠️ /Volumes/Cucumber/Projects/datasets/process/2025-06-11/sku110k-only-yolo/train/images/zoomed_train_901.jpg: ignoring corrupt image/label: negative label values [  -0.007057   -0.007763   -0.012174   -0.000706]\n",
      "\u001b[34m\u001b[1mtrain: \u001b[0mWARNING ⚠️ /Volumes/Cucumber/Projects/datasets/process/2025-06-11/sku110k-only-yolo/train/images/zoomed_train_941.jpg: ignoring corrupt image/label: non-normalized or out of bounds coordinates [     1.0185]\n",
      "\u001b[34m\u001b[1mtrain: \u001b[0mWARNING ⚠️ /Volumes/Cucumber/Projects/datasets/process/2025-06-11/sku110k-only-yolo/train/images/zoomed_train_961.jpg: ignoring corrupt image/label: non-normalized or out of bounds coordinates [     1.0003      1.0115]\n",
      "\u001b[34m\u001b[1mtrain: \u001b[0mWARNING ⚠️ /Volumes/Cucumber/Projects/datasets/process/2025-06-11/sku110k-only-yolo/train/images/zoomed_train_999.jpg: ignoring corrupt image/label: non-normalized or out of bounds coordinates [     1.0033]\n"
     ]
    },
    {
     "name": "stderr",
     "output_type": "stream",
     "text": [
      "\n",
      "/Volumes/Cucumber/Projects/item-identification/.venv/lib/python3.9/site-packages/tqdm/auto.py:21: TqdmWarning: IProgress not found. Please update jupyter and ipywidgets. See https://ipywidgets.readthedocs.io/en/stable/user_install.html\n",
      "  from .autonotebook import tqdm as notebook_tqdm\n"
     ]
    },
    {
     "name": "stdout",
     "output_type": "stream",
     "text": [
      "\u001b[34m\u001b[1malbumentations: \u001b[0mBlur(p=0.01, blur_limit=(3, 7)), MedianBlur(p=0.01, blur_limit=(3, 7)), ToGray(p=0.01, method='weighted_average', num_output_channels=3), CLAHE(p=0.01, clip_limit=(1.0, 4.0), tile_grid_size=(8, 8))\n",
      "\u001b[34m\u001b[1mval: \u001b[0mFast image access ✅ (ping: 0.0±0.0 ms, read: 242.4±63.1 MB/s, size: 94.7 KB)\n"
     ]
    },
    {
     "name": "stderr",
     "output_type": "stream",
     "text": [
      "\u001b[34m\u001b[1mval: \u001b[0mScanning /Volumes/Cucumber/Projects/datasets/process/2025-06-11/sku110k-only-yolo/val/labels.cache... 30 images, 0 backgrounds, 14 corrupt: 100%|██████████| 30/30 [00:00<?, ?it/s]"
     ]
    },
    {
     "name": "stdout",
     "output_type": "stream",
     "text": [
      "\u001b[34m\u001b[1mval: \u001b[0mWARNING ⚠️ /Volumes/Cucumber/Projects/datasets/process/2025-06-11/sku110k-only-yolo/val/images/07f039cd2d5c79a959debfdcebf38457.jpeg: ignoring corrupt image/label: non-normalized or out of bounds coordinates [     1.0156       1.014      1.0197      1.0229      1.0213]\n",
      "\u001b[34m\u001b[1mval: \u001b[0mWARNING ⚠️ /Volumes/Cucumber/Projects/datasets/process/2025-06-11/sku110k-only-yolo/val/images/1c67c82cf4d2c85d9f249004147f4588.jpeg: ignoring corrupt image/label: non-normalized or out of bounds coordinates [     1.1619      1.1206       1.119      1.1214      1.1324      1.1229      1.1174]\n",
      "\u001b[34m\u001b[1mval: \u001b[0mWARNING ⚠️ /Volumes/Cucumber/Projects/datasets/process/2025-06-11/sku110k-only-yolo/val/images/2592b7c412acf97e276f48466210a245.jpeg: ignoring corrupt image/label: non-normalized or out of bounds coordinates [     1.2708      1.2659      1.2724      1.2651      1.2684      1.2692      1.2724      1.2467]\n",
      "\u001b[34m\u001b[1mval: \u001b[0mWARNING ⚠️ /Volumes/Cucumber/Projects/datasets/process/2025-06-11/sku110k-only-yolo/val/images/4b382f66297e8fa37e7b0f7cbde77c43.jpeg: ignoring corrupt image/label: non-normalized or out of bounds coordinates [     1.2379      1.2435      1.2411      1.2427      1.2098      1.0397      1.0493      1.0566      1.2282]\n",
      "\u001b[34m\u001b[1mval: \u001b[0mWARNING ⚠️ /Volumes/Cucumber/Projects/datasets/process/2025-06-11/sku110k-only-yolo/val/images/4c5ad252fd2313b52753659c8b59159d.jpeg: ignoring corrupt image/label: non-normalized or out of bounds coordinates [     1.1825      1.1857      1.1817      1.1905      1.1937]\n",
      "\u001b[34m\u001b[1mval: \u001b[0mWARNING ⚠️ /Volumes/Cucumber/Projects/datasets/process/2025-06-11/sku110k-only-yolo/val/images/58a8d05dfdafe06cc11206902a9aca0a.jpeg: ignoring corrupt image/label: non-normalized or out of bounds coordinates [     1.2339      1.2331      1.2531      1.2587      1.0935      1.0943      1.2419      1.2507      1.0951]\n",
      "\u001b[34m\u001b[1mval: \u001b[0mWARNING ⚠️ /Volumes/Cucumber/Projects/datasets/process/2025-06-11/sku110k-only-yolo/val/images/7ffec400e2f263f2048b09db55288275.jpeg: ignoring corrupt image/label: non-normalized or out of bounds coordinates [     1.2106      1.2459      1.2379      1.1953      1.0461      1.0108      1.0493]\n",
      "\u001b[34m\u001b[1mval: \u001b[0mWARNING ⚠️ /Volumes/Cucumber/Projects/datasets/process/2025-06-11/sku110k-only-yolo/val/images/8867372607447f667f07cf333fcf2403.jpeg: ignoring corrupt image/label: non-normalized or out of bounds coordinates [     1.1103      1.2692      1.2387      1.2796      1.2756      1.1504      1.2435      1.1095      1.0999      1.0991      1.2708]\n",
      "\u001b[34m\u001b[1mval: \u001b[0mWARNING ⚠️ /Volumes/Cucumber/Projects/datasets/process/2025-06-11/sku110k-only-yolo/val/images/96f31a84b0e003745ebdb6ac0a24a505.jpeg: ignoring corrupt image/label: non-normalized or out of bounds coordinates [     1.2506      1.2506      1.2514      1.2482      1.2427]\n",
      "\u001b[34m\u001b[1mval: \u001b[0mWARNING ⚠️ /Volumes/Cucumber/Projects/datasets/process/2025-06-11/sku110k-only-yolo/val/images/a11e43ae2427af79a499374a52f67d03.jpeg: ignoring corrupt image/label: non-normalized or out of bounds coordinates [     1.1953      1.1921      1.2202      1.0638      1.0501]\n",
      "\u001b[34m\u001b[1mval: \u001b[0mWARNING ⚠️ /Volumes/Cucumber/Projects/datasets/process/2025-06-11/sku110k-only-yolo/val/images/a5b3307678af99eb5fc9a2553ac31a96.jpeg: ignoring corrupt image/label: non-normalized or out of bounds coordinates [      1.063      1.0726      1.0726]\n",
      "\u001b[34m\u001b[1mval: \u001b[0mWARNING ⚠️ /Volumes/Cucumber/Projects/datasets/process/2025-06-11/sku110k-only-yolo/val/images/b31de5dbe4359be58801c4f5d97ff746.jpeg: ignoring corrupt image/label: non-normalized or out of bounds coordinates [     1.2355      1.2322      1.2314      1.2218      1.2226]\n",
      "\u001b[34m\u001b[1mval: \u001b[0mWARNING ⚠️ /Volumes/Cucumber/Projects/datasets/process/2025-06-11/sku110k-only-yolo/val/images/d06660c699ce188fe6bfbc1b119443f1.jpeg: ignoring corrupt image/label: non-normalized or out of bounds coordinates [     1.2643      1.1127      1.1978]\n",
      "\u001b[34m\u001b[1mval: \u001b[0mWARNING ⚠️ /Volumes/Cucumber/Projects/datasets/process/2025-06-11/sku110k-only-yolo/val/images/e9c146a585178c98ad71f7cc8b288112.jpeg: ignoring corrupt image/label: non-normalized or out of bounds coordinates [     1.2635      1.2595      1.2499      1.2563]\n",
      "Plotting labels to /Volumes/Cucumber/Projects/item-identification/runs/detect/finetune-v113/labels.jpg... \n"
     ]
    },
    {
     "name": "stderr",
     "output_type": "stream",
     "text": [
      "\n"
     ]
    },
    {
     "name": "stdout",
     "output_type": "stream",
     "text": [
      "\u001b[34m\u001b[1moptimizer:\u001b[0m 'optimizer=auto' found, ignoring 'lr0=0.01' and 'momentum=0.937' and determining best 'optimizer', 'lr0' and 'momentum' automatically... \n",
      "\u001b[34m\u001b[1moptimizer:\u001b[0m AdamW(lr=0.002, momentum=0.9) with parameter groups 81 weight(decay=0.0), 88 weight(decay=0.0005), 87 bias(decay=0.0)\n"
     ]
    },
    {
     "name": "stderr",
     "output_type": "stream",
     "text": [
      "2025/06/11 14:07:33 WARNING mlflow.utils.autologging_utils: MLflow keras autologging is known to be compatible with 3.0.2 <= keras <= 3.8.0, but the installed version is 3.9.2. If you encounter errors during autologging, try upgrading / downgrading keras to a compatible version, or try upgrading MLflow.\n",
      "2025/06/11 14:07:33 INFO mlflow.tracking.fluent: Autologging successfully enabled for keras.\n",
      "2025/06/11 14:07:33 INFO mlflow.tracking.fluent: Autologging successfully enabled for sklearn.\n",
      "2025/06/11 14:07:33 WARNING mlflow.utils.autologging_utils: MLflow tensorflow autologging is known to be compatible with 2.7.4 <= tensorflow <= 2.18.0, but the installed version is 2.18.1. If you encounter errors during autologging, try upgrading / downgrading tensorflow to a compatible version, or try upgrading MLflow.\n",
      "2025/06/11 14:07:33 INFO mlflow.tracking.fluent: Autologging successfully enabled for tensorflow.\n"
     ]
    },
    {
     "name": "stdout",
     "output_type": "stream",
     "text": [
      "\u001b[34m\u001b[1mMLflow: \u001b[0mlogging run_id(c06c44932cc14d9c835bdcfd6075ac2e) to http://jimica.ddns.net:5050\n",
      "\u001b[34m\u001b[1mMLflow: \u001b[0mdisable with 'yolo settings mlflow=False'\n",
      "\u001b[34m\u001b[1mTensorBoard: \u001b[0mmodel graph visualization added ✅\n",
      "Image sizes 640 train, 640 val\n",
      "Using 0 dataloader workers\n",
      "Logging results to \u001b[1m/Volumes/Cucumber/Projects/item-identification/runs/detect/finetune-v113\u001b[0m\n",
      "Starting training for 32 epochs...\n",
      "\n",
      "      Epoch    GPU_mem   box_loss   cls_loss   dfl_loss  Instances       Size\n"
     ]
    },
    {
     "name": "stderr",
     "output_type": "stream",
     "text": [
      "       1/32         0G          2      2.867        1.5         63        640: 100%|██████████| 64/64 [00:38<00:00,  1.68it/s]\n",
      "                 Class     Images  Instances      Box(P          R      mAP50  mAP50-95): 100%|██████████| 2/2 [00:00<00:00,  2.36it/s]"
     ]
    },
    {
     "name": "stdout",
     "output_type": "stream",
     "text": [
      "                   all         16        391       0.67      0.517      0.553      0.173\n",
      "\n",
      "      Epoch    GPU_mem   box_loss   cls_loss   dfl_loss  Instances       Size\n"
     ]
    },
    {
     "name": "stderr",
     "output_type": "stream",
     "text": [
      "\n",
      "       2/32         0G      1.946      1.862      1.377        239        640: 100%|██████████| 64/64 [00:36<00:00,  1.75it/s]\n",
      "                 Class     Images  Instances      Box(P          R      mAP50  mAP50-95): 100%|██████████| 2/2 [00:00<00:00,  2.76it/s]"
     ]
    },
    {
     "name": "stdout",
     "output_type": "stream",
     "text": [
      "                   all         16        391       0.66      0.614      0.634      0.241\n"
     ]
    },
    {
     "name": "stderr",
     "output_type": "stream",
     "text": [
      "\n"
     ]
    },
    {
     "name": "stdout",
     "output_type": "stream",
     "text": [
      "\n",
      "      Epoch    GPU_mem   box_loss   cls_loss   dfl_loss  Instances       Size\n"
     ]
    },
    {
     "name": "stderr",
     "output_type": "stream",
     "text": [
      "       3/32         0G      1.887      1.533      1.409        231        640: 100%|██████████| 64/64 [00:37<00:00,  1.71it/s]\n",
      "                 Class     Images  Instances      Box(P          R      mAP50  mAP50-95): 100%|██████████| 2/2 [00:00<00:00,  2.60it/s]"
     ]
    },
    {
     "name": "stdout",
     "output_type": "stream",
     "text": [
      "                   all         16        391      0.309      0.557      0.273      0.105\n",
      "\n",
      "      Epoch    GPU_mem   box_loss   cls_loss   dfl_loss  Instances       Size\n"
     ]
    },
    {
     "name": "stderr",
     "output_type": "stream",
     "text": [
      "\n",
      "       4/32         0G      1.837      1.444      1.391        106        640: 100%|██████████| 64/64 [00:36<00:00,  1.73it/s]\n",
      "                 Class     Images  Instances      Box(P          R      mAP50  mAP50-95): 100%|██████████| 2/2 [00:00<00:00,  2.68it/s]"
     ]
    },
    {
     "name": "stdout",
     "output_type": "stream",
     "text": [
      "                   all         16        391      0.421      0.552      0.417      0.177\n",
      "\n",
      "      Epoch    GPU_mem   box_loss   cls_loss   dfl_loss  Instances       Size\n"
     ]
    },
    {
     "name": "stderr",
     "output_type": "stream",
     "text": [
      "\n",
      "       5/32         0G      1.794      1.367      1.377         68        640: 100%|██████████| 64/64 [00:36<00:00,  1.75it/s]\n",
      "                 Class     Images  Instances      Box(P          R      mAP50  mAP50-95): 100%|██████████| 2/2 [00:00<00:00,  2.84it/s]"
     ]
    },
    {
     "name": "stdout",
     "output_type": "stream",
     "text": [
      "                   all         16        391      0.546      0.668      0.581       0.23\n",
      "\n",
      "      Epoch    GPU_mem   box_loss   cls_loss   dfl_loss  Instances       Size\n"
     ]
    },
    {
     "name": "stderr",
     "output_type": "stream",
     "text": [
      "\n",
      "       6/32         0G       1.77      1.319      1.337         89        640: 100%|██████████| 64/64 [00:36<00:00,  1.74it/s]\n",
      "                 Class     Images  Instances      Box(P          R      mAP50  mAP50-95): 100%|██████████| 2/2 [00:00<00:00,  2.87it/s]"
     ]
    },
    {
     "name": "stdout",
     "output_type": "stream",
     "text": [
      "                   all         16        391      0.742      0.655      0.733      0.304\n",
      "\n",
      "      Epoch    GPU_mem   box_loss   cls_loss   dfl_loss  Instances       Size\n"
     ]
    },
    {
     "name": "stderr",
     "output_type": "stream",
     "text": [
      "\n",
      "       7/32         0G      1.752      1.314       1.33        159        640: 100%|██████████| 64/64 [00:37<00:00,  1.72it/s]\n",
      "                 Class     Images  Instances      Box(P          R      mAP50  mAP50-95): 100%|██████████| 2/2 [00:00<00:00,  2.78it/s]"
     ]
    },
    {
     "name": "stdout",
     "output_type": "stream",
     "text": [
      "                   all         16        391       0.69      0.611      0.671      0.298\n",
      "\n",
      "      Epoch    GPU_mem   box_loss   cls_loss   dfl_loss  Instances       Size\n"
     ]
    },
    {
     "name": "stderr",
     "output_type": "stream",
     "text": [
      "\n",
      "       8/32         0G      1.681      1.227      1.305         65        640: 100%|██████████| 64/64 [00:36<00:00,  1.75it/s]\n",
      "                 Class     Images  Instances      Box(P          R      mAP50  mAP50-95): 100%|██████████| 2/2 [00:00<00:00,  2.74it/s]"
     ]
    },
    {
     "name": "stdout",
     "output_type": "stream",
     "text": [
      "                   all         16        391       0.69      0.675      0.704      0.312\n",
      "\n",
      "      Epoch    GPU_mem   box_loss   cls_loss   dfl_loss  Instances       Size\n"
     ]
    },
    {
     "name": "stderr",
     "output_type": "stream",
     "text": [
      "\n",
      "       9/32         0G      1.665      1.196      1.278         82        640: 100%|██████████| 64/64 [00:36<00:00,  1.75it/s]\n",
      "                 Class     Images  Instances      Box(P          R      mAP50  mAP50-95): 100%|██████████| 2/2 [00:00<00:00,  2.65it/s]"
     ]
    },
    {
     "name": "stdout",
     "output_type": "stream",
     "text": [
      "                   all         16        391      0.761      0.628      0.701      0.313\n",
      "\n",
      "      Epoch    GPU_mem   box_loss   cls_loss   dfl_loss  Instances       Size\n"
     ]
    },
    {
     "name": "stderr",
     "output_type": "stream",
     "text": [
      "\n",
      "      10/32         0G      1.636      1.213      1.261         70        640: 100%|██████████| 64/64 [00:36<00:00,  1.75it/s]\n",
      "                 Class     Images  Instances      Box(P          R      mAP50  mAP50-95): 100%|██████████| 2/2 [00:00<00:00,  2.80it/s]"
     ]
    },
    {
     "name": "stdout",
     "output_type": "stream",
     "text": [
      "                   all         16        391      0.836      0.752      0.828      0.416\n",
      "\n",
      "      Epoch    GPU_mem   box_loss   cls_loss   dfl_loss  Instances       Size\n"
     ]
    },
    {
     "name": "stderr",
     "output_type": "stream",
     "text": [
      "\n",
      "      11/32         0G      1.612      1.195      1.282        190        640: 100%|██████████| 64/64 [00:37<00:00,  1.72it/s]\n",
      "                 Class     Images  Instances      Box(P          R      mAP50  mAP50-95): 100%|██████████| 2/2 [00:00<00:00,  2.72it/s]"
     ]
    },
    {
     "name": "stdout",
     "output_type": "stream",
     "text": [
      "                   all         16        391      0.814      0.784       0.82      0.423\n",
      "\n",
      "      Epoch    GPU_mem   box_loss   cls_loss   dfl_loss  Instances       Size\n"
     ]
    },
    {
     "name": "stderr",
     "output_type": "stream",
     "text": [
      "\n",
      "      12/32         0G      1.632      1.153      1.268        178        640: 100%|██████████| 64/64 [00:36<00:00,  1.74it/s]\n",
      "                 Class     Images  Instances      Box(P          R      mAP50  mAP50-95): 100%|██████████| 2/2 [00:00<00:00,  2.85it/s]"
     ]
    },
    {
     "name": "stdout",
     "output_type": "stream",
     "text": [
      "                   all         16        391      0.786      0.734      0.794      0.378\n",
      "\n",
      "      Epoch    GPU_mem   box_loss   cls_loss   dfl_loss  Instances       Size\n"
     ]
    },
    {
     "name": "stderr",
     "output_type": "stream",
     "text": [
      "\n",
      "      13/32         0G      1.602       1.13      1.248        351        640: 100%|██████████| 64/64 [00:36<00:00,  1.76it/s]\n",
      "                 Class     Images  Instances      Box(P          R      mAP50  mAP50-95): 100%|██████████| 2/2 [00:00<00:00,  2.92it/s]"
     ]
    },
    {
     "name": "stdout",
     "output_type": "stream",
     "text": [
      "                   all         16        391      0.765      0.762      0.799      0.429\n",
      "\n",
      "      Epoch    GPU_mem   box_loss   cls_loss   dfl_loss  Instances       Size\n"
     ]
    },
    {
     "name": "stderr",
     "output_type": "stream",
     "text": [
      "\n",
      "      14/32         0G      1.601       1.13      1.264        115        640: 100%|██████████| 64/64 [00:36<00:00,  1.77it/s]\n",
      "                 Class     Images  Instances      Box(P          R      mAP50  mAP50-95): 100%|██████████| 2/2 [00:00<00:00,  2.96it/s]"
     ]
    },
    {
     "name": "stdout",
     "output_type": "stream",
     "text": [
      "                   all         16        391      0.808      0.726      0.787      0.404\n",
      "\n",
      "      Epoch    GPU_mem   box_loss   cls_loss   dfl_loss  Instances       Size\n"
     ]
    },
    {
     "name": "stderr",
     "output_type": "stream",
     "text": [
      "\n",
      "      15/32         0G      1.574      1.116      1.254         66        640: 100%|██████████| 64/64 [00:35<00:00,  1.78it/s]\n",
      "                 Class     Images  Instances      Box(P          R      mAP50  mAP50-95): 100%|██████████| 2/2 [00:00<00:00,  2.75it/s]"
     ]
    },
    {
     "name": "stdout",
     "output_type": "stream",
     "text": [
      "                   all         16        391      0.834      0.744      0.818      0.422\n",
      "\n",
      "      Epoch    GPU_mem   box_loss   cls_loss   dfl_loss  Instances       Size\n"
     ]
    },
    {
     "name": "stderr",
     "output_type": "stream",
     "text": [
      "\n",
      "      16/32         0G      1.619      1.121      1.265         65        640: 100%|██████████| 64/64 [00:37<00:00,  1.70it/s]\n",
      "                 Class     Images  Instances      Box(P          R      mAP50  mAP50-95): 100%|██████████| 2/2 [00:00<00:00,  2.78it/s]"
     ]
    },
    {
     "name": "stdout",
     "output_type": "stream",
     "text": [
      "                   all         16        391      0.824      0.754       0.83      0.411\n",
      "\n",
      "      Epoch    GPU_mem   box_loss   cls_loss   dfl_loss  Instances       Size\n"
     ]
    },
    {
     "name": "stderr",
     "output_type": "stream",
     "text": [
      "\n",
      "      17/32         0G      1.595      1.084       1.26         92        640: 100%|██████████| 64/64 [00:36<00:00,  1.75it/s]\n",
      "                 Class     Images  Instances      Box(P          R      mAP50  mAP50-95): 100%|██████████| 2/2 [00:00<00:00,  2.81it/s]"
     ]
    },
    {
     "name": "stdout",
     "output_type": "stream",
     "text": [
      "                   all         16        391      0.748      0.752      0.799       0.38\n"
     ]
    },
    {
     "name": "stderr",
     "output_type": "stream",
     "text": [
      "\n"
     ]
    },
    {
     "name": "stdout",
     "output_type": "stream",
     "text": [
      "\n",
      "      Epoch    GPU_mem   box_loss   cls_loss   dfl_loss  Instances       Size\n"
     ]
    },
    {
     "name": "stderr",
     "output_type": "stream",
     "text": [
      "      18/32         0G      1.608      1.091      1.239        105        640: 100%|██████████| 64/64 [00:36<00:00,  1.76it/s]\n",
      "                 Class     Images  Instances      Box(P          R      mAP50  mAP50-95): 100%|██████████| 2/2 [00:00<00:00,  2.84it/s]"
     ]
    },
    {
     "name": "stdout",
     "output_type": "stream",
     "text": [
      "                   all         16        391      0.828      0.793      0.834      0.423\n",
      "\n",
      "      Epoch    GPU_mem   box_loss   cls_loss   dfl_loss  Instances       Size\n"
     ]
    },
    {
     "name": "stderr",
     "output_type": "stream",
     "text": [
      "\n",
      "      19/32         0G      1.589      1.065       1.25        129        640: 100%|██████████| 64/64 [00:36<00:00,  1.77it/s]\n",
      "                 Class     Images  Instances      Box(P          R      mAP50  mAP50-95): 100%|██████████| 2/2 [00:00<00:00,  2.74it/s]"
     ]
    },
    {
     "name": "stdout",
     "output_type": "stream",
     "text": [
      "                   all         16        391      0.814      0.737      0.817      0.395\n",
      "\n",
      "      Epoch    GPU_mem   box_loss   cls_loss   dfl_loss  Instances       Size\n"
     ]
    },
    {
     "name": "stderr",
     "output_type": "stream",
     "text": [
      "\n",
      "      20/32         0G      1.593      1.096      1.245         20        640: 100%|██████████| 64/64 [00:37<00:00,  1.72it/s]\n",
      "                 Class     Images  Instances      Box(P          R      mAP50  mAP50-95): 100%|██████████| 2/2 [00:00<00:00,  2.77it/s]"
     ]
    },
    {
     "name": "stdout",
     "output_type": "stream",
     "text": [
      "                   all         16        391      0.828      0.777      0.831      0.426\n",
      "\n",
      "      Epoch    GPU_mem   box_loss   cls_loss   dfl_loss  Instances       Size\n"
     ]
    },
    {
     "name": "stderr",
     "output_type": "stream",
     "text": [
      "\n",
      "      21/32         0G      1.539      1.048      1.237        113        640: 100%|██████████| 64/64 [00:36<00:00,  1.77it/s]\n",
      "                 Class     Images  Instances      Box(P          R      mAP50  mAP50-95): 100%|██████████| 2/2 [00:00<00:00,  2.83it/s]"
     ]
    },
    {
     "name": "stdout",
     "output_type": "stream",
     "text": [
      "                   all         16        391       0.79       0.78      0.805       0.42\n",
      "\n",
      "      Epoch    GPU_mem   box_loss   cls_loss   dfl_loss  Instances       Size\n"
     ]
    },
    {
     "name": "stderr",
     "output_type": "stream",
     "text": [
      "\n",
      "      22/32         0G      1.571      1.039      1.224         28        640: 100%|██████████| 64/64 [00:37<00:00,  1.72it/s]\n",
      "                 Class     Images  Instances      Box(P          R      mAP50  mAP50-95): 100%|██████████| 2/2 [00:00<00:00,  2.87it/s]"
     ]
    },
    {
     "name": "stdout",
     "output_type": "stream",
     "text": [
      "                   all         16        391       0.84      0.788      0.839       0.44\n",
      "Closing dataloader mosaic\n",
      "\u001b[34m\u001b[1malbumentations: \u001b[0mBlur(p=0.01, blur_limit=(3, 7)), MedianBlur(p=0.01, blur_limit=(3, 7)), ToGray(p=0.01, method='weighted_average', num_output_channels=3), CLAHE(p=0.01, clip_limit=(1.0, 4.0), tile_grid_size=(8, 8))\n",
      "\n",
      "      Epoch    GPU_mem   box_loss   cls_loss   dfl_loss  Instances       Size\n"
     ]
    },
    {
     "name": "stderr",
     "output_type": "stream",
     "text": [
      "\n",
      "      23/32         0G      1.509      1.142      1.217        283        640: 100%|██████████| 64/64 [00:35<00:00,  1.81it/s]\n",
      "                 Class     Images  Instances      Box(P          R      mAP50  mAP50-95): 100%|██████████| 2/2 [00:00<00:00,  2.59it/s]"
     ]
    },
    {
     "name": "stdout",
     "output_type": "stream",
     "text": [
      "                   all         16        391      0.792      0.752      0.794      0.417\n",
      "\n",
      "      Epoch    GPU_mem   box_loss   cls_loss   dfl_loss  Instances       Size\n"
     ]
    },
    {
     "name": "stderr",
     "output_type": "stream",
     "text": [
      "\n",
      "      24/32         0G       1.49      1.131       1.21         41        640: 100%|██████████| 64/64 [00:36<00:00,  1.75it/s]\n",
      "                 Class     Images  Instances      Box(P          R      mAP50  mAP50-95): 100%|██████████| 2/2 [00:00<00:00,  2.48it/s]"
     ]
    },
    {
     "name": "stdout",
     "output_type": "stream",
     "text": [
      "                   all         16        391      0.777      0.757       0.79      0.426\n",
      "\n",
      "      Epoch    GPU_mem   box_loss   cls_loss   dfl_loss  Instances       Size\n"
     ]
    },
    {
     "name": "stderr",
     "output_type": "stream",
     "text": [
      "\n",
      "      25/32         0G      1.498      1.117      1.219         86        640: 100%|██████████| 64/64 [00:36<00:00,  1.75it/s]\n",
      "                 Class     Images  Instances      Box(P          R      mAP50  mAP50-95): 100%|██████████| 2/2 [00:00<00:00,  2.62it/s]"
     ]
    },
    {
     "name": "stdout",
     "output_type": "stream",
     "text": [
      "                   all         16        391      0.776      0.726      0.789      0.425\n",
      "\n",
      "      Epoch    GPU_mem   box_loss   cls_loss   dfl_loss  Instances       Size\n"
     ]
    },
    {
     "name": "stderr",
     "output_type": "stream",
     "text": [
      "\n",
      "      26/32         0G      1.464      1.048      1.214         30        640: 100%|██████████| 64/64 [00:34<00:00,  1.84it/s]\n",
      "                 Class     Images  Instances      Box(P          R      mAP50  mAP50-95): 100%|██████████| 2/2 [00:00<00:00,  2.80it/s]"
     ]
    },
    {
     "name": "stdout",
     "output_type": "stream",
     "text": [
      "                   all         16        391      0.774       0.79      0.818      0.414\n",
      "\n",
      "      Epoch    GPU_mem   box_loss   cls_loss   dfl_loss  Instances       Size\n"
     ]
    },
    {
     "name": "stderr",
     "output_type": "stream",
     "text": [
      "\n",
      "      27/32         0G      1.469       1.04      1.201         72        640: 100%|██████████| 64/64 [00:34<00:00,  1.86it/s]\n",
      "                 Class     Images  Instances      Box(P          R      mAP50  mAP50-95): 100%|██████████| 2/2 [00:00<00:00,  2.79it/s]"
     ]
    },
    {
     "name": "stdout",
     "output_type": "stream",
     "text": [
      "                   all         16        391       0.84      0.753      0.827      0.431\n",
      "\n",
      "      Epoch    GPU_mem   box_loss   cls_loss   dfl_loss  Instances       Size\n"
     ]
    },
    {
     "name": "stderr",
     "output_type": "stream",
     "text": [
      "\n",
      "      28/32         0G      1.441     0.9784      1.182         50        640: 100%|██████████| 64/64 [00:34<00:00,  1.86it/s]\n",
      "                 Class     Images  Instances      Box(P          R      mAP50  mAP50-95): 100%|██████████| 2/2 [00:00<00:00,  2.84it/s]"
     ]
    },
    {
     "name": "stdout",
     "output_type": "stream",
     "text": [
      "                   all         16        391      0.809      0.826      0.836      0.442\n",
      "\n",
      "      Epoch    GPU_mem   box_loss   cls_loss   dfl_loss  Instances       Size\n"
     ]
    },
    {
     "name": "stderr",
     "output_type": "stream",
     "text": [
      "\n",
      "      29/32         0G      1.451      1.003      1.184         54        640: 100%|██████████| 64/64 [00:34<00:00,  1.86it/s]\n",
      "                 Class     Images  Instances      Box(P          R      mAP50  mAP50-95): 100%|██████████| 2/2 [00:00<00:00,  2.63it/s]"
     ]
    },
    {
     "name": "stdout",
     "output_type": "stream",
     "text": [
      "                   all         16        391      0.805      0.777      0.814      0.441\n",
      "\n",
      "      Epoch    GPU_mem   box_loss   cls_loss   dfl_loss  Instances       Size\n"
     ]
    },
    {
     "name": "stderr",
     "output_type": "stream",
     "text": [
      "\n",
      "      30/32         0G      1.451     0.9708      1.173         29        640: 100%|██████████| 64/64 [00:34<00:00,  1.86it/s]\n",
      "                 Class     Images  Instances      Box(P          R      mAP50  mAP50-95): 100%|██████████| 2/2 [00:00<00:00,  2.75it/s]"
     ]
    },
    {
     "name": "stdout",
     "output_type": "stream",
     "text": [
      "                   all         16        391      0.804      0.829      0.836      0.447\n",
      "\n",
      "      Epoch    GPU_mem   box_loss   cls_loss   dfl_loss  Instances       Size\n"
     ]
    },
    {
     "name": "stderr",
     "output_type": "stream",
     "text": [
      "\n",
      "      31/32         0G       1.44     0.9751      1.171         36        640: 100%|██████████| 64/64 [00:34<00:00,  1.84it/s]\n",
      "                 Class     Images  Instances      Box(P          R      mAP50  mAP50-95): 100%|██████████| 2/2 [00:00<00:00,  2.74it/s]"
     ]
    },
    {
     "name": "stdout",
     "output_type": "stream",
     "text": [
      "                   all         16        391      0.842      0.801      0.838      0.435\n",
      "\n",
      "      Epoch    GPU_mem   box_loss   cls_loss   dfl_loss  Instances       Size\n"
     ]
    },
    {
     "name": "stderr",
     "output_type": "stream",
     "text": [
      "\n",
      "      32/32         0G      1.444     0.9764      1.182         34        640: 100%|██████████| 64/64 [00:34<00:00,  1.86it/s]\n",
      "                 Class     Images  Instances      Box(P          R      mAP50  mAP50-95): 100%|██████████| 2/2 [00:00<00:00,  2.82it/s]"
     ]
    },
    {
     "name": "stdout",
     "output_type": "stream",
     "text": [
      "                   all         16        391      0.838      0.806      0.834      0.439\n"
     ]
    },
    {
     "name": "stderr",
     "output_type": "stream",
     "text": [
      "\n"
     ]
    },
    {
     "name": "stdout",
     "output_type": "stream",
     "text": [
      "\n",
      "32 epochs completed in 0.330 hours.\n",
      "Optimizer stripped from /Volumes/Cucumber/Projects/item-identification/runs/detect/finetune-v113/weights/last.pt, 5.5MB\n",
      "Optimizer stripped from /Volumes/Cucumber/Projects/item-identification/runs/detect/finetune-v113/weights/best.pt, 5.5MB\n",
      "\n",
      "Validating /Volumes/Cucumber/Projects/item-identification/runs/detect/finetune-v113/weights/best.pt...\n",
      "Ultralytics 8.3.111 🚀 Python-3.9.6 torch-2.6.0 CPU (Apple M4)\n",
      "YOLO11n summary (fused): 100 layers, 2,582,347 parameters, 0 gradients, 6.3 GFLOPs\n"
     ]
    },
    {
     "name": "stderr",
     "output_type": "stream",
     "text": [
      "                 Class     Images  Instances      Box(P          R      mAP50  mAP50-95): 100%|██████████| 2/2 [00:01<00:00,  1.41it/s]\n"
     ]
    },
    {
     "name": "stdout",
     "output_type": "stream",
     "text": [
      "                   all         16        391      0.783      0.823      0.839      0.461\n",
      "Speed: 0.3ms preprocess, 72.3ms inference, 0.0ms loss, 11.8ms postprocess per image\n",
      "Results saved to \u001b[1m/Volumes/Cucumber/Projects/item-identification/runs/detect/finetune-v113\u001b[0m\n",
      "🏃 View run finetune-v113 at: http://jimica.ddns.net:5050/#/experiments/281934436878643381/runs/c06c44932cc14d9c835bdcfd6075ac2e\n",
      "🧪 View experiment at: http://jimica.ddns.net:5050/#/experiments/281934436878643381\n",
      "\u001b[34m\u001b[1mMLflow: \u001b[0mresults logged to http://jimica.ddns.net:5050\n",
      "\u001b[34m\u001b[1mMLflow: \u001b[0mdisable with 'yolo settings mlflow=False'\n"
     ]
    },
    {
     "data": {
      "text/plain": [
       "ultralytics.utils.metrics.DetMetrics object with attributes:\n",
       "\n",
       "ap_class_index: array([0])\n",
       "box: ultralytics.utils.metrics.Metric object\n",
       "confusion_matrix: <ultralytics.utils.metrics.ConfusionMatrix object at 0x146470430>\n",
       "curves: ['Precision-Recall(B)', 'F1-Confidence(B)', 'Precision-Confidence(B)', 'Recall-Confidence(B)']\n",
       "curves_results: [[array([          0,    0.001001,    0.002002,    0.003003,    0.004004,    0.005005,    0.006006,    0.007007,    0.008008,    0.009009,     0.01001,    0.011011,    0.012012,    0.013013,    0.014014,    0.015015,    0.016016,    0.017017,    0.018018,    0.019019,     0.02002,    0.021021,    0.022022,    0.023023,\n",
       "          0.024024,    0.025025,    0.026026,    0.027027,    0.028028,    0.029029,     0.03003,    0.031031,    0.032032,    0.033033,    0.034034,    0.035035,    0.036036,    0.037037,    0.038038,    0.039039,     0.04004,    0.041041,    0.042042,    0.043043,    0.044044,    0.045045,    0.046046,    0.047047,\n",
       "          0.048048,    0.049049,     0.05005,    0.051051,    0.052052,    0.053053,    0.054054,    0.055055,    0.056056,    0.057057,    0.058058,    0.059059,     0.06006,    0.061061,    0.062062,    0.063063,    0.064064,    0.065065,    0.066066,    0.067067,    0.068068,    0.069069,     0.07007,    0.071071,\n",
       "          0.072072,    0.073073,    0.074074,    0.075075,    0.076076,    0.077077,    0.078078,    0.079079,     0.08008,    0.081081,    0.082082,    0.083083,    0.084084,    0.085085,    0.086086,    0.087087,    0.088088,    0.089089,     0.09009,    0.091091,    0.092092,    0.093093,    0.094094,    0.095095,\n",
       "          0.096096,    0.097097,    0.098098,    0.099099,      0.1001,      0.1011,      0.1021,      0.1031,      0.1041,     0.10511,     0.10611,     0.10711,     0.10811,     0.10911,     0.11011,     0.11111,     0.11211,     0.11311,     0.11411,     0.11512,     0.11612,     0.11712,     0.11812,     0.11912,\n",
       "           0.12012,     0.12112,     0.12212,     0.12312,     0.12412,     0.12513,     0.12613,     0.12713,     0.12813,     0.12913,     0.13013,     0.13113,     0.13213,     0.13313,     0.13413,     0.13514,     0.13614,     0.13714,     0.13814,     0.13914,     0.14014,     0.14114,     0.14214,     0.14314,\n",
       "           0.14414,     0.14515,     0.14615,     0.14715,     0.14815,     0.14915,     0.15015,     0.15115,     0.15215,     0.15315,     0.15415,     0.15516,     0.15616,     0.15716,     0.15816,     0.15916,     0.16016,     0.16116,     0.16216,     0.16316,     0.16416,     0.16517,     0.16617,     0.16717,\n",
       "           0.16817,     0.16917,     0.17017,     0.17117,     0.17217,     0.17317,     0.17417,     0.17518,     0.17618,     0.17718,     0.17818,     0.17918,     0.18018,     0.18118,     0.18218,     0.18318,     0.18418,     0.18519,     0.18619,     0.18719,     0.18819,     0.18919,     0.19019,     0.19119,\n",
       "           0.19219,     0.19319,     0.19419,      0.1952,      0.1962,      0.1972,      0.1982,      0.1992,      0.2002,      0.2012,      0.2022,      0.2032,      0.2042,     0.20521,     0.20621,     0.20721,     0.20821,     0.20921,     0.21021,     0.21121,     0.21221,     0.21321,     0.21421,     0.21522,\n",
       "           0.21622,     0.21722,     0.21822,     0.21922,     0.22022,     0.22122,     0.22222,     0.22322,     0.22422,     0.22523,     0.22623,     0.22723,     0.22823,     0.22923,     0.23023,     0.23123,     0.23223,     0.23323,     0.23423,     0.23524,     0.23624,     0.23724,     0.23824,     0.23924,\n",
       "           0.24024,     0.24124,     0.24224,     0.24324,     0.24424,     0.24525,     0.24625,     0.24725,     0.24825,     0.24925,     0.25025,     0.25125,     0.25225,     0.25325,     0.25425,     0.25526,     0.25626,     0.25726,     0.25826,     0.25926,     0.26026,     0.26126,     0.26226,     0.26326,\n",
       "           0.26426,     0.26527,     0.26627,     0.26727,     0.26827,     0.26927,     0.27027,     0.27127,     0.27227,     0.27327,     0.27427,     0.27528,     0.27628,     0.27728,     0.27828,     0.27928,     0.28028,     0.28128,     0.28228,     0.28328,     0.28428,     0.28529,     0.28629,     0.28729,\n",
       "           0.28829,     0.28929,     0.29029,     0.29129,     0.29229,     0.29329,     0.29429,      0.2953,      0.2963,      0.2973,      0.2983,      0.2993,      0.3003,      0.3013,      0.3023,      0.3033,      0.3043,     0.30531,     0.30631,     0.30731,     0.30831,     0.30931,     0.31031,     0.31131,\n",
       "           0.31231,     0.31331,     0.31431,     0.31532,     0.31632,     0.31732,     0.31832,     0.31932,     0.32032,     0.32132,     0.32232,     0.32332,     0.32432,     0.32533,     0.32633,     0.32733,     0.32833,     0.32933,     0.33033,     0.33133,     0.33233,     0.33333,     0.33433,     0.33534,\n",
       "           0.33634,     0.33734,     0.33834,     0.33934,     0.34034,     0.34134,     0.34234,     0.34334,     0.34434,     0.34535,     0.34635,     0.34735,     0.34835,     0.34935,     0.35035,     0.35135,     0.35235,     0.35335,     0.35435,     0.35536,     0.35636,     0.35736,     0.35836,     0.35936,\n",
       "           0.36036,     0.36136,     0.36236,     0.36336,     0.36436,     0.36537,     0.36637,     0.36737,     0.36837,     0.36937,     0.37037,     0.37137,     0.37237,     0.37337,     0.37437,     0.37538,     0.37638,     0.37738,     0.37838,     0.37938,     0.38038,     0.38138,     0.38238,     0.38338,\n",
       "           0.38438,     0.38539,     0.38639,     0.38739,     0.38839,     0.38939,     0.39039,     0.39139,     0.39239,     0.39339,     0.39439,      0.3954,      0.3964,      0.3974,      0.3984,      0.3994,      0.4004,      0.4014,      0.4024,      0.4034,      0.4044,     0.40541,     0.40641,     0.40741,\n",
       "           0.40841,     0.40941,     0.41041,     0.41141,     0.41241,     0.41341,     0.41441,     0.41542,     0.41642,     0.41742,     0.41842,     0.41942,     0.42042,     0.42142,     0.42242,     0.42342,     0.42442,     0.42543,     0.42643,     0.42743,     0.42843,     0.42943,     0.43043,     0.43143,\n",
       "           0.43243,     0.43343,     0.43443,     0.43544,     0.43644,     0.43744,     0.43844,     0.43944,     0.44044,     0.44144,     0.44244,     0.44344,     0.44444,     0.44545,     0.44645,     0.44745,     0.44845,     0.44945,     0.45045,     0.45145,     0.45245,     0.45345,     0.45445,     0.45546,\n",
       "           0.45646,     0.45746,     0.45846,     0.45946,     0.46046,     0.46146,     0.46246,     0.46346,     0.46446,     0.46547,     0.46647,     0.46747,     0.46847,     0.46947,     0.47047,     0.47147,     0.47247,     0.47347,     0.47447,     0.47548,     0.47648,     0.47748,     0.47848,     0.47948,\n",
       "           0.48048,     0.48148,     0.48248,     0.48348,     0.48448,     0.48549,     0.48649,     0.48749,     0.48849,     0.48949,     0.49049,     0.49149,     0.49249,     0.49349,     0.49449,      0.4955,      0.4965,      0.4975,      0.4985,      0.4995,      0.5005,      0.5015,      0.5025,      0.5035,\n",
       "            0.5045,     0.50551,     0.50651,     0.50751,     0.50851,     0.50951,     0.51051,     0.51151,     0.51251,     0.51351,     0.51451,     0.51552,     0.51652,     0.51752,     0.51852,     0.51952,     0.52052,     0.52152,     0.52252,     0.52352,     0.52452,     0.52553,     0.52653,     0.52753,\n",
       "           0.52853,     0.52953,     0.53053,     0.53153,     0.53253,     0.53353,     0.53453,     0.53554,     0.53654,     0.53754,     0.53854,     0.53954,     0.54054,     0.54154,     0.54254,     0.54354,     0.54454,     0.54555,     0.54655,     0.54755,     0.54855,     0.54955,     0.55055,     0.55155,\n",
       "           0.55255,     0.55355,     0.55455,     0.55556,     0.55656,     0.55756,     0.55856,     0.55956,     0.56056,     0.56156,     0.56256,     0.56356,     0.56456,     0.56557,     0.56657,     0.56757,     0.56857,     0.56957,     0.57057,     0.57157,     0.57257,     0.57357,     0.57457,     0.57558,\n",
       "           0.57658,     0.57758,     0.57858,     0.57958,     0.58058,     0.58158,     0.58258,     0.58358,     0.58458,     0.58559,     0.58659,     0.58759,     0.58859,     0.58959,     0.59059,     0.59159,     0.59259,     0.59359,     0.59459,      0.5956,      0.5966,      0.5976,      0.5986,      0.5996,\n",
       "            0.6006,      0.6016,      0.6026,      0.6036,      0.6046,     0.60561,     0.60661,     0.60761,     0.60861,     0.60961,     0.61061,     0.61161,     0.61261,     0.61361,     0.61461,     0.61562,     0.61662,     0.61762,     0.61862,     0.61962,     0.62062,     0.62162,     0.62262,     0.62362,\n",
       "           0.62462,     0.62563,     0.62663,     0.62763,     0.62863,     0.62963,     0.63063,     0.63163,     0.63263,     0.63363,     0.63463,     0.63564,     0.63664,     0.63764,     0.63864,     0.63964,     0.64064,     0.64164,     0.64264,     0.64364,     0.64464,     0.64565,     0.64665,     0.64765,\n",
       "           0.64865,     0.64965,     0.65065,     0.65165,     0.65265,     0.65365,     0.65465,     0.65566,     0.65666,     0.65766,     0.65866,     0.65966,     0.66066,     0.66166,     0.66266,     0.66366,     0.66466,     0.66567,     0.66667,     0.66767,     0.66867,     0.66967,     0.67067,     0.67167,\n",
       "           0.67267,     0.67367,     0.67467,     0.67568,     0.67668,     0.67768,     0.67868,     0.67968,     0.68068,     0.68168,     0.68268,     0.68368,     0.68468,     0.68569,     0.68669,     0.68769,     0.68869,     0.68969,     0.69069,     0.69169,     0.69269,     0.69369,     0.69469,      0.6957,\n",
       "            0.6967,      0.6977,      0.6987,      0.6997,      0.7007,      0.7017,      0.7027,      0.7037,      0.7047,     0.70571,     0.70671,     0.70771,     0.70871,     0.70971,     0.71071,     0.71171,     0.71271,     0.71371,     0.71471,     0.71572,     0.71672,     0.71772,     0.71872,     0.71972,\n",
       "           0.72072,     0.72172,     0.72272,     0.72372,     0.72472,     0.72573,     0.72673,     0.72773,     0.72873,     0.72973,     0.73073,     0.73173,     0.73273,     0.73373,     0.73473,     0.73574,     0.73674,     0.73774,     0.73874,     0.73974,     0.74074,     0.74174,     0.74274,     0.74374,\n",
       "           0.74474,     0.74575,     0.74675,     0.74775,     0.74875,     0.74975,     0.75075,     0.75175,     0.75275,     0.75375,     0.75475,     0.75576,     0.75676,     0.75776,     0.75876,     0.75976,     0.76076,     0.76176,     0.76276,     0.76376,     0.76476,     0.76577,     0.76677,     0.76777,\n",
       "           0.76877,     0.76977,     0.77077,     0.77177,     0.77277,     0.77377,     0.77477,     0.77578,     0.77678,     0.77778,     0.77878,     0.77978,     0.78078,     0.78178,     0.78278,     0.78378,     0.78478,     0.78579,     0.78679,     0.78779,     0.78879,     0.78979,     0.79079,     0.79179,\n",
       "           0.79279,     0.79379,     0.79479,      0.7958,      0.7968,      0.7978,      0.7988,      0.7998,      0.8008,      0.8018,      0.8028,      0.8038,      0.8048,     0.80581,     0.80681,     0.80781,     0.80881,     0.80981,     0.81081,     0.81181,     0.81281,     0.81381,     0.81481,     0.81582,\n",
       "           0.81682,     0.81782,     0.81882,     0.81982,     0.82082,     0.82182,     0.82282,     0.82382,     0.82482,     0.82583,     0.82683,     0.82783,     0.82883,     0.82983,     0.83083,     0.83183,     0.83283,     0.83383,     0.83483,     0.83584,     0.83684,     0.83784,     0.83884,     0.83984,\n",
       "           0.84084,     0.84184,     0.84284,     0.84384,     0.84484,     0.84585,     0.84685,     0.84785,     0.84885,     0.84985,     0.85085,     0.85185,     0.85285,     0.85385,     0.85485,     0.85586,     0.85686,     0.85786,     0.85886,     0.85986,     0.86086,     0.86186,     0.86286,     0.86386,\n",
       "           0.86486,     0.86587,     0.86687,     0.86787,     0.86887,     0.86987,     0.87087,     0.87187,     0.87287,     0.87387,     0.87487,     0.87588,     0.87688,     0.87788,     0.87888,     0.87988,     0.88088,     0.88188,     0.88288,     0.88388,     0.88488,     0.88589,     0.88689,     0.88789,\n",
       "           0.88889,     0.88989,     0.89089,     0.89189,     0.89289,     0.89389,     0.89489,      0.8959,      0.8969,      0.8979,      0.8989,      0.8999,      0.9009,      0.9019,      0.9029,      0.9039,      0.9049,     0.90591,     0.90691,     0.90791,     0.90891,     0.90991,     0.91091,     0.91191,\n",
       "           0.91291,     0.91391,     0.91491,     0.91592,     0.91692,     0.91792,     0.91892,     0.91992,     0.92092,     0.92192,     0.92292,     0.92392,     0.92492,     0.92593,     0.92693,     0.92793,     0.92893,     0.92993,     0.93093,     0.93193,     0.93293,     0.93393,     0.93493,     0.93594,\n",
       "           0.93694,     0.93794,     0.93894,     0.93994,     0.94094,     0.94194,     0.94294,     0.94394,     0.94494,     0.94595,     0.94695,     0.94795,     0.94895,     0.94995,     0.95095,     0.95195,     0.95295,     0.95395,     0.95495,     0.95596,     0.95696,     0.95796,     0.95896,     0.95996,\n",
       "           0.96096,     0.96196,     0.96296,     0.96396,     0.96496,     0.96597,     0.96697,     0.96797,     0.96897,     0.96997,     0.97097,     0.97197,     0.97297,     0.97397,     0.97497,     0.97598,     0.97698,     0.97798,     0.97898,     0.97998,     0.98098,     0.98198,     0.98298,     0.98398,\n",
       "           0.98498,     0.98599,     0.98699,     0.98799,     0.98899,     0.98999,     0.99099,     0.99199,     0.99299,     0.99399,     0.99499,       0.996,       0.997,       0.998,       0.999,           1]), array([[          1,           1,           1,           1,           1,           1,           1,           1,           1,           1,           1,           1,           1,           1,           1,           1,           1,           1,           1,           1,           1,           1,           1,\n",
       "                  1,           1,           1,           1,           1,           1,           1,           1,           1,           1,           1,           1,           1,           1,           1,           1,           1,           1,           1,           1,           1,           1,           1,\n",
       "                  1,           1,           1,           1,           1,           1,           1,           1,           1,           1,           1,           1,           1,           1,           1,           1,           1,           1,           1,           1,           1,           1,           1,\n",
       "                  1,           1,           1,           1,           1,           1,           1,           1,           1,           1,           1,           1,           1,     0.98246,     0.98246,     0.98246,     0.98246,     0.98246,     0.98246,     0.98246,     0.98246,     0.98246,     0.98246,\n",
       "            0.98246,     0.98246,     0.98246,     0.98246,     0.98246,     0.98246,     0.98246,     0.98246,     0.98246,     0.98246,     0.98246,     0.98246,     0.98246,     0.98246,     0.98246,     0.98246,     0.98246,     0.98246,     0.98246,     0.98246,     0.98246,     0.98246,     0.98246,\n",
       "            0.98246,     0.98246,     0.98246,     0.98246,     0.98246,     0.98246,     0.98246,     0.98246,     0.98246,     0.98246,     0.98246,     0.98246,     0.98246,     0.98246,     0.98246,     0.98246,     0.98246,     0.98246,     0.98246,     0.98246,     0.98246,     0.98246,     0.98246,\n",
       "            0.98246,     0.98246,     0.98246,     0.98246,     0.98246,     0.98246,       0.975,       0.975,       0.975,       0.975,       0.975,       0.975,       0.975,       0.975,       0.975,       0.975,       0.975,       0.975,       0.975,       0.975,       0.975,       0.975,       0.975,\n",
       "              0.975,       0.975,       0.975,       0.975,       0.975,       0.975,       0.975,       0.975,       0.975,       0.975,       0.975,       0.975,       0.975,       0.975,       0.975,       0.975,       0.975,       0.975,       0.975,       0.975,       0.975,       0.975,       0.975,\n",
       "              0.975,       0.975,       0.975,       0.975,       0.975,       0.975,       0.975,       0.975,       0.975,       0.975,       0.975,       0.975,       0.975,       0.975,       0.975,       0.975,     0.96471,     0.96471,     0.96471,     0.96471,     0.96471,     0.96471,     0.96471,\n",
       "            0.96471,     0.96471,     0.96471,     0.95556,     0.95556,     0.95556,     0.95556,     0.95556,     0.95556,     0.95556,     0.95556,     0.95556,     0.95556,     0.94737,     0.94737,     0.94737,     0.94737,     0.94737,     0.94737,     0.94737,     0.94737,     0.94737,     0.94737,\n",
       "            0.94393,     0.94393,     0.94393,     0.94393,     0.94393,     0.94393,     0.94393,     0.94393,     0.94393,     0.94393,     0.94393,     0.94393,     0.94393,     0.94393,     0.94393,     0.94393,     0.94393,     0.94393,     0.94393,     0.94393,     0.94393,     0.94393,     0.94393,\n",
       "            0.94393,     0.94393,     0.94393,     0.94393,     0.94393,     0.94393,     0.93913,     0.93913,     0.93913,     0.93913,     0.93913,     0.93913,     0.93913,     0.93913,     0.93913,     0.93913,     0.93913,     0.93913,     0.93913,     0.93913,     0.93913,     0.93913,     0.93913,\n",
       "            0.93277,     0.93277,     0.93277,     0.93277,     0.93277,     0.93277,     0.93277,     0.93277,     0.92806,     0.92806,     0.92806,     0.92806,     0.92806,     0.92806,     0.92806,     0.92806,     0.92806,     0.92806,     0.92806,     0.92806,     0.92806,     0.92806,     0.92806,\n",
       "            0.92806,     0.92806,     0.92806,     0.92806,     0.92806,     0.92806,     0.92806,     0.92806,     0.92806,     0.92806,     0.92806,     0.92806,     0.92806,     0.92806,     0.92806,     0.92806,     0.92806,     0.92806,     0.92806,     0.92806,     0.92806,     0.92806,     0.92806,\n",
       "            0.92806,     0.92806,     0.92806,     0.92806,     0.92806,     0.92806,     0.92806,     0.92806,     0.92199,     0.92199,     0.92199,     0.92025,     0.92025,     0.92025,     0.92025,     0.92025,     0.92025,     0.92025,     0.92025,     0.92025,     0.92025,     0.92025,     0.92025,\n",
       "            0.92025,     0.92025,     0.92025,     0.92025,     0.92025,     0.92025,     0.92025,     0.92025,     0.92025,     0.92025,     0.92025,     0.92025,     0.92025,     0.92025,     0.92025,     0.92025,     0.92025,     0.92025,     0.92025,     0.92025,     0.92025,     0.92025,     0.92025,\n",
       "            0.92025,     0.92025,     0.92025,     0.92025,     0.92025,     0.92025,     0.92025,     0.92025,     0.92025,     0.92025,     0.92025,     0.92025,     0.92025,     0.92025,     0.92025,     0.92025,     0.91758,     0.91758,     0.91758,     0.91758,     0.91758,     0.91758,     0.91758,\n",
       "            0.91758,     0.91758,     0.91758,     0.91758,     0.91758,     0.91758,     0.91758,     0.91758,     0.91758,     0.91758,     0.91758,     0.91758,     0.91758,     0.91758,     0.91758,     0.91758,     0.91758,     0.91758,     0.91758,     0.91758,     0.91758,     0.91758,     0.91758,\n",
       "            0.91758,     0.91758,     0.91758,     0.91758,     0.91758,     0.91758,     0.91758,     0.91758,     0.91758,     0.91758,     0.91758,     0.91758,     0.91758,     0.91534,     0.91534,     0.91534,     0.91534,     0.91534,     0.91534,     0.91534,     0.91534,     0.91534,     0.91534,\n",
       "            0.91534,     0.91534,     0.91534,     0.91534,     0.91534,     0.91534,     0.91304,     0.91304,     0.91304,     0.91304,     0.91304,     0.91304,     0.91304,     0.91304,     0.91304,     0.91304,     0.91304,     0.91304,     0.91304,     0.91304,     0.91304,     0.91304,     0.91304,\n",
       "            0.91304,     0.91304,     0.91304,     0.91304,     0.91304,     0.91304,     0.91304,     0.91304,     0.91304,     0.91304,     0.91304,     0.91304,     0.91304,     0.91304,     0.91304,     0.91304,     0.91304,     0.91304,     0.91304,     0.91304,     0.91304,     0.91304,     0.91304,\n",
       "            0.91189,     0.91189,     0.91189,     0.91189,     0.91189,     0.91189,     0.91189,     0.91189,     0.91189,     0.91189,     0.91189,     0.91189,     0.91189,     0.91189,     0.91189,     0.91189,     0.91189,     0.91189,     0.91189,     0.91189,     0.91189,     0.91189,     0.91189,\n",
       "            0.91189,     0.91189,     0.91189,     0.91189,     0.91189,     0.91189,     0.91189,     0.91189,     0.91189,     0.91189,     0.91189,     0.91189,     0.91189,     0.91189,     0.91189,     0.91189,     0.91189,     0.91189,     0.91189,     0.91189,     0.91189,     0.91189,     0.91189,\n",
       "            0.91139,     0.91139,     0.91139,     0.91139,     0.91139,     0.91139,     0.91139,     0.91139,     0.91139,     0.91139,     0.91139,     0.91139,     0.91139,     0.91139,     0.91139,     0.91139,     0.91139,     0.91139,     0.91139,     0.91139,     0.91139,     0.91139,     0.91139,\n",
       "            0.90909,     0.90909,     0.90909,     0.90909,     0.90909,     0.90909,     0.90909,     0.90909,     0.90909,     0.90909,     0.90909,      0.9065,      0.9065,      0.9065,      0.9065,      0.9065,      0.9065,      0.9065,     0.90323,     0.90323,     0.90323,     0.89641,     0.89641,\n",
       "             0.8963,      0.8963,      0.8963,      0.8963,      0.8963,      0.8963,      0.8963,      0.8963,      0.8963,      0.8963,      0.8963,      0.8963,      0.8963,      0.8963,      0.8963,      0.8963,      0.8963,      0.8963,      0.8963,      0.8963,      0.8963,      0.8963,      0.8963,\n",
       "             0.8963,      0.8963,      0.8963,      0.8963,      0.8963,      0.8963,      0.8963,      0.8963,      0.8963,      0.8963,      0.8963,      0.8963,      0.8963,      0.8963,      0.8963,      0.8963,      0.8963,      0.8963,      0.8963,      0.8963,      0.8963,     0.89338,     0.89338,\n",
       "            0.89051,     0.89051,     0.89051,     0.88968,     0.88968,     0.88968,     0.88968,     0.88968,     0.88968,     0.88968,     0.88968,     0.88968,     0.88968,     0.88968,     0.88968,     0.88968,     0.88968,     0.88968,     0.88581,     0.88581,     0.88581,     0.88581,     0.88581,\n",
       "            0.88581,     0.88581,     0.88581,     0.88581,     0.88581,     0.88581,     0.88581,     0.88581,     0.88581,     0.88581,     0.88581,     0.88552,     0.88552,     0.88552,     0.88552,     0.88552,     0.88552,     0.88552,     0.88552,     0.88552,     0.88552,     0.88552,     0.88552,\n",
       "            0.88552,     0.88552,     0.88552,     0.88552,     0.88552,     0.88294,     0.88294,     0.88294,     0.87459,     0.87459,     0.87459,     0.86971,     0.86971,     0.86971,     0.86971,     0.86971,     0.86538,     0.86538,     0.86538,     0.86538,     0.86538,     0.86538,     0.86538,\n",
       "            0.86306,     0.86306,     0.86306,      0.8612,      0.8612,      0.8612,      0.8612,      0.8612,     0.85893,     0.85893,     0.85893,      0.8567,      0.8567,     0.85276,     0.85276,     0.85276,     0.85276,     0.85276,     0.85276,     0.85276,     0.85276,     0.84848,     0.84848,\n",
       "            0.84848,     0.84848,     0.84848,     0.84639,     0.84639,     0.84273,     0.84273,     0.84273,     0.84273,     0.84273,     0.84273,     0.84273,     0.84273,     0.84071,     0.84071,     0.84071,     0.83382,     0.83382,     0.83381,     0.83381,     0.83381,     0.83381,     0.83381,\n",
       "            0.83381,     0.83381,     0.83381,     0.83381,     0.83381,     0.83381,     0.83381,     0.83381,     0.83051,     0.83051,     0.83051,     0.83051,     0.83051,     0.83051,     0.83051,     0.83051,     0.82402,     0.82402,     0.81994,     0.81994,     0.81994,     0.81818,     0.81818,\n",
       "            0.80469,     0.80469,     0.80469,     0.80469,     0.80469,     0.80469,     0.80469,     0.80469,     0.80469,     0.80469,     0.80469,     0.80469,     0.80469,     0.80469,     0.80469,     0.80469,     0.80469,     0.80469,     0.80469,     0.80469,     0.80469,     0.80469,     0.80469,\n",
       "            0.80469,     0.80469,     0.80469,     0.80469,     0.80469,     0.80469,     0.80469,     0.80469,     0.80103,     0.80103,     0.80103,     0.79949,     0.79949,     0.79795,     0.79795,     0.79795,     0.79644,     0.79644,     0.79494,     0.79494,     0.79494,     0.79146,     0.79146,\n",
       "            0.78713,     0.78713,     0.78713,     0.78713,     0.78713,     0.78713,     0.78713,     0.78713,     0.78624,     0.78624,     0.78624,     0.78624,     0.78624,     0.78484,     0.78484,     0.78484,     0.78398,     0.78398,     0.78398,     0.78398,     0.78398,      0.7696,      0.7696,\n",
       "            0.76526,     0.76526,     0.76526,     0.76526,     0.76526,     0.76047,     0.76047,     0.76047,     0.75926,     0.75926,     0.75926,     0.75459,     0.75459,     0.75171,     0.75171,     0.75171,     0.74887,     0.74887,     0.74607,     0.74607,     0.74607,     0.74497,     0.74497,\n",
       "            0.74115,     0.74115,     0.74115,     0.74115,     0.74115,     0.73846,     0.73846,     0.73846,     0.73581,     0.73581,     0.73581,     0.72688,     0.72688,     0.71368,     0.71368,     0.71368,     0.71279,     0.71279,       0.706,       0.706,       0.706,     0.70515,     0.70515,\n",
       "            0.69857,     0.69857,     0.69857,     0.68938,     0.68938,     0.65341,     0.65341,     0.65341,     0.65103,     0.65103,     0.65103,     0.65103,     0.65103,     0.64564,     0.64564,     0.64564,     0.61661,     0.61661,     0.61511,     0.61511,     0.61511,     0.60206,     0.60206,\n",
       "             0.5906,      0.5906,      0.5906,     0.58872,     0.58872,     0.58872,     0.58872,     0.58872,     0.58872,     0.58872,     0.58872,     0.58361,     0.58361,     0.58333,     0.58333,     0.58333,     0.58306,     0.58306,     0.55745,     0.55745,     0.55745,     0.54795,     0.54795,\n",
       "             0.5364,      0.5364,      0.5364,     0.53471,     0.53471,     0.52838,     0.52838,     0.52838,     0.52224,     0.52224,     0.52224,     0.50694,     0.50694,     0.39826,     0.39826,     0.39826,     0.38031,     0.38031,     0.36763,     0.36763,     0.36763,     0.34326,     0.34326,\n",
       "            0.34133,     0.34133,     0.34133,     0.31308,     0.31308,     0.30219,     0.30219,     0.30219,     0.27266,     0.27266,     0.27266,     0.20097,     0.20097,     0.17815,     0.17815,     0.17815,      0.1663,      0.1663,     0.10332,     0.10332,     0.10332,    0.098105,    0.098105,\n",
       "           0.081035,    0.081035,    0.081035,    0.077259,    0.074684,    0.072108,    0.069533,    0.066958,    0.064383,    0.061807,    0.059232,    0.056657,    0.054081,    0.051506,    0.048931,    0.046355,     0.04378,    0.041205,     0.03863,    0.036054,    0.033479,    0.030904,    0.028328,\n",
       "           0.025753,    0.023178,    0.020602,    0.018027,    0.015452,    0.012877,    0.010301,   0.0077259,   0.0051506,   0.0025753,           0]]), 'Recall', 'Precision'], [array([          0,    0.001001,    0.002002,    0.003003,    0.004004,    0.005005,    0.006006,    0.007007,    0.008008,    0.009009,     0.01001,    0.011011,    0.012012,    0.013013,    0.014014,    0.015015,    0.016016,    0.017017,    0.018018,    0.019019,     0.02002,    0.021021,    0.022022,    0.023023,\n",
       "          0.024024,    0.025025,    0.026026,    0.027027,    0.028028,    0.029029,     0.03003,    0.031031,    0.032032,    0.033033,    0.034034,    0.035035,    0.036036,    0.037037,    0.038038,    0.039039,     0.04004,    0.041041,    0.042042,    0.043043,    0.044044,    0.045045,    0.046046,    0.047047,\n",
       "          0.048048,    0.049049,     0.05005,    0.051051,    0.052052,    0.053053,    0.054054,    0.055055,    0.056056,    0.057057,    0.058058,    0.059059,     0.06006,    0.061061,    0.062062,    0.063063,    0.064064,    0.065065,    0.066066,    0.067067,    0.068068,    0.069069,     0.07007,    0.071071,\n",
       "          0.072072,    0.073073,    0.074074,    0.075075,    0.076076,    0.077077,    0.078078,    0.079079,     0.08008,    0.081081,    0.082082,    0.083083,    0.084084,    0.085085,    0.086086,    0.087087,    0.088088,    0.089089,     0.09009,    0.091091,    0.092092,    0.093093,    0.094094,    0.095095,\n",
       "          0.096096,    0.097097,    0.098098,    0.099099,      0.1001,      0.1011,      0.1021,      0.1031,      0.1041,     0.10511,     0.10611,     0.10711,     0.10811,     0.10911,     0.11011,     0.11111,     0.11211,     0.11311,     0.11411,     0.11512,     0.11612,     0.11712,     0.11812,     0.11912,\n",
       "           0.12012,     0.12112,     0.12212,     0.12312,     0.12412,     0.12513,     0.12613,     0.12713,     0.12813,     0.12913,     0.13013,     0.13113,     0.13213,     0.13313,     0.13413,     0.13514,     0.13614,     0.13714,     0.13814,     0.13914,     0.14014,     0.14114,     0.14214,     0.14314,\n",
       "           0.14414,     0.14515,     0.14615,     0.14715,     0.14815,     0.14915,     0.15015,     0.15115,     0.15215,     0.15315,     0.15415,     0.15516,     0.15616,     0.15716,     0.15816,     0.15916,     0.16016,     0.16116,     0.16216,     0.16316,     0.16416,     0.16517,     0.16617,     0.16717,\n",
       "           0.16817,     0.16917,     0.17017,     0.17117,     0.17217,     0.17317,     0.17417,     0.17518,     0.17618,     0.17718,     0.17818,     0.17918,     0.18018,     0.18118,     0.18218,     0.18318,     0.18418,     0.18519,     0.18619,     0.18719,     0.18819,     0.18919,     0.19019,     0.19119,\n",
       "           0.19219,     0.19319,     0.19419,      0.1952,      0.1962,      0.1972,      0.1982,      0.1992,      0.2002,      0.2012,      0.2022,      0.2032,      0.2042,     0.20521,     0.20621,     0.20721,     0.20821,     0.20921,     0.21021,     0.21121,     0.21221,     0.21321,     0.21421,     0.21522,\n",
       "           0.21622,     0.21722,     0.21822,     0.21922,     0.22022,     0.22122,     0.22222,     0.22322,     0.22422,     0.22523,     0.22623,     0.22723,     0.22823,     0.22923,     0.23023,     0.23123,     0.23223,     0.23323,     0.23423,     0.23524,     0.23624,     0.23724,     0.23824,     0.23924,\n",
       "           0.24024,     0.24124,     0.24224,     0.24324,     0.24424,     0.24525,     0.24625,     0.24725,     0.24825,     0.24925,     0.25025,     0.25125,     0.25225,     0.25325,     0.25425,     0.25526,     0.25626,     0.25726,     0.25826,     0.25926,     0.26026,     0.26126,     0.26226,     0.26326,\n",
       "           0.26426,     0.26527,     0.26627,     0.26727,     0.26827,     0.26927,     0.27027,     0.27127,     0.27227,     0.27327,     0.27427,     0.27528,     0.27628,     0.27728,     0.27828,     0.27928,     0.28028,     0.28128,     0.28228,     0.28328,     0.28428,     0.28529,     0.28629,     0.28729,\n",
       "           0.28829,     0.28929,     0.29029,     0.29129,     0.29229,     0.29329,     0.29429,      0.2953,      0.2963,      0.2973,      0.2983,      0.2993,      0.3003,      0.3013,      0.3023,      0.3033,      0.3043,     0.30531,     0.30631,     0.30731,     0.30831,     0.30931,     0.31031,     0.31131,\n",
       "           0.31231,     0.31331,     0.31431,     0.31532,     0.31632,     0.31732,     0.31832,     0.31932,     0.32032,     0.32132,     0.32232,     0.32332,     0.32432,     0.32533,     0.32633,     0.32733,     0.32833,     0.32933,     0.33033,     0.33133,     0.33233,     0.33333,     0.33433,     0.33534,\n",
       "           0.33634,     0.33734,     0.33834,     0.33934,     0.34034,     0.34134,     0.34234,     0.34334,     0.34434,     0.34535,     0.34635,     0.34735,     0.34835,     0.34935,     0.35035,     0.35135,     0.35235,     0.35335,     0.35435,     0.35536,     0.35636,     0.35736,     0.35836,     0.35936,\n",
       "           0.36036,     0.36136,     0.36236,     0.36336,     0.36436,     0.36537,     0.36637,     0.36737,     0.36837,     0.36937,     0.37037,     0.37137,     0.37237,     0.37337,     0.37437,     0.37538,     0.37638,     0.37738,     0.37838,     0.37938,     0.38038,     0.38138,     0.38238,     0.38338,\n",
       "           0.38438,     0.38539,     0.38639,     0.38739,     0.38839,     0.38939,     0.39039,     0.39139,     0.39239,     0.39339,     0.39439,      0.3954,      0.3964,      0.3974,      0.3984,      0.3994,      0.4004,      0.4014,      0.4024,      0.4034,      0.4044,     0.40541,     0.40641,     0.40741,\n",
       "           0.40841,     0.40941,     0.41041,     0.41141,     0.41241,     0.41341,     0.41441,     0.41542,     0.41642,     0.41742,     0.41842,     0.41942,     0.42042,     0.42142,     0.42242,     0.42342,     0.42442,     0.42543,     0.42643,     0.42743,     0.42843,     0.42943,     0.43043,     0.43143,\n",
       "           0.43243,     0.43343,     0.43443,     0.43544,     0.43644,     0.43744,     0.43844,     0.43944,     0.44044,     0.44144,     0.44244,     0.44344,     0.44444,     0.44545,     0.44645,     0.44745,     0.44845,     0.44945,     0.45045,     0.45145,     0.45245,     0.45345,     0.45445,     0.45546,\n",
       "           0.45646,     0.45746,     0.45846,     0.45946,     0.46046,     0.46146,     0.46246,     0.46346,     0.46446,     0.46547,     0.46647,     0.46747,     0.46847,     0.46947,     0.47047,     0.47147,     0.47247,     0.47347,     0.47447,     0.47548,     0.47648,     0.47748,     0.47848,     0.47948,\n",
       "           0.48048,     0.48148,     0.48248,     0.48348,     0.48448,     0.48549,     0.48649,     0.48749,     0.48849,     0.48949,     0.49049,     0.49149,     0.49249,     0.49349,     0.49449,      0.4955,      0.4965,      0.4975,      0.4985,      0.4995,      0.5005,      0.5015,      0.5025,      0.5035,\n",
       "            0.5045,     0.50551,     0.50651,     0.50751,     0.50851,     0.50951,     0.51051,     0.51151,     0.51251,     0.51351,     0.51451,     0.51552,     0.51652,     0.51752,     0.51852,     0.51952,     0.52052,     0.52152,     0.52252,     0.52352,     0.52452,     0.52553,     0.52653,     0.52753,\n",
       "           0.52853,     0.52953,     0.53053,     0.53153,     0.53253,     0.53353,     0.53453,     0.53554,     0.53654,     0.53754,     0.53854,     0.53954,     0.54054,     0.54154,     0.54254,     0.54354,     0.54454,     0.54555,     0.54655,     0.54755,     0.54855,     0.54955,     0.55055,     0.55155,\n",
       "           0.55255,     0.55355,     0.55455,     0.55556,     0.55656,     0.55756,     0.55856,     0.55956,     0.56056,     0.56156,     0.56256,     0.56356,     0.56456,     0.56557,     0.56657,     0.56757,     0.56857,     0.56957,     0.57057,     0.57157,     0.57257,     0.57357,     0.57457,     0.57558,\n",
       "           0.57658,     0.57758,     0.57858,     0.57958,     0.58058,     0.58158,     0.58258,     0.58358,     0.58458,     0.58559,     0.58659,     0.58759,     0.58859,     0.58959,     0.59059,     0.59159,     0.59259,     0.59359,     0.59459,      0.5956,      0.5966,      0.5976,      0.5986,      0.5996,\n",
       "            0.6006,      0.6016,      0.6026,      0.6036,      0.6046,     0.60561,     0.60661,     0.60761,     0.60861,     0.60961,     0.61061,     0.61161,     0.61261,     0.61361,     0.61461,     0.61562,     0.61662,     0.61762,     0.61862,     0.61962,     0.62062,     0.62162,     0.62262,     0.62362,\n",
       "           0.62462,     0.62563,     0.62663,     0.62763,     0.62863,     0.62963,     0.63063,     0.63163,     0.63263,     0.63363,     0.63463,     0.63564,     0.63664,     0.63764,     0.63864,     0.63964,     0.64064,     0.64164,     0.64264,     0.64364,     0.64464,     0.64565,     0.64665,     0.64765,\n",
       "           0.64865,     0.64965,     0.65065,     0.65165,     0.65265,     0.65365,     0.65465,     0.65566,     0.65666,     0.65766,     0.65866,     0.65966,     0.66066,     0.66166,     0.66266,     0.66366,     0.66466,     0.66567,     0.66667,     0.66767,     0.66867,     0.66967,     0.67067,     0.67167,\n",
       "           0.67267,     0.67367,     0.67467,     0.67568,     0.67668,     0.67768,     0.67868,     0.67968,     0.68068,     0.68168,     0.68268,     0.68368,     0.68468,     0.68569,     0.68669,     0.68769,     0.68869,     0.68969,     0.69069,     0.69169,     0.69269,     0.69369,     0.69469,      0.6957,\n",
       "            0.6967,      0.6977,      0.6987,      0.6997,      0.7007,      0.7017,      0.7027,      0.7037,      0.7047,     0.70571,     0.70671,     0.70771,     0.70871,     0.70971,     0.71071,     0.71171,     0.71271,     0.71371,     0.71471,     0.71572,     0.71672,     0.71772,     0.71872,     0.71972,\n",
       "           0.72072,     0.72172,     0.72272,     0.72372,     0.72472,     0.72573,     0.72673,     0.72773,     0.72873,     0.72973,     0.73073,     0.73173,     0.73273,     0.73373,     0.73473,     0.73574,     0.73674,     0.73774,     0.73874,     0.73974,     0.74074,     0.74174,     0.74274,     0.74374,\n",
       "           0.74474,     0.74575,     0.74675,     0.74775,     0.74875,     0.74975,     0.75075,     0.75175,     0.75275,     0.75375,     0.75475,     0.75576,     0.75676,     0.75776,     0.75876,     0.75976,     0.76076,     0.76176,     0.76276,     0.76376,     0.76476,     0.76577,     0.76677,     0.76777,\n",
       "           0.76877,     0.76977,     0.77077,     0.77177,     0.77277,     0.77377,     0.77477,     0.77578,     0.77678,     0.77778,     0.77878,     0.77978,     0.78078,     0.78178,     0.78278,     0.78378,     0.78478,     0.78579,     0.78679,     0.78779,     0.78879,     0.78979,     0.79079,     0.79179,\n",
       "           0.79279,     0.79379,     0.79479,      0.7958,      0.7968,      0.7978,      0.7988,      0.7998,      0.8008,      0.8018,      0.8028,      0.8038,      0.8048,     0.80581,     0.80681,     0.80781,     0.80881,     0.80981,     0.81081,     0.81181,     0.81281,     0.81381,     0.81481,     0.81582,\n",
       "           0.81682,     0.81782,     0.81882,     0.81982,     0.82082,     0.82182,     0.82282,     0.82382,     0.82482,     0.82583,     0.82683,     0.82783,     0.82883,     0.82983,     0.83083,     0.83183,     0.83283,     0.83383,     0.83483,     0.83584,     0.83684,     0.83784,     0.83884,     0.83984,\n",
       "           0.84084,     0.84184,     0.84284,     0.84384,     0.84484,     0.84585,     0.84685,     0.84785,     0.84885,     0.84985,     0.85085,     0.85185,     0.85285,     0.85385,     0.85485,     0.85586,     0.85686,     0.85786,     0.85886,     0.85986,     0.86086,     0.86186,     0.86286,     0.86386,\n",
       "           0.86486,     0.86587,     0.86687,     0.86787,     0.86887,     0.86987,     0.87087,     0.87187,     0.87287,     0.87387,     0.87487,     0.87588,     0.87688,     0.87788,     0.87888,     0.87988,     0.88088,     0.88188,     0.88288,     0.88388,     0.88488,     0.88589,     0.88689,     0.88789,\n",
       "           0.88889,     0.88989,     0.89089,     0.89189,     0.89289,     0.89389,     0.89489,      0.8959,      0.8969,      0.8979,      0.8989,      0.8999,      0.9009,      0.9019,      0.9029,      0.9039,      0.9049,     0.90591,     0.90691,     0.90791,     0.90891,     0.90991,     0.91091,     0.91191,\n",
       "           0.91291,     0.91391,     0.91491,     0.91592,     0.91692,     0.91792,     0.91892,     0.91992,     0.92092,     0.92192,     0.92292,     0.92392,     0.92492,     0.92593,     0.92693,     0.92793,     0.92893,     0.92993,     0.93093,     0.93193,     0.93293,     0.93393,     0.93493,     0.93594,\n",
       "           0.93694,     0.93794,     0.93894,     0.93994,     0.94094,     0.94194,     0.94294,     0.94394,     0.94494,     0.94595,     0.94695,     0.94795,     0.94895,     0.94995,     0.95095,     0.95195,     0.95295,     0.95395,     0.95495,     0.95596,     0.95696,     0.95796,     0.95896,     0.95996,\n",
       "           0.96096,     0.96196,     0.96296,     0.96396,     0.96496,     0.96597,     0.96697,     0.96797,     0.96897,     0.96997,     0.97097,     0.97197,     0.97297,     0.97397,     0.97497,     0.97598,     0.97698,     0.97798,     0.97898,     0.97998,     0.98098,     0.98198,     0.98298,     0.98398,\n",
       "           0.98498,     0.98599,     0.98699,     0.98799,     0.98899,     0.98999,     0.99099,     0.99199,     0.99299,     0.99399,     0.99499,       0.996,       0.997,       0.998,       0.999,           1]), array([[    0.14602,     0.14602,     0.14602,     0.14602,     0.14627,     0.14928,     0.15316,     0.15819,     0.16503,     0.17259,     0.17952,      0.1872,      0.1934,     0.19931,     0.20521,     0.21287,     0.21866,     0.22503,     0.23206,     0.23953,     0.24614,     0.25373,     0.26161,\n",
       "            0.26906,     0.27722,     0.28413,     0.29239,     0.30018,     0.30717,     0.31336,     0.31991,      0.3244,     0.33155,     0.33713,     0.34332,     0.34905,     0.35379,     0.35928,     0.36592,     0.37127,       0.375,     0.37848,     0.38258,     0.38901,     0.39328,     0.39894,\n",
       "            0.40441,     0.40851,     0.41443,     0.41956,      0.4224,     0.42401,     0.42901,     0.43341,     0.43874,     0.44255,     0.44681,      0.4538,     0.45789,      0.4615,     0.46554,     0.46881,     0.47175,     0.47577,     0.47898,     0.48149,     0.48544,     0.48961,     0.49297,\n",
       "            0.49577,     0.49747,     0.50078,     0.50292,     0.50496,     0.50779,     0.51004,     0.51511,     0.51644,      0.5196,     0.52259,     0.52614,     0.52796,     0.52797,     0.53143,     0.53388,     0.53619,     0.53956,     0.54042,     0.54182,     0.54351,     0.54556,     0.54834,\n",
       "            0.55137,     0.55342,     0.55717,     0.55931,      0.5617,     0.56405,     0.56716,     0.56868,     0.57016,      0.5743,     0.57773,      0.5812,     0.58453,     0.58589,     0.58694,      0.5897,     0.59084,      0.5921,     0.59553,      0.5992,     0.60083,     0.60168,     0.60315,\n",
       "            0.60483,     0.60617,     0.60997,     0.61292,     0.61488,     0.61591,     0.61649,     0.61889,      0.6226,     0.62563,     0.62621,     0.62851,     0.62994,     0.63038,     0.63129,       0.635,     0.63643,     0.63847,     0.64047,     0.64136,     0.64359,     0.64524,      0.6486,\n",
       "            0.65102,     0.65204,     0.65325,     0.65389,     0.65587,     0.65672,     0.65856,       0.662,     0.66328,     0.66461,     0.66536,     0.66594,     0.66685,      0.6674,     0.66788,     0.66811,     0.67048,     0.67132,     0.67345,     0.67241,     0.67272,     0.67418,     0.67443,\n",
       "            0.67469,     0.67554,      0.6774,     0.67868,     0.67948,     0.67977,     0.68269,     0.68452,     0.68549,     0.68601,     0.68688,     0.68655,     0.68754,     0.69059,     0.69253,     0.69296,     0.69373,     0.69514,     0.69809,     0.69978,     0.70073,     0.70142,     0.70171,\n",
       "            0.70235,     0.70432,      0.7058,     0.70758,     0.70799,     0.70854,     0.70904,     0.70931,     0.70958,     0.71045,     0.71142,     0.71227,     0.71108,     0.71014,     0.71049,     0.71102,       0.712,     0.71341,      0.7118,     0.71147,     0.71293,     0.71199,     0.71265,\n",
       "            0.71424,     0.71563,     0.71769,     0.71796,     0.71813,      0.7183,     0.71847,     0.71937,     0.72035,     0.71961,     0.72027,     0.72132,     0.72365,     0.72648,     0.72911,     0.72814,     0.72926,     0.72844,     0.72963,     0.73206,     0.73435,     0.73492,     0.73732,\n",
       "             0.7377,     0.73877,     0.74109,     0.74163,     0.74208,     0.74279,     0.74329,     0.74367,     0.74388,      0.7441,     0.74431,     0.74515,     0.74607,     0.74653,     0.74722,     0.74799,     0.74742,     0.74871,     0.74891,     0.74911,     0.74931,     0.74966,     0.75061,\n",
       "            0.74968,     0.74964,      0.7505,     0.75027,     0.74953,     0.75005,     0.75154,     0.75276,     0.75387,     0.75563,     0.75625,     0.75657,     0.75706,     0.75863,      0.7617,     0.76262,     0.76319,     0.76446,     0.76476,     0.76507,     0.76633,     0.76717,      0.7688,\n",
       "            0.76984,     0.77064,      0.7711,     0.77186,     0.77294,     0.77284,     0.77533,     0.77594,     0.77819,     0.78068,     0.78027,     0.77985,     0.77943,     0.77972,     0.77896,     0.77914,     0.77932,      0.7795,     0.77968,      0.7799,     0.78022,     0.78054,     0.78087,\n",
       "             0.7812,     0.78153,      0.7826,     0.78291,     0.78323,     0.78255,      0.7822,     0.78247,     0.78274,     0.78277,     0.78238,     0.78199,      0.7816,     0.78185,      0.7823,     0.78341,     0.78396,     0.78535,     0.78704,     0.78769,     0.78807,     0.78834,     0.78861,\n",
       "            0.78903,     0.78969,     0.78912,     0.78856,     0.78855,     0.78899,     0.78963,     0.79046,     0.79119,      0.7918,      0.7922,     0.79249,     0.79278,      0.7931,     0.79346,     0.79383,     0.79347,     0.79398,     0.79389,     0.79474,     0.79456,     0.79435,     0.79413,\n",
       "            0.79391,     0.79369,     0.79347,     0.79192,     0.79203,     0.79215,     0.79227,     0.79239,      0.7925,     0.79262,     0.79274,     0.79286,     0.79333,     0.79348,     0.79363,     0.79378,     0.79393,     0.79408,     0.79423,     0.79373,     0.79308,     0.79313,     0.79366,\n",
       "             0.7943,     0.79335,     0.79357,     0.79391,     0.79518,     0.79416,     0.79403,     0.79456,     0.79501,     0.79543,     0.79549,     0.79517,     0.79486,     0.79455,     0.79423,     0.79429,     0.79441,     0.79453,     0.79465,     0.79477,     0.79488,       0.795,     0.79512,\n",
       "            0.79536,     0.79563,      0.7959,     0.79624,     0.79678,     0.79682,     0.79623,     0.79563,     0.79604,     0.79646,      0.7954,     0.79582,     0.79633,     0.79696,     0.79622,     0.79509,     0.79545,      0.7958,     0.79617,     0.79657,     0.79698,      0.7972,     0.79739,\n",
       "            0.79757,     0.79776,     0.79794,     0.79729,     0.79702,     0.79842,     0.79917,     0.80117,     0.80208,     0.80275,      0.8033,     0.80357,      0.8037,     0.80382,     0.80395,     0.80408,     0.80421,     0.80433,     0.80446,      0.8042,     0.80386,     0.80352,     0.80317,\n",
       "            0.80275,     0.80222,      0.8017,     0.80188,     0.80249,     0.80161,     0.80087,     0.79981,     0.79765,     0.79689,     0.79656,     0.79623,      0.7959,     0.79557,     0.79566,     0.79598,     0.79629,     0.79778,     0.79801,     0.79718,     0.79814,     0.79855,     0.79897,\n",
       "            0.79827,     0.79753,     0.79772,     0.79801,     0.79831,     0.79837,     0.79815,     0.79793,     0.79771,     0.79748,     0.79726,     0.79704,     0.79707,     0.79732,     0.79757,     0.79782,     0.79753,     0.79658,     0.79695,     0.79721,     0.79627,     0.79638,     0.79645,\n",
       "            0.79669,     0.79693,     0.79716,      0.7974,     0.79625,     0.79428,     0.79389,     0.79351,     0.79312,     0.79272,     0.79194,     0.79106,     0.78923,     0.78861,     0.78793,     0.78646,     0.78725,     0.78695,     0.78664,     0.78634,     0.78604,     0.78431,      0.7841,\n",
       "             0.7839,     0.78369,     0.78349,     0.78328,     0.78308,     0.78287,     0.78247,      0.7815,     0.78136,     0.78092,     0.78153,     0.78209,     0.78265,     0.78309,     0.78353,     0.78385,     0.78413,     0.78441,     0.78476,     0.78574,     0.78583,     0.78593,     0.78602,\n",
       "            0.78612,     0.78621,     0.78631,      0.7864,      0.7865,     0.78659,     0.78669,     0.78624,      0.7872,     0.78689,     0.78658,     0.78626,     0.78595,     0.78564,     0.78671,     0.78736,     0.78614,     0.78675,      0.7883,     0.78895,     0.78741,     0.78666,     0.78597,\n",
       "            0.78574,     0.78552,     0.78529,     0.78506,     0.78483,      0.7846,     0.78437,       0.785,     0.78613,     0.78457,     0.78417,     0.78376,     0.78335,     0.78152,     0.78126,       0.781,     0.78073,     0.78047,     0.78021,     0.77995,     0.77909,     0.77845,     0.77794,\n",
       "            0.77876,     0.77901,     0.77925,     0.77949,     0.77974,     0.77999,     0.78025,     0.78051,     0.78077,     0.78064,     0.78042,     0.78019,     0.77997,     0.77974,     0.77952,     0.77929,     0.77993,     0.77998,      0.7797,     0.77942,     0.77915,     0.77887,     0.77859,\n",
       "            0.77541,     0.77654,     0.77654,     0.77565,     0.77583,       0.776,     0.77618,     0.77636,     0.77653,     0.77667,     0.77619,     0.77571,     0.77523,     0.77459,      0.7738,     0.77353,      0.7742,     0.77476,     0.77528,     0.77176,     0.77083,     0.77089,     0.77196,\n",
       "            0.77157,     0.77171,      0.7714,     0.77108,     0.77076,     0.77044,     0.77012,      0.7706,     0.76992,     0.76908,     0.76791,     0.76798,     0.76832,     0.76865,     0.76706,     0.76735,     0.76764,     0.76793,     0.76786,     0.76685,     0.76566,     0.76428,     0.76288,\n",
       "            0.76342,     0.76395,     0.76421,     0.76447,     0.76473,     0.76499,     0.76319,     0.76278,     0.76237,     0.76195,     0.76154,     0.76183,      0.7622,     0.76257,     0.76314,     0.76351,     0.76201,     0.76219,     0.76237,     0.76255,     0.76273,     0.76291,     0.76311,\n",
       "            0.76335,      0.7636,     0.76384,     0.76408,     0.76465,      0.7651,     0.76353,     0.76396,     0.76453,     0.76435,     0.76416,     0.76398,     0.76379,     0.76361,     0.76342,     0.76324,     0.76305,     0.76287,     0.76172,     0.75554,     0.75354,     0.75299,     0.75244,\n",
       "            0.75189,     0.75224,      0.7527,     0.75246,     0.75141,     0.75021,     0.74744,     0.74592,     0.74393,     0.74233,     0.74339,     0.74393,     0.74338,     0.74253,     0.74158,     0.74057,     0.73865,     0.73552,     0.73285,     0.73335,     0.73382,     0.73298,     0.73214,\n",
       "            0.73122,     0.73159,     0.73206,     0.73099,     0.72978,     0.72896,     0.72715,     0.72526,     0.72379,     0.72239,     0.72155,     0.72072,     0.71836,     0.71801,     0.71766,     0.71731,     0.71695,     0.71488,     0.71478,     0.71152,      0.7099,     0.70821,     0.70746,\n",
       "            0.70694,     0.70642,      0.7059,      0.7017,     0.70001,      0.7005,     0.69917,      0.6993,      0.6997,     0.70057,     0.70004,     0.69502,     0.69094,     0.68851,     0.68739,     0.68702,     0.68749,      0.6878,      0.6869,     0.68601,     0.68454,     0.68308,      0.6818,\n",
       "             0.6795,     0.67817,     0.67279,     0.67162,     0.66966,     0.66917,     0.66965,     0.66884,      0.6662,     0.66105,     0.65668,     0.65475,     0.65112,     0.64884,     0.64218,     0.63707,     0.63279,     0.63123,     0.63177,     0.63036,       0.626,     0.62057,     0.61949,\n",
       "            0.61841,     0.61548,      0.6135,      0.6099,     0.60415,     0.60407,     0.59992,      0.5986,     0.59572,     0.59475,     0.59138,     0.58713,     0.58272,     0.58072,     0.57787,     0.57584,     0.57243,     0.57115,     0.56532,     0.56459,     0.56386,     0.56312,     0.55997,\n",
       "            0.55505,     0.55436,     0.55368,     0.55299,     0.55326,     0.55193,     0.54583,     0.53441,     0.52205,      0.5139,     0.51223,     0.50575,     0.50023,     0.49169,     0.49019,     0.48806,     0.48735,     0.48674,     0.48081,     0.47854,     0.47627,     0.47376,     0.47009,\n",
       "            0.46851,      0.4674,      0.4553,     0.44877,       0.449,     0.44701,     0.44223,     0.44013,     0.43578,     0.43528,     0.43069,     0.42759,     0.42626,     0.42679,     0.41637,     0.41364,     0.41279,     0.41194,      0.4106,     0.40721,     0.40566,     0.40209,     0.39726,\n",
       "            0.38862,     0.38703,     0.38364,     0.37282,     0.36361,     0.36211,      0.3606,     0.35392,     0.35195,     0.34448,     0.34105,     0.33261,     0.33107,     0.32322,     0.32006,     0.30919,     0.30504,     0.30342,     0.29905,     0.28787,     0.28036,     0.26868,     0.26683,\n",
       "            0.26497,     0.24955,     0.24998,     0.24278,     0.23857,     0.23004,     0.22927,     0.22851,     0.22774,     0.22697,     0.22583,     0.22111,     0.21872,     0.20476,     0.19936,     0.18737,     0.18189,     0.17042,     0.16165,     0.15099,     0.15124,     0.14534,     0.14257,\n",
       "            0.13142,     0.12576,     0.11789,     0.11202,     0.10128,    0.093586,    0.082106,    0.080332,    0.078554,    0.076725,    0.074892,    0.069767,    0.066041,    0.062913,    0.059989,    0.051003,    0.047464,    0.044525,     0.03967,    0.037983,    0.036294,    0.034171,    0.031203,\n",
       "           0.024792,    0.024038,    0.023284,    0.022529,    0.021774,    0.021018,    0.020262,     0.01772,    0.015206,    0.014446,    0.013686,    0.012925,    0.012164,    0.011402,    0.010639,   0.0097436,   0.0086445,   0.0075442,   0.0064427,     0.00534,           0,           0,           0,\n",
       "                  0,           0,           0,           0,           0,           0,           0,           0,           0,           0,           0,           0,           0,           0,           0,           0,           0,           0,           0,           0,           0,           0,           0,\n",
       "                  0,           0,           0,           0,           0,           0,           0,           0,           0,           0,           0,           0,           0,           0,           0,           0,           0,           0,           0,           0,           0,           0,           0,\n",
       "                  0,           0,           0,           0,           0,           0,           0,           0,           0,           0,           0]]), 'Confidence', 'F1'], [array([          0,    0.001001,    0.002002,    0.003003,    0.004004,    0.005005,    0.006006,    0.007007,    0.008008,    0.009009,     0.01001,    0.011011,    0.012012,    0.013013,    0.014014,    0.015015,    0.016016,    0.017017,    0.018018,    0.019019,     0.02002,    0.021021,    0.022022,    0.023023,\n",
       "          0.024024,    0.025025,    0.026026,    0.027027,    0.028028,    0.029029,     0.03003,    0.031031,    0.032032,    0.033033,    0.034034,    0.035035,    0.036036,    0.037037,    0.038038,    0.039039,     0.04004,    0.041041,    0.042042,    0.043043,    0.044044,    0.045045,    0.046046,    0.047047,\n",
       "          0.048048,    0.049049,     0.05005,    0.051051,    0.052052,    0.053053,    0.054054,    0.055055,    0.056056,    0.057057,    0.058058,    0.059059,     0.06006,    0.061061,    0.062062,    0.063063,    0.064064,    0.065065,    0.066066,    0.067067,    0.068068,    0.069069,     0.07007,    0.071071,\n",
       "          0.072072,    0.073073,    0.074074,    0.075075,    0.076076,    0.077077,    0.078078,    0.079079,     0.08008,    0.081081,    0.082082,    0.083083,    0.084084,    0.085085,    0.086086,    0.087087,    0.088088,    0.089089,     0.09009,    0.091091,    0.092092,    0.093093,    0.094094,    0.095095,\n",
       "          0.096096,    0.097097,    0.098098,    0.099099,      0.1001,      0.1011,      0.1021,      0.1031,      0.1041,     0.10511,     0.10611,     0.10711,     0.10811,     0.10911,     0.11011,     0.11111,     0.11211,     0.11311,     0.11411,     0.11512,     0.11612,     0.11712,     0.11812,     0.11912,\n",
       "           0.12012,     0.12112,     0.12212,     0.12312,     0.12412,     0.12513,     0.12613,     0.12713,     0.12813,     0.12913,     0.13013,     0.13113,     0.13213,     0.13313,     0.13413,     0.13514,     0.13614,     0.13714,     0.13814,     0.13914,     0.14014,     0.14114,     0.14214,     0.14314,\n",
       "           0.14414,     0.14515,     0.14615,     0.14715,     0.14815,     0.14915,     0.15015,     0.15115,     0.15215,     0.15315,     0.15415,     0.15516,     0.15616,     0.15716,     0.15816,     0.15916,     0.16016,     0.16116,     0.16216,     0.16316,     0.16416,     0.16517,     0.16617,     0.16717,\n",
       "           0.16817,     0.16917,     0.17017,     0.17117,     0.17217,     0.17317,     0.17417,     0.17518,     0.17618,     0.17718,     0.17818,     0.17918,     0.18018,     0.18118,     0.18218,     0.18318,     0.18418,     0.18519,     0.18619,     0.18719,     0.18819,     0.18919,     0.19019,     0.19119,\n",
       "           0.19219,     0.19319,     0.19419,      0.1952,      0.1962,      0.1972,      0.1982,      0.1992,      0.2002,      0.2012,      0.2022,      0.2032,      0.2042,     0.20521,     0.20621,     0.20721,     0.20821,     0.20921,     0.21021,     0.21121,     0.21221,     0.21321,     0.21421,     0.21522,\n",
       "           0.21622,     0.21722,     0.21822,     0.21922,     0.22022,     0.22122,     0.22222,     0.22322,     0.22422,     0.22523,     0.22623,     0.22723,     0.22823,     0.22923,     0.23023,     0.23123,     0.23223,     0.23323,     0.23423,     0.23524,     0.23624,     0.23724,     0.23824,     0.23924,\n",
       "           0.24024,     0.24124,     0.24224,     0.24324,     0.24424,     0.24525,     0.24625,     0.24725,     0.24825,     0.24925,     0.25025,     0.25125,     0.25225,     0.25325,     0.25425,     0.25526,     0.25626,     0.25726,     0.25826,     0.25926,     0.26026,     0.26126,     0.26226,     0.26326,\n",
       "           0.26426,     0.26527,     0.26627,     0.26727,     0.26827,     0.26927,     0.27027,     0.27127,     0.27227,     0.27327,     0.27427,     0.27528,     0.27628,     0.27728,     0.27828,     0.27928,     0.28028,     0.28128,     0.28228,     0.28328,     0.28428,     0.28529,     0.28629,     0.28729,\n",
       "           0.28829,     0.28929,     0.29029,     0.29129,     0.29229,     0.29329,     0.29429,      0.2953,      0.2963,      0.2973,      0.2983,      0.2993,      0.3003,      0.3013,      0.3023,      0.3033,      0.3043,     0.30531,     0.30631,     0.30731,     0.30831,     0.30931,     0.31031,     0.31131,\n",
       "           0.31231,     0.31331,     0.31431,     0.31532,     0.31632,     0.31732,     0.31832,     0.31932,     0.32032,     0.32132,     0.32232,     0.32332,     0.32432,     0.32533,     0.32633,     0.32733,     0.32833,     0.32933,     0.33033,     0.33133,     0.33233,     0.33333,     0.33433,     0.33534,\n",
       "           0.33634,     0.33734,     0.33834,     0.33934,     0.34034,     0.34134,     0.34234,     0.34334,     0.34434,     0.34535,     0.34635,     0.34735,     0.34835,     0.34935,     0.35035,     0.35135,     0.35235,     0.35335,     0.35435,     0.35536,     0.35636,     0.35736,     0.35836,     0.35936,\n",
       "           0.36036,     0.36136,     0.36236,     0.36336,     0.36436,     0.36537,     0.36637,     0.36737,     0.36837,     0.36937,     0.37037,     0.37137,     0.37237,     0.37337,     0.37437,     0.37538,     0.37638,     0.37738,     0.37838,     0.37938,     0.38038,     0.38138,     0.38238,     0.38338,\n",
       "           0.38438,     0.38539,     0.38639,     0.38739,     0.38839,     0.38939,     0.39039,     0.39139,     0.39239,     0.39339,     0.39439,      0.3954,      0.3964,      0.3974,      0.3984,      0.3994,      0.4004,      0.4014,      0.4024,      0.4034,      0.4044,     0.40541,     0.40641,     0.40741,\n",
       "           0.40841,     0.40941,     0.41041,     0.41141,     0.41241,     0.41341,     0.41441,     0.41542,     0.41642,     0.41742,     0.41842,     0.41942,     0.42042,     0.42142,     0.42242,     0.42342,     0.42442,     0.42543,     0.42643,     0.42743,     0.42843,     0.42943,     0.43043,     0.43143,\n",
       "           0.43243,     0.43343,     0.43443,     0.43544,     0.43644,     0.43744,     0.43844,     0.43944,     0.44044,     0.44144,     0.44244,     0.44344,     0.44444,     0.44545,     0.44645,     0.44745,     0.44845,     0.44945,     0.45045,     0.45145,     0.45245,     0.45345,     0.45445,     0.45546,\n",
       "           0.45646,     0.45746,     0.45846,     0.45946,     0.46046,     0.46146,     0.46246,     0.46346,     0.46446,     0.46547,     0.46647,     0.46747,     0.46847,     0.46947,     0.47047,     0.47147,     0.47247,     0.47347,     0.47447,     0.47548,     0.47648,     0.47748,     0.47848,     0.47948,\n",
       "           0.48048,     0.48148,     0.48248,     0.48348,     0.48448,     0.48549,     0.48649,     0.48749,     0.48849,     0.48949,     0.49049,     0.49149,     0.49249,     0.49349,     0.49449,      0.4955,      0.4965,      0.4975,      0.4985,      0.4995,      0.5005,      0.5015,      0.5025,      0.5035,\n",
       "            0.5045,     0.50551,     0.50651,     0.50751,     0.50851,     0.50951,     0.51051,     0.51151,     0.51251,     0.51351,     0.51451,     0.51552,     0.51652,     0.51752,     0.51852,     0.51952,     0.52052,     0.52152,     0.52252,     0.52352,     0.52452,     0.52553,     0.52653,     0.52753,\n",
       "           0.52853,     0.52953,     0.53053,     0.53153,     0.53253,     0.53353,     0.53453,     0.53554,     0.53654,     0.53754,     0.53854,     0.53954,     0.54054,     0.54154,     0.54254,     0.54354,     0.54454,     0.54555,     0.54655,     0.54755,     0.54855,     0.54955,     0.55055,     0.55155,\n",
       "           0.55255,     0.55355,     0.55455,     0.55556,     0.55656,     0.55756,     0.55856,     0.55956,     0.56056,     0.56156,     0.56256,     0.56356,     0.56456,     0.56557,     0.56657,     0.56757,     0.56857,     0.56957,     0.57057,     0.57157,     0.57257,     0.57357,     0.57457,     0.57558,\n",
       "           0.57658,     0.57758,     0.57858,     0.57958,     0.58058,     0.58158,     0.58258,     0.58358,     0.58458,     0.58559,     0.58659,     0.58759,     0.58859,     0.58959,     0.59059,     0.59159,     0.59259,     0.59359,     0.59459,      0.5956,      0.5966,      0.5976,      0.5986,      0.5996,\n",
       "            0.6006,      0.6016,      0.6026,      0.6036,      0.6046,     0.60561,     0.60661,     0.60761,     0.60861,     0.60961,     0.61061,     0.61161,     0.61261,     0.61361,     0.61461,     0.61562,     0.61662,     0.61762,     0.61862,     0.61962,     0.62062,     0.62162,     0.62262,     0.62362,\n",
       "           0.62462,     0.62563,     0.62663,     0.62763,     0.62863,     0.62963,     0.63063,     0.63163,     0.63263,     0.63363,     0.63463,     0.63564,     0.63664,     0.63764,     0.63864,     0.63964,     0.64064,     0.64164,     0.64264,     0.64364,     0.64464,     0.64565,     0.64665,     0.64765,\n",
       "           0.64865,     0.64965,     0.65065,     0.65165,     0.65265,     0.65365,     0.65465,     0.65566,     0.65666,     0.65766,     0.65866,     0.65966,     0.66066,     0.66166,     0.66266,     0.66366,     0.66466,     0.66567,     0.66667,     0.66767,     0.66867,     0.66967,     0.67067,     0.67167,\n",
       "           0.67267,     0.67367,     0.67467,     0.67568,     0.67668,     0.67768,     0.67868,     0.67968,     0.68068,     0.68168,     0.68268,     0.68368,     0.68468,     0.68569,     0.68669,     0.68769,     0.68869,     0.68969,     0.69069,     0.69169,     0.69269,     0.69369,     0.69469,      0.6957,\n",
       "            0.6967,      0.6977,      0.6987,      0.6997,      0.7007,      0.7017,      0.7027,      0.7037,      0.7047,     0.70571,     0.70671,     0.70771,     0.70871,     0.70971,     0.71071,     0.71171,     0.71271,     0.71371,     0.71471,     0.71572,     0.71672,     0.71772,     0.71872,     0.71972,\n",
       "           0.72072,     0.72172,     0.72272,     0.72372,     0.72472,     0.72573,     0.72673,     0.72773,     0.72873,     0.72973,     0.73073,     0.73173,     0.73273,     0.73373,     0.73473,     0.73574,     0.73674,     0.73774,     0.73874,     0.73974,     0.74074,     0.74174,     0.74274,     0.74374,\n",
       "           0.74474,     0.74575,     0.74675,     0.74775,     0.74875,     0.74975,     0.75075,     0.75175,     0.75275,     0.75375,     0.75475,     0.75576,     0.75676,     0.75776,     0.75876,     0.75976,     0.76076,     0.76176,     0.76276,     0.76376,     0.76476,     0.76577,     0.76677,     0.76777,\n",
       "           0.76877,     0.76977,     0.77077,     0.77177,     0.77277,     0.77377,     0.77477,     0.77578,     0.77678,     0.77778,     0.77878,     0.77978,     0.78078,     0.78178,     0.78278,     0.78378,     0.78478,     0.78579,     0.78679,     0.78779,     0.78879,     0.78979,     0.79079,     0.79179,\n",
       "           0.79279,     0.79379,     0.79479,      0.7958,      0.7968,      0.7978,      0.7988,      0.7998,      0.8008,      0.8018,      0.8028,      0.8038,      0.8048,     0.80581,     0.80681,     0.80781,     0.80881,     0.80981,     0.81081,     0.81181,     0.81281,     0.81381,     0.81481,     0.81582,\n",
       "           0.81682,     0.81782,     0.81882,     0.81982,     0.82082,     0.82182,     0.82282,     0.82382,     0.82482,     0.82583,     0.82683,     0.82783,     0.82883,     0.82983,     0.83083,     0.83183,     0.83283,     0.83383,     0.83483,     0.83584,     0.83684,     0.83784,     0.83884,     0.83984,\n",
       "           0.84084,     0.84184,     0.84284,     0.84384,     0.84484,     0.84585,     0.84685,     0.84785,     0.84885,     0.84985,     0.85085,     0.85185,     0.85285,     0.85385,     0.85485,     0.85586,     0.85686,     0.85786,     0.85886,     0.85986,     0.86086,     0.86186,     0.86286,     0.86386,\n",
       "           0.86486,     0.86587,     0.86687,     0.86787,     0.86887,     0.86987,     0.87087,     0.87187,     0.87287,     0.87387,     0.87487,     0.87588,     0.87688,     0.87788,     0.87888,     0.87988,     0.88088,     0.88188,     0.88288,     0.88388,     0.88488,     0.88589,     0.88689,     0.88789,\n",
       "           0.88889,     0.88989,     0.89089,     0.89189,     0.89289,     0.89389,     0.89489,      0.8959,      0.8969,      0.8979,      0.8989,      0.8999,      0.9009,      0.9019,      0.9029,      0.9039,      0.9049,     0.90591,     0.90691,     0.90791,     0.90891,     0.90991,     0.91091,     0.91191,\n",
       "           0.91291,     0.91391,     0.91491,     0.91592,     0.91692,     0.91792,     0.91892,     0.91992,     0.92092,     0.92192,     0.92292,     0.92392,     0.92492,     0.92593,     0.92693,     0.92793,     0.92893,     0.92993,     0.93093,     0.93193,     0.93293,     0.93393,     0.93493,     0.93594,\n",
       "           0.93694,     0.93794,     0.93894,     0.93994,     0.94094,     0.94194,     0.94294,     0.94394,     0.94494,     0.94595,     0.94695,     0.94795,     0.94895,     0.94995,     0.95095,     0.95195,     0.95295,     0.95395,     0.95495,     0.95596,     0.95696,     0.95796,     0.95896,     0.95996,\n",
       "           0.96096,     0.96196,     0.96296,     0.96396,     0.96496,     0.96597,     0.96697,     0.96797,     0.96897,     0.96997,     0.97097,     0.97197,     0.97297,     0.97397,     0.97497,     0.97598,     0.97698,     0.97798,     0.97898,     0.97998,     0.98098,     0.98198,     0.98298,     0.98398,\n",
       "           0.98498,     0.98599,     0.98699,     0.98799,     0.98899,     0.98999,     0.99099,     0.99199,     0.99299,     0.99399,     0.99499,       0.996,       0.997,       0.998,       0.999,           1]), array([[   0.078958,    0.078958,    0.078958,    0.078958,    0.079104,    0.080887,    0.083168,    0.086141,    0.090218,    0.094756,    0.098975,     0.10369,     0.10751,     0.11118,     0.11486,     0.11968,     0.12335,     0.12743,     0.13195,      0.1368,     0.14113,     0.14615,      0.1514,\n",
       "            0.15641,     0.16195,     0.16677,     0.17249,     0.17793,     0.18297,     0.18737,     0.19208,     0.19532,     0.20053,     0.20474,     0.20933,     0.21361,     0.21717,     0.22131,     0.22638,     0.23048,     0.23337,     0.23607,     0.23927,     0.24432,      0.2477,     0.25221,\n",
       "            0.25659,     0.25991,     0.26471,     0.26892,     0.27125,     0.27279,     0.27694,     0.28062,     0.28511,     0.28834,     0.29196,     0.29796,      0.3015,     0.30489,     0.30843,     0.31131,     0.31419,     0.31777,     0.32064,     0.32289,     0.32646,     0.33024,      0.3333,\n",
       "            0.33586,     0.33743,     0.34049,      0.3428,     0.34504,     0.34769,      0.3498,     0.35458,     0.35585,     0.35886,     0.36171,     0.36513,     0.36689,     0.36729,     0.37064,     0.37302,     0.37529,     0.37859,     0.37987,     0.38125,     0.38293,     0.38496,     0.38774,\n",
       "            0.39078,     0.39284,     0.39663,     0.39926,      0.4017,     0.40412,     0.40731,     0.40888,     0.41041,     0.41472,      0.4183,     0.42195,     0.42547,     0.42692,     0.42803,     0.43097,      0.4322,     0.43354,     0.43723,      0.4412,     0.44297,     0.44389,     0.44549,\n",
       "            0.44733,      0.4488,     0.45298,     0.45624,     0.45842,     0.45956,     0.46021,     0.46289,     0.46705,     0.47047,     0.47113,     0.47373,     0.47536,     0.47586,      0.4769,     0.48114,     0.48279,     0.48514,     0.48745,     0.48849,     0.49108,     0.49301,     0.49694,\n",
       "            0.49978,     0.50099,     0.50241,     0.50317,     0.50553,     0.50729,     0.50948,     0.51362,     0.51517,     0.51677,     0.51768,     0.51837,     0.51948,     0.52015,     0.52073,     0.52167,     0.52472,     0.52575,     0.52836,     0.52792,     0.52829,     0.53009,     0.53041,\n",
       "            0.53073,     0.53178,     0.53443,      0.5374,     0.53841,     0.53878,     0.54245,     0.54476,       0.546,     0.54665,     0.54776,     0.54825,     0.54951,     0.55343,     0.55592,     0.55704,     0.55841,     0.56024,     0.56408,     0.56629,     0.56755,     0.56844,     0.56883,\n",
       "            0.56967,     0.57226,     0.57422,     0.57659,     0.57713,     0.57786,     0.57852,     0.57888,     0.57924,      0.5804,      0.5817,     0.58284,     0.58332,     0.58311,     0.58359,      0.5843,     0.58562,     0.58826,     0.58741,     0.58814,     0.59014,     0.58993,     0.59085,\n",
       "            0.59304,     0.59496,     0.59782,     0.59819,     0.59842,     0.59866,     0.59889,     0.60015,     0.60151,     0.60164,     0.60255,     0.60402,      0.6073,      0.6113,     0.61509,     0.61486,     0.61646,      0.6165,     0.61822,     0.62171,     0.62503,     0.62585,     0.62934,\n",
       "            0.62989,     0.63145,     0.63485,     0.63564,     0.63631,     0.63735,     0.63808,     0.63865,     0.63897,     0.63928,     0.63959,     0.64084,      0.6422,     0.64288,      0.6439,     0.64505,     0.64517,     0.64747,     0.64778,     0.64808,     0.64838,     0.64889,     0.65033,\n",
       "            0.65035,     0.65163,     0.65293,     0.65315,     0.65287,     0.65365,     0.65593,     0.65778,     0.65948,     0.66217,     0.66314,     0.66362,     0.66438,     0.66679,     0.67156,     0.67298,     0.67388,     0.67585,     0.67634,     0.67682,     0.67878,     0.68011,     0.68268,\n",
       "            0.68432,     0.68558,     0.68631,     0.68752,     0.68923,     0.69065,     0.69463,     0.69561,     0.70087,     0.70509,     0.70491,     0.70473,     0.70455,     0.70574,     0.70545,     0.70575,     0.70604,     0.70634,     0.70664,       0.707,     0.70753,     0.70806,     0.70859,\n",
       "            0.70914,     0.70969,     0.71144,     0.71196,     0.71249,     0.71242,     0.71251,     0.71295,     0.71339,     0.71363,     0.71346,     0.71329,     0.71312,     0.71365,     0.71441,     0.71626,     0.71718,     0.71952,     0.72235,     0.72345,      0.7241,     0.72455,     0.72501,\n",
       "            0.72572,     0.72687,     0.72663,      0.7264,      0.7267,     0.72746,     0.72855,     0.72996,      0.7312,     0.73226,     0.73294,     0.73343,     0.73392,     0.73447,      0.7351,     0.73573,     0.73698,     0.73787,     0.73828,     0.74108,     0.74106,     0.74098,     0.74089,\n",
       "             0.7408,     0.74071,     0.74063,        0.74,     0.74021,     0.74041,     0.74062,     0.74082,     0.74103,     0.74124,     0.74144,     0.74165,     0.74443,     0.74469,     0.74496,     0.74522,     0.74549,     0.74575,     0.74602,     0.74586,      0.7456,     0.74606,       0.747,\n",
       "             0.7487,     0.74833,     0.74884,     0.74943,      0.7517,     0.75131,     0.75169,     0.75263,     0.75344,     0.75421,     0.75453,      0.7544,     0.75428,     0.75416,     0.75404,     0.75421,     0.75442,     0.75464,     0.75485,     0.75506,     0.75528,     0.75549,     0.75571,\n",
       "            0.75613,     0.75663,     0.75712,     0.75773,     0.75871,     0.75916,     0.75893,      0.7587,     0.75946,     0.76023,     0.76041,     0.76119,     0.76211,     0.76327,     0.76458,     0.76415,     0.76481,     0.76546,     0.76614,     0.76689,     0.76764,     0.76806,      0.7684,\n",
       "            0.76875,     0.76909,     0.76943,     0.76932,     0.76992,     0.77254,     0.77395,     0.77771,     0.77944,     0.78069,     0.78174,     0.78225,     0.78249,     0.78273,     0.78297,     0.78321,     0.78346,      0.7837,     0.78394,     0.78388,     0.78376,     0.78364,     0.78352,\n",
       "            0.78337,     0.78318,       0.783,     0.78365,     0.78484,      0.7861,     0.78584,     0.78706,     0.78631,     0.78604,     0.78592,     0.78581,     0.78569,     0.78558,     0.78594,     0.78655,     0.78717,     0.79008,      0.7913,     0.79101,     0.79326,     0.79409,     0.79491,\n",
       "            0.79469,     0.79444,     0.79494,     0.79553,     0.79611,      0.7964,     0.79633,     0.79625,     0.79618,      0.7961,     0.79603,     0.79595,     0.79618,     0.79668,     0.79718,     0.79768,     0.79781,     0.79749,      0.7985,     0.79941,     0.79909,     0.80086,     0.80272,\n",
       "             0.8032,     0.80368,     0.80416,     0.80464,      0.8043,     0.80366,     0.80353,      0.8034,     0.80327,     0.80314,     0.80288,     0.80259,     0.80198,     0.80178,     0.80155,     0.80106,     0.80311,     0.80301,     0.80291,     0.80281,     0.80271,     0.80214,     0.80207,\n",
       "              0.802,     0.80193,     0.80186,      0.8018,     0.80173,     0.80166,     0.80153,      0.8012,     0.80297,     0.80349,     0.80478,     0.80597,     0.80714,     0.80808,     0.80902,     0.80971,     0.81031,     0.81092,     0.81166,     0.81375,     0.81395,     0.81416,     0.81436,\n",
       "            0.81456,     0.81477,     0.81497,     0.81518,     0.81538,     0.81558,     0.81579,      0.8178,     0.81993,     0.81984,     0.81974,     0.81964,     0.81955,     0.81945,     0.82183,     0.82324,     0.82363,     0.82496,     0.82838,     0.82981,     0.82996,     0.82974,     0.82954,\n",
       "            0.82947,      0.8294,     0.82933,     0.82926,      0.8292,     0.82913,     0.82907,     0.83048,     0.83371,     0.83325,     0.83314,     0.83302,      0.8329,     0.83236,     0.83229,     0.83221,     0.83213,     0.83205,     0.83198,      0.8319,     0.83165,     0.83191,     0.83405,\n",
       "            0.83595,     0.83651,     0.83707,     0.83763,     0.83819,     0.83879,     0.83939,     0.83999,     0.84059,     0.84066,     0.84059,     0.84053,     0.84047,      0.8404,     0.84034,     0.84028,     0.84204,     0.84266,     0.84259,     0.84251,     0.84243,     0.84235,     0.84228,\n",
       "            0.84188,     0.84455,     0.84617,     0.84598,      0.8464,     0.84683,     0.84725,     0.84767,     0.84809,     0.84848,     0.84835,     0.84822,     0.84809,     0.84791,      0.8477,     0.84812,     0.84974,     0.85109,     0.85235,     0.85178,     0.85153,     0.85282,     0.85544,\n",
       "            0.85646,      0.8589,     0.85882,     0.85874,     0.85866,     0.85858,      0.8585,     0.86105,     0.86088,     0.86067,     0.86037,     0.86101,     0.86185,     0.86269,     0.86266,     0.86339,     0.86412,     0.86486,     0.86532,     0.86507,     0.86477,     0.86443,     0.86414,\n",
       "            0.86553,      0.8669,     0.86757,     0.86823,      0.8689,     0.86957,     0.86926,     0.86916,     0.86906,     0.86896,     0.86886,     0.86972,     0.87069,     0.87167,     0.87315,     0.87455,     0.87444,     0.87492,     0.87539,     0.87586,     0.87634,     0.87681,     0.87736,\n",
       "              0.878,     0.87864,     0.87928,     0.87993,     0.88144,     0.88292,     0.88257,     0.88399,     0.88552,     0.88548,     0.88544,      0.8854,     0.88536,     0.88532,     0.88528,     0.88524,      0.8852,     0.88516,     0.88492,     0.88357,     0.88313,     0.88301,     0.88289,\n",
       "            0.88277,     0.88388,     0.88514,     0.88571,     0.88548,     0.88522,     0.88462,     0.88429,     0.88385,     0.88479,      0.8878,     0.88935,     0.88954,     0.88936,     0.88916,     0.88895,     0.88854,     0.88787,     0.88762,     0.88908,     0.89051,     0.89033,     0.89015,\n",
       "            0.89301,     0.89438,      0.8958,     0.89605,     0.89581,     0.89564,     0.89527,     0.89489,     0.89459,      0.8943,     0.89413,     0.89396,     0.89347,      0.8934,     0.89333,     0.89326,     0.89318,     0.89321,     0.89594,     0.89528,     0.89495,      0.8946,     0.89444,\n",
       "            0.89434,     0.89423,     0.89412,     0.89325,     0.89341,     0.89501,     0.89605,     0.89729,     0.89859,      0.9015,      0.9061,     0.90908,     0.90833,     0.90788,     0.90767,     0.90833,     0.90995,     0.91137,     0.91121,     0.91105,     0.91079,     0.91052,     0.91029,\n",
       "            0.90987,     0.90963,     0.90864,     0.90842,     0.90805,     0.90917,     0.91095,      0.9117,     0.91122,     0.91028,     0.90947,     0.90911,     0.90842,     0.90799,     0.90671,      0.9098,     0.90899,     0.90869,     0.91298,     0.91272,     0.91191,     0.91089,     0.91068,\n",
       "            0.91048,     0.90992,     0.90954,     0.90884,     0.90792,     0.91217,     0.91138,     0.91112,     0.91144,     0.91501,     0.91438,     0.91358,     0.91755,     0.91718,     0.91665,     0.91628,     0.91563,     0.91539,     0.91428,     0.91413,     0.91399,     0.91385,     0.91323,\n",
       "            0.91226,     0.91212,     0.91198,     0.91185,     0.91545,     0.91685,     0.91567,     0.91891,     0.91651,     0.91487,     0.91453,     0.91318,     0.91201,     0.91016,     0.91296,     0.91555,     0.92172,     0.92767,     0.92696,     0.92654,     0.92611,     0.92564,     0.92493,\n",
       "            0.92463,     0.92441,     0.92199,     0.92064,     0.92788,      0.9275,     0.92656,     0.92615,     0.92527,     0.93265,     0.93192,     0.93133,     0.93315,     0.93828,      0.9373,     0.93681,     0.93665,      0.9365,     0.93626,     0.93563,     0.93534,     0.94334,     0.94253,\n",
       "            0.94103,     0.94074,     0.94014,     0.93812,     0.94623,     0.94597,     0.94571,     0.95502,     0.95473,     0.95359,     0.96429,     0.96323,      0.9725,     0.97428,     0.97398,     0.97292,      0.9725,     0.97233,     0.97187,     0.97062,     0.96973,     0.96825,       0.968,\n",
       "            0.96775,     0.96553,     0.98185,     0.98187,     0.98151,     0.98075,     0.98068,      0.9806,     0.98053,     0.98046,     0.98035,     0.97989,     0.97965,     0.97812,     0.97748,     0.97591,     0.97513,     0.97334,      0.9718,     0.97378,     0.99501,           1,           1,\n",
       "                  1,           1,           1,           1,           1,           1,           1,           1,           1,           1,           1,           1,           1,           1,           1,           1,           1,           1,           1,           1,           1,           1,           1,\n",
       "                  1,           1,           1,           1,           1,           1,           1,           1,           1,           1,           1,           1,           1,           1,           1,           1,           1,           1,           1,           1,           1,           1,           1,\n",
       "                  1,           1,           1,           1,           1,           1,           1,           1,           1,           1,           1,           1,           1,           1,           1,           1,           1,           1,           1,           1,           1,           1,           1,\n",
       "                  1,           1,           1,           1,           1,           1,           1,           1,           1,           1,           1,           1,           1,           1,           1,           1,           1,           1,           1,           1,           1,           1,           1,\n",
       "                  1,           1,           1,           1,           1,           1,           1,           1,           1,           1,           1]]), 'Confidence', 'Precision'], [array([          0,    0.001001,    0.002002,    0.003003,    0.004004,    0.005005,    0.006006,    0.007007,    0.008008,    0.009009,     0.01001,    0.011011,    0.012012,    0.013013,    0.014014,    0.015015,    0.016016,    0.017017,    0.018018,    0.019019,     0.02002,    0.021021,    0.022022,    0.023023,\n",
       "          0.024024,    0.025025,    0.026026,    0.027027,    0.028028,    0.029029,     0.03003,    0.031031,    0.032032,    0.033033,    0.034034,    0.035035,    0.036036,    0.037037,    0.038038,    0.039039,     0.04004,    0.041041,    0.042042,    0.043043,    0.044044,    0.045045,    0.046046,    0.047047,\n",
       "          0.048048,    0.049049,     0.05005,    0.051051,    0.052052,    0.053053,    0.054054,    0.055055,    0.056056,    0.057057,    0.058058,    0.059059,     0.06006,    0.061061,    0.062062,    0.063063,    0.064064,    0.065065,    0.066066,    0.067067,    0.068068,    0.069069,     0.07007,    0.071071,\n",
       "          0.072072,    0.073073,    0.074074,    0.075075,    0.076076,    0.077077,    0.078078,    0.079079,     0.08008,    0.081081,    0.082082,    0.083083,    0.084084,    0.085085,    0.086086,    0.087087,    0.088088,    0.089089,     0.09009,    0.091091,    0.092092,    0.093093,    0.094094,    0.095095,\n",
       "          0.096096,    0.097097,    0.098098,    0.099099,      0.1001,      0.1011,      0.1021,      0.1031,      0.1041,     0.10511,     0.10611,     0.10711,     0.10811,     0.10911,     0.11011,     0.11111,     0.11211,     0.11311,     0.11411,     0.11512,     0.11612,     0.11712,     0.11812,     0.11912,\n",
       "           0.12012,     0.12112,     0.12212,     0.12312,     0.12412,     0.12513,     0.12613,     0.12713,     0.12813,     0.12913,     0.13013,     0.13113,     0.13213,     0.13313,     0.13413,     0.13514,     0.13614,     0.13714,     0.13814,     0.13914,     0.14014,     0.14114,     0.14214,     0.14314,\n",
       "           0.14414,     0.14515,     0.14615,     0.14715,     0.14815,     0.14915,     0.15015,     0.15115,     0.15215,     0.15315,     0.15415,     0.15516,     0.15616,     0.15716,     0.15816,     0.15916,     0.16016,     0.16116,     0.16216,     0.16316,     0.16416,     0.16517,     0.16617,     0.16717,\n",
       "           0.16817,     0.16917,     0.17017,     0.17117,     0.17217,     0.17317,     0.17417,     0.17518,     0.17618,     0.17718,     0.17818,     0.17918,     0.18018,     0.18118,     0.18218,     0.18318,     0.18418,     0.18519,     0.18619,     0.18719,     0.18819,     0.18919,     0.19019,     0.19119,\n",
       "           0.19219,     0.19319,     0.19419,      0.1952,      0.1962,      0.1972,      0.1982,      0.1992,      0.2002,      0.2012,      0.2022,      0.2032,      0.2042,     0.20521,     0.20621,     0.20721,     0.20821,     0.20921,     0.21021,     0.21121,     0.21221,     0.21321,     0.21421,     0.21522,\n",
       "           0.21622,     0.21722,     0.21822,     0.21922,     0.22022,     0.22122,     0.22222,     0.22322,     0.22422,     0.22523,     0.22623,     0.22723,     0.22823,     0.22923,     0.23023,     0.23123,     0.23223,     0.23323,     0.23423,     0.23524,     0.23624,     0.23724,     0.23824,     0.23924,\n",
       "           0.24024,     0.24124,     0.24224,     0.24324,     0.24424,     0.24525,     0.24625,     0.24725,     0.24825,     0.24925,     0.25025,     0.25125,     0.25225,     0.25325,     0.25425,     0.25526,     0.25626,     0.25726,     0.25826,     0.25926,     0.26026,     0.26126,     0.26226,     0.26326,\n",
       "           0.26426,     0.26527,     0.26627,     0.26727,     0.26827,     0.26927,     0.27027,     0.27127,     0.27227,     0.27327,     0.27427,     0.27528,     0.27628,     0.27728,     0.27828,     0.27928,     0.28028,     0.28128,     0.28228,     0.28328,     0.28428,     0.28529,     0.28629,     0.28729,\n",
       "           0.28829,     0.28929,     0.29029,     0.29129,     0.29229,     0.29329,     0.29429,      0.2953,      0.2963,      0.2973,      0.2983,      0.2993,      0.3003,      0.3013,      0.3023,      0.3033,      0.3043,     0.30531,     0.30631,     0.30731,     0.30831,     0.30931,     0.31031,     0.31131,\n",
       "           0.31231,     0.31331,     0.31431,     0.31532,     0.31632,     0.31732,     0.31832,     0.31932,     0.32032,     0.32132,     0.32232,     0.32332,     0.32432,     0.32533,     0.32633,     0.32733,     0.32833,     0.32933,     0.33033,     0.33133,     0.33233,     0.33333,     0.33433,     0.33534,\n",
       "           0.33634,     0.33734,     0.33834,     0.33934,     0.34034,     0.34134,     0.34234,     0.34334,     0.34434,     0.34535,     0.34635,     0.34735,     0.34835,     0.34935,     0.35035,     0.35135,     0.35235,     0.35335,     0.35435,     0.35536,     0.35636,     0.35736,     0.35836,     0.35936,\n",
       "           0.36036,     0.36136,     0.36236,     0.36336,     0.36436,     0.36537,     0.36637,     0.36737,     0.36837,     0.36937,     0.37037,     0.37137,     0.37237,     0.37337,     0.37437,     0.37538,     0.37638,     0.37738,     0.37838,     0.37938,     0.38038,     0.38138,     0.38238,     0.38338,\n",
       "           0.38438,     0.38539,     0.38639,     0.38739,     0.38839,     0.38939,     0.39039,     0.39139,     0.39239,     0.39339,     0.39439,      0.3954,      0.3964,      0.3974,      0.3984,      0.3994,      0.4004,      0.4014,      0.4024,      0.4034,      0.4044,     0.40541,     0.40641,     0.40741,\n",
       "           0.40841,     0.40941,     0.41041,     0.41141,     0.41241,     0.41341,     0.41441,     0.41542,     0.41642,     0.41742,     0.41842,     0.41942,     0.42042,     0.42142,     0.42242,     0.42342,     0.42442,     0.42543,     0.42643,     0.42743,     0.42843,     0.42943,     0.43043,     0.43143,\n",
       "           0.43243,     0.43343,     0.43443,     0.43544,     0.43644,     0.43744,     0.43844,     0.43944,     0.44044,     0.44144,     0.44244,     0.44344,     0.44444,     0.44545,     0.44645,     0.44745,     0.44845,     0.44945,     0.45045,     0.45145,     0.45245,     0.45345,     0.45445,     0.45546,\n",
       "           0.45646,     0.45746,     0.45846,     0.45946,     0.46046,     0.46146,     0.46246,     0.46346,     0.46446,     0.46547,     0.46647,     0.46747,     0.46847,     0.46947,     0.47047,     0.47147,     0.47247,     0.47347,     0.47447,     0.47548,     0.47648,     0.47748,     0.47848,     0.47948,\n",
       "           0.48048,     0.48148,     0.48248,     0.48348,     0.48448,     0.48549,     0.48649,     0.48749,     0.48849,     0.48949,     0.49049,     0.49149,     0.49249,     0.49349,     0.49449,      0.4955,      0.4965,      0.4975,      0.4985,      0.4995,      0.5005,      0.5015,      0.5025,      0.5035,\n",
       "            0.5045,     0.50551,     0.50651,     0.50751,     0.50851,     0.50951,     0.51051,     0.51151,     0.51251,     0.51351,     0.51451,     0.51552,     0.51652,     0.51752,     0.51852,     0.51952,     0.52052,     0.52152,     0.52252,     0.52352,     0.52452,     0.52553,     0.52653,     0.52753,\n",
       "           0.52853,     0.52953,     0.53053,     0.53153,     0.53253,     0.53353,     0.53453,     0.53554,     0.53654,     0.53754,     0.53854,     0.53954,     0.54054,     0.54154,     0.54254,     0.54354,     0.54454,     0.54555,     0.54655,     0.54755,     0.54855,     0.54955,     0.55055,     0.55155,\n",
       "           0.55255,     0.55355,     0.55455,     0.55556,     0.55656,     0.55756,     0.55856,     0.55956,     0.56056,     0.56156,     0.56256,     0.56356,     0.56456,     0.56557,     0.56657,     0.56757,     0.56857,     0.56957,     0.57057,     0.57157,     0.57257,     0.57357,     0.57457,     0.57558,\n",
       "           0.57658,     0.57758,     0.57858,     0.57958,     0.58058,     0.58158,     0.58258,     0.58358,     0.58458,     0.58559,     0.58659,     0.58759,     0.58859,     0.58959,     0.59059,     0.59159,     0.59259,     0.59359,     0.59459,      0.5956,      0.5966,      0.5976,      0.5986,      0.5996,\n",
       "            0.6006,      0.6016,      0.6026,      0.6036,      0.6046,     0.60561,     0.60661,     0.60761,     0.60861,     0.60961,     0.61061,     0.61161,     0.61261,     0.61361,     0.61461,     0.61562,     0.61662,     0.61762,     0.61862,     0.61962,     0.62062,     0.62162,     0.62262,     0.62362,\n",
       "           0.62462,     0.62563,     0.62663,     0.62763,     0.62863,     0.62963,     0.63063,     0.63163,     0.63263,     0.63363,     0.63463,     0.63564,     0.63664,     0.63764,     0.63864,     0.63964,     0.64064,     0.64164,     0.64264,     0.64364,     0.64464,     0.64565,     0.64665,     0.64765,\n",
       "           0.64865,     0.64965,     0.65065,     0.65165,     0.65265,     0.65365,     0.65465,     0.65566,     0.65666,     0.65766,     0.65866,     0.65966,     0.66066,     0.66166,     0.66266,     0.66366,     0.66466,     0.66567,     0.66667,     0.66767,     0.66867,     0.66967,     0.67067,     0.67167,\n",
       "           0.67267,     0.67367,     0.67467,     0.67568,     0.67668,     0.67768,     0.67868,     0.67968,     0.68068,     0.68168,     0.68268,     0.68368,     0.68468,     0.68569,     0.68669,     0.68769,     0.68869,     0.68969,     0.69069,     0.69169,     0.69269,     0.69369,     0.69469,      0.6957,\n",
       "            0.6967,      0.6977,      0.6987,      0.6997,      0.7007,      0.7017,      0.7027,      0.7037,      0.7047,     0.70571,     0.70671,     0.70771,     0.70871,     0.70971,     0.71071,     0.71171,     0.71271,     0.71371,     0.71471,     0.71572,     0.71672,     0.71772,     0.71872,     0.71972,\n",
       "           0.72072,     0.72172,     0.72272,     0.72372,     0.72472,     0.72573,     0.72673,     0.72773,     0.72873,     0.72973,     0.73073,     0.73173,     0.73273,     0.73373,     0.73473,     0.73574,     0.73674,     0.73774,     0.73874,     0.73974,     0.74074,     0.74174,     0.74274,     0.74374,\n",
       "           0.74474,     0.74575,     0.74675,     0.74775,     0.74875,     0.74975,     0.75075,     0.75175,     0.75275,     0.75375,     0.75475,     0.75576,     0.75676,     0.75776,     0.75876,     0.75976,     0.76076,     0.76176,     0.76276,     0.76376,     0.76476,     0.76577,     0.76677,     0.76777,\n",
       "           0.76877,     0.76977,     0.77077,     0.77177,     0.77277,     0.77377,     0.77477,     0.77578,     0.77678,     0.77778,     0.77878,     0.77978,     0.78078,     0.78178,     0.78278,     0.78378,     0.78478,     0.78579,     0.78679,     0.78779,     0.78879,     0.78979,     0.79079,     0.79179,\n",
       "           0.79279,     0.79379,     0.79479,      0.7958,      0.7968,      0.7978,      0.7988,      0.7998,      0.8008,      0.8018,      0.8028,      0.8038,      0.8048,     0.80581,     0.80681,     0.80781,     0.80881,     0.80981,     0.81081,     0.81181,     0.81281,     0.81381,     0.81481,     0.81582,\n",
       "           0.81682,     0.81782,     0.81882,     0.81982,     0.82082,     0.82182,     0.82282,     0.82382,     0.82482,     0.82583,     0.82683,     0.82783,     0.82883,     0.82983,     0.83083,     0.83183,     0.83283,     0.83383,     0.83483,     0.83584,     0.83684,     0.83784,     0.83884,     0.83984,\n",
       "           0.84084,     0.84184,     0.84284,     0.84384,     0.84484,     0.84585,     0.84685,     0.84785,     0.84885,     0.84985,     0.85085,     0.85185,     0.85285,     0.85385,     0.85485,     0.85586,     0.85686,     0.85786,     0.85886,     0.85986,     0.86086,     0.86186,     0.86286,     0.86386,\n",
       "           0.86486,     0.86587,     0.86687,     0.86787,     0.86887,     0.86987,     0.87087,     0.87187,     0.87287,     0.87387,     0.87487,     0.87588,     0.87688,     0.87788,     0.87888,     0.87988,     0.88088,     0.88188,     0.88288,     0.88388,     0.88488,     0.88589,     0.88689,     0.88789,\n",
       "           0.88889,     0.88989,     0.89089,     0.89189,     0.89289,     0.89389,     0.89489,      0.8959,      0.8969,      0.8979,      0.8989,      0.8999,      0.9009,      0.9019,      0.9029,      0.9039,      0.9049,     0.90591,     0.90691,     0.90791,     0.90891,     0.90991,     0.91091,     0.91191,\n",
       "           0.91291,     0.91391,     0.91491,     0.91592,     0.91692,     0.91792,     0.91892,     0.91992,     0.92092,     0.92192,     0.92292,     0.92392,     0.92492,     0.92593,     0.92693,     0.92793,     0.92893,     0.92993,     0.93093,     0.93193,     0.93293,     0.93393,     0.93493,     0.93594,\n",
       "           0.93694,     0.93794,     0.93894,     0.93994,     0.94094,     0.94194,     0.94294,     0.94394,     0.94494,     0.94595,     0.94695,     0.94795,     0.94895,     0.94995,     0.95095,     0.95195,     0.95295,     0.95395,     0.95495,     0.95596,     0.95696,     0.95796,     0.95896,     0.95996,\n",
       "           0.96096,     0.96196,     0.96296,     0.96396,     0.96496,     0.96597,     0.96697,     0.96797,     0.96897,     0.96997,     0.97097,     0.97197,     0.97297,     0.97397,     0.97497,     0.97598,     0.97698,     0.97798,     0.97898,     0.97998,     0.98098,     0.98198,     0.98298,     0.98398,\n",
       "           0.98498,     0.98599,     0.98699,     0.98799,     0.98899,     0.98999,     0.99099,     0.99199,     0.99299,     0.99399,     0.99499,       0.996,       0.997,       0.998,       0.999,           1]), array([[    0.96931,     0.96931,     0.96931,     0.96931,     0.96931,     0.96675,     0.96675,     0.96675,     0.96675,     0.96675,     0.96419,     0.96164,     0.96164,     0.96164,     0.96164,     0.96164,     0.96164,     0.96164,     0.96164,     0.96164,     0.96164,     0.96164,     0.96164,\n",
       "            0.96164,     0.96164,     0.95908,     0.95908,     0.95908,     0.95652,     0.95652,     0.95652,     0.95652,     0.95652,     0.95396,     0.95396,     0.95396,     0.95396,     0.95396,     0.95396,     0.95396,     0.95396,     0.95396,     0.95396,     0.95396,     0.95396,     0.95396,\n",
       "            0.95396,     0.95396,     0.95396,     0.95396,     0.95396,     0.95141,     0.95141,     0.95141,     0.95141,     0.95141,     0.95141,     0.95141,     0.95141,     0.94885,     0.94885,     0.94885,     0.94629,     0.94629,     0.94629,     0.94629,     0.94629,     0.94629,     0.94629,\n",
       "            0.94629,     0.94629,     0.94629,     0.94373,     0.94118,     0.94118,     0.94118,     0.94118,     0.94118,     0.94118,     0.94118,     0.94118,     0.94118,     0.93862,     0.93862,     0.93862,     0.93862,     0.93862,     0.93606,     0.93606,     0.93606,     0.93606,     0.93606,\n",
       "            0.93606,     0.93606,     0.93606,      0.9335,      0.9335,      0.9335,      0.9335,      0.9335,      0.9335,      0.9335,      0.9335,      0.9335,      0.9335,      0.9335,      0.9335,      0.9335,      0.9335,      0.9335,      0.9335,      0.9335,      0.9335,      0.9335,      0.9335,\n",
       "             0.9335,      0.9335,      0.9335,      0.9335,      0.9335,      0.9335,      0.9335,      0.9335,      0.9335,      0.9335,      0.9335,      0.9335,      0.9335,      0.9335,      0.9335,      0.9335,      0.9335,      0.9335,      0.9335,      0.9335,      0.9335,      0.9335,      0.9335,\n",
       "             0.9335,      0.9335,      0.9335,      0.9335,      0.9335,     0.93095,     0.93095,     0.93095,     0.93095,     0.93095,     0.93095,     0.93095,     0.93095,     0.93095,     0.93095,     0.92884,     0.92839,     0.92839,     0.92839,     0.92583,     0.92583,     0.92583,     0.92583,\n",
       "            0.92583,     0.92583,     0.92479,     0.92072,     0.92072,     0.92072,     0.92072,     0.92072,     0.92072,     0.92072,     0.92072,     0.91816,     0.91816,     0.91816,     0.91816,     0.91662,      0.9156,      0.9156,      0.9156,      0.9156,      0.9156,      0.9156,      0.9156,\n",
       "             0.9156,      0.9156,      0.9156,      0.9156,      0.9156,      0.9156,      0.9156,      0.9156,      0.9156,      0.9156,      0.9156,      0.9156,     0.91049,     0.90793,     0.90793,     0.90793,     0.90793,      0.9062,     0.90302,     0.90026,     0.90026,     0.89774,      0.8977,\n",
       "             0.8977,      0.8977,      0.8977,      0.8977,      0.8977,      0.8977,      0.8977,      0.8977,      0.8977,     0.89514,     0.89514,     0.89514,     0.89514,     0.89514,     0.89503,     0.89258,     0.89258,     0.89003,     0.89003,     0.89003,     0.89003,     0.89003,     0.89003,\n",
       "            0.89003,     0.89003,     0.89003,     0.89003,     0.89003,     0.89003,     0.89003,     0.89003,     0.89003,     0.89003,     0.89003,     0.89003,     0.89003,     0.89003,     0.89003,     0.89003,      0.8882,     0.88747,     0.88747,     0.88747,     0.88747,     0.88747,     0.88747,\n",
       "            0.88481,     0.88235,     0.88235,     0.88134,      0.8798,      0.8798,      0.8798,      0.8798,      0.8798,      0.8798,      0.8798,      0.8798,      0.8798,      0.8798,      0.8798,      0.8798,      0.8798,      0.8798,      0.8798,      0.8798,      0.8798,      0.8798,      0.8798,\n",
       "             0.8798,      0.8798,      0.8798,      0.8798,      0.8798,     0.87724,     0.87724,     0.87724,     0.87468,     0.87443,     0.87366,      0.8729,     0.87213,     0.87102,     0.86957,     0.86957,     0.86957,     0.86957,     0.86957,     0.86957,     0.86957,     0.86957,     0.86957,\n",
       "            0.86957,     0.86957,     0.86957,     0.86957,     0.86957,       0.868,     0.86701,     0.86701,     0.86701,     0.86676,     0.86605,     0.86534,     0.86462,     0.86445,     0.86445,     0.86445,     0.86445,     0.86445,     0.86445,     0.86445,     0.86445,     0.86445,     0.86445,\n",
       "            0.86445,     0.86439,     0.86337,     0.86236,     0.86189,     0.86189,     0.86189,     0.86189,     0.86189,     0.86189,     0.86189,     0.86189,     0.86189,     0.86189,     0.86189,     0.86189,     0.85934,     0.85934,     0.85854,     0.85678,     0.85639,       0.856,     0.85561,\n",
       "            0.85522,     0.85483,     0.85444,     0.85167,     0.85166,     0.85166,     0.85166,     0.85166,     0.85166,     0.85166,     0.85166,     0.85166,      0.8491,      0.8491,      0.8491,      0.8491,      0.8491,      0.8491,      0.8491,     0.84817,     0.84702,     0.84655,     0.84655,\n",
       "             0.8458,     0.84412,     0.84399,     0.84399,     0.84399,     0.84219,     0.84143,     0.84143,     0.84143,     0.84143,     0.84116,      0.8406,     0.84005,      0.8395,     0.83895,     0.83887,     0.83887,     0.83887,     0.83887,     0.83887,     0.83887,     0.83887,     0.83887,\n",
       "            0.83887,     0.83887,     0.83887,     0.83887,     0.83887,     0.83842,     0.83738,     0.83633,     0.83632,     0.83632,     0.83376,     0.83376,     0.83376,     0.83376,     0.83061,     0.82864,     0.82864,     0.82864,     0.82864,     0.82864,     0.82864,     0.82864,     0.82864,\n",
       "            0.82864,     0.82864,     0.82864,     0.82736,     0.82609,     0.82609,     0.82609,     0.82609,     0.82609,     0.82609,     0.82609,     0.82609,     0.82609,     0.82609,     0.82609,     0.82609,     0.82609,     0.82609,     0.82609,      0.8256,     0.82501,     0.82443,     0.82384,\n",
       "            0.82311,     0.82221,     0.82132,     0.82097,     0.82096,     0.81774,     0.81648,     0.81299,     0.80933,     0.80804,     0.80749,     0.80693,     0.80638,     0.80582,     0.80563,     0.80563,     0.80563,     0.80563,     0.80484,     0.80345,     0.80307,     0.80307,     0.80307,\n",
       "            0.80188,     0.80065,     0.80051,     0.80051,     0.80051,     0.80035,     0.79998,     0.79961,     0.79924,     0.79887,      0.7985,     0.79813,     0.79795,     0.79795,     0.79795,     0.79795,     0.79724,     0.79568,      0.7954,     0.79501,     0.79346,     0.79196,     0.79028,\n",
       "            0.79028,     0.79028,     0.79028,     0.79028,     0.78835,     0.78512,     0.78449,     0.78385,     0.78322,     0.78256,     0.78129,     0.77986,     0.77687,     0.77587,     0.77477,     0.77238,       0.772,     0.77151,     0.77102,     0.77053,     0.77004,     0.76725,     0.76692,\n",
       "            0.76659,     0.76627,     0.76594,     0.76561,     0.76528,     0.76495,     0.76431,     0.76275,     0.76088,     0.75959,     0.75959,     0.75959,     0.75959,     0.75959,     0.75959,     0.75959,     0.75959,     0.75959,     0.75959,     0.75959,     0.75959,     0.75959,     0.75959,\n",
       "            0.75959,     0.75959,     0.75959,     0.75959,     0.75959,     0.75959,     0.75959,     0.75703,     0.75698,     0.75649,     0.75599,      0.7555,       0.755,     0.75451,     0.75448,     0.75448,     0.75192,     0.75192,     0.75192,     0.75192,     0.74901,     0.74783,     0.74676,\n",
       "             0.7464,     0.74604,     0.74568,     0.74532,     0.74496,      0.7446,     0.74425,     0.74425,     0.74369,     0.74127,     0.74063,        0.74,     0.73937,     0.73653,     0.73613,     0.73572,     0.73532,     0.73491,     0.73451,      0.7341,     0.73279,     0.73146,      0.7289,\n",
       "             0.7289,      0.7289,      0.7289,      0.7289,      0.7289,      0.7289,      0.7289,      0.7289,      0.7289,     0.72862,     0.72828,     0.72794,     0.72759,     0.72725,      0.7269,     0.72656,     0.72634,     0.72598,     0.72555,     0.72513,     0.72471,     0.72428,     0.72386,\n",
       "            0.71867,     0.71867,     0.71749,     0.71611,     0.71611,     0.71611,     0.71611,     0.71611,     0.71611,     0.71607,     0.71535,     0.71462,      0.7139,     0.71293,     0.71176,       0.711,       0.711,       0.711,       0.711,     0.70549,     0.70411,     0.70332,     0.70332,\n",
       "            0.70199,     0.70059,     0.70012,     0.69965,     0.69918,     0.69871,     0.69824,     0.69734,     0.69634,     0.69511,     0.69339,     0.69309,     0.69309,     0.69309,     0.69054,     0.69054,     0.69054,     0.69054,     0.69013,     0.68866,     0.68692,     0.68492,     0.68286,\n",
       "            0.68286,     0.68286,     0.68286,     0.68286,     0.68286,     0.68286,     0.68019,      0.6796,       0.679,     0.67841,     0.67782,     0.67775,     0.67775,     0.67775,     0.67775,      0.6775,     0.67519,     0.67519,     0.67519,     0.67519,     0.67519,     0.67519,     0.67519,\n",
       "            0.67519,     0.67519,     0.67519,     0.67519,     0.67519,     0.67502,     0.67279,     0.67263,     0.67263,     0.67237,     0.67211,     0.67184,     0.67158,     0.67132,     0.67105,     0.67079,     0.67053,     0.67026,     0.66863,     0.65991,     0.65711,     0.65635,     0.65558,\n",
       "            0.65481,     0.65473,     0.65473,     0.65406,      0.6526,     0.65093,     0.64709,     0.64499,     0.64226,     0.63939,     0.63939,     0.63939,     0.63847,     0.63731,     0.63602,     0.63464,     0.63203,      0.6278,     0.62404,     0.62404,     0.62402,     0.62289,     0.62176,\n",
       "            0.61906,     0.61893,     0.61893,     0.61728,     0.61567,     0.61459,     0.61219,     0.60969,     0.60775,     0.60591,     0.60482,     0.60372,     0.60063,     0.60018,     0.59972,     0.59926,     0.59881,     0.59591,     0.59456,     0.59035,     0.58827,     0.58609,     0.58514,\n",
       "            0.58448,     0.58381,     0.58315,      0.5778,     0.57545,     0.57545,     0.57322,     0.57289,     0.57289,     0.57289,     0.57033,     0.56256,     0.55751,     0.55452,     0.55315,     0.55243,     0.55243,     0.55231,     0.55121,     0.55012,     0.54833,     0.54655,       0.545,\n",
       "            0.54221,     0.54061,     0.53414,     0.53275,     0.53041,     0.52941,     0.52941,     0.52815,     0.52503,     0.51896,     0.51385,      0.5116,      0.5074,     0.50478,     0.49714,     0.49014,     0.48532,     0.48358,       0.483,     0.48143,     0.47657,     0.47059,      0.4694,\n",
       "            0.46821,     0.46501,     0.46285,     0.45894,     0.45269,     0.45155,     0.44712,     0.44572,     0.44246,     0.44055,     0.43701,     0.43257,     0.42693,     0.42486,     0.42193,     0.41985,     0.41636,     0.41506,     0.40916,     0.40842,     0.40768,     0.40694,     0.40378,\n",
       "            0.39886,     0.39818,      0.3975,     0.39682,     0.39642,     0.39479,     0.38879,     0.37676,     0.36497,      0.3573,     0.35574,     0.34972,     0.34463,     0.33682,     0.33504,     0.33271,     0.33124,     0.32992,     0.32459,     0.32257,     0.32056,     0.31835,     0.31513,\n",
       "            0.31374,     0.31277,     0.30229,      0.2967,     0.29616,     0.29446,     0.29042,     0.28865,     0.28501,     0.28389,     0.28006,     0.27749,     0.27621,     0.27621,     0.26763,     0.26541,     0.26473,     0.26404,     0.26296,     0.26024,       0.259,      0.2555,     0.25167,\n",
       "            0.24488,     0.24363,     0.24099,     0.23263,     0.22505,     0.22391,     0.22277,     0.21721,     0.21574,     0.21021,     0.20716,     0.20101,     0.19949,     0.19375,     0.19149,      0.1838,     0.18089,     0.17976,     0.17671,       0.169,     0.16387,     0.15598,     0.15474,\n",
       "             0.1535,     0.14329,     0.14322,     0.13851,     0.13579,      0.1303,     0.12981,     0.12932,     0.12883,     0.12834,     0.12761,     0.12462,     0.12311,     0.11435,       0.111,     0.10363,      0.1003,    0.093383,    0.088157,    0.081841,    0.081841,    0.078366,    0.076757,\n",
       "           0.070334,    0.067098,    0.062635,    0.059335,    0.053341,     0.04909,     0.04281,    0.041847,    0.040883,    0.039893,    0.038903,    0.036144,    0.034148,    0.032478,    0.030922,    0.026169,    0.024309,    0.022769,    0.020236,    0.019359,    0.018482,    0.017382,    0.015849,\n",
       "           0.012551,    0.012165,    0.011779,    0.011393,    0.011007,    0.010621,    0.010235,   0.0089393,   0.0076611,   0.0072756,   0.0068901,   0.0065046,   0.0061191,   0.0057336,    0.005348,   0.0048956,    0.004341,   0.0037864,   0.0032318,   0.0026771,           0,           0,           0,\n",
       "                  0,           0,           0,           0,           0,           0,           0,           0,           0,           0,           0,           0,           0,           0,           0,           0,           0,           0,           0,           0,           0,           0,           0,\n",
       "                  0,           0,           0,           0,           0,           0,           0,           0,           0,           0,           0,           0,           0,           0,           0,           0,           0,           0,           0,           0,           0,           0,           0,\n",
       "                  0,           0,           0,           0,           0,           0,           0,           0,           0,           0,           0]]), 'Confidence', 'Recall']]\n",
       "fitness: np.float64(0.4992360056650374)\n",
       "keys: ['metrics/precision(B)', 'metrics/recall(B)', 'metrics/mAP50(B)', 'metrics/mAP50-95(B)']\n",
       "maps: array([    0.46149])\n",
       "names: {0: 'object'}\n",
       "plot: True\n",
       "results_dict: {'metrics/precision(B)': np.float64(0.7833679650528339), 'metrics/recall(B)': np.float64(0.8231080143410164), 'metrics/mAP50(B)': np.float64(0.8389588727608692), 'metrics/mAP50-95(B)': np.float64(0.46148902043216716), 'fitness': np.float64(0.4992360056650374)}\n",
       "save_dir: PosixPath('/Volumes/Cucumber/Projects/item-identification/runs/detect/finetune-v113')\n",
       "speed: {'preprocess': 0.33998437500315504, 'inference': 72.28557031250205, 'loss': 0.00018756250597107282, 'postprocess': 11.846513062494068}\n",
       "task: 'detect'"
      ]
     },
     "execution_count": 3,
     "metadata": {},
     "output_type": "execute_result"
    }
   ],
   "source": [
    "# Train the model on your COCO-format dataset\n",
    "model.train(\n",
    "    data=conf_yaml,  # path to the dataset config file\n",
    "    epochs=32,\n",
    "    imgsz=640,\n",
    "    batch=4,\n",
    "    name=\"finetune-v11\",\n",
    "    augment=True\n",
    ")"
   ]
  },
  {
   "cell_type": "code",
   "execution_count": 5,
   "metadata": {},
   "outputs": [
    {
     "name": "stdout",
     "output_type": "stream",
     "text": [
      "Ultralytics 8.3.111 🚀 Python-3.9.6 torch-2.6.0 CPU (Apple M4)\n",
      "YOLO11n summary (fused): 100 layers, 2,582,347 parameters, 0 gradients, 6.3 GFLOPs\n",
      "\u001b[34m\u001b[1mval: \u001b[0mFast image access ✅ (ping: 0.0±0.0 ms, read: 2947.7±1589.8 MB/s, size: 98.5 KB)\n"
     ]
    },
    {
     "name": "stderr",
     "output_type": "stream",
     "text": [
      "\u001b[34m\u001b[1mval: \u001b[0mScanning /Volumes/Cucumber/Projects/datasets/process/2025-06-11/sku110k-only-yolo/val/labels.cache... 30 images, 0 backgrounds, 14 corrupt: 100%|██████████| 30/30 [00:00<?, ?it/s]"
     ]
    },
    {
     "name": "stdout",
     "output_type": "stream",
     "text": [
      "\u001b[34m\u001b[1mval: \u001b[0mWARNING ⚠️ /Volumes/Cucumber/Projects/datasets/process/2025-06-11/sku110k-only-yolo/val/images/07f039cd2d5c79a959debfdcebf38457.jpeg: ignoring corrupt image/label: non-normalized or out of bounds coordinates [     1.0156       1.014      1.0197      1.0229      1.0213]\n",
      "\u001b[34m\u001b[1mval: \u001b[0mWARNING ⚠️ /Volumes/Cucumber/Projects/datasets/process/2025-06-11/sku110k-only-yolo/val/images/1c67c82cf4d2c85d9f249004147f4588.jpeg: ignoring corrupt image/label: non-normalized or out of bounds coordinates [     1.1619      1.1206       1.119      1.1214      1.1324      1.1229      1.1174]\n",
      "\u001b[34m\u001b[1mval: \u001b[0mWARNING ⚠️ /Volumes/Cucumber/Projects/datasets/process/2025-06-11/sku110k-only-yolo/val/images/2592b7c412acf97e276f48466210a245.jpeg: ignoring corrupt image/label: non-normalized or out of bounds coordinates [     1.2708      1.2659      1.2724      1.2651      1.2684      1.2692      1.2724      1.2467]\n",
      "\u001b[34m\u001b[1mval: \u001b[0mWARNING ⚠️ /Volumes/Cucumber/Projects/datasets/process/2025-06-11/sku110k-only-yolo/val/images/4b382f66297e8fa37e7b0f7cbde77c43.jpeg: ignoring corrupt image/label: non-normalized or out of bounds coordinates [     1.2379      1.2435      1.2411      1.2427      1.2098      1.0397      1.0493      1.0566      1.2282]\n",
      "\u001b[34m\u001b[1mval: \u001b[0mWARNING ⚠️ /Volumes/Cucumber/Projects/datasets/process/2025-06-11/sku110k-only-yolo/val/images/4c5ad252fd2313b52753659c8b59159d.jpeg: ignoring corrupt image/label: non-normalized or out of bounds coordinates [     1.1825      1.1857      1.1817      1.1905      1.1937]\n",
      "\u001b[34m\u001b[1mval: \u001b[0mWARNING ⚠️ /Volumes/Cucumber/Projects/datasets/process/2025-06-11/sku110k-only-yolo/val/images/58a8d05dfdafe06cc11206902a9aca0a.jpeg: ignoring corrupt image/label: non-normalized or out of bounds coordinates [     1.2339      1.2331      1.2531      1.2587      1.0935      1.0943      1.2419      1.2507      1.0951]\n",
      "\u001b[34m\u001b[1mval: \u001b[0mWARNING ⚠️ /Volumes/Cucumber/Projects/datasets/process/2025-06-11/sku110k-only-yolo/val/images/7ffec400e2f263f2048b09db55288275.jpeg: ignoring corrupt image/label: non-normalized or out of bounds coordinates [     1.2106      1.2459      1.2379      1.1953      1.0461      1.0108      1.0493]\n",
      "\u001b[34m\u001b[1mval: \u001b[0mWARNING ⚠️ /Volumes/Cucumber/Projects/datasets/process/2025-06-11/sku110k-only-yolo/val/images/8867372607447f667f07cf333fcf2403.jpeg: ignoring corrupt image/label: non-normalized or out of bounds coordinates [     1.1103      1.2692      1.2387      1.2796      1.2756      1.1504      1.2435      1.1095      1.0999      1.0991      1.2708]\n",
      "\u001b[34m\u001b[1mval: \u001b[0mWARNING ⚠️ /Volumes/Cucumber/Projects/datasets/process/2025-06-11/sku110k-only-yolo/val/images/96f31a84b0e003745ebdb6ac0a24a505.jpeg: ignoring corrupt image/label: non-normalized or out of bounds coordinates [     1.2506      1.2506      1.2514      1.2482      1.2427]\n",
      "\u001b[34m\u001b[1mval: \u001b[0mWARNING ⚠️ /Volumes/Cucumber/Projects/datasets/process/2025-06-11/sku110k-only-yolo/val/images/a11e43ae2427af79a499374a52f67d03.jpeg: ignoring corrupt image/label: non-normalized or out of bounds coordinates [     1.1953      1.1921      1.2202      1.0638      1.0501]\n",
      "\u001b[34m\u001b[1mval: \u001b[0mWARNING ⚠️ /Volumes/Cucumber/Projects/datasets/process/2025-06-11/sku110k-only-yolo/val/images/a5b3307678af99eb5fc9a2553ac31a96.jpeg: ignoring corrupt image/label: non-normalized or out of bounds coordinates [      1.063      1.0726      1.0726]\n",
      "\u001b[34m\u001b[1mval: \u001b[0mWARNING ⚠️ /Volumes/Cucumber/Projects/datasets/process/2025-06-11/sku110k-only-yolo/val/images/b31de5dbe4359be58801c4f5d97ff746.jpeg: ignoring corrupt image/label: non-normalized or out of bounds coordinates [     1.2355      1.2322      1.2314      1.2218      1.2226]\n",
      "\u001b[34m\u001b[1mval: \u001b[0mWARNING ⚠️ /Volumes/Cucumber/Projects/datasets/process/2025-06-11/sku110k-only-yolo/val/images/d06660c699ce188fe6bfbc1b119443f1.jpeg: ignoring corrupt image/label: non-normalized or out of bounds coordinates [     1.2643      1.1127      1.1978]\n",
      "\u001b[34m\u001b[1mval: \u001b[0mWARNING ⚠️ /Volumes/Cucumber/Projects/datasets/process/2025-06-11/sku110k-only-yolo/val/images/e9c146a585178c98ad71f7cc8b288112.jpeg: ignoring corrupt image/label: non-normalized or out of bounds coordinates [     1.2635      1.2595      1.2499      1.2563]\n"
     ]
    },
    {
     "name": "stderr",
     "output_type": "stream",
     "text": [
      "\n",
      "                 Class     Images  Instances      Box(P          R      mAP50  mAP50-95): 100%|██████████| 4/4 [00:01<00:00,  2.79it/s]\n"
     ]
    },
    {
     "name": "stdout",
     "output_type": "stream",
     "text": [
      "                   all         16        391      0.788      0.818       0.84      0.464\n",
      "Speed: 0.6ms preprocess, 72.1ms inference, 0.0ms loss, 10.0ms postprocess per image\n",
      "Results saved to \u001b[1m/Volumes/Cucumber/Projects/item-identification/runs/detect/finetune-v1132\u001b[0m\n"
     ]
    }
   ],
   "source": [
    "import json\n",
    "metrics = model.val(\n",
    "    data=conf_yaml,\n",
    "    split=\"val\"  # or \"val\" for validation\n",
    ")"
   ]
  },
  {
   "cell_type": "code",
   "execution_count": 6,
   "metadata": {},
   "outputs": [
    {
     "data": {
      "text/plain": [
       "{'metrics/precision(B)': np.float64(0.7879976614422172),\n",
       " 'metrics/recall(B)': np.float64(0.8175357006763745),\n",
       " 'metrics/mAP50(B)': np.float64(0.8404852517680252),\n",
       " 'metrics/mAP50-95(B)': np.float64(0.46357846811684367),\n",
       " 'fitness': np.float64(0.5012691464819619)}"
      ]
     },
     "execution_count": 6,
     "metadata": {},
     "output_type": "execute_result"
    }
   ],
   "source": [
    "metrics.results_dict"
   ]
  },
  {
   "cell_type": "code",
   "execution_count": 9,
   "metadata": {},
   "outputs": [
    {
     "name": "stdout",
     "output_type": "stream",
     "text": [
      "Ultralytics 8.3.111 🚀 Python-3.9.6 torch-2.6.0 CPU (Apple M4)\n",
      "\u001b[34m\u001b[1mval: \u001b[0mFast image access ✅ (ping: 0.0±0.0 ms, read: 289.1±50.9 MB/s, size: 204.3 KB)\n"
     ]
    },
    {
     "name": "stderr",
     "output_type": "stream",
     "text": [
      "\u001b[34m\u001b[1mval: \u001b[0mScanning /Volumes/Cucumber/Projects/datasets/process/2025-06-11/sku110k-only-yolo/test/labels... 346 images, 0 backgrounds, 27 corrupt: 100%|██████████| 346/346 [00:00<00:00, 4871.71it/s]"
     ]
    },
    {
     "name": "stdout",
     "output_type": "stream",
     "text": [
      "\u001b[34m\u001b[1mval: \u001b[0mWARNING ⚠️ /Volumes/Cucumber/Projects/datasets/process/2025-06-11/sku110k-only-yolo/test/images/073f5ba98e8c7b5de06462dbc39da82f.jpg: ignoring corrupt image/label: non-normalized or out of bounds coordinates [     1.0073      1.2057      1.2627      1.2776]\n",
      "\u001b[34m\u001b[1mval: \u001b[0mWARNING ⚠️ /Volumes/Cucumber/Projects/datasets/process/2025-06-11/sku110k-only-yolo/test/images/0c3a57a0dfc166b6f72568f494664552.jpg: ignoring corrupt image/label: non-normalized or out of bounds coordinates [     1.0126]\n",
      "\u001b[34m\u001b[1mval: \u001b[0mWARNING ⚠️ /Volumes/Cucumber/Projects/datasets/process/2025-06-11/sku110k-only-yolo/test/images/164241964a9ad34d11b8efba537ebfb5.jpg: 1 duplicate labels removed\n",
      "\u001b[34m\u001b[1mval: \u001b[0mWARNING ⚠️ /Volumes/Cucumber/Projects/datasets/process/2025-06-11/sku110k-only-yolo/test/images/18ffeec8a088a2870cd9e12b6db327b2.jpg: ignoring corrupt image/label: non-normalized or out of bounds coordinates [     1.0918        1.04      1.0461      1.0242       1.004]\n",
      "\u001b[34m\u001b[1mval: \u001b[0mWARNING ⚠️ /Volumes/Cucumber/Projects/datasets/process/2025-06-11/sku110k-only-yolo/test/images/1941d67fcacba31b5cc3075291ef699b.jpg: ignoring corrupt image/label: non-normalized or out of bounds coordinates [     1.1657      1.0813      1.2234      1.2852      1.0616      1.1074       1.155      1.2031      1.2703      1.1425      1.2685      1.2109      1.0813        1.09      1.1427]\n",
      "\u001b[34m\u001b[1mval: \u001b[0mWARNING ⚠️ /Volumes/Cucumber/Projects/datasets/process/2025-06-11/sku110k-only-yolo/test/images/1be5cd0e4e4f4bdbc832f8b891fff204.jpg: 1 duplicate labels removed\n",
      "\u001b[34m\u001b[1mval: \u001b[0mWARNING ⚠️ /Volumes/Cucumber/Projects/datasets/process/2025-06-11/sku110k-only-yolo/test/images/22d88bde4d58234be30d9b3fa693f9ef.jpg: ignoring corrupt image/label: non-normalized or out of bounds coordinates [     1.1082      1.1064      1.1054       1.103      1.0929      1.0918      1.0901       1.088      1.1292      1.1278      1.1266      1.1249      1.2039      1.2015      1.1991      1.1956      1.1919      1.1909      1.1905      1.1898]\n",
      "\u001b[34m\u001b[1mval: \u001b[0mWARNING ⚠️ /Volumes/Cucumber/Projects/datasets/process/2025-06-11/sku110k-only-yolo/test/images/23f8b1e299b96dd1ea0bf77645ac28d4.jpg: ignoring corrupt image/label: non-normalized or out of bounds coordinates [     1.1322      1.0119]\n",
      "\u001b[34m\u001b[1mval: \u001b[0mWARNING ⚠️ /Volumes/Cucumber/Projects/datasets/process/2025-06-11/sku110k-only-yolo/test/images/258617248d15b662da0f6169829fa162.jpg: ignoring corrupt image/label: non-normalized or out of bounds coordinates [     1.0013      1.1357]\n",
      "\u001b[34m\u001b[1mval: \u001b[0mWARNING ⚠️ /Volumes/Cucumber/Projects/datasets/process/2025-06-11/sku110k-only-yolo/test/images/26af189d1a556f485fa19d434befbcff.jpg: ignoring corrupt image/label: non-normalized or out of bounds coordinates [     1.1779       1.105      1.0154      1.1287      1.1322      1.1902      1.1155      1.0268]\n",
      "\u001b[34m\u001b[1mval: \u001b[0mWARNING ⚠️ /Volumes/Cucumber/Projects/datasets/process/2025-06-11/sku110k-only-yolo/test/images/275413170650ba2a5540a7fb4f829683.jpg: 1 duplicate labels removed\n",
      "\u001b[34m\u001b[1mval: \u001b[0mWARNING ⚠️ /Volumes/Cucumber/Projects/datasets/process/2025-06-11/sku110k-only-yolo/test/images/338f4a25818873ab6dda8170779c96bf.jpg: 6 duplicate labels removed\n",
      "\u001b[34m\u001b[1mval: \u001b[0mWARNING ⚠️ /Volumes/Cucumber/Projects/datasets/process/2025-06-11/sku110k-only-yolo/test/images/45fd865c6b853357d012d81276143679.jpg: 1 duplicate labels removed\n",
      "\u001b[34m\u001b[1mval: \u001b[0mWARNING ⚠️ /Volumes/Cucumber/Projects/datasets/process/2025-06-11/sku110k-only-yolo/test/images/4b7b42f9dba0a3bba157acbb1716c78e.jpg: ignoring corrupt image/label: non-normalized or out of bounds coordinates [     1.0478      1.1334      1.0967      1.0352      1.0644      1.0878      1.1071      1.1357]\n",
      "\u001b[34m\u001b[1mval: \u001b[0mWARNING ⚠️ /Volumes/Cucumber/Projects/datasets/process/2025-06-11/sku110k-only-yolo/test/images/4d79d018e7430b4476f91c9e63f0bef0.jpg: ignoring corrupt image/label: non-normalized or out of bounds coordinates [     1.1667      1.1206      1.0789      1.0457      1.0134      1.1552      1.2471      1.2694      1.2895      1.0409      1.0603       1.217      1.2404      1.2687      1.0082        1.06      1.1223      1.0468      1.0851      1.1301      1.1741      1.2209      1.2595      1.2869       1.273      1.2984]\n",
      "\u001b[34m\u001b[1mval: \u001b[0mWARNING ⚠️ /Volumes/Cucumber/Projects/datasets/process/2025-06-11/sku110k-only-yolo/test/images/4dee9a687536357a26d0574d2ad4cf9e.jpg: ignoring corrupt image/label: non-normalized or out of bounds coordinates [     1.0453      1.0716      1.0822]\n",
      "\u001b[34m\u001b[1mval: \u001b[0mWARNING ⚠️ /Volumes/Cucumber/Projects/datasets/process/2025-06-11/sku110k-only-yolo/test/images/52b93492a5db13b565e3048f9a97f985.jpg: 1 duplicate labels removed\n",
      "\u001b[34m\u001b[1mval: \u001b[0mWARNING ⚠️ /Volumes/Cucumber/Projects/datasets/process/2025-06-11/sku110k-only-yolo/test/images/5679a54a5251d20bd1de6dc20f259ed6.jpg: ignoring corrupt image/label: non-normalized or out of bounds coordinates [     1.0523      1.0309      1.0043      1.0523      1.0699      1.0793      1.1793      1.3174      1.2997      1.2772       1.269      1.2649      1.2452      1.2309      1.2096      1.1014      1.1203      1.1465      1.1686      1.1932      1.2108      1.2108      1.2309      1.2309      1.2596      1.2932\n",
      "      1.1842      1.1166      1.0986]\n",
      "\u001b[34m\u001b[1mval: \u001b[0mWARNING ⚠️ /Volumes/Cucumber/Projects/datasets/process/2025-06-11/sku110k-only-yolo/test/images/5ee96b0fc90813fc338f8fbabd33d7f1.jpg: ignoring corrupt image/label: non-normalized or out of bounds coordinates [      1.004      1.0488      1.0911      1.1351      1.0416]\n",
      "\u001b[34m\u001b[1mval: \u001b[0mWARNING ⚠️ /Volumes/Cucumber/Projects/datasets/process/2025-06-11/sku110k-only-yolo/test/images/6647a6deb1e6aa14af439445275c684a.jpg: ignoring corrupt image/label: non-normalized or out of bounds coordinates [     1.2252      1.2252      1.2218]\n",
      "\u001b[34m\u001b[1mval: \u001b[0mWARNING ⚠️ /Volumes/Cucumber/Projects/datasets/process/2025-06-11/sku110k-only-yolo/test/images/68811d7895d106e34d1bfb6f74c75993.jpg: 11 duplicate labels removed\n",
      "\u001b[34m\u001b[1mval: \u001b[0mWARNING ⚠️ /Volumes/Cucumber/Projects/datasets/process/2025-06-11/sku110k-only-yolo/test/images/6f9e47846678c9d5e56bd3e45c0638aa.jpg: 1 duplicate labels removed\n",
      "\u001b[34m\u001b[1mval: \u001b[0mWARNING ⚠️ /Volumes/Cucumber/Projects/datasets/process/2025-06-11/sku110k-only-yolo/test/images/78118b8bce09c3867e79fddbb62a632a.jpg: 1 duplicate labels removed\n",
      "\u001b[34m\u001b[1mval: \u001b[0mWARNING ⚠️ /Volumes/Cucumber/Projects/datasets/process/2025-06-11/sku110k-only-yolo/test/images/78d058a2c19ac20213c2a5b1229aaba7.jpg: ignoring corrupt image/label: non-normalized or out of bounds coordinates [     1.0612      1.0621      1.2059      1.1954      1.1311      1.1287      1.1998      1.1885      1.1874      1.1866      1.1182      1.1193      1.1193      1.0474       1.048      1.0488       1.191       1.191      1.1914      1.1222      1.1224      1.1222      1.0524      1.0526      1.0518      1.1882\n",
      "      1.1887      1.1891      1.1186       1.121      1.1214      1.0457       1.049      1.0512      1.1962      1.1964      1.1956      1.1313      1.1308      1.1308       1.057       1.057      1.0572      1.1939      1.1952      1.1952      1.1241      1.1241      1.1247      1.0497      1.0482      1.0484\n",
      "       1.187      1.1872      1.1885       1.125      1.1233       1.122      1.0512      1.0507      1.0522      1.1857      1.1832      1.1153      1.1134      1.0406      1.0425      1.1859      1.1172      1.0459      1.0459      1.1178      1.1874      1.1895      1.1191      1.0465      1.1878      1.1899\n",
      "      1.1912      1.1235      1.1233      1.1243      1.0539      1.0539       1.053]\n",
      "\u001b[34m\u001b[1mval: \u001b[0mWARNING ⚠️ /Volumes/Cucumber/Projects/datasets/process/2025-06-11/sku110k-only-yolo/test/images/7c64c27dad74c18c2d437e297079f8fc.jpg: ignoring corrupt image/label: non-normalized or out of bounds coordinates [     1.1416]\n",
      "\u001b[34m\u001b[1mval: \u001b[0mWARNING ⚠️ /Volumes/Cucumber/Projects/datasets/process/2025-06-11/sku110k-only-yolo/test/images/7df242c3697e2a566397c2b9c8f270b8.jpg: ignoring corrupt image/label: non-normalized or out of bounds coordinates [     1.0847      1.0868      1.1927      1.1846      1.2672      1.3119      1.3073      1.2728      1.2933      1.1184      1.0974      1.0966]\n",
      "\u001b[34m\u001b[1mval: \u001b[0mWARNING ⚠️ /Volumes/Cucumber/Projects/datasets/process/2025-06-11/sku110k-only-yolo/test/images/895d6317b36738277c2b36959606cc65.jpg: 2 duplicate labels removed\n",
      "\u001b[34m\u001b[1mval: \u001b[0mWARNING ⚠️ /Volumes/Cucumber/Projects/datasets/process/2025-06-11/sku110k-only-yolo/test/images/89b63a4e57a7bb5efc062dd45ae3354d.jpg: ignoring corrupt image/label: non-normalized or out of bounds coordinates [     1.0054      1.2066      1.2178      1.2279      1.2405      1.2517      1.1405      1.1512      1.1601      1.1601      1.1713      1.1498      1.1333      1.1238      1.1156       1.105      1.2292      1.2603]\n",
      "\u001b[34m\u001b[1mval: \u001b[0mWARNING ⚠️ /Volumes/Cucumber/Projects/datasets/process/2025-06-11/sku110k-only-yolo/test/images/8c144662f534937257811cf71c9f3747.jpg: ignoring corrupt image/label: non-normalized or out of bounds coordinates [     1.0958      1.1075      1.1259       1.156      1.1761      1.1844      1.1844       1.069      1.0063      1.0473       1.023      1.2965      1.2614       1.248       1.233      1.2112]\n",
      "\u001b[34m\u001b[1mval: \u001b[0mWARNING ⚠️ /Volumes/Cucumber/Projects/datasets/process/2025-06-11/sku110k-only-yolo/test/images/91abfab549e163ee52c61b8d3237fc8d.jpg: ignoring corrupt image/label: non-normalized or out of bounds coordinates [     1.2436      1.2528      1.2582      1.2652       1.269      1.2728      1.2658      1.2712      1.3133      1.3171      1.3187      1.3231]\n",
      "\u001b[34m\u001b[1mval: \u001b[0mWARNING ⚠️ /Volumes/Cucumber/Projects/datasets/process/2025-06-11/sku110k-only-yolo/test/images/92a1dce9bdb9e29ff535add37c2342e6.jpg: 4 duplicate labels removed\n",
      "\u001b[34m\u001b[1mval: \u001b[0mWARNING ⚠️ /Volumes/Cucumber/Projects/datasets/process/2025-06-11/sku110k-only-yolo/test/images/9ac1c9bb866feecd2380917c38997bf9.jpg: 4 duplicate labels removed\n",
      "\u001b[34m\u001b[1mval: \u001b[0mWARNING ⚠️ /Volumes/Cucumber/Projects/datasets/process/2025-06-11/sku110k-only-yolo/test/images/9d60f6cefd28e8337250fbfafcee2f02.jpg: ignoring corrupt image/label: non-normalized or out of bounds coordinates [     1.0648      1.0598      1.0531      1.0648      1.0682]\n",
      "\u001b[34m\u001b[1mval: \u001b[0mWARNING ⚠️ /Volumes/Cucumber/Projects/datasets/process/2025-06-11/sku110k-only-yolo/test/images/a3cc6b930bc1a39d224b71c6798e85c9.jpg: ignoring corrupt image/label: non-normalized or out of bounds coordinates [     1.0436      1.1034      1.1759      1.1771      1.1244      1.0792      1.0315]\n",
      "\u001b[34m\u001b[1mval: \u001b[0mWARNING ⚠️ /Volumes/Cucumber/Projects/datasets/process/2025-06-11/sku110k-only-yolo/test/images/b41d11a01d67c51852f2ff9526e814ee.jpg: ignoring corrupt image/label: non-normalized or out of bounds coordinates [     1.0301      1.1418      1.1959      1.2386]\n",
      "\u001b[34m\u001b[1mval: \u001b[0mWARNING ⚠️ /Volumes/Cucumber/Projects/datasets/process/2025-06-11/sku110k-only-yolo/test/images/ba15deb7b9a2f6d291ff5ab94aa8055a.jpg: 3 duplicate labels removed\n",
      "\u001b[34m\u001b[1mval: \u001b[0mWARNING ⚠️ /Volumes/Cucumber/Projects/datasets/process/2025-06-11/sku110k-only-yolo/test/images/ba984a312ecc21fce7ed6b4e8e74ed04.jpg: 2 duplicate labels removed\n",
      "\u001b[34m\u001b[1mval: \u001b[0mWARNING ⚠️ /Volumes/Cucumber/Projects/datasets/process/2025-06-11/sku110k-only-yolo/test/images/c5e36f28a9b566171ae15f807b85aedb.jpg: 1 duplicate labels removed\n",
      "\u001b[34m\u001b[1mval: \u001b[0mWARNING ⚠️ /Volumes/Cucumber/Projects/datasets/process/2025-06-11/sku110k-only-yolo/test/images/c7f83011dbf7b7f53f3e46e174f1946c.jpg: 2 duplicate labels removed\n",
      "\u001b[34m\u001b[1mval: \u001b[0mWARNING ⚠️ /Volumes/Cucumber/Projects/datasets/process/2025-06-11/sku110k-only-yolo/test/images/d0be38f15f0c97334b0881e101f39a0f.jpg: 1 duplicate labels removed\n",
      "\u001b[34m\u001b[1mval: \u001b[0mWARNING ⚠️ /Volumes/Cucumber/Projects/datasets/process/2025-06-11/sku110k-only-yolo/test/images/d2347b8ed11aa7f0e5080e1968d197b4.jpg: 1 duplicate labels removed\n",
      "\u001b[34m\u001b[1mval: \u001b[0mWARNING ⚠️ /Volumes/Cucumber/Projects/datasets/process/2025-06-11/sku110k-only-yolo/test/images/da4f5eaa5705368490824e0d4690839a.jpg: 1 duplicate labels removed\n",
      "\u001b[34m\u001b[1mval: \u001b[0mWARNING ⚠️ /Volumes/Cucumber/Projects/datasets/process/2025-06-11/sku110k-only-yolo/test/images/dac194031d5364c9389a31a413336286.jpg: 1 duplicate labels removed\n",
      "\u001b[34m\u001b[1mval: \u001b[0mWARNING ⚠️ /Volumes/Cucumber/Projects/datasets/process/2025-06-11/sku110k-only-yolo/test/images/db12309490acf70903e1781fe2503021.jpg: 1 duplicate labels removed\n",
      "\u001b[34m\u001b[1mval: \u001b[0mWARNING ⚠️ /Volumes/Cucumber/Projects/datasets/process/2025-06-11/sku110k-only-yolo/test/images/df88fb24988e888881c565a8d6bd2b21.jpg: ignoring corrupt image/label: non-normalized or out of bounds coordinates [     1.1614]\n",
      "\u001b[34m\u001b[1mval: \u001b[0mWARNING ⚠️ /Volumes/Cucumber/Projects/datasets/process/2025-06-11/sku110k-only-yolo/test/images/e67cb3c9fd43d537e1315acd84638bf8.jpg: 1 duplicate labels removed\n",
      "\u001b[34m\u001b[1mval: \u001b[0mWARNING ⚠️ /Volumes/Cucumber/Projects/datasets/process/2025-06-11/sku110k-only-yolo/test/images/e6e23528103e0df921890afc200e147f.jpg: 2 duplicate labels removed\n",
      "\u001b[34m\u001b[1mval: \u001b[0mWARNING ⚠️ /Volumes/Cucumber/Projects/datasets/process/2025-06-11/sku110k-only-yolo/test/images/edd1e23ac2f5b79614682ffbbea49c56.jpg: ignoring corrupt image/label: non-normalized or out of bounds coordinates [     1.0518      1.0581      1.0727      1.0664      1.0882      1.0813       1.138       1.145      1.1613      1.1542      1.1785      1.1709      1.0975      1.1048      1.1219      1.1144      1.1399      1.1319      1.1964      1.2037      1.2206      1.2132      1.2384      1.2305]\n",
      "\u001b[34m\u001b[1mval: \u001b[0mWARNING ⚠️ /Volumes/Cucumber/Projects/datasets/process/2025-06-11/sku110k-only-yolo/test/images/ef94f3d5e89e47ed33bee03b7fd3e69f.jpg: 1 duplicate labels removed\n",
      "\u001b[34m\u001b[1mval: \u001b[0mWARNING ⚠️ /Volumes/Cucumber/Projects/datasets/process/2025-06-11/sku110k-only-yolo/test/images/f3ccfc862ee7f9eda121098077ececbe.jpg: ignoring corrupt image/label: non-normalized or out of bounds coordinates [      1.206      1.1735      1.1173      1.0663      1.0136      1.1726      1.2095      1.2464      1.1296      1.0927       1.061      1.2798       1.249      1.2701]\n",
      "\u001b[34m\u001b[1mval: \u001b[0mWARNING ⚠️ /Volumes/Cucumber/Projects/datasets/process/2025-06-11/sku110k-only-yolo/test/images/f518c44aac782cf11c479d56c54cdf8a.jpg: ignoring corrupt image/label: non-normalized or out of bounds coordinates [     1.0518      1.0909      1.0075]\n",
      "\u001b[34m\u001b[1mval: \u001b[0mNew cache created: /Volumes/Cucumber/Projects/datasets/process/2025-06-11/sku110k-only-yolo/test/labels.cache\n"
     ]
    },
    {
     "name": "stderr",
     "output_type": "stream",
     "text": [
      "\n",
      "                 Class     Images  Instances      Box(P          R      mAP50  mAP50-95): 100%|██████████| 80/80 [00:26<00:00,  3.01it/s]\n"
     ]
    },
    {
     "name": "stdout",
     "output_type": "stream",
     "text": [
      "                   all        319      12500      0.336      0.504      0.269      0.132\n",
      "Speed: 0.2ms preprocess, 60.3ms inference, 0.0ms loss, 16.3ms postprocess per image\n",
      "Results saved to \u001b[1m/Volumes/Cucumber/Projects/item-identification/runs/detect/finetune-v1133\u001b[0m\n"
     ]
    }
   ],
   "source": [
    "import json\n",
    "metrics = model.val(\n",
    "    data=conf_yaml,\n",
    "    split=\"test\"  # or \"val\" for validation\n",
    ")"
   ]
  },
  {
   "cell_type": "code",
   "execution_count": 10,
   "metadata": {},
   "outputs": [
    {
     "data": {
      "text/plain": [
       "{'metrics/precision(B)': np.float64(0.33600099217894586),\n",
       " 'metrics/recall(B)': np.float64(0.50376),\n",
       " 'metrics/mAP50(B)': np.float64(0.2690000997480999),\n",
       " 'metrics/mAP50-95(B)': np.float64(0.1323788298802982),\n",
       " 'fitness': np.float64(0.14604095686707838)}"
      ]
     },
     "execution_count": 10,
     "metadata": {},
     "output_type": "execute_result"
    }
   ],
   "source": [
    "metrics.results_dict"
   ]
  },
  {
   "cell_type": "markdown",
   "metadata": {},
   "source": [
    "### Try model"
   ]
  },
  {
   "cell_type": "code",
   "execution_count": 7,
   "metadata": {},
   "outputs": [
    {
     "name": "stdout",
     "output_type": "stream",
     "text": [
      "\n",
      "image 1/1 /Volumes/Cucumber/Projects/datasets/curated/hcmus-iid-2/test/images/0a230432914ea6c9bde6a026b20ccb6f.jpg: 480x640 173 objects, 72.7ms\n",
      "Speed: 3.0ms preprocess, 72.7ms inference, 1.5ms postprocess per image at shape (1, 3, 480, 640)\n"
     ]
    }
   ],
   "source": [
    "result = model(\"/Volumes/Cucumber/Projects/datasets/curated/hcmus-iid-2/test/images/0a230432914ea6c9bde6a026b20ccb6f.jpg\")\n",
    "result[0].show()"
   ]
  },
  {
   "cell_type": "code",
   "execution_count": 8,
   "metadata": {},
   "outputs": [
    {
     "name": "stdout",
     "output_type": "stream",
     "text": [
      "\n",
      "image 1/1 /Volumes/Cucumber/Projects/datasets/curated/hcmus-iid-2/test/images/6fdb9ab13ffa4848e44dae38c78b8174.jpg: 480x640 56 objects, 74.0ms\n",
      "Speed: 2.1ms preprocess, 74.0ms inference, 0.4ms postprocess per image at shape (1, 3, 480, 640)\n"
     ]
    }
   ],
   "source": [
    "result = model(\"/Volumes/Cucumber/Projects/datasets/curated/hcmus-iid-2/test/images/6fdb9ab13ffa4848e44dae38c78b8174.jpg\")\n",
    "result[0].show()"
   ]
  },
  {
   "cell_type": "code",
   "execution_count": 11,
   "metadata": {},
   "outputs": [
    {
     "name": "stdout",
     "output_type": "stream",
     "text": [
      "\n",
      "image 1/1 /Volumes/Cucumber/Projects/datasets/curated/hcmus-iid-2/val/images/2a9688d8b22c7059c95af959425670d8.jpeg: 480x640 26 objects, 80.3ms\n",
      "Speed: 1.7ms preprocess, 80.3ms inference, 0.3ms postprocess per image at shape (1, 3, 480, 640)\n"
     ]
    }
   ],
   "source": [
    "result = model(\"/Volumes/Cucumber/Projects/datasets/curated/hcmus-iid-2/val/images/2a9688d8b22c7059c95af959425670d8.jpeg\")\n",
    "result[0].show()"
   ]
  },
  {
   "cell_type": "code",
   "execution_count": 13,
   "metadata": {},
   "outputs": [
    {
     "name": "stdout",
     "output_type": "stream",
     "text": [
      "\n",
      "image 1/1 /Volumes/Cucumber/Projects/datasets/curated/hcmus-iid-2/val/images/b31de5dbe4359be58801c4f5d97ff746.jpeg: 640x480 25 objects, 72.1ms\n",
      "Speed: 1.6ms preprocess, 72.1ms inference, 0.3ms postprocess per image at shape (1, 3, 640, 480)\n"
     ]
    }
   ],
   "source": [
    "result = model(\"/Volumes/Cucumber/Projects/datasets/curated/hcmus-iid-2/val/images/b31de5dbe4359be58801c4f5d97ff746.jpeg\")\n",
    "result[0].show()"
   ]
  },
  {
   "cell_type": "code",
   "execution_count": null,
   "metadata": {},
   "outputs": [],
   "source": []
  }
 ],
 "metadata": {
  "kernelspec": {
   "display_name": ".venv",
   "language": "python",
   "name": "python3"
  },
  "language_info": {
   "codemirror_mode": {
    "name": "ipython",
    "version": 3
   },
   "file_extension": ".py",
   "mimetype": "text/x-python",
   "name": "python",
   "nbconvert_exporter": "python",
   "pygments_lexer": "ipython3",
   "version": "3.9.6"
  }
 },
 "nbformat": 4,
 "nbformat_minor": 2
}
