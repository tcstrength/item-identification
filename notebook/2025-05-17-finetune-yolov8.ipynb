{
 "cells": [
  {
   "cell_type": "code",
   "execution_count": 6,
   "metadata": {},
   "outputs": [
    {
     "name": "stdout",
     "output_type": "stream",
     "text": [
      "New https://pypi.org/project/ultralytics/8.3.137 available 😃 Update with 'pip install -U ultralytics'\n",
      "Ultralytics 8.3.111 🚀 Python-3.9.6 torch-2.6.0 CPU (Apple M4)\n",
      "\u001b[34m\u001b[1mengine/trainer: \u001b[0mtask=detect, mode=train, model=yolov8n.pt, data=/Volumes/Cucumber/Projects/datasets/dataset/data.yaml, epochs=32, time=None, patience=100, batch=16, imgsz=640, save=True, save_period=-1, cache=False, device=None, workers=8, project=None, name=train6, exist_ok=False, pretrained=True, optimizer=auto, verbose=True, seed=0, deterministic=True, single_cls=False, rect=False, cos_lr=False, close_mosaic=10, resume=False, amp=True, fraction=1.0, profile=False, freeze=None, multi_scale=False, overlap_mask=True, mask_ratio=4, dropout=0.0, val=True, split=val, save_json=False, conf=None, iou=0.7, max_det=300, half=False, dnn=False, plots=True, source=None, vid_stride=1, stream_buffer=False, visualize=False, augment=False, agnostic_nms=False, classes=None, retina_masks=False, embed=None, show=False, save_frames=False, save_txt=False, save_conf=False, save_crop=False, show_labels=True, show_conf=True, show_boxes=True, line_width=None, format=torchscript, keras=False, optimize=False, int8=False, dynamic=False, simplify=True, opset=None, workspace=None, nms=False, lr0=0.01, lrf=0.01, momentum=0.937, weight_decay=0.0005, warmup_epochs=3.0, warmup_momentum=0.8, warmup_bias_lr=0.1, box=7.5, cls=0.5, dfl=1.5, pose=12.0, kobj=1.0, nbs=64, hsv_h=0.015, hsv_s=0.7, hsv_v=0.4, degrees=0.0, translate=0.1, scale=0.5, shear=0.0, perspective=0.0, flipud=0.0, fliplr=0.5, bgr=0.0, mosaic=1.0, mixup=0.0, copy_paste=0.0, copy_paste_mode=flip, auto_augment=randaugment, erasing=0.4, cfg=None, tracker=botsort.yaml, save_dir=/Volumes/Cucumber/Projects/item-identification/runs/detect/train6\n",
      "Overriding model.yaml nc=80 with nc=213\n",
      "\n",
      "                   from  n    params  module                                       arguments                     \n",
      "  0                  -1  1       464  ultralytics.nn.modules.conv.Conv             [3, 16, 3, 2]                 \n",
      "  1                  -1  1      4672  ultralytics.nn.modules.conv.Conv             [16, 32, 3, 2]                \n",
      "  2                  -1  1      7360  ultralytics.nn.modules.block.C2f             [32, 32, 1, True]             \n",
      "  3                  -1  1     18560  ultralytics.nn.modules.conv.Conv             [32, 64, 3, 2]                \n",
      "  4                  -1  2     49664  ultralytics.nn.modules.block.C2f             [64, 64, 2, True]             \n",
      "  5                  -1  1     73984  ultralytics.nn.modules.conv.Conv             [64, 128, 3, 2]               \n",
      "  6                  -1  2    197632  ultralytics.nn.modules.block.C2f             [128, 128, 2, True]           \n",
      "  7                  -1  1    295424  ultralytics.nn.modules.conv.Conv             [128, 256, 3, 2]              \n",
      "  8                  -1  1    460288  ultralytics.nn.modules.block.C2f             [256, 256, 1, True]           \n",
      "  9                  -1  1    164608  ultralytics.nn.modules.block.SPPF            [256, 256, 5]                 \n",
      " 10                  -1  1         0  torch.nn.modules.upsampling.Upsample         [None, 2, 'nearest']          \n",
      " 11             [-1, 6]  1         0  ultralytics.nn.modules.conv.Concat           [1]                           \n",
      " 12                  -1  1    148224  ultralytics.nn.modules.block.C2f             [384, 128, 1]                 \n",
      " 13                  -1  1         0  torch.nn.modules.upsampling.Upsample         [None, 2, 'nearest']          \n",
      " 14             [-1, 4]  1         0  ultralytics.nn.modules.conv.Concat           [1]                           \n",
      " 15                  -1  1     37248  ultralytics.nn.modules.block.C2f             [192, 64, 1]                  \n",
      " 16                  -1  1     36992  ultralytics.nn.modules.conv.Conv             [64, 64, 3, 2]                \n",
      " 17            [-1, 12]  1         0  ultralytics.nn.modules.conv.Concat           [1]                           \n",
      " 18                  -1  1    123648  ultralytics.nn.modules.block.C2f             [192, 128, 1]                 \n",
      " 19                  -1  1    147712  ultralytics.nn.modules.conv.Conv             [128, 128, 3, 2]              \n",
      " 20             [-1, 9]  1         0  ultralytics.nn.modules.conv.Concat           [1]                           \n",
      " 21                  -1  1    493056  ultralytics.nn.modules.block.C2f             [384, 256, 1]                 \n",
      " 22        [15, 18, 21]  1   1120843  ultralytics.nn.modules.head.Detect           [213, [64, 128, 256]]         \n",
      "Model summary: 129 layers, 3,380,379 parameters, 3,380,363 gradients, 9.9 GFLOPs\n",
      "\n",
      "Transferred 319/355 items from pretrained weights\n",
      "\u001b[34m\u001b[1mTensorBoard: \u001b[0mStart with 'tensorboard --logdir /Volumes/Cucumber/Projects/item-identification/runs/detect/train6', view at http://localhost:6006/\n",
      "Freezing layer 'model.22.dfl.conv.weight'\n",
      "\u001b[34m\u001b[1mtrain: \u001b[0mFast image access ✅ (ping: 0.0±0.0 ms, read: 5896.7±2243.8 MB/s, size: 344.7 KB)\n"
     ]
    },
    {
     "name": "stderr",
     "output_type": "stream",
     "text": [
      "\u001b[34m\u001b[1mtrain: \u001b[0mScanning /Volumes/Cucumber/Projects/datasets/dataset/labels/train... 800 images, 0 backgrounds, 0 corrupt: 100%|██████████| 800/800 [00:00<00:00, 3639.69it/s]"
     ]
    },
    {
     "name": "stdout",
     "output_type": "stream",
     "text": [
      "\u001b[34m\u001b[1mtrain: \u001b[0mNew cache created: /Volumes/Cucumber/Projects/datasets/dataset/labels/train.cache\n",
      "\u001b[34m\u001b[1mval: \u001b[0mFast image access ✅ (ping: 0.0±0.0 ms, read: 7160.0±1255.6 MB/s, size: 308.9 KB)\n"
     ]
    },
    {
     "name": "stderr",
     "output_type": "stream",
     "text": [
      "\n",
      "\u001b[34m\u001b[1mval: \u001b[0mScanning /Volumes/Cucumber/Projects/datasets/dataset/labels/val... 200 images, 0 backgrounds, 0 corrupt: 100%|██████████| 200/200 [00:00<00:00, 4734.65it/s]"
     ]
    },
    {
     "name": "stdout",
     "output_type": "stream",
     "text": [
      "\u001b[34m\u001b[1mval: \u001b[0mNew cache created: /Volumes/Cucumber/Projects/datasets/dataset/labels/val.cache\n"
     ]
    },
    {
     "name": "stderr",
     "output_type": "stream",
     "text": [
      "\n"
     ]
    },
    {
     "name": "stdout",
     "output_type": "stream",
     "text": [
      "Plotting labels to /Volumes/Cucumber/Projects/item-identification/runs/detect/train6/labels.jpg... \n",
      "\u001b[34m\u001b[1moptimizer:\u001b[0m 'optimizer=auto' found, ignoring 'lr0=0.01' and 'momentum=0.937' and determining best 'optimizer', 'lr0' and 'momentum' automatically... \n",
      "\u001b[34m\u001b[1moptimizer:\u001b[0m AdamW(lr=4.6e-05, momentum=0.9) with parameter groups 57 weight(decay=0.0), 64 weight(decay=0.0005), 63 bias(decay=0.0)\n"
     ]
    },
    {
     "name": "stderr",
     "output_type": "stream",
     "text": [
      "2025/05/17 19:15:01 INFO mlflow.tracking.fluent: Experiment with name '/Shared/Ultralytics' does not exist. Creating a new experiment.\n",
      "2025/05/17 19:15:01 WARNING mlflow.utils.autologging_utils: MLflow keras autologging is known to be compatible with 3.0.2 <= keras <= 3.8.0, but the installed version is 3.9.2. If you encounter errors during autologging, try upgrading / downgrading keras to a compatible version, or try upgrading MLflow.\n",
      "2025/05/17 19:15:01 INFO mlflow.tracking.fluent: Autologging successfully enabled for keras.\n",
      "2025/05/17 19:15:06 INFO mlflow.tracking.fluent: Autologging successfully enabled for sklearn.\n",
      "2025/05/17 19:15:06 WARNING mlflow.utils.autologging_utils: MLflow tensorflow autologging is known to be compatible with 2.7.4 <= tensorflow <= 2.18.0, but the installed version is 2.18.1. If you encounter errors during autologging, try upgrading / downgrading tensorflow to a compatible version, or try upgrading MLflow.\n",
      "2025/05/17 19:15:06 INFO mlflow.tracking.fluent: Autologging successfully enabled for tensorflow.\n"
     ]
    },
    {
     "name": "stdout",
     "output_type": "stream",
     "text": [
      "\u001b[34m\u001b[1mMLflow: \u001b[0mlogging run_id(9051932544b54072b2e1ab6336e8b38d) to /Volumes/Cucumber/Projects/item-identification/runs/mlflow\n",
      "\u001b[34m\u001b[1mMLflow: \u001b[0mview at http://127.0.0.1:5000 with 'mlflow server --backend-store-uri /Volumes/Cucumber/Projects/item-identification/runs/mlflow'\n",
      "\u001b[34m\u001b[1mMLflow: \u001b[0mdisable with 'yolo settings mlflow=False'\n",
      "\u001b[34m\u001b[1mTensorBoard: \u001b[0mmodel graph visualization added ✅\n",
      "Image sizes 640 train, 640 val\n",
      "Using 0 dataloader workers\n",
      "Logging results to \u001b[1m/Volumes/Cucumber/Projects/item-identification/runs/detect/train6\u001b[0m\n",
      "Starting training for 32 epochs...\n",
      "\n",
      "      Epoch    GPU_mem   box_loss   cls_loss   dfl_loss  Instances       Size\n"
     ]
    },
    {
     "name": "stderr",
     "output_type": "stream",
     "text": [
      "       1/32         0G      1.417      6.061      1.187       1493        640: 100%|██████████| 50/50 [04:17<00:00,  5.15s/it]\n",
      "                 Class     Images  Instances      Box(P          R      mAP50  mAP50-95): 100%|██████████| 7/7 [00:30<00:00,  4.36s/it]"
     ]
    },
    {
     "name": "stdout",
     "output_type": "stream",
     "text": [
      "                   all        200      11968          0          0          0          0\n",
      "\n",
      "      Epoch    GPU_mem   box_loss   cls_loss   dfl_loss  Instances       Size\n"
     ]
    },
    {
     "name": "stderr",
     "output_type": "stream",
     "text": [
      "\n",
      "       2/32         0G       1.09      5.907      1.033       1239        640: 100%|██████████| 50/50 [04:17<00:00,  5.15s/it]\n",
      "                 Class     Images  Instances      Box(P          R      mAP50  mAP50-95): 100%|██████████| 7/7 [00:30<00:00,  4.37s/it]"
     ]
    },
    {
     "name": "stdout",
     "output_type": "stream",
     "text": [
      "                   all        200      11968   0.000239   0.000266   0.000131   0.000118\n",
      "\n",
      "      Epoch    GPU_mem   box_loss   cls_loss   dfl_loss  Instances       Size\n"
     ]
    },
    {
     "name": "stderr",
     "output_type": "stream",
     "text": [
      "\n",
      "       3/32         0G     0.9756      5.728     0.9627       1795        640: 100%|██████████| 50/50 [04:18<00:00,  5.17s/it]\n",
      "                 Class     Images  Instances      Box(P          R      mAP50  mAP50-95): 100%|██████████| 7/7 [00:30<00:00,  4.37s/it]"
     ]
    },
    {
     "name": "stdout",
     "output_type": "stream",
     "text": [
      "                   all        200      11968     0.0018      0.012    0.00112   0.000935\n",
      "\n",
      "      Epoch    GPU_mem   box_loss   cls_loss   dfl_loss  Instances       Size\n"
     ]
    },
    {
     "name": "stderr",
     "output_type": "stream",
     "text": [
      "\n",
      "       4/32         0G     0.9357      5.586     0.9335       1342        640: 100%|██████████| 50/50 [04:16<00:00,  5.13s/it]\n",
      "                 Class     Images  Instances      Box(P          R      mAP50  mAP50-95): 100%|██████████| 7/7 [00:30<00:00,  4.40s/it]"
     ]
    },
    {
     "name": "stdout",
     "output_type": "stream",
     "text": [
      "                   all        200      11968    0.00299     0.0197    0.00187    0.00162\n",
      "\n",
      "      Epoch    GPU_mem   box_loss   cls_loss   dfl_loss  Instances       Size\n"
     ]
    },
    {
     "name": "stderr",
     "output_type": "stream",
     "text": [
      "\n",
      "       5/32         0G     0.8977      5.472     0.9189        922        640: 100%|██████████| 50/50 [04:20<00:00,  5.20s/it]\n",
      "                 Class     Images  Instances      Box(P          R      mAP50  mAP50-95): 100%|██████████| 7/7 [00:30<00:00,  4.38s/it]"
     ]
    },
    {
     "name": "stdout",
     "output_type": "stream",
     "text": [
      "                   all        200      11968     0.0035     0.0225    0.00223     0.0019\n",
      "\n",
      "      Epoch    GPU_mem   box_loss   cls_loss   dfl_loss  Instances       Size\n"
     ]
    },
    {
     "name": "stderr",
     "output_type": "stream",
     "text": [
      "\n",
      "       6/32         0G     0.8798      5.375      0.908       1241        640: 100%|██████████| 50/50 [04:18<00:00,  5.17s/it]\n",
      "                 Class     Images  Instances      Box(P          R      mAP50  mAP50-95): 100%|██████████| 7/7 [00:30<00:00,  4.36s/it]"
     ]
    },
    {
     "name": "stdout",
     "output_type": "stream",
     "text": [
      "                   all        200      11968    0.00877     0.0322    0.00516    0.00465\n",
      "\n",
      "      Epoch    GPU_mem   box_loss   cls_loss   dfl_loss  Instances       Size\n"
     ]
    },
    {
     "name": "stderr",
     "output_type": "stream",
     "text": [
      "\n",
      "       7/32         0G     0.8496      5.256     0.9041       1263        640: 100%|██████████| 50/50 [04:17<00:00,  5.15s/it]\n",
      "                 Class     Images  Instances      Box(P          R      mAP50  mAP50-95): 100%|██████████| 7/7 [00:30<00:00,  4.40s/it]"
     ]
    },
    {
     "name": "stdout",
     "output_type": "stream",
     "text": [
      "                   all        200      11968    0.00607     0.0332    0.00394    0.00355\n",
      "\n",
      "      Epoch    GPU_mem   box_loss   cls_loss   dfl_loss  Instances       Size\n"
     ]
    },
    {
     "name": "stderr",
     "output_type": "stream",
     "text": [
      "\n",
      "       8/32         0G      0.845      5.186     0.8995       1300        640: 100%|██████████| 50/50 [04:18<00:00,  5.17s/it]\n",
      "                 Class     Images  Instances      Box(P          R      mAP50  mAP50-95): 100%|██████████| 7/7 [00:30<00:00,  4.41s/it]"
     ]
    },
    {
     "name": "stdout",
     "output_type": "stream",
     "text": [
      "                   all        200      11968    0.00665      0.033    0.00427    0.00402\n",
      "\n",
      "      Epoch    GPU_mem   box_loss   cls_loss   dfl_loss  Instances       Size\n"
     ]
    },
    {
     "name": "stderr",
     "output_type": "stream",
     "text": [
      "\n",
      "       9/32         0G     0.8323      5.127     0.8955       1187        640: 100%|██████████| 50/50 [04:19<00:00,  5.19s/it]\n",
      "                 Class     Images  Instances      Box(P          R      mAP50  mAP50-95): 100%|██████████| 7/7 [00:31<00:00,  4.44s/it]"
     ]
    },
    {
     "name": "stdout",
     "output_type": "stream",
     "text": [
      "                   all        200      11968     0.0117     0.0349    0.00722     0.0067\n",
      "\n",
      "      Epoch    GPU_mem   box_loss   cls_loss   dfl_loss  Instances       Size\n"
     ]
    },
    {
     "name": "stderr",
     "output_type": "stream",
     "text": [
      "\n",
      "      10/32         0G     0.8144      5.047     0.8906       1663        640: 100%|██████████| 50/50 [04:17<00:00,  5.16s/it]\n",
      "                 Class     Images  Instances      Box(P          R      mAP50  mAP50-95): 100%|██████████| 7/7 [00:31<00:00,  4.45s/it]"
     ]
    },
    {
     "name": "stdout",
     "output_type": "stream",
     "text": [
      "                   all        200      11968     0.0168     0.0368    0.00983    0.00919\n",
      "\n",
      "      Epoch    GPU_mem   box_loss   cls_loss   dfl_loss  Instances       Size\n"
     ]
    },
    {
     "name": "stderr",
     "output_type": "stream",
     "text": [
      "\n",
      "      11/32         0G     0.8114      5.007     0.8862       1114        640: 100%|██████████| 50/50 [04:19<00:00,  5.18s/it]\n",
      "                 Class     Images  Instances      Box(P          R      mAP50  mAP50-95): 100%|██████████| 7/7 [00:31<00:00,  4.46s/it]"
     ]
    },
    {
     "name": "stdout",
     "output_type": "stream",
     "text": [
      "                   all        200      11968     0.0131     0.0387    0.00815    0.00769\n",
      "\n",
      "      Epoch    GPU_mem   box_loss   cls_loss   dfl_loss  Instances       Size\n"
     ]
    },
    {
     "name": "stderr",
     "output_type": "stream",
     "text": [
      "\n",
      "      12/32         0G     0.8135       4.94     0.8848       1202        640: 100%|██████████| 50/50 [04:20<00:00,  5.20s/it]\n",
      "                 Class     Images  Instances      Box(P          R      mAP50  mAP50-95): 100%|██████████| 7/7 [00:31<00:00,  4.49s/it]"
     ]
    },
    {
     "name": "stdout",
     "output_type": "stream",
     "text": [
      "                   all        200      11968     0.0123     0.0409    0.00796    0.00744\n",
      "\n",
      "      Epoch    GPU_mem   box_loss   cls_loss   dfl_loss  Instances       Size\n"
     ]
    },
    {
     "name": "stderr",
     "output_type": "stream",
     "text": [
      "\n",
      "      13/32         0G      0.798      4.887     0.8831       1868        640: 100%|██████████| 50/50 [04:18<00:00,  5.16s/it]\n",
      "                 Class     Images  Instances      Box(P          R      mAP50  mAP50-95): 100%|██████████| 7/7 [00:31<00:00,  4.54s/it]"
     ]
    },
    {
     "name": "stdout",
     "output_type": "stream",
     "text": [
      "                   all        200      11968     0.0103     0.0439    0.00722    0.00666\n",
      "\n",
      "      Epoch    GPU_mem   box_loss   cls_loss   dfl_loss  Instances       Size\n"
     ]
    },
    {
     "name": "stderr",
     "output_type": "stream",
     "text": [
      "\n",
      "      14/32         0G     0.7802      4.827     0.8832       1414        640: 100%|██████████| 50/50 [04:17<00:00,  5.15s/it]\n",
      "                 Class     Images  Instances      Box(P          R      mAP50  mAP50-95): 100%|██████████| 7/7 [00:31<00:00,  4.56s/it]"
     ]
    },
    {
     "name": "stdout",
     "output_type": "stream",
     "text": [
      "                   all        200      11968     0.0114     0.0482    0.00794    0.00745\n",
      "\n",
      "      Epoch    GPU_mem   box_loss   cls_loss   dfl_loss  Instances       Size\n"
     ]
    },
    {
     "name": "stderr",
     "output_type": "stream",
     "text": [
      "\n",
      "      15/32         0G     0.7783      4.793     0.8817       1360        640: 100%|██████████| 50/50 [04:17<00:00,  5.15s/it]\n",
      "                 Class     Images  Instances      Box(P          R      mAP50  mAP50-95): 100%|██████████| 7/7 [00:31<00:00,  4.56s/it]"
     ]
    },
    {
     "name": "stdout",
     "output_type": "stream",
     "text": [
      "                   all        200      11968     0.0106      0.051    0.00773    0.00715\n",
      "\n",
      "      Epoch    GPU_mem   box_loss   cls_loss   dfl_loss  Instances       Size\n"
     ]
    },
    {
     "name": "stderr",
     "output_type": "stream",
     "text": [
      "\n",
      "      16/32         0G      0.775       4.73      0.879       1489        640: 100%|██████████| 50/50 [04:17<00:00,  5.15s/it]\n",
      "                 Class     Images  Instances      Box(P          R      mAP50  mAP50-95): 100%|██████████| 7/7 [00:32<00:00,  4.66s/it]"
     ]
    },
    {
     "name": "stdout",
     "output_type": "stream",
     "text": [
      "                   all        200      11968     0.0109     0.0533    0.00802    0.00744\n",
      "\n",
      "      Epoch    GPU_mem   box_loss   cls_loss   dfl_loss  Instances       Size\n"
     ]
    },
    {
     "name": "stderr",
     "output_type": "stream",
     "text": [
      "\n",
      "      17/32         0G     0.7775        4.7     0.8757       1287        640: 100%|██████████| 50/50 [04:15<00:00,  5.11s/it]\n",
      "                 Class     Images  Instances      Box(P          R      mAP50  mAP50-95): 100%|██████████| 7/7 [00:34<00:00,  4.87s/it]"
     ]
    },
    {
     "name": "stdout",
     "output_type": "stream",
     "text": [
      "                   all        200      11968     0.0121     0.0553    0.00875    0.00813\n",
      "\n",
      "      Epoch    GPU_mem   box_loss   cls_loss   dfl_loss  Instances       Size\n"
     ]
    },
    {
     "name": "stderr",
     "output_type": "stream",
     "text": [
      "\n",
      "      18/32         0G     0.7661      4.658     0.8749       1333        640: 100%|██████████| 50/50 [04:27<00:00,  5.36s/it]\n",
      "                 Class     Images  Instances      Box(P          R      mAP50  mAP50-95): 100%|██████████| 7/7 [00:33<00:00,  4.76s/it]"
     ]
    },
    {
     "name": "stdout",
     "output_type": "stream",
     "text": [
      "                   all        200      11968     0.0121     0.0571    0.00887    0.00828\n",
      "\n",
      "      Epoch    GPU_mem   box_loss   cls_loss   dfl_loss  Instances       Size\n"
     ]
    },
    {
     "name": "stderr",
     "output_type": "stream",
     "text": [
      "\n",
      "      19/32         0G      0.762      4.643     0.8778       1016        640: 100%|██████████| 50/50 [04:20<00:00,  5.20s/it]\n",
      "                 Class     Images  Instances      Box(P          R      mAP50  mAP50-95): 100%|██████████| 7/7 [00:33<00:00,  4.85s/it]"
     ]
    },
    {
     "name": "stdout",
     "output_type": "stream",
     "text": [
      "                   all        200      11968     0.0113     0.0601     0.0087    0.00808\n",
      "\n",
      "      Epoch    GPU_mem   box_loss   cls_loss   dfl_loss  Instances       Size\n"
     ]
    },
    {
     "name": "stderr",
     "output_type": "stream",
     "text": [
      "\n",
      "      20/32         0G      0.766       4.61     0.8721       1130        640: 100%|██████████| 50/50 [04:15<00:00,  5.12s/it]\n",
      "                 Class     Images  Instances      Box(P          R      mAP50  mAP50-95): 100%|██████████| 7/7 [00:33<00:00,  4.78s/it]"
     ]
    },
    {
     "name": "stdout",
     "output_type": "stream",
     "text": [
      "                   all        200      11968     0.0166     0.0625     0.0117     0.0109\n",
      "\n",
      "      Epoch    GPU_mem   box_loss   cls_loss   dfl_loss  Instances       Size\n"
     ]
    },
    {
     "name": "stderr",
     "output_type": "stream",
     "text": [
      "\n",
      "      21/32         0G     0.7649      4.579     0.8741       1307        640: 100%|██████████| 50/50 [04:18<00:00,  5.16s/it]\n",
      "                 Class     Images  Instances      Box(P          R      mAP50  mAP50-95): 100%|██████████| 7/7 [00:33<00:00,  4.82s/it]"
     ]
    },
    {
     "name": "stdout",
     "output_type": "stream",
     "text": [
      "                   all        200      11968     0.0171     0.0628     0.0121      0.011\n",
      "\n",
      "      Epoch    GPU_mem   box_loss   cls_loss   dfl_loss  Instances       Size\n"
     ]
    },
    {
     "name": "stderr",
     "output_type": "stream",
     "text": [
      "\n",
      "      22/32         0G     0.7351      4.513     0.8737       1178        640: 100%|██████████| 50/50 [04:15<00:00,  5.11s/it]\n",
      "                 Class     Images  Instances      Box(P          R      mAP50  mAP50-95): 100%|██████████| 7/7 [00:34<00:00,  5.00s/it]"
     ]
    },
    {
     "name": "stdout",
     "output_type": "stream",
     "text": [
      "                   all        200      11968     0.0221     0.0652     0.0148     0.0137\n",
      "Closing dataloader mosaic\n",
      "\n",
      "      Epoch    GPU_mem   box_loss   cls_loss   dfl_loss  Instances       Size\n"
     ]
    },
    {
     "name": "stderr",
     "output_type": "stream",
     "text": [
      "\n",
      "      23/32         0G      0.688      4.342     0.8628        817        640: 100%|██████████| 50/50 [04:08<00:00,  4.98s/it]\n",
      "                 Class     Images  Instances      Box(P          R      mAP50  mAP50-95): 100%|██████████| 7/7 [00:43<00:00,  6.18s/it]"
     ]
    },
    {
     "name": "stdout",
     "output_type": "stream",
     "text": [
      "                   all        200      11968     0.0191     0.0655      0.014     0.0129\n",
      "\n",
      "      Epoch    GPU_mem   box_loss   cls_loss   dfl_loss  Instances       Size\n"
     ]
    },
    {
     "name": "stderr",
     "output_type": "stream",
     "text": [
      "\n",
      "      24/32         0G      0.674      4.317     0.8633        806        640: 100%|██████████| 50/50 [04:11<00:00,  5.02s/it]\n",
      "                 Class     Images  Instances      Box(P          R      mAP50  mAP50-95): 100%|██████████| 7/7 [00:40<00:00,  5.82s/it]"
     ]
    },
    {
     "name": "stdout",
     "output_type": "stream",
     "text": [
      "                   all        200      11968     0.0187     0.0707     0.0144     0.0133\n",
      "\n",
      "      Epoch    GPU_mem   box_loss   cls_loss   dfl_loss  Instances       Size\n"
     ]
    },
    {
     "name": "stderr",
     "output_type": "stream",
     "text": [
      "\n",
      "      25/32         0G     0.6728       4.28     0.8599        875        640: 100%|██████████| 50/50 [04:08<00:00,  4.97s/it]\n",
      "                 Class     Images  Instances      Box(P          R      mAP50  mAP50-95): 100%|██████████| 7/7 [00:40<00:00,  5.79s/it]"
     ]
    },
    {
     "name": "stdout",
     "output_type": "stream",
     "text": [
      "                   all        200      11968     0.0194     0.0745     0.0152     0.0142\n",
      "\n",
      "      Epoch    GPU_mem   box_loss   cls_loss   dfl_loss  Instances       Size\n"
     ]
    },
    {
     "name": "stderr",
     "output_type": "stream",
     "text": [
      "\n",
      "      26/32         0G     0.6674      4.272     0.8596        800        640: 100%|██████████| 50/50 [04:05<00:00,  4.91s/it]\n",
      "                 Class     Images  Instances      Box(P          R      mAP50  mAP50-95): 100%|██████████| 7/7 [00:41<00:00,  5.89s/it]"
     ]
    },
    {
     "name": "stdout",
     "output_type": "stream",
     "text": [
      "                   all        200      11968     0.0182      0.077     0.0149     0.0138\n",
      "\n",
      "      Epoch    GPU_mem   box_loss   cls_loss   dfl_loss  Instances       Size\n"
     ]
    },
    {
     "name": "stderr",
     "output_type": "stream",
     "text": [
      "\n",
      "      27/32         0G     0.6623      4.242     0.8598        852        640: 100%|██████████| 50/50 [04:04<00:00,  4.89s/it]\n",
      "                 Class     Images  Instances      Box(P          R      mAP50  mAP50-95): 100%|██████████| 7/7 [00:42<00:00,  6.07s/it]"
     ]
    },
    {
     "name": "stdout",
     "output_type": "stream",
     "text": [
      "                   all        200      11968     0.0178     0.0781     0.0149     0.0138\n",
      "\n",
      "      Epoch    GPU_mem   box_loss   cls_loss   dfl_loss  Instances       Size\n"
     ]
    },
    {
     "name": "stderr",
     "output_type": "stream",
     "text": [
      "\n",
      "      28/32         0G     0.6586       4.22     0.8595        964        640: 100%|██████████| 50/50 [04:07<00:00,  4.95s/it]\n",
      "                 Class     Images  Instances      Box(P          R      mAP50  mAP50-95): 100%|██████████| 7/7 [00:43<00:00,  6.14s/it]"
     ]
    },
    {
     "name": "stdout",
     "output_type": "stream",
     "text": [
      "                   all        200      11968     0.0194     0.0809     0.0162     0.0149\n",
      "\n",
      "      Epoch    GPU_mem   box_loss   cls_loss   dfl_loss  Instances       Size\n"
     ]
    },
    {
     "name": "stderr",
     "output_type": "stream",
     "text": [
      "\n",
      "      29/32         0G     0.6584      4.211     0.8571        894        640: 100%|██████████| 50/50 [04:09<00:00,  4.98s/it]\n",
      "                 Class     Images  Instances      Box(P          R      mAP50  mAP50-95): 100%|██████████| 7/7 [00:42<00:00,  6.06s/it]"
     ]
    },
    {
     "name": "stdout",
     "output_type": "stream",
     "text": [
      "                   all        200      11968     0.0196     0.0824     0.0166     0.0152\n",
      "\n",
      "      Epoch    GPU_mem   box_loss   cls_loss   dfl_loss  Instances       Size\n"
     ]
    },
    {
     "name": "stderr",
     "output_type": "stream",
     "text": [
      "\n",
      "      30/32         0G     0.6514      4.206     0.8595       1164        640: 100%|██████████| 50/50 [04:07<00:00,  4.94s/it]\n",
      "                 Class     Images  Instances      Box(P          R      mAP50  mAP50-95): 100%|██████████| 7/7 [00:42<00:00,  6.04s/it]"
     ]
    },
    {
     "name": "stdout",
     "output_type": "stream",
     "text": [
      "                   all        200      11968     0.0195     0.0834     0.0164     0.0151\n",
      "\n",
      "      Epoch    GPU_mem   box_loss   cls_loss   dfl_loss  Instances       Size\n"
     ]
    },
    {
     "name": "stderr",
     "output_type": "stream",
     "text": [
      "\n",
      "      31/32         0G     0.6642      4.198     0.8585        689        640: 100%|██████████| 50/50 [04:09<00:00,  4.98s/it]\n",
      "                 Class     Images  Instances      Box(P          R      mAP50  mAP50-95): 100%|██████████| 7/7 [00:41<00:00,  5.98s/it]"
     ]
    },
    {
     "name": "stdout",
     "output_type": "stream",
     "text": [
      "                   all        200      11968     0.0193     0.0849     0.0165     0.0151\n",
      "\n",
      "      Epoch    GPU_mem   box_loss   cls_loss   dfl_loss  Instances       Size\n"
     ]
    },
    {
     "name": "stderr",
     "output_type": "stream",
     "text": [
      "\n",
      "      32/32         0G      0.658      4.189     0.8607       1001        640: 100%|██████████| 50/50 [04:07<00:00,  4.95s/it]\n",
      "                 Class     Images  Instances      Box(P          R      mAP50  mAP50-95): 100%|██████████| 7/7 [00:43<00:00,  6.16s/it]"
     ]
    },
    {
     "name": "stdout",
     "output_type": "stream",
     "text": [
      "                   all        200      11968     0.0194     0.0839     0.0165     0.0152\n",
      "\n",
      "32 epochs completed in 2.582 hours.\n",
      "Optimizer stripped from /Volumes/Cucumber/Projects/item-identification/runs/detect/train6/weights/last.pt, 7.0MB\n"
     ]
    },
    {
     "name": "stderr",
     "output_type": "stream",
     "text": [
      "\n"
     ]
    },
    {
     "name": "stdout",
     "output_type": "stream",
     "text": [
      "Optimizer stripped from /Volumes/Cucumber/Projects/item-identification/runs/detect/train6/weights/best.pt, 7.0MB\n",
      "\n",
      "Validating /Volumes/Cucumber/Projects/item-identification/runs/detect/train6/weights/best.pt...\n",
      "Ultralytics 8.3.111 🚀 Python-3.9.6 torch-2.6.0 CPU (Apple M4)\n",
      "Model summary (fused): 72 layers, 3,374,963 parameters, 0 gradients, 9.8 GFLOPs\n"
     ]
    },
    {
     "name": "stderr",
     "output_type": "stream",
     "text": [
      "                 Class     Images  Instances      Box(P          R      mAP50  mAP50-95): 100%|██████████| 7/7 [00:38<00:00,  5.55s/it]\n"
     ]
    },
    {
     "name": "stdout",
     "output_type": "stream",
     "text": [
      "                   all        200      11968     0.0195     0.0823     0.0165     0.0151\n",
      "8934822823252-bia-tiger-crystal-4.6%-abv-lon-250ml         13        117     0.0333      0.359     0.0267     0.0237\n",
      "8934822123253-bia-tiger-lager-4-6-abv-lon-250ml          4         54          0          0          0          0\n",
      "8934822112332-bia-tiger-lon-cao-330ml-lon          4         47    0.00478     0.0638    0.00278    0.00278\n",
      "8934822801335-bia-tiger-crystal-4-6-phan-tram-lon-330ml          3         44    0.00234     0.0682    0.00131    0.00127\n",
      "8934563138165-mi-hao-hao-tom-chua-cay-goi-75g          8         94     0.0263      0.149      0.023     0.0206\n",
      "8934563122201-mi-hao-hao-vi-tom-chua-cay-goi-100g         14        111     0.0357      0.018     0.0186     0.0177\n",
      "8934563183158-mi-hao-hao-sa-te-hanh-tim-75g          8         76     0.0418      0.763     0.0536     0.0495\n",
      "8934679943325-mi-gau-do-tom-va-ga-goi-63g         12        133      0.101      0.519       0.18      0.165\n",
      "8934679941826-mi-gau-do-tom-chua-cay-goi-63g         10        118     0.0534      0.686     0.0803     0.0743\n",
      "8936048470012-mi-3-mien-tom-chua-cay-65g         11        105      0.062      0.476     0.0663     0.0625\n",
      "8934563651138-mi-hao-hao,-vi-tom-chua-cayacecook,-coc-(67g)         13        148     0.0286     0.0608     0.0152     0.0133\n",
      "8934804027333-tra-chanh-nestea-hoa-tan-hop-195g-15-goi-x-13g          4         49     0.0526     0.0204     0.0276     0.0221\n",
      "8936010530881-tra-chanh-cozy-hoa-tan-hop-240g-16-goi-x-15g          4         50      0.346       0.18        0.3      0.285\n",
      "8934840335560-tra-viet-quat-atiso-do-nestea-hop-120g          4         31          0          0          0          0\n",
      "8936010530713-tra-dao-cozy-hoa-tan-hop-16-goi-x-15g          4         12          0          0          0          0\n",
      "8936010530072-hong-tra-tui-loc-cozy-50g          9         58     0.0229     0.0517     0.0174     0.0151\n",
      "8935024170632-ca-phe-g7-gold-rumi-252g          3         25          0          0          0          0\n",
      "8935024170403-cappuccino-dua-trung-nguyen-216g-18g-x-12-goi          5         27          0          0          0          0\n",
      "8934822121297-nuoc-trai-cay-len-men-strongbow-red-beries-4.5%-abv-lon-320ml          7         57     0.0287      0.105     0.0176     0.0163\n",
      "8935049501503-nuoc-ngot-coca-cola-vi-nguyen-ban-lon-320ml          3         54     0.0104      0.111    0.00692    0.00606\n",
      "8934822111298-nuoc-trai-cay-len-men-strongbow-gold-apple-4-5-abv-lon-320ml          3         25    0.00286       0.08    0.00155     0.0014\n",
      "8936136163314-nuoc-mam-nam-ngu-3-trong-1-750ml          2         13    0.00621     0.0769    0.00365    0.00292\n",
      "8934804040523-tra-vai-va-huong-hoa-lai-nestea-hoa-tan-hop-144g-12-goi-x-12g          7         36          0          0          0          0\n",
      "8934804038131-tra-hoa-qua-nestea-hoa-tan-hop-144g-12-goi-x-12g          5         86     0.0135     0.0698     0.0077    0.00664\n",
      "4902102038720-nuoc-ngot-fanta-nap-van-lon-300ml          5         60          0          0          0          0\n",
      "4902102014281-nuoc-ngot-cocacola-vi-nguyen-ban-lon-500ml          9         81     0.0296      0.111     0.0197     0.0191\n",
      "8851123740593-phan-thom-duong-am-cho-be-babi-mild-white-sakura-160g          6         57     0.0242     0.0526     0.0135     0.0135\n",
      "8851123710084-sua-tam-goi-2in1-cho-be-babi-mild-white-sakura-chiet-xuat-la-anh-dao-380ml          3         22    0.00344     0.0909    0.00233    0.00233\n",
      "9555063007073-sua-tam-goi-em-be-khong-cay-mat-be-love-l'affair-malaysia-chai-500ml-cam          8         55     0.0172     0.0182     0.0091    0.00819\n",
      "8850007090281-sua-tam-johnson's-chua-tinh-chat-duong-am-tu-sua-va-gao-200ml          6         67     0.0288     0.0597     0.0154      0.015\n",
      "8936123410162-sua-tam-goi-tre-em-lactacyd-milky-bao-ve-da-toc-be-500ml          2         23    0.00714      0.174    0.00494    0.00494\n",
      "8850007060321-dau-duong-am-mat-xa-johnson's-baby-oil-200ml          3         17          0          0          0          0\n",
      "3760128640607-sua-tuoi-tiet-trung-promess-nguyen-kem-hop-1l          4         22     0.0208     0.0455     0.0116     0.0093\n",
      "8934774000800-nuoc-khoang-kiem-vikoda-chai-1.5l          5         38    0.00873      0.105    0.00498    0.00434\n",
      "8935005801012-nuoc-loc-lavie-chai-1-5l          3         27          0          0          0          0\n",
      "8936185351427-nuoc-trai-cay-len-men-chill-cocktail-vi-dao-chai-275ml          7         43      0.008       0.14    0.00573    0.00532\n",
      "8936094291401-bia-budweiser-aluminum-chai-355ml         10        102     0.0255      0.206      0.024     0.0232\n",
      "8936048473921-mi-3-mien-ga-soi-pho          1          1          0          0          0          0\n",
      "8936048470524-mi-tom-3-mien-gold-vi-bo-ham-rau-thom-75g          2         14          0          0          0          0\n",
      "8936048471248-mi-tom-chua-cay-dac-biet-3-mien-gold-goi-75g          4         26     0.0396      0.615     0.0719     0.0634\n",
      "8934563106140-mi-hao-hao-hai-san-goi-71g          4         29     0.0217     0.0345     0.0128     0.0128\n",
      "8934563198152-mi-hao-hao-chay-vi-rau-nam-74gr          2         26    0.00324     0.0385    0.00183    0.00165\n",
      "8936048470036-mi-3-mien-mi-chay-la-da-65g-(goi)          4         23          0          0          0          0\n",
      "8934588233074-nuoc-tang-luc-sting-vi-dau-tay-do-330ml          3         50          0          0          0          0\n",
      "8850228007617-nuoc-tang-luc-redbull-250ml         10        101     0.0645     0.0396     0.0393     0.0367\n",
      "8936067892789-tra-viet-quat-tvt-450mlchai         11        130     0.0184     0.0538     0.0124     0.0113\n",
      "8935006547650-sua-rua-mat-oxy-oil-hydrating-wash-cho-da-thuong,-kho-nhay-cam-100g          7         47          0          0          0          0\n",
      "6902395843467-nuoc-tay-trang-mat-moi-maybelline-150ml          9         79          0          0          0          0\n",
      "8934868153733-sua-duong-the-vaseline-ngan-ngua-lao-hoa-350ml          6         43          0          0          0          0\n",
      "8994993018222-sua-rua-mat-garnier-3-trong-1-giam-munsang-da-100ml-(moi)         10         94    0.00939     0.0426    0.00497    0.00484\n",
      "8992222053129-wax-tao-kieu-toc-gatsby-styling-wax-75g          2         12          0          0          0          0\n",
      "               unknown         13         81     0.0246      0.037     0.0128     0.0124\n",
      "8710908371509-nuoc-tay-trang-simple-lam-sach-trang-diem-vuot-troi-400ml         10         92     0.0196     0.0217     0.0101     0.0096\n",
      "8935212830560-nuoc-lau-be-mat-da-nang-maxkleen-chai-520ml          5         40     0.0198       0.05      0.012      0.012\n",
      "8935018801641-khan-bep-da-nang-pulppy-classic-2-lop-loc-2-cuon          3         25          0          0          0          0\n",
      "8934673700863-nuoc-ep-kiwi-tao-vfresh-1lhop         15        157     0.0783     0.0828     0.0428       0.04\n",
      "8809696351944-mat-na-jmsolution-hyaluronic-acid-duong-sang-cap-am-30ml          3         54          0          0          0          0\n",
      "8992222055567-wax-vuot-toc-gatsby-classy-dry-75g          4         50          0          0          0          0\n",
      "8936059330367-ca-phe-sua-3-in-1-valentina-160g-(hop-10-goi)          7         69          0          0          0          0\n",
      "8936126480414-ca-phe-hoa-tan-l-elegant-mocha-cappuccino-12-goi-300g          6         55          0          0          0          0\n",
      "8935006544864-dung-dich-tay-trang-acnes-cho-da-mun-200ml          5         68    0.00637     0.0441    0.00463    0.00403\n",
      "4902806117905-sua-rua-mat-gatsby-facial-wash-acne-care-foam-tuyp-130gtri-mun          8         63    0.00488     0.0159    0.00251    0.00176\n",
      "8992222052443-gatsby-water-gloss-super-hardgel-vuot-toc-cung-170g          6         94    0.00863      0.106    0.00627    0.00531\n",
      "8935006532755-kem-rua-mat-acnes-vitamin-lam-sang-da,-mo-seo-tham-50g          5         37          0          0          0          0\n",
      "5391516873239-bia-magners-pear-cider-4-5-chai-330ml         10         90        0.5        0.1      0.312      0.294\n",
      "8934822451295-nuoc-trai-cay-len-men-strongbow-vi-thom-luu-3.5%-lon-330ml          8         90     0.0136      0.156     0.0082    0.00774\n",
      "8934822201272-bia-heineken-silver-lon-250ml          2         14          0          0          0          0\n",
      "8411640001098-ruou-vodka-mg-spirit-pineapple-5.5-vol-275ml          8        161     0.0109    0.00621    0.00553    0.00443\n",
      "8934692090013-bia-1664-blanc-5%-abv-chai-330ml          9         67          0          0          0          0\n",
      "8936036201604-bia-hoegaarden-rosee-chai-248ml          6         55      0.017      0.291     0.0138      0.012\n",
      "8936185351816-chill-cocktail-sakura-vi-dua-hau-sake-lon-330ml          5         57      0.019      0.386     0.0269     0.0254\n",
      "8936094291005-bia-budweiser-5-lon-330ml          5         27    0.00377      0.185     0.0025    0.00233\n",
      "8934692040056-bia-tuborg-ice-330ml          4         41    0.00528     0.0732    0.00299    0.00288\n",
      "8934822431211-bia-tiger-soju-infused-lager-wonder-melon-vi-dua-luoi-lon-330ml         10        100     0.0084       0.06    0.00478    0.00395\n",
      "8934822220112-bia-viet-lon-330ml         10        121          0          0          0          0\n",
      "8934822212339-bia-heineken-lon-cao-330ml         12        106     0.0255      0.311     0.0182     0.0167\n",
      "8936000440862-bia-ha-noi-lon-330ml         10        102     0.0597     0.0392     0.0314     0.0245\n",
      "8934692100316-nuoc-tao-len-men-vi-tao-somersby-4.5%-abv-lon-330ml          7        107    0.00903     0.0467    0.00486    0.00408\n",
      "8934663102516-mi-vi-huong-chay-goi-65g          3         32          0          0          0          0\n",
      "8935136863378-sap-vuot-toc-x-men-salon-solutions-clay-70g          2         15          0          0          0          0\n",
      "8934822361211-bia-heineken-khong-con-lon-330ml          3         51          0          0          0          0\n",
      "8936199810026-cafe-the-coffee-house-sua-da-22gx10-goi-(hop)          9         92     0.0219      0.152     0.0136     0.0123\n",
      "8935136862319-sua-rua-mat-xmen-go-refresh-suc-manh-mat-lanh-100g          1          4          0          0          0          0\n",
      "8934841903362-sua-tiet-trung-dutch-lady-ha-lan-huong-socola-bich-180mlbich          5         46    0.00226     0.0217    0.00116   0.000694\n",
      "809939073648-soda-sua-huong-vi-chuoi-milkis-banana          5         76          0          0          0          0\n",
      "8934673573399-sua-tuoi-tiet-trung-co-duong,-100%-sua-tuoivinamilk-(1lit).          6         34          0          0          0          0\n",
      "8935049511038-sua-trai-cay-nutriboost-cam-chai-1l          3         13      0.012      0.385    0.00936    0.00912\n",
      "8936127794206-nuoc-uong-sua-trai-cay-th-true-juice-milk-huong-viet-quat-300ml          7         83    0.00952      0.012    0.00513    0.00513\n",
      "8935049018728-sua-trai-cay-nuvi-cam-tui-110mltui          6         39    0.00787     0.0769     0.0046    0.00443\n",
      "8936203350043-sua-dinh-duong-tiet-trung-vpmilk-omega-it-duong-bich-220ml          8         89      0.014      0.146     0.0109    0.00981\n",
      "8850227028927-sua-dua-vi-chuoi-thai-coco-300ml         10        136    0.00469    0.00735    0.00237    0.00213\n",
      "8934673101097-sua-tuoi-tiet-trung-tiet-trung-vinamilk-khong-duong-bich-220ml          4         49   0.000843     0.0204   0.000433   0.000433\n",
      "8935001282297-sua-trai-cay-kirin-latte-dau-chai-440ml          7         82     0.0103      0.195    0.00852    0.00761\n",
      "8801382123446-nuoc-gao-han-quoc-loai-500ml          5         55          0          0          0          0\n",
      "8850029036434-nuoc-tay-trang-cham-soc-da-mun-nivea-derma-acne-care-micellar-400ml          3         26          0          0          0          0\n",
      "4901872447008-sap-vuot-toc-uno-hard-giu-nep-tu-nhien-80g          7         99     0.0545      0.212     0.0359     0.0331\n",
      "3499320013048-sua-rua-mat-cetaphil-diu-nhe-khong-xa-phong-500ml-(moi)          4         49          0          0          0          0\n",
      "8935049017295-sua-tuoi-tiet-trung-co-duong-nutimilk-bich-220ml         11         92          0          0          0          0\n",
      "8935006531581-kem-rua-mat-oxy-lam-sach-sau-sang-khoai-100g          7         90    0.00435     0.0222    0.00223    0.00212\n",
      "8935006538634-dau-tay-trang-hada-labo-sach-sau-duong-am-toi-uu-200ml          7         52    0.00678     0.0385    0.00373    0.00335\n",
      "8935006531956-kem-rua-mat-oxy-co-hat-lam-sach-sau-giam-nhon-100g          9         93     0.0326     0.0323     0.0169     0.0169\n",
      "8851932474245-nuoc-tay-trang-pond's-vitamin-va-hoa-hong-sang-da-chai-400ml          6         58          0          0          0          0\n",
      "8809351955944-sua-rua-mat-dabo-chiet-xuat-lo-hoi-3-trong-1-180ml          5         48          0          0          0          0\n",
      "8934868166351-nuoc-rua-tay-lifebuoy-matcha-va-lo-hoichai-450g          4         32    0.00321     0.0312    0.00174    0.00156\n",
      "8934683009444-ca-phe-hoa-tan-vinacafe-gold-orinal-3-trong-1-hop-18-goi-20g          7         74          0          0          0          0\n",
      "8935024123287-ca-phe-sua-hoa-tan-g7-3in1-hop-336g-(16g-x-21-goi)          4         56          0          0          0          0\n",
      "8934683009925-ca-phe-sua-da-vinacafe-chat-hop-10-goi-24g          5         58          0          0          0          0\n",
      "8934716010300-nuoc-loc-sapuwa-chai-1-5l          7         88     0.0191     0.0795     0.0117     0.0101\n",
      "8936135430226-ca-phe-hoa-tan-3in1-mr.-viet-hop-15-goi-17g          4         22      0.167     0.0455     0.0909     0.0727\n",
      "8935049510857-nuoc-loc-dasani-chai-1.5l          3         41    0.00266     0.0244    0.00142    0.00142\n",
      "8936721790017-nuoc-loc-th-true-water-chai-500ml          6         44     0.0141       0.25      0.014     0.0133\n",
      "8934588063060-nuoc-loc-aquafina-chai-1-5l         11        111          0          0          0          0\n",
      "8936191270057-ca-phe-cappuccino-dua-just-viet-hop-hop-10-goi-x-17g         10        121          0          0          0          0\n",
      "8935024170519-ca-phe-trung-nguyen-legend-classic-hop-357g-17g-x-21-goi          5         37          0          0          0          0\n",
      "8935039570700-ca-phe-sua-robusta-birdy-lon-170ml          6         48     0.0244      0.312     0.0347     0.0331\n",
      "8934683008614-ca-phe-sua-vinacafe-3-in-1-gold-tui-480g-24-goi-tui          2         20     0.0244       0.05     0.0138    0.00963\n",
      "8934588640445-ca-phe-sua-boss-lon-180ml          6         59    0.00402     0.0339    0.00212    0.00212\n",
      "8936127790031-nuoc-loc-th-true-water-chai-1-5l          8         69     0.0162      0.275     0.0111    0.00973\n",
      "8934840000093-nuoc-khoang-chanh-lemona-chai-500ml          7         81          0          0          0          0\n",
      "8936079140021-ca-phe-sua-highland-coffee-lon-185ml          4         15      0.025      0.467     0.0254     0.0235\n",
      "8936089171312-ca-phe-cappuccino-dua-archcafe-20g-x-12-goi          5         40          0          0          0          0\n",
      "8934804028064-ca-phe-hoa-tan-nescafe-3in1-vi-nguyen-ban-tui-782g-(17g-x-46-goi)         10        137     0.0847       0.54      0.107     0.0924\n",
      "8936122200276-ca-phe-mr.brown-blue-mountain-240ml          5         32     0.0068     0.0312     0.0383     0.0383\n",
      "8938523050382-ca-phe-chon-hoa-tan-ban-fb-200g-(20g-x-10-goi)          1          2          0          0          0          0\n",
      "8938530527020-nuoc-huong-mia-miaqua-chai-500ml         10        128     0.0405      0.219     0.0475     0.0421\n",
      "3068320055008-nuoc-loc-evivan-chai-500ml          7         92          0          0          0          0\n",
      "8936069606667-nuoc-rua-chen-suzy-huong-bac-ha-2.05l          4         34     0.0116      0.265     0.0131     0.0117\n",
      "8934868166320-nuoc-rua-tay-lifebuoy-cong-thuc-vitamin+-khu-mui-huong-chanh-chai-450g          8        100     0.0154       0.05    0.00872    0.00834\n",
      "8936156730022-xit-lau-kinh-blue-650mlchai          4         21          0          0          0          0\n",
      "8936069601846-nuoc-lau-san-suzy-huong-que+nhai-1l          2         28          0          0          0          0\n",
      "8936156730718-nuoc-xa-vai-blue-dam-dac-huong-thanh-xuan-tui-3.2l          4         40     0.0234      0.325     0.0161     0.0156\n",
      "8934669380277-nuoc-rua-chen-winmart-home-3.5l-(tui)          3         19          0          0          0          0\n",
      "8934868170983-nuoc-rua-tay-lifebuoy-cong-thuc-vitamin+-khu-mui-huong-chanh-tui-400g          5         51          0          0          0          0\n",
      "8934868184171-nuoc-giat-omo-matic-chuyen-gia-cua-truoc-ngan-ngua-mui-am-moc-tui-2.8kg          6         76       0.13     0.0395     0.0907     0.0683\n",
      "8934868171843-nuoc-lau-da-nang-sunlight-chanh-va-sa-chai-500ml          4         50          0          0          0          0\n",
      "8934669493540-nuoc-rua-chen-lix-sieu-sach-tra-xanh-binh-3.6kg          6         62          0          0          0          0\n",
      "8936020760124-khan-bep-elene-2-cuon          8         98      0.025      0.276     0.0193     0.0181\n",
      "4902430805322-nuoc-rua-tay-diet-khuan-safeguard-trang-tinh-khiet-450ml          9         88     0.0455     0.0114     0.0253     0.0253\n",
      "8935049501718-nuoc-ngot-sprite-lon-320ml          5         52     0.0194      0.173     0.0392     0.0362\n",
      "6920354836930-kem-danh-rang-colgate-optic-white-cong-nghe-sac-tim-100g          8         36          0          0          0          0\n",
      "8935328600156-tra-xanh-tui-loc-phuc-long-2g-x-hop-25-goi          2         10     0.0109        0.3    0.00712    0.00685\n",
      "8935049501190-nuoc-tra-fuze-tea-vi-chanh-sa-450ml          6         92    0.00532     0.0109    0.00269    0.00269\n",
      "8935001215028-tra-tea-break-milk-350ml          3         20          0          0          0          0\n",
      "8936185350130-nuoc-kombucha-cam-dao-250ml          4         26          0          0          0          0\n",
      "8888589308920-tra-bi-dao-winter-melon-jj-lon-300ml          7         54          0          0          0          0\n",
      "8936221042906-tra-bupnon-tea365-huong-mat-ong-500ml          4         17    0.00626      0.176    0.00394    0.00293\n",
      "8934588870552-tra-olong-teaplus-450ml          4         57          0          0          0          0\n",
      "8936127796514-tra-dao-tu-nhien-th-true-tea-chai-350ml          7         64     0.0635      0.125     0.0382     0.0376\n",
      "8935001214274-tra-bi-dao-wonderfarm-lon-310ml          2         20          0          0          0          0\n",
      "8934564600883-tra-xanh-c2-huong-chanh-tuyet-bac-ha-chai-455ml          4         37          0          0          0          0\n",
      "8935137601122-tra-xanh-thai-nguyen-100g          3          5    0.00578        0.2    0.00397    0.00357\n",
      "8936193070013-tra-xanh-khong-do-500ml          3         13        0.1     0.0769     0.0557     0.0501\n",
      "8934868166344-nuoc-rua-tay-lifebouy-450ml          2          8          0          0          0          0\n",
      "8934868171829-kem-tay-sunlight-chuyen-dung-sieu-sach-sieu-sang-chai-690g          6         43     0.0157     0.0465      0.035      0.035\n",
      "8934868190394-nuoc-giat-comfort-huong-hoa-anh-dao-va-dao-tuoi-tui-3kg          8        104     0.0385     0.0192     0.0196     0.0196\n",
      "9556111620282-nuoc-rua-tay-dettol-khang-khuan-chai-250g          5         64          0          0          0          0\n",
      "8938507729044-khan-giay-da-nang-2-lop-2-cuon-premier          2         12          0          0          0          0\n",
      "8936013254951-nuoc-rua-kinh-gift-540ml          6         63          0          0          0          0\n",
      "8934839128654-kem-danh-rang-closeup-dau-quat-detox-180g          3         65          0          0          0          0\n",
      "8935049501541-nuoc-ngot-cocacola-plus-lon-320ml          4         34    0.00253     0.0294     0.0013     0.0013\n",
      "8934588012112-nuoc-ngot-pepsi-cola-320ml          6         51     0.0289      0.176     0.0274     0.0257\n",
      "8935049500445-nuoc-ngot-fanta-chai-1.5l          5         34          0          0          0          0\n",
      "8935049501572-nuoc-ngot-fanta-vi-cam-lon-320ml          7         68     0.0611      0.118     0.0559     0.0539\n",
      "8935049510604-nuoc-ngot-sprite-chai-320ml          4         41          0          0          0          0\n",
      "8934588672118-nuoc-ngot-pepsi-khong-calo-vi-chanh-320ml          3         18     0.0105      0.444     0.0107    0.00995\n",
      "8935049501374-nuoc-ngot-cocacola-vi-nguyen-ban-chai-600ml          6        114    0.00296    0.00877    0.00155     0.0014\n",
      "8936193070075-nuoc-tang-luc-number-1-chai-330ml          9         70     0.0217        0.1     0.0121     0.0107\n",
      "8935049500247-nuoc-giai-khat-thums-up-charged-huong-dau-rung-chai-330ml         13        125          0          0          0          0\n",
      "8997035601321-nuoc-uong-bu-dien-giai-bo-sung-ion-pocari-sweat-chai-900ml          9         52     0.0588     0.0385     0.0366     0.0366\n",
      "4897036693162-nuoc-tang-luc-monster-mango-loco-355ml          7         37     0.0248      0.216     0.0398     0.0367\n",
      "8850228003541-nuoc-tang-luc-warrior-huong-dau-chai-330ml          6         42      0.125     0.0952     0.0956     0.0918\n",
      "8934683008867-nuoc-tang-luc-wake-up-247-vi-ca-phe-330ml          4         39     0.0109      0.103    0.00896    0.00852\n",
      "8934868171850-nuoc-lau-kinh-sunlight-sieu-nhanh-sach-trong-suot-chai-520ml          8         80     0.0464      0.113     0.0715     0.0668\n",
      "8934868170990-nuoc-rua-tay-lifebuoy-vitamin-sua-duong-am-tui-1kg          5         36          0          0          0          0\n",
      "8934564660016-nuoc-tang-luc-rong-do-huong-dau-330ml          3         55          0          0          0          0\n",
      "8934669380260-nuoc-rua-chen-winmart-home-3.5l-(binh)         10        102      0.142      0.324      0.217      0.198\n",
      "8936063370359-nuoc-rua-tay-dr.clean-daulo-500ml          4         17    0.00811      0.412    0.00645    0.00645\n",
      "8938509472269-khan-giay-da-nang-teddy-bear          3         51          0          0          0          0\n",
      "8934804026817-nuoc-tuong-maggi-dau-nanh-thanh-diu-chai-700ml          1         28          0          0          0          0\n",
      "8934707029182-hat-nem-knorr-thit-than-xuong-ong-va-tuy-900g          7         60    0.00459     0.0167    0.00233   0.000934\n",
      "8935015513189-duong-vang-thien-nhien-bien-hoa-gold-tui-1kg          2         29          0          0          0          0\n",
      "8935015510522-duong-vang-khoang-chat-bien-hoa-goi-1kg          2         17          0          0          0          0\n",
      "9008700214872-juice-immune-active-fruit-juice-by-rauch-1l         13        168          0          0          0          0\n",
      "8934673701402-nuoc-dao-necta-vinamilk-hop-1l          3         37     0.0102     0.0811    0.00687    0.00661\n",
      "8851013740498-nuoc-ep-tipco-trai-cay-rau-cu-hop-1l          8         71          0          0          0          0\n",
      "6920354837180-kem-danh-rang-colgate-maxwhite-bac-ha-170g-hop          4         61     0.0667      0.213     0.0619     0.0524\n",
      "8934839128081-kem-danh-rang-p/s-muoi-hong-hoa-cuc-tuyp-230g          3         30     0.0193      0.267     0.0125     0.0113\n",
      "5054563023803-kem-danh-rang-sensodyne-rapid-action-giam-e-buot-nhanh-100g          3         27          0          0          0          0\n",
      "5054563022592-kem-danh-rang-sensodyne-giam-e-buotlam-sang-rang-100g          4         56      0.151      0.375      0.168      0.147\n",
      "8850090113164-kem-danh-rang-sensodyne-cool-gel-mat-lanh,-giam-e-buot-160g          3         36          0          0          0          0\n",
      "6920354828393-kem-danh-rang-colgate-muoi-himalaya-sang-khoe-180g          6         51          0          0          0          0\n",
      "6920354827792-kem-danh-rang-colgate-maxfresh-tinh-chat-than-tre-225g-+-ban-chai-long-to          5         55          0          0          0          0\n",
      "8850006932322-kem-danh-rang-colgate-maxfresh-huong-bac-ha-225g-+-ban-chai-long-to          1          6          0          0          0          0\n",
      "8850006932346-kem-danh-rang-colgate-maxfresh-huong-tra-xanh-225g-+-ban-chai-long-to          5         66     0.0308     0.0303     0.0202     0.0181\n",
      "8935136864375-dau-goi-lashe-superfood-phuc-hoi-hu-ton-640g          4         58    0.00441     0.0172    0.00233    0.00233\n",
      "8934868185093-dau-xa-sunsilk-natural-duong-phuc-hoi-330ml          8         59    0.00177     0.0169   0.000967   0.000677\n",
      "8934868167938-dau-goi-tresemme-keratin-smooth-vao-nep-suon-muot-chai-480g          8         56     0.0164     0.0714    0.00945    0.00916\n",
      "8934868156871-dau-xa-sunsilk-mem-muot-dieu-ky-320g          5         57          0          0          0          0\n",
      "8934868166825-dau-goi-sunsilk-natural-duong-ngan-gay-rung-650g          9         64          0          0          0          0\n",
      "8934868188612-sua-tam-duong-the-dove-tuoi-mat,-da-sang-khoai-500g          5         41          0          0          0          0\n",
      "8934868180531-dau-goi-dove-ceramide-phuc-hoi-hu-ton-880g         10         88      0.031      0.148     0.0332     0.0308\n",
      "8934868180470-dau-goi-dove-biotin-ngan-gay-rung-toc-880g          4         33          0          0          0          0\n",
      "8934868166924-dau-goi-sunsilk-mem-muot-dieu-ky-chai-650g          7         56    0.00831     0.0536     0.0125     0.0123\n",
      "8934868166870-dau-goi-sunsilk-ong-muot-rang-ngoi-chai-650g          8         47      0.013     0.0426    0.00682    0.00682\n",
      "8935136865709-sua-tam-purite-duong-da-mem-min-huong-hoa-hong-rose-chai-850ml          5         39    0.00697      0.103    0.00429    0.00395\n",
      "8935136865648-sua-tam-purite-sang-min-da-huong-hoa-anh-dao-1.1l          6         53          0          0          0          0\n",
      "8935030221359-sua-tam-on:-the-body-duong-am-huong-thu-gian-1kg         10         57          0          0          0          0\n",
      "8801051128178-sua-tam-on:-the-body-duong-am-huong-hoa-dien-vi-900g          6         69    0.00945      0.116     0.0105     0.0104\n",
      "8934868186540-sua-tam-lifebuoy-chiet-xuat-cica-va-muoi-hong-ngua-tham-chai-800g          2          6          0          0          0          0\n",
      "Speed: 1.0ms preprocess, 121.2ms inference, 0.0ms loss, 61.0ms postprocess per image\n",
      "Results saved to \u001b[1m/Volumes/Cucumber/Projects/item-identification/runs/detect/train6\u001b[0m\n",
      "\u001b[34m\u001b[1mMLflow: \u001b[0mresults logged to /Volumes/Cucumber/Projects/item-identification/runs/mlflow\n",
      "\u001b[34m\u001b[1mMLflow: \u001b[0mdisable with 'yolo settings mlflow=False'\n"
     ]
    },
    {
     "data": {
      "text/plain": [
       "ultralytics.utils.metrics.DetMetrics object with attributes:\n",
       "\n",
       "ap_class_index: array([  0,   1,   2,   3,   4,   5,   6,   7,   8,   9,  10,  11,  12,  13,  14,  15,  16,  17,  18,  19,  20,  21,  22,  23,  24,  25,  26,  27,  28,  29,  30,  31,  32,  33,  34,  35,  36,  37,  38,  39,  40,  41,  42,  43,  44,  45,  46,  47,  48,  49,  50,  51,  52,  53,  54,  55,  56,  57,  58,  59,  60,  61,\n",
       "        62,  63,  64,  65,  66,  67,  68,  69,  70,  71,  72,  73,  74,  75,  76,  77,  78,  79,  80,  81,  82,  83,  84,  85,  86,  87,  88,  89,  90,  91,  92,  93,  94,  95,  96,  97,  98,  99, 100, 101, 102, 103, 104, 105, 106, 107, 108, 109, 110, 111, 112, 113, 114, 115, 116, 117, 118, 119, 120, 121, 122, 123,\n",
       "       124, 125, 126, 127, 128, 129, 130, 131, 132, 133, 134, 135, 136, 137, 138, 139, 140, 141, 142, 143, 144, 145, 146, 147, 148, 149, 150, 151, 152, 153, 154, 155, 156, 157, 158, 159, 160, 161, 162, 163, 164, 165, 166, 167, 168, 169, 170, 171, 172, 173, 174, 175, 176, 177, 180, 183, 184, 185, 186, 187, 188, 189,\n",
       "       190, 191, 192, 193, 194, 195, 196, 197, 198, 199, 200, 201, 202, 203, 204, 205, 206, 207, 208, 209, 210, 211, 212])\n",
       "box: ultralytics.utils.metrics.Metric object\n",
       "confusion_matrix: <ultralytics.utils.metrics.ConfusionMatrix object at 0x338200460>\n",
       "curves: ['Precision-Recall(B)', 'F1-Confidence(B)', 'Precision-Confidence(B)', 'Recall-Confidence(B)']\n",
       "curves_results: [[array([          0,    0.001001,    0.002002,    0.003003,    0.004004,    0.005005,    0.006006,    0.007007,    0.008008,    0.009009,     0.01001,    0.011011,    0.012012,    0.013013,    0.014014,    0.015015,    0.016016,    0.017017,    0.018018,    0.019019,     0.02002,    0.021021,    0.022022,    0.023023,\n",
       "          0.024024,    0.025025,    0.026026,    0.027027,    0.028028,    0.029029,     0.03003,    0.031031,    0.032032,    0.033033,    0.034034,    0.035035,    0.036036,    0.037037,    0.038038,    0.039039,     0.04004,    0.041041,    0.042042,    0.043043,    0.044044,    0.045045,    0.046046,    0.047047,\n",
       "          0.048048,    0.049049,     0.05005,    0.051051,    0.052052,    0.053053,    0.054054,    0.055055,    0.056056,    0.057057,    0.058058,    0.059059,     0.06006,    0.061061,    0.062062,    0.063063,    0.064064,    0.065065,    0.066066,    0.067067,    0.068068,    0.069069,     0.07007,    0.071071,\n",
       "          0.072072,    0.073073,    0.074074,    0.075075,    0.076076,    0.077077,    0.078078,    0.079079,     0.08008,    0.081081,    0.082082,    0.083083,    0.084084,    0.085085,    0.086086,    0.087087,    0.088088,    0.089089,     0.09009,    0.091091,    0.092092,    0.093093,    0.094094,    0.095095,\n",
       "          0.096096,    0.097097,    0.098098,    0.099099,      0.1001,      0.1011,      0.1021,      0.1031,      0.1041,     0.10511,     0.10611,     0.10711,     0.10811,     0.10911,     0.11011,     0.11111,     0.11211,     0.11311,     0.11411,     0.11512,     0.11612,     0.11712,     0.11812,     0.11912,\n",
       "           0.12012,     0.12112,     0.12212,     0.12312,     0.12412,     0.12513,     0.12613,     0.12713,     0.12813,     0.12913,     0.13013,     0.13113,     0.13213,     0.13313,     0.13413,     0.13514,     0.13614,     0.13714,     0.13814,     0.13914,     0.14014,     0.14114,     0.14214,     0.14314,\n",
       "           0.14414,     0.14515,     0.14615,     0.14715,     0.14815,     0.14915,     0.15015,     0.15115,     0.15215,     0.15315,     0.15415,     0.15516,     0.15616,     0.15716,     0.15816,     0.15916,     0.16016,     0.16116,     0.16216,     0.16316,     0.16416,     0.16517,     0.16617,     0.16717,\n",
       "           0.16817,     0.16917,     0.17017,     0.17117,     0.17217,     0.17317,     0.17417,     0.17518,     0.17618,     0.17718,     0.17818,     0.17918,     0.18018,     0.18118,     0.18218,     0.18318,     0.18418,     0.18519,     0.18619,     0.18719,     0.18819,     0.18919,     0.19019,     0.19119,\n",
       "           0.19219,     0.19319,     0.19419,      0.1952,      0.1962,      0.1972,      0.1982,      0.1992,      0.2002,      0.2012,      0.2022,      0.2032,      0.2042,     0.20521,     0.20621,     0.20721,     0.20821,     0.20921,     0.21021,     0.21121,     0.21221,     0.21321,     0.21421,     0.21522,\n",
       "           0.21622,     0.21722,     0.21822,     0.21922,     0.22022,     0.22122,     0.22222,     0.22322,     0.22422,     0.22523,     0.22623,     0.22723,     0.22823,     0.22923,     0.23023,     0.23123,     0.23223,     0.23323,     0.23423,     0.23524,     0.23624,     0.23724,     0.23824,     0.23924,\n",
       "           0.24024,     0.24124,     0.24224,     0.24324,     0.24424,     0.24525,     0.24625,     0.24725,     0.24825,     0.24925,     0.25025,     0.25125,     0.25225,     0.25325,     0.25425,     0.25526,     0.25626,     0.25726,     0.25826,     0.25926,     0.26026,     0.26126,     0.26226,     0.26326,\n",
       "           0.26426,     0.26527,     0.26627,     0.26727,     0.26827,     0.26927,     0.27027,     0.27127,     0.27227,     0.27327,     0.27427,     0.27528,     0.27628,     0.27728,     0.27828,     0.27928,     0.28028,     0.28128,     0.28228,     0.28328,     0.28428,     0.28529,     0.28629,     0.28729,\n",
       "           0.28829,     0.28929,     0.29029,     0.29129,     0.29229,     0.29329,     0.29429,      0.2953,      0.2963,      0.2973,      0.2983,      0.2993,      0.3003,      0.3013,      0.3023,      0.3033,      0.3043,     0.30531,     0.30631,     0.30731,     0.30831,     0.30931,     0.31031,     0.31131,\n",
       "           0.31231,     0.31331,     0.31431,     0.31532,     0.31632,     0.31732,     0.31832,     0.31932,     0.32032,     0.32132,     0.32232,     0.32332,     0.32432,     0.32533,     0.32633,     0.32733,     0.32833,     0.32933,     0.33033,     0.33133,     0.33233,     0.33333,     0.33433,     0.33534,\n",
       "           0.33634,     0.33734,     0.33834,     0.33934,     0.34034,     0.34134,     0.34234,     0.34334,     0.34434,     0.34535,     0.34635,     0.34735,     0.34835,     0.34935,     0.35035,     0.35135,     0.35235,     0.35335,     0.35435,     0.35536,     0.35636,     0.35736,     0.35836,     0.35936,\n",
       "           0.36036,     0.36136,     0.36236,     0.36336,     0.36436,     0.36537,     0.36637,     0.36737,     0.36837,     0.36937,     0.37037,     0.37137,     0.37237,     0.37337,     0.37437,     0.37538,     0.37638,     0.37738,     0.37838,     0.37938,     0.38038,     0.38138,     0.38238,     0.38338,\n",
       "           0.38438,     0.38539,     0.38639,     0.38739,     0.38839,     0.38939,     0.39039,     0.39139,     0.39239,     0.39339,     0.39439,      0.3954,      0.3964,      0.3974,      0.3984,      0.3994,      0.4004,      0.4014,      0.4024,      0.4034,      0.4044,     0.40541,     0.40641,     0.40741,\n",
       "           0.40841,     0.40941,     0.41041,     0.41141,     0.41241,     0.41341,     0.41441,     0.41542,     0.41642,     0.41742,     0.41842,     0.41942,     0.42042,     0.42142,     0.42242,     0.42342,     0.42442,     0.42543,     0.42643,     0.42743,     0.42843,     0.42943,     0.43043,     0.43143,\n",
       "           0.43243,     0.43343,     0.43443,     0.43544,     0.43644,     0.43744,     0.43844,     0.43944,     0.44044,     0.44144,     0.44244,     0.44344,     0.44444,     0.44545,     0.44645,     0.44745,     0.44845,     0.44945,     0.45045,     0.45145,     0.45245,     0.45345,     0.45445,     0.45546,\n",
       "           0.45646,     0.45746,     0.45846,     0.45946,     0.46046,     0.46146,     0.46246,     0.46346,     0.46446,     0.46547,     0.46647,     0.46747,     0.46847,     0.46947,     0.47047,     0.47147,     0.47247,     0.47347,     0.47447,     0.47548,     0.47648,     0.47748,     0.47848,     0.47948,\n",
       "           0.48048,     0.48148,     0.48248,     0.48348,     0.48448,     0.48549,     0.48649,     0.48749,     0.48849,     0.48949,     0.49049,     0.49149,     0.49249,     0.49349,     0.49449,      0.4955,      0.4965,      0.4975,      0.4985,      0.4995,      0.5005,      0.5015,      0.5025,      0.5035,\n",
       "            0.5045,     0.50551,     0.50651,     0.50751,     0.50851,     0.50951,     0.51051,     0.51151,     0.51251,     0.51351,     0.51451,     0.51552,     0.51652,     0.51752,     0.51852,     0.51952,     0.52052,     0.52152,     0.52252,     0.52352,     0.52452,     0.52553,     0.52653,     0.52753,\n",
       "           0.52853,     0.52953,     0.53053,     0.53153,     0.53253,     0.53353,     0.53453,     0.53554,     0.53654,     0.53754,     0.53854,     0.53954,     0.54054,     0.54154,     0.54254,     0.54354,     0.54454,     0.54555,     0.54655,     0.54755,     0.54855,     0.54955,     0.55055,     0.55155,\n",
       "           0.55255,     0.55355,     0.55455,     0.55556,     0.55656,     0.55756,     0.55856,     0.55956,     0.56056,     0.56156,     0.56256,     0.56356,     0.56456,     0.56557,     0.56657,     0.56757,     0.56857,     0.56957,     0.57057,     0.57157,     0.57257,     0.57357,     0.57457,     0.57558,\n",
       "           0.57658,     0.57758,     0.57858,     0.57958,     0.58058,     0.58158,     0.58258,     0.58358,     0.58458,     0.58559,     0.58659,     0.58759,     0.58859,     0.58959,     0.59059,     0.59159,     0.59259,     0.59359,     0.59459,      0.5956,      0.5966,      0.5976,      0.5986,      0.5996,\n",
       "            0.6006,      0.6016,      0.6026,      0.6036,      0.6046,     0.60561,     0.60661,     0.60761,     0.60861,     0.60961,     0.61061,     0.61161,     0.61261,     0.61361,     0.61461,     0.61562,     0.61662,     0.61762,     0.61862,     0.61962,     0.62062,     0.62162,     0.62262,     0.62362,\n",
       "           0.62462,     0.62563,     0.62663,     0.62763,     0.62863,     0.62963,     0.63063,     0.63163,     0.63263,     0.63363,     0.63463,     0.63564,     0.63664,     0.63764,     0.63864,     0.63964,     0.64064,     0.64164,     0.64264,     0.64364,     0.64464,     0.64565,     0.64665,     0.64765,\n",
       "           0.64865,     0.64965,     0.65065,     0.65165,     0.65265,     0.65365,     0.65465,     0.65566,     0.65666,     0.65766,     0.65866,     0.65966,     0.66066,     0.66166,     0.66266,     0.66366,     0.66466,     0.66567,     0.66667,     0.66767,     0.66867,     0.66967,     0.67067,     0.67167,\n",
       "           0.67267,     0.67367,     0.67467,     0.67568,     0.67668,     0.67768,     0.67868,     0.67968,     0.68068,     0.68168,     0.68268,     0.68368,     0.68468,     0.68569,     0.68669,     0.68769,     0.68869,     0.68969,     0.69069,     0.69169,     0.69269,     0.69369,     0.69469,      0.6957,\n",
       "            0.6967,      0.6977,      0.6987,      0.6997,      0.7007,      0.7017,      0.7027,      0.7037,      0.7047,     0.70571,     0.70671,     0.70771,     0.70871,     0.70971,     0.71071,     0.71171,     0.71271,     0.71371,     0.71471,     0.71572,     0.71672,     0.71772,     0.71872,     0.71972,\n",
       "           0.72072,     0.72172,     0.72272,     0.72372,     0.72472,     0.72573,     0.72673,     0.72773,     0.72873,     0.72973,     0.73073,     0.73173,     0.73273,     0.73373,     0.73473,     0.73574,     0.73674,     0.73774,     0.73874,     0.73974,     0.74074,     0.74174,     0.74274,     0.74374,\n",
       "           0.74474,     0.74575,     0.74675,     0.74775,     0.74875,     0.74975,     0.75075,     0.75175,     0.75275,     0.75375,     0.75475,     0.75576,     0.75676,     0.75776,     0.75876,     0.75976,     0.76076,     0.76176,     0.76276,     0.76376,     0.76476,     0.76577,     0.76677,     0.76777,\n",
       "           0.76877,     0.76977,     0.77077,     0.77177,     0.77277,     0.77377,     0.77477,     0.77578,     0.77678,     0.77778,     0.77878,     0.77978,     0.78078,     0.78178,     0.78278,     0.78378,     0.78478,     0.78579,     0.78679,     0.78779,     0.78879,     0.78979,     0.79079,     0.79179,\n",
       "           0.79279,     0.79379,     0.79479,      0.7958,      0.7968,      0.7978,      0.7988,      0.7998,      0.8008,      0.8018,      0.8028,      0.8038,      0.8048,     0.80581,     0.80681,     0.80781,     0.80881,     0.80981,     0.81081,     0.81181,     0.81281,     0.81381,     0.81481,     0.81582,\n",
       "           0.81682,     0.81782,     0.81882,     0.81982,     0.82082,     0.82182,     0.82282,     0.82382,     0.82482,     0.82583,     0.82683,     0.82783,     0.82883,     0.82983,     0.83083,     0.83183,     0.83283,     0.83383,     0.83483,     0.83584,     0.83684,     0.83784,     0.83884,     0.83984,\n",
       "           0.84084,     0.84184,     0.84284,     0.84384,     0.84484,     0.84585,     0.84685,     0.84785,     0.84885,     0.84985,     0.85085,     0.85185,     0.85285,     0.85385,     0.85485,     0.85586,     0.85686,     0.85786,     0.85886,     0.85986,     0.86086,     0.86186,     0.86286,     0.86386,\n",
       "           0.86486,     0.86587,     0.86687,     0.86787,     0.86887,     0.86987,     0.87087,     0.87187,     0.87287,     0.87387,     0.87487,     0.87588,     0.87688,     0.87788,     0.87888,     0.87988,     0.88088,     0.88188,     0.88288,     0.88388,     0.88488,     0.88589,     0.88689,     0.88789,\n",
       "           0.88889,     0.88989,     0.89089,     0.89189,     0.89289,     0.89389,     0.89489,      0.8959,      0.8969,      0.8979,      0.8989,      0.8999,      0.9009,      0.9019,      0.9029,      0.9039,      0.9049,     0.90591,     0.90691,     0.90791,     0.90891,     0.90991,     0.91091,     0.91191,\n",
       "           0.91291,     0.91391,     0.91491,     0.91592,     0.91692,     0.91792,     0.91892,     0.91992,     0.92092,     0.92192,     0.92292,     0.92392,     0.92492,     0.92593,     0.92693,     0.92793,     0.92893,     0.92993,     0.93093,     0.93193,     0.93293,     0.93393,     0.93493,     0.93594,\n",
       "           0.93694,     0.93794,     0.93894,     0.93994,     0.94094,     0.94194,     0.94294,     0.94394,     0.94494,     0.94595,     0.94695,     0.94795,     0.94895,     0.94995,     0.95095,     0.95195,     0.95295,     0.95395,     0.95495,     0.95596,     0.95696,     0.95796,     0.95896,     0.95996,\n",
       "           0.96096,     0.96196,     0.96296,     0.96396,     0.96496,     0.96597,     0.96697,     0.96797,     0.96897,     0.96997,     0.97097,     0.97197,     0.97297,     0.97397,     0.97497,     0.97598,     0.97698,     0.97798,     0.97898,     0.97998,     0.98098,     0.98198,     0.98298,     0.98398,\n",
       "           0.98498,     0.98599,     0.98699,     0.98799,     0.98899,     0.98999,     0.99099,     0.99199,     0.99299,     0.99399,     0.99499,       0.996,       0.997,       0.998,       0.999,           1]), array([[   0.075472,    0.075472,    0.075472, ...,   0.0001041,  5.2052e-05,           0],\n",
       "       [          0,           0,           0, ...,           0,           0,           0],\n",
       "       [   0.011364,    0.011364,    0.011364, ...,  1.0216e-05,  5.1079e-06,           0],\n",
       "       ...,\n",
       "       [          0,           0,           0, ...,           0,           0,           0],\n",
       "       [    0.14286,     0.14286,     0.14286, ...,  2.1389e-05,  1.0694e-05,           0],\n",
       "       [          0,           0,           0, ...,           0,           0,           0]]), 'Recall', 'Precision'], [array([          0,    0.001001,    0.002002,    0.003003,    0.004004,    0.005005,    0.006006,    0.007007,    0.008008,    0.009009,     0.01001,    0.011011,    0.012012,    0.013013,    0.014014,    0.015015,    0.016016,    0.017017,    0.018018,    0.019019,     0.02002,    0.021021,    0.022022,    0.023023,\n",
       "          0.024024,    0.025025,    0.026026,    0.027027,    0.028028,    0.029029,     0.03003,    0.031031,    0.032032,    0.033033,    0.034034,    0.035035,    0.036036,    0.037037,    0.038038,    0.039039,     0.04004,    0.041041,    0.042042,    0.043043,    0.044044,    0.045045,    0.046046,    0.047047,\n",
       "          0.048048,    0.049049,     0.05005,    0.051051,    0.052052,    0.053053,    0.054054,    0.055055,    0.056056,    0.057057,    0.058058,    0.059059,     0.06006,    0.061061,    0.062062,    0.063063,    0.064064,    0.065065,    0.066066,    0.067067,    0.068068,    0.069069,     0.07007,    0.071071,\n",
       "          0.072072,    0.073073,    0.074074,    0.075075,    0.076076,    0.077077,    0.078078,    0.079079,     0.08008,    0.081081,    0.082082,    0.083083,    0.084084,    0.085085,    0.086086,    0.087087,    0.088088,    0.089089,     0.09009,    0.091091,    0.092092,    0.093093,    0.094094,    0.095095,\n",
       "          0.096096,    0.097097,    0.098098,    0.099099,      0.1001,      0.1011,      0.1021,      0.1031,      0.1041,     0.10511,     0.10611,     0.10711,     0.10811,     0.10911,     0.11011,     0.11111,     0.11211,     0.11311,     0.11411,     0.11512,     0.11612,     0.11712,     0.11812,     0.11912,\n",
       "           0.12012,     0.12112,     0.12212,     0.12312,     0.12412,     0.12513,     0.12613,     0.12713,     0.12813,     0.12913,     0.13013,     0.13113,     0.13213,     0.13313,     0.13413,     0.13514,     0.13614,     0.13714,     0.13814,     0.13914,     0.14014,     0.14114,     0.14214,     0.14314,\n",
       "           0.14414,     0.14515,     0.14615,     0.14715,     0.14815,     0.14915,     0.15015,     0.15115,     0.15215,     0.15315,     0.15415,     0.15516,     0.15616,     0.15716,     0.15816,     0.15916,     0.16016,     0.16116,     0.16216,     0.16316,     0.16416,     0.16517,     0.16617,     0.16717,\n",
       "           0.16817,     0.16917,     0.17017,     0.17117,     0.17217,     0.17317,     0.17417,     0.17518,     0.17618,     0.17718,     0.17818,     0.17918,     0.18018,     0.18118,     0.18218,     0.18318,     0.18418,     0.18519,     0.18619,     0.18719,     0.18819,     0.18919,     0.19019,     0.19119,\n",
       "           0.19219,     0.19319,     0.19419,      0.1952,      0.1962,      0.1972,      0.1982,      0.1992,      0.2002,      0.2012,      0.2022,      0.2032,      0.2042,     0.20521,     0.20621,     0.20721,     0.20821,     0.20921,     0.21021,     0.21121,     0.21221,     0.21321,     0.21421,     0.21522,\n",
       "           0.21622,     0.21722,     0.21822,     0.21922,     0.22022,     0.22122,     0.22222,     0.22322,     0.22422,     0.22523,     0.22623,     0.22723,     0.22823,     0.22923,     0.23023,     0.23123,     0.23223,     0.23323,     0.23423,     0.23524,     0.23624,     0.23724,     0.23824,     0.23924,\n",
       "           0.24024,     0.24124,     0.24224,     0.24324,     0.24424,     0.24525,     0.24625,     0.24725,     0.24825,     0.24925,     0.25025,     0.25125,     0.25225,     0.25325,     0.25425,     0.25526,     0.25626,     0.25726,     0.25826,     0.25926,     0.26026,     0.26126,     0.26226,     0.26326,\n",
       "           0.26426,     0.26527,     0.26627,     0.26727,     0.26827,     0.26927,     0.27027,     0.27127,     0.27227,     0.27327,     0.27427,     0.27528,     0.27628,     0.27728,     0.27828,     0.27928,     0.28028,     0.28128,     0.28228,     0.28328,     0.28428,     0.28529,     0.28629,     0.28729,\n",
       "           0.28829,     0.28929,     0.29029,     0.29129,     0.29229,     0.29329,     0.29429,      0.2953,      0.2963,      0.2973,      0.2983,      0.2993,      0.3003,      0.3013,      0.3023,      0.3033,      0.3043,     0.30531,     0.30631,     0.30731,     0.30831,     0.30931,     0.31031,     0.31131,\n",
       "           0.31231,     0.31331,     0.31431,     0.31532,     0.31632,     0.31732,     0.31832,     0.31932,     0.32032,     0.32132,     0.32232,     0.32332,     0.32432,     0.32533,     0.32633,     0.32733,     0.32833,     0.32933,     0.33033,     0.33133,     0.33233,     0.33333,     0.33433,     0.33534,\n",
       "           0.33634,     0.33734,     0.33834,     0.33934,     0.34034,     0.34134,     0.34234,     0.34334,     0.34434,     0.34535,     0.34635,     0.34735,     0.34835,     0.34935,     0.35035,     0.35135,     0.35235,     0.35335,     0.35435,     0.35536,     0.35636,     0.35736,     0.35836,     0.35936,\n",
       "           0.36036,     0.36136,     0.36236,     0.36336,     0.36436,     0.36537,     0.36637,     0.36737,     0.36837,     0.36937,     0.37037,     0.37137,     0.37237,     0.37337,     0.37437,     0.37538,     0.37638,     0.37738,     0.37838,     0.37938,     0.38038,     0.38138,     0.38238,     0.38338,\n",
       "           0.38438,     0.38539,     0.38639,     0.38739,     0.38839,     0.38939,     0.39039,     0.39139,     0.39239,     0.39339,     0.39439,      0.3954,      0.3964,      0.3974,      0.3984,      0.3994,      0.4004,      0.4014,      0.4024,      0.4034,      0.4044,     0.40541,     0.40641,     0.40741,\n",
       "           0.40841,     0.40941,     0.41041,     0.41141,     0.41241,     0.41341,     0.41441,     0.41542,     0.41642,     0.41742,     0.41842,     0.41942,     0.42042,     0.42142,     0.42242,     0.42342,     0.42442,     0.42543,     0.42643,     0.42743,     0.42843,     0.42943,     0.43043,     0.43143,\n",
       "           0.43243,     0.43343,     0.43443,     0.43544,     0.43644,     0.43744,     0.43844,     0.43944,     0.44044,     0.44144,     0.44244,     0.44344,     0.44444,     0.44545,     0.44645,     0.44745,     0.44845,     0.44945,     0.45045,     0.45145,     0.45245,     0.45345,     0.45445,     0.45546,\n",
       "           0.45646,     0.45746,     0.45846,     0.45946,     0.46046,     0.46146,     0.46246,     0.46346,     0.46446,     0.46547,     0.46647,     0.46747,     0.46847,     0.46947,     0.47047,     0.47147,     0.47247,     0.47347,     0.47447,     0.47548,     0.47648,     0.47748,     0.47848,     0.47948,\n",
       "           0.48048,     0.48148,     0.48248,     0.48348,     0.48448,     0.48549,     0.48649,     0.48749,     0.48849,     0.48949,     0.49049,     0.49149,     0.49249,     0.49349,     0.49449,      0.4955,      0.4965,      0.4975,      0.4985,      0.4995,      0.5005,      0.5015,      0.5025,      0.5035,\n",
       "            0.5045,     0.50551,     0.50651,     0.50751,     0.50851,     0.50951,     0.51051,     0.51151,     0.51251,     0.51351,     0.51451,     0.51552,     0.51652,     0.51752,     0.51852,     0.51952,     0.52052,     0.52152,     0.52252,     0.52352,     0.52452,     0.52553,     0.52653,     0.52753,\n",
       "           0.52853,     0.52953,     0.53053,     0.53153,     0.53253,     0.53353,     0.53453,     0.53554,     0.53654,     0.53754,     0.53854,     0.53954,     0.54054,     0.54154,     0.54254,     0.54354,     0.54454,     0.54555,     0.54655,     0.54755,     0.54855,     0.54955,     0.55055,     0.55155,\n",
       "           0.55255,     0.55355,     0.55455,     0.55556,     0.55656,     0.55756,     0.55856,     0.55956,     0.56056,     0.56156,     0.56256,     0.56356,     0.56456,     0.56557,     0.56657,     0.56757,     0.56857,     0.56957,     0.57057,     0.57157,     0.57257,     0.57357,     0.57457,     0.57558,\n",
       "           0.57658,     0.57758,     0.57858,     0.57958,     0.58058,     0.58158,     0.58258,     0.58358,     0.58458,     0.58559,     0.58659,     0.58759,     0.58859,     0.58959,     0.59059,     0.59159,     0.59259,     0.59359,     0.59459,      0.5956,      0.5966,      0.5976,      0.5986,      0.5996,\n",
       "            0.6006,      0.6016,      0.6026,      0.6036,      0.6046,     0.60561,     0.60661,     0.60761,     0.60861,     0.60961,     0.61061,     0.61161,     0.61261,     0.61361,     0.61461,     0.61562,     0.61662,     0.61762,     0.61862,     0.61962,     0.62062,     0.62162,     0.62262,     0.62362,\n",
       "           0.62462,     0.62563,     0.62663,     0.62763,     0.62863,     0.62963,     0.63063,     0.63163,     0.63263,     0.63363,     0.63463,     0.63564,     0.63664,     0.63764,     0.63864,     0.63964,     0.64064,     0.64164,     0.64264,     0.64364,     0.64464,     0.64565,     0.64665,     0.64765,\n",
       "           0.64865,     0.64965,     0.65065,     0.65165,     0.65265,     0.65365,     0.65465,     0.65566,     0.65666,     0.65766,     0.65866,     0.65966,     0.66066,     0.66166,     0.66266,     0.66366,     0.66466,     0.66567,     0.66667,     0.66767,     0.66867,     0.66967,     0.67067,     0.67167,\n",
       "           0.67267,     0.67367,     0.67467,     0.67568,     0.67668,     0.67768,     0.67868,     0.67968,     0.68068,     0.68168,     0.68268,     0.68368,     0.68468,     0.68569,     0.68669,     0.68769,     0.68869,     0.68969,     0.69069,     0.69169,     0.69269,     0.69369,     0.69469,      0.6957,\n",
       "            0.6967,      0.6977,      0.6987,      0.6997,      0.7007,      0.7017,      0.7027,      0.7037,      0.7047,     0.70571,     0.70671,     0.70771,     0.70871,     0.70971,     0.71071,     0.71171,     0.71271,     0.71371,     0.71471,     0.71572,     0.71672,     0.71772,     0.71872,     0.71972,\n",
       "           0.72072,     0.72172,     0.72272,     0.72372,     0.72472,     0.72573,     0.72673,     0.72773,     0.72873,     0.72973,     0.73073,     0.73173,     0.73273,     0.73373,     0.73473,     0.73574,     0.73674,     0.73774,     0.73874,     0.73974,     0.74074,     0.74174,     0.74274,     0.74374,\n",
       "           0.74474,     0.74575,     0.74675,     0.74775,     0.74875,     0.74975,     0.75075,     0.75175,     0.75275,     0.75375,     0.75475,     0.75576,     0.75676,     0.75776,     0.75876,     0.75976,     0.76076,     0.76176,     0.76276,     0.76376,     0.76476,     0.76577,     0.76677,     0.76777,\n",
       "           0.76877,     0.76977,     0.77077,     0.77177,     0.77277,     0.77377,     0.77477,     0.77578,     0.77678,     0.77778,     0.77878,     0.77978,     0.78078,     0.78178,     0.78278,     0.78378,     0.78478,     0.78579,     0.78679,     0.78779,     0.78879,     0.78979,     0.79079,     0.79179,\n",
       "           0.79279,     0.79379,     0.79479,      0.7958,      0.7968,      0.7978,      0.7988,      0.7998,      0.8008,      0.8018,      0.8028,      0.8038,      0.8048,     0.80581,     0.80681,     0.80781,     0.80881,     0.80981,     0.81081,     0.81181,     0.81281,     0.81381,     0.81481,     0.81582,\n",
       "           0.81682,     0.81782,     0.81882,     0.81982,     0.82082,     0.82182,     0.82282,     0.82382,     0.82482,     0.82583,     0.82683,     0.82783,     0.82883,     0.82983,     0.83083,     0.83183,     0.83283,     0.83383,     0.83483,     0.83584,     0.83684,     0.83784,     0.83884,     0.83984,\n",
       "           0.84084,     0.84184,     0.84284,     0.84384,     0.84484,     0.84585,     0.84685,     0.84785,     0.84885,     0.84985,     0.85085,     0.85185,     0.85285,     0.85385,     0.85485,     0.85586,     0.85686,     0.85786,     0.85886,     0.85986,     0.86086,     0.86186,     0.86286,     0.86386,\n",
       "           0.86486,     0.86587,     0.86687,     0.86787,     0.86887,     0.86987,     0.87087,     0.87187,     0.87287,     0.87387,     0.87487,     0.87588,     0.87688,     0.87788,     0.87888,     0.87988,     0.88088,     0.88188,     0.88288,     0.88388,     0.88488,     0.88589,     0.88689,     0.88789,\n",
       "           0.88889,     0.88989,     0.89089,     0.89189,     0.89289,     0.89389,     0.89489,      0.8959,      0.8969,      0.8979,      0.8989,      0.8999,      0.9009,      0.9019,      0.9029,      0.9039,      0.9049,     0.90591,     0.90691,     0.90791,     0.90891,     0.90991,     0.91091,     0.91191,\n",
       "           0.91291,     0.91391,     0.91491,     0.91592,     0.91692,     0.91792,     0.91892,     0.91992,     0.92092,     0.92192,     0.92292,     0.92392,     0.92492,     0.92593,     0.92693,     0.92793,     0.92893,     0.92993,     0.93093,     0.93193,     0.93293,     0.93393,     0.93493,     0.93594,\n",
       "           0.93694,     0.93794,     0.93894,     0.93994,     0.94094,     0.94194,     0.94294,     0.94394,     0.94494,     0.94595,     0.94695,     0.94795,     0.94895,     0.94995,     0.95095,     0.95195,     0.95295,     0.95395,     0.95495,     0.95596,     0.95696,     0.95796,     0.95896,     0.95996,\n",
       "           0.96096,     0.96196,     0.96296,     0.96396,     0.96496,     0.96597,     0.96697,     0.96797,     0.96897,     0.96997,     0.97097,     0.97197,     0.97297,     0.97397,     0.97497,     0.97598,     0.97698,     0.97798,     0.97898,     0.97998,     0.98098,     0.98198,     0.98298,     0.98398,\n",
       "           0.98498,     0.98599,     0.98699,     0.98799,     0.98899,     0.98999,     0.99099,     0.99199,     0.99299,     0.99399,     0.99499,       0.996,       0.997,       0.998,       0.999,           1]), array([[   0.061002,    0.061002,     0.06107, ...,           0,           0,           0],\n",
       "       [          0,           0,           0, ...,           0,           0,           0],\n",
       "       [  0.0088889,   0.0088889,   0.0088889, ...,           0,           0,           0],\n",
       "       ...,\n",
       "       [          0,           0,           0, ...,           0,           0,           0],\n",
       "       [   0.017467,    0.017467,    0.017505, ...,           0,           0,           0],\n",
       "       [          0,           0,           0, ...,           0,           0,           0]]), 'Confidence', 'F1'], [array([          0,    0.001001,    0.002002,    0.003003,    0.004004,    0.005005,    0.006006,    0.007007,    0.008008,    0.009009,     0.01001,    0.011011,    0.012012,    0.013013,    0.014014,    0.015015,    0.016016,    0.017017,    0.018018,    0.019019,     0.02002,    0.021021,    0.022022,    0.023023,\n",
       "          0.024024,    0.025025,    0.026026,    0.027027,    0.028028,    0.029029,     0.03003,    0.031031,    0.032032,    0.033033,    0.034034,    0.035035,    0.036036,    0.037037,    0.038038,    0.039039,     0.04004,    0.041041,    0.042042,    0.043043,    0.044044,    0.045045,    0.046046,    0.047047,\n",
       "          0.048048,    0.049049,     0.05005,    0.051051,    0.052052,    0.053053,    0.054054,    0.055055,    0.056056,    0.057057,    0.058058,    0.059059,     0.06006,    0.061061,    0.062062,    0.063063,    0.064064,    0.065065,    0.066066,    0.067067,    0.068068,    0.069069,     0.07007,    0.071071,\n",
       "          0.072072,    0.073073,    0.074074,    0.075075,    0.076076,    0.077077,    0.078078,    0.079079,     0.08008,    0.081081,    0.082082,    0.083083,    0.084084,    0.085085,    0.086086,    0.087087,    0.088088,    0.089089,     0.09009,    0.091091,    0.092092,    0.093093,    0.094094,    0.095095,\n",
       "          0.096096,    0.097097,    0.098098,    0.099099,      0.1001,      0.1011,      0.1021,      0.1031,      0.1041,     0.10511,     0.10611,     0.10711,     0.10811,     0.10911,     0.11011,     0.11111,     0.11211,     0.11311,     0.11411,     0.11512,     0.11612,     0.11712,     0.11812,     0.11912,\n",
       "           0.12012,     0.12112,     0.12212,     0.12312,     0.12412,     0.12513,     0.12613,     0.12713,     0.12813,     0.12913,     0.13013,     0.13113,     0.13213,     0.13313,     0.13413,     0.13514,     0.13614,     0.13714,     0.13814,     0.13914,     0.14014,     0.14114,     0.14214,     0.14314,\n",
       "           0.14414,     0.14515,     0.14615,     0.14715,     0.14815,     0.14915,     0.15015,     0.15115,     0.15215,     0.15315,     0.15415,     0.15516,     0.15616,     0.15716,     0.15816,     0.15916,     0.16016,     0.16116,     0.16216,     0.16316,     0.16416,     0.16517,     0.16617,     0.16717,\n",
       "           0.16817,     0.16917,     0.17017,     0.17117,     0.17217,     0.17317,     0.17417,     0.17518,     0.17618,     0.17718,     0.17818,     0.17918,     0.18018,     0.18118,     0.18218,     0.18318,     0.18418,     0.18519,     0.18619,     0.18719,     0.18819,     0.18919,     0.19019,     0.19119,\n",
       "           0.19219,     0.19319,     0.19419,      0.1952,      0.1962,      0.1972,      0.1982,      0.1992,      0.2002,      0.2012,      0.2022,      0.2032,      0.2042,     0.20521,     0.20621,     0.20721,     0.20821,     0.20921,     0.21021,     0.21121,     0.21221,     0.21321,     0.21421,     0.21522,\n",
       "           0.21622,     0.21722,     0.21822,     0.21922,     0.22022,     0.22122,     0.22222,     0.22322,     0.22422,     0.22523,     0.22623,     0.22723,     0.22823,     0.22923,     0.23023,     0.23123,     0.23223,     0.23323,     0.23423,     0.23524,     0.23624,     0.23724,     0.23824,     0.23924,\n",
       "           0.24024,     0.24124,     0.24224,     0.24324,     0.24424,     0.24525,     0.24625,     0.24725,     0.24825,     0.24925,     0.25025,     0.25125,     0.25225,     0.25325,     0.25425,     0.25526,     0.25626,     0.25726,     0.25826,     0.25926,     0.26026,     0.26126,     0.26226,     0.26326,\n",
       "           0.26426,     0.26527,     0.26627,     0.26727,     0.26827,     0.26927,     0.27027,     0.27127,     0.27227,     0.27327,     0.27427,     0.27528,     0.27628,     0.27728,     0.27828,     0.27928,     0.28028,     0.28128,     0.28228,     0.28328,     0.28428,     0.28529,     0.28629,     0.28729,\n",
       "           0.28829,     0.28929,     0.29029,     0.29129,     0.29229,     0.29329,     0.29429,      0.2953,      0.2963,      0.2973,      0.2983,      0.2993,      0.3003,      0.3013,      0.3023,      0.3033,      0.3043,     0.30531,     0.30631,     0.30731,     0.30831,     0.30931,     0.31031,     0.31131,\n",
       "           0.31231,     0.31331,     0.31431,     0.31532,     0.31632,     0.31732,     0.31832,     0.31932,     0.32032,     0.32132,     0.32232,     0.32332,     0.32432,     0.32533,     0.32633,     0.32733,     0.32833,     0.32933,     0.33033,     0.33133,     0.33233,     0.33333,     0.33433,     0.33534,\n",
       "           0.33634,     0.33734,     0.33834,     0.33934,     0.34034,     0.34134,     0.34234,     0.34334,     0.34434,     0.34535,     0.34635,     0.34735,     0.34835,     0.34935,     0.35035,     0.35135,     0.35235,     0.35335,     0.35435,     0.35536,     0.35636,     0.35736,     0.35836,     0.35936,\n",
       "           0.36036,     0.36136,     0.36236,     0.36336,     0.36436,     0.36537,     0.36637,     0.36737,     0.36837,     0.36937,     0.37037,     0.37137,     0.37237,     0.37337,     0.37437,     0.37538,     0.37638,     0.37738,     0.37838,     0.37938,     0.38038,     0.38138,     0.38238,     0.38338,\n",
       "           0.38438,     0.38539,     0.38639,     0.38739,     0.38839,     0.38939,     0.39039,     0.39139,     0.39239,     0.39339,     0.39439,      0.3954,      0.3964,      0.3974,      0.3984,      0.3994,      0.4004,      0.4014,      0.4024,      0.4034,      0.4044,     0.40541,     0.40641,     0.40741,\n",
       "           0.40841,     0.40941,     0.41041,     0.41141,     0.41241,     0.41341,     0.41441,     0.41542,     0.41642,     0.41742,     0.41842,     0.41942,     0.42042,     0.42142,     0.42242,     0.42342,     0.42442,     0.42543,     0.42643,     0.42743,     0.42843,     0.42943,     0.43043,     0.43143,\n",
       "           0.43243,     0.43343,     0.43443,     0.43544,     0.43644,     0.43744,     0.43844,     0.43944,     0.44044,     0.44144,     0.44244,     0.44344,     0.44444,     0.44545,     0.44645,     0.44745,     0.44845,     0.44945,     0.45045,     0.45145,     0.45245,     0.45345,     0.45445,     0.45546,\n",
       "           0.45646,     0.45746,     0.45846,     0.45946,     0.46046,     0.46146,     0.46246,     0.46346,     0.46446,     0.46547,     0.46647,     0.46747,     0.46847,     0.46947,     0.47047,     0.47147,     0.47247,     0.47347,     0.47447,     0.47548,     0.47648,     0.47748,     0.47848,     0.47948,\n",
       "           0.48048,     0.48148,     0.48248,     0.48348,     0.48448,     0.48549,     0.48649,     0.48749,     0.48849,     0.48949,     0.49049,     0.49149,     0.49249,     0.49349,     0.49449,      0.4955,      0.4965,      0.4975,      0.4985,      0.4995,      0.5005,      0.5015,      0.5025,      0.5035,\n",
       "            0.5045,     0.50551,     0.50651,     0.50751,     0.50851,     0.50951,     0.51051,     0.51151,     0.51251,     0.51351,     0.51451,     0.51552,     0.51652,     0.51752,     0.51852,     0.51952,     0.52052,     0.52152,     0.52252,     0.52352,     0.52452,     0.52553,     0.52653,     0.52753,\n",
       "           0.52853,     0.52953,     0.53053,     0.53153,     0.53253,     0.53353,     0.53453,     0.53554,     0.53654,     0.53754,     0.53854,     0.53954,     0.54054,     0.54154,     0.54254,     0.54354,     0.54454,     0.54555,     0.54655,     0.54755,     0.54855,     0.54955,     0.55055,     0.55155,\n",
       "           0.55255,     0.55355,     0.55455,     0.55556,     0.55656,     0.55756,     0.55856,     0.55956,     0.56056,     0.56156,     0.56256,     0.56356,     0.56456,     0.56557,     0.56657,     0.56757,     0.56857,     0.56957,     0.57057,     0.57157,     0.57257,     0.57357,     0.57457,     0.57558,\n",
       "           0.57658,     0.57758,     0.57858,     0.57958,     0.58058,     0.58158,     0.58258,     0.58358,     0.58458,     0.58559,     0.58659,     0.58759,     0.58859,     0.58959,     0.59059,     0.59159,     0.59259,     0.59359,     0.59459,      0.5956,      0.5966,      0.5976,      0.5986,      0.5996,\n",
       "            0.6006,      0.6016,      0.6026,      0.6036,      0.6046,     0.60561,     0.60661,     0.60761,     0.60861,     0.60961,     0.61061,     0.61161,     0.61261,     0.61361,     0.61461,     0.61562,     0.61662,     0.61762,     0.61862,     0.61962,     0.62062,     0.62162,     0.62262,     0.62362,\n",
       "           0.62462,     0.62563,     0.62663,     0.62763,     0.62863,     0.62963,     0.63063,     0.63163,     0.63263,     0.63363,     0.63463,     0.63564,     0.63664,     0.63764,     0.63864,     0.63964,     0.64064,     0.64164,     0.64264,     0.64364,     0.64464,     0.64565,     0.64665,     0.64765,\n",
       "           0.64865,     0.64965,     0.65065,     0.65165,     0.65265,     0.65365,     0.65465,     0.65566,     0.65666,     0.65766,     0.65866,     0.65966,     0.66066,     0.66166,     0.66266,     0.66366,     0.66466,     0.66567,     0.66667,     0.66767,     0.66867,     0.66967,     0.67067,     0.67167,\n",
       "           0.67267,     0.67367,     0.67467,     0.67568,     0.67668,     0.67768,     0.67868,     0.67968,     0.68068,     0.68168,     0.68268,     0.68368,     0.68468,     0.68569,     0.68669,     0.68769,     0.68869,     0.68969,     0.69069,     0.69169,     0.69269,     0.69369,     0.69469,      0.6957,\n",
       "            0.6967,      0.6977,      0.6987,      0.6997,      0.7007,      0.7017,      0.7027,      0.7037,      0.7047,     0.70571,     0.70671,     0.70771,     0.70871,     0.70971,     0.71071,     0.71171,     0.71271,     0.71371,     0.71471,     0.71572,     0.71672,     0.71772,     0.71872,     0.71972,\n",
       "           0.72072,     0.72172,     0.72272,     0.72372,     0.72472,     0.72573,     0.72673,     0.72773,     0.72873,     0.72973,     0.73073,     0.73173,     0.73273,     0.73373,     0.73473,     0.73574,     0.73674,     0.73774,     0.73874,     0.73974,     0.74074,     0.74174,     0.74274,     0.74374,\n",
       "           0.74474,     0.74575,     0.74675,     0.74775,     0.74875,     0.74975,     0.75075,     0.75175,     0.75275,     0.75375,     0.75475,     0.75576,     0.75676,     0.75776,     0.75876,     0.75976,     0.76076,     0.76176,     0.76276,     0.76376,     0.76476,     0.76577,     0.76677,     0.76777,\n",
       "           0.76877,     0.76977,     0.77077,     0.77177,     0.77277,     0.77377,     0.77477,     0.77578,     0.77678,     0.77778,     0.77878,     0.77978,     0.78078,     0.78178,     0.78278,     0.78378,     0.78478,     0.78579,     0.78679,     0.78779,     0.78879,     0.78979,     0.79079,     0.79179,\n",
       "           0.79279,     0.79379,     0.79479,      0.7958,      0.7968,      0.7978,      0.7988,      0.7998,      0.8008,      0.8018,      0.8028,      0.8038,      0.8048,     0.80581,     0.80681,     0.80781,     0.80881,     0.80981,     0.81081,     0.81181,     0.81281,     0.81381,     0.81481,     0.81582,\n",
       "           0.81682,     0.81782,     0.81882,     0.81982,     0.82082,     0.82182,     0.82282,     0.82382,     0.82482,     0.82583,     0.82683,     0.82783,     0.82883,     0.82983,     0.83083,     0.83183,     0.83283,     0.83383,     0.83483,     0.83584,     0.83684,     0.83784,     0.83884,     0.83984,\n",
       "           0.84084,     0.84184,     0.84284,     0.84384,     0.84484,     0.84585,     0.84685,     0.84785,     0.84885,     0.84985,     0.85085,     0.85185,     0.85285,     0.85385,     0.85485,     0.85586,     0.85686,     0.85786,     0.85886,     0.85986,     0.86086,     0.86186,     0.86286,     0.86386,\n",
       "           0.86486,     0.86587,     0.86687,     0.86787,     0.86887,     0.86987,     0.87087,     0.87187,     0.87287,     0.87387,     0.87487,     0.87588,     0.87688,     0.87788,     0.87888,     0.87988,     0.88088,     0.88188,     0.88288,     0.88388,     0.88488,     0.88589,     0.88689,     0.88789,\n",
       "           0.88889,     0.88989,     0.89089,     0.89189,     0.89289,     0.89389,     0.89489,      0.8959,      0.8969,      0.8979,      0.8989,      0.8999,      0.9009,      0.9019,      0.9029,      0.9039,      0.9049,     0.90591,     0.90691,     0.90791,     0.90891,     0.90991,     0.91091,     0.91191,\n",
       "           0.91291,     0.91391,     0.91491,     0.91592,     0.91692,     0.91792,     0.91892,     0.91992,     0.92092,     0.92192,     0.92292,     0.92392,     0.92492,     0.92593,     0.92693,     0.92793,     0.92893,     0.92993,     0.93093,     0.93193,     0.93293,     0.93393,     0.93493,     0.93594,\n",
       "           0.93694,     0.93794,     0.93894,     0.93994,     0.94094,     0.94194,     0.94294,     0.94394,     0.94494,     0.94595,     0.94695,     0.94795,     0.94895,     0.94995,     0.95095,     0.95195,     0.95295,     0.95395,     0.95495,     0.95596,     0.95696,     0.95796,     0.95896,     0.95996,\n",
       "           0.96096,     0.96196,     0.96296,     0.96396,     0.96496,     0.96597,     0.96697,     0.96797,     0.96897,     0.96997,     0.97097,     0.97197,     0.97297,     0.97397,     0.97497,     0.97598,     0.97698,     0.97798,     0.97898,     0.97998,     0.98098,     0.98198,     0.98298,     0.98398,\n",
       "           0.98498,     0.98599,     0.98699,     0.98799,     0.98899,     0.98999,     0.99099,     0.99199,     0.99299,     0.99399,     0.99499,       0.996,       0.997,       0.998,       0.999,           1]), array([[   0.033333,    0.033333,    0.033374, ...,           1,           1,           1],\n",
       "       [          0,           0,           0, ...,           1,           1,           1],\n",
       "       [  0.0047771,   0.0047771,   0.0047771, ...,           1,           1,           1],\n",
       "       ...,\n",
       "       [          0,           0,           0, ...,           1,           1,           1],\n",
       "       [  0.0094451,   0.0094451,    0.009467, ...,           1,           1,           1],\n",
       "       [          0,           0,           0, ...,           1,           1,           1]]), 'Confidence', 'Precision'], [array([          0,    0.001001,    0.002002,    0.003003,    0.004004,    0.005005,    0.006006,    0.007007,    0.008008,    0.009009,     0.01001,    0.011011,    0.012012,    0.013013,    0.014014,    0.015015,    0.016016,    0.017017,    0.018018,    0.019019,     0.02002,    0.021021,    0.022022,    0.023023,\n",
       "          0.024024,    0.025025,    0.026026,    0.027027,    0.028028,    0.029029,     0.03003,    0.031031,    0.032032,    0.033033,    0.034034,    0.035035,    0.036036,    0.037037,    0.038038,    0.039039,     0.04004,    0.041041,    0.042042,    0.043043,    0.044044,    0.045045,    0.046046,    0.047047,\n",
       "          0.048048,    0.049049,     0.05005,    0.051051,    0.052052,    0.053053,    0.054054,    0.055055,    0.056056,    0.057057,    0.058058,    0.059059,     0.06006,    0.061061,    0.062062,    0.063063,    0.064064,    0.065065,    0.066066,    0.067067,    0.068068,    0.069069,     0.07007,    0.071071,\n",
       "          0.072072,    0.073073,    0.074074,    0.075075,    0.076076,    0.077077,    0.078078,    0.079079,     0.08008,    0.081081,    0.082082,    0.083083,    0.084084,    0.085085,    0.086086,    0.087087,    0.088088,    0.089089,     0.09009,    0.091091,    0.092092,    0.093093,    0.094094,    0.095095,\n",
       "          0.096096,    0.097097,    0.098098,    0.099099,      0.1001,      0.1011,      0.1021,      0.1031,      0.1041,     0.10511,     0.10611,     0.10711,     0.10811,     0.10911,     0.11011,     0.11111,     0.11211,     0.11311,     0.11411,     0.11512,     0.11612,     0.11712,     0.11812,     0.11912,\n",
       "           0.12012,     0.12112,     0.12212,     0.12312,     0.12412,     0.12513,     0.12613,     0.12713,     0.12813,     0.12913,     0.13013,     0.13113,     0.13213,     0.13313,     0.13413,     0.13514,     0.13614,     0.13714,     0.13814,     0.13914,     0.14014,     0.14114,     0.14214,     0.14314,\n",
       "           0.14414,     0.14515,     0.14615,     0.14715,     0.14815,     0.14915,     0.15015,     0.15115,     0.15215,     0.15315,     0.15415,     0.15516,     0.15616,     0.15716,     0.15816,     0.15916,     0.16016,     0.16116,     0.16216,     0.16316,     0.16416,     0.16517,     0.16617,     0.16717,\n",
       "           0.16817,     0.16917,     0.17017,     0.17117,     0.17217,     0.17317,     0.17417,     0.17518,     0.17618,     0.17718,     0.17818,     0.17918,     0.18018,     0.18118,     0.18218,     0.18318,     0.18418,     0.18519,     0.18619,     0.18719,     0.18819,     0.18919,     0.19019,     0.19119,\n",
       "           0.19219,     0.19319,     0.19419,      0.1952,      0.1962,      0.1972,      0.1982,      0.1992,      0.2002,      0.2012,      0.2022,      0.2032,      0.2042,     0.20521,     0.20621,     0.20721,     0.20821,     0.20921,     0.21021,     0.21121,     0.21221,     0.21321,     0.21421,     0.21522,\n",
       "           0.21622,     0.21722,     0.21822,     0.21922,     0.22022,     0.22122,     0.22222,     0.22322,     0.22422,     0.22523,     0.22623,     0.22723,     0.22823,     0.22923,     0.23023,     0.23123,     0.23223,     0.23323,     0.23423,     0.23524,     0.23624,     0.23724,     0.23824,     0.23924,\n",
       "           0.24024,     0.24124,     0.24224,     0.24324,     0.24424,     0.24525,     0.24625,     0.24725,     0.24825,     0.24925,     0.25025,     0.25125,     0.25225,     0.25325,     0.25425,     0.25526,     0.25626,     0.25726,     0.25826,     0.25926,     0.26026,     0.26126,     0.26226,     0.26326,\n",
       "           0.26426,     0.26527,     0.26627,     0.26727,     0.26827,     0.26927,     0.27027,     0.27127,     0.27227,     0.27327,     0.27427,     0.27528,     0.27628,     0.27728,     0.27828,     0.27928,     0.28028,     0.28128,     0.28228,     0.28328,     0.28428,     0.28529,     0.28629,     0.28729,\n",
       "           0.28829,     0.28929,     0.29029,     0.29129,     0.29229,     0.29329,     0.29429,      0.2953,      0.2963,      0.2973,      0.2983,      0.2993,      0.3003,      0.3013,      0.3023,      0.3033,      0.3043,     0.30531,     0.30631,     0.30731,     0.30831,     0.30931,     0.31031,     0.31131,\n",
       "           0.31231,     0.31331,     0.31431,     0.31532,     0.31632,     0.31732,     0.31832,     0.31932,     0.32032,     0.32132,     0.32232,     0.32332,     0.32432,     0.32533,     0.32633,     0.32733,     0.32833,     0.32933,     0.33033,     0.33133,     0.33233,     0.33333,     0.33433,     0.33534,\n",
       "           0.33634,     0.33734,     0.33834,     0.33934,     0.34034,     0.34134,     0.34234,     0.34334,     0.34434,     0.34535,     0.34635,     0.34735,     0.34835,     0.34935,     0.35035,     0.35135,     0.35235,     0.35335,     0.35435,     0.35536,     0.35636,     0.35736,     0.35836,     0.35936,\n",
       "           0.36036,     0.36136,     0.36236,     0.36336,     0.36436,     0.36537,     0.36637,     0.36737,     0.36837,     0.36937,     0.37037,     0.37137,     0.37237,     0.37337,     0.37437,     0.37538,     0.37638,     0.37738,     0.37838,     0.37938,     0.38038,     0.38138,     0.38238,     0.38338,\n",
       "           0.38438,     0.38539,     0.38639,     0.38739,     0.38839,     0.38939,     0.39039,     0.39139,     0.39239,     0.39339,     0.39439,      0.3954,      0.3964,      0.3974,      0.3984,      0.3994,      0.4004,      0.4014,      0.4024,      0.4034,      0.4044,     0.40541,     0.40641,     0.40741,\n",
       "           0.40841,     0.40941,     0.41041,     0.41141,     0.41241,     0.41341,     0.41441,     0.41542,     0.41642,     0.41742,     0.41842,     0.41942,     0.42042,     0.42142,     0.42242,     0.42342,     0.42442,     0.42543,     0.42643,     0.42743,     0.42843,     0.42943,     0.43043,     0.43143,\n",
       "           0.43243,     0.43343,     0.43443,     0.43544,     0.43644,     0.43744,     0.43844,     0.43944,     0.44044,     0.44144,     0.44244,     0.44344,     0.44444,     0.44545,     0.44645,     0.44745,     0.44845,     0.44945,     0.45045,     0.45145,     0.45245,     0.45345,     0.45445,     0.45546,\n",
       "           0.45646,     0.45746,     0.45846,     0.45946,     0.46046,     0.46146,     0.46246,     0.46346,     0.46446,     0.46547,     0.46647,     0.46747,     0.46847,     0.46947,     0.47047,     0.47147,     0.47247,     0.47347,     0.47447,     0.47548,     0.47648,     0.47748,     0.47848,     0.47948,\n",
       "           0.48048,     0.48148,     0.48248,     0.48348,     0.48448,     0.48549,     0.48649,     0.48749,     0.48849,     0.48949,     0.49049,     0.49149,     0.49249,     0.49349,     0.49449,      0.4955,      0.4965,      0.4975,      0.4985,      0.4995,      0.5005,      0.5015,      0.5025,      0.5035,\n",
       "            0.5045,     0.50551,     0.50651,     0.50751,     0.50851,     0.50951,     0.51051,     0.51151,     0.51251,     0.51351,     0.51451,     0.51552,     0.51652,     0.51752,     0.51852,     0.51952,     0.52052,     0.52152,     0.52252,     0.52352,     0.52452,     0.52553,     0.52653,     0.52753,\n",
       "           0.52853,     0.52953,     0.53053,     0.53153,     0.53253,     0.53353,     0.53453,     0.53554,     0.53654,     0.53754,     0.53854,     0.53954,     0.54054,     0.54154,     0.54254,     0.54354,     0.54454,     0.54555,     0.54655,     0.54755,     0.54855,     0.54955,     0.55055,     0.55155,\n",
       "           0.55255,     0.55355,     0.55455,     0.55556,     0.55656,     0.55756,     0.55856,     0.55956,     0.56056,     0.56156,     0.56256,     0.56356,     0.56456,     0.56557,     0.56657,     0.56757,     0.56857,     0.56957,     0.57057,     0.57157,     0.57257,     0.57357,     0.57457,     0.57558,\n",
       "           0.57658,     0.57758,     0.57858,     0.57958,     0.58058,     0.58158,     0.58258,     0.58358,     0.58458,     0.58559,     0.58659,     0.58759,     0.58859,     0.58959,     0.59059,     0.59159,     0.59259,     0.59359,     0.59459,      0.5956,      0.5966,      0.5976,      0.5986,      0.5996,\n",
       "            0.6006,      0.6016,      0.6026,      0.6036,      0.6046,     0.60561,     0.60661,     0.60761,     0.60861,     0.60961,     0.61061,     0.61161,     0.61261,     0.61361,     0.61461,     0.61562,     0.61662,     0.61762,     0.61862,     0.61962,     0.62062,     0.62162,     0.62262,     0.62362,\n",
       "           0.62462,     0.62563,     0.62663,     0.62763,     0.62863,     0.62963,     0.63063,     0.63163,     0.63263,     0.63363,     0.63463,     0.63564,     0.63664,     0.63764,     0.63864,     0.63964,     0.64064,     0.64164,     0.64264,     0.64364,     0.64464,     0.64565,     0.64665,     0.64765,\n",
       "           0.64865,     0.64965,     0.65065,     0.65165,     0.65265,     0.65365,     0.65465,     0.65566,     0.65666,     0.65766,     0.65866,     0.65966,     0.66066,     0.66166,     0.66266,     0.66366,     0.66466,     0.66567,     0.66667,     0.66767,     0.66867,     0.66967,     0.67067,     0.67167,\n",
       "           0.67267,     0.67367,     0.67467,     0.67568,     0.67668,     0.67768,     0.67868,     0.67968,     0.68068,     0.68168,     0.68268,     0.68368,     0.68468,     0.68569,     0.68669,     0.68769,     0.68869,     0.68969,     0.69069,     0.69169,     0.69269,     0.69369,     0.69469,      0.6957,\n",
       "            0.6967,      0.6977,      0.6987,      0.6997,      0.7007,      0.7017,      0.7027,      0.7037,      0.7047,     0.70571,     0.70671,     0.70771,     0.70871,     0.70971,     0.71071,     0.71171,     0.71271,     0.71371,     0.71471,     0.71572,     0.71672,     0.71772,     0.71872,     0.71972,\n",
       "           0.72072,     0.72172,     0.72272,     0.72372,     0.72472,     0.72573,     0.72673,     0.72773,     0.72873,     0.72973,     0.73073,     0.73173,     0.73273,     0.73373,     0.73473,     0.73574,     0.73674,     0.73774,     0.73874,     0.73974,     0.74074,     0.74174,     0.74274,     0.74374,\n",
       "           0.74474,     0.74575,     0.74675,     0.74775,     0.74875,     0.74975,     0.75075,     0.75175,     0.75275,     0.75375,     0.75475,     0.75576,     0.75676,     0.75776,     0.75876,     0.75976,     0.76076,     0.76176,     0.76276,     0.76376,     0.76476,     0.76577,     0.76677,     0.76777,\n",
       "           0.76877,     0.76977,     0.77077,     0.77177,     0.77277,     0.77377,     0.77477,     0.77578,     0.77678,     0.77778,     0.77878,     0.77978,     0.78078,     0.78178,     0.78278,     0.78378,     0.78478,     0.78579,     0.78679,     0.78779,     0.78879,     0.78979,     0.79079,     0.79179,\n",
       "           0.79279,     0.79379,     0.79479,      0.7958,      0.7968,      0.7978,      0.7988,      0.7998,      0.8008,      0.8018,      0.8028,      0.8038,      0.8048,     0.80581,     0.80681,     0.80781,     0.80881,     0.80981,     0.81081,     0.81181,     0.81281,     0.81381,     0.81481,     0.81582,\n",
       "           0.81682,     0.81782,     0.81882,     0.81982,     0.82082,     0.82182,     0.82282,     0.82382,     0.82482,     0.82583,     0.82683,     0.82783,     0.82883,     0.82983,     0.83083,     0.83183,     0.83283,     0.83383,     0.83483,     0.83584,     0.83684,     0.83784,     0.83884,     0.83984,\n",
       "           0.84084,     0.84184,     0.84284,     0.84384,     0.84484,     0.84585,     0.84685,     0.84785,     0.84885,     0.84985,     0.85085,     0.85185,     0.85285,     0.85385,     0.85485,     0.85586,     0.85686,     0.85786,     0.85886,     0.85986,     0.86086,     0.86186,     0.86286,     0.86386,\n",
       "           0.86486,     0.86587,     0.86687,     0.86787,     0.86887,     0.86987,     0.87087,     0.87187,     0.87287,     0.87387,     0.87487,     0.87588,     0.87688,     0.87788,     0.87888,     0.87988,     0.88088,     0.88188,     0.88288,     0.88388,     0.88488,     0.88589,     0.88689,     0.88789,\n",
       "           0.88889,     0.88989,     0.89089,     0.89189,     0.89289,     0.89389,     0.89489,      0.8959,      0.8969,      0.8979,      0.8989,      0.8999,      0.9009,      0.9019,      0.9029,      0.9039,      0.9049,     0.90591,     0.90691,     0.90791,     0.90891,     0.90991,     0.91091,     0.91191,\n",
       "           0.91291,     0.91391,     0.91491,     0.91592,     0.91692,     0.91792,     0.91892,     0.91992,     0.92092,     0.92192,     0.92292,     0.92392,     0.92492,     0.92593,     0.92693,     0.92793,     0.92893,     0.92993,     0.93093,     0.93193,     0.93293,     0.93393,     0.93493,     0.93594,\n",
       "           0.93694,     0.93794,     0.93894,     0.93994,     0.94094,     0.94194,     0.94294,     0.94394,     0.94494,     0.94595,     0.94695,     0.94795,     0.94895,     0.94995,     0.95095,     0.95195,     0.95295,     0.95395,     0.95495,     0.95596,     0.95696,     0.95796,     0.95896,     0.95996,\n",
       "           0.96096,     0.96196,     0.96296,     0.96396,     0.96496,     0.96597,     0.96697,     0.96797,     0.96897,     0.96997,     0.97097,     0.97197,     0.97297,     0.97397,     0.97497,     0.97598,     0.97698,     0.97798,     0.97898,     0.97998,     0.98098,     0.98198,     0.98298,     0.98398,\n",
       "           0.98498,     0.98599,     0.98699,     0.98799,     0.98899,     0.98999,     0.99099,     0.99199,     0.99299,     0.99399,     0.99499,       0.996,       0.997,       0.998,       0.999,           1]), array([[    0.35897,     0.35897,     0.35897, ...,           0,           0,           0],\n",
       "       [          0,           0,           0, ...,           0,           0,           0],\n",
       "       [    0.06383,     0.06383,     0.06383, ...,           0,           0,           0],\n",
       "       ...,\n",
       "       [          0,           0,           0, ...,           0,           0,           0],\n",
       "       [    0.11594,     0.11594,     0.11594, ...,           0,           0,           0],\n",
       "       [          0,           0,           0, ...,           0,           0,           0]]), 'Confidence', 'Recall']]\n",
       "fitness: np.float64(0.015286456126393167)\n",
       "keys: ['metrics/precision(B)', 'metrics/recall(B)', 'metrics/mAP50(B)', 'metrics/mAP50-95(B)']\n",
       "maps: array([   0.023738,           0,   0.0027818,   0.0012701,    0.020635,    0.017735,     0.04953,     0.16515,    0.074268,    0.062516,    0.013311,    0.022096,     0.28531,           0,           0,    0.015149,           0,           0,    0.016338,   0.0060557,   0.0013971,   0.0029214,           0,   0.0066413,\n",
       "                 0,    0.019087,    0.013545,   0.0023331,    0.008186,    0.014992,   0.0049367,           0,   0.0092952,   0.0043416,           0,   0.0053212,    0.023181,           0,           0,    0.063361,    0.012817,   0.0016472,           0,           0,    0.036654,    0.011284,           0,           0,\n",
       "                 0,   0.0048364,           0,    0.012382,   0.0096012,    0.012005,           0,    0.040035,           0,           0,           0,           0,   0.0040296,   0.0017598,   0.0053097,           0,     0.29424,   0.0077432,           0,   0.0044265,           0,    0.012019,    0.025411,    0.002331,\n",
       "         0.0028762,   0.0039533,           0,    0.016727,    0.024471,   0.0040773,           0,           0,           0,    0.012262,           0,   0.0006942,           0,           0,   0.0091212,   0.0051309,   0.0044331,   0.0098085,   0.0021288,  0.00043347,    0.007612,           0,           0,    0.033144,\n",
       "                 0,           0,   0.0021169,   0.0033533,    0.016896,           0,           0,   0.0015634,           0,           0,           0,    0.010144,    0.072695,   0.0014171,     0.01335,           0,           0,           0,    0.033119,   0.0096269,   0.0021246,    0.009734,           0,    0.023526,\n",
       "                 0,    0.092357,     0.03827,           0,    0.042126,           0,    0.011688,   0.0083423,           0,           0,    0.015643,           0,           0,    0.068271,           0,           0,    0.018051,    0.025303,    0.036244,           0,   0.0068493,    0.002692,           0,           0,\n",
       "                 0,   0.0029308,           0,    0.037638,           0,           0,   0.0035694,    0.050148,           0,    0.035031,    0.019624,           0,           0,           0,           0,   0.0013047,    0.025677,           0,    0.053901,           0,   0.0099526,   0.0013969,    0.010654,           0,\n",
       "          0.036561,    0.036746,    0.091765,   0.0085246,    0.066792,           0,           0,     0.19825,   0.0064528,           0,    0.015147,    0.015147,           0,    0.015147,    0.015147,  0.00093389,           0,           0,           0,   0.0066136,           0,    0.052432,    0.011325,           0,\n",
       "           0.14657,           0,           0,           0,           0,    0.018143,   0.0023341,    0.000677,   0.0091643,           0,           0,           0,    0.030758,           0,    0.012329,   0.0068161,   0.0039543,           0,           0,     0.01038,           0])\n",
       "names: {0: '8934822823252-bia-tiger-crystal-4.6%-abv-lon-250ml', 1: '8934822123253-bia-tiger-lager-4-6-abv-lon-250ml', 2: '8934822112332-bia-tiger-lon-cao-330ml-lon', 3: '8934822801335-bia-tiger-crystal-4-6-phan-tram-lon-330ml', 4: '8934563138165-mi-hao-hao-tom-chua-cay-goi-75g', 5: '8934563122201-mi-hao-hao-vi-tom-chua-cay-goi-100g', 6: '8934563183158-mi-hao-hao-sa-te-hanh-tim-75g', 7: '8934679943325-mi-gau-do-tom-va-ga-goi-63g', 8: '8934679941826-mi-gau-do-tom-chua-cay-goi-63g', 9: '8936048470012-mi-3-mien-tom-chua-cay-65g', 10: '8934563651138-mi-hao-hao,-vi-tom-chua-cayacecook,-coc-(67g)', 11: '8934804027333-tra-chanh-nestea-hoa-tan-hop-195g-15-goi-x-13g', 12: '8936010530881-tra-chanh-cozy-hoa-tan-hop-240g-16-goi-x-15g', 13: '8934840335560-tra-viet-quat-atiso-do-nestea-hop-120g', 14: '8936010530713-tra-dao-cozy-hoa-tan-hop-16-goi-x-15g', 15: '8936010530072-hong-tra-tui-loc-cozy-50g', 16: '8935024170632-ca-phe-g7-gold-rumi-252g', 17: '8935024170403-cappuccino-dua-trung-nguyen-216g-18g-x-12-goi', 18: '8934822121297-nuoc-trai-cay-len-men-strongbow-red-beries-4.5%-abv-lon-320ml', 19: '8935049501503-nuoc-ngot-coca-cola-vi-nguyen-ban-lon-320ml', 20: '8934822111298-nuoc-trai-cay-len-men-strongbow-gold-apple-4-5-abv-lon-320ml', 21: '8936136163314-nuoc-mam-nam-ngu-3-trong-1-750ml', 22: '8934804040523-tra-vai-va-huong-hoa-lai-nestea-hoa-tan-hop-144g-12-goi-x-12g', 23: '8934804038131-tra-hoa-qua-nestea-hoa-tan-hop-144g-12-goi-x-12g', 24: '4902102038720-nuoc-ngot-fanta-nap-van-lon-300ml', 25: '4902102014281-nuoc-ngot-cocacola-vi-nguyen-ban-lon-500ml', 26: '8851123740593-phan-thom-duong-am-cho-be-babi-mild-white-sakura-160g', 27: '8851123710084-sua-tam-goi-2in1-cho-be-babi-mild-white-sakura-chiet-xuat-la-anh-dao-380ml', 28: \"9555063007073-sua-tam-goi-em-be-khong-cay-mat-be-love-l'affair-malaysia-chai-500ml-cam\", 29: \"8850007090281-sua-tam-johnson's-chua-tinh-chat-duong-am-tu-sua-va-gao-200ml\", 30: '8936123410162-sua-tam-goi-tre-em-lactacyd-milky-bao-ve-da-toc-be-500ml', 31: \"8850007060321-dau-duong-am-mat-xa-johnson's-baby-oil-200ml\", 32: '3760128640607-sua-tuoi-tiet-trung-promess-nguyen-kem-hop-1l', 33: '8934774000800-nuoc-khoang-kiem-vikoda-chai-1.5l', 34: '8935005801012-nuoc-loc-lavie-chai-1-5l', 35: '8936185351427-nuoc-trai-cay-len-men-chill-cocktail-vi-dao-chai-275ml', 36: '8936094291401-bia-budweiser-aluminum-chai-355ml', 37: '8936048473921-mi-3-mien-ga-soi-pho', 38: '8936048470524-mi-tom-3-mien-gold-vi-bo-ham-rau-thom-75g', 39: '8936048471248-mi-tom-chua-cay-dac-biet-3-mien-gold-goi-75g', 40: '8934563106140-mi-hao-hao-hai-san-goi-71g', 41: '8934563198152-mi-hao-hao-chay-vi-rau-nam-74gr', 42: '8936048470036-mi-3-mien-mi-chay-la-da-65g-(goi)', 43: '8934588233074-nuoc-tang-luc-sting-vi-dau-tay-do-330ml', 44: '8850228007617-nuoc-tang-luc-redbull-250ml', 45: '8936067892789-tra-viet-quat-tvt-450mlchai', 46: '8935006547650-sua-rua-mat-oxy-oil-hydrating-wash-cho-da-thuong,-kho-nhay-cam-100g', 47: '6902395843467-nuoc-tay-trang-mat-moi-maybelline-150ml', 48: '8934868153733-sua-duong-the-vaseline-ngan-ngua-lao-hoa-350ml', 49: '8994993018222-sua-rua-mat-garnier-3-trong-1-giam-munsang-da-100ml-(moi)', 50: '8992222053129-wax-tao-kieu-toc-gatsby-styling-wax-75g', 51: 'unknown', 52: '8710908371509-nuoc-tay-trang-simple-lam-sach-trang-diem-vuot-troi-400ml', 53: '8935212830560-nuoc-lau-be-mat-da-nang-maxkleen-chai-520ml', 54: '8935018801641-khan-bep-da-nang-pulppy-classic-2-lop-loc-2-cuon', 55: '8934673700863-nuoc-ep-kiwi-tao-vfresh-1lhop', 56: '8809696351944-mat-na-jmsolution-hyaluronic-acid-duong-sang-cap-am-30ml', 57: '8992222055567-wax-vuot-toc-gatsby-classy-dry-75g', 58: '8936059330367-ca-phe-sua-3-in-1-valentina-160g-(hop-10-goi)', 59: '8936126480414-ca-phe-hoa-tan-l-elegant-mocha-cappuccino-12-goi-300g', 60: '8935006544864-dung-dich-tay-trang-acnes-cho-da-mun-200ml', 61: '4902806117905-sua-rua-mat-gatsby-facial-wash-acne-care-foam-tuyp-130gtri-mun', 62: '8992222052443-gatsby-water-gloss-super-hardgel-vuot-toc-cung-170g', 63: '8935006532755-kem-rua-mat-acnes-vitamin-lam-sang-da,-mo-seo-tham-50g', 64: '5391516873239-bia-magners-pear-cider-4-5-chai-330ml', 65: '8934822451295-nuoc-trai-cay-len-men-strongbow-vi-thom-luu-3.5%-lon-330ml', 66: '8934822201272-bia-heineken-silver-lon-250ml', 67: '8411640001098-ruou-vodka-mg-spirit-pineapple-5.5-vol-275ml', 68: '8934692090013-bia-1664-blanc-5%-abv-chai-330ml', 69: '8936036201604-bia-hoegaarden-rosee-chai-248ml', 70: '8936185351816-chill-cocktail-sakura-vi-dua-hau-sake-lon-330ml', 71: '8936094291005-bia-budweiser-5-lon-330ml', 72: '8934692040056-bia-tuborg-ice-330ml', 73: '8934822431211-bia-tiger-soju-infused-lager-wonder-melon-vi-dua-luoi-lon-330ml', 74: '8934822220112-bia-viet-lon-330ml', 75: '8934822212339-bia-heineken-lon-cao-330ml', 76: '8936000440862-bia-ha-noi-lon-330ml', 77: '8934692100316-nuoc-tao-len-men-vi-tao-somersby-4.5%-abv-lon-330ml', 78: '8934663102516-mi-vi-huong-chay-goi-65g', 79: '8935136863378-sap-vuot-toc-x-men-salon-solutions-clay-70g', 80: '8934822361211-bia-heineken-khong-con-lon-330ml', 81: '8936199810026-cafe-the-coffee-house-sua-da-22gx10-goi-(hop)', 82: '8935136862319-sua-rua-mat-xmen-go-refresh-suc-manh-mat-lanh-100g', 83: '8934841903362-sua-tiet-trung-dutch-lady-ha-lan-huong-socola-bich-180mlbich', 84: '809939073648-soda-sua-huong-vi-chuoi-milkis-banana', 85: '8934673573399-sua-tuoi-tiet-trung-co-duong,-100%-sua-tuoivinamilk-(1lit).', 86: '8935049511038-sua-trai-cay-nutriboost-cam-chai-1l', 87: '8936127794206-nuoc-uong-sua-trai-cay-th-true-juice-milk-huong-viet-quat-300ml', 88: '8935049018728-sua-trai-cay-nuvi-cam-tui-110mltui', 89: '8936203350043-sua-dinh-duong-tiet-trung-vpmilk-omega-it-duong-bich-220ml', 90: '8850227028927-sua-dua-vi-chuoi-thai-coco-300ml', 91: '8934673101097-sua-tuoi-tiet-trung-tiet-trung-vinamilk-khong-duong-bich-220ml', 92: '8935001282297-sua-trai-cay-kirin-latte-dau-chai-440ml', 93: '8801382123446-nuoc-gao-han-quoc-loai-500ml', 94: '8850029036434-nuoc-tay-trang-cham-soc-da-mun-nivea-derma-acne-care-micellar-400ml', 95: '4901872447008-sap-vuot-toc-uno-hard-giu-nep-tu-nhien-80g', 96: '3499320013048-sua-rua-mat-cetaphil-diu-nhe-khong-xa-phong-500ml-(moi)', 97: '8935049017295-sua-tuoi-tiet-trung-co-duong-nutimilk-bich-220ml', 98: '8935006531581-kem-rua-mat-oxy-lam-sach-sau-sang-khoai-100g', 99: '8935006538634-dau-tay-trang-hada-labo-sach-sau-duong-am-toi-uu-200ml', 100: '8935006531956-kem-rua-mat-oxy-co-hat-lam-sach-sau-giam-nhon-100g', 101: \"8851932474245-nuoc-tay-trang-pond's-vitamin-va-hoa-hong-sang-da-chai-400ml\", 102: '8809351955944-sua-rua-mat-dabo-chiet-xuat-lo-hoi-3-trong-1-180ml', 103: '8934868166351-nuoc-rua-tay-lifebuoy-matcha-va-lo-hoichai-450g', 104: '8934683009444-ca-phe-hoa-tan-vinacafe-gold-orinal-3-trong-1-hop-18-goi-20g', 105: '8935024123287-ca-phe-sua-hoa-tan-g7-3in1-hop-336g-(16g-x-21-goi)', 106: '8934683009925-ca-phe-sua-da-vinacafe-chat-hop-10-goi-24g', 107: '8934716010300-nuoc-loc-sapuwa-chai-1-5l', 108: '8936135430226-ca-phe-hoa-tan-3in1-mr.-viet-hop-15-goi-17g', 109: '8935049510857-nuoc-loc-dasani-chai-1.5l', 110: '8936721790017-nuoc-loc-th-true-water-chai-500ml', 111: '8934588063060-nuoc-loc-aquafina-chai-1-5l', 112: '8936191270057-ca-phe-cappuccino-dua-just-viet-hop-hop-10-goi-x-17g', 113: '8935024170519-ca-phe-trung-nguyen-legend-classic-hop-357g-17g-x-21-goi', 114: '8935039570700-ca-phe-sua-robusta-birdy-lon-170ml', 115: '8934683008614-ca-phe-sua-vinacafe-3-in-1-gold-tui-480g-24-goi-tui', 116: '8934588640445-ca-phe-sua-boss-lon-180ml', 117: '8936127790031-nuoc-loc-th-true-water-chai-1-5l', 118: '8934840000093-nuoc-khoang-chanh-lemona-chai-500ml', 119: '8936079140021-ca-phe-sua-highland-coffee-lon-185ml', 120: '8936089171312-ca-phe-cappuccino-dua-archcafe-20g-x-12-goi', 121: '8934804028064-ca-phe-hoa-tan-nescafe-3in1-vi-nguyen-ban-tui-782g-(17g-x-46-goi)', 122: '8936122200276-ca-phe-mr.brown-blue-mountain-240ml', 123: '8938523050382-ca-phe-chon-hoa-tan-ban-fb-200g-(20g-x-10-goi)', 124: '8938530527020-nuoc-huong-mia-miaqua-chai-500ml', 125: '3068320055008-nuoc-loc-evivan-chai-500ml', 126: '8936069606667-nuoc-rua-chen-suzy-huong-bac-ha-2.05l', 127: '8934868166320-nuoc-rua-tay-lifebuoy-cong-thuc-vitamin+-khu-mui-huong-chanh-chai-450g', 128: '8936156730022-xit-lau-kinh-blue-650mlchai', 129: '8936069601846-nuoc-lau-san-suzy-huong-que+nhai-1l', 130: '8936156730718-nuoc-xa-vai-blue-dam-dac-huong-thanh-xuan-tui-3.2l', 131: '8934669380277-nuoc-rua-chen-winmart-home-3.5l-(tui)', 132: '8934868170983-nuoc-rua-tay-lifebuoy-cong-thuc-vitamin+-khu-mui-huong-chanh-tui-400g', 133: '8934868184171-nuoc-giat-omo-matic-chuyen-gia-cua-truoc-ngan-ngua-mui-am-moc-tui-2.8kg', 134: '8934868171843-nuoc-lau-da-nang-sunlight-chanh-va-sa-chai-500ml', 135: '8934669493540-nuoc-rua-chen-lix-sieu-sach-tra-xanh-binh-3.6kg', 136: '8936020760124-khan-bep-elene-2-cuon', 137: '4902430805322-nuoc-rua-tay-diet-khuan-safeguard-trang-tinh-khiet-450ml', 138: '8935049501718-nuoc-ngot-sprite-lon-320ml', 139: '6920354836930-kem-danh-rang-colgate-optic-white-cong-nghe-sac-tim-100g', 140: '8935328600156-tra-xanh-tui-loc-phuc-long-2g-x-hop-25-goi', 141: '8935049501190-nuoc-tra-fuze-tea-vi-chanh-sa-450ml', 142: '8935001215028-tra-tea-break-milk-350ml', 143: '8936185350130-nuoc-kombucha-cam-dao-250ml', 144: '8888589308920-tra-bi-dao-winter-melon-jj-lon-300ml', 145: '8936221042906-tra-bupnon-tea365-huong-mat-ong-500ml', 146: '8934588870552-tra-olong-teaplus-450ml', 147: '8936127796514-tra-dao-tu-nhien-th-true-tea-chai-350ml', 148: '8935001214274-tra-bi-dao-wonderfarm-lon-310ml', 149: '8934564600883-tra-xanh-c2-huong-chanh-tuyet-bac-ha-chai-455ml', 150: '8935137601122-tra-xanh-thai-nguyen-100g', 151: '8936193070013-tra-xanh-khong-do-500ml', 152: '8934868166344-nuoc-rua-tay-lifebouy-450ml', 153: '8934868171829-kem-tay-sunlight-chuyen-dung-sieu-sach-sieu-sang-chai-690g', 154: '8934868190394-nuoc-giat-comfort-huong-hoa-anh-dao-va-dao-tuoi-tui-3kg', 155: '9556111620282-nuoc-rua-tay-dettol-khang-khuan-chai-250g', 156: '8938507729044-khan-giay-da-nang-2-lop-2-cuon-premier', 157: '8936013254951-nuoc-rua-kinh-gift-540ml', 158: '8934839128654-kem-danh-rang-closeup-dau-quat-detox-180g', 159: '8935049501541-nuoc-ngot-cocacola-plus-lon-320ml', 160: '8934588012112-nuoc-ngot-pepsi-cola-320ml', 161: '8935049500445-nuoc-ngot-fanta-chai-1.5l', 162: '8935049501572-nuoc-ngot-fanta-vi-cam-lon-320ml', 163: '8935049510604-nuoc-ngot-sprite-chai-320ml', 164: '8934588672118-nuoc-ngot-pepsi-khong-calo-vi-chanh-320ml', 165: '8935049501374-nuoc-ngot-cocacola-vi-nguyen-ban-chai-600ml', 166: '8936193070075-nuoc-tang-luc-number-1-chai-330ml', 167: '8935049500247-nuoc-giai-khat-thums-up-charged-huong-dau-rung-chai-330ml', 168: '8997035601321-nuoc-uong-bu-dien-giai-bo-sung-ion-pocari-sweat-chai-900ml', 169: '4897036693162-nuoc-tang-luc-monster-mango-loco-355ml', 170: '8850228003541-nuoc-tang-luc-warrior-huong-dau-chai-330ml', 171: '8934683008867-nuoc-tang-luc-wake-up-247-vi-ca-phe-330ml', 172: '8934868171850-nuoc-lau-kinh-sunlight-sieu-nhanh-sach-trong-suot-chai-520ml', 173: '8934868170990-nuoc-rua-tay-lifebuoy-vitamin-sua-duong-am-tui-1kg', 174: '8934564660016-nuoc-tang-luc-rong-do-huong-dau-330ml', 175: '8934669380260-nuoc-rua-chen-winmart-home-3.5l-(binh)', 176: '8936063370359-nuoc-rua-tay-dr.clean-daulo-500ml', 177: '8938509472269-khan-giay-da-nang-teddy-bear', 178: '8934669380277-nuoc-rua-chen-winmart-home-(tui)', 179: '8934662308865-nuoc-rua-tay-kleen-huong-lavender-chai-500ml', 180: '8934804026817-nuoc-tuong-maggi-dau-nanh-thanh-diu-chai-700ml', 181: '8934804020402-nuoc-tuong-maggi-dau-nanh-dam-dac-700ml', 182: '8934804022307-dau-hao-maggi-chai-530g', 183: '8934707029182-hat-nem-knorr-thit-than-xuong-ong-va-tuy-900g', 184: '8935015513189-duong-vang-thien-nhien-bien-hoa-gold-tui-1kg', 185: '8935015510522-duong-vang-khoang-chat-bien-hoa-goi-1kg', 186: '9008700214872-juice-immune-active-fruit-juice-by-rauch-1l', 187: '8934673701402-nuoc-dao-necta-vinamilk-hop-1l', 188: '8851013740498-nuoc-ep-tipco-trai-cay-rau-cu-hop-1l', 189: '6920354837180-kem-danh-rang-colgate-maxwhite-bac-ha-170g-hop', 190: '8934839128081-kem-danh-rang-p/s-muoi-hong-hoa-cuc-tuyp-230g', 191: '5054563023803-kem-danh-rang-sensodyne-rapid-action-giam-e-buot-nhanh-100g', 192: '5054563022592-kem-danh-rang-sensodyne-giam-e-buotlam-sang-rang-100g', 193: '8850090113164-kem-danh-rang-sensodyne-cool-gel-mat-lanh,-giam-e-buot-160g', 194: '6920354828393-kem-danh-rang-colgate-muoi-himalaya-sang-khoe-180g', 195: '6920354827792-kem-danh-rang-colgate-maxfresh-tinh-chat-than-tre-225g-+-ban-chai-long-to', 196: '8850006932322-kem-danh-rang-colgate-maxfresh-huong-bac-ha-225g-+-ban-chai-long-to', 197: '8850006932346-kem-danh-rang-colgate-maxfresh-huong-tra-xanh-225g-+-ban-chai-long-to', 198: '8935136864375-dau-goi-lashe-superfood-phuc-hoi-hu-ton-640g', 199: '8934868185093-dau-xa-sunsilk-natural-duong-phuc-hoi-330ml', 200: '8934868167938-dau-goi-tresemme-keratin-smooth-vao-nep-suon-muot-chai-480g', 201: '8934868156871-dau-xa-sunsilk-mem-muot-dieu-ky-320g', 202: '8934868166825-dau-goi-sunsilk-natural-duong-ngan-gay-rung-650g', 203: '8934868188612-sua-tam-duong-the-dove-tuoi-mat,-da-sang-khoai-500g', 204: '8934868180531-dau-goi-dove-ceramide-phuc-hoi-hu-ton-880g', 205: '8934868180470-dau-goi-dove-biotin-ngan-gay-rung-toc-880g', 206: '8934868166924-dau-goi-sunsilk-mem-muot-dieu-ky-chai-650g', 207: '8934868166870-dau-goi-sunsilk-ong-muot-rang-ngoi-chai-650g', 208: '8935136865709-sua-tam-purite-duong-da-mem-min-huong-hoa-hong-rose-chai-850ml', 209: '8935136865648-sua-tam-purite-sang-min-da-huong-hoa-anh-dao-1.1l', 210: '8935030221359-sua-tam-on:-the-body-duong-am-huong-thu-gian-1kg', 211: '8801051128178-sua-tam-on:-the-body-duong-am-huong-hoa-dien-vi-900g', 212: '8934868186540-sua-tam-lifebuoy-chiet-xuat-cica-va-muoi-hong-ngua-tham-chai-800g'}\n",
       "plot: True\n",
       "results_dict: {'metrics/precision(B)': np.float64(0.01954734485981588), 'metrics/recall(B)': np.float64(0.08229835253288012), 'metrics/mAP50(B)': np.float64(0.016543345163131915), 'metrics/mAP50-95(B)': np.float64(0.015146801788977749), 'fitness': np.float64(0.015286456126393167)}\n",
       "save_dir: PosixPath('/Volumes/Cucumber/Projects/item-identification/runs/detect/train6')\n",
       "speed: {'preprocess': 1.0114579100081755, 'inference': 121.15385042000526, 'loss': 4.2909996409434825e-05, 'postprocess': 60.99127084498832}\n",
       "task: 'detect'"
      ]
     },
     "execution_count": 6,
     "metadata": {},
     "output_type": "execute_result"
    }
   ],
   "source": [
    "from ultralytics import YOLO\n",
    "\n",
    "# Load a pre-trained YOLOv8 model\n",
    "model = YOLO(\"yolov8n.pt\")  # you can choose yolov8s.pt, yolov8m.pt, etc.\n",
    "\n",
    "# Train on the custom dataset\n",
    "model.train(data=\"/Volumes/Cucumber/Projects/datasets/dataset/data.yaml\", epochs=32, imgsz=640)"
   ]
  },
  {
   "cell_type": "code",
   "execution_count": 7,
   "metadata": {},
   "outputs": [
    {
     "ename": "KeyboardInterrupt",
     "evalue": "",
     "output_type": "error",
     "traceback": [
      "\u001b[0;31m---------------------------------------------------------------------------\u001b[0m",
      "\u001b[0;31mKeyboardInterrupt\u001b[0m                         Traceback (most recent call last)",
      "Cell \u001b[0;32mIn[7], line 1\u001b[0m\n\u001b[0;32m----> 1\u001b[0m \u001b[38;5;28;01mwhile\u001b[39;00m \u001b[38;5;241m1\u001b[39m: \u001b[38;5;241m1\u001b[39m\n",
      "\u001b[0;31mKeyboardInterrupt\u001b[0m: "
     ]
    }
   ],
   "source": [
    "while 1: 1"
   ]
  },
  {
   "cell_type": "code",
   "execution_count": null,
   "metadata": {},
   "outputs": [
    {
     "name": "stdout",
     "output_type": "stream",
     "text": [
      "\n",
      "image 1/1 /Volumes/Cucumber/Projects/item-identification/notebook/local/temp/validation/0a230432914ea6c9bde6a026b20ccb6f.jpg: 480x640 (no detections), 44.2ms\n",
      "Speed: 1.1ms preprocess, 44.2ms inference, 0.6ms postprocess per image at shape (1, 3, 480, 640)\n"
     ]
    }
   ],
   "source": [
    "result = model(\"/Volumes/Cucumber/Projects/item-identification/notebook/local/temp/validation/0a230432914ea6c9bde6a026b20ccb6f.jpg\")\n",
    "result[0].show()"
   ]
  },
  {
   "cell_type": "code",
   "execution_count": 14,
   "metadata": {},
   "outputs": [
    {
     "name": "stdout",
     "output_type": "stream",
     "text": [
      "\n",
      "image 1/1 /Volumes/Cucumber/Projects/datasets/dataset/images/train/00000.jpg: 640x640 (no detections), 62.9ms\n",
      "Speed: 3.2ms preprocess, 62.9ms inference, 0.6ms postprocess per image at shape (1, 3, 640, 640)\n"
     ]
    }
   ],
   "source": [
    "result = model(\"/Volumes/Cucumber/Projects/datasets/dataset/images/train/00000.jpg\")\n",
    "result[0].show()"
   ]
  },
  {
   "cell_type": "code",
   "execution_count": null,
   "metadata": {},
   "outputs": [],
   "source": []
  }
 ],
 "metadata": {
  "kernelspec": {
   "display_name": ".venv",
   "language": "python",
   "name": "python3"
  },
  "language_info": {
   "codemirror_mode": {
    "name": "ipython",
    "version": 3
   },
   "file_extension": ".py",
   "mimetype": "text/x-python",
   "name": "python",
   "nbconvert_exporter": "python",
   "pygments_lexer": "ipython3",
   "version": "3.9.6"
  }
 },
 "nbformat": 4,
 "nbformat_minor": 2
}
