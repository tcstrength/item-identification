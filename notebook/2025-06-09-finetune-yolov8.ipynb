{
 "cells": [
  {
   "cell_type": "code",
   "execution_count": 3,
   "metadata": {},
   "outputs": [
    {
     "name": "stderr",
     "output_type": "stream",
     "text": [
      "\u001b[32m2025-06-10 18:00:33.033\u001b[0m | \u001b[1mINFO    \u001b[0m | \u001b[36mhcmus.core.appconfig\u001b[0m:\u001b[36m<module>\u001b[0m:\u001b[36m7\u001b[0m - \u001b[1mLoad DotEnv: True\u001b[0m\n"
     ]
    }
   ],
   "source": [
    "from hcmus.core import appconfig"
   ]
  },
  {
   "cell_type": "code",
   "execution_count": 1,
   "metadata": {},
   "outputs": [
    {
     "name": "stderr",
     "output_type": "stream",
     "text": [
      "/Volumes/Cucumber/Projects/item-identification/.venv/lib/python3.9/site-packages/urllib3/__init__.py:35: NotOpenSSLWarning: urllib3 v2 only supports OpenSSL 1.1.1+, currently the 'ssl' module is compiled with 'LibreSSL 2.8.3'. See: https://github.com/urllib3/urllib3/issues/3020\n",
      "  warnings.warn(\n"
     ]
    },
    {
     "name": "stdout",
     "output_type": "stream",
     "text": [
      "New https://pypi.org/project/ultralytics/8.3.152 available 😃 Update with 'pip install -U ultralytics'\n",
      "Ultralytics 8.3.111 🚀 Python-3.9.6 torch-2.6.0 CPU (Apple M4)\n",
      "\u001b[34m\u001b[1mengine/trainer: \u001b[0mtask=detect, mode=train, model=yolov8s.pt, data=/Volumes/Cucumber/Projects/datasets/hcmus-iid-sku110k-yolo/my_custom_dataset.yaml, epochs=32, time=None, patience=100, batch=4, imgsz=640, save=True, save_period=-1, cache=False, device=None, workers=8, project=None, name=yolov8-finetune23, exist_ok=False, pretrained=True, optimizer=auto, verbose=True, seed=0, deterministic=True, single_cls=False, rect=False, cos_lr=False, close_mosaic=10, resume=False, amp=True, fraction=1.0, profile=False, freeze=None, multi_scale=False, overlap_mask=True, mask_ratio=4, dropout=0.0, val=True, split=val, save_json=False, conf=None, iou=0.7, max_det=300, half=False, dnn=False, plots=True, source=None, vid_stride=1, stream_buffer=False, visualize=False, augment=False, agnostic_nms=False, classes=None, retina_masks=False, embed=None, show=False, save_frames=False, save_txt=False, save_conf=False, save_crop=False, show_labels=True, show_conf=True, show_boxes=True, line_width=None, format=torchscript, keras=False, optimize=False, int8=False, dynamic=False, simplify=True, opset=None, workspace=None, nms=False, lr0=0.01, lrf=0.01, momentum=0.937, weight_decay=0.0005, warmup_epochs=3.0, warmup_momentum=0.8, warmup_bias_lr=0.1, box=7.5, cls=0.5, dfl=1.5, pose=12.0, kobj=1.0, nbs=64, hsv_h=0.015, hsv_s=0.7, hsv_v=0.4, degrees=0.0, translate=0.1, scale=0.5, shear=0.0, perspective=0.0, flipud=0.0, fliplr=0.5, bgr=0.0, mosaic=1.0, mixup=0.0, copy_paste=0.0, copy_paste_mode=flip, auto_augment=randaugment, erasing=0.4, cfg=None, tracker=botsort.yaml, save_dir=/Volumes/Cucumber/Projects/item-identification/runs/detect/yolov8-finetune23\n",
      "Overriding model.yaml nc=80 with nc=216\n",
      "\n",
      "                   from  n    params  module                                       arguments                     \n",
      "  0                  -1  1       928  ultralytics.nn.modules.conv.Conv             [3, 32, 3, 2]                 \n",
      "  1                  -1  1     18560  ultralytics.nn.modules.conv.Conv             [32, 64, 3, 2]                \n",
      "  2                  -1  1     29056  ultralytics.nn.modules.block.C2f             [64, 64, 1, True]             \n",
      "  3                  -1  1     73984  ultralytics.nn.modules.conv.Conv             [64, 128, 3, 2]               \n",
      "  4                  -1  2    197632  ultralytics.nn.modules.block.C2f             [128, 128, 2, True]           \n",
      "  5                  -1  1    295424  ultralytics.nn.modules.conv.Conv             [128, 256, 3, 2]              \n",
      "  6                  -1  2    788480  ultralytics.nn.modules.block.C2f             [256, 256, 2, True]           \n",
      "  7                  -1  1   1180672  ultralytics.nn.modules.conv.Conv             [256, 512, 3, 2]              \n",
      "  8                  -1  1   1838080  ultralytics.nn.modules.block.C2f             [512, 512, 1, True]           \n",
      "  9                  -1  1    656896  ultralytics.nn.modules.block.SPPF            [512, 512, 5]                 \n",
      " 10                  -1  1         0  torch.nn.modules.upsampling.Upsample         [None, 2, 'nearest']          \n",
      " 11             [-1, 6]  1         0  ultralytics.nn.modules.conv.Concat           [1]                           \n",
      " 12                  -1  1    591360  ultralytics.nn.modules.block.C2f             [768, 256, 1]                 \n",
      " 13                  -1  1         0  torch.nn.modules.upsampling.Upsample         [None, 2, 'nearest']          \n",
      " 14             [-1, 4]  1         0  ultralytics.nn.modules.conv.Concat           [1]                           \n",
      " 15                  -1  1    148224  ultralytics.nn.modules.block.C2f             [384, 128, 1]                 \n",
      " 16                  -1  1    147712  ultralytics.nn.modules.conv.Conv             [128, 128, 3, 2]              \n",
      " 17            [-1, 12]  1         0  ultralytics.nn.modules.conv.Concat           [1]                           \n",
      " 18                  -1  1    493056  ultralytics.nn.modules.block.C2f             [384, 256, 1]                 \n",
      " 19                  -1  1    590336  ultralytics.nn.modules.conv.Conv             [256, 256, 3, 2]              \n",
      " 20             [-1, 9]  1         0  ultralytics.nn.modules.conv.Concat           [1]                           \n",
      " 21                  -1  1   1969152  ultralytics.nn.modules.block.C2f             [768, 512, 1]                 \n",
      " 22        [15, 18, 21]  1   2199640  ultralytics.nn.modules.head.Detect           [216, [128, 256, 512]]        \n",
      "Model summary: 129 layers, 11,219,192 parameters, 11,219,176 gradients, 29.1 GFLOPs\n",
      "\n",
      "Transferred 349/355 items from pretrained weights\n",
      "\u001b[34m\u001b[1mTensorBoard: \u001b[0mStart with 'tensorboard --logdir /Volumes/Cucumber/Projects/item-identification/runs/detect/yolov8-finetune23', view at http://localhost:6006/\n",
      "Freezing layer 'model.22.dfl.conv.weight'\n",
      "\u001b[34m\u001b[1mtrain: \u001b[0mFast image access ✅ (ping: 0.0±0.0 ms, read: 691.5±571.1 MB/s, size: 3184.0 KB)\n"
     ]
    },
    {
     "name": "stderr",
     "output_type": "stream",
     "text": [
      "\u001b[34m\u001b[1mtrain: \u001b[0mScanning /Volumes/Cucumber/Projects/datasets/hcmus-iid-sku110k-yolo/train/labels.cache... 3173 images, 0 backgrounds, 0 corrupt: 100%|██████████| 3173/3173 [00:00<?, ?it/s]"
     ]
    },
    {
     "name": "stdout",
     "output_type": "stream",
     "text": [
      "\u001b[34m\u001b[1mtrain: \u001b[0mWARNING ⚠️ /Volumes/Cucumber/Projects/datasets/hcmus-iid-sku110k-yolo/train/images/01d70d367b6db475d05b69a5208fca35.jpg: corrupt JPEG restored and saved\n",
      "\u001b[34m\u001b[1mtrain: \u001b[0mWARNING ⚠️ /Volumes/Cucumber/Projects/datasets/hcmus-iid-sku110k-yolo/train/images/03669de7a43837d8438d4b54c15ee5ae.jpg: corrupt JPEG restored and saved\n",
      "\u001b[34m\u001b[1mtrain: \u001b[0mWARNING ⚠️ /Volumes/Cucumber/Projects/datasets/hcmus-iid-sku110k-yolo/train/images/0780bf34918974b5aae29117ed6570c6.jpg: corrupt JPEG restored and saved\n",
      "\u001b[34m\u001b[1mtrain: \u001b[0mWARNING ⚠️ /Volumes/Cucumber/Projects/datasets/hcmus-iid-sku110k-yolo/train/images/08332eacd32a6b580678d29e9919884c.jpg: corrupt JPEG restored and saved\n",
      "\u001b[34m\u001b[1mtrain: \u001b[0mWARNING ⚠️ /Volumes/Cucumber/Projects/datasets/hcmus-iid-sku110k-yolo/train/images/0a0c8522300b70f18d35c9393bd69711.jpg: corrupt JPEG restored and saved\n",
      "\u001b[34m\u001b[1mtrain: \u001b[0mWARNING ⚠️ /Volumes/Cucumber/Projects/datasets/hcmus-iid-sku110k-yolo/train/images/0b4f281aa71214132dfdd463f7da9b12.jpg: corrupt JPEG restored and saved\n",
      "\u001b[34m\u001b[1mtrain: \u001b[0mWARNING ⚠️ /Volumes/Cucumber/Projects/datasets/hcmus-iid-sku110k-yolo/train/images/0c1a36aeb3545d6b0f23b4494690749b.jpg: corrupt JPEG restored and saved\n",
      "\u001b[34m\u001b[1mtrain: \u001b[0mWARNING ⚠️ /Volumes/Cucumber/Projects/datasets/hcmus-iid-sku110k-yolo/train/images/0e11714cf3d9271caf65690c4bbb5931.jpg: corrupt JPEG restored and saved\n",
      "\u001b[34m\u001b[1mtrain: \u001b[0mWARNING ⚠️ /Volumes/Cucumber/Projects/datasets/hcmus-iid-sku110k-yolo/train/images/0f6c18d157aa6be47a39a693fdf9fadb.jpg: corrupt JPEG restored and saved\n",
      "\u001b[34m\u001b[1mtrain: \u001b[0mWARNING ⚠️ /Volumes/Cucumber/Projects/datasets/hcmus-iid-sku110k-yolo/train/images/129be1c4eb87df040b4127643c27fa1f.jpg: corrupt JPEG restored and saved\n",
      "\u001b[34m\u001b[1mtrain: \u001b[0mWARNING ⚠️ /Volumes/Cucumber/Projects/datasets/hcmus-iid-sku110k-yolo/train/images/1376823b66db767ac4f2d41a37f9952b.jpg: corrupt JPEG restored and saved\n",
      "\u001b[34m\u001b[1mtrain: \u001b[0mWARNING ⚠️ /Volumes/Cucumber/Projects/datasets/hcmus-iid-sku110k-yolo/train/images/1afc0638677e2a6c0d97894df19475e6.jpg: corrupt JPEG restored and saved\n",
      "\u001b[34m\u001b[1mtrain: \u001b[0mWARNING ⚠️ /Volumes/Cucumber/Projects/datasets/hcmus-iid-sku110k-yolo/train/images/1df46e7c3b570a6aad8e8cc773ddfc0a.jpg: corrupt JPEG restored and saved\n",
      "\u001b[34m\u001b[1mtrain: \u001b[0mWARNING ⚠️ /Volumes/Cucumber/Projects/datasets/hcmus-iid-sku110k-yolo/train/images/1e98adfc70a40a1dd3eaf17300fa4789.jpg: corrupt JPEG restored and saved\n",
      "\u001b[34m\u001b[1mtrain: \u001b[0mWARNING ⚠️ /Volumes/Cucumber/Projects/datasets/hcmus-iid-sku110k-yolo/train/images/1eabff00cbb345c768fd683a3cd4b113.jpg: corrupt JPEG restored and saved\n",
      "\u001b[34m\u001b[1mtrain: \u001b[0mWARNING ⚠️ /Volumes/Cucumber/Projects/datasets/hcmus-iid-sku110k-yolo/train/images/212e1d13df7446af764cfd0380d25965.jpg: corrupt JPEG restored and saved\n",
      "\u001b[34m\u001b[1mtrain: \u001b[0mWARNING ⚠️ /Volumes/Cucumber/Projects/datasets/hcmus-iid-sku110k-yolo/train/images/225a4e36e10a787768ed615f9c222d5a.jpg: corrupt JPEG restored and saved\n",
      "\u001b[34m\u001b[1mtrain: \u001b[0mWARNING ⚠️ /Volumes/Cucumber/Projects/datasets/hcmus-iid-sku110k-yolo/train/images/22635bc9f6a0c71945150d7e125441ef.jpg: corrupt JPEG restored and saved\n",
      "\u001b[34m\u001b[1mtrain: \u001b[0mWARNING ⚠️ /Volumes/Cucumber/Projects/datasets/hcmus-iid-sku110k-yolo/train/images/2b4a17133ae6716e6ea253d041e16de7.jpg: corrupt JPEG restored and saved\n",
      "\u001b[34m\u001b[1mtrain: \u001b[0mWARNING ⚠️ /Volumes/Cucumber/Projects/datasets/hcmus-iid-sku110k-yolo/train/images/2b4e095032e41b15b8f488b7f648fff0.jpg: corrupt JPEG restored and saved\n",
      "\u001b[34m\u001b[1mtrain: \u001b[0mWARNING ⚠️ /Volumes/Cucumber/Projects/datasets/hcmus-iid-sku110k-yolo/train/images/2d6041ce02951095845c7384af94c6bd.jpg: corrupt JPEG restored and saved\n",
      "\u001b[34m\u001b[1mtrain: \u001b[0mWARNING ⚠️ /Volumes/Cucumber/Projects/datasets/hcmus-iid-sku110k-yolo/train/images/2f8a4a7329d9255e3690aa0a4eb6a5ac.jpg: corrupt JPEG restored and saved\n",
      "\u001b[34m\u001b[1mtrain: \u001b[0mWARNING ⚠️ /Volumes/Cucumber/Projects/datasets/hcmus-iid-sku110k-yolo/train/images/302865cee1479603c5e44fd9b03d0d19.jpg: corrupt JPEG restored and saved\n",
      "\u001b[34m\u001b[1mtrain: \u001b[0mWARNING ⚠️ /Volumes/Cucumber/Projects/datasets/hcmus-iid-sku110k-yolo/train/images/3123da4faa3b9dfb9aa9295f13fd7f96.jpg: corrupt JPEG restored and saved\n",
      "\u001b[34m\u001b[1mtrain: \u001b[0mWARNING ⚠️ /Volumes/Cucumber/Projects/datasets/hcmus-iid-sku110k-yolo/train/images/31492d6c40306743f7e67a10f87cc9ee.jpg: corrupt JPEG restored and saved\n",
      "\u001b[34m\u001b[1mtrain: \u001b[0mWARNING ⚠️ /Volumes/Cucumber/Projects/datasets/hcmus-iid-sku110k-yolo/train/images/32251cc20562accb71d9da7e8eee834b.jpg: corrupt JPEG restored and saved\n",
      "\u001b[34m\u001b[1mtrain: \u001b[0mWARNING ⚠️ /Volumes/Cucumber/Projects/datasets/hcmus-iid-sku110k-yolo/train/images/332a42a2fb551daedfa55662b17ade7b.jpg: corrupt JPEG restored and saved\n",
      "\u001b[34m\u001b[1mtrain: \u001b[0mWARNING ⚠️ /Volumes/Cucumber/Projects/datasets/hcmus-iid-sku110k-yolo/train/images/3650f8382f81657ed061bbccc95e3d3e.jpg: corrupt JPEG restored and saved\n",
      "\u001b[34m\u001b[1mtrain: \u001b[0mWARNING ⚠️ /Volumes/Cucumber/Projects/datasets/hcmus-iid-sku110k-yolo/train/images/381652e66c41dc5e556a1328c7738e87.jpg: corrupt JPEG restored and saved\n",
      "\u001b[34m\u001b[1mtrain: \u001b[0mWARNING ⚠️ /Volumes/Cucumber/Projects/datasets/hcmus-iid-sku110k-yolo/train/images/3a12839001e7740a815a0f4bdb1948ba.jpg: corrupt JPEG restored and saved\n",
      "\u001b[34m\u001b[1mtrain: \u001b[0mWARNING ⚠️ /Volumes/Cucumber/Projects/datasets/hcmus-iid-sku110k-yolo/train/images/3aa1bd595fd84aadcc9152695e9ae4f6.jpg: corrupt JPEG restored and saved\n",
      "\u001b[34m\u001b[1mtrain: \u001b[0mWARNING ⚠️ /Volumes/Cucumber/Projects/datasets/hcmus-iid-sku110k-yolo/train/images/3e191ca29f39f078cbdb65aa47991e89.jpg: corrupt JPEG restored and saved\n",
      "\u001b[34m\u001b[1mtrain: \u001b[0mWARNING ⚠️ /Volumes/Cucumber/Projects/datasets/hcmus-iid-sku110k-yolo/train/images/4172089e285f3e73dbf9d4a5395afd36.jpg: corrupt JPEG restored and saved\n",
      "\u001b[34m\u001b[1mtrain: \u001b[0mWARNING ⚠️ /Volumes/Cucumber/Projects/datasets/hcmus-iid-sku110k-yolo/train/images/4909a0db8c89f07b3d1cdcd5afdc9656.jpg: corrupt JPEG restored and saved\n",
      "\u001b[34m\u001b[1mtrain: \u001b[0mWARNING ⚠️ /Volumes/Cucumber/Projects/datasets/hcmus-iid-sku110k-yolo/train/images/4a024f0f610328ee98c5954e3fafbfea.jpg: corrupt JPEG restored and saved\n",
      "\u001b[34m\u001b[1mtrain: \u001b[0mWARNING ⚠️ /Volumes/Cucumber/Projects/datasets/hcmus-iid-sku110k-yolo/train/images/4ae9c04584798798a57b73d6d051b615.jpg: corrupt JPEG restored and saved\n",
      "\u001b[34m\u001b[1mtrain: \u001b[0mWARNING ⚠️ /Volumes/Cucumber/Projects/datasets/hcmus-iid-sku110k-yolo/train/images/4cd86ab27edb22bb40b75aa7819e985c.jpg: corrupt JPEG restored and saved\n",
      "\u001b[34m\u001b[1mtrain: \u001b[0mWARNING ⚠️ /Volumes/Cucumber/Projects/datasets/hcmus-iid-sku110k-yolo/train/images/4fcf4aeb7b34f022441df7f58293cd96.jpg: corrupt JPEG restored and saved\n",
      "\u001b[34m\u001b[1mtrain: \u001b[0mWARNING ⚠️ /Volumes/Cucumber/Projects/datasets/hcmus-iid-sku110k-yolo/train/images/504e1e101ffa819d0865b55b44540dae.jpg: corrupt JPEG restored and saved\n",
      "\u001b[34m\u001b[1mtrain: \u001b[0mWARNING ⚠️ /Volumes/Cucumber/Projects/datasets/hcmus-iid-sku110k-yolo/train/images/51721a685b96bd8f96a6585ed1ae146a.jpg: corrupt JPEG restored and saved\n",
      "\u001b[34m\u001b[1mtrain: \u001b[0mWARNING ⚠️ /Volumes/Cucumber/Projects/datasets/hcmus-iid-sku110k-yolo/train/images/558157f8b2c66c6366eaadad07572c01.jpg: corrupt JPEG restored and saved\n",
      "\u001b[34m\u001b[1mtrain: \u001b[0mWARNING ⚠️ /Volumes/Cucumber/Projects/datasets/hcmus-iid-sku110k-yolo/train/images/579fb548cd75e752db450c12940da05f.jpg: corrupt JPEG restored and saved\n",
      "\u001b[34m\u001b[1mtrain: \u001b[0mWARNING ⚠️ /Volumes/Cucumber/Projects/datasets/hcmus-iid-sku110k-yolo/train/images/580fda615facf526cc27cb358fe96863.jpg: corrupt JPEG restored and saved\n",
      "\u001b[34m\u001b[1mtrain: \u001b[0mWARNING ⚠️ /Volumes/Cucumber/Projects/datasets/hcmus-iid-sku110k-yolo/train/images/5aebb7587bbf67992ed1cbd6aed2c91e.jpg: corrupt JPEG restored and saved\n",
      "\u001b[34m\u001b[1mtrain: \u001b[0mWARNING ⚠️ /Volumes/Cucumber/Projects/datasets/hcmus-iid-sku110k-yolo/train/images/5bbf805e45e7d7074b343ef80d592d1b.jpg: corrupt JPEG restored and saved\n",
      "\u001b[34m\u001b[1mtrain: \u001b[0mWARNING ⚠️ /Volumes/Cucumber/Projects/datasets/hcmus-iid-sku110k-yolo/train/images/5ea64295d33079f36f6711d92aecbc33.jpg: corrupt JPEG restored and saved\n",
      "\u001b[34m\u001b[1mtrain: \u001b[0mWARNING ⚠️ /Volumes/Cucumber/Projects/datasets/hcmus-iid-sku110k-yolo/train/images/5fcddcb644e155f19a560aacd0979b28.jpg: corrupt JPEG restored and saved\n",
      "\u001b[34m\u001b[1mtrain: \u001b[0mWARNING ⚠️ /Volumes/Cucumber/Projects/datasets/hcmus-iid-sku110k-yolo/train/images/6044ed407a0d04167199e6f3f49fde9c.jpg: corrupt JPEG restored and saved\n",
      "\u001b[34m\u001b[1mtrain: \u001b[0mWARNING ⚠️ /Volumes/Cucumber/Projects/datasets/hcmus-iid-sku110k-yolo/train/images/61c04d98e527f35b38e94bbbd628cc92.jpg: corrupt JPEG restored and saved\n",
      "\u001b[34m\u001b[1mtrain: \u001b[0mWARNING ⚠️ /Volumes/Cucumber/Projects/datasets/hcmus-iid-sku110k-yolo/train/images/64f90648b37d73a12080b00ae644e788.jpg: corrupt JPEG restored and saved\n",
      "\u001b[34m\u001b[1mtrain: \u001b[0mWARNING ⚠️ /Volumes/Cucumber/Projects/datasets/hcmus-iid-sku110k-yolo/train/images/6701e84276af72f353d9255d82f15391.jpg: corrupt JPEG restored and saved\n",
      "\u001b[34m\u001b[1mtrain: \u001b[0mWARNING ⚠️ /Volumes/Cucumber/Projects/datasets/hcmus-iid-sku110k-yolo/train/images/67b8ad1b3b9147c351446f596fd6a373.jpg: corrupt JPEG restored and saved\n",
      "\u001b[34m\u001b[1mtrain: \u001b[0mWARNING ⚠️ /Volumes/Cucumber/Projects/datasets/hcmus-iid-sku110k-yolo/train/images/682230a6a423b021792b290b687fd91c.jpg: corrupt JPEG restored and saved\n",
      "\u001b[34m\u001b[1mtrain: \u001b[0mWARNING ⚠️ /Volumes/Cucumber/Projects/datasets/hcmus-iid-sku110k-yolo/train/images/6a0702414afe4869954e02351be59453.jpg: corrupt JPEG restored and saved\n",
      "\u001b[34m\u001b[1mtrain: \u001b[0mWARNING ⚠️ /Volumes/Cucumber/Projects/datasets/hcmus-iid-sku110k-yolo/train/images/6badb0b78a4efcdfca4c6f5607d2f305.jpg: corrupt JPEG restored and saved\n",
      "\u001b[34m\u001b[1mtrain: \u001b[0mWARNING ⚠️ /Volumes/Cucumber/Projects/datasets/hcmus-iid-sku110k-yolo/train/images/6be566413f49f50f224f40d0e1e0ef97.jpg: corrupt JPEG restored and saved\n",
      "\u001b[34m\u001b[1mtrain: \u001b[0mWARNING ⚠️ /Volumes/Cucumber/Projects/datasets/hcmus-iid-sku110k-yolo/train/images/6d492ef64cfdceba5a0c6ce162fefe3c.jpg: corrupt JPEG restored and saved\n",
      "\u001b[34m\u001b[1mtrain: \u001b[0mWARNING ⚠️ /Volumes/Cucumber/Projects/datasets/hcmus-iid-sku110k-yolo/train/images/6e66045515f19ad682e09c21c7971ac8.jpg: corrupt JPEG restored and saved\n",
      "\u001b[34m\u001b[1mtrain: \u001b[0mWARNING ⚠️ /Volumes/Cucumber/Projects/datasets/hcmus-iid-sku110k-yolo/train/images/715b15009ab619de665580b4cd441bda.jpg: corrupt JPEG restored and saved\n",
      "\u001b[34m\u001b[1mtrain: \u001b[0mWARNING ⚠️ /Volumes/Cucumber/Projects/datasets/hcmus-iid-sku110k-yolo/train/images/71d73f657bd1443e300073873325132b.jpg: corrupt JPEG restored and saved\n",
      "\u001b[34m\u001b[1mtrain: \u001b[0mWARNING ⚠️ /Volumes/Cucumber/Projects/datasets/hcmus-iid-sku110k-yolo/train/images/729643dcda52fbba94f84d1075a9b38e.jpg: corrupt JPEG restored and saved\n",
      "\u001b[34m\u001b[1mtrain: \u001b[0mWARNING ⚠️ /Volumes/Cucumber/Projects/datasets/hcmus-iid-sku110k-yolo/train/images/740ae83c5a920e19dcb7b97c7fc5712b.jpg: corrupt JPEG restored and saved\n",
      "\u001b[34m\u001b[1mtrain: \u001b[0mWARNING ⚠️ /Volumes/Cucumber/Projects/datasets/hcmus-iid-sku110k-yolo/train/images/7482b18e490524f0de89a4f2b6c0eb3b.jpg: corrupt JPEG restored and saved\n",
      "\u001b[34m\u001b[1mtrain: \u001b[0mWARNING ⚠️ /Volumes/Cucumber/Projects/datasets/hcmus-iid-sku110k-yolo/train/images/765433012a926bfe8eea8408223c315f.jpg: corrupt JPEG restored and saved\n",
      "\u001b[34m\u001b[1mtrain: \u001b[0mWARNING ⚠️ /Volumes/Cucumber/Projects/datasets/hcmus-iid-sku110k-yolo/train/images/76b477be31a1ab1f936d0cbac900691a.jpg: corrupt JPEG restored and saved\n",
      "\u001b[34m\u001b[1mtrain: \u001b[0mWARNING ⚠️ /Volumes/Cucumber/Projects/datasets/hcmus-iid-sku110k-yolo/train/images/76dd64992056b87c51f65dcd572ec1d0.jpg: corrupt JPEG restored and saved\n",
      "\u001b[34m\u001b[1mtrain: \u001b[0mWARNING ⚠️ /Volumes/Cucumber/Projects/datasets/hcmus-iid-sku110k-yolo/train/images/7fb2007aea6f589c40f64f24d21b2da6.jpg: corrupt JPEG restored and saved\n",
      "\u001b[34m\u001b[1mtrain: \u001b[0mWARNING ⚠️ /Volumes/Cucumber/Projects/datasets/hcmus-iid-sku110k-yolo/train/images/82845c6b362356f3bad192bc06b8d383.jpg: corrupt JPEG restored and saved\n",
      "\u001b[34m\u001b[1mtrain: \u001b[0mWARNING ⚠️ /Volumes/Cucumber/Projects/datasets/hcmus-iid-sku110k-yolo/train/images/82faca3868305bb07b47100afa3265ff.jpg: corrupt JPEG restored and saved\n",
      "\u001b[34m\u001b[1mtrain: \u001b[0mWARNING ⚠️ /Volumes/Cucumber/Projects/datasets/hcmus-iid-sku110k-yolo/train/images/831e043564e8392af496fdd1d99a0098.jpg: corrupt JPEG restored and saved\n",
      "\u001b[34m\u001b[1mtrain: \u001b[0mWARNING ⚠️ /Volumes/Cucumber/Projects/datasets/hcmus-iid-sku110k-yolo/train/images/83a7533068c9caff58e4230e6bd1d9a6.jpg: corrupt JPEG restored and saved\n",
      "\u001b[34m\u001b[1mtrain: \u001b[0mWARNING ⚠️ /Volumes/Cucumber/Projects/datasets/hcmus-iid-sku110k-yolo/train/images/850fb127f75c292e31f6c9c6529f7995.jpg: corrupt JPEG restored and saved\n",
      "\u001b[34m\u001b[1mtrain: \u001b[0mWARNING ⚠️ /Volumes/Cucumber/Projects/datasets/hcmus-iid-sku110k-yolo/train/images/85b9dcae7c8407c8c472a39ad05ce824.jpg: corrupt JPEG restored and saved\n",
      "\u001b[34m\u001b[1mtrain: \u001b[0mWARNING ⚠️ /Volumes/Cucumber/Projects/datasets/hcmus-iid-sku110k-yolo/train/images/8781310485f2fc326464060fe8c89906.jpg: corrupt JPEG restored and saved\n",
      "\u001b[34m\u001b[1mtrain: \u001b[0mWARNING ⚠️ /Volumes/Cucumber/Projects/datasets/hcmus-iid-sku110k-yolo/train/images/878f2bc0fdfc1c820fc45b49a2821dc9.jpg: corrupt JPEG restored and saved\n",
      "\u001b[34m\u001b[1mtrain: \u001b[0mWARNING ⚠️ /Volumes/Cucumber/Projects/datasets/hcmus-iid-sku110k-yolo/train/images/898900dd8c4c642f0ad5d24f02616a37.jpg: corrupt JPEG restored and saved\n",
      "\u001b[34m\u001b[1mtrain: \u001b[0mWARNING ⚠️ /Volumes/Cucumber/Projects/datasets/hcmus-iid-sku110k-yolo/train/images/89fe84d413b95d20a0c53b147a75285a.jpg: corrupt JPEG restored and saved\n",
      "\u001b[34m\u001b[1mtrain: \u001b[0mWARNING ⚠️ /Volumes/Cucumber/Projects/datasets/hcmus-iid-sku110k-yolo/train/images/8b424a197600e59a9b8628c24b3d1dc7.jpg: corrupt JPEG restored and saved\n",
      "\u001b[34m\u001b[1mtrain: \u001b[0mWARNING ⚠️ /Volumes/Cucumber/Projects/datasets/hcmus-iid-sku110k-yolo/train/images/8e15a9800e2c53fedf3a772ed3dd55ab.jpg: corrupt JPEG restored and saved\n",
      "\u001b[34m\u001b[1mtrain: \u001b[0mWARNING ⚠️ /Volumes/Cucumber/Projects/datasets/hcmus-iid-sku110k-yolo/train/images/8f6a70629a73e4c248e65dc2a3a02005.jpg: corrupt JPEG restored and saved\n",
      "\u001b[34m\u001b[1mtrain: \u001b[0mWARNING ⚠️ /Volumes/Cucumber/Projects/datasets/hcmus-iid-sku110k-yolo/train/images/91e3fd5a0b548b45b3ac815cfde06a5b.jpg: corrupt JPEG restored and saved\n",
      "\u001b[34m\u001b[1mtrain: \u001b[0mWARNING ⚠️ /Volumes/Cucumber/Projects/datasets/hcmus-iid-sku110k-yolo/train/images/92c3b0cbbc2f2ded6e74c8d008c83ce5.jpg: corrupt JPEG restored and saved\n",
      "\u001b[34m\u001b[1mtrain: \u001b[0mWARNING ⚠️ /Volumes/Cucumber/Projects/datasets/hcmus-iid-sku110k-yolo/train/images/9372933168d399b390b555ec9151e474.jpg: corrupt JPEG restored and saved\n",
      "\u001b[34m\u001b[1mtrain: \u001b[0mWARNING ⚠️ /Volumes/Cucumber/Projects/datasets/hcmus-iid-sku110k-yolo/train/images/9e7ef3cc8773e15dccf5b060f37045ef.jpg: corrupt JPEG restored and saved\n",
      "\u001b[34m\u001b[1mtrain: \u001b[0mWARNING ⚠️ /Volumes/Cucumber/Projects/datasets/hcmus-iid-sku110k-yolo/train/images/9f6993f4469235734865534d2822ece6.jpg: corrupt JPEG restored and saved\n",
      "\u001b[34m\u001b[1mtrain: \u001b[0mWARNING ⚠️ /Volumes/Cucumber/Projects/datasets/hcmus-iid-sku110k-yolo/train/images/a03e151631f740e5dda0ba2c79687b89.jpg: corrupt JPEG restored and saved\n",
      "\u001b[34m\u001b[1mtrain: \u001b[0mWARNING ⚠️ /Volumes/Cucumber/Projects/datasets/hcmus-iid-sku110k-yolo/train/images/a0e8484589d8b2cc8c9de28eb854231b.jpg: corrupt JPEG restored and saved\n",
      "\u001b[34m\u001b[1mtrain: \u001b[0mWARNING ⚠️ /Volumes/Cucumber/Projects/datasets/hcmus-iid-sku110k-yolo/train/images/a149f771b73bd2197bb21abbad2d8d92.jpg: corrupt JPEG restored and saved\n",
      "\u001b[34m\u001b[1mtrain: \u001b[0mWARNING ⚠️ /Volumes/Cucumber/Projects/datasets/hcmus-iid-sku110k-yolo/train/images/a220a641bfddbf7bf824986857ea964a.jpg: corrupt JPEG restored and saved\n",
      "\u001b[34m\u001b[1mtrain: \u001b[0mWARNING ⚠️ /Volumes/Cucumber/Projects/datasets/hcmus-iid-sku110k-yolo/train/images/a2d6584e273b73feeb4069e2560aaff2.jpg: corrupt JPEG restored and saved\n",
      "\u001b[34m\u001b[1mtrain: \u001b[0mWARNING ⚠️ /Volumes/Cucumber/Projects/datasets/hcmus-iid-sku110k-yolo/train/images/a4ef9fc038ada17c08b3c6e651efcfc4.jpg: corrupt JPEG restored and saved\n",
      "\u001b[34m\u001b[1mtrain: \u001b[0mWARNING ⚠️ /Volumes/Cucumber/Projects/datasets/hcmus-iid-sku110k-yolo/train/images/a61c5cfa128032adfda953534a6f3514.jpg: corrupt JPEG restored and saved\n",
      "\u001b[34m\u001b[1mtrain: \u001b[0mWARNING ⚠️ /Volumes/Cucumber/Projects/datasets/hcmus-iid-sku110k-yolo/train/images/a701b09d04b093776803eee7918736bd.jpg: corrupt JPEG restored and saved\n",
      "\u001b[34m\u001b[1mtrain: \u001b[0mWARNING ⚠️ /Volumes/Cucumber/Projects/datasets/hcmus-iid-sku110k-yolo/train/images/a849f1d3765a55dd6b6380a7cc296ae1.jpg: corrupt JPEG restored and saved\n",
      "\u001b[34m\u001b[1mtrain: \u001b[0mWARNING ⚠️ /Volumes/Cucumber/Projects/datasets/hcmus-iid-sku110k-yolo/train/images/a95f850f08b691ae60853a704a33dfaa.jpg: corrupt JPEG restored and saved\n",
      "\u001b[34m\u001b[1mtrain: \u001b[0mWARNING ⚠️ /Volumes/Cucumber/Projects/datasets/hcmus-iid-sku110k-yolo/train/images/aae378f41634a3b308d7705fc710b1f6.jpg: corrupt JPEG restored and saved\n",
      "\u001b[34m\u001b[1mtrain: \u001b[0mWARNING ⚠️ /Volumes/Cucumber/Projects/datasets/hcmus-iid-sku110k-yolo/train/images/ac11d856af0013c89cc9935a029f1ba1.jpg: corrupt JPEG restored and saved\n",
      "\u001b[34m\u001b[1mtrain: \u001b[0mWARNING ⚠️ /Volumes/Cucumber/Projects/datasets/hcmus-iid-sku110k-yolo/train/images/aeb2dae89c33301083b9444307a785d6.jpg: corrupt JPEG restored and saved\n",
      "\u001b[34m\u001b[1mtrain: \u001b[0mWARNING ⚠️ /Volumes/Cucumber/Projects/datasets/hcmus-iid-sku110k-yolo/train/images/af6b88873f977e07b811322ad1e05878.jpg: corrupt JPEG restored and saved\n",
      "\u001b[34m\u001b[1mtrain: \u001b[0mWARNING ⚠️ /Volumes/Cucumber/Projects/datasets/hcmus-iid-sku110k-yolo/train/images/af851822bbdb46ec10b5907555d0b268.jpg: corrupt JPEG restored and saved\n",
      "\u001b[34m\u001b[1mtrain: \u001b[0mWARNING ⚠️ /Volumes/Cucumber/Projects/datasets/hcmus-iid-sku110k-yolo/train/images/b1fa430924745804e259fd9e2aeaa491.jpg: corrupt JPEG restored and saved\n",
      "\u001b[34m\u001b[1mtrain: \u001b[0mWARNING ⚠️ /Volumes/Cucumber/Projects/datasets/hcmus-iid-sku110k-yolo/train/images/b219171a0760c45098ecdedbc2740722.jpg: corrupt JPEG restored and saved\n",
      "\u001b[34m\u001b[1mtrain: \u001b[0mWARNING ⚠️ /Volumes/Cucumber/Projects/datasets/hcmus-iid-sku110k-yolo/train/images/b3c64765fe3f6d179d1019bdfdaaf099.jpg: corrupt JPEG restored and saved\n",
      "\u001b[34m\u001b[1mtrain: \u001b[0mWARNING ⚠️ /Volumes/Cucumber/Projects/datasets/hcmus-iid-sku110k-yolo/train/images/b443a9ecb68a6c37e44e577a5f06c195.jpg: corrupt JPEG restored and saved\n",
      "\u001b[34m\u001b[1mtrain: \u001b[0mWARNING ⚠️ /Volumes/Cucumber/Projects/datasets/hcmus-iid-sku110k-yolo/train/images/b52717ba88c5d430b4cba5867675044c.jpg: corrupt JPEG restored and saved\n",
      "\u001b[34m\u001b[1mtrain: \u001b[0mWARNING ⚠️ /Volumes/Cucumber/Projects/datasets/hcmus-iid-sku110k-yolo/train/images/b607c8a7431bd9c2d75861f4ae74e3f4.jpg: corrupt JPEG restored and saved\n",
      "\u001b[34m\u001b[1mtrain: \u001b[0mWARNING ⚠️ /Volumes/Cucumber/Projects/datasets/hcmus-iid-sku110k-yolo/train/images/b73a732f933cc3ec1b29b991c8a5cf9d.jpg: corrupt JPEG restored and saved\n",
      "\u001b[34m\u001b[1mtrain: \u001b[0mWARNING ⚠️ /Volumes/Cucumber/Projects/datasets/hcmus-iid-sku110k-yolo/train/images/b97588dbfe23db6db7e82d86e86c0192.jpg: corrupt JPEG restored and saved\n",
      "\u001b[34m\u001b[1mtrain: \u001b[0mWARNING ⚠️ /Volumes/Cucumber/Projects/datasets/hcmus-iid-sku110k-yolo/train/images/b9a0b883c25107e6fb042ec7555c093d.jpg: corrupt JPEG restored and saved\n",
      "\u001b[34m\u001b[1mtrain: \u001b[0mWARNING ⚠️ /Volumes/Cucumber/Projects/datasets/hcmus-iid-sku110k-yolo/train/images/be25584f604ae8d2cf7c8ad474a48884.jpg: corrupt JPEG restored and saved\n",
      "\u001b[34m\u001b[1mtrain: \u001b[0mWARNING ⚠️ /Volumes/Cucumber/Projects/datasets/hcmus-iid-sku110k-yolo/train/images/bf765b6ad50243e99ca0d9b8c6c18a87.jpg: corrupt JPEG restored and saved\n",
      "\u001b[34m\u001b[1mtrain: \u001b[0mWARNING ⚠️ /Volumes/Cucumber/Projects/datasets/hcmus-iid-sku110k-yolo/train/images/c082ad69c87c7b6d52790736e3080eaa.jpg: corrupt JPEG restored and saved\n",
      "\u001b[34m\u001b[1mtrain: \u001b[0mWARNING ⚠️ /Volumes/Cucumber/Projects/datasets/hcmus-iid-sku110k-yolo/train/images/c105a111718b7f274ff2b5054faae253.jpg: corrupt JPEG restored and saved\n",
      "\u001b[34m\u001b[1mtrain: \u001b[0mWARNING ⚠️ /Volumes/Cucumber/Projects/datasets/hcmus-iid-sku110k-yolo/train/images/c1a942514d9078b4528c1d385679bbe7.jpg: corrupt JPEG restored and saved\n",
      "\u001b[34m\u001b[1mtrain: \u001b[0mWARNING ⚠️ /Volumes/Cucumber/Projects/datasets/hcmus-iid-sku110k-yolo/train/images/c1d27f951267a0226959a90d0a398113.jpg: corrupt JPEG restored and saved\n",
      "\u001b[34m\u001b[1mtrain: \u001b[0mWARNING ⚠️ /Volumes/Cucumber/Projects/datasets/hcmus-iid-sku110k-yolo/train/images/c3261420fe3e992ceafc6aec927ffceb.jpg: corrupt JPEG restored and saved\n",
      "\u001b[34m\u001b[1mtrain: \u001b[0mWARNING ⚠️ /Volumes/Cucumber/Projects/datasets/hcmus-iid-sku110k-yolo/train/images/c355cbf9a6ece43f9039282b19f5bb1e.jpg: corrupt JPEG restored and saved\n",
      "\u001b[34m\u001b[1mtrain: \u001b[0mWARNING ⚠️ /Volumes/Cucumber/Projects/datasets/hcmus-iid-sku110k-yolo/train/images/c41f90dfe938cb62584d5dfbb2cfda1d.jpg: corrupt JPEG restored and saved\n",
      "\u001b[34m\u001b[1mtrain: \u001b[0mWARNING ⚠️ /Volumes/Cucumber/Projects/datasets/hcmus-iid-sku110k-yolo/train/images/c5f19ff4a0403e62a67d11c98af70636.jpg: corrupt JPEG restored and saved\n",
      "\u001b[34m\u001b[1mtrain: \u001b[0mWARNING ⚠️ /Volumes/Cucumber/Projects/datasets/hcmus-iid-sku110k-yolo/train/images/c88b5f0737c203c50f12f2dc4d6400e9.jpg: corrupt JPEG restored and saved\n",
      "\u001b[34m\u001b[1mtrain: \u001b[0mWARNING ⚠️ /Volumes/Cucumber/Projects/datasets/hcmus-iid-sku110k-yolo/train/images/c93b6579cd4e2a5c4cac1c032a2c8ae7.jpg: corrupt JPEG restored and saved\n",
      "\u001b[34m\u001b[1mtrain: \u001b[0mWARNING ⚠️ /Volumes/Cucumber/Projects/datasets/hcmus-iid-sku110k-yolo/train/images/c9999192c6c4b5518dfca9f52a223092.jpg: corrupt JPEG restored and saved\n",
      "\u001b[34m\u001b[1mtrain: \u001b[0mWARNING ⚠️ /Volumes/Cucumber/Projects/datasets/hcmus-iid-sku110k-yolo/train/images/cda9710f5e8fcf1b17e8600c07145498.jpg: corrupt JPEG restored and saved\n",
      "\u001b[34m\u001b[1mtrain: \u001b[0mWARNING ⚠️ /Volumes/Cucumber/Projects/datasets/hcmus-iid-sku110k-yolo/train/images/cf87565f4dbfe66a9e7ca242425ef5a6.jpg: corrupt JPEG restored and saved\n",
      "\u001b[34m\u001b[1mtrain: \u001b[0mWARNING ⚠️ /Volumes/Cucumber/Projects/datasets/hcmus-iid-sku110k-yolo/train/images/cff5702b6562b272f1c6a5233d01ba47.jpg: corrupt JPEG restored and saved\n",
      "\u001b[34m\u001b[1mtrain: \u001b[0mWARNING ⚠️ /Volumes/Cucumber/Projects/datasets/hcmus-iid-sku110k-yolo/train/images/d1bc87ae578c58478f66d4d86b6aeb24.jpg: corrupt JPEG restored and saved\n",
      "\u001b[34m\u001b[1mtrain: \u001b[0mWARNING ⚠️ /Volumes/Cucumber/Projects/datasets/hcmus-iid-sku110k-yolo/train/images/d391fdb48cfb06e1ad1e8ba5bc49f0b6.jpg: corrupt JPEG restored and saved\n",
      "\u001b[34m\u001b[1mtrain: \u001b[0mWARNING ⚠️ /Volumes/Cucumber/Projects/datasets/hcmus-iid-sku110k-yolo/train/images/d47fc6ecff527213048ca13fd0c3077b.jpg: corrupt JPEG restored and saved\n",
      "\u001b[34m\u001b[1mtrain: \u001b[0mWARNING ⚠️ /Volumes/Cucumber/Projects/datasets/hcmus-iid-sku110k-yolo/train/images/d4a6a0b62e098d85b7afbcefc43a4cfa.jpg: corrupt JPEG restored and saved\n",
      "\u001b[34m\u001b[1mtrain: \u001b[0mWARNING ⚠️ /Volumes/Cucumber/Projects/datasets/hcmus-iid-sku110k-yolo/train/images/d6ce8f9521d2afe9cf12438d3f433939.jpg: corrupt JPEG restored and saved\n",
      "\u001b[34m\u001b[1mtrain: \u001b[0mWARNING ⚠️ /Volumes/Cucumber/Projects/datasets/hcmus-iid-sku110k-yolo/train/images/d84ee79154b7c7877e45474da1758589.jpg: corrupt JPEG restored and saved\n",
      "\u001b[34m\u001b[1mtrain: \u001b[0mWARNING ⚠️ /Volumes/Cucumber/Projects/datasets/hcmus-iid-sku110k-yolo/train/images/da4b74bfc20630b0e5ce83d804d9c806.jpg: corrupt JPEG restored and saved\n",
      "\u001b[34m\u001b[1mtrain: \u001b[0mWARNING ⚠️ /Volumes/Cucumber/Projects/datasets/hcmus-iid-sku110k-yolo/train/images/da53834d19af7c62c9eba108dfa84295.jpg: corrupt JPEG restored and saved\n",
      "\u001b[34m\u001b[1mtrain: \u001b[0mWARNING ⚠️ /Volumes/Cucumber/Projects/datasets/hcmus-iid-sku110k-yolo/train/images/dc7a4a5b9c9056935c47bd0f00422dae.jpg: corrupt JPEG restored and saved\n",
      "\u001b[34m\u001b[1mtrain: \u001b[0mWARNING ⚠️ /Volumes/Cucumber/Projects/datasets/hcmus-iid-sku110k-yolo/train/images/ddce441898acebeda47fa79de4fac2bf.jpg: corrupt JPEG restored and saved\n",
      "\u001b[34m\u001b[1mtrain: \u001b[0mWARNING ⚠️ /Volumes/Cucumber/Projects/datasets/hcmus-iid-sku110k-yolo/train/images/e021f804c7774fc4ba573f62b8981c02.jpg: corrupt JPEG restored and saved\n",
      "\u001b[34m\u001b[1mtrain: \u001b[0mWARNING ⚠️ /Volumes/Cucumber/Projects/datasets/hcmus-iid-sku110k-yolo/train/images/e0d9d9d6cda8286efdb8235c0113e683.jpg: corrupt JPEG restored and saved\n",
      "\u001b[34m\u001b[1mtrain: \u001b[0mWARNING ⚠️ /Volumes/Cucumber/Projects/datasets/hcmus-iid-sku110k-yolo/train/images/e13af8e8e78aaaece7ac4583a9aeb52d.jpg: corrupt JPEG restored and saved\n",
      "\u001b[34m\u001b[1mtrain: \u001b[0mWARNING ⚠️ /Volumes/Cucumber/Projects/datasets/hcmus-iid-sku110k-yolo/train/images/e533c82697a81b206618de1e054b6adc.jpg: corrupt JPEG restored and saved\n",
      "\u001b[34m\u001b[1mtrain: \u001b[0mWARNING ⚠️ /Volumes/Cucumber/Projects/datasets/hcmus-iid-sku110k-yolo/train/images/e6c4ae380c16510494801612aaae1335.jpg: corrupt JPEG restored and saved\n",
      "\u001b[34m\u001b[1mtrain: \u001b[0mWARNING ⚠️ /Volumes/Cucumber/Projects/datasets/hcmus-iid-sku110k-yolo/train/images/e6cd3d7086fecc1b842961fb924acc75.jpg: corrupt JPEG restored and saved\n",
      "\u001b[34m\u001b[1mtrain: \u001b[0mWARNING ⚠️ /Volumes/Cucumber/Projects/datasets/hcmus-iid-sku110k-yolo/train/images/e7eebb34c8b6ddd7558f01300e6e6eb4.jpg: corrupt JPEG restored and saved\n",
      "\u001b[34m\u001b[1mtrain: \u001b[0mWARNING ⚠️ /Volumes/Cucumber/Projects/datasets/hcmus-iid-sku110k-yolo/train/images/e9fc61acf7d3e7773ddf7bff34643bf5.jpg: corrupt JPEG restored and saved\n",
      "\u001b[34m\u001b[1mtrain: \u001b[0mWARNING ⚠️ /Volumes/Cucumber/Projects/datasets/hcmus-iid-sku110k-yolo/train/images/ea2b97ab08e63e5236d27c48cb1dd592.jpg: corrupt JPEG restored and saved\n",
      "\u001b[34m\u001b[1mtrain: \u001b[0mWARNING ⚠️ /Volumes/Cucumber/Projects/datasets/hcmus-iid-sku110k-yolo/train/images/ebed399f56405ba599bd3da4cd0d780b.jpg: corrupt JPEG restored and saved\n",
      "\u001b[34m\u001b[1mtrain: \u001b[0mWARNING ⚠️ /Volumes/Cucumber/Projects/datasets/hcmus-iid-sku110k-yolo/train/images/ed0277e9ddb54aa0c58d6d32c4bb4bbe.jpg: corrupt JPEG restored and saved\n",
      "\u001b[34m\u001b[1mtrain: \u001b[0mWARNING ⚠️ /Volumes/Cucumber/Projects/datasets/hcmus-iid-sku110k-yolo/train/images/ed0e9911561dc7836da36dfb9a1f5e56.jpg: corrupt JPEG restored and saved\n",
      "\u001b[34m\u001b[1mtrain: \u001b[0mWARNING ⚠️ /Volumes/Cucumber/Projects/datasets/hcmus-iid-sku110k-yolo/train/images/ef2b57b745b64e7084eccfe890b956ca.jpg: corrupt JPEG restored and saved\n",
      "\u001b[34m\u001b[1mtrain: \u001b[0mWARNING ⚠️ /Volumes/Cucumber/Projects/datasets/hcmus-iid-sku110k-yolo/train/images/f0bcb870473d1cc1cb6fc3a233ae78ef.jpg: corrupt JPEG restored and saved\n",
      "\u001b[34m\u001b[1mtrain: \u001b[0mWARNING ⚠️ /Volumes/Cucumber/Projects/datasets/hcmus-iid-sku110k-yolo/train/images/f15d33e49079f5e139afde482d794b86.jpg: corrupt JPEG restored and saved\n",
      "\u001b[34m\u001b[1mtrain: \u001b[0mWARNING ⚠️ /Volumes/Cucumber/Projects/datasets/hcmus-iid-sku110k-yolo/train/images/f32f27c04803d643cc44c7448b083621.jpg: corrupt JPEG restored and saved\n",
      "\u001b[34m\u001b[1mtrain: \u001b[0mWARNING ⚠️ /Volumes/Cucumber/Projects/datasets/hcmus-iid-sku110k-yolo/train/images/f823af1af35b8d9738aac2287676e6fe.jpg: corrupt JPEG restored and saved\n",
      "\u001b[34m\u001b[1mtrain: \u001b[0mWARNING ⚠️ /Volumes/Cucumber/Projects/datasets/hcmus-iid-sku110k-yolo/train/images/f8f90929edda12474515150eda007e99.jpg: corrupt JPEG restored and saved\n",
      "\u001b[34m\u001b[1mtrain: \u001b[0mWARNING ⚠️ /Volumes/Cucumber/Projects/datasets/hcmus-iid-sku110k-yolo/train/images/f92c6ea8bebff6d2e967f9f2894c18de.jpg: corrupt JPEG restored and saved\n",
      "\u001b[34m\u001b[1mtrain: \u001b[0mWARNING ⚠️ /Volumes/Cucumber/Projects/datasets/hcmus-iid-sku110k-yolo/train/images/fa41dbc9a297bfd304b87be78d806d5c.jpg: corrupt JPEG restored and saved\n",
      "\u001b[34m\u001b[1mtrain: \u001b[0mWARNING ⚠️ /Volumes/Cucumber/Projects/datasets/hcmus-iid-sku110k-yolo/train/images/fab5a5aae0cf7568654b9b9c7cb14934.jpg: corrupt JPEG restored and saved\n",
      "\u001b[34m\u001b[1mtrain: \u001b[0mWARNING ⚠️ /Volumes/Cucumber/Projects/datasets/hcmus-iid-sku110k-yolo/train/images/fe3c67839b0cf28d78150791b657b2f2.jpg: corrupt JPEG restored and saved\n",
      "\u001b[34m\u001b[1mtrain: \u001b[0mWARNING ⚠️ /Volumes/Cucumber/Projects/datasets/hcmus-iid-sku110k-yolo/train/images/train_1158.jpg: corrupt JPEG restored and saved\n",
      "\u001b[34m\u001b[1mtrain: \u001b[0mWARNING ⚠️ /Volumes/Cucumber/Projects/datasets/hcmus-iid-sku110k-yolo/train/images/train_136.jpg: corrupt JPEG restored and saved\n",
      "\u001b[34m\u001b[1mtrain: \u001b[0mWARNING ⚠️ /Volumes/Cucumber/Projects/datasets/hcmus-iid-sku110k-yolo/train/images/train_1375.jpg: corrupt JPEG restored and saved\n",
      "\u001b[34m\u001b[1mtrain: \u001b[0mWARNING ⚠️ /Volumes/Cucumber/Projects/datasets/hcmus-iid-sku110k-yolo/train/images/train_1625.jpg: corrupt JPEG restored and saved\n",
      "\u001b[34m\u001b[1mtrain: \u001b[0mWARNING ⚠️ /Volumes/Cucumber/Projects/datasets/hcmus-iid-sku110k-yolo/train/images/train_2259.jpg: corrupt JPEG restored and saved\n",
      "\u001b[34m\u001b[1mtrain: \u001b[0mWARNING ⚠️ /Volumes/Cucumber/Projects/datasets/hcmus-iid-sku110k-yolo/train/images/train_2404.jpg: corrupt JPEG restored and saved\n",
      "\u001b[34m\u001b[1mtrain: \u001b[0mWARNING ⚠️ /Volumes/Cucumber/Projects/datasets/hcmus-iid-sku110k-yolo/train/images/train_2435.jpg: corrupt JPEG restored and saved\n",
      "\u001b[34m\u001b[1mtrain: \u001b[0mWARNING ⚠️ /Volumes/Cucumber/Projects/datasets/hcmus-iid-sku110k-yolo/train/images/train_2475.jpg: corrupt JPEG restored and saved\n",
      "\u001b[34m\u001b[1mtrain: \u001b[0mWARNING ⚠️ /Volumes/Cucumber/Projects/datasets/hcmus-iid-sku110k-yolo/train/images/train_255.jpg: corrupt JPEG restored and saved\n",
      "\u001b[34m\u001b[1mtrain: \u001b[0mWARNING ⚠️ /Volumes/Cucumber/Projects/datasets/hcmus-iid-sku110k-yolo/train/images/train_2804.jpg: corrupt JPEG restored and saved\n",
      "\u001b[34m\u001b[1mtrain: \u001b[0mWARNING ⚠️ /Volumes/Cucumber/Projects/datasets/hcmus-iid-sku110k-yolo/train/images/train_2862.jpg: corrupt JPEG restored and saved\n",
      "\u001b[34m\u001b[1mtrain: \u001b[0mWARNING ⚠️ /Volumes/Cucumber/Projects/datasets/hcmus-iid-sku110k-yolo/train/images/train_3175.jpg: corrupt JPEG restored and saved\n",
      "\u001b[34m\u001b[1mtrain: \u001b[0mWARNING ⚠️ /Volumes/Cucumber/Projects/datasets/hcmus-iid-sku110k-yolo/train/images/train_3489.jpg: corrupt JPEG restored and saved\n",
      "\u001b[34m\u001b[1mtrain: \u001b[0mWARNING ⚠️ /Volumes/Cucumber/Projects/datasets/hcmus-iid-sku110k-yolo/train/images/train_358.jpg: corrupt JPEG restored and saved\n",
      "\u001b[34m\u001b[1mtrain: \u001b[0mWARNING ⚠️ /Volumes/Cucumber/Projects/datasets/hcmus-iid-sku110k-yolo/train/images/train_367.jpg: corrupt JPEG restored and saved\n",
      "\u001b[34m\u001b[1mtrain: \u001b[0mWARNING ⚠️ /Volumes/Cucumber/Projects/datasets/hcmus-iid-sku110k-yolo/train/images/train_4261.jpg: corrupt JPEG restored and saved\n",
      "\u001b[34m\u001b[1mtrain: \u001b[0mWARNING ⚠️ /Volumes/Cucumber/Projects/datasets/hcmus-iid-sku110k-yolo/train/images/train_5.jpg: corrupt JPEG restored and saved\n",
      "\u001b[34m\u001b[1mtrain: \u001b[0mWARNING ⚠️ /Volumes/Cucumber/Projects/datasets/hcmus-iid-sku110k-yolo/train/images/train_5737.jpg: corrupt JPEG restored and saved\n",
      "\u001b[34m\u001b[1mtrain: \u001b[0mWARNING ⚠️ /Volumes/Cucumber/Projects/datasets/hcmus-iid-sku110k-yolo/train/images/train_610.jpg: corrupt JPEG restored and saved\n",
      "\u001b[34m\u001b[1mtrain: \u001b[0mWARNING ⚠️ /Volumes/Cucumber/Projects/datasets/hcmus-iid-sku110k-yolo/train/images/train_6105.jpg: corrupt JPEG restored and saved\n",
      "\u001b[34m\u001b[1mtrain: \u001b[0mWARNING ⚠️ /Volumes/Cucumber/Projects/datasets/hcmus-iid-sku110k-yolo/train/images/train_6541.jpg: corrupt JPEG restored and saved\n",
      "\u001b[34m\u001b[1mtrain: \u001b[0mWARNING ⚠️ /Volumes/Cucumber/Projects/datasets/hcmus-iid-sku110k-yolo/train/images/train_664.jpg: corrupt JPEG restored and saved\n",
      "\u001b[34m\u001b[1mtrain: \u001b[0mWARNING ⚠️ /Volumes/Cucumber/Projects/datasets/hcmus-iid-sku110k-yolo/train/images/train_667.jpg: corrupt JPEG restored and saved\n",
      "\u001b[34m\u001b[1mtrain: \u001b[0mWARNING ⚠️ /Volumes/Cucumber/Projects/datasets/hcmus-iid-sku110k-yolo/train/images/train_7143.jpg: corrupt JPEG restored and saved\n",
      "\u001b[34m\u001b[1mtrain: \u001b[0mWARNING ⚠️ /Volumes/Cucumber/Projects/datasets/hcmus-iid-sku110k-yolo/train/images/train_715.jpg: corrupt JPEG restored and saved\n",
      "\u001b[34m\u001b[1mtrain: \u001b[0mWARNING ⚠️ /Volumes/Cucumber/Projects/datasets/hcmus-iid-sku110k-yolo/train/images/train_7217.jpg: corrupt JPEG restored and saved\n",
      "\u001b[34m\u001b[1mtrain: \u001b[0mWARNING ⚠️ /Volumes/Cucumber/Projects/datasets/hcmus-iid-sku110k-yolo/train/images/train_7629.jpg: corrupt JPEG restored and saved\n",
      "\u001b[34m\u001b[1mtrain: \u001b[0mWARNING ⚠️ /Volumes/Cucumber/Projects/datasets/hcmus-iid-sku110k-yolo/train/images/train_8037.jpg: corrupt JPEG restored and saved\n",
      "\u001b[34m\u001b[1mtrain: \u001b[0mWARNING ⚠️ /Volumes/Cucumber/Projects/datasets/hcmus-iid-sku110k-yolo/train/images/train_8066.jpg: corrupt JPEG restored and saved\n"
     ]
    },
    {
     "name": "stderr",
     "output_type": "stream",
     "text": [
      "\n",
      "/Volumes/Cucumber/Projects/item-identification/.venv/lib/python3.9/site-packages/tqdm/auto.py:21: TqdmWarning: IProgress not found. Please update jupyter and ipywidgets. See https://ipywidgets.readthedocs.io/en/stable/user_install.html\n",
      "  from .autonotebook import tqdm as notebook_tqdm\n"
     ]
    },
    {
     "name": "stdout",
     "output_type": "stream",
     "text": [
      "\u001b[34m\u001b[1malbumentations: \u001b[0mBlur(p=0.01, blur_limit=(3, 7)), MedianBlur(p=0.01, blur_limit=(3, 7)), ToGray(p=0.01, method='weighted_average', num_output_channels=3), CLAHE(p=0.01, clip_limit=(1.0, 4.0), tile_grid_size=(8, 8))\n",
      "\u001b[34m\u001b[1mval: \u001b[0mFast image access ✅ (ping: 0.0±0.0 ms, read: 1220.0±613.2 MB/s, size: 1432.0 KB)\n"
     ]
    },
    {
     "name": "stderr",
     "output_type": "stream",
     "text": [
      "\u001b[34m\u001b[1mval: \u001b[0mScanning /Volumes/Cucumber/Projects/datasets/hcmus-iid-sku110k-yolo/val/labels.cache... 618 images, 0 backgrounds, 1 corrupt: 100%|██████████| 618/618 [00:00<?, ?it/s]"
     ]
    },
    {
     "name": "stdout",
     "output_type": "stream",
     "text": [
      "\u001b[34m\u001b[1mval: \u001b[0mWARNING ⚠️ /Volumes/Cucumber/Projects/datasets/hcmus-iid-sku110k-yolo/val/images/4c5ad252fd2313b52753659c8b59159d.jpeg: ignoring corrupt image/label: non-normalized or out of bounds coordinates [     1.2882]\n",
      "\u001b[34m\u001b[1mval: \u001b[0mWARNING ⚠️ /Volumes/Cucumber/Projects/datasets/hcmus-iid-sku110k-yolo/val/images/val_0.jpg: corrupt JPEG restored and saved\n",
      "\u001b[34m\u001b[1mval: \u001b[0mWARNING ⚠️ /Volumes/Cucumber/Projects/datasets/hcmus-iid-sku110k-yolo/val/images/val_115.jpg: corrupt JPEG restored and saved\n",
      "\u001b[34m\u001b[1mval: \u001b[0mWARNING ⚠️ /Volumes/Cucumber/Projects/datasets/hcmus-iid-sku110k-yolo/val/images/val_127.jpg: corrupt JPEG restored and saved\n",
      "\u001b[34m\u001b[1mval: \u001b[0mWARNING ⚠️ /Volumes/Cucumber/Projects/datasets/hcmus-iid-sku110k-yolo/val/images/val_166.jpg: corrupt JPEG restored and saved\n",
      "\u001b[34m\u001b[1mval: \u001b[0mWARNING ⚠️ /Volumes/Cucumber/Projects/datasets/hcmus-iid-sku110k-yolo/val/images/val_172.jpg: corrupt JPEG restored and saved\n",
      "\u001b[34m\u001b[1mval: \u001b[0mWARNING ⚠️ /Volumes/Cucumber/Projects/datasets/hcmus-iid-sku110k-yolo/val/images/val_190.jpg: corrupt JPEG restored and saved\n",
      "\u001b[34m\u001b[1mval: \u001b[0mWARNING ⚠️ /Volumes/Cucumber/Projects/datasets/hcmus-iid-sku110k-yolo/val/images/val_2.jpg: corrupt JPEG restored and saved\n",
      "\u001b[34m\u001b[1mval: \u001b[0mWARNING ⚠️ /Volumes/Cucumber/Projects/datasets/hcmus-iid-sku110k-yolo/val/images/val_209.jpg: corrupt JPEG restored and saved\n",
      "\u001b[34m\u001b[1mval: \u001b[0mWARNING ⚠️ /Volumes/Cucumber/Projects/datasets/hcmus-iid-sku110k-yolo/val/images/val_214.jpg: corrupt JPEG restored and saved\n",
      "\u001b[34m\u001b[1mval: \u001b[0mWARNING ⚠️ /Volumes/Cucumber/Projects/datasets/hcmus-iid-sku110k-yolo/val/images/val_223.jpg: corrupt JPEG restored and saved\n",
      "\u001b[34m\u001b[1mval: \u001b[0mWARNING ⚠️ /Volumes/Cucumber/Projects/datasets/hcmus-iid-sku110k-yolo/val/images/val_280.jpg: corrupt JPEG restored and saved\n",
      "\u001b[34m\u001b[1mval: \u001b[0mWARNING ⚠️ /Volumes/Cucumber/Projects/datasets/hcmus-iid-sku110k-yolo/val/images/val_290.jpg: corrupt JPEG restored and saved\n",
      "\u001b[34m\u001b[1mval: \u001b[0mWARNING ⚠️ /Volumes/Cucumber/Projects/datasets/hcmus-iid-sku110k-yolo/val/images/val_292.jpg: corrupt JPEG restored and saved\n",
      "\u001b[34m\u001b[1mval: \u001b[0mWARNING ⚠️ /Volumes/Cucumber/Projects/datasets/hcmus-iid-sku110k-yolo/val/images/val_295.jpg: corrupt JPEG restored and saved\n",
      "\u001b[34m\u001b[1mval: \u001b[0mWARNING ⚠️ /Volumes/Cucumber/Projects/datasets/hcmus-iid-sku110k-yolo/val/images/val_324.jpg: corrupt JPEG restored and saved\n",
      "\u001b[34m\u001b[1mval: \u001b[0mWARNING ⚠️ /Volumes/Cucumber/Projects/datasets/hcmus-iid-sku110k-yolo/val/images/val_332.jpg: corrupt JPEG restored and saved\n",
      "\u001b[34m\u001b[1mval: \u001b[0mWARNING ⚠️ /Volumes/Cucumber/Projects/datasets/hcmus-iid-sku110k-yolo/val/images/val_334.jpg: corrupt JPEG restored and saved\n",
      "\u001b[34m\u001b[1mval: \u001b[0mWARNING ⚠️ /Volumes/Cucumber/Projects/datasets/hcmus-iid-sku110k-yolo/val/images/val_394.jpg: corrupt JPEG restored and saved\n",
      "\u001b[34m\u001b[1mval: \u001b[0mWARNING ⚠️ /Volumes/Cucumber/Projects/datasets/hcmus-iid-sku110k-yolo/val/images/val_406.jpg: corrupt JPEG restored and saved\n",
      "\u001b[34m\u001b[1mval: \u001b[0mWARNING ⚠️ /Volumes/Cucumber/Projects/datasets/hcmus-iid-sku110k-yolo/val/images/val_413.jpg: corrupt JPEG restored and saved\n",
      "\u001b[34m\u001b[1mval: \u001b[0mWARNING ⚠️ /Volumes/Cucumber/Projects/datasets/hcmus-iid-sku110k-yolo/val/images/val_47.jpg: corrupt JPEG restored and saved\n",
      "\u001b[34m\u001b[1mval: \u001b[0mWARNING ⚠️ /Volumes/Cucumber/Projects/datasets/hcmus-iid-sku110k-yolo/val/images/val_471.jpg: corrupt JPEG restored and saved\n",
      "\u001b[34m\u001b[1mval: \u001b[0mWARNING ⚠️ /Volumes/Cucumber/Projects/datasets/hcmus-iid-sku110k-yolo/val/images/val_49.jpg: corrupt JPEG restored and saved\n",
      "\u001b[34m\u001b[1mval: \u001b[0mWARNING ⚠️ /Volumes/Cucumber/Projects/datasets/hcmus-iid-sku110k-yolo/val/images/val_510.jpg: corrupt JPEG restored and saved\n",
      "\u001b[34m\u001b[1mval: \u001b[0mWARNING ⚠️ /Volumes/Cucumber/Projects/datasets/hcmus-iid-sku110k-yolo/val/images/val_525.jpg: corrupt JPEG restored and saved\n",
      "\u001b[34m\u001b[1mval: \u001b[0mWARNING ⚠️ /Volumes/Cucumber/Projects/datasets/hcmus-iid-sku110k-yolo/val/images/val_547.jpg: corrupt JPEG restored and saved\n",
      "\u001b[34m\u001b[1mval: \u001b[0mWARNING ⚠️ /Volumes/Cucumber/Projects/datasets/hcmus-iid-sku110k-yolo/val/images/val_582.jpg: corrupt JPEG restored and saved\n",
      "\u001b[34m\u001b[1mval: \u001b[0mWARNING ⚠️ /Volumes/Cucumber/Projects/datasets/hcmus-iid-sku110k-yolo/val/images/val_72.jpg: corrupt JPEG restored and saved\n",
      "\u001b[34m\u001b[1mval: \u001b[0mWARNING ⚠️ /Volumes/Cucumber/Projects/datasets/hcmus-iid-sku110k-yolo/val/images/val_74.jpg: corrupt JPEG restored and saved\n",
      "\u001b[34m\u001b[1mval: \u001b[0mWARNING ⚠️ /Volumes/Cucumber/Projects/datasets/hcmus-iid-sku110k-yolo/val/images/val_82.jpg: corrupt JPEG restored and saved\n",
      "\u001b[34m\u001b[1mval: \u001b[0mWARNING ⚠️ /Volumes/Cucumber/Projects/datasets/hcmus-iid-sku110k-yolo/val/images/val_85.jpg: corrupt JPEG restored and saved\n",
      "\u001b[34m\u001b[1mval: \u001b[0mWARNING ⚠️ /Volumes/Cucumber/Projects/datasets/hcmus-iid-sku110k-yolo/val/images/val_89.jpg: corrupt JPEG restored and saved\n",
      "\u001b[34m\u001b[1mval: \u001b[0mWARNING ⚠️ /Volumes/Cucumber/Projects/datasets/hcmus-iid-sku110k-yolo/val/images/val_95.jpg: corrupt JPEG restored and saved\n",
      "Plotting labels to /Volumes/Cucumber/Projects/item-identification/runs/detect/yolov8-finetune23/labels.jpg... \n"
     ]
    },
    {
     "name": "stderr",
     "output_type": "stream",
     "text": [
      "\n"
     ]
    },
    {
     "name": "stdout",
     "output_type": "stream",
     "text": [
      "\u001b[34m\u001b[1moptimizer:\u001b[0m 'optimizer=auto' found, ignoring 'lr0=0.01' and 'momentum=0.937' and determining best 'optimizer', 'lr0' and 'momentum' automatically... \n",
      "\u001b[34m\u001b[1moptimizer:\u001b[0m AdamW(lr=4.5e-05, momentum=0.9) with parameter groups 57 weight(decay=0.0), 64 weight(decay=0.0005), 63 bias(decay=0.0)\n"
     ]
    },
    {
     "name": "stderr",
     "output_type": "stream",
     "text": [
      "2025/06/09 23:36:53 WARNING mlflow.utils.autologging_utils: MLflow keras autologging is known to be compatible with 3.0.2 <= keras <= 3.8.0, but the installed version is 3.9.2. If you encounter errors during autologging, try upgrading / downgrading keras to a compatible version, or try upgrading MLflow.\n",
      "2025/06/09 23:36:53 INFO mlflow.tracking.fluent: Autologging successfully enabled for keras.\n",
      "2025/06/09 23:36:54 INFO mlflow.tracking.fluent: Autologging successfully enabled for sklearn.\n",
      "2025/06/09 23:36:54 WARNING mlflow.utils.autologging_utils: MLflow tensorflow autologging is known to be compatible with 2.7.4 <= tensorflow <= 2.18.0, but the installed version is 2.18.1. If you encounter errors during autologging, try upgrading / downgrading tensorflow to a compatible version, or try upgrading MLflow.\n",
      "2025/06/09 23:36:54 INFO mlflow.tracking.fluent: Autologging successfully enabled for tensorflow.\n"
     ]
    },
    {
     "name": "stdout",
     "output_type": "stream",
     "text": [
      "\u001b[34m\u001b[1mMLflow: \u001b[0mlogging run_id(7ae84e1e706942c999eb73dff6cb3888) to http://jimica.ddns.net:5050\n",
      "\u001b[34m\u001b[1mMLflow: \u001b[0mdisable with 'yolo settings mlflow=False'\n",
      "\u001b[34m\u001b[1mTensorBoard: \u001b[0mmodel graph visualization added ✅\n",
      "Image sizes 640 train, 640 val\n",
      "Using 0 dataloader workers\n",
      "Logging results to \u001b[1m/Volumes/Cucumber/Projects/item-identification/runs/detect/yolov8-finetune23\u001b[0m\n",
      "Starting training for 32 epochs...\n",
      "\n",
      "      Epoch    GPU_mem   box_loss   cls_loss   dfl_loss  Instances       Size\n"
     ]
    },
    {
     "name": "stderr",
     "output_type": "stream",
     "text": [
      "       1/32         0G      1.679      4.089      1.299        443        640:  94%|█████████▍| 748/794 [22:08<01:19,  1.72s/it]Corrupt JPEG data: 102 extraneous bytes before marker 0xd9\n",
      "       1/32         0G      1.669      4.035      1.295          2        640: 100%|██████████| 794/794 [23:27<00:00,  1.77s/it]\n",
      "                 Class     Images  Instances      Box(P          R      mAP50  mAP50-95):   5%|▌         | 4/78 [00:05<01:36,  1.30s/it]Corrupt JPEG data: 786 extraneous bytes before marker 0xd9\n",
      "                 Class     Images  Instances      Box(P          R      mAP50  mAP50-95):  13%|█▎        | 10/78 [00:13<01:33,  1.38s/it]Corrupt JPEG data: 305 extraneous bytes before marker 0xd9\n",
      "                 Class     Images  Instances      Box(P          R      mAP50  mAP50-95):  29%|██▉       | 23/78 [00:30<01:08,  1.25s/it]Corrupt JPEG data: 366 extraneous bytes before marker 0xd9\n",
      "                 Class     Images  Instances      Box(P          R      mAP50  mAP50-95):  81%|████████  | 63/78 [01:18<00:18,  1.25s/it]Corrupt JPEG data: premature end of data segment\n",
      "                 Class     Images  Instances      Box(P          R      mAP50  mAP50-95): 100%|██████████| 78/78 [01:34<00:00,  1.21s/it]\n"
     ]
    },
    {
     "name": "stdout",
     "output_type": "stream",
     "text": [
      "                   all        617      91567     0.0184     0.0788     0.0279     0.0177\n",
      "\n",
      "      Epoch    GPU_mem   box_loss   cls_loss   dfl_loss  Instances       Size\n"
     ]
    },
    {
     "name": "stderr",
     "output_type": "stream",
     "text": [
      "       2/32         0G      1.475      2.681      1.213        206        640:  42%|████▏     | 331/794 [09:23<13:25,  1.74s/it]/Volumes/Cucumber/Projects/item-identification/.venv/lib/python3.9/site-packages/ultralytics/data/augment.py:1106: RuntimeWarning: divide by zero encountered in matmul\n",
      "  xy = xy @ M.T  # transform\n",
      "/Volumes/Cucumber/Projects/item-identification/.venv/lib/python3.9/site-packages/ultralytics/data/augment.py:1106: RuntimeWarning: overflow encountered in matmul\n",
      "  xy = xy @ M.T  # transform\n",
      "/Volumes/Cucumber/Projects/item-identification/.venv/lib/python3.9/site-packages/ultralytics/data/augment.py:1106: RuntimeWarning: invalid value encountered in matmul\n",
      "  xy = xy @ M.T  # transform\n",
      "       2/32         0G      1.449      2.688      1.204         67        640:  62%|██████▏   | 494/794 [13:58<08:11,  1.64s/it]Corrupt JPEG data: 102 extraneous bytes before marker 0xd9\n",
      "       2/32         0G      1.423       2.67      1.197          2        640: 100%|██████████| 794/794 [22:14<00:00,  1.68s/it]\n",
      "                 Class     Images  Instances      Box(P          R      mAP50  mAP50-95):   5%|▌         | 4/78 [00:04<01:31,  1.24s/it]Corrupt JPEG data: 786 extraneous bytes before marker 0xd9\n",
      "                 Class     Images  Instances      Box(P          R      mAP50  mAP50-95):  13%|█▎        | 10/78 [00:13<01:31,  1.34s/it]Corrupt JPEG data: 305 extraneous bytes before marker 0xd9\n",
      "                 Class     Images  Instances      Box(P          R      mAP50  mAP50-95):  29%|██▉       | 23/78 [00:29<01:05,  1.20s/it]Corrupt JPEG data: 366 extraneous bytes before marker 0xd9\n",
      "                 Class     Images  Instances      Box(P          R      mAP50  mAP50-95):  81%|████████  | 63/78 [01:16<00:18,  1.21s/it]Corrupt JPEG data: premature end of data segment\n",
      "                 Class     Images  Instances      Box(P          R      mAP50  mAP50-95): 100%|██████████| 78/78 [01:31<00:00,  1.18s/it]\n"
     ]
    },
    {
     "name": "stdout",
     "output_type": "stream",
     "text": [
      "                   all        617      91567     0.0188      0.108     0.0351     0.0238\n",
      "\n",
      "      Epoch    GPU_mem   box_loss   cls_loss   dfl_loss  Instances       Size\n"
     ]
    },
    {
     "name": "stderr",
     "output_type": "stream",
     "text": [
      "       3/32         0G      1.439       2.41      1.183         48        640:  21%|██        | 164/794 [04:29<16:43,  1.59s/it]/Volumes/Cucumber/Projects/item-identification/.venv/lib/python3.9/site-packages/ultralytics/data/augment.py:1106: RuntimeWarning: divide by zero encountered in matmul\n",
      "  xy = xy @ M.T  # transform\n",
      "/Volumes/Cucumber/Projects/item-identification/.venv/lib/python3.9/site-packages/ultralytics/data/augment.py:1106: RuntimeWarning: overflow encountered in matmul\n",
      "  xy = xy @ M.T  # transform\n",
      "/Volumes/Cucumber/Projects/item-identification/.venv/lib/python3.9/site-packages/ultralytics/data/augment.py:1106: RuntimeWarning: invalid value encountered in matmul\n",
      "  xy = xy @ M.T  # transform\n",
      "       3/32         0G      1.377      2.242      1.149        379        640:  87%|████████▋ | 693/794 [19:03<02:48,  1.66s/it]Corrupt JPEG data: 102 extraneous bytes before marker 0xd9\n",
      "       3/32         0G      1.381      2.201      1.146          2        640: 100%|██████████| 794/794 [21:56<00:00,  1.66s/it]\n",
      "                 Class     Images  Instances      Box(P          R      mAP50  mAP50-95):   5%|▌         | 4/78 [00:05<01:37,  1.32s/it]Corrupt JPEG data: 786 extraneous bytes before marker 0xd9\n",
      "                 Class     Images  Instances      Box(P          R      mAP50  mAP50-95):  13%|█▎        | 10/78 [00:14<01:40,  1.48s/it]Corrupt JPEG data: 305 extraneous bytes before marker 0xd9\n",
      "                 Class     Images  Instances      Box(P          R      mAP50  mAP50-95):  29%|██▉       | 23/78 [00:30<01:06,  1.21s/it]Corrupt JPEG data: 366 extraneous bytes before marker 0xd9\n",
      "                 Class     Images  Instances      Box(P          R      mAP50  mAP50-95):  81%|████████  | 63/78 [01:18<00:18,  1.22s/it]Corrupt JPEG data: premature end of data segment\n",
      "                 Class     Images  Instances      Box(P          R      mAP50  mAP50-95): 100%|██████████| 78/78 [01:33<00:00,  1.19s/it]\n"
     ]
    },
    {
     "name": "stdout",
     "output_type": "stream",
     "text": [
      "                   all        617      91567     0.0421     0.0759     0.0574     0.0397\n",
      "\n",
      "      Epoch    GPU_mem   box_loss   cls_loss   dfl_loss  Instances       Size\n"
     ]
    },
    {
     "name": "stderr",
     "output_type": "stream",
     "text": [
      "       4/32         0G      1.347      2.018      1.122        393        640:  35%|███▌      | 280/794 [07:43<14:22,  1.68s/it]Corrupt JPEG data: 102 extraneous bytes before marker 0xd9\n",
      "       4/32         0G      1.353          2      1.122         17        640: 100%|██████████| 794/794 [22:00<00:00,  1.66s/it]\n",
      "                 Class     Images  Instances      Box(P          R      mAP50  mAP50-95):   5%|▌         | 4/78 [00:05<01:32,  1.25s/it]Corrupt JPEG data: 786 extraneous bytes before marker 0xd9\n",
      "                 Class     Images  Instances      Box(P          R      mAP50  mAP50-95):  13%|█▎        | 10/78 [00:13<01:32,  1.35s/it]Corrupt JPEG data: 305 extraneous bytes before marker 0xd9\n",
      "                 Class     Images  Instances      Box(P          R      mAP50  mAP50-95):  29%|██▉       | 23/78 [00:29<01:06,  1.21s/it]Corrupt JPEG data: 366 extraneous bytes before marker 0xd9\n",
      "                 Class     Images  Instances      Box(P          R      mAP50  mAP50-95):  81%|████████  | 63/78 [01:17<00:18,  1.22s/it]Corrupt JPEG data: premature end of data segment\n",
      "                 Class     Images  Instances      Box(P          R      mAP50  mAP50-95): 100%|██████████| 78/78 [01:32<00:00,  1.19s/it]\n"
     ]
    },
    {
     "name": "stdout",
     "output_type": "stream",
     "text": [
      "                   all        617      91567     0.0238     0.0591     0.0315     0.0171\n",
      "\n",
      "      Epoch    GPU_mem   box_loss   cls_loss   dfl_loss  Instances       Size\n"
     ]
    },
    {
     "name": "stderr",
     "output_type": "stream",
     "text": [
      "       5/32         0G      1.298      1.861      1.101         19        640:  93%|█████████▎| 735/794 [20:17<01:36,  1.64s/it]Corrupt JPEG data: 102 extraneous bytes before marker 0xd9\n",
      "       5/32         0G      1.295      1.867        1.1         10        640: 100%|██████████| 794/794 [21:54<00:00,  1.66s/it]\n",
      "                 Class     Images  Instances      Box(P          R      mAP50  mAP50-95):   5%|▌         | 4/78 [00:04<01:32,  1.25s/it]Corrupt JPEG data: 786 extraneous bytes before marker 0xd9\n",
      "                 Class     Images  Instances      Box(P          R      mAP50  mAP50-95):  13%|█▎        | 10/78 [00:13<01:32,  1.36s/it]Corrupt JPEG data: 305 extraneous bytes before marker 0xd9\n",
      "                 Class     Images  Instances      Box(P          R      mAP50  mAP50-95):  29%|██▉       | 23/78 [00:29<01:05,  1.19s/it]Corrupt JPEG data: 366 extraneous bytes before marker 0xd9\n",
      "                 Class     Images  Instances      Box(P          R      mAP50  mAP50-95):  81%|████████  | 63/78 [01:16<00:17,  1.19s/it]Corrupt JPEG data: premature end of data segment\n",
      "                 Class     Images  Instances      Box(P          R      mAP50  mAP50-95): 100%|██████████| 78/78 [01:31<00:00,  1.17s/it]\n"
     ]
    },
    {
     "name": "stdout",
     "output_type": "stream",
     "text": [
      "                   all        617      91567     0.0255      0.057      0.033     0.0199\n",
      "\n",
      "      Epoch    GPU_mem   box_loss   cls_loss   dfl_loss  Instances       Size\n"
     ]
    },
    {
     "name": "stderr",
     "output_type": "stream",
     "text": [
      "       6/32         0G      1.266      1.737      1.108         11        640:  13%|█▎        | 104/794 [02:52<19:21,  1.68s/it]Corrupt JPEG data: 102 extraneous bytes before marker 0xd9\n",
      "       6/32         0G      1.287      1.768      1.097          1        640: 100%|██████████| 794/794 [22:03<00:00,  1.67s/it]\n",
      "                 Class     Images  Instances      Box(P          R      mAP50  mAP50-95):   5%|▌         | 4/78 [00:05<01:32,  1.25s/it]Corrupt JPEG data: 786 extraneous bytes before marker 0xd9\n",
      "                 Class     Images  Instances      Box(P          R      mAP50  mAP50-95):  13%|█▎        | 10/78 [00:13<01:30,  1.33s/it]Corrupt JPEG data: 305 extraneous bytes before marker 0xd9\n",
      "                 Class     Images  Instances      Box(P          R      mAP50  mAP50-95):  29%|██▉       | 23/78 [00:29<01:05,  1.20s/it]Corrupt JPEG data: 366 extraneous bytes before marker 0xd9\n",
      "                 Class     Images  Instances      Box(P          R      mAP50  mAP50-95):  81%|████████  | 63/78 [01:16<00:18,  1.21s/it]Corrupt JPEG data: premature end of data segment\n",
      "                 Class     Images  Instances      Box(P          R      mAP50  mAP50-95): 100%|██████████| 78/78 [01:31<00:00,  1.17s/it]\n"
     ]
    },
    {
     "name": "stdout",
     "output_type": "stream",
     "text": [
      "                   all        617      91567     0.0418     0.0593     0.0504     0.0355\n",
      "\n",
      "      Epoch    GPU_mem   box_loss   cls_loss   dfl_loss  Instances       Size\n"
     ]
    },
    {
     "name": "stderr",
     "output_type": "stream",
     "text": [
      "       7/32         0G      1.224      1.686      1.083        208        640:  39%|███▉      | 311/794 [08:34<13:19,  1.65s/it]Corrupt JPEG data: 102 extraneous bytes before marker 0xd9\n",
      "       7/32         0G      1.281      1.635      1.092          2        640: 100%|██████████| 794/794 [21:53<00:00,  1.65s/it]\n",
      "                 Class     Images  Instances      Box(P          R      mAP50  mAP50-95):   5%|▌         | 4/78 [00:05<01:32,  1.25s/it]Corrupt JPEG data: 786 extraneous bytes before marker 0xd9\n",
      "                 Class     Images  Instances      Box(P          R      mAP50  mAP50-95):  13%|█▎        | 10/78 [00:13<01:30,  1.34s/it]Corrupt JPEG data: 305 extraneous bytes before marker 0xd9\n",
      "                 Class     Images  Instances      Box(P          R      mAP50  mAP50-95):  29%|██▉       | 23/78 [00:29<01:06,  1.21s/it]Corrupt JPEG data: 366 extraneous bytes before marker 0xd9\n",
      "                 Class     Images  Instances      Box(P          R      mAP50  mAP50-95):  81%|████████  | 63/78 [01:16<00:18,  1.22s/it]Corrupt JPEG data: premature end of data segment\n",
      "                 Class     Images  Instances      Box(P          R      mAP50  mAP50-95): 100%|██████████| 78/78 [01:32<00:00,  1.18s/it]\n"
     ]
    },
    {
     "name": "stdout",
     "output_type": "stream",
     "text": [
      "                   all        617      91567     0.0419     0.0751     0.0448      0.032\n",
      "\n",
      "      Epoch    GPU_mem   box_loss   cls_loss   dfl_loss  Instances       Size\n"
     ]
    },
    {
     "name": "stderr",
     "output_type": "stream",
     "text": [
      "       8/32         0G      1.257      1.585      1.076        242        640:  98%|█████████▊| 781/794 [21:26<00:20,  1.59s/it]Corrupt JPEG data: 102 extraneous bytes before marker 0xd9\n",
      "       8/32         0G      1.259      1.589      1.076          4        640: 100%|██████████| 794/794 [21:46<00:00,  1.65s/it]\n",
      "                 Class     Images  Instances      Box(P          R      mAP50  mAP50-95):   5%|▌         | 4/78 [00:04<01:31,  1.24s/it]Corrupt JPEG data: 786 extraneous bytes before marker 0xd9\n",
      "                 Class     Images  Instances      Box(P          R      mAP50  mAP50-95):  13%|█▎        | 10/78 [00:13<01:31,  1.34s/it]Corrupt JPEG data: 305 extraneous bytes before marker 0xd9\n",
      "                 Class     Images  Instances      Box(P          R      mAP50  mAP50-95):  29%|██▉       | 23/78 [00:29<01:05,  1.20s/it]Corrupt JPEG data: 366 extraneous bytes before marker 0xd9\n",
      "                 Class     Images  Instances      Box(P          R      mAP50  mAP50-95):  81%|████████  | 63/78 [01:16<00:19,  1.27s/it]Corrupt JPEG data: premature end of data segment\n",
      "                 Class     Images  Instances      Box(P          R      mAP50  mAP50-95): 100%|██████████| 78/78 [01:33<00:00,  1.19s/it]"
     ]
    },
    {
     "name": "stdout",
     "output_type": "stream",
     "text": [
      "                   all        617      91567     0.0312     0.0518     0.0358     0.0238\n"
     ]
    },
    {
     "name": "stderr",
     "output_type": "stream",
     "text": [
      "\n"
     ]
    },
    {
     "name": "stdout",
     "output_type": "stream",
     "text": [
      "\n",
      "      Epoch    GPU_mem   box_loss   cls_loss   dfl_loss  Instances       Size\n"
     ]
    },
    {
     "name": "stderr",
     "output_type": "stream",
     "text": [
      "       9/32         0G      1.273      1.453      1.062        110        640:  63%|██████▎   | 502/794 [13:49<07:47,  1.60s/it]Corrupt JPEG data: 102 extraneous bytes before marker 0xd9\n",
      "       9/32         0G      1.249      1.507      1.067          2        640: 100%|██████████| 794/794 [21:45<00:00,  1.64s/it]\n",
      "                 Class     Images  Instances      Box(P          R      mAP50  mAP50-95):   5%|▌         | 4/78 [00:05<01:33,  1.26s/it]Corrupt JPEG data: 786 extraneous bytes before marker 0xd9\n",
      "                 Class     Images  Instances      Box(P          R      mAP50  mAP50-95):  13%|█▎        | 10/78 [00:13<01:32,  1.36s/it]Corrupt JPEG data: 305 extraneous bytes before marker 0xd9\n",
      "                 Class     Images  Instances      Box(P          R      mAP50  mAP50-95):  29%|██▉       | 23/78 [00:29<01:06,  1.21s/it]Corrupt JPEG data: 366 extraneous bytes before marker 0xd9\n",
      "                 Class     Images  Instances      Box(P          R      mAP50  mAP50-95):  81%|████████  | 63/78 [01:17<00:18,  1.23s/it]Corrupt JPEG data: premature end of data segment\n",
      "                 Class     Images  Instances      Box(P          R      mAP50  mAP50-95): 100%|██████████| 78/78 [01:32<00:00,  1.18s/it]"
     ]
    },
    {
     "name": "stdout",
     "output_type": "stream",
     "text": [
      "                   all        617      91567     0.0339     0.0919     0.0496     0.0343\n"
     ]
    },
    {
     "name": "stderr",
     "output_type": "stream",
     "text": [
      "\n"
     ]
    },
    {
     "name": "stdout",
     "output_type": "stream",
     "text": [
      "\n",
      "      Epoch    GPU_mem   box_loss   cls_loss   dfl_loss  Instances       Size\n"
     ]
    },
    {
     "name": "stderr",
     "output_type": "stream",
     "text": [
      "      10/32         0G      1.232      1.443      1.063        138        640:  95%|█████████▌| 758/794 [20:50<00:59,  1.66s/it]Corrupt JPEG data: 102 extraneous bytes before marker 0xd9\n",
      "      10/32         0G       1.23       1.45      1.063          5        640: 100%|██████████| 794/794 [21:48<00:00,  1.65s/it]\n",
      "                 Class     Images  Instances      Box(P          R      mAP50  mAP50-95):   5%|▌         | 4/78 [00:05<01:33,  1.27s/it]Corrupt JPEG data: 786 extraneous bytes before marker 0xd9\n",
      "                 Class     Images  Instances      Box(P          R      mAP50  mAP50-95):  13%|█▎        | 10/78 [00:13<01:31,  1.35s/it]Corrupt JPEG data: 305 extraneous bytes before marker 0xd9\n",
      "                 Class     Images  Instances      Box(P          R      mAP50  mAP50-95):  29%|██▉       | 23/78 [00:29<01:06,  1.21s/it]Corrupt JPEG data: 366 extraneous bytes before marker 0xd9\n",
      "                 Class     Images  Instances      Box(P          R      mAP50  mAP50-95):  81%|████████  | 63/78 [01:16<00:18,  1.21s/it]Corrupt JPEG data: premature end of data segment\n",
      "                 Class     Images  Instances      Box(P          R      mAP50  mAP50-95): 100%|██████████| 78/78 [01:31<00:00,  1.18s/it]"
     ]
    },
    {
     "name": "stdout",
     "output_type": "stream",
     "text": [
      "                   all        617      91567     0.0265     0.0434     0.0319     0.0205\n"
     ]
    },
    {
     "name": "stderr",
     "output_type": "stream",
     "text": [
      "\n"
     ]
    },
    {
     "name": "stdout",
     "output_type": "stream",
     "text": [
      "\n",
      "      Epoch    GPU_mem   box_loss   cls_loss   dfl_loss  Instances       Size\n"
     ]
    },
    {
     "name": "stderr",
     "output_type": "stream",
     "text": [
      "      11/32         0G      1.224      1.471      1.027         72        640:   3%|▎         | 24/794 [00:39<20:13,  1.58s/it]Corrupt JPEG data: 102 extraneous bytes before marker 0xd9\n",
      "      11/32         0G      1.206      1.476      1.069          1        640: 100%|██████████| 794/794 [21:52<00:00,  1.65s/it]\n",
      "                 Class     Images  Instances      Box(P          R      mAP50  mAP50-95):   5%|▌         | 4/78 [00:04<01:32,  1.25s/it]Corrupt JPEG data: 786 extraneous bytes before marker 0xd9\n",
      "                 Class     Images  Instances      Box(P          R      mAP50  mAP50-95):  13%|█▎        | 10/78 [00:13<01:30,  1.34s/it]Corrupt JPEG data: 305 extraneous bytes before marker 0xd9\n",
      "                 Class     Images  Instances      Box(P          R      mAP50  mAP50-95):  29%|██▉       | 23/78 [00:29<01:06,  1.21s/it]Corrupt JPEG data: 366 extraneous bytes before marker 0xd9\n",
      "                 Class     Images  Instances      Box(P          R      mAP50  mAP50-95):  81%|████████  | 63/78 [01:16<00:18,  1.22s/it]Corrupt JPEG data: premature end of data segment\n",
      "                 Class     Images  Instances      Box(P          R      mAP50  mAP50-95): 100%|██████████| 78/78 [01:32<00:00,  1.18s/it]\n"
     ]
    },
    {
     "name": "stdout",
     "output_type": "stream",
     "text": [
      "                   all        617      91567     0.0452     0.0778     0.0492     0.0336\n",
      "\n",
      "      Epoch    GPU_mem   box_loss   cls_loss   dfl_loss  Instances       Size\n"
     ]
    },
    {
     "name": "stderr",
     "output_type": "stream",
     "text": [
      "      12/32         0G      1.224       1.37      1.056         68        640:  60%|█████▉    | 475/794 [13:03<08:29,  1.60s/it]Corrupt JPEG data: 102 extraneous bytes before marker 0xd9\n",
      "      12/32         0G      1.215      1.371      1.057         35        640: 100%|██████████| 794/794 [21:44<00:00,  1.64s/it]\n",
      "                 Class     Images  Instances      Box(P          R      mAP50  mAP50-95):   5%|▌         | 4/78 [00:04<01:31,  1.23s/it]Corrupt JPEG data: 786 extraneous bytes before marker 0xd9\n",
      "                 Class     Images  Instances      Box(P          R      mAP50  mAP50-95):  13%|█▎        | 10/78 [00:13<01:31,  1.34s/it]Corrupt JPEG data: 305 extraneous bytes before marker 0xd9\n",
      "                 Class     Images  Instances      Box(P          R      mAP50  mAP50-95):  29%|██▉       | 23/78 [00:29<01:05,  1.20s/it]Corrupt JPEG data: 366 extraneous bytes before marker 0xd9\n",
      "                 Class     Images  Instances      Box(P          R      mAP50  mAP50-95):  81%|████████  | 63/78 [01:16<00:18,  1.21s/it]Corrupt JPEG data: premature end of data segment\n",
      "                 Class     Images  Instances      Box(P          R      mAP50  mAP50-95): 100%|██████████| 78/78 [01:31<00:00,  1.17s/it]"
     ]
    },
    {
     "name": "stdout",
     "output_type": "stream",
     "text": [
      "                   all        617      91567     0.0554     0.0976     0.0616     0.0429\n"
     ]
    },
    {
     "name": "stderr",
     "output_type": "stream",
     "text": [
      "\n"
     ]
    },
    {
     "name": "stdout",
     "output_type": "stream",
     "text": [
      "\n",
      "      Epoch    GPU_mem   box_loss   cls_loss   dfl_loss  Instances       Size\n"
     ]
    },
    {
     "name": "stderr",
     "output_type": "stream",
     "text": [
      "      13/32         0G      1.233      1.345      1.061        494        640:  94%|█████████▍| 745/794 [20:29<01:25,  1.74s/it]Corrupt JPEG data: 102 extraneous bytes before marker 0xd9\n",
      "      13/32         0G      1.235      1.339      1.061          2        640: 100%|██████████| 794/794 [21:49<00:00,  1.65s/it]\n",
      "                 Class     Images  Instances      Box(P          R      mAP50  mAP50-95):   5%|▌         | 4/78 [00:04<01:32,  1.25s/it]Corrupt JPEG data: 786 extraneous bytes before marker 0xd9\n",
      "                 Class     Images  Instances      Box(P          R      mAP50  mAP50-95):  13%|█▎        | 10/78 [00:13<01:31,  1.34s/it]Corrupt JPEG data: 305 extraneous bytes before marker 0xd9\n",
      "                 Class     Images  Instances      Box(P          R      mAP50  mAP50-95):  29%|██▉       | 23/78 [00:29<01:05,  1.19s/it]Corrupt JPEG data: 366 extraneous bytes before marker 0xd9\n",
      "                 Class     Images  Instances      Box(P          R      mAP50  mAP50-95):  81%|████████  | 63/78 [01:16<00:18,  1.21s/it]Corrupt JPEG data: premature end of data segment\n",
      "                 Class     Images  Instances      Box(P          R      mAP50  mAP50-95): 100%|██████████| 78/78 [01:31<00:00,  1.17s/it]\n"
     ]
    },
    {
     "name": "stdout",
     "output_type": "stream",
     "text": [
      "                   all        617      91567     0.0635     0.0647     0.0654     0.0469\n",
      "\n",
      "      Epoch    GPU_mem   box_loss   cls_loss   dfl_loss  Instances       Size\n"
     ]
    },
    {
     "name": "stderr",
     "output_type": "stream",
     "text": [
      "      14/32         0G       1.21      1.261      1.059          7        640:  19%|█▉        | 154/794 [04:22<17:26,  1.64s/it]Corrupt JPEG data: 102 extraneous bytes before marker 0xd9\n",
      "      14/32         0G      1.201      1.289      1.051          2        640: 100%|██████████| 794/794 [21:47<00:00,  1.65s/it]\n",
      "                 Class     Images  Instances      Box(P          R      mAP50  mAP50-95):   5%|▌         | 4/78 [00:04<01:28,  1.20s/it]Corrupt JPEG data: 786 extraneous bytes before marker 0xd9\n",
      "                 Class     Images  Instances      Box(P          R      mAP50  mAP50-95):  13%|█▎        | 10/78 [00:12<01:31,  1.34s/it]Corrupt JPEG data: 305 extraneous bytes before marker 0xd9\n",
      "                 Class     Images  Instances      Box(P          R      mAP50  mAP50-95):  29%|██▉       | 23/78 [00:29<01:06,  1.20s/it]Corrupt JPEG data: 366 extraneous bytes before marker 0xd9\n",
      "                 Class     Images  Instances      Box(P          R      mAP50  mAP50-95):  81%|████████  | 63/78 [01:16<00:18,  1.21s/it]Corrupt JPEG data: premature end of data segment\n",
      "                 Class     Images  Instances      Box(P          R      mAP50  mAP50-95): 100%|██████████| 78/78 [01:31<00:00,  1.17s/it]\n"
     ]
    },
    {
     "name": "stdout",
     "output_type": "stream",
     "text": [
      "                   all        617      91567     0.0728     0.0676     0.0693     0.0554\n",
      "\n",
      "      Epoch    GPU_mem   box_loss   cls_loss   dfl_loss  Instances       Size\n"
     ]
    },
    {
     "name": "stderr",
     "output_type": "stream",
     "text": [
      "      15/32         0G      1.155      1.188      1.024          9        640:  27%|██▋       | 215/794 [05:50<15:25,  1.60s/it]Corrupt JPEG data: 102 extraneous bytes before marker 0xd9\n",
      "      15/32         0G      1.195      1.242      1.039          4        640: 100%|██████████| 794/794 [21:37<00:00,  1.63s/it]\n",
      "                 Class     Images  Instances      Box(P          R      mAP50  mAP50-95):   5%|▌         | 4/78 [00:04<01:32,  1.24s/it]Corrupt JPEG data: 786 extraneous bytes before marker 0xd9\n",
      "                 Class     Images  Instances      Box(P          R      mAP50  mAP50-95):  13%|█▎        | 10/78 [00:12<01:29,  1.32s/it]Corrupt JPEG data: 305 extraneous bytes before marker 0xd9\n",
      "                 Class     Images  Instances      Box(P          R      mAP50  mAP50-95):  29%|██▉       | 23/78 [00:29<01:06,  1.21s/it]Corrupt JPEG data: 366 extraneous bytes before marker 0xd9\n",
      "                 Class     Images  Instances      Box(P          R      mAP50  mAP50-95):  81%|████████  | 63/78 [01:16<00:18,  1.23s/it]Corrupt JPEG data: premature end of data segment\n",
      "                 Class     Images  Instances      Box(P          R      mAP50  mAP50-95): 100%|██████████| 78/78 [01:31<00:00,  1.17s/it]\n"
     ]
    },
    {
     "name": "stdout",
     "output_type": "stream",
     "text": [
      "                   all        617      91567     0.0669     0.0766     0.0632     0.0444\n",
      "\n",
      "      Epoch    GPU_mem   box_loss   cls_loss   dfl_loss  Instances       Size\n"
     ]
    },
    {
     "name": "stderr",
     "output_type": "stream",
     "text": [
      "      16/32         0G      1.223      1.203      1.052        188        640:  39%|███▉      | 309/794 [08:26<14:29,  1.79s/it]Corrupt JPEG data: 102 extraneous bytes before marker 0xd9\n",
      "      16/32         0G      1.211      1.205      1.043          2        640: 100%|██████████| 794/794 [21:46<00:00,  1.65s/it]\n",
      "                 Class     Images  Instances      Box(P          R      mAP50  mAP50-95):   5%|▌         | 4/78 [00:04<01:31,  1.24s/it]Corrupt JPEG data: 786 extraneous bytes before marker 0xd9\n",
      "                 Class     Images  Instances      Box(P          R      mAP50  mAP50-95):  13%|█▎        | 10/78 [00:12<01:30,  1.33s/it]Corrupt JPEG data: 305 extraneous bytes before marker 0xd9\n",
      "                 Class     Images  Instances      Box(P          R      mAP50  mAP50-95):  29%|██▉       | 23/78 [00:29<01:04,  1.18s/it]Corrupt JPEG data: 366 extraneous bytes before marker 0xd9\n",
      "                 Class     Images  Instances      Box(P          R      mAP50  mAP50-95):  81%|████████  | 63/78 [01:15<00:18,  1.20s/it]Corrupt JPEG data: premature end of data segment\n",
      "                 Class     Images  Instances      Box(P          R      mAP50  mAP50-95): 100%|██████████| 78/78 [01:30<00:00,  1.16s/it]\n"
     ]
    },
    {
     "name": "stdout",
     "output_type": "stream",
     "text": [
      "                   all        617      91567     0.0622     0.0759     0.0669     0.0505\n",
      "\n",
      "      Epoch    GPU_mem   box_loss   cls_loss   dfl_loss  Instances       Size\n"
     ]
    },
    {
     "name": "stderr",
     "output_type": "stream",
     "text": [
      "      17/32         0G      1.205      1.186      1.044         10        640:  64%|██████▎   | 505/794 [13:45<07:32,  1.57s/it]Corrupt JPEG data: 102 extraneous bytes before marker 0xd9\n",
      "      17/32         0G      1.202      1.184       1.04          4        640: 100%|██████████| 794/794 [21:39<00:00,  1.64s/it]\n",
      "                 Class     Images  Instances      Box(P          R      mAP50  mAP50-95):   5%|▌         | 4/78 [00:04<01:31,  1.24s/it]Corrupt JPEG data: 786 extraneous bytes before marker 0xd9\n",
      "                 Class     Images  Instances      Box(P          R      mAP50  mAP50-95):  13%|█▎        | 10/78 [00:12<01:30,  1.32s/it]Corrupt JPEG data: 305 extraneous bytes before marker 0xd9\n",
      "                 Class     Images  Instances      Box(P          R      mAP50  mAP50-95):  29%|██▉       | 23/78 [00:29<01:06,  1.21s/it]Corrupt JPEG data: 366 extraneous bytes before marker 0xd9\n",
      "                 Class     Images  Instances      Box(P          R      mAP50  mAP50-95):  81%|████████  | 63/78 [01:16<00:18,  1.22s/it]Corrupt JPEG data: premature end of data segment\n",
      "                 Class     Images  Instances      Box(P          R      mAP50  mAP50-95): 100%|██████████| 78/78 [01:31<00:00,  1.17s/it]"
     ]
    },
    {
     "name": "stdout",
     "output_type": "stream",
     "text": [
      "                   all        617      91567     0.0523      0.074     0.0612      0.043\n"
     ]
    },
    {
     "name": "stderr",
     "output_type": "stream",
     "text": [
      "\n"
     ]
    },
    {
     "name": "stdout",
     "output_type": "stream",
     "text": [
      "\n",
      "      Epoch    GPU_mem   box_loss   cls_loss   dfl_loss  Instances       Size\n"
     ]
    },
    {
     "name": "stderr",
     "output_type": "stream",
     "text": [
      "      18/32         0G      1.225      1.101      1.031         12        640:  51%|█████     | 404/794 [10:59<10:26,  1.61s/it]Corrupt JPEG data: 102 extraneous bytes before marker 0xd9\n",
      "      18/32         0G        1.2      1.149      1.039          4        640: 100%|██████████| 794/794 [21:34<00:00,  1.63s/it]\n",
      "                 Class     Images  Instances      Box(P          R      mAP50  mAP50-95):   5%|▌         | 4/78 [00:04<01:31,  1.23s/it]Corrupt JPEG data: 786 extraneous bytes before marker 0xd9\n",
      "                 Class     Images  Instances      Box(P          R      mAP50  mAP50-95):  13%|█▎        | 10/78 [00:13<01:30,  1.33s/it]Corrupt JPEG data: 305 extraneous bytes before marker 0xd9\n",
      "                 Class     Images  Instances      Box(P          R      mAP50  mAP50-95):  29%|██▉       | 23/78 [00:29<01:05,  1.20s/it]Corrupt JPEG data: 366 extraneous bytes before marker 0xd9\n",
      "                 Class     Images  Instances      Box(P          R      mAP50  mAP50-95):  81%|████████  | 63/78 [01:16<00:18,  1.22s/it]Corrupt JPEG data: premature end of data segment\n",
      "                 Class     Images  Instances      Box(P          R      mAP50  mAP50-95): 100%|██████████| 78/78 [01:31<00:00,  1.18s/it]\n"
     ]
    },
    {
     "name": "stdout",
     "output_type": "stream",
     "text": [
      "                   all        617      91567     0.0678     0.0757     0.0628      0.048\n",
      "\n",
      "      Epoch    GPU_mem   box_loss   cls_loss   dfl_loss  Instances       Size\n"
     ]
    },
    {
     "name": "stderr",
     "output_type": "stream",
     "text": [
      "      19/32         0G      1.158      1.109       1.03         87        640:  44%|████▎     | 346/794 [09:50<12:36,  1.69s/it]Corrupt JPEG data: 102 extraneous bytes before marker 0xd9\n",
      "      19/32         0G      1.161      1.148      1.035          1        640: 100%|██████████| 794/794 [22:17<00:00,  1.68s/it]\n",
      "                 Class     Images  Instances      Box(P          R      mAP50  mAP50-95):   5%|▌         | 4/78 [00:05<01:32,  1.26s/it]Corrupt JPEG data: 786 extraneous bytes before marker 0xd9\n",
      "                 Class     Images  Instances      Box(P          R      mAP50  mAP50-95):  13%|█▎        | 10/78 [00:13<01:31,  1.35s/it]Corrupt JPEG data: 305 extraneous bytes before marker 0xd9\n",
      "                 Class     Images  Instances      Box(P          R      mAP50  mAP50-95):  29%|██▉       | 23/78 [00:29<01:06,  1.20s/it]Corrupt JPEG data: 366 extraneous bytes before marker 0xd9\n",
      "                 Class     Images  Instances      Box(P          R      mAP50  mAP50-95):  81%|████████  | 63/78 [01:16<00:18,  1.23s/it]Corrupt JPEG data: premature end of data segment\n",
      "                 Class     Images  Instances      Box(P          R      mAP50  mAP50-95): 100%|██████████| 78/78 [01:32<00:00,  1.18s/it]\n"
     ]
    },
    {
     "name": "stdout",
     "output_type": "stream",
     "text": [
      "                   all        617      91567      0.069     0.0782     0.0653     0.0509\n",
      "\n",
      "      Epoch    GPU_mem   box_loss   cls_loss   dfl_loss  Instances       Size\n"
     ]
    },
    {
     "name": "stderr",
     "output_type": "stream",
     "text": [
      "      20/32         0G      1.148       1.13      1.035          7        640:  89%|████████▉ | 707/794 [19:27<02:24,  1.67s/it]Corrupt JPEG data: 102 extraneous bytes before marker 0xd9\n",
      "      20/32         0G      1.162      1.123      1.036         75        640: 100%|██████████| 794/794 [21:49<00:00,  1.65s/it]\n",
      "                 Class     Images  Instances      Box(P          R      mAP50  mAP50-95):   5%|▌         | 4/78 [00:04<01:30,  1.23s/it]Corrupt JPEG data: 786 extraneous bytes before marker 0xd9\n",
      "                 Class     Images  Instances      Box(P          R      mAP50  mAP50-95):  13%|█▎        | 10/78 [00:13<01:32,  1.35s/it]Corrupt JPEG data: 305 extraneous bytes before marker 0xd9\n",
      "                 Class     Images  Instances      Box(P          R      mAP50  mAP50-95):  29%|██▉       | 23/78 [00:29<01:05,  1.19s/it]Corrupt JPEG data: 366 extraneous bytes before marker 0xd9\n",
      "                 Class     Images  Instances      Box(P          R      mAP50  mAP50-95):  81%|████████  | 63/78 [01:15<00:18,  1.21s/it]Corrupt JPEG data: premature end of data segment\n",
      "                 Class     Images  Instances      Box(P          R      mAP50  mAP50-95): 100%|██████████| 78/78 [01:31<00:00,  1.17s/it]\n"
     ]
    },
    {
     "name": "stdout",
     "output_type": "stream",
     "text": [
      "                   all        617      91567     0.0891      0.088     0.0834     0.0648\n",
      "\n",
      "      Epoch    GPU_mem   box_loss   cls_loss   dfl_loss  Instances       Size\n"
     ]
    },
    {
     "name": "stderr",
     "output_type": "stream",
     "text": [
      "      21/32         0G      1.134      1.117      1.029        143        640:  66%|██████▋   | 528/794 [14:33<07:19,  1.65s/it]Corrupt JPEG data: 102 extraneous bytes before marker 0xd9\n",
      "      21/32         0G      1.156      1.099       1.03        118        640: 100%|██████████| 794/794 [22:05<00:00,  1.67s/it]\n",
      "                 Class     Images  Instances      Box(P          R      mAP50  mAP50-95):   5%|▌         | 4/78 [00:04<01:31,  1.24s/it]Corrupt JPEG data: 786 extraneous bytes before marker 0xd9\n",
      "                 Class     Images  Instances      Box(P          R      mAP50  mAP50-95):  13%|█▎        | 10/78 [00:13<01:32,  1.37s/it]Corrupt JPEG data: 305 extraneous bytes before marker 0xd9\n",
      "                 Class     Images  Instances      Box(P          R      mAP50  mAP50-95):  29%|██▉       | 23/78 [00:29<01:05,  1.20s/it]Corrupt JPEG data: 366 extraneous bytes before marker 0xd9\n",
      "                 Class     Images  Instances      Box(P          R      mAP50  mAP50-95):  81%|████████  | 63/78 [01:16<00:18,  1.20s/it]Corrupt JPEG data: premature end of data segment\n",
      "                 Class     Images  Instances      Box(P          R      mAP50  mAP50-95): 100%|██████████| 78/78 [01:31<00:00,  1.17s/it]"
     ]
    },
    {
     "name": "stdout",
     "output_type": "stream",
     "text": [
      "                   all        617      91567     0.0886       0.08     0.0755     0.0605\n"
     ]
    },
    {
     "name": "stderr",
     "output_type": "stream",
     "text": [
      "\n"
     ]
    },
    {
     "name": "stdout",
     "output_type": "stream",
     "text": [
      "\n",
      "      Epoch    GPU_mem   box_loss   cls_loss   dfl_loss  Instances       Size\n"
     ]
    },
    {
     "name": "stderr",
     "output_type": "stream",
     "text": [
      "      22/32         0G      1.311     0.9077      1.009         39        640:   4%|▍         | 30/794 [00:50<21:02,  1.65s/it]/Volumes/Cucumber/Projects/item-identification/.venv/lib/python3.9/site-packages/ultralytics/data/augment.py:1106: RuntimeWarning: divide by zero encountered in matmul\n",
      "  xy = xy @ M.T  # transform\n",
      "/Volumes/Cucumber/Projects/item-identification/.venv/lib/python3.9/site-packages/ultralytics/data/augment.py:1106: RuntimeWarning: overflow encountered in matmul\n",
      "  xy = xy @ M.T  # transform\n",
      "/Volumes/Cucumber/Projects/item-identification/.venv/lib/python3.9/site-packages/ultralytics/data/augment.py:1106: RuntimeWarning: invalid value encountered in matmul\n",
      "  xy = xy @ M.T  # transform\n",
      "      22/32         0G      1.195      1.022       1.02        249        640:  39%|███▉      | 313/794 [08:39<13:28,  1.68s/it]Corrupt JPEG data: 102 extraneous bytes before marker 0xd9\n",
      "      22/32         0G      1.189      1.048      1.029          3        640: 100%|██████████| 794/794 [22:15<00:00,  1.68s/it]\n",
      "                 Class     Images  Instances      Box(P          R      mAP50  mAP50-95):   5%|▌         | 4/78 [00:04<01:31,  1.24s/it]Corrupt JPEG data: 786 extraneous bytes before marker 0xd9\n",
      "                 Class     Images  Instances      Box(P          R      mAP50  mAP50-95):  13%|█▎        | 10/78 [00:13<01:31,  1.35s/it]Corrupt JPEG data: 305 extraneous bytes before marker 0xd9\n",
      "                 Class     Images  Instances      Box(P          R      mAP50  mAP50-95):  29%|██▉       | 23/78 [00:29<01:06,  1.20s/it]Corrupt JPEG data: 366 extraneous bytes before marker 0xd9\n",
      "                 Class     Images  Instances      Box(P          R      mAP50  mAP50-95):  81%|████████  | 63/78 [01:16<00:18,  1.22s/it]Corrupt JPEG data: premature end of data segment\n",
      "                 Class     Images  Instances      Box(P          R      mAP50  mAP50-95): 100%|██████████| 78/78 [01:32<00:00,  1.18s/it]\n"
     ]
    },
    {
     "name": "stdout",
     "output_type": "stream",
     "text": [
      "                   all        617      91567      0.079     0.0751     0.0671     0.0539\n",
      "Closing dataloader mosaic\n",
      "\u001b[34m\u001b[1malbumentations: \u001b[0mBlur(p=0.01, blur_limit=(3, 7)), MedianBlur(p=0.01, blur_limit=(3, 7)), ToGray(p=0.01, method='weighted_average', num_output_channels=3), CLAHE(p=0.01, clip_limit=(1.0, 4.0), tile_grid_size=(8, 8))\n",
      "\n",
      "      Epoch    GPU_mem   box_loss   cls_loss   dfl_loss  Instances       Size\n"
     ]
    },
    {
     "name": "stderr",
     "output_type": "stream",
     "text": [
      "      23/32         0G      0.852       1.29      1.002          4        640:  83%|████████▎ | 657/794 [18:46<03:58,  1.74s/it]Corrupt JPEG data: 102 extraneous bytes before marker 0xd9\n",
      "      23/32         0G     0.8535      1.284      1.002          1        640: 100%|██████████| 794/794 [22:45<00:00,  1.72s/it]\n",
      "                 Class     Images  Instances      Box(P          R      mAP50  mAP50-95):   5%|▌         | 4/78 [00:05<01:32,  1.25s/it]Corrupt JPEG data: 786 extraneous bytes before marker 0xd9\n",
      "                 Class     Images  Instances      Box(P          R      mAP50  mAP50-95):  13%|█▎        | 10/78 [00:13<01:33,  1.38s/it]Corrupt JPEG data: 305 extraneous bytes before marker 0xd9\n",
      "                 Class     Images  Instances      Box(P          R      mAP50  mAP50-95):  29%|██▉       | 23/78 [00:30<01:07,  1.23s/it]Corrupt JPEG data: 366 extraneous bytes before marker 0xd9\n",
      "                 Class     Images  Instances      Box(P          R      mAP50  mAP50-95):  81%|████████  | 63/78 [01:18<00:18,  1.26s/it]Corrupt JPEG data: premature end of data segment\n",
      "                 Class     Images  Instances      Box(P          R      mAP50  mAP50-95): 100%|██████████| 78/78 [01:33<00:00,  1.20s/it]\n"
     ]
    },
    {
     "name": "stdout",
     "output_type": "stream",
     "text": [
      "                   all        617      91567      0.104        0.1     0.0909     0.0696\n",
      "\n",
      "      Epoch    GPU_mem   box_loss   cls_loss   dfl_loss  Instances       Size\n"
     ]
    },
    {
     "name": "stderr",
     "output_type": "stream",
     "text": [
      "      24/32         0G     0.8403      1.176     0.9981          4        640:  95%|█████████▌| 755/794 [20:03<00:57,  1.48s/it]Corrupt JPEG data: 102 extraneous bytes before marker 0xd9\n",
      "      24/32         0G     0.8383      1.182     0.9981          1        640: 100%|██████████| 794/794 [21:02<00:00,  1.59s/it]\n",
      "                 Class     Images  Instances      Box(P          R      mAP50  mAP50-95):   5%|▌         | 4/78 [00:04<01:28,  1.19s/it]Corrupt JPEG data: 786 extraneous bytes before marker 0xd9\n",
      "                 Class     Images  Instances      Box(P          R      mAP50  mAP50-95):  13%|█▎        | 10/78 [00:12<01:28,  1.30s/it]Corrupt JPEG data: 305 extraneous bytes before marker 0xd9\n",
      "                 Class     Images  Instances      Box(P          R      mAP50  mAP50-95):  29%|██▉       | 23/78 [00:28<01:03,  1.15s/it]Corrupt JPEG data: 366 extraneous bytes before marker 0xd9\n",
      "                 Class     Images  Instances      Box(P          R      mAP50  mAP50-95):  81%|████████  | 63/78 [01:13<00:17,  1.18s/it]Corrupt JPEG data: premature end of data segment\n",
      "                 Class     Images  Instances      Box(P          R      mAP50  mAP50-95): 100%|██████████| 78/78 [01:28<00:00,  1.14s/it]\n"
     ]
    },
    {
     "name": "stdout",
     "output_type": "stream",
     "text": [
      "                   all        617      91567     0.0678     0.0864     0.0649     0.0509\n",
      "\n",
      "      Epoch    GPU_mem   box_loss   cls_loss   dfl_loss  Instances       Size\n"
     ]
    },
    {
     "name": "stderr",
     "output_type": "stream",
     "text": [
      "      25/32         0G     0.8501      1.126     0.9857         82        640:  89%|████████▉ | 709/794 [18:08<02:10,  1.53s/it]Corrupt JPEG data: 102 extraneous bytes before marker 0xd9\n",
      "      25/32         0G     0.8572      1.125     0.9871          1        640: 100%|██████████| 794/794 [20:17<00:00,  1.53s/it]\n",
      "                 Class     Images  Instances      Box(P          R      mAP50  mAP50-95):   5%|▌         | 4/78 [00:04<01:29,  1.20s/it]Corrupt JPEG data: 786 extraneous bytes before marker 0xd9\n",
      "                 Class     Images  Instances      Box(P          R      mAP50  mAP50-95):  13%|█▎        | 10/78 [00:12<01:29,  1.31s/it]Corrupt JPEG data: 305 extraneous bytes before marker 0xd9\n",
      "                 Class     Images  Instances      Box(P          R      mAP50  mAP50-95):  29%|██▉       | 23/78 [00:28<01:03,  1.16s/it]Corrupt JPEG data: 366 extraneous bytes before marker 0xd9\n",
      "                 Class     Images  Instances      Box(P          R      mAP50  mAP50-95):  81%|████████  | 63/78 [01:14<00:17,  1.19s/it]Corrupt JPEG data: premature end of data segment\n",
      "                 Class     Images  Instances      Box(P          R      mAP50  mAP50-95): 100%|██████████| 78/78 [01:29<00:00,  1.14s/it]"
     ]
    },
    {
     "name": "stdout",
     "output_type": "stream",
     "text": [
      "                   all        617      91567     0.0601      0.064     0.0557     0.0434\n"
     ]
    },
    {
     "name": "stderr",
     "output_type": "stream",
     "text": [
      "\n"
     ]
    },
    {
     "name": "stdout",
     "output_type": "stream",
     "text": [
      "\n",
      "      Epoch    GPU_mem   box_loss   cls_loss   dfl_loss  Instances       Size\n"
     ]
    },
    {
     "name": "stderr",
     "output_type": "stream",
     "text": [
      "      26/32         0G     0.7744       1.06     0.9619          4        640:  16%|█▌        | 127/794 [03:12<16:50,  1.52s/it]Corrupt JPEG data: 102 extraneous bytes before marker 0xd9\n",
      "      26/32         0G     0.7891      1.097     0.9728          1        640: 100%|██████████| 794/794 [20:14<00:00,  1.53s/it]\n",
      "                 Class     Images  Instances      Box(P          R      mAP50  mAP50-95):   5%|▌         | 4/78 [00:04<01:28,  1.20s/it]Corrupt JPEG data: 786 extraneous bytes before marker 0xd9\n",
      "                 Class     Images  Instances      Box(P          R      mAP50  mAP50-95):  13%|█▎        | 10/78 [00:12<01:28,  1.30s/it]Corrupt JPEG data: 305 extraneous bytes before marker 0xd9\n",
      "                 Class     Images  Instances      Box(P          R      mAP50  mAP50-95):  29%|██▉       | 23/78 [00:28<01:03,  1.16s/it]Corrupt JPEG data: 366 extraneous bytes before marker 0xd9\n",
      "                 Class     Images  Instances      Box(P          R      mAP50  mAP50-95):  81%|████████  | 63/78 [01:14<00:17,  1.17s/it]Corrupt JPEG data: premature end of data segment\n",
      "                 Class     Images  Instances      Box(P          R      mAP50  mAP50-95): 100%|██████████| 78/78 [01:28<00:00,  1.14s/it]"
     ]
    },
    {
     "name": "stdout",
     "output_type": "stream",
     "text": [
      "                   all        617      91567      0.065     0.0843     0.0636     0.0504\n"
     ]
    },
    {
     "name": "stderr",
     "output_type": "stream",
     "text": [
      "\n"
     ]
    },
    {
     "name": "stdout",
     "output_type": "stream",
     "text": [
      "\n",
      "      Epoch    GPU_mem   box_loss   cls_loss   dfl_loss  Instances       Size\n"
     ]
    },
    {
     "name": "stderr",
     "output_type": "stream",
     "text": [
      "      27/32         0G     0.8084      1.063     0.9819          4        640:  87%|████████▋ | 691/794 [17:40<02:38,  1.54s/it]Corrupt JPEG data: 102 extraneous bytes before marker 0xd9\n",
      "      27/32         0G     0.8078      1.069     0.9809          1        640: 100%|██████████| 794/794 [20:18<00:00,  1.53s/it]\n",
      "                 Class     Images  Instances      Box(P          R      mAP50  mAP50-95):   5%|▌         | 4/78 [00:04<01:28,  1.20s/it]Corrupt JPEG data: 786 extraneous bytes before marker 0xd9\n",
      "                 Class     Images  Instances      Box(P          R      mAP50  mAP50-95):  13%|█▎        | 10/78 [00:12<01:28,  1.30s/it]Corrupt JPEG data: 305 extraneous bytes before marker 0xd9\n",
      "                 Class     Images  Instances      Box(P          R      mAP50  mAP50-95):  29%|██▉       | 23/78 [00:28<01:04,  1.18s/it]Corrupt JPEG data: 366 extraneous bytes before marker 0xd9\n",
      "                 Class     Images  Instances      Box(P          R      mAP50  mAP50-95):  81%|████████  | 63/78 [01:14<00:17,  1.18s/it]Corrupt JPEG data: premature end of data segment\n",
      "                 Class     Images  Instances      Box(P          R      mAP50  mAP50-95): 100%|██████████| 78/78 [01:29<00:00,  1.14s/it]"
     ]
    },
    {
     "name": "stdout",
     "output_type": "stream",
     "text": [
      "                   all        617      91567     0.0669     0.0693      0.061      0.049\n"
     ]
    },
    {
     "name": "stderr",
     "output_type": "stream",
     "text": [
      "\n"
     ]
    },
    {
     "name": "stdout",
     "output_type": "stream",
     "text": [
      "\n",
      "      Epoch    GPU_mem   box_loss   cls_loss   dfl_loss  Instances       Size\n"
     ]
    },
    {
     "name": "stderr",
     "output_type": "stream",
     "text": [
      "      28/32         0G     0.8219      1.021     0.9748        121        640:  69%|██████▉   | 551/794 [15:09<07:00,  1.73s/it]Corrupt JPEG data: 102 extraneous bytes before marker 0xd9\n",
      "      28/32         0G      0.813      1.022     0.9728          1        640: 100%|██████████| 794/794 [21:54<00:00,  1.66s/it]\n",
      "                 Class     Images  Instances      Box(P          R      mAP50  mAP50-95):   5%|▌         | 4/78 [00:04<01:31,  1.24s/it]Corrupt JPEG data: 786 extraneous bytes before marker 0xd9\n",
      "                 Class     Images  Instances      Box(P          R      mAP50  mAP50-95):  13%|█▎        | 10/78 [00:13<01:32,  1.36s/it]Corrupt JPEG data: 305 extraneous bytes before marker 0xd9\n",
      "                 Class     Images  Instances      Box(P          R      mAP50  mAP50-95):  29%|██▉       | 23/78 [00:29<01:07,  1.22s/it]Corrupt JPEG data: 366 extraneous bytes before marker 0xd9\n",
      "                 Class     Images  Instances      Box(P          R      mAP50  mAP50-95):  81%|████████  | 63/78 [01:17<00:18,  1.23s/it]Corrupt JPEG data: premature end of data segment\n",
      "                 Class     Images  Instances      Box(P          R      mAP50  mAP50-95): 100%|██████████| 78/78 [01:32<00:00,  1.19s/it]"
     ]
    },
    {
     "name": "stdout",
     "output_type": "stream",
     "text": [
      "                   all        617      91567     0.0648     0.0694     0.0621       0.05\n"
     ]
    },
    {
     "name": "stderr",
     "output_type": "stream",
     "text": [
      "\n"
     ]
    },
    {
     "name": "stdout",
     "output_type": "stream",
     "text": [
      "\n",
      "      Epoch    GPU_mem   box_loss   cls_loss   dfl_loss  Instances       Size\n"
     ]
    },
    {
     "name": "stderr",
     "output_type": "stream",
     "text": [
      "      29/32         0G     0.8078     0.9868     0.9722        267        640:  89%|████████▊ | 704/794 [19:00<02:37,  1.76s/it]Corrupt JPEG data: 102 extraneous bytes before marker 0xd9\n",
      "      29/32         0G      0.803     0.9923     0.9712          9        640: 100%|██████████| 794/794 [21:17<00:00,  1.61s/it]\n",
      "                 Class     Images  Instances      Box(P          R      mAP50  mAP50-95):   5%|▌         | 4/78 [00:04<01:28,  1.20s/it]Corrupt JPEG data: 786 extraneous bytes before marker 0xd9\n",
      "                 Class     Images  Instances      Box(P          R      mAP50  mAP50-95):  13%|█▎        | 10/78 [00:12<01:28,  1.31s/it]Corrupt JPEG data: 305 extraneous bytes before marker 0xd9\n",
      "                 Class     Images  Instances      Box(P          R      mAP50  mAP50-95):  29%|██▉       | 23/78 [00:28<01:04,  1.17s/it]Corrupt JPEG data: 366 extraneous bytes before marker 0xd9\n",
      "                 Class     Images  Instances      Box(P          R      mAP50  mAP50-95):  81%|████████  | 63/78 [01:14<00:17,  1.19s/it]Corrupt JPEG data: premature end of data segment\n",
      "                 Class     Images  Instances      Box(P          R      mAP50  mAP50-95): 100%|██████████| 78/78 [01:29<00:00,  1.14s/it]\n"
     ]
    },
    {
     "name": "stdout",
     "output_type": "stream",
     "text": [
      "                   all        617      91567     0.0632     0.0592     0.0619     0.0496\n",
      "\n",
      "      Epoch    GPU_mem   box_loss   cls_loss   dfl_loss  Instances       Size\n"
     ]
    },
    {
     "name": "stderr",
     "output_type": "stream",
     "text": [
      "      30/32         0G     0.8271     0.9835     0.9759          4        640:  99%|█████████▊| 783/794 [20:54<00:18,  1.65s/it]Corrupt JPEG data: 102 extraneous bytes before marker 0xd9\n",
      "      30/32         0G     0.8283     0.9872     0.9764          1        640: 100%|██████████| 794/794 [21:11<00:00,  1.60s/it]\n",
      "                 Class     Images  Instances      Box(P          R      mAP50  mAP50-95):   5%|▌         | 4/78 [00:04<01:29,  1.20s/it]Corrupt JPEG data: 786 extraneous bytes before marker 0xd9\n",
      "                 Class     Images  Instances      Box(P          R      mAP50  mAP50-95):  13%|█▎        | 10/78 [00:12<01:30,  1.33s/it]Corrupt JPEG data: 305 extraneous bytes before marker 0xd9\n",
      "                 Class     Images  Instances      Box(P          R      mAP50  mAP50-95):  29%|██▉       | 23/78 [00:29<01:05,  1.18s/it]Corrupt JPEG data: 366 extraneous bytes before marker 0xd9\n",
      "                 Class     Images  Instances      Box(P          R      mAP50  mAP50-95):  81%|████████  | 63/78 [01:15<00:17,  1.20s/it]Corrupt JPEG data: premature end of data segment\n",
      "                 Class     Images  Instances      Box(P          R      mAP50  mAP50-95): 100%|██████████| 78/78 [01:30<00:00,  1.16s/it]"
     ]
    },
    {
     "name": "stdout",
     "output_type": "stream",
     "text": [
      "                   all        617      91567     0.0642     0.0685     0.0649     0.0523\n"
     ]
    },
    {
     "name": "stderr",
     "output_type": "stream",
     "text": [
      "\n"
     ]
    },
    {
     "name": "stdout",
     "output_type": "stream",
     "text": [
      "\n",
      "      Epoch    GPU_mem   box_loss   cls_loss   dfl_loss  Instances       Size\n"
     ]
    },
    {
     "name": "stderr",
     "output_type": "stream",
     "text": [
      "      31/32         0G      0.775     0.9306     0.9584        116        640:   9%|▉         | 75/794 [02:04<20:20,  1.70s/it]Corrupt JPEG data: 102 extraneous bytes before marker 0xd9\n",
      "      31/32         0G     0.8206     0.9526       0.97          1        640: 100%|██████████| 794/794 [21:56<00:00,  1.66s/it]\n",
      "                 Class     Images  Instances      Box(P          R      mAP50  mAP50-95):   5%|▌         | 4/78 [00:04<01:29,  1.21s/it]Corrupt JPEG data: 786 extraneous bytes before marker 0xd9\n",
      "                 Class     Images  Instances      Box(P          R      mAP50  mAP50-95):  13%|█▎        | 10/78 [00:12<01:29,  1.31s/it]Corrupt JPEG data: 305 extraneous bytes before marker 0xd9\n",
      "                 Class     Images  Instances      Box(P          R      mAP50  mAP50-95):  29%|██▉       | 23/78 [00:28<01:03,  1.16s/it]Corrupt JPEG data: 366 extraneous bytes before marker 0xd9\n",
      "                 Class     Images  Instances      Box(P          R      mAP50  mAP50-95):  81%|████████  | 63/78 [01:13<00:17,  1.16s/it]Corrupt JPEG data: premature end of data segment\n",
      "                 Class     Images  Instances      Box(P          R      mAP50  mAP50-95): 100%|██████████| 78/78 [01:28<00:00,  1.13s/it]"
     ]
    },
    {
     "name": "stdout",
     "output_type": "stream",
     "text": [
      "                   all        617      91567     0.0676     0.0699      0.062     0.0496\n"
     ]
    },
    {
     "name": "stderr",
     "output_type": "stream",
     "text": [
      "\n"
     ]
    },
    {
     "name": "stdout",
     "output_type": "stream",
     "text": [
      "\n",
      "      Epoch    GPU_mem   box_loss   cls_loss   dfl_loss  Instances       Size\n"
     ]
    },
    {
     "name": "stderr",
     "output_type": "stream",
     "text": [
      "      32/32         0G      0.767     0.9579     0.9618          4        640:  54%|█████▍    | 428/794 [10:58<09:25,  1.54s/it]Corrupt JPEG data: 102 extraneous bytes before marker 0xd9\n",
      "      32/32         0G     0.8035     0.9573     0.9736          1        640: 100%|██████████| 794/794 [20:23<00:00,  1.54s/it]\n",
      "                 Class     Images  Instances      Box(P          R      mAP50  mAP50-95):   5%|▌         | 4/78 [00:04<01:29,  1.21s/it]Corrupt JPEG data: 786 extraneous bytes before marker 0xd9\n",
      "                 Class     Images  Instances      Box(P          R      mAP50  mAP50-95):  13%|█▎        | 10/78 [00:12<01:28,  1.31s/it]Corrupt JPEG data: 305 extraneous bytes before marker 0xd9\n",
      "                 Class     Images  Instances      Box(P          R      mAP50  mAP50-95):  29%|██▉       | 23/78 [00:28<01:04,  1.17s/it]Corrupt JPEG data: 366 extraneous bytes before marker 0xd9\n",
      "                 Class     Images  Instances      Box(P          R      mAP50  mAP50-95):  81%|████████  | 63/78 [01:14<00:17,  1.19s/it]Corrupt JPEG data: premature end of data segment\n",
      "                 Class     Images  Instances      Box(P          R      mAP50  mAP50-95): 100%|██████████| 78/78 [01:29<00:00,  1.14s/it]\n"
     ]
    },
    {
     "name": "stdout",
     "output_type": "stream",
     "text": [
      "                   all        617      91567     0.0656     0.0701     0.0614     0.0488\n",
      "\n",
      "32 epochs completed in 12.392 hours.\n",
      "Optimizer stripped from /Volumes/Cucumber/Projects/item-identification/runs/detect/yolov8-finetune23/weights/last.pt, 22.7MB\n",
      "Optimizer stripped from /Volumes/Cucumber/Projects/item-identification/runs/detect/yolov8-finetune23/weights/best.pt, 22.7MB\n",
      "\n",
      "Validating /Volumes/Cucumber/Projects/item-identification/runs/detect/yolov8-finetune23/weights/best.pt...\n",
      "Ultralytics 8.3.111 🚀 Python-3.9.6 torch-2.6.0 CPU (Apple M4)\n",
      "Model summary (fused): 72 layers, 11,209,176 parameters, 0 gradients, 28.9 GFLOPs\n"
     ]
    },
    {
     "name": "stderr",
     "output_type": "stream",
     "text": [
      "                 Class     Images  Instances      Box(P          R      mAP50  mAP50-95):   5%|▌         | 4/78 [00:07<02:27,  2.00s/it]Corrupt JPEG data: 786 extraneous bytes before marker 0xd9\n",
      "                 Class     Images  Instances      Box(P          R      mAP50  mAP50-95):  13%|█▎        | 10/78 [00:13<01:09,  1.03s/it]Corrupt JPEG data: 305 extraneous bytes before marker 0xd9\n",
      "                 Class     Images  Instances      Box(P          R      mAP50  mAP50-95):  29%|██▉       | 23/78 [00:26<00:52,  1.05it/s]Corrupt JPEG data: 366 extraneous bytes before marker 0xd9\n",
      "                 Class     Images  Instances      Box(P          R      mAP50  mAP50-95):  81%|████████  | 63/78 [01:04<00:14,  1.05it/s]Corrupt JPEG data: premature end of data segment\n",
      "                 Class     Images  Instances      Box(P          R      mAP50  mAP50-95): 100%|██████████| 78/78 [01:16<00:00,  1.02it/s]\n"
     ]
    },
    {
     "name": "stdout",
     "output_type": "stream",
     "text": [
      "                   all        617      91567      0.104        0.1      0.091     0.0696\n",
      "4897036693162-nuoc-tang-luc-monster-mango-loco-355ml          1          4          0          0          0          0\n",
      "4902430805322-nuoc-rua-tay-diet-khuan-safeguard-trang-tinh-khiet-450ml          1          2          0          0          0          0\n",
      "8850228007617-nuoc-tang-luc-redbull-250ml          1          6          0          0          0          0\n",
      "8934563122201-mi-hao-hao-vi-tom-chua-cay-goi-100g          1          1          0          0          0          0\n",
      "8934563198152-mi-hao-hao-chay-vi-rau-nam-74gr          1          5          0          0          0          0\n",
      "8934588012112-nuoc-ngot-pepsi-cola-320ml          1          3          0          0          0          0\n",
      "8934683008614-ca-phe-sua-vinacafe-3-in-1-gold-tui-480g-24-goi-tui          1          4          0          0          0          0\n",
      "8934707029182-hat-nem-knorr-thit-than-xuong-ong-va-tuy-900g          1          7          0          0          0          0\n",
      "8934822212339-bia-heineken-lon-cao-330ml          2          5          0          0          0          0\n",
      "8934822361211-bia-heineken-khong-con-lon-330ml          2          7        0.4      0.286      0.272      0.117\n",
      "8934822431211-bia-tiger-soju-infused-lager-wonder-melon-vi-dua-luoi-lon-330ml          1          3      0.222      0.667      0.227      0.217\n",
      "8934822801335-bia-tiger-crystal-4-6-phan-tram-lon-330ml          1          1          0          0          0          0\n",
      "8934840000093-nuoc-khoang-chanh-lemona-chai-500ml          1          3          0          0          0          0\n",
      "8934868156871-dau-xa-sunsilk-mem-muot-dieu-ky-320g          3          7          0          0          0          0\n",
      "8934868166344-nuoc-rua-tay-lifebouy-450ml          1          5          0          0          0          0\n",
      "8934868166825-dau-goi-sunsilk-natural-duong-ngan-gay-rung-650g          2          2          0          0          0          0\n",
      "8934868166870-dau-goi-sunsilk-ong-muot-rang-ngoi-chai-650g          1          3      0.125      0.667      0.169      0.161\n",
      "8934868166924-dau-goi-sunsilk-mem-muot-dieu-ky-chai-650g          1          3          0          0          0          0\n",
      "8934868170990-nuoc-rua-tay-lifebuoy-vitamin-sua-duong-am-tui-1kg          2          4          0          0          0          0\n",
      "8934868180470-dau-goi-dove-biotin-ngan-gay-rung-toc-880g          1          4          1       0.25      0.625      0.625\n",
      "8935006532755-kem-rua-mat-acnes-vitamin-lam-sang-da,-mo-seo-tham-50g          1          8          0          0          0          0\n",
      "8935006538634-dau-tay-trang-hada-labo-sach-sau-duong-am-toi-uu-200ml          1          3          0          0          0          0\n",
      "8935024123287-ca-phe-sua-hoa-tan-g7-3in1-hop-336g-(16g-x-21-goi)          3         32     0.0746      0.156     0.0534      0.039\n",
      "8935024170519-ca-phe-trung-nguyen-legend-classic-hop-357g-17g-x-21-goi          2          7          0          0          0          0\n",
      "8935039570700-ca-phe-sua-robusta-birdy-lon-170ml          1          4          0          0          0          0\n",
      "8935049501572-nuoc-ngot-fanta-vi-cam-lon-320ml          1          3          0          0          0          0\n",
      "8935049501718-nuoc-ngot-sprite-lon-320ml          1          1          0          0          0          0\n",
      "8935136865709-sua-tam-purite-duong-da-mem-min-huong-hoa-hong-rose-chai-850ml          1          1          0          0          0          0\n",
      "8936048470036-mi-3-mien-mi-chay-la-da-65g-(goi)          1          3          0          0          0          0\n",
      "8936094291005-bia-budweiser-5-lon-330ml          1         11       0.25      0.455       0.37      0.288\n",
      "8936122200276-ca-phe-mr.brown-blue-mountain-240ml          1          2          0          0          0          0\n",
      "8936136163314-nuoc-mam-nam-ngu-3-trong-1-750ml          1          3          0          0          0          0\n",
      "8936191270057-ca-phe-cappuccino-dua-just-viet-hop-hop-10-goi-x-17g          1          1          0          0          0          0\n",
      "8936193070075-nuoc-tang-luc-number-1-chai-330ml          2          5          1        0.2        0.6       0.48\n",
      "                object         26        436      0.248     0.0596      0.136     0.0928\n",
      "               unknown        588      90968      0.433      0.862      0.824      0.488\n",
      "Speed: 0.5ms preprocess, 96.4ms inference, 0.0ms loss, 4.5ms postprocess per image\n",
      "Results saved to \u001b[1m/Volumes/Cucumber/Projects/item-identification/runs/detect/yolov8-finetune23\u001b[0m\n",
      "🏃 View run yolov8-finetune23 at: http://jimica.ddns.net:5050/#/experiments/281934436878643381/runs/7ae84e1e706942c999eb73dff6cb3888\n",
      "🧪 View experiment at: http://jimica.ddns.net:5050/#/experiments/281934436878643381\n",
      "\u001b[34m\u001b[1mMLflow: \u001b[0mresults logged to http://jimica.ddns.net:5050\n",
      "\u001b[34m\u001b[1mMLflow: \u001b[0mdisable with 'yolo settings mlflow=False'\n"
     ]
    },
    {
     "data": {
      "text/plain": [
       "ultralytics.utils.metrics.DetMetrics object with attributes:\n",
       "\n",
       "ap_class_index: array([  4,   8,  33,  40,  43,  48,  66,  73,  88,  90,  91,  93,  97, 101, 103, 105, 106, 107, 110, 114, 127, 128, 134, 136, 139, 148, 149, 157, 169, 180, 182, 189, 195, 197, 214, 215])\n",
       "box: ultralytics.utils.metrics.Metric object\n",
       "confusion_matrix: <ultralytics.utils.metrics.ConfusionMatrix object at 0x328b26670>\n",
       "curves: ['Precision-Recall(B)', 'F1-Confidence(B)', 'Precision-Confidence(B)', 'Recall-Confidence(B)']\n",
       "curves_results: [[array([          0,    0.001001,    0.002002,    0.003003,    0.004004,    0.005005,    0.006006,    0.007007,    0.008008,    0.009009,     0.01001,    0.011011,    0.012012,    0.013013,    0.014014,    0.015015,    0.016016,    0.017017,    0.018018,    0.019019,     0.02002,    0.021021,    0.022022,    0.023023,\n",
       "          0.024024,    0.025025,    0.026026,    0.027027,    0.028028,    0.029029,     0.03003,    0.031031,    0.032032,    0.033033,    0.034034,    0.035035,    0.036036,    0.037037,    0.038038,    0.039039,     0.04004,    0.041041,    0.042042,    0.043043,    0.044044,    0.045045,    0.046046,    0.047047,\n",
       "          0.048048,    0.049049,     0.05005,    0.051051,    0.052052,    0.053053,    0.054054,    0.055055,    0.056056,    0.057057,    0.058058,    0.059059,     0.06006,    0.061061,    0.062062,    0.063063,    0.064064,    0.065065,    0.066066,    0.067067,    0.068068,    0.069069,     0.07007,    0.071071,\n",
       "          0.072072,    0.073073,    0.074074,    0.075075,    0.076076,    0.077077,    0.078078,    0.079079,     0.08008,    0.081081,    0.082082,    0.083083,    0.084084,    0.085085,    0.086086,    0.087087,    0.088088,    0.089089,     0.09009,    0.091091,    0.092092,    0.093093,    0.094094,    0.095095,\n",
       "          0.096096,    0.097097,    0.098098,    0.099099,      0.1001,      0.1011,      0.1021,      0.1031,      0.1041,     0.10511,     0.10611,     0.10711,     0.10811,     0.10911,     0.11011,     0.11111,     0.11211,     0.11311,     0.11411,     0.11512,     0.11612,     0.11712,     0.11812,     0.11912,\n",
       "           0.12012,     0.12112,     0.12212,     0.12312,     0.12412,     0.12513,     0.12613,     0.12713,     0.12813,     0.12913,     0.13013,     0.13113,     0.13213,     0.13313,     0.13413,     0.13514,     0.13614,     0.13714,     0.13814,     0.13914,     0.14014,     0.14114,     0.14214,     0.14314,\n",
       "           0.14414,     0.14515,     0.14615,     0.14715,     0.14815,     0.14915,     0.15015,     0.15115,     0.15215,     0.15315,     0.15415,     0.15516,     0.15616,     0.15716,     0.15816,     0.15916,     0.16016,     0.16116,     0.16216,     0.16316,     0.16416,     0.16517,     0.16617,     0.16717,\n",
       "           0.16817,     0.16917,     0.17017,     0.17117,     0.17217,     0.17317,     0.17417,     0.17518,     0.17618,     0.17718,     0.17818,     0.17918,     0.18018,     0.18118,     0.18218,     0.18318,     0.18418,     0.18519,     0.18619,     0.18719,     0.18819,     0.18919,     0.19019,     0.19119,\n",
       "           0.19219,     0.19319,     0.19419,      0.1952,      0.1962,      0.1972,      0.1982,      0.1992,      0.2002,      0.2012,      0.2022,      0.2032,      0.2042,     0.20521,     0.20621,     0.20721,     0.20821,     0.20921,     0.21021,     0.21121,     0.21221,     0.21321,     0.21421,     0.21522,\n",
       "           0.21622,     0.21722,     0.21822,     0.21922,     0.22022,     0.22122,     0.22222,     0.22322,     0.22422,     0.22523,     0.22623,     0.22723,     0.22823,     0.22923,     0.23023,     0.23123,     0.23223,     0.23323,     0.23423,     0.23524,     0.23624,     0.23724,     0.23824,     0.23924,\n",
       "           0.24024,     0.24124,     0.24224,     0.24324,     0.24424,     0.24525,     0.24625,     0.24725,     0.24825,     0.24925,     0.25025,     0.25125,     0.25225,     0.25325,     0.25425,     0.25526,     0.25626,     0.25726,     0.25826,     0.25926,     0.26026,     0.26126,     0.26226,     0.26326,\n",
       "           0.26426,     0.26527,     0.26627,     0.26727,     0.26827,     0.26927,     0.27027,     0.27127,     0.27227,     0.27327,     0.27427,     0.27528,     0.27628,     0.27728,     0.27828,     0.27928,     0.28028,     0.28128,     0.28228,     0.28328,     0.28428,     0.28529,     0.28629,     0.28729,\n",
       "           0.28829,     0.28929,     0.29029,     0.29129,     0.29229,     0.29329,     0.29429,      0.2953,      0.2963,      0.2973,      0.2983,      0.2993,      0.3003,      0.3013,      0.3023,      0.3033,      0.3043,     0.30531,     0.30631,     0.30731,     0.30831,     0.30931,     0.31031,     0.31131,\n",
       "           0.31231,     0.31331,     0.31431,     0.31532,     0.31632,     0.31732,     0.31832,     0.31932,     0.32032,     0.32132,     0.32232,     0.32332,     0.32432,     0.32533,     0.32633,     0.32733,     0.32833,     0.32933,     0.33033,     0.33133,     0.33233,     0.33333,     0.33433,     0.33534,\n",
       "           0.33634,     0.33734,     0.33834,     0.33934,     0.34034,     0.34134,     0.34234,     0.34334,     0.34434,     0.34535,     0.34635,     0.34735,     0.34835,     0.34935,     0.35035,     0.35135,     0.35235,     0.35335,     0.35435,     0.35536,     0.35636,     0.35736,     0.35836,     0.35936,\n",
       "           0.36036,     0.36136,     0.36236,     0.36336,     0.36436,     0.36537,     0.36637,     0.36737,     0.36837,     0.36937,     0.37037,     0.37137,     0.37237,     0.37337,     0.37437,     0.37538,     0.37638,     0.37738,     0.37838,     0.37938,     0.38038,     0.38138,     0.38238,     0.38338,\n",
       "           0.38438,     0.38539,     0.38639,     0.38739,     0.38839,     0.38939,     0.39039,     0.39139,     0.39239,     0.39339,     0.39439,      0.3954,      0.3964,      0.3974,      0.3984,      0.3994,      0.4004,      0.4014,      0.4024,      0.4034,      0.4044,     0.40541,     0.40641,     0.40741,\n",
       "           0.40841,     0.40941,     0.41041,     0.41141,     0.41241,     0.41341,     0.41441,     0.41542,     0.41642,     0.41742,     0.41842,     0.41942,     0.42042,     0.42142,     0.42242,     0.42342,     0.42442,     0.42543,     0.42643,     0.42743,     0.42843,     0.42943,     0.43043,     0.43143,\n",
       "           0.43243,     0.43343,     0.43443,     0.43544,     0.43644,     0.43744,     0.43844,     0.43944,     0.44044,     0.44144,     0.44244,     0.44344,     0.44444,     0.44545,     0.44645,     0.44745,     0.44845,     0.44945,     0.45045,     0.45145,     0.45245,     0.45345,     0.45445,     0.45546,\n",
       "           0.45646,     0.45746,     0.45846,     0.45946,     0.46046,     0.46146,     0.46246,     0.46346,     0.46446,     0.46547,     0.46647,     0.46747,     0.46847,     0.46947,     0.47047,     0.47147,     0.47247,     0.47347,     0.47447,     0.47548,     0.47648,     0.47748,     0.47848,     0.47948,\n",
       "           0.48048,     0.48148,     0.48248,     0.48348,     0.48448,     0.48549,     0.48649,     0.48749,     0.48849,     0.48949,     0.49049,     0.49149,     0.49249,     0.49349,     0.49449,      0.4955,      0.4965,      0.4975,      0.4985,      0.4995,      0.5005,      0.5015,      0.5025,      0.5035,\n",
       "            0.5045,     0.50551,     0.50651,     0.50751,     0.50851,     0.50951,     0.51051,     0.51151,     0.51251,     0.51351,     0.51451,     0.51552,     0.51652,     0.51752,     0.51852,     0.51952,     0.52052,     0.52152,     0.52252,     0.52352,     0.52452,     0.52553,     0.52653,     0.52753,\n",
       "           0.52853,     0.52953,     0.53053,     0.53153,     0.53253,     0.53353,     0.53453,     0.53554,     0.53654,     0.53754,     0.53854,     0.53954,     0.54054,     0.54154,     0.54254,     0.54354,     0.54454,     0.54555,     0.54655,     0.54755,     0.54855,     0.54955,     0.55055,     0.55155,\n",
       "           0.55255,     0.55355,     0.55455,     0.55556,     0.55656,     0.55756,     0.55856,     0.55956,     0.56056,     0.56156,     0.56256,     0.56356,     0.56456,     0.56557,     0.56657,     0.56757,     0.56857,     0.56957,     0.57057,     0.57157,     0.57257,     0.57357,     0.57457,     0.57558,\n",
       "           0.57658,     0.57758,     0.57858,     0.57958,     0.58058,     0.58158,     0.58258,     0.58358,     0.58458,     0.58559,     0.58659,     0.58759,     0.58859,     0.58959,     0.59059,     0.59159,     0.59259,     0.59359,     0.59459,      0.5956,      0.5966,      0.5976,      0.5986,      0.5996,\n",
       "            0.6006,      0.6016,      0.6026,      0.6036,      0.6046,     0.60561,     0.60661,     0.60761,     0.60861,     0.60961,     0.61061,     0.61161,     0.61261,     0.61361,     0.61461,     0.61562,     0.61662,     0.61762,     0.61862,     0.61962,     0.62062,     0.62162,     0.62262,     0.62362,\n",
       "           0.62462,     0.62563,     0.62663,     0.62763,     0.62863,     0.62963,     0.63063,     0.63163,     0.63263,     0.63363,     0.63463,     0.63564,     0.63664,     0.63764,     0.63864,     0.63964,     0.64064,     0.64164,     0.64264,     0.64364,     0.64464,     0.64565,     0.64665,     0.64765,\n",
       "           0.64865,     0.64965,     0.65065,     0.65165,     0.65265,     0.65365,     0.65465,     0.65566,     0.65666,     0.65766,     0.65866,     0.65966,     0.66066,     0.66166,     0.66266,     0.66366,     0.66466,     0.66567,     0.66667,     0.66767,     0.66867,     0.66967,     0.67067,     0.67167,\n",
       "           0.67267,     0.67367,     0.67467,     0.67568,     0.67668,     0.67768,     0.67868,     0.67968,     0.68068,     0.68168,     0.68268,     0.68368,     0.68468,     0.68569,     0.68669,     0.68769,     0.68869,     0.68969,     0.69069,     0.69169,     0.69269,     0.69369,     0.69469,      0.6957,\n",
       "            0.6967,      0.6977,      0.6987,      0.6997,      0.7007,      0.7017,      0.7027,      0.7037,      0.7047,     0.70571,     0.70671,     0.70771,     0.70871,     0.70971,     0.71071,     0.71171,     0.71271,     0.71371,     0.71471,     0.71572,     0.71672,     0.71772,     0.71872,     0.71972,\n",
       "           0.72072,     0.72172,     0.72272,     0.72372,     0.72472,     0.72573,     0.72673,     0.72773,     0.72873,     0.72973,     0.73073,     0.73173,     0.73273,     0.73373,     0.73473,     0.73574,     0.73674,     0.73774,     0.73874,     0.73974,     0.74074,     0.74174,     0.74274,     0.74374,\n",
       "           0.74474,     0.74575,     0.74675,     0.74775,     0.74875,     0.74975,     0.75075,     0.75175,     0.75275,     0.75375,     0.75475,     0.75576,     0.75676,     0.75776,     0.75876,     0.75976,     0.76076,     0.76176,     0.76276,     0.76376,     0.76476,     0.76577,     0.76677,     0.76777,\n",
       "           0.76877,     0.76977,     0.77077,     0.77177,     0.77277,     0.77377,     0.77477,     0.77578,     0.77678,     0.77778,     0.77878,     0.77978,     0.78078,     0.78178,     0.78278,     0.78378,     0.78478,     0.78579,     0.78679,     0.78779,     0.78879,     0.78979,     0.79079,     0.79179,\n",
       "           0.79279,     0.79379,     0.79479,      0.7958,      0.7968,      0.7978,      0.7988,      0.7998,      0.8008,      0.8018,      0.8028,      0.8038,      0.8048,     0.80581,     0.80681,     0.80781,     0.80881,     0.80981,     0.81081,     0.81181,     0.81281,     0.81381,     0.81481,     0.81582,\n",
       "           0.81682,     0.81782,     0.81882,     0.81982,     0.82082,     0.82182,     0.82282,     0.82382,     0.82482,     0.82583,     0.82683,     0.82783,     0.82883,     0.82983,     0.83083,     0.83183,     0.83283,     0.83383,     0.83483,     0.83584,     0.83684,     0.83784,     0.83884,     0.83984,\n",
       "           0.84084,     0.84184,     0.84284,     0.84384,     0.84484,     0.84585,     0.84685,     0.84785,     0.84885,     0.84985,     0.85085,     0.85185,     0.85285,     0.85385,     0.85485,     0.85586,     0.85686,     0.85786,     0.85886,     0.85986,     0.86086,     0.86186,     0.86286,     0.86386,\n",
       "           0.86486,     0.86587,     0.86687,     0.86787,     0.86887,     0.86987,     0.87087,     0.87187,     0.87287,     0.87387,     0.87487,     0.87588,     0.87688,     0.87788,     0.87888,     0.87988,     0.88088,     0.88188,     0.88288,     0.88388,     0.88488,     0.88589,     0.88689,     0.88789,\n",
       "           0.88889,     0.88989,     0.89089,     0.89189,     0.89289,     0.89389,     0.89489,      0.8959,      0.8969,      0.8979,      0.8989,      0.8999,      0.9009,      0.9019,      0.9029,      0.9039,      0.9049,     0.90591,     0.90691,     0.90791,     0.90891,     0.90991,     0.91091,     0.91191,\n",
       "           0.91291,     0.91391,     0.91491,     0.91592,     0.91692,     0.91792,     0.91892,     0.91992,     0.92092,     0.92192,     0.92292,     0.92392,     0.92492,     0.92593,     0.92693,     0.92793,     0.92893,     0.92993,     0.93093,     0.93193,     0.93293,     0.93393,     0.93493,     0.93594,\n",
       "           0.93694,     0.93794,     0.93894,     0.93994,     0.94094,     0.94194,     0.94294,     0.94394,     0.94494,     0.94595,     0.94695,     0.94795,     0.94895,     0.94995,     0.95095,     0.95195,     0.95295,     0.95395,     0.95495,     0.95596,     0.95696,     0.95796,     0.95896,     0.95996,\n",
       "           0.96096,     0.96196,     0.96296,     0.96396,     0.96496,     0.96597,     0.96697,     0.96797,     0.96897,     0.96997,     0.97097,     0.97197,     0.97297,     0.97397,     0.97497,     0.97598,     0.97698,     0.97798,     0.97898,     0.97998,     0.98098,     0.98198,     0.98298,     0.98398,\n",
       "           0.98498,     0.98599,     0.98699,     0.98799,     0.98899,     0.98999,     0.99099,     0.99199,     0.99299,     0.99399,     0.99499,       0.996,       0.997,       0.998,       0.999,           1]), array([[          0,           0,           0, ...,           0,           0,           0],\n",
       "       [          0,           0,           0, ...,           0,           0,           0],\n",
       "       [          0,           0,           0, ...,           0,           0,           0],\n",
       "       ...,\n",
       "       [          1,           1,           1, ...,   0.0025025,   0.0012513,           0],\n",
       "       [        0.5,         0.5,         0.5, ...,  0.00052717,  0.00026359,           0],\n",
       "       [          1,     0.99686,     0.99686, ...,    0.006274,    0.003137,           0]]), 'Recall', 'Precision'], [array([          0,    0.001001,    0.002002,    0.003003,    0.004004,    0.005005,    0.006006,    0.007007,    0.008008,    0.009009,     0.01001,    0.011011,    0.012012,    0.013013,    0.014014,    0.015015,    0.016016,    0.017017,    0.018018,    0.019019,     0.02002,    0.021021,    0.022022,    0.023023,\n",
       "          0.024024,    0.025025,    0.026026,    0.027027,    0.028028,    0.029029,     0.03003,    0.031031,    0.032032,    0.033033,    0.034034,    0.035035,    0.036036,    0.037037,    0.038038,    0.039039,     0.04004,    0.041041,    0.042042,    0.043043,    0.044044,    0.045045,    0.046046,    0.047047,\n",
       "          0.048048,    0.049049,     0.05005,    0.051051,    0.052052,    0.053053,    0.054054,    0.055055,    0.056056,    0.057057,    0.058058,    0.059059,     0.06006,    0.061061,    0.062062,    0.063063,    0.064064,    0.065065,    0.066066,    0.067067,    0.068068,    0.069069,     0.07007,    0.071071,\n",
       "          0.072072,    0.073073,    0.074074,    0.075075,    0.076076,    0.077077,    0.078078,    0.079079,     0.08008,    0.081081,    0.082082,    0.083083,    0.084084,    0.085085,    0.086086,    0.087087,    0.088088,    0.089089,     0.09009,    0.091091,    0.092092,    0.093093,    0.094094,    0.095095,\n",
       "          0.096096,    0.097097,    0.098098,    0.099099,      0.1001,      0.1011,      0.1021,      0.1031,      0.1041,     0.10511,     0.10611,     0.10711,     0.10811,     0.10911,     0.11011,     0.11111,     0.11211,     0.11311,     0.11411,     0.11512,     0.11612,     0.11712,     0.11812,     0.11912,\n",
       "           0.12012,     0.12112,     0.12212,     0.12312,     0.12412,     0.12513,     0.12613,     0.12713,     0.12813,     0.12913,     0.13013,     0.13113,     0.13213,     0.13313,     0.13413,     0.13514,     0.13614,     0.13714,     0.13814,     0.13914,     0.14014,     0.14114,     0.14214,     0.14314,\n",
       "           0.14414,     0.14515,     0.14615,     0.14715,     0.14815,     0.14915,     0.15015,     0.15115,     0.15215,     0.15315,     0.15415,     0.15516,     0.15616,     0.15716,     0.15816,     0.15916,     0.16016,     0.16116,     0.16216,     0.16316,     0.16416,     0.16517,     0.16617,     0.16717,\n",
       "           0.16817,     0.16917,     0.17017,     0.17117,     0.17217,     0.17317,     0.17417,     0.17518,     0.17618,     0.17718,     0.17818,     0.17918,     0.18018,     0.18118,     0.18218,     0.18318,     0.18418,     0.18519,     0.18619,     0.18719,     0.18819,     0.18919,     0.19019,     0.19119,\n",
       "           0.19219,     0.19319,     0.19419,      0.1952,      0.1962,      0.1972,      0.1982,      0.1992,      0.2002,      0.2012,      0.2022,      0.2032,      0.2042,     0.20521,     0.20621,     0.20721,     0.20821,     0.20921,     0.21021,     0.21121,     0.21221,     0.21321,     0.21421,     0.21522,\n",
       "           0.21622,     0.21722,     0.21822,     0.21922,     0.22022,     0.22122,     0.22222,     0.22322,     0.22422,     0.22523,     0.22623,     0.22723,     0.22823,     0.22923,     0.23023,     0.23123,     0.23223,     0.23323,     0.23423,     0.23524,     0.23624,     0.23724,     0.23824,     0.23924,\n",
       "           0.24024,     0.24124,     0.24224,     0.24324,     0.24424,     0.24525,     0.24625,     0.24725,     0.24825,     0.24925,     0.25025,     0.25125,     0.25225,     0.25325,     0.25425,     0.25526,     0.25626,     0.25726,     0.25826,     0.25926,     0.26026,     0.26126,     0.26226,     0.26326,\n",
       "           0.26426,     0.26527,     0.26627,     0.26727,     0.26827,     0.26927,     0.27027,     0.27127,     0.27227,     0.27327,     0.27427,     0.27528,     0.27628,     0.27728,     0.27828,     0.27928,     0.28028,     0.28128,     0.28228,     0.28328,     0.28428,     0.28529,     0.28629,     0.28729,\n",
       "           0.28829,     0.28929,     0.29029,     0.29129,     0.29229,     0.29329,     0.29429,      0.2953,      0.2963,      0.2973,      0.2983,      0.2993,      0.3003,      0.3013,      0.3023,      0.3033,      0.3043,     0.30531,     0.30631,     0.30731,     0.30831,     0.30931,     0.31031,     0.31131,\n",
       "           0.31231,     0.31331,     0.31431,     0.31532,     0.31632,     0.31732,     0.31832,     0.31932,     0.32032,     0.32132,     0.32232,     0.32332,     0.32432,     0.32533,     0.32633,     0.32733,     0.32833,     0.32933,     0.33033,     0.33133,     0.33233,     0.33333,     0.33433,     0.33534,\n",
       "           0.33634,     0.33734,     0.33834,     0.33934,     0.34034,     0.34134,     0.34234,     0.34334,     0.34434,     0.34535,     0.34635,     0.34735,     0.34835,     0.34935,     0.35035,     0.35135,     0.35235,     0.35335,     0.35435,     0.35536,     0.35636,     0.35736,     0.35836,     0.35936,\n",
       "           0.36036,     0.36136,     0.36236,     0.36336,     0.36436,     0.36537,     0.36637,     0.36737,     0.36837,     0.36937,     0.37037,     0.37137,     0.37237,     0.37337,     0.37437,     0.37538,     0.37638,     0.37738,     0.37838,     0.37938,     0.38038,     0.38138,     0.38238,     0.38338,\n",
       "           0.38438,     0.38539,     0.38639,     0.38739,     0.38839,     0.38939,     0.39039,     0.39139,     0.39239,     0.39339,     0.39439,      0.3954,      0.3964,      0.3974,      0.3984,      0.3994,      0.4004,      0.4014,      0.4024,      0.4034,      0.4044,     0.40541,     0.40641,     0.40741,\n",
       "           0.40841,     0.40941,     0.41041,     0.41141,     0.41241,     0.41341,     0.41441,     0.41542,     0.41642,     0.41742,     0.41842,     0.41942,     0.42042,     0.42142,     0.42242,     0.42342,     0.42442,     0.42543,     0.42643,     0.42743,     0.42843,     0.42943,     0.43043,     0.43143,\n",
       "           0.43243,     0.43343,     0.43443,     0.43544,     0.43644,     0.43744,     0.43844,     0.43944,     0.44044,     0.44144,     0.44244,     0.44344,     0.44444,     0.44545,     0.44645,     0.44745,     0.44845,     0.44945,     0.45045,     0.45145,     0.45245,     0.45345,     0.45445,     0.45546,\n",
       "           0.45646,     0.45746,     0.45846,     0.45946,     0.46046,     0.46146,     0.46246,     0.46346,     0.46446,     0.46547,     0.46647,     0.46747,     0.46847,     0.46947,     0.47047,     0.47147,     0.47247,     0.47347,     0.47447,     0.47548,     0.47648,     0.47748,     0.47848,     0.47948,\n",
       "           0.48048,     0.48148,     0.48248,     0.48348,     0.48448,     0.48549,     0.48649,     0.48749,     0.48849,     0.48949,     0.49049,     0.49149,     0.49249,     0.49349,     0.49449,      0.4955,      0.4965,      0.4975,      0.4985,      0.4995,      0.5005,      0.5015,      0.5025,      0.5035,\n",
       "            0.5045,     0.50551,     0.50651,     0.50751,     0.50851,     0.50951,     0.51051,     0.51151,     0.51251,     0.51351,     0.51451,     0.51552,     0.51652,     0.51752,     0.51852,     0.51952,     0.52052,     0.52152,     0.52252,     0.52352,     0.52452,     0.52553,     0.52653,     0.52753,\n",
       "           0.52853,     0.52953,     0.53053,     0.53153,     0.53253,     0.53353,     0.53453,     0.53554,     0.53654,     0.53754,     0.53854,     0.53954,     0.54054,     0.54154,     0.54254,     0.54354,     0.54454,     0.54555,     0.54655,     0.54755,     0.54855,     0.54955,     0.55055,     0.55155,\n",
       "           0.55255,     0.55355,     0.55455,     0.55556,     0.55656,     0.55756,     0.55856,     0.55956,     0.56056,     0.56156,     0.56256,     0.56356,     0.56456,     0.56557,     0.56657,     0.56757,     0.56857,     0.56957,     0.57057,     0.57157,     0.57257,     0.57357,     0.57457,     0.57558,\n",
       "           0.57658,     0.57758,     0.57858,     0.57958,     0.58058,     0.58158,     0.58258,     0.58358,     0.58458,     0.58559,     0.58659,     0.58759,     0.58859,     0.58959,     0.59059,     0.59159,     0.59259,     0.59359,     0.59459,      0.5956,      0.5966,      0.5976,      0.5986,      0.5996,\n",
       "            0.6006,      0.6016,      0.6026,      0.6036,      0.6046,     0.60561,     0.60661,     0.60761,     0.60861,     0.60961,     0.61061,     0.61161,     0.61261,     0.61361,     0.61461,     0.61562,     0.61662,     0.61762,     0.61862,     0.61962,     0.62062,     0.62162,     0.62262,     0.62362,\n",
       "           0.62462,     0.62563,     0.62663,     0.62763,     0.62863,     0.62963,     0.63063,     0.63163,     0.63263,     0.63363,     0.63463,     0.63564,     0.63664,     0.63764,     0.63864,     0.63964,     0.64064,     0.64164,     0.64264,     0.64364,     0.64464,     0.64565,     0.64665,     0.64765,\n",
       "           0.64865,     0.64965,     0.65065,     0.65165,     0.65265,     0.65365,     0.65465,     0.65566,     0.65666,     0.65766,     0.65866,     0.65966,     0.66066,     0.66166,     0.66266,     0.66366,     0.66466,     0.66567,     0.66667,     0.66767,     0.66867,     0.66967,     0.67067,     0.67167,\n",
       "           0.67267,     0.67367,     0.67467,     0.67568,     0.67668,     0.67768,     0.67868,     0.67968,     0.68068,     0.68168,     0.68268,     0.68368,     0.68468,     0.68569,     0.68669,     0.68769,     0.68869,     0.68969,     0.69069,     0.69169,     0.69269,     0.69369,     0.69469,      0.6957,\n",
       "            0.6967,      0.6977,      0.6987,      0.6997,      0.7007,      0.7017,      0.7027,      0.7037,      0.7047,     0.70571,     0.70671,     0.70771,     0.70871,     0.70971,     0.71071,     0.71171,     0.71271,     0.71371,     0.71471,     0.71572,     0.71672,     0.71772,     0.71872,     0.71972,\n",
       "           0.72072,     0.72172,     0.72272,     0.72372,     0.72472,     0.72573,     0.72673,     0.72773,     0.72873,     0.72973,     0.73073,     0.73173,     0.73273,     0.73373,     0.73473,     0.73574,     0.73674,     0.73774,     0.73874,     0.73974,     0.74074,     0.74174,     0.74274,     0.74374,\n",
       "           0.74474,     0.74575,     0.74675,     0.74775,     0.74875,     0.74975,     0.75075,     0.75175,     0.75275,     0.75375,     0.75475,     0.75576,     0.75676,     0.75776,     0.75876,     0.75976,     0.76076,     0.76176,     0.76276,     0.76376,     0.76476,     0.76577,     0.76677,     0.76777,\n",
       "           0.76877,     0.76977,     0.77077,     0.77177,     0.77277,     0.77377,     0.77477,     0.77578,     0.77678,     0.77778,     0.77878,     0.77978,     0.78078,     0.78178,     0.78278,     0.78378,     0.78478,     0.78579,     0.78679,     0.78779,     0.78879,     0.78979,     0.79079,     0.79179,\n",
       "           0.79279,     0.79379,     0.79479,      0.7958,      0.7968,      0.7978,      0.7988,      0.7998,      0.8008,      0.8018,      0.8028,      0.8038,      0.8048,     0.80581,     0.80681,     0.80781,     0.80881,     0.80981,     0.81081,     0.81181,     0.81281,     0.81381,     0.81481,     0.81582,\n",
       "           0.81682,     0.81782,     0.81882,     0.81982,     0.82082,     0.82182,     0.82282,     0.82382,     0.82482,     0.82583,     0.82683,     0.82783,     0.82883,     0.82983,     0.83083,     0.83183,     0.83283,     0.83383,     0.83483,     0.83584,     0.83684,     0.83784,     0.83884,     0.83984,\n",
       "           0.84084,     0.84184,     0.84284,     0.84384,     0.84484,     0.84585,     0.84685,     0.84785,     0.84885,     0.84985,     0.85085,     0.85185,     0.85285,     0.85385,     0.85485,     0.85586,     0.85686,     0.85786,     0.85886,     0.85986,     0.86086,     0.86186,     0.86286,     0.86386,\n",
       "           0.86486,     0.86587,     0.86687,     0.86787,     0.86887,     0.86987,     0.87087,     0.87187,     0.87287,     0.87387,     0.87487,     0.87588,     0.87688,     0.87788,     0.87888,     0.87988,     0.88088,     0.88188,     0.88288,     0.88388,     0.88488,     0.88589,     0.88689,     0.88789,\n",
       "           0.88889,     0.88989,     0.89089,     0.89189,     0.89289,     0.89389,     0.89489,      0.8959,      0.8969,      0.8979,      0.8989,      0.8999,      0.9009,      0.9019,      0.9029,      0.9039,      0.9049,     0.90591,     0.90691,     0.90791,     0.90891,     0.90991,     0.91091,     0.91191,\n",
       "           0.91291,     0.91391,     0.91491,     0.91592,     0.91692,     0.91792,     0.91892,     0.91992,     0.92092,     0.92192,     0.92292,     0.92392,     0.92492,     0.92593,     0.92693,     0.92793,     0.92893,     0.92993,     0.93093,     0.93193,     0.93293,     0.93393,     0.93493,     0.93594,\n",
       "           0.93694,     0.93794,     0.93894,     0.93994,     0.94094,     0.94194,     0.94294,     0.94394,     0.94494,     0.94595,     0.94695,     0.94795,     0.94895,     0.94995,     0.95095,     0.95195,     0.95295,     0.95395,     0.95495,     0.95596,     0.95696,     0.95796,     0.95896,     0.95996,\n",
       "           0.96096,     0.96196,     0.96296,     0.96396,     0.96496,     0.96597,     0.96697,     0.96797,     0.96897,     0.96997,     0.97097,     0.97197,     0.97297,     0.97397,     0.97497,     0.97598,     0.97698,     0.97798,     0.97898,     0.97998,     0.98098,     0.98198,     0.98298,     0.98398,\n",
       "           0.98498,     0.98599,     0.98699,     0.98799,     0.98899,     0.98999,     0.99099,     0.99199,     0.99299,     0.99399,     0.99499,       0.996,       0.997,       0.998,       0.999,           1]), array([[          0,           0,           0, ...,           0,           0,           0],\n",
       "       [          0,           0,           0, ...,           0,           0,           0],\n",
       "       [          0,           0,           0, ...,           0,           0,           0],\n",
       "       ...,\n",
       "       [    0.33333,     0.33333,           0, ...,           0,           0,           0],\n",
       "       [   0.096118,    0.096118,    0.070883, ...,           0,           0,           0],\n",
       "       [    0.57658,     0.57658,     0.57909, ...,           0,           0,           0]]), 'Confidence', 'F1'], [array([          0,    0.001001,    0.002002,    0.003003,    0.004004,    0.005005,    0.006006,    0.007007,    0.008008,    0.009009,     0.01001,    0.011011,    0.012012,    0.013013,    0.014014,    0.015015,    0.016016,    0.017017,    0.018018,    0.019019,     0.02002,    0.021021,    0.022022,    0.023023,\n",
       "          0.024024,    0.025025,    0.026026,    0.027027,    0.028028,    0.029029,     0.03003,    0.031031,    0.032032,    0.033033,    0.034034,    0.035035,    0.036036,    0.037037,    0.038038,    0.039039,     0.04004,    0.041041,    0.042042,    0.043043,    0.044044,    0.045045,    0.046046,    0.047047,\n",
       "          0.048048,    0.049049,     0.05005,    0.051051,    0.052052,    0.053053,    0.054054,    0.055055,    0.056056,    0.057057,    0.058058,    0.059059,     0.06006,    0.061061,    0.062062,    0.063063,    0.064064,    0.065065,    0.066066,    0.067067,    0.068068,    0.069069,     0.07007,    0.071071,\n",
       "          0.072072,    0.073073,    0.074074,    0.075075,    0.076076,    0.077077,    0.078078,    0.079079,     0.08008,    0.081081,    0.082082,    0.083083,    0.084084,    0.085085,    0.086086,    0.087087,    0.088088,    0.089089,     0.09009,    0.091091,    0.092092,    0.093093,    0.094094,    0.095095,\n",
       "          0.096096,    0.097097,    0.098098,    0.099099,      0.1001,      0.1011,      0.1021,      0.1031,      0.1041,     0.10511,     0.10611,     0.10711,     0.10811,     0.10911,     0.11011,     0.11111,     0.11211,     0.11311,     0.11411,     0.11512,     0.11612,     0.11712,     0.11812,     0.11912,\n",
       "           0.12012,     0.12112,     0.12212,     0.12312,     0.12412,     0.12513,     0.12613,     0.12713,     0.12813,     0.12913,     0.13013,     0.13113,     0.13213,     0.13313,     0.13413,     0.13514,     0.13614,     0.13714,     0.13814,     0.13914,     0.14014,     0.14114,     0.14214,     0.14314,\n",
       "           0.14414,     0.14515,     0.14615,     0.14715,     0.14815,     0.14915,     0.15015,     0.15115,     0.15215,     0.15315,     0.15415,     0.15516,     0.15616,     0.15716,     0.15816,     0.15916,     0.16016,     0.16116,     0.16216,     0.16316,     0.16416,     0.16517,     0.16617,     0.16717,\n",
       "           0.16817,     0.16917,     0.17017,     0.17117,     0.17217,     0.17317,     0.17417,     0.17518,     0.17618,     0.17718,     0.17818,     0.17918,     0.18018,     0.18118,     0.18218,     0.18318,     0.18418,     0.18519,     0.18619,     0.18719,     0.18819,     0.18919,     0.19019,     0.19119,\n",
       "           0.19219,     0.19319,     0.19419,      0.1952,      0.1962,      0.1972,      0.1982,      0.1992,      0.2002,      0.2012,      0.2022,      0.2032,      0.2042,     0.20521,     0.20621,     0.20721,     0.20821,     0.20921,     0.21021,     0.21121,     0.21221,     0.21321,     0.21421,     0.21522,\n",
       "           0.21622,     0.21722,     0.21822,     0.21922,     0.22022,     0.22122,     0.22222,     0.22322,     0.22422,     0.22523,     0.22623,     0.22723,     0.22823,     0.22923,     0.23023,     0.23123,     0.23223,     0.23323,     0.23423,     0.23524,     0.23624,     0.23724,     0.23824,     0.23924,\n",
       "           0.24024,     0.24124,     0.24224,     0.24324,     0.24424,     0.24525,     0.24625,     0.24725,     0.24825,     0.24925,     0.25025,     0.25125,     0.25225,     0.25325,     0.25425,     0.25526,     0.25626,     0.25726,     0.25826,     0.25926,     0.26026,     0.26126,     0.26226,     0.26326,\n",
       "           0.26426,     0.26527,     0.26627,     0.26727,     0.26827,     0.26927,     0.27027,     0.27127,     0.27227,     0.27327,     0.27427,     0.27528,     0.27628,     0.27728,     0.27828,     0.27928,     0.28028,     0.28128,     0.28228,     0.28328,     0.28428,     0.28529,     0.28629,     0.28729,\n",
       "           0.28829,     0.28929,     0.29029,     0.29129,     0.29229,     0.29329,     0.29429,      0.2953,      0.2963,      0.2973,      0.2983,      0.2993,      0.3003,      0.3013,      0.3023,      0.3033,      0.3043,     0.30531,     0.30631,     0.30731,     0.30831,     0.30931,     0.31031,     0.31131,\n",
       "           0.31231,     0.31331,     0.31431,     0.31532,     0.31632,     0.31732,     0.31832,     0.31932,     0.32032,     0.32132,     0.32232,     0.32332,     0.32432,     0.32533,     0.32633,     0.32733,     0.32833,     0.32933,     0.33033,     0.33133,     0.33233,     0.33333,     0.33433,     0.33534,\n",
       "           0.33634,     0.33734,     0.33834,     0.33934,     0.34034,     0.34134,     0.34234,     0.34334,     0.34434,     0.34535,     0.34635,     0.34735,     0.34835,     0.34935,     0.35035,     0.35135,     0.35235,     0.35335,     0.35435,     0.35536,     0.35636,     0.35736,     0.35836,     0.35936,\n",
       "           0.36036,     0.36136,     0.36236,     0.36336,     0.36436,     0.36537,     0.36637,     0.36737,     0.36837,     0.36937,     0.37037,     0.37137,     0.37237,     0.37337,     0.37437,     0.37538,     0.37638,     0.37738,     0.37838,     0.37938,     0.38038,     0.38138,     0.38238,     0.38338,\n",
       "           0.38438,     0.38539,     0.38639,     0.38739,     0.38839,     0.38939,     0.39039,     0.39139,     0.39239,     0.39339,     0.39439,      0.3954,      0.3964,      0.3974,      0.3984,      0.3994,      0.4004,      0.4014,      0.4024,      0.4034,      0.4044,     0.40541,     0.40641,     0.40741,\n",
       "           0.40841,     0.40941,     0.41041,     0.41141,     0.41241,     0.41341,     0.41441,     0.41542,     0.41642,     0.41742,     0.41842,     0.41942,     0.42042,     0.42142,     0.42242,     0.42342,     0.42442,     0.42543,     0.42643,     0.42743,     0.42843,     0.42943,     0.43043,     0.43143,\n",
       "           0.43243,     0.43343,     0.43443,     0.43544,     0.43644,     0.43744,     0.43844,     0.43944,     0.44044,     0.44144,     0.44244,     0.44344,     0.44444,     0.44545,     0.44645,     0.44745,     0.44845,     0.44945,     0.45045,     0.45145,     0.45245,     0.45345,     0.45445,     0.45546,\n",
       "           0.45646,     0.45746,     0.45846,     0.45946,     0.46046,     0.46146,     0.46246,     0.46346,     0.46446,     0.46547,     0.46647,     0.46747,     0.46847,     0.46947,     0.47047,     0.47147,     0.47247,     0.47347,     0.47447,     0.47548,     0.47648,     0.47748,     0.47848,     0.47948,\n",
       "           0.48048,     0.48148,     0.48248,     0.48348,     0.48448,     0.48549,     0.48649,     0.48749,     0.48849,     0.48949,     0.49049,     0.49149,     0.49249,     0.49349,     0.49449,      0.4955,      0.4965,      0.4975,      0.4985,      0.4995,      0.5005,      0.5015,      0.5025,      0.5035,\n",
       "            0.5045,     0.50551,     0.50651,     0.50751,     0.50851,     0.50951,     0.51051,     0.51151,     0.51251,     0.51351,     0.51451,     0.51552,     0.51652,     0.51752,     0.51852,     0.51952,     0.52052,     0.52152,     0.52252,     0.52352,     0.52452,     0.52553,     0.52653,     0.52753,\n",
       "           0.52853,     0.52953,     0.53053,     0.53153,     0.53253,     0.53353,     0.53453,     0.53554,     0.53654,     0.53754,     0.53854,     0.53954,     0.54054,     0.54154,     0.54254,     0.54354,     0.54454,     0.54555,     0.54655,     0.54755,     0.54855,     0.54955,     0.55055,     0.55155,\n",
       "           0.55255,     0.55355,     0.55455,     0.55556,     0.55656,     0.55756,     0.55856,     0.55956,     0.56056,     0.56156,     0.56256,     0.56356,     0.56456,     0.56557,     0.56657,     0.56757,     0.56857,     0.56957,     0.57057,     0.57157,     0.57257,     0.57357,     0.57457,     0.57558,\n",
       "           0.57658,     0.57758,     0.57858,     0.57958,     0.58058,     0.58158,     0.58258,     0.58358,     0.58458,     0.58559,     0.58659,     0.58759,     0.58859,     0.58959,     0.59059,     0.59159,     0.59259,     0.59359,     0.59459,      0.5956,      0.5966,      0.5976,      0.5986,      0.5996,\n",
       "            0.6006,      0.6016,      0.6026,      0.6036,      0.6046,     0.60561,     0.60661,     0.60761,     0.60861,     0.60961,     0.61061,     0.61161,     0.61261,     0.61361,     0.61461,     0.61562,     0.61662,     0.61762,     0.61862,     0.61962,     0.62062,     0.62162,     0.62262,     0.62362,\n",
       "           0.62462,     0.62563,     0.62663,     0.62763,     0.62863,     0.62963,     0.63063,     0.63163,     0.63263,     0.63363,     0.63463,     0.63564,     0.63664,     0.63764,     0.63864,     0.63964,     0.64064,     0.64164,     0.64264,     0.64364,     0.64464,     0.64565,     0.64665,     0.64765,\n",
       "           0.64865,     0.64965,     0.65065,     0.65165,     0.65265,     0.65365,     0.65465,     0.65566,     0.65666,     0.65766,     0.65866,     0.65966,     0.66066,     0.66166,     0.66266,     0.66366,     0.66466,     0.66567,     0.66667,     0.66767,     0.66867,     0.66967,     0.67067,     0.67167,\n",
       "           0.67267,     0.67367,     0.67467,     0.67568,     0.67668,     0.67768,     0.67868,     0.67968,     0.68068,     0.68168,     0.68268,     0.68368,     0.68468,     0.68569,     0.68669,     0.68769,     0.68869,     0.68969,     0.69069,     0.69169,     0.69269,     0.69369,     0.69469,      0.6957,\n",
       "            0.6967,      0.6977,      0.6987,      0.6997,      0.7007,      0.7017,      0.7027,      0.7037,      0.7047,     0.70571,     0.70671,     0.70771,     0.70871,     0.70971,     0.71071,     0.71171,     0.71271,     0.71371,     0.71471,     0.71572,     0.71672,     0.71772,     0.71872,     0.71972,\n",
       "           0.72072,     0.72172,     0.72272,     0.72372,     0.72472,     0.72573,     0.72673,     0.72773,     0.72873,     0.72973,     0.73073,     0.73173,     0.73273,     0.73373,     0.73473,     0.73574,     0.73674,     0.73774,     0.73874,     0.73974,     0.74074,     0.74174,     0.74274,     0.74374,\n",
       "           0.74474,     0.74575,     0.74675,     0.74775,     0.74875,     0.74975,     0.75075,     0.75175,     0.75275,     0.75375,     0.75475,     0.75576,     0.75676,     0.75776,     0.75876,     0.75976,     0.76076,     0.76176,     0.76276,     0.76376,     0.76476,     0.76577,     0.76677,     0.76777,\n",
       "           0.76877,     0.76977,     0.77077,     0.77177,     0.77277,     0.77377,     0.77477,     0.77578,     0.77678,     0.77778,     0.77878,     0.77978,     0.78078,     0.78178,     0.78278,     0.78378,     0.78478,     0.78579,     0.78679,     0.78779,     0.78879,     0.78979,     0.79079,     0.79179,\n",
       "           0.79279,     0.79379,     0.79479,      0.7958,      0.7968,      0.7978,      0.7988,      0.7998,      0.8008,      0.8018,      0.8028,      0.8038,      0.8048,     0.80581,     0.80681,     0.80781,     0.80881,     0.80981,     0.81081,     0.81181,     0.81281,     0.81381,     0.81481,     0.81582,\n",
       "           0.81682,     0.81782,     0.81882,     0.81982,     0.82082,     0.82182,     0.82282,     0.82382,     0.82482,     0.82583,     0.82683,     0.82783,     0.82883,     0.82983,     0.83083,     0.83183,     0.83283,     0.83383,     0.83483,     0.83584,     0.83684,     0.83784,     0.83884,     0.83984,\n",
       "           0.84084,     0.84184,     0.84284,     0.84384,     0.84484,     0.84585,     0.84685,     0.84785,     0.84885,     0.84985,     0.85085,     0.85185,     0.85285,     0.85385,     0.85485,     0.85586,     0.85686,     0.85786,     0.85886,     0.85986,     0.86086,     0.86186,     0.86286,     0.86386,\n",
       "           0.86486,     0.86587,     0.86687,     0.86787,     0.86887,     0.86987,     0.87087,     0.87187,     0.87287,     0.87387,     0.87487,     0.87588,     0.87688,     0.87788,     0.87888,     0.87988,     0.88088,     0.88188,     0.88288,     0.88388,     0.88488,     0.88589,     0.88689,     0.88789,\n",
       "           0.88889,     0.88989,     0.89089,     0.89189,     0.89289,     0.89389,     0.89489,      0.8959,      0.8969,      0.8979,      0.8989,      0.8999,      0.9009,      0.9019,      0.9029,      0.9039,      0.9049,     0.90591,     0.90691,     0.90791,     0.90891,     0.90991,     0.91091,     0.91191,\n",
       "           0.91291,     0.91391,     0.91491,     0.91592,     0.91692,     0.91792,     0.91892,     0.91992,     0.92092,     0.92192,     0.92292,     0.92392,     0.92492,     0.92593,     0.92693,     0.92793,     0.92893,     0.92993,     0.93093,     0.93193,     0.93293,     0.93393,     0.93493,     0.93594,\n",
       "           0.93694,     0.93794,     0.93894,     0.93994,     0.94094,     0.94194,     0.94294,     0.94394,     0.94494,     0.94595,     0.94695,     0.94795,     0.94895,     0.94995,     0.95095,     0.95195,     0.95295,     0.95395,     0.95495,     0.95596,     0.95696,     0.95796,     0.95896,     0.95996,\n",
       "           0.96096,     0.96196,     0.96296,     0.96396,     0.96496,     0.96597,     0.96697,     0.96797,     0.96897,     0.96997,     0.97097,     0.97197,     0.97297,     0.97397,     0.97497,     0.97598,     0.97698,     0.97798,     0.97898,     0.97998,     0.98098,     0.98198,     0.98298,     0.98398,\n",
       "           0.98498,     0.98599,     0.98699,     0.98799,     0.98899,     0.98999,     0.99099,     0.99199,     0.99299,     0.99399,     0.99499,       0.996,       0.997,       0.998,       0.999,           1]), array([[          0,           0,           0, ...,           1,           1,           1],\n",
       "       [          0,           0,           0, ...,           0,           0,           0],\n",
       "       [          0,           0,           1, ...,           1,           1,           1],\n",
       "       ...,\n",
       "       [          1,           1,           1, ...,           1,           1,           1],\n",
       "       [    0.24762,     0.24762,      0.2564, ...,           1,           1,           1],\n",
       "       [    0.43321,     0.43321,     0.43605, ...,           1,           1,           1]]), 'Confidence', 'Precision'], [array([          0,    0.001001,    0.002002,    0.003003,    0.004004,    0.005005,    0.006006,    0.007007,    0.008008,    0.009009,     0.01001,    0.011011,    0.012012,    0.013013,    0.014014,    0.015015,    0.016016,    0.017017,    0.018018,    0.019019,     0.02002,    0.021021,    0.022022,    0.023023,\n",
       "          0.024024,    0.025025,    0.026026,    0.027027,    0.028028,    0.029029,     0.03003,    0.031031,    0.032032,    0.033033,    0.034034,    0.035035,    0.036036,    0.037037,    0.038038,    0.039039,     0.04004,    0.041041,    0.042042,    0.043043,    0.044044,    0.045045,    0.046046,    0.047047,\n",
       "          0.048048,    0.049049,     0.05005,    0.051051,    0.052052,    0.053053,    0.054054,    0.055055,    0.056056,    0.057057,    0.058058,    0.059059,     0.06006,    0.061061,    0.062062,    0.063063,    0.064064,    0.065065,    0.066066,    0.067067,    0.068068,    0.069069,     0.07007,    0.071071,\n",
       "          0.072072,    0.073073,    0.074074,    0.075075,    0.076076,    0.077077,    0.078078,    0.079079,     0.08008,    0.081081,    0.082082,    0.083083,    0.084084,    0.085085,    0.086086,    0.087087,    0.088088,    0.089089,     0.09009,    0.091091,    0.092092,    0.093093,    0.094094,    0.095095,\n",
       "          0.096096,    0.097097,    0.098098,    0.099099,      0.1001,      0.1011,      0.1021,      0.1031,      0.1041,     0.10511,     0.10611,     0.10711,     0.10811,     0.10911,     0.11011,     0.11111,     0.11211,     0.11311,     0.11411,     0.11512,     0.11612,     0.11712,     0.11812,     0.11912,\n",
       "           0.12012,     0.12112,     0.12212,     0.12312,     0.12412,     0.12513,     0.12613,     0.12713,     0.12813,     0.12913,     0.13013,     0.13113,     0.13213,     0.13313,     0.13413,     0.13514,     0.13614,     0.13714,     0.13814,     0.13914,     0.14014,     0.14114,     0.14214,     0.14314,\n",
       "           0.14414,     0.14515,     0.14615,     0.14715,     0.14815,     0.14915,     0.15015,     0.15115,     0.15215,     0.15315,     0.15415,     0.15516,     0.15616,     0.15716,     0.15816,     0.15916,     0.16016,     0.16116,     0.16216,     0.16316,     0.16416,     0.16517,     0.16617,     0.16717,\n",
       "           0.16817,     0.16917,     0.17017,     0.17117,     0.17217,     0.17317,     0.17417,     0.17518,     0.17618,     0.17718,     0.17818,     0.17918,     0.18018,     0.18118,     0.18218,     0.18318,     0.18418,     0.18519,     0.18619,     0.18719,     0.18819,     0.18919,     0.19019,     0.19119,\n",
       "           0.19219,     0.19319,     0.19419,      0.1952,      0.1962,      0.1972,      0.1982,      0.1992,      0.2002,      0.2012,      0.2022,      0.2032,      0.2042,     0.20521,     0.20621,     0.20721,     0.20821,     0.20921,     0.21021,     0.21121,     0.21221,     0.21321,     0.21421,     0.21522,\n",
       "           0.21622,     0.21722,     0.21822,     0.21922,     0.22022,     0.22122,     0.22222,     0.22322,     0.22422,     0.22523,     0.22623,     0.22723,     0.22823,     0.22923,     0.23023,     0.23123,     0.23223,     0.23323,     0.23423,     0.23524,     0.23624,     0.23724,     0.23824,     0.23924,\n",
       "           0.24024,     0.24124,     0.24224,     0.24324,     0.24424,     0.24525,     0.24625,     0.24725,     0.24825,     0.24925,     0.25025,     0.25125,     0.25225,     0.25325,     0.25425,     0.25526,     0.25626,     0.25726,     0.25826,     0.25926,     0.26026,     0.26126,     0.26226,     0.26326,\n",
       "           0.26426,     0.26527,     0.26627,     0.26727,     0.26827,     0.26927,     0.27027,     0.27127,     0.27227,     0.27327,     0.27427,     0.27528,     0.27628,     0.27728,     0.27828,     0.27928,     0.28028,     0.28128,     0.28228,     0.28328,     0.28428,     0.28529,     0.28629,     0.28729,\n",
       "           0.28829,     0.28929,     0.29029,     0.29129,     0.29229,     0.29329,     0.29429,      0.2953,      0.2963,      0.2973,      0.2983,      0.2993,      0.3003,      0.3013,      0.3023,      0.3033,      0.3043,     0.30531,     0.30631,     0.30731,     0.30831,     0.30931,     0.31031,     0.31131,\n",
       "           0.31231,     0.31331,     0.31431,     0.31532,     0.31632,     0.31732,     0.31832,     0.31932,     0.32032,     0.32132,     0.32232,     0.32332,     0.32432,     0.32533,     0.32633,     0.32733,     0.32833,     0.32933,     0.33033,     0.33133,     0.33233,     0.33333,     0.33433,     0.33534,\n",
       "           0.33634,     0.33734,     0.33834,     0.33934,     0.34034,     0.34134,     0.34234,     0.34334,     0.34434,     0.34535,     0.34635,     0.34735,     0.34835,     0.34935,     0.35035,     0.35135,     0.35235,     0.35335,     0.35435,     0.35536,     0.35636,     0.35736,     0.35836,     0.35936,\n",
       "           0.36036,     0.36136,     0.36236,     0.36336,     0.36436,     0.36537,     0.36637,     0.36737,     0.36837,     0.36937,     0.37037,     0.37137,     0.37237,     0.37337,     0.37437,     0.37538,     0.37638,     0.37738,     0.37838,     0.37938,     0.38038,     0.38138,     0.38238,     0.38338,\n",
       "           0.38438,     0.38539,     0.38639,     0.38739,     0.38839,     0.38939,     0.39039,     0.39139,     0.39239,     0.39339,     0.39439,      0.3954,      0.3964,      0.3974,      0.3984,      0.3994,      0.4004,      0.4014,      0.4024,      0.4034,      0.4044,     0.40541,     0.40641,     0.40741,\n",
       "           0.40841,     0.40941,     0.41041,     0.41141,     0.41241,     0.41341,     0.41441,     0.41542,     0.41642,     0.41742,     0.41842,     0.41942,     0.42042,     0.42142,     0.42242,     0.42342,     0.42442,     0.42543,     0.42643,     0.42743,     0.42843,     0.42943,     0.43043,     0.43143,\n",
       "           0.43243,     0.43343,     0.43443,     0.43544,     0.43644,     0.43744,     0.43844,     0.43944,     0.44044,     0.44144,     0.44244,     0.44344,     0.44444,     0.44545,     0.44645,     0.44745,     0.44845,     0.44945,     0.45045,     0.45145,     0.45245,     0.45345,     0.45445,     0.45546,\n",
       "           0.45646,     0.45746,     0.45846,     0.45946,     0.46046,     0.46146,     0.46246,     0.46346,     0.46446,     0.46547,     0.46647,     0.46747,     0.46847,     0.46947,     0.47047,     0.47147,     0.47247,     0.47347,     0.47447,     0.47548,     0.47648,     0.47748,     0.47848,     0.47948,\n",
       "           0.48048,     0.48148,     0.48248,     0.48348,     0.48448,     0.48549,     0.48649,     0.48749,     0.48849,     0.48949,     0.49049,     0.49149,     0.49249,     0.49349,     0.49449,      0.4955,      0.4965,      0.4975,      0.4985,      0.4995,      0.5005,      0.5015,      0.5025,      0.5035,\n",
       "            0.5045,     0.50551,     0.50651,     0.50751,     0.50851,     0.50951,     0.51051,     0.51151,     0.51251,     0.51351,     0.51451,     0.51552,     0.51652,     0.51752,     0.51852,     0.51952,     0.52052,     0.52152,     0.52252,     0.52352,     0.52452,     0.52553,     0.52653,     0.52753,\n",
       "           0.52853,     0.52953,     0.53053,     0.53153,     0.53253,     0.53353,     0.53453,     0.53554,     0.53654,     0.53754,     0.53854,     0.53954,     0.54054,     0.54154,     0.54254,     0.54354,     0.54454,     0.54555,     0.54655,     0.54755,     0.54855,     0.54955,     0.55055,     0.55155,\n",
       "           0.55255,     0.55355,     0.55455,     0.55556,     0.55656,     0.55756,     0.55856,     0.55956,     0.56056,     0.56156,     0.56256,     0.56356,     0.56456,     0.56557,     0.56657,     0.56757,     0.56857,     0.56957,     0.57057,     0.57157,     0.57257,     0.57357,     0.57457,     0.57558,\n",
       "           0.57658,     0.57758,     0.57858,     0.57958,     0.58058,     0.58158,     0.58258,     0.58358,     0.58458,     0.58559,     0.58659,     0.58759,     0.58859,     0.58959,     0.59059,     0.59159,     0.59259,     0.59359,     0.59459,      0.5956,      0.5966,      0.5976,      0.5986,      0.5996,\n",
       "            0.6006,      0.6016,      0.6026,      0.6036,      0.6046,     0.60561,     0.60661,     0.60761,     0.60861,     0.60961,     0.61061,     0.61161,     0.61261,     0.61361,     0.61461,     0.61562,     0.61662,     0.61762,     0.61862,     0.61962,     0.62062,     0.62162,     0.62262,     0.62362,\n",
       "           0.62462,     0.62563,     0.62663,     0.62763,     0.62863,     0.62963,     0.63063,     0.63163,     0.63263,     0.63363,     0.63463,     0.63564,     0.63664,     0.63764,     0.63864,     0.63964,     0.64064,     0.64164,     0.64264,     0.64364,     0.64464,     0.64565,     0.64665,     0.64765,\n",
       "           0.64865,     0.64965,     0.65065,     0.65165,     0.65265,     0.65365,     0.65465,     0.65566,     0.65666,     0.65766,     0.65866,     0.65966,     0.66066,     0.66166,     0.66266,     0.66366,     0.66466,     0.66567,     0.66667,     0.66767,     0.66867,     0.66967,     0.67067,     0.67167,\n",
       "           0.67267,     0.67367,     0.67467,     0.67568,     0.67668,     0.67768,     0.67868,     0.67968,     0.68068,     0.68168,     0.68268,     0.68368,     0.68468,     0.68569,     0.68669,     0.68769,     0.68869,     0.68969,     0.69069,     0.69169,     0.69269,     0.69369,     0.69469,      0.6957,\n",
       "            0.6967,      0.6977,      0.6987,      0.6997,      0.7007,      0.7017,      0.7027,      0.7037,      0.7047,     0.70571,     0.70671,     0.70771,     0.70871,     0.70971,     0.71071,     0.71171,     0.71271,     0.71371,     0.71471,     0.71572,     0.71672,     0.71772,     0.71872,     0.71972,\n",
       "           0.72072,     0.72172,     0.72272,     0.72372,     0.72472,     0.72573,     0.72673,     0.72773,     0.72873,     0.72973,     0.73073,     0.73173,     0.73273,     0.73373,     0.73473,     0.73574,     0.73674,     0.73774,     0.73874,     0.73974,     0.74074,     0.74174,     0.74274,     0.74374,\n",
       "           0.74474,     0.74575,     0.74675,     0.74775,     0.74875,     0.74975,     0.75075,     0.75175,     0.75275,     0.75375,     0.75475,     0.75576,     0.75676,     0.75776,     0.75876,     0.75976,     0.76076,     0.76176,     0.76276,     0.76376,     0.76476,     0.76577,     0.76677,     0.76777,\n",
       "           0.76877,     0.76977,     0.77077,     0.77177,     0.77277,     0.77377,     0.77477,     0.77578,     0.77678,     0.77778,     0.77878,     0.77978,     0.78078,     0.78178,     0.78278,     0.78378,     0.78478,     0.78579,     0.78679,     0.78779,     0.78879,     0.78979,     0.79079,     0.79179,\n",
       "           0.79279,     0.79379,     0.79479,      0.7958,      0.7968,      0.7978,      0.7988,      0.7998,      0.8008,      0.8018,      0.8028,      0.8038,      0.8048,     0.80581,     0.80681,     0.80781,     0.80881,     0.80981,     0.81081,     0.81181,     0.81281,     0.81381,     0.81481,     0.81582,\n",
       "           0.81682,     0.81782,     0.81882,     0.81982,     0.82082,     0.82182,     0.82282,     0.82382,     0.82482,     0.82583,     0.82683,     0.82783,     0.82883,     0.82983,     0.83083,     0.83183,     0.83283,     0.83383,     0.83483,     0.83584,     0.83684,     0.83784,     0.83884,     0.83984,\n",
       "           0.84084,     0.84184,     0.84284,     0.84384,     0.84484,     0.84585,     0.84685,     0.84785,     0.84885,     0.84985,     0.85085,     0.85185,     0.85285,     0.85385,     0.85485,     0.85586,     0.85686,     0.85786,     0.85886,     0.85986,     0.86086,     0.86186,     0.86286,     0.86386,\n",
       "           0.86486,     0.86587,     0.86687,     0.86787,     0.86887,     0.86987,     0.87087,     0.87187,     0.87287,     0.87387,     0.87487,     0.87588,     0.87688,     0.87788,     0.87888,     0.87988,     0.88088,     0.88188,     0.88288,     0.88388,     0.88488,     0.88589,     0.88689,     0.88789,\n",
       "           0.88889,     0.88989,     0.89089,     0.89189,     0.89289,     0.89389,     0.89489,      0.8959,      0.8969,      0.8979,      0.8989,      0.8999,      0.9009,      0.9019,      0.9029,      0.9039,      0.9049,     0.90591,     0.90691,     0.90791,     0.90891,     0.90991,     0.91091,     0.91191,\n",
       "           0.91291,     0.91391,     0.91491,     0.91592,     0.91692,     0.91792,     0.91892,     0.91992,     0.92092,     0.92192,     0.92292,     0.92392,     0.92492,     0.92593,     0.92693,     0.92793,     0.92893,     0.92993,     0.93093,     0.93193,     0.93293,     0.93393,     0.93493,     0.93594,\n",
       "           0.93694,     0.93794,     0.93894,     0.93994,     0.94094,     0.94194,     0.94294,     0.94394,     0.94494,     0.94595,     0.94695,     0.94795,     0.94895,     0.94995,     0.95095,     0.95195,     0.95295,     0.95395,     0.95495,     0.95596,     0.95696,     0.95796,     0.95896,     0.95996,\n",
       "           0.96096,     0.96196,     0.96296,     0.96396,     0.96496,     0.96597,     0.96697,     0.96797,     0.96897,     0.96997,     0.97097,     0.97197,     0.97297,     0.97397,     0.97497,     0.97598,     0.97698,     0.97798,     0.97898,     0.97998,     0.98098,     0.98198,     0.98298,     0.98398,\n",
       "           0.98498,     0.98599,     0.98699,     0.98799,     0.98899,     0.98999,     0.99099,     0.99199,     0.99299,     0.99399,     0.99499,       0.996,       0.997,       0.998,       0.999,           1]), array([[          0,           0,           0, ...,           0,           0,           0],\n",
       "       [          0,           0,           0, ...,           0,           0,           0],\n",
       "       [          0,           0,           0, ...,           0,           0,           0],\n",
       "       ...,\n",
       "       [        0.2,         0.2,           0, ...,           0,           0,           0],\n",
       "       [   0.059633,    0.059633,    0.041127, ...,           0,           0,           0],\n",
       "       [    0.86176,     0.86176,     0.86176, ...,           0,           0,           0]]), 'Confidence', 'Recall']]\n",
       "fitness: np.float64(0.07178220665849565)\n",
       "keys: ['metrics/precision(B)', 'metrics/recall(B)', 'metrics/mAP50(B)', 'metrics/mAP50-95(B)']\n",
       "maps: array([   0.069649,    0.069649,    0.069649,    0.069649,           0,    0.069649,    0.069649,    0.069649,           0,    0.069649,    0.069649,    0.069649,    0.069649,    0.069649,    0.069649,    0.069649,    0.069649,    0.069649,    0.069649,    0.069649,    0.069649,    0.069649,    0.069649,    0.069649,\n",
       "          0.069649,    0.069649,    0.069649,    0.069649,    0.069649,    0.069649,    0.069649,    0.069649,    0.069649,           0,    0.069649,    0.069649,    0.069649,    0.069649,    0.069649,    0.069649,           0,    0.069649,    0.069649,           0,    0.069649,    0.069649,    0.069649,    0.069649,\n",
       "                 0,    0.069649,    0.069649,    0.069649,    0.069649,    0.069649,    0.069649,    0.069649,    0.069649,    0.069649,    0.069649,    0.069649,    0.069649,    0.069649,    0.069649,    0.069649,    0.069649,    0.069649,           0,    0.069649,    0.069649,    0.069649,    0.069649,    0.069649,\n",
       "          0.069649,           0,    0.069649,    0.069649,    0.069649,    0.069649,    0.069649,    0.069649,    0.069649,    0.069649,    0.069649,    0.069649,    0.069649,    0.069649,    0.069649,    0.069649,           0,    0.069649,     0.11744,     0.21672,    0.069649,           0,    0.069649,    0.069649,\n",
       "          0.069649,           0,    0.069649,    0.069649,    0.069649,           0,    0.069649,           0,    0.069649,           0,     0.16071,           0,    0.069649,    0.069649,           0,    0.069649,    0.069649,    0.069649,       0.625,    0.069649,    0.069649,    0.069649,    0.069649,    0.069649,\n",
       "          0.069649,    0.069649,    0.069649,    0.069649,    0.069649,    0.069649,    0.069649,           0,           0,    0.069649,    0.069649,    0.069649,    0.069649,    0.069649,    0.038958,    0.069649,           0,    0.069649,    0.069649,           0,    0.069649,    0.069649,    0.069649,    0.069649,\n",
       "          0.069649,    0.069649,    0.069649,    0.069649,           0,           0,    0.069649,    0.069649,    0.069649,    0.069649,    0.069649,    0.069649,    0.069649,           0,    0.069649,    0.069649,    0.069649,    0.069649,    0.069649,    0.069649,    0.069649,    0.069649,    0.069649,    0.069649,\n",
       "          0.069649,           0,    0.069649,    0.069649,    0.069649,    0.069649,    0.069649,    0.069649,    0.069649,    0.069649,    0.069649,    0.069649,     0.28769,    0.069649,           0,    0.069649,    0.069649,    0.069649,    0.069649,    0.069649,    0.069649,           0,    0.069649,    0.069649,\n",
       "          0.069649,    0.069649,    0.069649,           0,    0.069649,        0.48,    0.069649,    0.069649,    0.069649,    0.069649,    0.069649,    0.069649,    0.069649,    0.069649,    0.069649,    0.069649,    0.069649,    0.069649,    0.069649,    0.069649,    0.069649,    0.069649,    0.092809,     0.48804])\n",
       "names: {0: '3068320055008-nuoc-loc-evivan-chai-500ml', 1: '3499320013048-sua-rua-mat-cetaphil-diu-nhe-khong-xa-phong-500ml-(moi)', 2: '3760128640607-sua-tuoi-tiet-trung-promess-nguyen-kem-hop-1l', 3: '4897036693162-nuoc-tang-luc-monster-loco-vi-xoai-lon-355ml', 4: '4897036693162-nuoc-tang-luc-monster-mango-loco-355ml', 5: '4901872447008-sap-vuot-toc-uno-hard-giu-nep-tu-nhien-80g', 6: '4902102014281-nuoc-ngot-cocacola-vi-nguyen-ban-lon-500ml', 7: '4902102038720-nuoc-ngot-fanta-nap-van-lon-300ml', 8: '4902430805322-nuoc-rua-tay-diet-khuan-safeguard-trang-tinh-khiet-450ml', 9: '4902806117905-sua-rua-mat-gatsby-facial-wash-acne-care-foam-tuyp-130gtri-mun', 10: '5054563022592-kem-danh-rang-sensodyne-giam-e-buotlam-sang-rang-100g', 11: '5054563023803-kem-danh-rang-sensodyne-rapid-action-giam-e-buot-nhanh-100g', 12: '5391516873239-bia-magners-pear-cider-4-5-chai-330ml', 13: '6902395843467-nuoc-tay-trang-mat-moi-maybelline-150ml', 14: '6920354827792-kem-danh-rang-colgate-maxfresh-tinh-chat-than-tre-225g-+-ban-chai-long-to', 15: '6920354828393-kem-danh-rang-colgate-muoi-himalaya-sang-khoe-180g', 16: '6920354836930-kem-danh-rang-colgate-optic-white-cong-nghe-sac-tim-100g', 17: '6920354837180-kem-danh-rang-colgate-maxwhite-bac-ha-170g-hop', 18: '809939073648-soda-sua-huong-vi-chuoi-milkis-banana', 19: '8411640001098-ruou-vodka-mg-spirit-pineapple-5.5-vol-275ml', 20: '8710908371509-nuoc-tay-trang-simple-lam-sach-trang-diem-vuot-troi-400ml', 21: '8801051128178-sua-tam-on:-the-body-duong-am-huong-hoa-dien-vi-900g', 22: '8801382123446-nuoc-gao-han-quoc-loai-500ml', 23: '8809351955944-sua-rua-mat-dabo-chiet-xuat-lo-hoi-3-trong-1-180ml', 24: '8809696351944-mat-na-jmsolution-hyaluronic-acid-duong-sang-cap-am-30ml', 25: '8850006932322-kem-danh-rang-colgate-maxfresh-huong-bac-ha-225g-+-ban-chai-long-to', 26: '8850006932346-kem-danh-rang-colgate-maxfresh-huong-tra-xanh-225g-+-ban-chai-long-to', 27: \"8850007060321-dau-duong-am-mat-xa-johnson's-baby-oil-200ml\", 28: \"8850007090281-sua-tam-johnson's-chua-tinh-chat-duong-am-tu-sua-va-gao-200ml\", 29: '8850029036434-nuoc-tay-trang-cham-soc-da-mun-nivea-derma-acne-care-micellar-400ml', 30: '8850090113164-kem-danh-rang-sensodyne-cool-gel-mat-lanh,-giam-e-buot-160g', 31: '8850227028927-sua-dua-vi-chuoi-thai-coco-300ml', 32: '8850228003541-nuoc-tang-luc-warrior-huong-dau-chai-330ml', 33: '8850228007617-nuoc-tang-luc-redbull-250ml', 34: '8851013740498-nuoc-ep-tipco-trai-cay-rau-cu-hop-1l', 35: '8851123710084-sua-tam-goi-2in1-cho-be-babi-mild-white-sakura-chiet-xuat-la-anh-dao-380ml', 36: '8851123740593-phan-thom-duong-am-cho-be-babi-mild-white-sakura-160g', 37: \"8851932474245-nuoc-tay-trang-pond's-vitamin-va-hoa-hong-sang-da-chai-400ml\", 38: '8888589308920-tra-bi-dao-winter-melon-jj-lon-300ml', 39: '8934563106140-mi-hao-hao-hai-san-goi-71g', 40: '8934563122201-mi-hao-hao-vi-tom-chua-cay-goi-100g', 41: '8934563138165-mi-hao-hao-tom-chua-cay-goi-75g', 42: '8934563183158-mi-hao-hao-sa-te-hanh-tim-75g', 43: '8934563198152-mi-hao-hao-chay-vi-rau-nam-74gr', 44: '8934563651138-mi-hao-hao,-vi-tom-chua-cayacecook,-coc-(67g)', 45: '8934564600838-tra-xanh-c2-huong-chanh-tuyet-bac-ha-chai-455ml', 46: '8934564600883-tra-xanh-c2-huong-chanh-tuyet-bac-ha-chai-455ml', 47: '8934564660016-nuoc-tang-luc-rong-do-huong-dau-330ml', 48: '8934588012112-nuoc-ngot-pepsi-cola-320ml', 49: '8934588063060-nuoc-loc-aquafina-chai-1-5l', 50: '8934588233074-nuoc-tang-luc-sting-vi-dau-tay-do-330ml', 51: '8934588640445-ca-phe-sua-boss-lon-180ml', 52: '8934588672118-nuoc-ngot-pepsi-khong-calo-vi-chanh-320ml', 53: '8934588870552-tra-olong-teaplus-450ml', 54: '8934662308865-nuoc-rua-tay-kleen-huong-lavender-chai-500ml', 55: '8934663102516-mi-vi-huong-chay-goi-65g', 56: '8934669380260-nuoc-rua-chen-winmart-home-3.5l-(binh)', 57: '8934669380277-nuoc-rua-chen-winmart-home-(tui)', 58: '8934669380277-nuoc-rua-chen-winmart-home-3.5l-(tui)', 59: '8934669493540-nuoc-rua-chen-lix-sieu-sach-tra-xanh-binh-3.6kg', 60: '8934673101097-sua-tuoi-tiet-trung-tiet-trung-vinamilk-khong-duong-bich-220ml', 61: '8934673573399-sua-tuoi-tiet-trung-co-duong,-100%-sua-tuoivinamilk-(1lit).', 62: '8934673700863-nuoc-ep-kiwi-tao-vfresh-1lhop', 63: '8934673701402-nuoc-dao-necta-vinamilk-hop-1l', 64: '8934679941826-mi-gau-do-tom-chua-cay-goi-63g', 65: '8934679943325-mi-gau-do-tom-va-ga-goi-63g', 66: '8934683008614-ca-phe-sua-vinacafe-3-in-1-gold-tui-480g-24-goi-tui', 67: '8934683008867-nuoc-tang-luc-wake-up-247-vi-ca-phe-330ml', 68: '8934683009444-ca-phe-hoa-tan-vinacafe-gold-orinal-3-trong-1-hop-18-goi-20g', 69: '8934683009925-ca-phe-sua-da-vinacafe-chat-hop-10-goi-24g', 70: '8934692040056-bia-tuborg-ice-330ml', 71: '8934692090013-bia-1664-blanc-5%-abv-chai-330ml', 72: '8934692100316-nuoc-tao-len-men-vi-tao-somersby-4.5%-abv-lon-330ml', 73: '8934707029182-hat-nem-knorr-thit-than-xuong-ong-va-tuy-900g', 74: '8934716010300-nuoc-loc-sapuwa-chai-1-5l', 75: '8934774000800-nuoc-khoang-kiem-vikoda-chai-1.5l', 76: '8934804020402-nuoc-tuong-maggi-dau-nanh-dam-dac-700ml', 77: '8934804022307-dau-hao-maggi-chai-530g', 78: '8934804026817-nuoc-tuong-maggi-dau-nanh-thanh-diu-chai-700ml', 79: '8934804027333-tra-chanh-nestea-hoa-tan-hop-195g-15-goi-x-13g', 80: '8934804028064-ca-phe-hoa-tan-nescafe-3in1-vi-nguyen-ban-tui-782g-(17g-x-46-goi)', 81: '8934804038131-tra-hoa-qua-nestea-hoa-tan-hop-144g-12-goi-x-12g', 82: '8934804040523-tra-vai-va-huong-hoa-lai-nestea-hoa-tan-hop-144g-12-goi-x-12g', 83: '8934822111298-nuoc-trai-cay-len-men-strongbow-gold-apple-4-5-abv-lon-320ml', 84: '8934822112332-bia-tiger-lon-cao-330ml-lon', 85: '8934822121297-nuoc-trai-cay-len-men-strongbow-red-beries-4.5%-abv-lon-320ml', 86: '8934822123253-bia-tiger-lager-4-6-abv-lon-250ml', 87: '8934822201272-bia-heineken-silver-lon-250ml', 88: '8934822212339-bia-heineken-lon-cao-330ml', 89: '8934822220112-bia-viet-lon-330ml', 90: '8934822361211-bia-heineken-khong-con-lon-330ml', 91: '8934822431211-bia-tiger-soju-infused-lager-wonder-melon-vi-dua-luoi-lon-330ml', 92: '8934822451295-nuoc-trai-cay-len-men-strongbow-vi-thom-luu-3.5%-lon-330ml', 93: '8934822801335-bia-tiger-crystal-4-6-phan-tram-lon-330ml', 94: '8934822823252-bia-tiger-crystal-4.6%-abv-lon-250ml', 95: '8934839128081-kem-danh-rang-p/s-muoi-hong-hoa-cuc-tuyp-230g', 96: '8934839128654-kem-danh-rang-closeup-dau-quat-detox-180g', 97: '8934840000093-nuoc-khoang-chanh-lemona-chai-500ml', 98: '8934840335560-tra-viet-quat-atiso-do-nestea-hop-120g', 99: '8934841903362-sua-tiet-trung-dutch-lady-ha-lan-huong-socola-bich-180mlbich', 100: '8934868153733-sua-duong-the-vaseline-ngan-ngua-lao-hoa-350ml', 101: '8934868156871-dau-xa-sunsilk-mem-muot-dieu-ky-320g', 102: '8934868166320-nuoc-rua-tay-lifebuoy-cong-thuc-vitamin+-khu-mui-huong-chanh-chai-450g', 103: '8934868166344-nuoc-rua-tay-lifebouy-450ml', 104: '8934868166351-nuoc-rua-tay-lifebuoy-matcha-va-lo-hoichai-450g', 105: '8934868166825-dau-goi-sunsilk-natural-duong-ngan-gay-rung-650g', 106: '8934868166870-dau-goi-sunsilk-ong-muot-rang-ngoi-chai-650g', 107: '8934868166924-dau-goi-sunsilk-mem-muot-dieu-ky-chai-650g', 108: '8934868167938-dau-goi-tresemme-keratin-smooth-vao-nep-suon-muot-chai-480g', 109: '8934868170983-nuoc-rua-tay-lifebuoy-cong-thuc-vitamin+-khu-mui-huong-chanh-tui-400g', 110: '8934868170990-nuoc-rua-tay-lifebuoy-vitamin-sua-duong-am-tui-1kg', 111: '8934868171829-kem-tay-sunlight-chuyen-dung-sieu-sach-sieu-sang-chai-690g', 112: '8934868171843-nuoc-lau-da-nang-sunlight-chanh-va-sa-chai-500ml', 113: '8934868171850-nuoc-lau-kinh-sunlight-sieu-nhanh-sach-trong-suot-chai-520ml', 114: '8934868180470-dau-goi-dove-biotin-ngan-gay-rung-toc-880g', 115: '8934868180531-dau-goi-dove-ceramide-phuc-hoi-hu-ton-880g', 116: '8934868184171-nuoc-giat-omo-matic-chuyen-gia-cua-truoc-ngan-ngua-mui-am-moc-tui-2.8kg', 117: '8934868185093-dau-xa-sunsilk-natural-duong-phuc-hoi-330ml', 118: '8934868186540-sua-tam-lifebuoy-chiet-xuat-cica-va-muoi-hong-ngua-tham-chai-800g', 119: '8934868188612-sua-tam-duong-the-dove-tuoi-mat,-da-sang-khoai-500g', 120: '8934868190394-nuoc-giat-comfort-huong-hoa-anh-dao-va-dao-tuoi-tui-3kg', 121: '8935001214274-tra-bi-dao-wonderfarm-lon-310ml', 122: '8935001215028-tra-tea-break-milk-350ml', 123: '8935001282297-sua-trai-cay-kirin-latte-dau-chai-440ml', 124: '8935005801012-nuoc-loc-lavie-chai-1-5l', 125: '8935006531581-kem-rua-mat-oxy-lam-sach-sau-sang-khoai-100g', 126: '8935006531956-kem-rua-mat-oxy-co-hat-lam-sach-sau-giam-nhon-100g', 127: '8935006532755-kem-rua-mat-acnes-vitamin-lam-sang-da,-mo-seo-tham-50g', 128: '8935006538634-dau-tay-trang-hada-labo-sach-sau-duong-am-toi-uu-200ml', 129: '8935006544864-dung-dich-tay-trang-acnes-cho-da-mun-200ml', 130: '8935006547650-sua-rua-mat-oxy-oil-hydrating-wash-cho-da-thuong,-kho-nhay-cam-100g', 131: '8935015510522-duong-vang-khoang-chat-bien-hoa-goi-1kg', 132: '8935015513189-duong-vang-thien-nhien-bien-hoa-gold-tui-1kg', 133: '8935018801641-khan-bep-da-nang-pulppy-classic-2-lop-loc-2-cuon', 134: '8935024123287-ca-phe-sua-hoa-tan-g7-3in1-hop-336g-(16g-x-21-goi)', 135: '8935024170403-cappuccino-dua-trung-nguyen-216g-18g-x-12-goi', 136: '8935024170519-ca-phe-trung-nguyen-legend-classic-hop-357g-17g-x-21-goi', 137: '8935024170632-ca-phe-g7-gold-rumi-252g', 138: '8935030221359-sua-tam-on:-the-body-duong-am-huong-thu-gian-1kg', 139: '8935039570700-ca-phe-sua-robusta-birdy-lon-170ml', 140: '8935049017295-sua-tuoi-tiet-trung-co-duong-nutimilk-bich-220ml', 141: '8935049018728-sua-trai-cay-nuvi-cam-tui-110mltui', 142: '8935049500247-nuoc-giai-khat-thums-up-charged-huong-dau-rung-chai-330ml', 143: '8935049500445-nuoc-ngot-fanta-chai-1.5l', 144: '8935049501190-nuoc-tra-fuze-tea-vi-chanh-sa-450ml', 145: '8935049501374-nuoc-ngot-cocacola-vi-nguyen-ban-chai-600ml', 146: '8935049501503-nuoc-ngot-coca-cola-vi-nguyen-ban-lon-320ml', 147: '8935049501541-nuoc-ngot-cocacola-plus-lon-320ml', 148: '8935049501572-nuoc-ngot-fanta-vi-cam-lon-320ml', 149: '8935049501718-nuoc-ngot-sprite-lon-320ml', 150: '8935049510604-nuoc-ngot-sprite-chai-320ml', 151: '8935049510857-nuoc-loc-dasani-chai-1.5l', 152: '8935049511038-sua-trai-cay-nutriboost-cam-chai-1l', 153: '8935136862319-sua-rua-mat-xmen-go-refresh-suc-manh-mat-lanh-100g', 154: '8935136863378-sap-vuot-toc-x-men-salon-solutions-clay-70g', 155: '8935136864375-dau-goi-lashe-superfood-phuc-hoi-hu-ton-640g', 156: '8935136865648-sua-tam-purite-sang-min-da-huong-hoa-anh-dao-1.1l', 157: '8935136865709-sua-tam-purite-duong-da-mem-min-huong-hoa-hong-rose-chai-850ml', 158: '8935137601122-tra-xanh-thai-nguyen-100g', 159: '8935212830560-nuoc-lau-be-mat-da-nang-maxkleen-chai-520ml', 160: '8935328600156-tra-xanh-tui-loc-phuc-long-2g-x-hop-25-goi', 161: '8936000440862-bia-ha-noi-lon-330ml', 162: '8936010530072-hong-tra-tui-loc-cozy-50g', 163: '8936010530713-tra-dao-cozy-hoa-tan-hop-16-goi-x-15g', 164: '8936010530881-tra-chanh-cozy-hoa-tan-hop-240g-16-goi-x-15g', 165: '8936013254951-nuoc-rua-kinh-gift-540ml', 166: '8936020760124-khan-bep-elene-2-cuon', 167: '8936036201604-bia-hoegaarden-rosee-chai-248ml', 168: '8936048470012-mi-3-mien-tom-chua-cay-65g', 169: '8936048470036-mi-3-mien-mi-chay-la-da-65g-(goi)', 170: '8936048470524-mi-tom-3-mien-gold-vi-bo-ham-rau-thom-75g', 171: '8936048471248-mi-tom-chua-cay-dac-biet-3-mien-gold-goi-75g', 172: '8936048473921-mi-3-mien-ga-soi-pho', 173: '8936059330367-ca-phe-sua-3-in-1-valentina-160g-(hop-10-goi)', 174: '8936063370359-nuoc-rua-tay-dr.clean-daulo-500ml', 175: '8936067892789-tra-viet-quat-tvt-450mlchai', 176: '8936069601846-nuoc-lau-san-suzy-huong-que+nhai-1l', 177: '8936069606667-nuoc-rua-chen-suzy-huong-bac-ha-2.05l', 178: '8936079140021-ca-phe-sua-highland-coffee-lon-185ml', 179: '8936089171312-ca-phe-cappuccino-dua-archcafe-20g-x-12-goi', 180: '8936094291005-bia-budweiser-5-lon-330ml', 181: '8936094291401-bia-budweiser-aluminum-chai-355ml', 182: '8936122200276-ca-phe-mr.brown-blue-mountain-240ml', 183: '8936123410162-sua-tam-goi-tre-em-lactacyd-milky-bao-ve-da-toc-be-500ml', 184: '8936126480414-ca-phe-hoa-tan-l-elegant-mocha-cappuccino-12-goi-300g', 185: '8936127790031-nuoc-loc-th-true-water-chai-1-5l', 186: '8936127794206-nuoc-uong-sua-trai-cay-th-true-juice-milk-huong-viet-quat-300ml', 187: '8936127796514-tra-dao-tu-nhien-th-true-tea-chai-350ml', 188: '8936135430226-ca-phe-hoa-tan-3in1-mr.-viet-hop-15-goi-17g', 189: '8936136163314-nuoc-mam-nam-ngu-3-trong-1-750ml', 190: '8936156730022-xit-lau-kinh-blue-650mlchai', 191: '8936156730718-nuoc-xa-vai-blue-dam-dac-huong-thanh-xuan-tui-3.2l', 192: '8936185350130-nuoc-kombucha-cam-dao-250ml', 193: '8936185351427-nuoc-trai-cay-len-men-chill-cocktail-vi-dao-chai-275ml', 194: '8936185351816-chill-cocktail-sakura-vi-dua-hau-sake-lon-330ml', 195: '8936191270057-ca-phe-cappuccino-dua-just-viet-hop-hop-10-goi-x-17g', 196: '8936193070013-tra-xanh-khong-do-500ml', 197: '8936193070075-nuoc-tang-luc-number-1-chai-330ml', 198: '8936199810026-cafe-the-coffee-house-sua-da-22gx10-goi-(hop)', 199: '8936203350043-sua-dinh-duong-tiet-trung-vpmilk-omega-it-duong-bich-220ml', 200: '8936221042906-tra-bupnon-tea365-huong-mat-ong-500ml', 201: '8936721790017-nuoc-loc-th-true-water-chai-500ml', 202: '8938507729044-khan-giay-da-nang-2-lop-2-cuon-premier', 203: '8938509472269-khan-giay-da-nang-teddy-bear', 204: '8938523050382-ca-phe-chon-hoa-tan-ban-fb-200g-(20g-x-10-goi)', 205: '8938530527020-nuoc-huong-mia-miaqua-chai-500ml', 206: '8992222052443-gatsby-water-gloss-super-hardgel-vuot-toc-cung-170g', 207: '8992222053129-wax-tao-kieu-toc-gatsby-styling-wax-75g', 208: '8992222055567-wax-vuot-toc-gatsby-classy-dry-75g', 209: '8994993018222-sua-rua-mat-garnier-3-trong-1-giam-munsang-da-100ml-(moi)', 210: '8997035601321-nuoc-uong-bu-dien-giai-bo-sung-ion-pocari-sweat-chai-900ml', 211: '9008700214872-juice-immune-active-fruit-juice-by-rauch-1l', 212: \"9555063007073-sua-tam-goi-em-be-khong-cay-mat-be-love-l'affair-malaysia-chai-500ml-cam\", 213: '9556111620282-nuoc-rua-tay-dettol-khang-khuan-chai-250g', 214: 'object', 215: 'unknown'}\n",
       "plot: True\n",
       "results_dict: {'metrics/precision(B)': np.float64(0.10424115419040772), 'metrics/recall(B)': np.float64(0.10003446326862228), 'metrics/mAP50(B)': np.float64(0.09098267990816056), 'metrics/mAP50-95(B)': np.float64(0.06964882074186621), 'fitness': np.float64(0.07178220665849565)}\n",
       "save_dir: PosixPath('/Volumes/Cucumber/Projects/item-identification/runs/detect/yolov8-finetune23')\n",
       "speed: {'preprocess': 0.45626249591088996, 'inference': 96.35004031607191, 'loss': 0.00015653479880935585, 'postprocess': 4.475818546095956}\n",
       "task: 'detect'"
      ]
     },
     "execution_count": 1,
     "metadata": {},
     "output_type": "execute_result"
    }
   ],
   "source": [
    "from ultralytics import YOLO\n",
    "\n",
    "# Load a pre-trained model (you can use yolov8s.pt, yolov8m.pt, etc.)\n",
    "model = YOLO(\"yolov8s.pt\")\n",
    "\n",
    "# Train the model on your COCO-format dataset\n",
    "model.train(\n",
    "    data=\"/Volumes/Cucumber/Projects/datasets/hcmus-iid-sku110k-yolo/my_custom_dataset.yaml\",  # path to the dataset config file\n",
    "    epochs=32,\n",
    "    imgsz=640,\n",
    "    batch=4,\n",
    "    name=\"yolov8-finetune\"\n",
    ")\n"
   ]
  },
  {
   "cell_type": "code",
   "execution_count": 9,
   "metadata": {},
   "outputs": [
    {
     "name": "stdout",
     "output_type": "stream",
     "text": [
      "Ultralytics 8.3.111 🚀 Python-3.9.6 torch-2.6.0 CPU (Apple M4)\n",
      "\u001b[34m\u001b[1mval: \u001b[0mFast image access ✅ (ping: 0.0±0.0 ms, read: 4230.5±1144.8 MB/s, size: 186.2 KB)\n"
     ]
    },
    {
     "name": "stderr",
     "output_type": "stream",
     "text": [
      "\u001b[34m\u001b[1mval: \u001b[0mScanning /Volumes/Cucumber/Projects/datasets/hcmus-iid-yolo/test/labels... 346 images, 0 backgrounds, 3 corrupt: 100%|██████████| 346/346 [00:00<00:00, 5026.95it/s]"
     ]
    },
    {
     "name": "stdout",
     "output_type": "stream",
     "text": [
      "\u001b[34m\u001b[1mval: \u001b[0mWARNING ⚠️ /Volumes/Cucumber/Projects/datasets/hcmus-iid-yolo/test/images/164241964a9ad34d11b8efba537ebfb5.jpg: 1 duplicate labels removed\n",
      "\u001b[34m\u001b[1mval: \u001b[0mWARNING ⚠️ /Volumes/Cucumber/Projects/datasets/hcmus-iid-yolo/test/images/1be5cd0e4e4f4bdbc832f8b891fff204.jpg: 1 duplicate labels removed\n",
      "\u001b[34m\u001b[1mval: \u001b[0mWARNING ⚠️ /Volumes/Cucumber/Projects/datasets/hcmus-iid-yolo/test/images/275413170650ba2a5540a7fb4f829683.jpg: 1 duplicate labels removed\n",
      "\u001b[34m\u001b[1mval: \u001b[0mWARNING ⚠️ /Volumes/Cucumber/Projects/datasets/hcmus-iid-yolo/test/images/338f4a25818873ab6dda8170779c96bf.jpg: 6 duplicate labels removed\n",
      "\u001b[34m\u001b[1mval: \u001b[0mWARNING ⚠️ /Volumes/Cucumber/Projects/datasets/hcmus-iid-yolo/test/images/45fd865c6b853357d012d81276143679.jpg: 1 duplicate labels removed\n",
      "\u001b[34m\u001b[1mval: \u001b[0mWARNING ⚠️ /Volumes/Cucumber/Projects/datasets/hcmus-iid-yolo/test/images/52b93492a5db13b565e3048f9a97f985.jpg: 1 duplicate labels removed\n",
      "\u001b[34m\u001b[1mval: \u001b[0mWARNING ⚠️ /Volumes/Cucumber/Projects/datasets/hcmus-iid-yolo/test/images/5679a54a5251d20bd1de6dc20f259ed6.jpg: 3 duplicate labels removed\n",
      "\u001b[34m\u001b[1mval: \u001b[0mWARNING ⚠️ /Volumes/Cucumber/Projects/datasets/hcmus-iid-yolo/test/images/68811d7895d106e34d1bfb6f74c75993.jpg: 11 duplicate labels removed\n",
      "\u001b[34m\u001b[1mval: \u001b[0mWARNING ⚠️ /Volumes/Cucumber/Projects/datasets/hcmus-iid-yolo/test/images/6f9e47846678c9d5e56bd3e45c0638aa.jpg: 1 duplicate labels removed\n",
      "\u001b[34m\u001b[1mval: \u001b[0mWARNING ⚠️ /Volumes/Cucumber/Projects/datasets/hcmus-iid-yolo/test/images/78118b8bce09c3867e79fddbb62a632a.jpg: 1 duplicate labels removed\n",
      "\u001b[34m\u001b[1mval: \u001b[0mWARNING ⚠️ /Volumes/Cucumber/Projects/datasets/hcmus-iid-yolo/test/images/7c64c27dad74c18c2d437e297079f8fc.jpg: ignoring corrupt image/label: non-normalized or out of bounds coordinates [     1.1416]\n",
      "\u001b[34m\u001b[1mval: \u001b[0mWARNING ⚠️ /Volumes/Cucumber/Projects/datasets/hcmus-iid-yolo/test/images/7df242c3697e2a566397c2b9c8f270b8.jpg: ignoring corrupt image/label: non-normalized or out of bounds coordinates [     1.2315]\n",
      "\u001b[34m\u001b[1mval: \u001b[0mWARNING ⚠️ /Volumes/Cucumber/Projects/datasets/hcmus-iid-yolo/test/images/895d6317b36738277c2b36959606cc65.jpg: 2 duplicate labels removed\n",
      "\u001b[34m\u001b[1mval: \u001b[0mWARNING ⚠️ /Volumes/Cucumber/Projects/datasets/hcmus-iid-yolo/test/images/89b63a4e57a7bb5efc062dd45ae3354d.jpg: 1 duplicate labels removed\n",
      "\u001b[34m\u001b[1mval: \u001b[0mWARNING ⚠️ /Volumes/Cucumber/Projects/datasets/hcmus-iid-yolo/test/images/92a1dce9bdb9e29ff535add37c2342e6.jpg: 4 duplicate labels removed\n",
      "\u001b[34m\u001b[1mval: \u001b[0mWARNING ⚠️ /Volumes/Cucumber/Projects/datasets/hcmus-iid-yolo/test/images/9ac1c9bb866feecd2380917c38997bf9.jpg: 4 duplicate labels removed\n",
      "\u001b[34m\u001b[1mval: \u001b[0mWARNING ⚠️ /Volumes/Cucumber/Projects/datasets/hcmus-iid-yolo/test/images/ba15deb7b9a2f6d291ff5ab94aa8055a.jpg: 3 duplicate labels removed\n",
      "\u001b[34m\u001b[1mval: \u001b[0mWARNING ⚠️ /Volumes/Cucumber/Projects/datasets/hcmus-iid-yolo/test/images/ba984a312ecc21fce7ed6b4e8e74ed04.jpg: 2 duplicate labels removed\n",
      "\u001b[34m\u001b[1mval: \u001b[0mWARNING ⚠️ /Volumes/Cucumber/Projects/datasets/hcmus-iid-yolo/test/images/c5e36f28a9b566171ae15f807b85aedb.jpg: 1 duplicate labels removed\n",
      "\u001b[34m\u001b[1mval: \u001b[0mWARNING ⚠️ /Volumes/Cucumber/Projects/datasets/hcmus-iid-yolo/test/images/c7f83011dbf7b7f53f3e46e174f1946c.jpg: 2 duplicate labels removed\n",
      "\u001b[34m\u001b[1mval: \u001b[0mWARNING ⚠️ /Volumes/Cucumber/Projects/datasets/hcmus-iid-yolo/test/images/d0be38f15f0c97334b0881e101f39a0f.jpg: 1 duplicate labels removed\n",
      "\u001b[34m\u001b[1mval: \u001b[0mWARNING ⚠️ /Volumes/Cucumber/Projects/datasets/hcmus-iid-yolo/test/images/d2347b8ed11aa7f0e5080e1968d197b4.jpg: 1 duplicate labels removed\n",
      "\u001b[34m\u001b[1mval: \u001b[0mWARNING ⚠️ /Volumes/Cucumber/Projects/datasets/hcmus-iid-yolo/test/images/da4f5eaa5705368490824e0d4690839a.jpg: 1 duplicate labels removed\n",
      "\u001b[34m\u001b[1mval: \u001b[0mWARNING ⚠️ /Volumes/Cucumber/Projects/datasets/hcmus-iid-yolo/test/images/dac194031d5364c9389a31a413336286.jpg: 1 duplicate labels removed\n",
      "\u001b[34m\u001b[1mval: \u001b[0mWARNING ⚠️ /Volumes/Cucumber/Projects/datasets/hcmus-iid-yolo/test/images/db12309490acf70903e1781fe2503021.jpg: 1 duplicate labels removed\n",
      "\u001b[34m\u001b[1mval: \u001b[0mWARNING ⚠️ /Volumes/Cucumber/Projects/datasets/hcmus-iid-yolo/test/images/df88fb24988e888881c565a8d6bd2b21.jpg: ignoring corrupt image/label: non-normalized or out of bounds coordinates [     1.1614]\n",
      "\u001b[34m\u001b[1mval: \u001b[0mWARNING ⚠️ /Volumes/Cucumber/Projects/datasets/hcmus-iid-yolo/test/images/e67cb3c9fd43d537e1315acd84638bf8.jpg: 1 duplicate labels removed\n",
      "\u001b[34m\u001b[1mval: \u001b[0mWARNING ⚠️ /Volumes/Cucumber/Projects/datasets/hcmus-iid-yolo/test/images/e6e23528103e0df921890afc200e147f.jpg: 2 duplicate labels removed\n",
      "\u001b[34m\u001b[1mval: \u001b[0mWARNING ⚠️ /Volumes/Cucumber/Projects/datasets/hcmus-iid-yolo/test/images/ef94f3d5e89e47ed33bee03b7fd3e69f.jpg: 1 duplicate labels removed\n",
      "\u001b[34m\u001b[1mval: \u001b[0mNew cache created: /Volumes/Cucumber/Projects/datasets/hcmus-iid-yolo/test/labels.cache\n"
     ]
    },
    {
     "name": "stderr",
     "output_type": "stream",
     "text": [
      "\n",
      "                 Class     Images  Instances      Box(P          R      mAP50  mAP50-95): 100%|██████████| 86/86 [00:38<00:00,  2.21it/s]\n"
     ]
    },
    {
     "name": "stdout",
     "output_type": "stream",
     "text": [
      "                   all        343      13601    0.00527    0.00362    0.00368    0.00247\n",
      "3068320055008-nuoc-loc-evivan-chai-500ml          9         58          0          0          0          0\n",
      "3760128640607-sua-tuoi-tiet-trung-promess-nguyen-kem-hop-1l          2          4          0          0          0          0\n",
      "4897036693162-nuoc-tang-luc-monster-loco-vi-xoai-lon-355ml          1          6          0          0          0          0\n",
      "4897036693162-nuoc-tang-luc-monster-mango-loco-355ml          6         38          0          0          0          0\n",
      "4901872447008-sap-vuot-toc-uno-hard-giu-nep-tu-nhien-80g          2          8          0          0          0          0\n",
      "4902102014281-nuoc-ngot-cocacola-vi-nguyen-ban-lon-500ml          3         12          0          0          0          0\n",
      "4902102038720-nuoc-ngot-fanta-nap-van-lon-300ml          2          5          0          0          0          0\n",
      "4902430805322-nuoc-rua-tay-diet-khuan-safeguard-trang-tinh-khiet-450ml          6          8          0          0          0          0\n",
      "5054563022592-kem-danh-rang-sensodyne-giam-e-buotlam-sang-rang-100g          3          7          0          0          0          0\n",
      "5054563023803-kem-danh-rang-sensodyne-rapid-action-giam-e-buot-nhanh-100g         10         59          0          0          0          0\n",
      "6920354827792-kem-danh-rang-colgate-maxfresh-tinh-chat-than-tre-225g-+-ban-chai-long-to         16         84          0          0          0          0\n",
      "6920354828393-kem-danh-rang-colgate-muoi-himalaya-sang-khoe-180g          6         20          0          0          0          0\n",
      "6920354836930-kem-danh-rang-colgate-optic-white-cong-nghe-sac-tim-100g          7         78          0          0          0          0\n",
      "6920354837180-kem-danh-rang-colgate-maxwhite-bac-ha-170g-hop          5         12          0          0          0          0\n",
      "809939073648-soda-sua-huong-vi-chuoi-milkis-banana          2          4          0          0          0          0\n",
      "8411640001098-ruou-vodka-mg-spirit-pineapple-5.5-vol-275ml          3         11          0          0          0          0\n",
      "8710908371509-nuoc-tay-trang-simple-lam-sach-trang-diem-vuot-troi-400ml          3          3          0          0          0          0\n",
      "8801051128178-sua-tam-on:-the-body-duong-am-huong-hoa-dien-vi-900g          2          5          0          0          0          0\n",
      "8801382123446-nuoc-gao-han-quoc-loai-500ml          7         34          0          0          0          0\n",
      "8809351955944-sua-rua-mat-dabo-chiet-xuat-lo-hoi-3-trong-1-180ml          3          3          0          0          0          0\n",
      "8850006932322-kem-danh-rang-colgate-maxfresh-huong-bac-ha-225g-+-ban-chai-long-to          9         26          0          0          0          0\n",
      "8850006932346-kem-danh-rang-colgate-maxfresh-huong-tra-xanh-225g-+-ban-chai-long-to         12         69          0          0          0          0\n",
      "8850090113164-kem-danh-rang-sensodyne-cool-gel-mat-lanh,-giam-e-buot-160g          8         40          0          0          0          0\n",
      "8850227028927-sua-dua-vi-chuoi-thai-coco-300ml          2          3          0          0          0          0\n",
      "8850228003541-nuoc-tang-luc-warrior-huong-dau-chai-330ml          9         60          0          0          0          0\n",
      "8850228007617-nuoc-tang-luc-redbull-250ml          8         75          0          0          0          0\n",
      "8851013740498-nuoc-ep-tipco-trai-cay-rau-cu-hop-1l          5         15          0          0          0          0\n",
      "8851932474245-nuoc-tay-trang-pond's-vitamin-va-hoa-hong-sang-da-chai-400ml          2          3          0          0          0          0\n",
      "8888589308920-tra-bi-dao-winter-melon-jj-lon-300ml          3         30          0          0          0          0\n",
      "8934563106140-mi-hao-hao-hai-san-goi-71g          3        123          0          0          0          0\n",
      "8934563122201-mi-hao-hao-vi-tom-chua-cay-goi-100g          4         23          0          0          0          0\n",
      "8934563138165-mi-hao-hao-tom-chua-cay-goi-75g          4         31          0          0          0          0\n",
      "8934563183158-mi-hao-hao-sa-te-hanh-tim-75g          4         61          0          0          0          0\n",
      "8934563198152-mi-hao-hao-chay-vi-rau-nam-74gr          9        106          0          0          0          0\n",
      "8934563651138-mi-hao-hao,-vi-tom-chua-cayacecook,-coc-(67g)          5         83          0          0          0          0\n",
      "8934564600838-tra-xanh-c2-huong-chanh-tuyet-bac-ha-chai-455ml          1          6          0          0          0          0\n",
      "8934564600883-tra-xanh-c2-huong-chanh-tuyet-bac-ha-chai-455ml          3         18          0          0          0          0\n",
      "8934564660016-nuoc-tang-luc-rong-do-huong-dau-330ml          6         21          0          0          0          0\n",
      "8934588012112-nuoc-ngot-pepsi-cola-320ml          6         32          0          0          0          0\n",
      "8934588063060-nuoc-loc-aquafina-chai-1-5l         14         88          0          0          0          0\n",
      "8934588233074-nuoc-tang-luc-sting-vi-dau-tay-do-330ml         10        117          0          0          0          0\n",
      "8934588640445-ca-phe-sua-boss-lon-180ml          8        139          0          0          0          0\n",
      "8934588672118-nuoc-ngot-pepsi-khong-calo-vi-chanh-320ml         10         49          0          0          0          0\n",
      "8934588870552-tra-olong-teaplus-450ml          4         37          0          0          0          0\n",
      "8934662308865-nuoc-rua-tay-kleen-huong-lavender-chai-500ml          1         14          0          0          0          0\n",
      "8934669380260-nuoc-rua-chen-winmart-home-3.5l-(binh)          3         14     0.0476      0.214     0.0337     0.0299\n",
      "8934669380277-nuoc-rua-chen-winmart-home-3.5l-(tui)          1          5          0          0          0          0\n",
      "8934669493540-nuoc-rua-chen-lix-sieu-sach-tra-xanh-binh-3.6kg          7         45      0.417      0.222      0.337      0.228\n",
      "8934673101097-sua-tuoi-tiet-trung-tiet-trung-vinamilk-khong-duong-bich-220ml          3         76          0          0          0          0\n",
      "8934673573399-sua-tuoi-tiet-trung-co-duong,-100%-sua-tuoivinamilk-(1lit).          7        164          0          0          0          0\n",
      "8934673700863-nuoc-ep-kiwi-tao-vfresh-1lhop          4         12          0          0          0          0\n",
      "8934673701402-nuoc-dao-necta-vinamilk-hop-1l          7         27          0          0          0          0\n",
      "8934683008614-ca-phe-sua-vinacafe-3-in-1-gold-tui-480g-24-goi-tui          8         56          0          0          0          0\n",
      "8934683008867-nuoc-tang-luc-wake-up-247-vi-ca-phe-330ml          7         52          0          0          0          0\n",
      "8934683009444-ca-phe-hoa-tan-vinacafe-gold-orinal-3-trong-1-hop-18-goi-20g         10        152          0          0          0          0\n",
      "8934683009925-ca-phe-sua-da-vinacafe-chat-hop-10-goi-24g         14         60          0          0          0          0\n",
      "8934692090013-bia-1664-blanc-5%-abv-chai-330ml         11         58          0          0          0          0\n",
      "8934692100316-nuoc-tao-len-men-vi-tao-somersby-4.5%-abv-lon-330ml          8        108          0          0          0          0\n",
      "8934707029182-hat-nem-knorr-thit-than-xuong-ong-va-tuy-900g          3         14          0          0          0          0\n",
      "8934716010300-nuoc-loc-sapuwa-chai-1-5l          3          6          0          0          0          0\n",
      "8934774000800-nuoc-khoang-kiem-vikoda-chai-1.5l          4         17          0          0          0          0\n",
      "8934804020402-nuoc-tuong-maggi-dau-nanh-dam-dac-700ml          5         75          0          0          0          0\n",
      "8934804022307-dau-hao-maggi-chai-530g          7         54          0          0          0          0\n",
      "8934804026817-nuoc-tuong-maggi-dau-nanh-thanh-diu-chai-700ml          6         83          0          0          0          0\n",
      "8934804027333-tra-chanh-nestea-hoa-tan-hop-195g-15-goi-x-13g          7         26          0          0          0          0\n",
      "8934804028064-ca-phe-hoa-tan-nescafe-3in1-vi-nguyen-ban-tui-782g-(17g-x-46-goi)         12         38          0          0          0          0\n",
      "8934804038131-tra-hoa-qua-nestea-hoa-tan-hop-144g-12-goi-x-12g          8         30          0          0          0          0\n",
      "8934804040523-tra-vai-va-huong-hoa-lai-nestea-hoa-tan-hop-144g-12-goi-x-12g          9         54          0          0          0          0\n",
      "8934822111298-nuoc-trai-cay-len-men-strongbow-gold-apple-4-5-abv-lon-320ml          8         45          0          0          0          0\n",
      "8934822112332-bia-tiger-lon-cao-330ml-lon         13        222    0.00336     0.0045     0.0018    0.00126\n",
      "8934822121297-nuoc-trai-cay-len-men-strongbow-red-beries-4.5%-abv-lon-320ml          5         37          0          0          0          0\n",
      "8934822123253-bia-tiger-lager-4-6-abv-lon-250ml          8         93          0          0          0          0\n",
      "8934822201272-bia-heineken-silver-lon-250ml         21        283    0.00427    0.00707    0.00218    0.00119\n",
      "8934822212339-bia-heineken-lon-cao-330ml         34        536     0.0789     0.0056       0.04     0.0201\n",
      "8934822220112-bia-viet-lon-330ml          3         67          0          0          0          0\n",
      "8934822361211-bia-heineken-khong-con-lon-330ml          9         49          0          0          0          0\n",
      "8934822431211-bia-tiger-soju-infused-lager-wonder-melon-vi-dua-luoi-lon-330ml         28        413     0.0208    0.00242     0.0105    0.00838\n",
      "8934822451295-nuoc-trai-cay-len-men-strongbow-vi-thom-luu-3.5%-lon-330ml          7         52          0          0          0          0\n",
      "8934822801335-bia-tiger-crystal-4-6-phan-tram-lon-330ml          8         79          0          0          0          0\n",
      "8934822823252-bia-tiger-crystal-4.6%-abv-lon-250ml         10        121          0          0          0          0\n",
      "8934839128081-kem-danh-rang-p/s-muoi-hong-hoa-cuc-tuyp-230g          3         12          0          0          0          0\n",
      "8934839128654-kem-danh-rang-closeup-dau-quat-detox-180g          6         48          0          0          0          0\n",
      "8934840000093-nuoc-khoang-chanh-lemona-chai-500ml          6         51          0          0          0          0\n",
      "8934840335560-tra-viet-quat-atiso-do-nestea-hop-120g          2          8          0          0          0          0\n",
      "8934841903362-sua-tiet-trung-dutch-lady-ha-lan-huong-socola-bich-180mlbich          2         25          0          0          0          0\n",
      "8934868156871-dau-xa-sunsilk-mem-muot-dieu-ky-320g          1          4          0          0          0          0\n",
      "8934868166320-nuoc-rua-tay-lifebuoy-cong-thuc-vitamin+-khu-mui-huong-chanh-chai-450g          6         49          0          0          0          0\n",
      "8934868166344-nuoc-rua-tay-lifebouy-450ml          1          4          0          0          0          0\n",
      "8934868166351-nuoc-rua-tay-lifebuoy-matcha-va-lo-hoichai-450g          6         30          0          0          0          0\n",
      "8934868166825-dau-goi-sunsilk-natural-duong-ngan-gay-rung-650g          1         14          0          0          0          0\n",
      "8934868166870-dau-goi-sunsilk-ong-muot-rang-ngoi-chai-650g          2         50          0          0          0          0\n",
      "8934868166924-dau-goi-sunsilk-mem-muot-dieu-ky-chai-650g          2         53          0          0          0          0\n",
      "8934868167938-dau-goi-tresemme-keratin-smooth-vao-nep-suon-muot-chai-480g          1         16          0          0          0          0\n",
      "8934868170983-nuoc-rua-tay-lifebuoy-cong-thuc-vitamin+-khu-mui-huong-chanh-tui-400g          6         40          0          0          0          0\n",
      "8934868170990-nuoc-rua-tay-lifebuoy-vitamin-sua-duong-am-tui-1kg          5         11          0          0          0          0\n",
      "8934868171829-kem-tay-sunlight-chuyen-dung-sieu-sach-sieu-sang-chai-690g          4         25          0          0          0          0\n",
      "8934868171843-nuoc-lau-da-nang-sunlight-chanh-va-sa-chai-500ml          4          4          0          0          0          0\n",
      "8934868171850-nuoc-lau-kinh-sunlight-sieu-nhanh-sach-trong-suot-chai-520ml          4         38          0          0          0          0\n",
      "8934868180470-dau-goi-dove-biotin-ngan-gay-rung-toc-880g          2         32          0          0          0          0\n",
      "8934868180531-dau-goi-dove-ceramide-phuc-hoi-hu-ton-880g          3         43          0          0          0          0\n",
      "8934868184171-nuoc-giat-omo-matic-chuyen-gia-cua-truoc-ngan-ngua-mui-am-moc-tui-2.8kg          4         53     0.0113     0.0377     0.0108    0.00307\n",
      "8934868185093-dau-xa-sunsilk-natural-duong-phuc-hoi-330ml          1          4          0          0          0          0\n",
      "8934868186540-sua-tam-lifebuoy-chiet-xuat-cica-va-muoi-hong-ngua-tham-chai-800g          1         28          0          0          0          0\n",
      "8934868188612-sua-tam-duong-the-dove-tuoi-mat,-da-sang-khoai-500g          1         20          0          0          0          0\n",
      "8934868190394-nuoc-giat-comfort-huong-hoa-anh-dao-va-dao-tuoi-tui-3kg          4         19          0          0          0          0\n",
      "8935001214274-tra-bi-dao-wonderfarm-lon-310ml          4         29          0          0          0          0\n",
      "8935001215028-tra-tea-break-milk-350ml          6         21          0          0          0          0\n",
      "8935001282297-sua-trai-cay-kirin-latte-dau-chai-440ml          2          8          0          0          0          0\n",
      "8935005801012-nuoc-loc-lavie-chai-1-5l          8         56          0          0          0          0\n",
      "8935006532755-kem-rua-mat-acnes-vitamin-lam-sang-da,-mo-seo-tham-50g          1          1          0          0          0          0\n",
      "8935015513189-duong-vang-thien-nhien-bien-hoa-gold-tui-1kg          1          1          0          0          0          0\n",
      "8935018801641-khan-bep-da-nang-pulppy-classic-2-lop-loc-2-cuon          4         18          0          0          0          0\n",
      "8935024123287-ca-phe-sua-hoa-tan-g7-3in1-hop-336g-(16g-x-21-goi)         12         72     0.0278     0.0278     0.0218     0.0137\n",
      "8935024170403-cappuccino-dua-trung-nguyen-216g-18g-x-12-goi          4          4          0          0          0          0\n",
      "8935024170519-ca-phe-trung-nguyen-legend-classic-hop-357g-17g-x-21-goi         14         39          0          0          0          0\n",
      "8935024170632-ca-phe-g7-gold-rumi-252g          3          3          0          0          0          0\n",
      "8935030221359-sua-tam-on:-the-body-duong-am-huong-thu-gian-1kg          2          8          0          0          0          0\n",
      "8935039570700-ca-phe-sua-robusta-birdy-lon-170ml         11        121          0          0          0          0\n",
      "8935049017295-sua-tuoi-tiet-trung-co-duong-nutimilk-bich-220ml          3        126          0          0          0          0\n",
      "8935049018728-sua-trai-cay-nuvi-cam-tui-110mltui          3         25          0          0          0          0\n",
      "8935049500247-nuoc-giai-khat-thums-up-charged-huong-dau-rung-chai-330ml          5         19          0          0          0          0\n",
      "8935049500445-nuoc-ngot-fanta-chai-1.5l          3          9          0          0          0          0\n",
      "8935049501190-nuoc-tra-fuze-tea-vi-chanh-sa-450ml          4         41          0          0          0          0\n",
      "8935049501374-nuoc-ngot-cocacola-vi-nguyen-ban-chai-600ml          8        106          0          0          0          0\n",
      "8935049501503-nuoc-ngot-coca-cola-vi-nguyen-ban-lon-320ml          7         90    0.00629     0.0111    0.00333    0.00167\n",
      "8935049501541-nuoc-ngot-cocacola-plus-lon-320ml          9         70          0          0          0          0\n",
      "8935049501572-nuoc-ngot-fanta-vi-cam-lon-320ml          2         12          0          0          0          0\n",
      "8935049501718-nuoc-ngot-sprite-lon-320ml          5         22          0          0          0          0\n",
      "8935049510604-nuoc-ngot-sprite-chai-320ml          7         31          0          0          0          0\n",
      "8935049510857-nuoc-loc-dasani-chai-1.5l         16        115          0          0          0          0\n",
      "8935049511038-sua-trai-cay-nutriboost-cam-chai-1l          8         65          0          0          0          0\n",
      "8935136862319-sua-rua-mat-xmen-go-refresh-suc-manh-mat-lanh-100g          2          6          0          0          0          0\n",
      "8935136864375-dau-goi-lashe-superfood-phuc-hoi-hu-ton-640g          1          2          0          0          0          0\n",
      "8935136865648-sua-tam-purite-sang-min-da-huong-hoa-anh-dao-1.1l          1          1          0          0          0          0\n",
      "8935136865709-sua-tam-purite-duong-da-mem-min-huong-hoa-hong-rose-chai-850ml          2          2          0          0          0          0\n",
      "8935137601122-tra-xanh-thai-nguyen-100g          1          2          0          0          0          0\n",
      "8935212830560-nuoc-lau-be-mat-da-nang-maxkleen-chai-520ml          2          4          0          0          0          0\n",
      "8935328600156-tra-xanh-tui-loc-phuc-long-2g-x-hop-25-goi          2          2          0          0          0          0\n",
      "8936010530072-hong-tra-tui-loc-cozy-50g          8         20          0          0          0          0\n",
      "8936010530713-tra-dao-cozy-hoa-tan-hop-16-goi-x-15g         10         20          0          0          0          0\n",
      "8936010530881-tra-chanh-cozy-hoa-tan-hop-240g-16-goi-x-15g         10         38          0          0          0          0\n",
      "8936013254951-nuoc-rua-kinh-gift-540ml          7         24          0          0          0          0\n",
      "8936020760124-khan-bep-elene-2-cuon          4         14          0          0          0          0\n",
      "8936036201604-bia-hoegaarden-rosee-chai-248ml          7         63          0          0          0          0\n",
      "8936048470012-mi-3-mien-tom-chua-cay-65g          2         17          0          0          0          0\n",
      "8936048471248-mi-tom-chua-cay-dac-biet-3-mien-gold-goi-75g          1          7          0          0          0          0\n",
      "8936048473921-mi-3-mien-ga-soi-pho          2         15          0          0          0          0\n",
      "8936059330367-ca-phe-sua-3-in-1-valentina-160g-(hop-10-goi)          3          5          0          0          0          0\n",
      "8936063370359-nuoc-rua-tay-dr.clean-daulo-500ml          6         32          0          0          0          0\n",
      "8936067892789-tra-viet-quat-tvt-450mlchai          4         29          0          0          0          0\n",
      "8936069601846-nuoc-lau-san-suzy-huong-que+nhai-1l          4         76          0          0          0          0\n",
      "8936069606667-nuoc-rua-chen-suzy-huong-bac-ha-2.05l          3         43          0          0          0          0\n",
      "8936079140021-ca-phe-sua-highland-coffee-lon-185ml         16        230          0          0          0          0\n",
      "8936089171312-ca-phe-cappuccino-dua-archcafe-20g-x-12-goi          3          7          0          0          0          0\n",
      "8936094291005-bia-budweiser-5-lon-330ml          8        106          0          0          0          0\n",
      "8936094291401-bia-budweiser-aluminum-chai-355ml          8         33          0          0          0          0\n",
      "8936122200276-ca-phe-mr.brown-blue-mountain-240ml          8         50          0          0          0          0\n",
      "8936127790031-nuoc-loc-th-true-water-chai-1-5l          9         33          0          0          0          0\n",
      "8936127794206-nuoc-uong-sua-trai-cay-th-true-juice-milk-huong-viet-quat-300ml          5         41          0          0          0          0\n",
      "8936127796514-tra-dao-tu-nhien-th-true-tea-chai-350ml          1          3          0          0          0          0\n",
      "8936136163314-nuoc-mam-nam-ngu-3-trong-1-750ml         17        332          0          0          0          0\n",
      "8936156730022-xit-lau-kinh-blue-650mlchai          7         22          0          0          0          0\n",
      "8936156730718-nuoc-xa-vai-blue-dam-dac-huong-thanh-xuan-tui-3.2l          6         35      0.043      0.114     0.0564     0.0217\n",
      "8936185350130-nuoc-kombucha-cam-dao-250ml          2          3          0          0          0          0\n",
      "8936185351427-nuoc-trai-cay-len-men-chill-cocktail-vi-dao-chai-275ml          6         58          0          0          0          0\n",
      "8936185351816-chill-cocktail-sakura-vi-dua-hau-sake-lon-330ml          4         28          0          0          0          0\n",
      "8936191270057-ca-phe-cappuccino-dua-just-viet-hop-hop-10-goi-x-17g          1          1          0          0          0          0\n",
      "8936193070013-tra-xanh-khong-do-500ml          4         31          0          0          0          0\n",
      "8936193070075-nuoc-tang-luc-number-1-chai-330ml          3         15          0          0          0          0\n",
      "8936199810026-cafe-the-coffee-house-sua-da-22gx10-goi-(hop)          3         12          0          0          0          0\n",
      "8936203350043-sua-dinh-duong-tiet-trung-vpmilk-omega-it-duong-bich-220ml          2         16          0          0          0          0\n",
      "8936221042906-tra-bupnon-tea365-huong-mat-ong-500ml          3         16          0          0          0          0\n",
      "8936721790017-nuoc-loc-th-true-water-chai-500ml          2         12          0          0          0          0\n",
      "8938507729044-khan-giay-da-nang-2-lop-2-cuon-premier          4         43          0          0          0          0\n",
      "8938509472269-khan-giay-da-nang-teddy-bear          4         33          0          0          0          0\n",
      "8938523050382-ca-phe-chon-hoa-tan-ban-fb-200g-(20g-x-10-goi)          4         16          0          0          0          0\n",
      "8938530527020-nuoc-huong-mia-miaqua-chai-500ml          7         78          0          0          0          0\n",
      "8992222053129-wax-tao-kieu-toc-gatsby-styling-wax-75g          2         18          0          0          0          0\n",
      "8994993018222-sua-rua-mat-garnier-3-trong-1-giam-munsang-da-100ml-(moi)          3         11          0          0          0          0\n",
      "8997035601321-nuoc-uong-bu-dien-giai-bo-sung-ion-pocari-sweat-chai-900ml          9         32          0          0          0          0\n",
      "9008700214872-juice-immune-active-fruit-juice-by-rauch-1l          1          1          0          0          0          0\n",
      "9556111620282-nuoc-rua-tay-dettol-khang-khuan-chai-250g          5         16          0          0          0          0\n",
      "                object        100       5103      0.304     0.0155      0.155      0.124\n",
      "Speed: 0.5ms preprocess, 98.9ms inference, 0.0ms loss, 3.8ms postprocess per image\n",
      "Results saved to \u001b[1m/Volumes/Cucumber/Projects/item-identification/runs/detect/yolov8-finetune234\u001b[0m\n",
      "ultralytics.utils.metrics.DetMetrics object with attributes:\n",
      "\n",
      "ap_class_index: array([  0,   2,   3,   4,   5,   6,   7,   8,  10,  11,  14,  15,  16,  17,  18,  19,  20,  21,  22,  23,  25,  26,  30,  31,  32,  33,  34,  37,  38,  39,  40,  41,  42,  43,  44,  45,  46,  47,  48,  49,  50,  51,  52,  53,  54,  56,  58,  59,  60,  61,  62,  63,  66,  67,  68,  69,  71,  72,  73,  74,  75,  76,\n",
      "        77,  78,  79,  80,  81,  82,  83,  84,  85,  86,  87,  88,  89,  90,  91,  92,  93,  94,  95,  96,  97,  98,  99, 101, 102, 103, 104, 105, 106, 107, 108, 109, 110, 111, 112, 113, 114, 115, 116, 117, 118, 119, 120, 121, 122, 123, 124, 127, 132, 133, 134, 135, 136, 137, 138, 139, 140, 141, 142, 143, 144, 145,\n",
      "       146, 147, 148, 149, 150, 151, 152, 153, 155, 156, 157, 158, 159, 160, 162, 163, 164, 165, 166, 167, 168, 171, 172, 173, 174, 175, 176, 177, 178, 179, 180, 181, 182, 185, 186, 187, 189, 190, 191, 192, 193, 194, 195, 196, 197, 198, 199, 200, 201, 202, 203, 204, 205, 207, 209, 210, 211, 213, 214])\n",
      "box: ultralytics.utils.metrics.Metric object\n",
      "confusion_matrix: <ultralytics.utils.metrics.ConfusionMatrix object at 0x32279dfa0>\n",
      "curves: ['Precision-Recall(B)', 'F1-Confidence(B)', 'Precision-Confidence(B)', 'Recall-Confidence(B)']\n",
      "curves_results: [[array([          0,    0.001001,    0.002002,    0.003003,    0.004004,    0.005005,    0.006006,    0.007007,    0.008008,    0.009009,     0.01001,    0.011011,    0.012012,    0.013013,    0.014014,    0.015015,    0.016016,    0.017017,    0.018018,    0.019019,     0.02002,    0.021021,    0.022022,    0.023023,\n",
      "          0.024024,    0.025025,    0.026026,    0.027027,    0.028028,    0.029029,     0.03003,    0.031031,    0.032032,    0.033033,    0.034034,    0.035035,    0.036036,    0.037037,    0.038038,    0.039039,     0.04004,    0.041041,    0.042042,    0.043043,    0.044044,    0.045045,    0.046046,    0.047047,\n",
      "          0.048048,    0.049049,     0.05005,    0.051051,    0.052052,    0.053053,    0.054054,    0.055055,    0.056056,    0.057057,    0.058058,    0.059059,     0.06006,    0.061061,    0.062062,    0.063063,    0.064064,    0.065065,    0.066066,    0.067067,    0.068068,    0.069069,     0.07007,    0.071071,\n",
      "          0.072072,    0.073073,    0.074074,    0.075075,    0.076076,    0.077077,    0.078078,    0.079079,     0.08008,    0.081081,    0.082082,    0.083083,    0.084084,    0.085085,    0.086086,    0.087087,    0.088088,    0.089089,     0.09009,    0.091091,    0.092092,    0.093093,    0.094094,    0.095095,\n",
      "          0.096096,    0.097097,    0.098098,    0.099099,      0.1001,      0.1011,      0.1021,      0.1031,      0.1041,     0.10511,     0.10611,     0.10711,     0.10811,     0.10911,     0.11011,     0.11111,     0.11211,     0.11311,     0.11411,     0.11512,     0.11612,     0.11712,     0.11812,     0.11912,\n",
      "           0.12012,     0.12112,     0.12212,     0.12312,     0.12412,     0.12513,     0.12613,     0.12713,     0.12813,     0.12913,     0.13013,     0.13113,     0.13213,     0.13313,     0.13413,     0.13514,     0.13614,     0.13714,     0.13814,     0.13914,     0.14014,     0.14114,     0.14214,     0.14314,\n",
      "           0.14414,     0.14515,     0.14615,     0.14715,     0.14815,     0.14915,     0.15015,     0.15115,     0.15215,     0.15315,     0.15415,     0.15516,     0.15616,     0.15716,     0.15816,     0.15916,     0.16016,     0.16116,     0.16216,     0.16316,     0.16416,     0.16517,     0.16617,     0.16717,\n",
      "           0.16817,     0.16917,     0.17017,     0.17117,     0.17217,     0.17317,     0.17417,     0.17518,     0.17618,     0.17718,     0.17818,     0.17918,     0.18018,     0.18118,     0.18218,     0.18318,     0.18418,     0.18519,     0.18619,     0.18719,     0.18819,     0.18919,     0.19019,     0.19119,\n",
      "           0.19219,     0.19319,     0.19419,      0.1952,      0.1962,      0.1972,      0.1982,      0.1992,      0.2002,      0.2012,      0.2022,      0.2032,      0.2042,     0.20521,     0.20621,     0.20721,     0.20821,     0.20921,     0.21021,     0.21121,     0.21221,     0.21321,     0.21421,     0.21522,\n",
      "           0.21622,     0.21722,     0.21822,     0.21922,     0.22022,     0.22122,     0.22222,     0.22322,     0.22422,     0.22523,     0.22623,     0.22723,     0.22823,     0.22923,     0.23023,     0.23123,     0.23223,     0.23323,     0.23423,     0.23524,     0.23624,     0.23724,     0.23824,     0.23924,\n",
      "           0.24024,     0.24124,     0.24224,     0.24324,     0.24424,     0.24525,     0.24625,     0.24725,     0.24825,     0.24925,     0.25025,     0.25125,     0.25225,     0.25325,     0.25425,     0.25526,     0.25626,     0.25726,     0.25826,     0.25926,     0.26026,     0.26126,     0.26226,     0.26326,\n",
      "           0.26426,     0.26527,     0.26627,     0.26727,     0.26827,     0.26927,     0.27027,     0.27127,     0.27227,     0.27327,     0.27427,     0.27528,     0.27628,     0.27728,     0.27828,     0.27928,     0.28028,     0.28128,     0.28228,     0.28328,     0.28428,     0.28529,     0.28629,     0.28729,\n",
      "           0.28829,     0.28929,     0.29029,     0.29129,     0.29229,     0.29329,     0.29429,      0.2953,      0.2963,      0.2973,      0.2983,      0.2993,      0.3003,      0.3013,      0.3023,      0.3033,      0.3043,     0.30531,     0.30631,     0.30731,     0.30831,     0.30931,     0.31031,     0.31131,\n",
      "           0.31231,     0.31331,     0.31431,     0.31532,     0.31632,     0.31732,     0.31832,     0.31932,     0.32032,     0.32132,     0.32232,     0.32332,     0.32432,     0.32533,     0.32633,     0.32733,     0.32833,     0.32933,     0.33033,     0.33133,     0.33233,     0.33333,     0.33433,     0.33534,\n",
      "           0.33634,     0.33734,     0.33834,     0.33934,     0.34034,     0.34134,     0.34234,     0.34334,     0.34434,     0.34535,     0.34635,     0.34735,     0.34835,     0.34935,     0.35035,     0.35135,     0.35235,     0.35335,     0.35435,     0.35536,     0.35636,     0.35736,     0.35836,     0.35936,\n",
      "           0.36036,     0.36136,     0.36236,     0.36336,     0.36436,     0.36537,     0.36637,     0.36737,     0.36837,     0.36937,     0.37037,     0.37137,     0.37237,     0.37337,     0.37437,     0.37538,     0.37638,     0.37738,     0.37838,     0.37938,     0.38038,     0.38138,     0.38238,     0.38338,\n",
      "           0.38438,     0.38539,     0.38639,     0.38739,     0.38839,     0.38939,     0.39039,     0.39139,     0.39239,     0.39339,     0.39439,      0.3954,      0.3964,      0.3974,      0.3984,      0.3994,      0.4004,      0.4014,      0.4024,      0.4034,      0.4044,     0.40541,     0.40641,     0.40741,\n",
      "           0.40841,     0.40941,     0.41041,     0.41141,     0.41241,     0.41341,     0.41441,     0.41542,     0.41642,     0.41742,     0.41842,     0.41942,     0.42042,     0.42142,     0.42242,     0.42342,     0.42442,     0.42543,     0.42643,     0.42743,     0.42843,     0.42943,     0.43043,     0.43143,\n",
      "           0.43243,     0.43343,     0.43443,     0.43544,     0.43644,     0.43744,     0.43844,     0.43944,     0.44044,     0.44144,     0.44244,     0.44344,     0.44444,     0.44545,     0.44645,     0.44745,     0.44845,     0.44945,     0.45045,     0.45145,     0.45245,     0.45345,     0.45445,     0.45546,\n",
      "           0.45646,     0.45746,     0.45846,     0.45946,     0.46046,     0.46146,     0.46246,     0.46346,     0.46446,     0.46547,     0.46647,     0.46747,     0.46847,     0.46947,     0.47047,     0.47147,     0.47247,     0.47347,     0.47447,     0.47548,     0.47648,     0.47748,     0.47848,     0.47948,\n",
      "           0.48048,     0.48148,     0.48248,     0.48348,     0.48448,     0.48549,     0.48649,     0.48749,     0.48849,     0.48949,     0.49049,     0.49149,     0.49249,     0.49349,     0.49449,      0.4955,      0.4965,      0.4975,      0.4985,      0.4995,      0.5005,      0.5015,      0.5025,      0.5035,\n",
      "            0.5045,     0.50551,     0.50651,     0.50751,     0.50851,     0.50951,     0.51051,     0.51151,     0.51251,     0.51351,     0.51451,     0.51552,     0.51652,     0.51752,     0.51852,     0.51952,     0.52052,     0.52152,     0.52252,     0.52352,     0.52452,     0.52553,     0.52653,     0.52753,\n",
      "           0.52853,     0.52953,     0.53053,     0.53153,     0.53253,     0.53353,     0.53453,     0.53554,     0.53654,     0.53754,     0.53854,     0.53954,     0.54054,     0.54154,     0.54254,     0.54354,     0.54454,     0.54555,     0.54655,     0.54755,     0.54855,     0.54955,     0.55055,     0.55155,\n",
      "           0.55255,     0.55355,     0.55455,     0.55556,     0.55656,     0.55756,     0.55856,     0.55956,     0.56056,     0.56156,     0.56256,     0.56356,     0.56456,     0.56557,     0.56657,     0.56757,     0.56857,     0.56957,     0.57057,     0.57157,     0.57257,     0.57357,     0.57457,     0.57558,\n",
      "           0.57658,     0.57758,     0.57858,     0.57958,     0.58058,     0.58158,     0.58258,     0.58358,     0.58458,     0.58559,     0.58659,     0.58759,     0.58859,     0.58959,     0.59059,     0.59159,     0.59259,     0.59359,     0.59459,      0.5956,      0.5966,      0.5976,      0.5986,      0.5996,\n",
      "            0.6006,      0.6016,      0.6026,      0.6036,      0.6046,     0.60561,     0.60661,     0.60761,     0.60861,     0.60961,     0.61061,     0.61161,     0.61261,     0.61361,     0.61461,     0.61562,     0.61662,     0.61762,     0.61862,     0.61962,     0.62062,     0.62162,     0.62262,     0.62362,\n",
      "           0.62462,     0.62563,     0.62663,     0.62763,     0.62863,     0.62963,     0.63063,     0.63163,     0.63263,     0.63363,     0.63463,     0.63564,     0.63664,     0.63764,     0.63864,     0.63964,     0.64064,     0.64164,     0.64264,     0.64364,     0.64464,     0.64565,     0.64665,     0.64765,\n",
      "           0.64865,     0.64965,     0.65065,     0.65165,     0.65265,     0.65365,     0.65465,     0.65566,     0.65666,     0.65766,     0.65866,     0.65966,     0.66066,     0.66166,     0.66266,     0.66366,     0.66466,     0.66567,     0.66667,     0.66767,     0.66867,     0.66967,     0.67067,     0.67167,\n",
      "           0.67267,     0.67367,     0.67467,     0.67568,     0.67668,     0.67768,     0.67868,     0.67968,     0.68068,     0.68168,     0.68268,     0.68368,     0.68468,     0.68569,     0.68669,     0.68769,     0.68869,     0.68969,     0.69069,     0.69169,     0.69269,     0.69369,     0.69469,      0.6957,\n",
      "            0.6967,      0.6977,      0.6987,      0.6997,      0.7007,      0.7017,      0.7027,      0.7037,      0.7047,     0.70571,     0.70671,     0.70771,     0.70871,     0.70971,     0.71071,     0.71171,     0.71271,     0.71371,     0.71471,     0.71572,     0.71672,     0.71772,     0.71872,     0.71972,\n",
      "           0.72072,     0.72172,     0.72272,     0.72372,     0.72472,     0.72573,     0.72673,     0.72773,     0.72873,     0.72973,     0.73073,     0.73173,     0.73273,     0.73373,     0.73473,     0.73574,     0.73674,     0.73774,     0.73874,     0.73974,     0.74074,     0.74174,     0.74274,     0.74374,\n",
      "           0.74474,     0.74575,     0.74675,     0.74775,     0.74875,     0.74975,     0.75075,     0.75175,     0.75275,     0.75375,     0.75475,     0.75576,     0.75676,     0.75776,     0.75876,     0.75976,     0.76076,     0.76176,     0.76276,     0.76376,     0.76476,     0.76577,     0.76677,     0.76777,\n",
      "           0.76877,     0.76977,     0.77077,     0.77177,     0.77277,     0.77377,     0.77477,     0.77578,     0.77678,     0.77778,     0.77878,     0.77978,     0.78078,     0.78178,     0.78278,     0.78378,     0.78478,     0.78579,     0.78679,     0.78779,     0.78879,     0.78979,     0.79079,     0.79179,\n",
      "           0.79279,     0.79379,     0.79479,      0.7958,      0.7968,      0.7978,      0.7988,      0.7998,      0.8008,      0.8018,      0.8028,      0.8038,      0.8048,     0.80581,     0.80681,     0.80781,     0.80881,     0.80981,     0.81081,     0.81181,     0.81281,     0.81381,     0.81481,     0.81582,\n",
      "           0.81682,     0.81782,     0.81882,     0.81982,     0.82082,     0.82182,     0.82282,     0.82382,     0.82482,     0.82583,     0.82683,     0.82783,     0.82883,     0.82983,     0.83083,     0.83183,     0.83283,     0.83383,     0.83483,     0.83584,     0.83684,     0.83784,     0.83884,     0.83984,\n",
      "           0.84084,     0.84184,     0.84284,     0.84384,     0.84484,     0.84585,     0.84685,     0.84785,     0.84885,     0.84985,     0.85085,     0.85185,     0.85285,     0.85385,     0.85485,     0.85586,     0.85686,     0.85786,     0.85886,     0.85986,     0.86086,     0.86186,     0.86286,     0.86386,\n",
      "           0.86486,     0.86587,     0.86687,     0.86787,     0.86887,     0.86987,     0.87087,     0.87187,     0.87287,     0.87387,     0.87487,     0.87588,     0.87688,     0.87788,     0.87888,     0.87988,     0.88088,     0.88188,     0.88288,     0.88388,     0.88488,     0.88589,     0.88689,     0.88789,\n",
      "           0.88889,     0.88989,     0.89089,     0.89189,     0.89289,     0.89389,     0.89489,      0.8959,      0.8969,      0.8979,      0.8989,      0.8999,      0.9009,      0.9019,      0.9029,      0.9039,      0.9049,     0.90591,     0.90691,     0.90791,     0.90891,     0.90991,     0.91091,     0.91191,\n",
      "           0.91291,     0.91391,     0.91491,     0.91592,     0.91692,     0.91792,     0.91892,     0.91992,     0.92092,     0.92192,     0.92292,     0.92392,     0.92492,     0.92593,     0.92693,     0.92793,     0.92893,     0.92993,     0.93093,     0.93193,     0.93293,     0.93393,     0.93493,     0.93594,\n",
      "           0.93694,     0.93794,     0.93894,     0.93994,     0.94094,     0.94194,     0.94294,     0.94394,     0.94494,     0.94595,     0.94695,     0.94795,     0.94895,     0.94995,     0.95095,     0.95195,     0.95295,     0.95395,     0.95495,     0.95596,     0.95696,     0.95796,     0.95896,     0.95996,\n",
      "           0.96096,     0.96196,     0.96296,     0.96396,     0.96496,     0.96597,     0.96697,     0.96797,     0.96897,     0.96997,     0.97097,     0.97197,     0.97297,     0.97397,     0.97497,     0.97598,     0.97698,     0.97798,     0.97898,     0.97998,     0.98098,     0.98198,     0.98298,     0.98398,\n",
      "           0.98498,     0.98599,     0.98699,     0.98799,     0.98899,     0.98999,     0.99099,     0.99199,     0.99299,     0.99399,     0.99499,       0.996,       0.997,       0.998,       0.999,           1]), array([[          0,           0,           0, ...,           0,           0,           0],\n",
      "       [          0,           0,           0, ...,           0,           0,           0],\n",
      "       [          0,           0,           0, ...,           0,           0,           0],\n",
      "       ...,\n",
      "       [          0,           0,           0, ...,           0,           0,           0],\n",
      "       [          0,           0,           0, ...,           0,           0,           0],\n",
      "       [      0.425,       0.425,       0.425, ...,  0.00061787,  0.00030893,           0]]), 'Recall', 'Precision'], [array([          0,    0.001001,    0.002002,    0.003003,    0.004004,    0.005005,    0.006006,    0.007007,    0.008008,    0.009009,     0.01001,    0.011011,    0.012012,    0.013013,    0.014014,    0.015015,    0.016016,    0.017017,    0.018018,    0.019019,     0.02002,    0.021021,    0.022022,    0.023023,\n",
      "          0.024024,    0.025025,    0.026026,    0.027027,    0.028028,    0.029029,     0.03003,    0.031031,    0.032032,    0.033033,    0.034034,    0.035035,    0.036036,    0.037037,    0.038038,    0.039039,     0.04004,    0.041041,    0.042042,    0.043043,    0.044044,    0.045045,    0.046046,    0.047047,\n",
      "          0.048048,    0.049049,     0.05005,    0.051051,    0.052052,    0.053053,    0.054054,    0.055055,    0.056056,    0.057057,    0.058058,    0.059059,     0.06006,    0.061061,    0.062062,    0.063063,    0.064064,    0.065065,    0.066066,    0.067067,    0.068068,    0.069069,     0.07007,    0.071071,\n",
      "          0.072072,    0.073073,    0.074074,    0.075075,    0.076076,    0.077077,    0.078078,    0.079079,     0.08008,    0.081081,    0.082082,    0.083083,    0.084084,    0.085085,    0.086086,    0.087087,    0.088088,    0.089089,     0.09009,    0.091091,    0.092092,    0.093093,    0.094094,    0.095095,\n",
      "          0.096096,    0.097097,    0.098098,    0.099099,      0.1001,      0.1011,      0.1021,      0.1031,      0.1041,     0.10511,     0.10611,     0.10711,     0.10811,     0.10911,     0.11011,     0.11111,     0.11211,     0.11311,     0.11411,     0.11512,     0.11612,     0.11712,     0.11812,     0.11912,\n",
      "           0.12012,     0.12112,     0.12212,     0.12312,     0.12412,     0.12513,     0.12613,     0.12713,     0.12813,     0.12913,     0.13013,     0.13113,     0.13213,     0.13313,     0.13413,     0.13514,     0.13614,     0.13714,     0.13814,     0.13914,     0.14014,     0.14114,     0.14214,     0.14314,\n",
      "           0.14414,     0.14515,     0.14615,     0.14715,     0.14815,     0.14915,     0.15015,     0.15115,     0.15215,     0.15315,     0.15415,     0.15516,     0.15616,     0.15716,     0.15816,     0.15916,     0.16016,     0.16116,     0.16216,     0.16316,     0.16416,     0.16517,     0.16617,     0.16717,\n",
      "           0.16817,     0.16917,     0.17017,     0.17117,     0.17217,     0.17317,     0.17417,     0.17518,     0.17618,     0.17718,     0.17818,     0.17918,     0.18018,     0.18118,     0.18218,     0.18318,     0.18418,     0.18519,     0.18619,     0.18719,     0.18819,     0.18919,     0.19019,     0.19119,\n",
      "           0.19219,     0.19319,     0.19419,      0.1952,      0.1962,      0.1972,      0.1982,      0.1992,      0.2002,      0.2012,      0.2022,      0.2032,      0.2042,     0.20521,     0.20621,     0.20721,     0.20821,     0.20921,     0.21021,     0.21121,     0.21221,     0.21321,     0.21421,     0.21522,\n",
      "           0.21622,     0.21722,     0.21822,     0.21922,     0.22022,     0.22122,     0.22222,     0.22322,     0.22422,     0.22523,     0.22623,     0.22723,     0.22823,     0.22923,     0.23023,     0.23123,     0.23223,     0.23323,     0.23423,     0.23524,     0.23624,     0.23724,     0.23824,     0.23924,\n",
      "           0.24024,     0.24124,     0.24224,     0.24324,     0.24424,     0.24525,     0.24625,     0.24725,     0.24825,     0.24925,     0.25025,     0.25125,     0.25225,     0.25325,     0.25425,     0.25526,     0.25626,     0.25726,     0.25826,     0.25926,     0.26026,     0.26126,     0.26226,     0.26326,\n",
      "           0.26426,     0.26527,     0.26627,     0.26727,     0.26827,     0.26927,     0.27027,     0.27127,     0.27227,     0.27327,     0.27427,     0.27528,     0.27628,     0.27728,     0.27828,     0.27928,     0.28028,     0.28128,     0.28228,     0.28328,     0.28428,     0.28529,     0.28629,     0.28729,\n",
      "           0.28829,     0.28929,     0.29029,     0.29129,     0.29229,     0.29329,     0.29429,      0.2953,      0.2963,      0.2973,      0.2983,      0.2993,      0.3003,      0.3013,      0.3023,      0.3033,      0.3043,     0.30531,     0.30631,     0.30731,     0.30831,     0.30931,     0.31031,     0.31131,\n",
      "           0.31231,     0.31331,     0.31431,     0.31532,     0.31632,     0.31732,     0.31832,     0.31932,     0.32032,     0.32132,     0.32232,     0.32332,     0.32432,     0.32533,     0.32633,     0.32733,     0.32833,     0.32933,     0.33033,     0.33133,     0.33233,     0.33333,     0.33433,     0.33534,\n",
      "           0.33634,     0.33734,     0.33834,     0.33934,     0.34034,     0.34134,     0.34234,     0.34334,     0.34434,     0.34535,     0.34635,     0.34735,     0.34835,     0.34935,     0.35035,     0.35135,     0.35235,     0.35335,     0.35435,     0.35536,     0.35636,     0.35736,     0.35836,     0.35936,\n",
      "           0.36036,     0.36136,     0.36236,     0.36336,     0.36436,     0.36537,     0.36637,     0.36737,     0.36837,     0.36937,     0.37037,     0.37137,     0.37237,     0.37337,     0.37437,     0.37538,     0.37638,     0.37738,     0.37838,     0.37938,     0.38038,     0.38138,     0.38238,     0.38338,\n",
      "           0.38438,     0.38539,     0.38639,     0.38739,     0.38839,     0.38939,     0.39039,     0.39139,     0.39239,     0.39339,     0.39439,      0.3954,      0.3964,      0.3974,      0.3984,      0.3994,      0.4004,      0.4014,      0.4024,      0.4034,      0.4044,     0.40541,     0.40641,     0.40741,\n",
      "           0.40841,     0.40941,     0.41041,     0.41141,     0.41241,     0.41341,     0.41441,     0.41542,     0.41642,     0.41742,     0.41842,     0.41942,     0.42042,     0.42142,     0.42242,     0.42342,     0.42442,     0.42543,     0.42643,     0.42743,     0.42843,     0.42943,     0.43043,     0.43143,\n",
      "           0.43243,     0.43343,     0.43443,     0.43544,     0.43644,     0.43744,     0.43844,     0.43944,     0.44044,     0.44144,     0.44244,     0.44344,     0.44444,     0.44545,     0.44645,     0.44745,     0.44845,     0.44945,     0.45045,     0.45145,     0.45245,     0.45345,     0.45445,     0.45546,\n",
      "           0.45646,     0.45746,     0.45846,     0.45946,     0.46046,     0.46146,     0.46246,     0.46346,     0.46446,     0.46547,     0.46647,     0.46747,     0.46847,     0.46947,     0.47047,     0.47147,     0.47247,     0.47347,     0.47447,     0.47548,     0.47648,     0.47748,     0.47848,     0.47948,\n",
      "           0.48048,     0.48148,     0.48248,     0.48348,     0.48448,     0.48549,     0.48649,     0.48749,     0.48849,     0.48949,     0.49049,     0.49149,     0.49249,     0.49349,     0.49449,      0.4955,      0.4965,      0.4975,      0.4985,      0.4995,      0.5005,      0.5015,      0.5025,      0.5035,\n",
      "            0.5045,     0.50551,     0.50651,     0.50751,     0.50851,     0.50951,     0.51051,     0.51151,     0.51251,     0.51351,     0.51451,     0.51552,     0.51652,     0.51752,     0.51852,     0.51952,     0.52052,     0.52152,     0.52252,     0.52352,     0.52452,     0.52553,     0.52653,     0.52753,\n",
      "           0.52853,     0.52953,     0.53053,     0.53153,     0.53253,     0.53353,     0.53453,     0.53554,     0.53654,     0.53754,     0.53854,     0.53954,     0.54054,     0.54154,     0.54254,     0.54354,     0.54454,     0.54555,     0.54655,     0.54755,     0.54855,     0.54955,     0.55055,     0.55155,\n",
      "           0.55255,     0.55355,     0.55455,     0.55556,     0.55656,     0.55756,     0.55856,     0.55956,     0.56056,     0.56156,     0.56256,     0.56356,     0.56456,     0.56557,     0.56657,     0.56757,     0.56857,     0.56957,     0.57057,     0.57157,     0.57257,     0.57357,     0.57457,     0.57558,\n",
      "           0.57658,     0.57758,     0.57858,     0.57958,     0.58058,     0.58158,     0.58258,     0.58358,     0.58458,     0.58559,     0.58659,     0.58759,     0.58859,     0.58959,     0.59059,     0.59159,     0.59259,     0.59359,     0.59459,      0.5956,      0.5966,      0.5976,      0.5986,      0.5996,\n",
      "            0.6006,      0.6016,      0.6026,      0.6036,      0.6046,     0.60561,     0.60661,     0.60761,     0.60861,     0.60961,     0.61061,     0.61161,     0.61261,     0.61361,     0.61461,     0.61562,     0.61662,     0.61762,     0.61862,     0.61962,     0.62062,     0.62162,     0.62262,     0.62362,\n",
      "           0.62462,     0.62563,     0.62663,     0.62763,     0.62863,     0.62963,     0.63063,     0.63163,     0.63263,     0.63363,     0.63463,     0.63564,     0.63664,     0.63764,     0.63864,     0.63964,     0.64064,     0.64164,     0.64264,     0.64364,     0.64464,     0.64565,     0.64665,     0.64765,\n",
      "           0.64865,     0.64965,     0.65065,     0.65165,     0.65265,     0.65365,     0.65465,     0.65566,     0.65666,     0.65766,     0.65866,     0.65966,     0.66066,     0.66166,     0.66266,     0.66366,     0.66466,     0.66567,     0.66667,     0.66767,     0.66867,     0.66967,     0.67067,     0.67167,\n",
      "           0.67267,     0.67367,     0.67467,     0.67568,     0.67668,     0.67768,     0.67868,     0.67968,     0.68068,     0.68168,     0.68268,     0.68368,     0.68468,     0.68569,     0.68669,     0.68769,     0.68869,     0.68969,     0.69069,     0.69169,     0.69269,     0.69369,     0.69469,      0.6957,\n",
      "            0.6967,      0.6977,      0.6987,      0.6997,      0.7007,      0.7017,      0.7027,      0.7037,      0.7047,     0.70571,     0.70671,     0.70771,     0.70871,     0.70971,     0.71071,     0.71171,     0.71271,     0.71371,     0.71471,     0.71572,     0.71672,     0.71772,     0.71872,     0.71972,\n",
      "           0.72072,     0.72172,     0.72272,     0.72372,     0.72472,     0.72573,     0.72673,     0.72773,     0.72873,     0.72973,     0.73073,     0.73173,     0.73273,     0.73373,     0.73473,     0.73574,     0.73674,     0.73774,     0.73874,     0.73974,     0.74074,     0.74174,     0.74274,     0.74374,\n",
      "           0.74474,     0.74575,     0.74675,     0.74775,     0.74875,     0.74975,     0.75075,     0.75175,     0.75275,     0.75375,     0.75475,     0.75576,     0.75676,     0.75776,     0.75876,     0.75976,     0.76076,     0.76176,     0.76276,     0.76376,     0.76476,     0.76577,     0.76677,     0.76777,\n",
      "           0.76877,     0.76977,     0.77077,     0.77177,     0.77277,     0.77377,     0.77477,     0.77578,     0.77678,     0.77778,     0.77878,     0.77978,     0.78078,     0.78178,     0.78278,     0.78378,     0.78478,     0.78579,     0.78679,     0.78779,     0.78879,     0.78979,     0.79079,     0.79179,\n",
      "           0.79279,     0.79379,     0.79479,      0.7958,      0.7968,      0.7978,      0.7988,      0.7998,      0.8008,      0.8018,      0.8028,      0.8038,      0.8048,     0.80581,     0.80681,     0.80781,     0.80881,     0.80981,     0.81081,     0.81181,     0.81281,     0.81381,     0.81481,     0.81582,\n",
      "           0.81682,     0.81782,     0.81882,     0.81982,     0.82082,     0.82182,     0.82282,     0.82382,     0.82482,     0.82583,     0.82683,     0.82783,     0.82883,     0.82983,     0.83083,     0.83183,     0.83283,     0.83383,     0.83483,     0.83584,     0.83684,     0.83784,     0.83884,     0.83984,\n",
      "           0.84084,     0.84184,     0.84284,     0.84384,     0.84484,     0.84585,     0.84685,     0.84785,     0.84885,     0.84985,     0.85085,     0.85185,     0.85285,     0.85385,     0.85485,     0.85586,     0.85686,     0.85786,     0.85886,     0.85986,     0.86086,     0.86186,     0.86286,     0.86386,\n",
      "           0.86486,     0.86587,     0.86687,     0.86787,     0.86887,     0.86987,     0.87087,     0.87187,     0.87287,     0.87387,     0.87487,     0.87588,     0.87688,     0.87788,     0.87888,     0.87988,     0.88088,     0.88188,     0.88288,     0.88388,     0.88488,     0.88589,     0.88689,     0.88789,\n",
      "           0.88889,     0.88989,     0.89089,     0.89189,     0.89289,     0.89389,     0.89489,      0.8959,      0.8969,      0.8979,      0.8989,      0.8999,      0.9009,      0.9019,      0.9029,      0.9039,      0.9049,     0.90591,     0.90691,     0.90791,     0.90891,     0.90991,     0.91091,     0.91191,\n",
      "           0.91291,     0.91391,     0.91491,     0.91592,     0.91692,     0.91792,     0.91892,     0.91992,     0.92092,     0.92192,     0.92292,     0.92392,     0.92492,     0.92593,     0.92693,     0.92793,     0.92893,     0.92993,     0.93093,     0.93193,     0.93293,     0.93393,     0.93493,     0.93594,\n",
      "           0.93694,     0.93794,     0.93894,     0.93994,     0.94094,     0.94194,     0.94294,     0.94394,     0.94494,     0.94595,     0.94695,     0.94795,     0.94895,     0.94995,     0.95095,     0.95195,     0.95295,     0.95395,     0.95495,     0.95596,     0.95696,     0.95796,     0.95896,     0.95996,\n",
      "           0.96096,     0.96196,     0.96296,     0.96396,     0.96496,     0.96597,     0.96697,     0.96797,     0.96897,     0.96997,     0.97097,     0.97197,     0.97297,     0.97397,     0.97497,     0.97598,     0.97698,     0.97798,     0.97898,     0.97998,     0.98098,     0.98198,     0.98298,     0.98398,\n",
      "           0.98498,     0.98599,     0.98699,     0.98799,     0.98899,     0.98999,     0.99099,     0.99199,     0.99299,     0.99399,     0.99499,       0.996,       0.997,       0.998,       0.999,           1]), array([[          0,           0,           0, ...,           0,           0,           0],\n",
      "       [          0,           0,           0, ...,           0,           0,           0],\n",
      "       [          0,           0,           0, ...,           0,           0,           0],\n",
      "       ...,\n",
      "       [          0,           0,           0, ...,           0,           0,           0],\n",
      "       [          0,           0,           0, ...,           0,           0,           0],\n",
      "       [   0.029461,    0.029461,    0.021109, ...,           0,           0,           0]]), 'Confidence', 'F1'], [array([          0,    0.001001,    0.002002,    0.003003,    0.004004,    0.005005,    0.006006,    0.007007,    0.008008,    0.009009,     0.01001,    0.011011,    0.012012,    0.013013,    0.014014,    0.015015,    0.016016,    0.017017,    0.018018,    0.019019,     0.02002,    0.021021,    0.022022,    0.023023,\n",
      "          0.024024,    0.025025,    0.026026,    0.027027,    0.028028,    0.029029,     0.03003,    0.031031,    0.032032,    0.033033,    0.034034,    0.035035,    0.036036,    0.037037,    0.038038,    0.039039,     0.04004,    0.041041,    0.042042,    0.043043,    0.044044,    0.045045,    0.046046,    0.047047,\n",
      "          0.048048,    0.049049,     0.05005,    0.051051,    0.052052,    0.053053,    0.054054,    0.055055,    0.056056,    0.057057,    0.058058,    0.059059,     0.06006,    0.061061,    0.062062,    0.063063,    0.064064,    0.065065,    0.066066,    0.067067,    0.068068,    0.069069,     0.07007,    0.071071,\n",
      "          0.072072,    0.073073,    0.074074,    0.075075,    0.076076,    0.077077,    0.078078,    0.079079,     0.08008,    0.081081,    0.082082,    0.083083,    0.084084,    0.085085,    0.086086,    0.087087,    0.088088,    0.089089,     0.09009,    0.091091,    0.092092,    0.093093,    0.094094,    0.095095,\n",
      "          0.096096,    0.097097,    0.098098,    0.099099,      0.1001,      0.1011,      0.1021,      0.1031,      0.1041,     0.10511,     0.10611,     0.10711,     0.10811,     0.10911,     0.11011,     0.11111,     0.11211,     0.11311,     0.11411,     0.11512,     0.11612,     0.11712,     0.11812,     0.11912,\n",
      "           0.12012,     0.12112,     0.12212,     0.12312,     0.12412,     0.12513,     0.12613,     0.12713,     0.12813,     0.12913,     0.13013,     0.13113,     0.13213,     0.13313,     0.13413,     0.13514,     0.13614,     0.13714,     0.13814,     0.13914,     0.14014,     0.14114,     0.14214,     0.14314,\n",
      "           0.14414,     0.14515,     0.14615,     0.14715,     0.14815,     0.14915,     0.15015,     0.15115,     0.15215,     0.15315,     0.15415,     0.15516,     0.15616,     0.15716,     0.15816,     0.15916,     0.16016,     0.16116,     0.16216,     0.16316,     0.16416,     0.16517,     0.16617,     0.16717,\n",
      "           0.16817,     0.16917,     0.17017,     0.17117,     0.17217,     0.17317,     0.17417,     0.17518,     0.17618,     0.17718,     0.17818,     0.17918,     0.18018,     0.18118,     0.18218,     0.18318,     0.18418,     0.18519,     0.18619,     0.18719,     0.18819,     0.18919,     0.19019,     0.19119,\n",
      "           0.19219,     0.19319,     0.19419,      0.1952,      0.1962,      0.1972,      0.1982,      0.1992,      0.2002,      0.2012,      0.2022,      0.2032,      0.2042,     0.20521,     0.20621,     0.20721,     0.20821,     0.20921,     0.21021,     0.21121,     0.21221,     0.21321,     0.21421,     0.21522,\n",
      "           0.21622,     0.21722,     0.21822,     0.21922,     0.22022,     0.22122,     0.22222,     0.22322,     0.22422,     0.22523,     0.22623,     0.22723,     0.22823,     0.22923,     0.23023,     0.23123,     0.23223,     0.23323,     0.23423,     0.23524,     0.23624,     0.23724,     0.23824,     0.23924,\n",
      "           0.24024,     0.24124,     0.24224,     0.24324,     0.24424,     0.24525,     0.24625,     0.24725,     0.24825,     0.24925,     0.25025,     0.25125,     0.25225,     0.25325,     0.25425,     0.25526,     0.25626,     0.25726,     0.25826,     0.25926,     0.26026,     0.26126,     0.26226,     0.26326,\n",
      "           0.26426,     0.26527,     0.26627,     0.26727,     0.26827,     0.26927,     0.27027,     0.27127,     0.27227,     0.27327,     0.27427,     0.27528,     0.27628,     0.27728,     0.27828,     0.27928,     0.28028,     0.28128,     0.28228,     0.28328,     0.28428,     0.28529,     0.28629,     0.28729,\n",
      "           0.28829,     0.28929,     0.29029,     0.29129,     0.29229,     0.29329,     0.29429,      0.2953,      0.2963,      0.2973,      0.2983,      0.2993,      0.3003,      0.3013,      0.3023,      0.3033,      0.3043,     0.30531,     0.30631,     0.30731,     0.30831,     0.30931,     0.31031,     0.31131,\n",
      "           0.31231,     0.31331,     0.31431,     0.31532,     0.31632,     0.31732,     0.31832,     0.31932,     0.32032,     0.32132,     0.32232,     0.32332,     0.32432,     0.32533,     0.32633,     0.32733,     0.32833,     0.32933,     0.33033,     0.33133,     0.33233,     0.33333,     0.33433,     0.33534,\n",
      "           0.33634,     0.33734,     0.33834,     0.33934,     0.34034,     0.34134,     0.34234,     0.34334,     0.34434,     0.34535,     0.34635,     0.34735,     0.34835,     0.34935,     0.35035,     0.35135,     0.35235,     0.35335,     0.35435,     0.35536,     0.35636,     0.35736,     0.35836,     0.35936,\n",
      "           0.36036,     0.36136,     0.36236,     0.36336,     0.36436,     0.36537,     0.36637,     0.36737,     0.36837,     0.36937,     0.37037,     0.37137,     0.37237,     0.37337,     0.37437,     0.37538,     0.37638,     0.37738,     0.37838,     0.37938,     0.38038,     0.38138,     0.38238,     0.38338,\n",
      "           0.38438,     0.38539,     0.38639,     0.38739,     0.38839,     0.38939,     0.39039,     0.39139,     0.39239,     0.39339,     0.39439,      0.3954,      0.3964,      0.3974,      0.3984,      0.3994,      0.4004,      0.4014,      0.4024,      0.4034,      0.4044,     0.40541,     0.40641,     0.40741,\n",
      "           0.40841,     0.40941,     0.41041,     0.41141,     0.41241,     0.41341,     0.41441,     0.41542,     0.41642,     0.41742,     0.41842,     0.41942,     0.42042,     0.42142,     0.42242,     0.42342,     0.42442,     0.42543,     0.42643,     0.42743,     0.42843,     0.42943,     0.43043,     0.43143,\n",
      "           0.43243,     0.43343,     0.43443,     0.43544,     0.43644,     0.43744,     0.43844,     0.43944,     0.44044,     0.44144,     0.44244,     0.44344,     0.44444,     0.44545,     0.44645,     0.44745,     0.44845,     0.44945,     0.45045,     0.45145,     0.45245,     0.45345,     0.45445,     0.45546,\n",
      "           0.45646,     0.45746,     0.45846,     0.45946,     0.46046,     0.46146,     0.46246,     0.46346,     0.46446,     0.46547,     0.46647,     0.46747,     0.46847,     0.46947,     0.47047,     0.47147,     0.47247,     0.47347,     0.47447,     0.47548,     0.47648,     0.47748,     0.47848,     0.47948,\n",
      "           0.48048,     0.48148,     0.48248,     0.48348,     0.48448,     0.48549,     0.48649,     0.48749,     0.48849,     0.48949,     0.49049,     0.49149,     0.49249,     0.49349,     0.49449,      0.4955,      0.4965,      0.4975,      0.4985,      0.4995,      0.5005,      0.5015,      0.5025,      0.5035,\n",
      "            0.5045,     0.50551,     0.50651,     0.50751,     0.50851,     0.50951,     0.51051,     0.51151,     0.51251,     0.51351,     0.51451,     0.51552,     0.51652,     0.51752,     0.51852,     0.51952,     0.52052,     0.52152,     0.52252,     0.52352,     0.52452,     0.52553,     0.52653,     0.52753,\n",
      "           0.52853,     0.52953,     0.53053,     0.53153,     0.53253,     0.53353,     0.53453,     0.53554,     0.53654,     0.53754,     0.53854,     0.53954,     0.54054,     0.54154,     0.54254,     0.54354,     0.54454,     0.54555,     0.54655,     0.54755,     0.54855,     0.54955,     0.55055,     0.55155,\n",
      "           0.55255,     0.55355,     0.55455,     0.55556,     0.55656,     0.55756,     0.55856,     0.55956,     0.56056,     0.56156,     0.56256,     0.56356,     0.56456,     0.56557,     0.56657,     0.56757,     0.56857,     0.56957,     0.57057,     0.57157,     0.57257,     0.57357,     0.57457,     0.57558,\n",
      "           0.57658,     0.57758,     0.57858,     0.57958,     0.58058,     0.58158,     0.58258,     0.58358,     0.58458,     0.58559,     0.58659,     0.58759,     0.58859,     0.58959,     0.59059,     0.59159,     0.59259,     0.59359,     0.59459,      0.5956,      0.5966,      0.5976,      0.5986,      0.5996,\n",
      "            0.6006,      0.6016,      0.6026,      0.6036,      0.6046,     0.60561,     0.60661,     0.60761,     0.60861,     0.60961,     0.61061,     0.61161,     0.61261,     0.61361,     0.61461,     0.61562,     0.61662,     0.61762,     0.61862,     0.61962,     0.62062,     0.62162,     0.62262,     0.62362,\n",
      "           0.62462,     0.62563,     0.62663,     0.62763,     0.62863,     0.62963,     0.63063,     0.63163,     0.63263,     0.63363,     0.63463,     0.63564,     0.63664,     0.63764,     0.63864,     0.63964,     0.64064,     0.64164,     0.64264,     0.64364,     0.64464,     0.64565,     0.64665,     0.64765,\n",
      "           0.64865,     0.64965,     0.65065,     0.65165,     0.65265,     0.65365,     0.65465,     0.65566,     0.65666,     0.65766,     0.65866,     0.65966,     0.66066,     0.66166,     0.66266,     0.66366,     0.66466,     0.66567,     0.66667,     0.66767,     0.66867,     0.66967,     0.67067,     0.67167,\n",
      "           0.67267,     0.67367,     0.67467,     0.67568,     0.67668,     0.67768,     0.67868,     0.67968,     0.68068,     0.68168,     0.68268,     0.68368,     0.68468,     0.68569,     0.68669,     0.68769,     0.68869,     0.68969,     0.69069,     0.69169,     0.69269,     0.69369,     0.69469,      0.6957,\n",
      "            0.6967,      0.6977,      0.6987,      0.6997,      0.7007,      0.7017,      0.7027,      0.7037,      0.7047,     0.70571,     0.70671,     0.70771,     0.70871,     0.70971,     0.71071,     0.71171,     0.71271,     0.71371,     0.71471,     0.71572,     0.71672,     0.71772,     0.71872,     0.71972,\n",
      "           0.72072,     0.72172,     0.72272,     0.72372,     0.72472,     0.72573,     0.72673,     0.72773,     0.72873,     0.72973,     0.73073,     0.73173,     0.73273,     0.73373,     0.73473,     0.73574,     0.73674,     0.73774,     0.73874,     0.73974,     0.74074,     0.74174,     0.74274,     0.74374,\n",
      "           0.74474,     0.74575,     0.74675,     0.74775,     0.74875,     0.74975,     0.75075,     0.75175,     0.75275,     0.75375,     0.75475,     0.75576,     0.75676,     0.75776,     0.75876,     0.75976,     0.76076,     0.76176,     0.76276,     0.76376,     0.76476,     0.76577,     0.76677,     0.76777,\n",
      "           0.76877,     0.76977,     0.77077,     0.77177,     0.77277,     0.77377,     0.77477,     0.77578,     0.77678,     0.77778,     0.77878,     0.77978,     0.78078,     0.78178,     0.78278,     0.78378,     0.78478,     0.78579,     0.78679,     0.78779,     0.78879,     0.78979,     0.79079,     0.79179,\n",
      "           0.79279,     0.79379,     0.79479,      0.7958,      0.7968,      0.7978,      0.7988,      0.7998,      0.8008,      0.8018,      0.8028,      0.8038,      0.8048,     0.80581,     0.80681,     0.80781,     0.80881,     0.80981,     0.81081,     0.81181,     0.81281,     0.81381,     0.81481,     0.81582,\n",
      "           0.81682,     0.81782,     0.81882,     0.81982,     0.82082,     0.82182,     0.82282,     0.82382,     0.82482,     0.82583,     0.82683,     0.82783,     0.82883,     0.82983,     0.83083,     0.83183,     0.83283,     0.83383,     0.83483,     0.83584,     0.83684,     0.83784,     0.83884,     0.83984,\n",
      "           0.84084,     0.84184,     0.84284,     0.84384,     0.84484,     0.84585,     0.84685,     0.84785,     0.84885,     0.84985,     0.85085,     0.85185,     0.85285,     0.85385,     0.85485,     0.85586,     0.85686,     0.85786,     0.85886,     0.85986,     0.86086,     0.86186,     0.86286,     0.86386,\n",
      "           0.86486,     0.86587,     0.86687,     0.86787,     0.86887,     0.86987,     0.87087,     0.87187,     0.87287,     0.87387,     0.87487,     0.87588,     0.87688,     0.87788,     0.87888,     0.87988,     0.88088,     0.88188,     0.88288,     0.88388,     0.88488,     0.88589,     0.88689,     0.88789,\n",
      "           0.88889,     0.88989,     0.89089,     0.89189,     0.89289,     0.89389,     0.89489,      0.8959,      0.8969,      0.8979,      0.8989,      0.8999,      0.9009,      0.9019,      0.9029,      0.9039,      0.9049,     0.90591,     0.90691,     0.90791,     0.90891,     0.90991,     0.91091,     0.91191,\n",
      "           0.91291,     0.91391,     0.91491,     0.91592,     0.91692,     0.91792,     0.91892,     0.91992,     0.92092,     0.92192,     0.92292,     0.92392,     0.92492,     0.92593,     0.92693,     0.92793,     0.92893,     0.92993,     0.93093,     0.93193,     0.93293,     0.93393,     0.93493,     0.93594,\n",
      "           0.93694,     0.93794,     0.93894,     0.93994,     0.94094,     0.94194,     0.94294,     0.94394,     0.94494,     0.94595,     0.94695,     0.94795,     0.94895,     0.94995,     0.95095,     0.95195,     0.95295,     0.95395,     0.95495,     0.95596,     0.95696,     0.95796,     0.95896,     0.95996,\n",
      "           0.96096,     0.96196,     0.96296,     0.96396,     0.96496,     0.96597,     0.96697,     0.96797,     0.96897,     0.96997,     0.97097,     0.97197,     0.97297,     0.97397,     0.97497,     0.97598,     0.97698,     0.97798,     0.97898,     0.97998,     0.98098,     0.98198,     0.98298,     0.98398,\n",
      "           0.98498,     0.98599,     0.98699,     0.98799,     0.98899,     0.98999,     0.99099,     0.99199,     0.99299,     0.99399,     0.99499,       0.996,       0.997,       0.998,       0.999,           1]), array([[          0,           0,           0, ...,           1,           1,           1],\n",
      "       [          0,           0,           0, ...,           1,           1,           1],\n",
      "       [          0,           0,           0, ...,           0,           0,           0],\n",
      "       ...,\n",
      "       [          0,           0,           0, ...,           1,           1,           1],\n",
      "       [          0,           0,           0, ...,           1,           1,           1],\n",
      "       [    0.30385,     0.30385,     0.27605, ...,           1,           1,           1]]), 'Confidence', 'Precision'], [array([          0,    0.001001,    0.002002,    0.003003,    0.004004,    0.005005,    0.006006,    0.007007,    0.008008,    0.009009,     0.01001,    0.011011,    0.012012,    0.013013,    0.014014,    0.015015,    0.016016,    0.017017,    0.018018,    0.019019,     0.02002,    0.021021,    0.022022,    0.023023,\n",
      "          0.024024,    0.025025,    0.026026,    0.027027,    0.028028,    0.029029,     0.03003,    0.031031,    0.032032,    0.033033,    0.034034,    0.035035,    0.036036,    0.037037,    0.038038,    0.039039,     0.04004,    0.041041,    0.042042,    0.043043,    0.044044,    0.045045,    0.046046,    0.047047,\n",
      "          0.048048,    0.049049,     0.05005,    0.051051,    0.052052,    0.053053,    0.054054,    0.055055,    0.056056,    0.057057,    0.058058,    0.059059,     0.06006,    0.061061,    0.062062,    0.063063,    0.064064,    0.065065,    0.066066,    0.067067,    0.068068,    0.069069,     0.07007,    0.071071,\n",
      "          0.072072,    0.073073,    0.074074,    0.075075,    0.076076,    0.077077,    0.078078,    0.079079,     0.08008,    0.081081,    0.082082,    0.083083,    0.084084,    0.085085,    0.086086,    0.087087,    0.088088,    0.089089,     0.09009,    0.091091,    0.092092,    0.093093,    0.094094,    0.095095,\n",
      "          0.096096,    0.097097,    0.098098,    0.099099,      0.1001,      0.1011,      0.1021,      0.1031,      0.1041,     0.10511,     0.10611,     0.10711,     0.10811,     0.10911,     0.11011,     0.11111,     0.11211,     0.11311,     0.11411,     0.11512,     0.11612,     0.11712,     0.11812,     0.11912,\n",
      "           0.12012,     0.12112,     0.12212,     0.12312,     0.12412,     0.12513,     0.12613,     0.12713,     0.12813,     0.12913,     0.13013,     0.13113,     0.13213,     0.13313,     0.13413,     0.13514,     0.13614,     0.13714,     0.13814,     0.13914,     0.14014,     0.14114,     0.14214,     0.14314,\n",
      "           0.14414,     0.14515,     0.14615,     0.14715,     0.14815,     0.14915,     0.15015,     0.15115,     0.15215,     0.15315,     0.15415,     0.15516,     0.15616,     0.15716,     0.15816,     0.15916,     0.16016,     0.16116,     0.16216,     0.16316,     0.16416,     0.16517,     0.16617,     0.16717,\n",
      "           0.16817,     0.16917,     0.17017,     0.17117,     0.17217,     0.17317,     0.17417,     0.17518,     0.17618,     0.17718,     0.17818,     0.17918,     0.18018,     0.18118,     0.18218,     0.18318,     0.18418,     0.18519,     0.18619,     0.18719,     0.18819,     0.18919,     0.19019,     0.19119,\n",
      "           0.19219,     0.19319,     0.19419,      0.1952,      0.1962,      0.1972,      0.1982,      0.1992,      0.2002,      0.2012,      0.2022,      0.2032,      0.2042,     0.20521,     0.20621,     0.20721,     0.20821,     0.20921,     0.21021,     0.21121,     0.21221,     0.21321,     0.21421,     0.21522,\n",
      "           0.21622,     0.21722,     0.21822,     0.21922,     0.22022,     0.22122,     0.22222,     0.22322,     0.22422,     0.22523,     0.22623,     0.22723,     0.22823,     0.22923,     0.23023,     0.23123,     0.23223,     0.23323,     0.23423,     0.23524,     0.23624,     0.23724,     0.23824,     0.23924,\n",
      "           0.24024,     0.24124,     0.24224,     0.24324,     0.24424,     0.24525,     0.24625,     0.24725,     0.24825,     0.24925,     0.25025,     0.25125,     0.25225,     0.25325,     0.25425,     0.25526,     0.25626,     0.25726,     0.25826,     0.25926,     0.26026,     0.26126,     0.26226,     0.26326,\n",
      "           0.26426,     0.26527,     0.26627,     0.26727,     0.26827,     0.26927,     0.27027,     0.27127,     0.27227,     0.27327,     0.27427,     0.27528,     0.27628,     0.27728,     0.27828,     0.27928,     0.28028,     0.28128,     0.28228,     0.28328,     0.28428,     0.28529,     0.28629,     0.28729,\n",
      "           0.28829,     0.28929,     0.29029,     0.29129,     0.29229,     0.29329,     0.29429,      0.2953,      0.2963,      0.2973,      0.2983,      0.2993,      0.3003,      0.3013,      0.3023,      0.3033,      0.3043,     0.30531,     0.30631,     0.30731,     0.30831,     0.30931,     0.31031,     0.31131,\n",
      "           0.31231,     0.31331,     0.31431,     0.31532,     0.31632,     0.31732,     0.31832,     0.31932,     0.32032,     0.32132,     0.32232,     0.32332,     0.32432,     0.32533,     0.32633,     0.32733,     0.32833,     0.32933,     0.33033,     0.33133,     0.33233,     0.33333,     0.33433,     0.33534,\n",
      "           0.33634,     0.33734,     0.33834,     0.33934,     0.34034,     0.34134,     0.34234,     0.34334,     0.34434,     0.34535,     0.34635,     0.34735,     0.34835,     0.34935,     0.35035,     0.35135,     0.35235,     0.35335,     0.35435,     0.35536,     0.35636,     0.35736,     0.35836,     0.35936,\n",
      "           0.36036,     0.36136,     0.36236,     0.36336,     0.36436,     0.36537,     0.36637,     0.36737,     0.36837,     0.36937,     0.37037,     0.37137,     0.37237,     0.37337,     0.37437,     0.37538,     0.37638,     0.37738,     0.37838,     0.37938,     0.38038,     0.38138,     0.38238,     0.38338,\n",
      "           0.38438,     0.38539,     0.38639,     0.38739,     0.38839,     0.38939,     0.39039,     0.39139,     0.39239,     0.39339,     0.39439,      0.3954,      0.3964,      0.3974,      0.3984,      0.3994,      0.4004,      0.4014,      0.4024,      0.4034,      0.4044,     0.40541,     0.40641,     0.40741,\n",
      "           0.40841,     0.40941,     0.41041,     0.41141,     0.41241,     0.41341,     0.41441,     0.41542,     0.41642,     0.41742,     0.41842,     0.41942,     0.42042,     0.42142,     0.42242,     0.42342,     0.42442,     0.42543,     0.42643,     0.42743,     0.42843,     0.42943,     0.43043,     0.43143,\n",
      "           0.43243,     0.43343,     0.43443,     0.43544,     0.43644,     0.43744,     0.43844,     0.43944,     0.44044,     0.44144,     0.44244,     0.44344,     0.44444,     0.44545,     0.44645,     0.44745,     0.44845,     0.44945,     0.45045,     0.45145,     0.45245,     0.45345,     0.45445,     0.45546,\n",
      "           0.45646,     0.45746,     0.45846,     0.45946,     0.46046,     0.46146,     0.46246,     0.46346,     0.46446,     0.46547,     0.46647,     0.46747,     0.46847,     0.46947,     0.47047,     0.47147,     0.47247,     0.47347,     0.47447,     0.47548,     0.47648,     0.47748,     0.47848,     0.47948,\n",
      "           0.48048,     0.48148,     0.48248,     0.48348,     0.48448,     0.48549,     0.48649,     0.48749,     0.48849,     0.48949,     0.49049,     0.49149,     0.49249,     0.49349,     0.49449,      0.4955,      0.4965,      0.4975,      0.4985,      0.4995,      0.5005,      0.5015,      0.5025,      0.5035,\n",
      "            0.5045,     0.50551,     0.50651,     0.50751,     0.50851,     0.50951,     0.51051,     0.51151,     0.51251,     0.51351,     0.51451,     0.51552,     0.51652,     0.51752,     0.51852,     0.51952,     0.52052,     0.52152,     0.52252,     0.52352,     0.52452,     0.52553,     0.52653,     0.52753,\n",
      "           0.52853,     0.52953,     0.53053,     0.53153,     0.53253,     0.53353,     0.53453,     0.53554,     0.53654,     0.53754,     0.53854,     0.53954,     0.54054,     0.54154,     0.54254,     0.54354,     0.54454,     0.54555,     0.54655,     0.54755,     0.54855,     0.54955,     0.55055,     0.55155,\n",
      "           0.55255,     0.55355,     0.55455,     0.55556,     0.55656,     0.55756,     0.55856,     0.55956,     0.56056,     0.56156,     0.56256,     0.56356,     0.56456,     0.56557,     0.56657,     0.56757,     0.56857,     0.56957,     0.57057,     0.57157,     0.57257,     0.57357,     0.57457,     0.57558,\n",
      "           0.57658,     0.57758,     0.57858,     0.57958,     0.58058,     0.58158,     0.58258,     0.58358,     0.58458,     0.58559,     0.58659,     0.58759,     0.58859,     0.58959,     0.59059,     0.59159,     0.59259,     0.59359,     0.59459,      0.5956,      0.5966,      0.5976,      0.5986,      0.5996,\n",
      "            0.6006,      0.6016,      0.6026,      0.6036,      0.6046,     0.60561,     0.60661,     0.60761,     0.60861,     0.60961,     0.61061,     0.61161,     0.61261,     0.61361,     0.61461,     0.61562,     0.61662,     0.61762,     0.61862,     0.61962,     0.62062,     0.62162,     0.62262,     0.62362,\n",
      "           0.62462,     0.62563,     0.62663,     0.62763,     0.62863,     0.62963,     0.63063,     0.63163,     0.63263,     0.63363,     0.63463,     0.63564,     0.63664,     0.63764,     0.63864,     0.63964,     0.64064,     0.64164,     0.64264,     0.64364,     0.64464,     0.64565,     0.64665,     0.64765,\n",
      "           0.64865,     0.64965,     0.65065,     0.65165,     0.65265,     0.65365,     0.65465,     0.65566,     0.65666,     0.65766,     0.65866,     0.65966,     0.66066,     0.66166,     0.66266,     0.66366,     0.66466,     0.66567,     0.66667,     0.66767,     0.66867,     0.66967,     0.67067,     0.67167,\n",
      "           0.67267,     0.67367,     0.67467,     0.67568,     0.67668,     0.67768,     0.67868,     0.67968,     0.68068,     0.68168,     0.68268,     0.68368,     0.68468,     0.68569,     0.68669,     0.68769,     0.68869,     0.68969,     0.69069,     0.69169,     0.69269,     0.69369,     0.69469,      0.6957,\n",
      "            0.6967,      0.6977,      0.6987,      0.6997,      0.7007,      0.7017,      0.7027,      0.7037,      0.7047,     0.70571,     0.70671,     0.70771,     0.70871,     0.70971,     0.71071,     0.71171,     0.71271,     0.71371,     0.71471,     0.71572,     0.71672,     0.71772,     0.71872,     0.71972,\n",
      "           0.72072,     0.72172,     0.72272,     0.72372,     0.72472,     0.72573,     0.72673,     0.72773,     0.72873,     0.72973,     0.73073,     0.73173,     0.73273,     0.73373,     0.73473,     0.73574,     0.73674,     0.73774,     0.73874,     0.73974,     0.74074,     0.74174,     0.74274,     0.74374,\n",
      "           0.74474,     0.74575,     0.74675,     0.74775,     0.74875,     0.74975,     0.75075,     0.75175,     0.75275,     0.75375,     0.75475,     0.75576,     0.75676,     0.75776,     0.75876,     0.75976,     0.76076,     0.76176,     0.76276,     0.76376,     0.76476,     0.76577,     0.76677,     0.76777,\n",
      "           0.76877,     0.76977,     0.77077,     0.77177,     0.77277,     0.77377,     0.77477,     0.77578,     0.77678,     0.77778,     0.77878,     0.77978,     0.78078,     0.78178,     0.78278,     0.78378,     0.78478,     0.78579,     0.78679,     0.78779,     0.78879,     0.78979,     0.79079,     0.79179,\n",
      "           0.79279,     0.79379,     0.79479,      0.7958,      0.7968,      0.7978,      0.7988,      0.7998,      0.8008,      0.8018,      0.8028,      0.8038,      0.8048,     0.80581,     0.80681,     0.80781,     0.80881,     0.80981,     0.81081,     0.81181,     0.81281,     0.81381,     0.81481,     0.81582,\n",
      "           0.81682,     0.81782,     0.81882,     0.81982,     0.82082,     0.82182,     0.82282,     0.82382,     0.82482,     0.82583,     0.82683,     0.82783,     0.82883,     0.82983,     0.83083,     0.83183,     0.83283,     0.83383,     0.83483,     0.83584,     0.83684,     0.83784,     0.83884,     0.83984,\n",
      "           0.84084,     0.84184,     0.84284,     0.84384,     0.84484,     0.84585,     0.84685,     0.84785,     0.84885,     0.84985,     0.85085,     0.85185,     0.85285,     0.85385,     0.85485,     0.85586,     0.85686,     0.85786,     0.85886,     0.85986,     0.86086,     0.86186,     0.86286,     0.86386,\n",
      "           0.86486,     0.86587,     0.86687,     0.86787,     0.86887,     0.86987,     0.87087,     0.87187,     0.87287,     0.87387,     0.87487,     0.87588,     0.87688,     0.87788,     0.87888,     0.87988,     0.88088,     0.88188,     0.88288,     0.88388,     0.88488,     0.88589,     0.88689,     0.88789,\n",
      "           0.88889,     0.88989,     0.89089,     0.89189,     0.89289,     0.89389,     0.89489,      0.8959,      0.8969,      0.8979,      0.8989,      0.8999,      0.9009,      0.9019,      0.9029,      0.9039,      0.9049,     0.90591,     0.90691,     0.90791,     0.90891,     0.90991,     0.91091,     0.91191,\n",
      "           0.91291,     0.91391,     0.91491,     0.91592,     0.91692,     0.91792,     0.91892,     0.91992,     0.92092,     0.92192,     0.92292,     0.92392,     0.92492,     0.92593,     0.92693,     0.92793,     0.92893,     0.92993,     0.93093,     0.93193,     0.93293,     0.93393,     0.93493,     0.93594,\n",
      "           0.93694,     0.93794,     0.93894,     0.93994,     0.94094,     0.94194,     0.94294,     0.94394,     0.94494,     0.94595,     0.94695,     0.94795,     0.94895,     0.94995,     0.95095,     0.95195,     0.95295,     0.95395,     0.95495,     0.95596,     0.95696,     0.95796,     0.95896,     0.95996,\n",
      "           0.96096,     0.96196,     0.96296,     0.96396,     0.96496,     0.96597,     0.96697,     0.96797,     0.96897,     0.96997,     0.97097,     0.97197,     0.97297,     0.97397,     0.97497,     0.97598,     0.97698,     0.97798,     0.97898,     0.97998,     0.98098,     0.98198,     0.98298,     0.98398,\n",
      "           0.98498,     0.98599,     0.98699,     0.98799,     0.98899,     0.98999,     0.99099,     0.99199,     0.99299,     0.99399,     0.99499,       0.996,       0.997,       0.998,       0.999,           1]), array([[          0,           0,           0, ...,           0,           0,           0],\n",
      "       [          0,           0,           0, ...,           0,           0,           0],\n",
      "       [          0,           0,           0, ...,           0,           0,           0],\n",
      "       ...,\n",
      "       [          0,           0,           0, ...,           0,           0,           0],\n",
      "       [          0,           0,           0, ...,           0,           0,           0],\n",
      "       [   0.015481,    0.015481,    0.010974, ...,           0,           0,           0]]), 'Confidence', 'Recall']]\n",
      "fitness: np.float64(0.002593371328759018)\n",
      "keys: ['metrics/precision(B)', 'metrics/recall(B)', 'metrics/mAP50(B)', 'metrics/mAP50-95(B)']\n",
      "maps: array([          0,   0.0024731,           0,           0,           0,           0,           0,           0,           0,   0.0024731,           0,           0,   0.0024731,   0.0024731,           0,           0,           0,           0,           0,           0,           0,           0,           0,           0,\n",
      "         0.0024731,           0,           0,   0.0024731,   0.0024731,   0.0024731,           0,           0,           0,           0,           0,   0.0024731,   0.0024731,           0,           0,           0,           0,           0,           0,           0,           0,           0,           0,           0,\n",
      "                 0,           0,           0,           0,           0,           0,           0,   0.0024731,    0.029877,   0.0024731,           0,     0.22799,           0,           0,           0,           0,   0.0024731,   0.0024731,           0,           0,           0,           0,   0.0024731,           0,\n",
      "                 0,           0,           0,           0,           0,           0,           0,           0,           0,           0,           0,           0,   0.0012601,           0,           0,   0.0011912,    0.020086,           0,           0,   0.0083811,           0,           0,           0,           0,\n",
      "                 0,           0,           0,           0,   0.0024731,           0,           0,           0,           0,           0,           0,           0,           0,           0,           0,           0,           0,           0,           0,           0,   0.0030729,           0,           0,           0,\n",
      "                 0,           0,           0,           0,           0,   0.0024731,   0.0024731,           0,   0.0024731,   0.0024731,   0.0024731,   0.0024731,           0,           0,    0.013651,           0,           0,           0,           0,           0,           0,           0,           0,           0,\n",
      "                 0,           0,   0.0016656,           0,           0,           0,           0,           0,           0,           0,   0.0024731,           0,           0,           0,           0,           0,           0,   0.0024731,           0,           0,           0,           0,           0,           0,\n",
      "                 0,   0.0024731,   0.0024731,           0,           0,           0,           0,           0,           0,           0,           0,           0,           0,           0,           0,   0.0024731,   0.0024731,           0,           0,           0,   0.0024731,           0,           0,    0.021726,\n",
      "                 0,           0,           0,           0,           0,           0,           0,           0,           0,           0,           0,           0,           0,           0,   0.0024731,           0,   0.0024731,           0,           0,           0,   0.0024731,           0,     0.12368,   0.0024731])\n",
      "names: {0: '3068320055008-nuoc-loc-evivan-chai-500ml', 1: '3499320013048-sua-rua-mat-cetaphil-diu-nhe-khong-xa-phong-500ml-(moi)', 2: '3760128640607-sua-tuoi-tiet-trung-promess-nguyen-kem-hop-1l', 3: '4897036693162-nuoc-tang-luc-monster-loco-vi-xoai-lon-355ml', 4: '4897036693162-nuoc-tang-luc-monster-mango-loco-355ml', 5: '4901872447008-sap-vuot-toc-uno-hard-giu-nep-tu-nhien-80g', 6: '4902102014281-nuoc-ngot-cocacola-vi-nguyen-ban-lon-500ml', 7: '4902102038720-nuoc-ngot-fanta-nap-van-lon-300ml', 8: '4902430805322-nuoc-rua-tay-diet-khuan-safeguard-trang-tinh-khiet-450ml', 9: '4902806117905-sua-rua-mat-gatsby-facial-wash-acne-care-foam-tuyp-130gtri-mun', 10: '5054563022592-kem-danh-rang-sensodyne-giam-e-buotlam-sang-rang-100g', 11: '5054563023803-kem-danh-rang-sensodyne-rapid-action-giam-e-buot-nhanh-100g', 12: '5391516873239-bia-magners-pear-cider-4-5-chai-330ml', 13: '6902395843467-nuoc-tay-trang-mat-moi-maybelline-150ml', 14: '6920354827792-kem-danh-rang-colgate-maxfresh-tinh-chat-than-tre-225g-+-ban-chai-long-to', 15: '6920354828393-kem-danh-rang-colgate-muoi-himalaya-sang-khoe-180g', 16: '6920354836930-kem-danh-rang-colgate-optic-white-cong-nghe-sac-tim-100g', 17: '6920354837180-kem-danh-rang-colgate-maxwhite-bac-ha-170g-hop', 18: '809939073648-soda-sua-huong-vi-chuoi-milkis-banana', 19: '8411640001098-ruou-vodka-mg-spirit-pineapple-5.5-vol-275ml', 20: '8710908371509-nuoc-tay-trang-simple-lam-sach-trang-diem-vuot-troi-400ml', 21: '8801051128178-sua-tam-on:-the-body-duong-am-huong-hoa-dien-vi-900g', 22: '8801382123446-nuoc-gao-han-quoc-loai-500ml', 23: '8809351955944-sua-rua-mat-dabo-chiet-xuat-lo-hoi-3-trong-1-180ml', 24: '8809696351944-mat-na-jmsolution-hyaluronic-acid-duong-sang-cap-am-30ml', 25: '8850006932322-kem-danh-rang-colgate-maxfresh-huong-bac-ha-225g-+-ban-chai-long-to', 26: '8850006932346-kem-danh-rang-colgate-maxfresh-huong-tra-xanh-225g-+-ban-chai-long-to', 27: \"8850007060321-dau-duong-am-mat-xa-johnson's-baby-oil-200ml\", 28: \"8850007090281-sua-tam-johnson's-chua-tinh-chat-duong-am-tu-sua-va-gao-200ml\", 29: '8850029036434-nuoc-tay-trang-cham-soc-da-mun-nivea-derma-acne-care-micellar-400ml', 30: '8850090113164-kem-danh-rang-sensodyne-cool-gel-mat-lanh,-giam-e-buot-160g', 31: '8850227028927-sua-dua-vi-chuoi-thai-coco-300ml', 32: '8850228003541-nuoc-tang-luc-warrior-huong-dau-chai-330ml', 33: '8850228007617-nuoc-tang-luc-redbull-250ml', 34: '8851013740498-nuoc-ep-tipco-trai-cay-rau-cu-hop-1l', 35: '8851123710084-sua-tam-goi-2in1-cho-be-babi-mild-white-sakura-chiet-xuat-la-anh-dao-380ml', 36: '8851123740593-phan-thom-duong-am-cho-be-babi-mild-white-sakura-160g', 37: \"8851932474245-nuoc-tay-trang-pond's-vitamin-va-hoa-hong-sang-da-chai-400ml\", 38: '8888589308920-tra-bi-dao-winter-melon-jj-lon-300ml', 39: '8934563106140-mi-hao-hao-hai-san-goi-71g', 40: '8934563122201-mi-hao-hao-vi-tom-chua-cay-goi-100g', 41: '8934563138165-mi-hao-hao-tom-chua-cay-goi-75g', 42: '8934563183158-mi-hao-hao-sa-te-hanh-tim-75g', 43: '8934563198152-mi-hao-hao-chay-vi-rau-nam-74gr', 44: '8934563651138-mi-hao-hao,-vi-tom-chua-cayacecook,-coc-(67g)', 45: '8934564600838-tra-xanh-c2-huong-chanh-tuyet-bac-ha-chai-455ml', 46: '8934564600883-tra-xanh-c2-huong-chanh-tuyet-bac-ha-chai-455ml', 47: '8934564660016-nuoc-tang-luc-rong-do-huong-dau-330ml', 48: '8934588012112-nuoc-ngot-pepsi-cola-320ml', 49: '8934588063060-nuoc-loc-aquafina-chai-1-5l', 50: '8934588233074-nuoc-tang-luc-sting-vi-dau-tay-do-330ml', 51: '8934588640445-ca-phe-sua-boss-lon-180ml', 52: '8934588672118-nuoc-ngot-pepsi-khong-calo-vi-chanh-320ml', 53: '8934588870552-tra-olong-teaplus-450ml', 54: '8934662308865-nuoc-rua-tay-kleen-huong-lavender-chai-500ml', 55: '8934663102516-mi-vi-huong-chay-goi-65g', 56: '8934669380260-nuoc-rua-chen-winmart-home-3.5l-(binh)', 57: '8934669380277-nuoc-rua-chen-winmart-home-(tui)', 58: '8934669380277-nuoc-rua-chen-winmart-home-3.5l-(tui)', 59: '8934669493540-nuoc-rua-chen-lix-sieu-sach-tra-xanh-binh-3.6kg', 60: '8934673101097-sua-tuoi-tiet-trung-tiet-trung-vinamilk-khong-duong-bich-220ml', 61: '8934673573399-sua-tuoi-tiet-trung-co-duong,-100%-sua-tuoivinamilk-(1lit).', 62: '8934673700863-nuoc-ep-kiwi-tao-vfresh-1lhop', 63: '8934673701402-nuoc-dao-necta-vinamilk-hop-1l', 64: '8934679941826-mi-gau-do-tom-chua-cay-goi-63g', 65: '8934679943325-mi-gau-do-tom-va-ga-goi-63g', 66: '8934683008614-ca-phe-sua-vinacafe-3-in-1-gold-tui-480g-24-goi-tui', 67: '8934683008867-nuoc-tang-luc-wake-up-247-vi-ca-phe-330ml', 68: '8934683009444-ca-phe-hoa-tan-vinacafe-gold-orinal-3-trong-1-hop-18-goi-20g', 69: '8934683009925-ca-phe-sua-da-vinacafe-chat-hop-10-goi-24g', 70: '8934692040056-bia-tuborg-ice-330ml', 71: '8934692090013-bia-1664-blanc-5%-abv-chai-330ml', 72: '8934692100316-nuoc-tao-len-men-vi-tao-somersby-4.5%-abv-lon-330ml', 73: '8934707029182-hat-nem-knorr-thit-than-xuong-ong-va-tuy-900g', 74: '8934716010300-nuoc-loc-sapuwa-chai-1-5l', 75: '8934774000800-nuoc-khoang-kiem-vikoda-chai-1.5l', 76: '8934804020402-nuoc-tuong-maggi-dau-nanh-dam-dac-700ml', 77: '8934804022307-dau-hao-maggi-chai-530g', 78: '8934804026817-nuoc-tuong-maggi-dau-nanh-thanh-diu-chai-700ml', 79: '8934804027333-tra-chanh-nestea-hoa-tan-hop-195g-15-goi-x-13g', 80: '8934804028064-ca-phe-hoa-tan-nescafe-3in1-vi-nguyen-ban-tui-782g-(17g-x-46-goi)', 81: '8934804038131-tra-hoa-qua-nestea-hoa-tan-hop-144g-12-goi-x-12g', 82: '8934804040523-tra-vai-va-huong-hoa-lai-nestea-hoa-tan-hop-144g-12-goi-x-12g', 83: '8934822111298-nuoc-trai-cay-len-men-strongbow-gold-apple-4-5-abv-lon-320ml', 84: '8934822112332-bia-tiger-lon-cao-330ml-lon', 85: '8934822121297-nuoc-trai-cay-len-men-strongbow-red-beries-4.5%-abv-lon-320ml', 86: '8934822123253-bia-tiger-lager-4-6-abv-lon-250ml', 87: '8934822201272-bia-heineken-silver-lon-250ml', 88: '8934822212339-bia-heineken-lon-cao-330ml', 89: '8934822220112-bia-viet-lon-330ml', 90: '8934822361211-bia-heineken-khong-con-lon-330ml', 91: '8934822431211-bia-tiger-soju-infused-lager-wonder-melon-vi-dua-luoi-lon-330ml', 92: '8934822451295-nuoc-trai-cay-len-men-strongbow-vi-thom-luu-3.5%-lon-330ml', 93: '8934822801335-bia-tiger-crystal-4-6-phan-tram-lon-330ml', 94: '8934822823252-bia-tiger-crystal-4.6%-abv-lon-250ml', 95: '8934839128081-kem-danh-rang-p/s-muoi-hong-hoa-cuc-tuyp-230g', 96: '8934839128654-kem-danh-rang-closeup-dau-quat-detox-180g', 97: '8934840000093-nuoc-khoang-chanh-lemona-chai-500ml', 98: '8934840335560-tra-viet-quat-atiso-do-nestea-hop-120g', 99: '8934841903362-sua-tiet-trung-dutch-lady-ha-lan-huong-socola-bich-180mlbich', 100: '8934868153733-sua-duong-the-vaseline-ngan-ngua-lao-hoa-350ml', 101: '8934868156871-dau-xa-sunsilk-mem-muot-dieu-ky-320g', 102: '8934868166320-nuoc-rua-tay-lifebuoy-cong-thuc-vitamin+-khu-mui-huong-chanh-chai-450g', 103: '8934868166344-nuoc-rua-tay-lifebouy-450ml', 104: '8934868166351-nuoc-rua-tay-lifebuoy-matcha-va-lo-hoichai-450g', 105: '8934868166825-dau-goi-sunsilk-natural-duong-ngan-gay-rung-650g', 106: '8934868166870-dau-goi-sunsilk-ong-muot-rang-ngoi-chai-650g', 107: '8934868166924-dau-goi-sunsilk-mem-muot-dieu-ky-chai-650g', 108: '8934868167938-dau-goi-tresemme-keratin-smooth-vao-nep-suon-muot-chai-480g', 109: '8934868170983-nuoc-rua-tay-lifebuoy-cong-thuc-vitamin+-khu-mui-huong-chanh-tui-400g', 110: '8934868170990-nuoc-rua-tay-lifebuoy-vitamin-sua-duong-am-tui-1kg', 111: '8934868171829-kem-tay-sunlight-chuyen-dung-sieu-sach-sieu-sang-chai-690g', 112: '8934868171843-nuoc-lau-da-nang-sunlight-chanh-va-sa-chai-500ml', 113: '8934868171850-nuoc-lau-kinh-sunlight-sieu-nhanh-sach-trong-suot-chai-520ml', 114: '8934868180470-dau-goi-dove-biotin-ngan-gay-rung-toc-880g', 115: '8934868180531-dau-goi-dove-ceramide-phuc-hoi-hu-ton-880g', 116: '8934868184171-nuoc-giat-omo-matic-chuyen-gia-cua-truoc-ngan-ngua-mui-am-moc-tui-2.8kg', 117: '8934868185093-dau-xa-sunsilk-natural-duong-phuc-hoi-330ml', 118: '8934868186540-sua-tam-lifebuoy-chiet-xuat-cica-va-muoi-hong-ngua-tham-chai-800g', 119: '8934868188612-sua-tam-duong-the-dove-tuoi-mat,-da-sang-khoai-500g', 120: '8934868190394-nuoc-giat-comfort-huong-hoa-anh-dao-va-dao-tuoi-tui-3kg', 121: '8935001214274-tra-bi-dao-wonderfarm-lon-310ml', 122: '8935001215028-tra-tea-break-milk-350ml', 123: '8935001282297-sua-trai-cay-kirin-latte-dau-chai-440ml', 124: '8935005801012-nuoc-loc-lavie-chai-1-5l', 125: '8935006531581-kem-rua-mat-oxy-lam-sach-sau-sang-khoai-100g', 126: '8935006531956-kem-rua-mat-oxy-co-hat-lam-sach-sau-giam-nhon-100g', 127: '8935006532755-kem-rua-mat-acnes-vitamin-lam-sang-da,-mo-seo-tham-50g', 128: '8935006538634-dau-tay-trang-hada-labo-sach-sau-duong-am-toi-uu-200ml', 129: '8935006544864-dung-dich-tay-trang-acnes-cho-da-mun-200ml', 130: '8935006547650-sua-rua-mat-oxy-oil-hydrating-wash-cho-da-thuong,-kho-nhay-cam-100g', 131: '8935015510522-duong-vang-khoang-chat-bien-hoa-goi-1kg', 132: '8935015513189-duong-vang-thien-nhien-bien-hoa-gold-tui-1kg', 133: '8935018801641-khan-bep-da-nang-pulppy-classic-2-lop-loc-2-cuon', 134: '8935024123287-ca-phe-sua-hoa-tan-g7-3in1-hop-336g-(16g-x-21-goi)', 135: '8935024170403-cappuccino-dua-trung-nguyen-216g-18g-x-12-goi', 136: '8935024170519-ca-phe-trung-nguyen-legend-classic-hop-357g-17g-x-21-goi', 137: '8935024170632-ca-phe-g7-gold-rumi-252g', 138: '8935030221359-sua-tam-on:-the-body-duong-am-huong-thu-gian-1kg', 139: '8935039570700-ca-phe-sua-robusta-birdy-lon-170ml', 140: '8935049017295-sua-tuoi-tiet-trung-co-duong-nutimilk-bich-220ml', 141: '8935049018728-sua-trai-cay-nuvi-cam-tui-110mltui', 142: '8935049500247-nuoc-giai-khat-thums-up-charged-huong-dau-rung-chai-330ml', 143: '8935049500445-nuoc-ngot-fanta-chai-1.5l', 144: '8935049501190-nuoc-tra-fuze-tea-vi-chanh-sa-450ml', 145: '8935049501374-nuoc-ngot-cocacola-vi-nguyen-ban-chai-600ml', 146: '8935049501503-nuoc-ngot-coca-cola-vi-nguyen-ban-lon-320ml', 147: '8935049501541-nuoc-ngot-cocacola-plus-lon-320ml', 148: '8935049501572-nuoc-ngot-fanta-vi-cam-lon-320ml', 149: '8935049501718-nuoc-ngot-sprite-lon-320ml', 150: '8935049510604-nuoc-ngot-sprite-chai-320ml', 151: '8935049510857-nuoc-loc-dasani-chai-1.5l', 152: '8935049511038-sua-trai-cay-nutriboost-cam-chai-1l', 153: '8935136862319-sua-rua-mat-xmen-go-refresh-suc-manh-mat-lanh-100g', 154: '8935136863378-sap-vuot-toc-x-men-salon-solutions-clay-70g', 155: '8935136864375-dau-goi-lashe-superfood-phuc-hoi-hu-ton-640g', 156: '8935136865648-sua-tam-purite-sang-min-da-huong-hoa-anh-dao-1.1l', 157: '8935136865709-sua-tam-purite-duong-da-mem-min-huong-hoa-hong-rose-chai-850ml', 158: '8935137601122-tra-xanh-thai-nguyen-100g', 159: '8935212830560-nuoc-lau-be-mat-da-nang-maxkleen-chai-520ml', 160: '8935328600156-tra-xanh-tui-loc-phuc-long-2g-x-hop-25-goi', 161: '8936000440862-bia-ha-noi-lon-330ml', 162: '8936010530072-hong-tra-tui-loc-cozy-50g', 163: '8936010530713-tra-dao-cozy-hoa-tan-hop-16-goi-x-15g', 164: '8936010530881-tra-chanh-cozy-hoa-tan-hop-240g-16-goi-x-15g', 165: '8936013254951-nuoc-rua-kinh-gift-540ml', 166: '8936020760124-khan-bep-elene-2-cuon', 167: '8936036201604-bia-hoegaarden-rosee-chai-248ml', 168: '8936048470012-mi-3-mien-tom-chua-cay-65g', 169: '8936048470036-mi-3-mien-mi-chay-la-da-65g-(goi)', 170: '8936048470524-mi-tom-3-mien-gold-vi-bo-ham-rau-thom-75g', 171: '8936048471248-mi-tom-chua-cay-dac-biet-3-mien-gold-goi-75g', 172: '8936048473921-mi-3-mien-ga-soi-pho', 173: '8936059330367-ca-phe-sua-3-in-1-valentina-160g-(hop-10-goi)', 174: '8936063370359-nuoc-rua-tay-dr.clean-daulo-500ml', 175: '8936067892789-tra-viet-quat-tvt-450mlchai', 176: '8936069601846-nuoc-lau-san-suzy-huong-que+nhai-1l', 177: '8936069606667-nuoc-rua-chen-suzy-huong-bac-ha-2.05l', 178: '8936079140021-ca-phe-sua-highland-coffee-lon-185ml', 179: '8936089171312-ca-phe-cappuccino-dua-archcafe-20g-x-12-goi', 180: '8936094291005-bia-budweiser-5-lon-330ml', 181: '8936094291401-bia-budweiser-aluminum-chai-355ml', 182: '8936122200276-ca-phe-mr.brown-blue-mountain-240ml', 183: '8936123410162-sua-tam-goi-tre-em-lactacyd-milky-bao-ve-da-toc-be-500ml', 184: '8936126480414-ca-phe-hoa-tan-l-elegant-mocha-cappuccino-12-goi-300g', 185: '8936127790031-nuoc-loc-th-true-water-chai-1-5l', 186: '8936127794206-nuoc-uong-sua-trai-cay-th-true-juice-milk-huong-viet-quat-300ml', 187: '8936127796514-tra-dao-tu-nhien-th-true-tea-chai-350ml', 188: '8936135430226-ca-phe-hoa-tan-3in1-mr.-viet-hop-15-goi-17g', 189: '8936136163314-nuoc-mam-nam-ngu-3-trong-1-750ml', 190: '8936156730022-xit-lau-kinh-blue-650mlchai', 191: '8936156730718-nuoc-xa-vai-blue-dam-dac-huong-thanh-xuan-tui-3.2l', 192: '8936185350130-nuoc-kombucha-cam-dao-250ml', 193: '8936185351427-nuoc-trai-cay-len-men-chill-cocktail-vi-dao-chai-275ml', 194: '8936185351816-chill-cocktail-sakura-vi-dua-hau-sake-lon-330ml', 195: '8936191270057-ca-phe-cappuccino-dua-just-viet-hop-hop-10-goi-x-17g', 196: '8936193070013-tra-xanh-khong-do-500ml', 197: '8936193070075-nuoc-tang-luc-number-1-chai-330ml', 198: '8936199810026-cafe-the-coffee-house-sua-da-22gx10-goi-(hop)', 199: '8936203350043-sua-dinh-duong-tiet-trung-vpmilk-omega-it-duong-bich-220ml', 200: '8936221042906-tra-bupnon-tea365-huong-mat-ong-500ml', 201: '8936721790017-nuoc-loc-th-true-water-chai-500ml', 202: '8938507729044-khan-giay-da-nang-2-lop-2-cuon-premier', 203: '8938509472269-khan-giay-da-nang-teddy-bear', 204: '8938523050382-ca-phe-chon-hoa-tan-ban-fb-200g-(20g-x-10-goi)', 205: '8938530527020-nuoc-huong-mia-miaqua-chai-500ml', 206: '8992222052443-gatsby-water-gloss-super-hardgel-vuot-toc-cung-170g', 207: '8992222053129-wax-tao-kieu-toc-gatsby-styling-wax-75g', 208: '8992222055567-wax-vuot-toc-gatsby-classy-dry-75g', 209: '8994993018222-sua-rua-mat-garnier-3-trong-1-giam-munsang-da-100ml-(moi)', 210: '8997035601321-nuoc-uong-bu-dien-giai-bo-sung-ion-pocari-sweat-chai-900ml', 211: '9008700214872-juice-immune-active-fruit-juice-by-rauch-1l', 212: \"9555063007073-sua-tam-goi-em-be-khong-cay-mat-be-love-l'affair-malaysia-chai-500ml-cam\", 213: '9556111620282-nuoc-rua-tay-dettol-khang-khuan-chai-250g', 214: 'object', 215: 'unknown'}\n",
      "plot: True\n",
      "results_dict: {'metrics/precision(B)': np.float64(0.0052673172269292025), 'metrics/recall(B)': np.float64(0.003620160890925821), 'metrics/mAP50(B)': np.float64(0.003675857297219893), 'metrics/mAP50-95(B)': np.float64(0.002473095110041143), 'fitness': np.float64(0.002593371328759018)}\n",
      "save_dir: PosixPath('/Volumes/Cucumber/Projects/item-identification/runs/detect/yolov8-finetune234')\n",
      "speed: {'preprocess': 0.45792153641821154, 'inference': 98.9255946326287, 'loss': 0.00028110488298221465, 'postprocess': 3.8051629009778454}\n",
      "task: 'detect'\n"
     ]
    }
   ],
   "source": [
    "metrics = model.val(\n",
    "    data=\"/Volumes/Cucumber/Projects/datasets/hcmus-iid-yolo/my_custom_dataset.yaml\",\n",
    "    split=\"test\"  # or \"val\" for validation\n",
    ")\n",
    "print(metrics)"
   ]
  },
  {
   "cell_type": "markdown",
   "metadata": {},
   "source": [
    "### Load model"
   ]
  },
  {
   "cell_type": "code",
   "execution_count": 4,
   "metadata": {},
   "outputs": [],
   "source": [
    "import mlflow\n",
    "from ultralytics import YOLO\n"
   ]
  },
  {
   "cell_type": "code",
   "execution_count": 6,
   "metadata": {},
   "outputs": [
    {
     "name": "stderr",
     "output_type": "stream",
     "text": [
      "/Volumes/Cucumber/Projects/item-identification/.venv/lib/python3.9/site-packages/tqdm/auto.py:21: TqdmWarning: IProgress not found. Please update jupyter and ipywidgets. See https://ipywidgets.readthedocs.io/en/stable/user_install.html\n",
      "  from .autonotebook import tqdm as notebook_tqdm\n",
      "Downloading artifacts: 100%|██████████| 1/1 [00:01<00:00,  1.43s/it]\n"
     ]
    }
   ],
   "source": [
    "run_id = \"7ae84e1e706942c999eb73dff6cb3888\"\n",
    "weights = mlflow.artifacts.download_artifacts(f\"runs:/{run_id}/weights/best.pt\")\n",
    "model = YOLO(weights)"
   ]
  },
  {
   "cell_type": "code",
   "execution_count": 7,
   "metadata": {},
   "outputs": [
    {
     "name": "stdout",
     "output_type": "stream",
     "text": [
      "\n",
      "image 1/1 /Users/keith/Desktop/val_1.jpg: 640x640 1 unknown, 113.8ms\n",
      "Speed: 4.0ms preprocess, 113.8ms inference, 6.9ms postprocess per image at shape (1, 3, 640, 640)\n"
     ]
    }
   ],
   "source": [
    "result = model(\"/Users/keith/Desktop/val_1.jpg\")\n",
    "result[0].show()"
   ]
  },
  {
   "cell_type": "code",
   "execution_count": 8,
   "metadata": {},
   "outputs": [
    {
     "name": "stdout",
     "output_type": "stream",
     "text": [
      "\n",
      "image 1/1 /Users/keith/Desktop/val_1 2.jpg: 640x480 166 unknowns, 78.1ms\n",
      "Speed: 2.5ms preprocess, 78.1ms inference, 1.9ms postprocess per image at shape (1, 3, 640, 480)\n"
     ]
    }
   ],
   "source": [
    "result = model(\"/Users/keith/Desktop/val_1 2.jpg\")\n",
    "result[0].show()"
   ]
  },
  {
   "cell_type": "code",
   "execution_count": 9,
   "metadata": {},
   "outputs": [
    {
     "name": "stdout",
     "output_type": "stream",
     "text": [
      "\n",
      "image 1/1 /Users/keith/Desktop/val_1 2 copy.jpg: 640x480 174 unknowns, 83.7ms\n",
      "Speed: 2.7ms preprocess, 83.7ms inference, 1.0ms postprocess per image at shape (1, 3, 640, 480)\n"
     ]
    }
   ],
   "source": [
    "result = model(\"/Users/keith/Desktop/val_1 2 copy.jpg\")\n",
    "result[0].show()"
   ]
  },
  {
   "cell_type": "code",
   "execution_count": 10,
   "metadata": {},
   "outputs": [
    {
     "name": "stdout",
     "output_type": "stream",
     "text": [
      "\n",
      "image 1/1 /Users/keith/Desktop/b412e7f6044b851b3189024b3c61efd0.jpeg: 480x640 (no detections), 90.4ms\n",
      "Speed: 4.0ms preprocess, 90.4ms inference, 0.5ms postprocess per image at shape (1, 3, 480, 640)\n"
     ]
    }
   ],
   "source": [
    "result = model(\"/Users/keith/Desktop/b412e7f6044b851b3189024b3c61efd0.jpeg\")\n",
    "result[0].show()"
   ]
  }
 ],
 "metadata": {
  "kernelspec": {
   "display_name": ".venv",
   "language": "python",
   "name": "python3"
  },
  "language_info": {
   "codemirror_mode": {
    "name": "ipython",
    "version": 3
   },
   "file_extension": ".py",
   "mimetype": "text/x-python",
   "name": "python",
   "nbconvert_exporter": "python",
   "pygments_lexer": "ipython3",
   "version": "3.9.6"
  }
 },
 "nbformat": 4,
 "nbformat_minor": 2
}
